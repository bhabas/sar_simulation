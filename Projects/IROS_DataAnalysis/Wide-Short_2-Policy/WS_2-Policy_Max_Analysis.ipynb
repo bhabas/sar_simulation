{
 "metadata": {
  "language_info": {
   "codemirror_mode": {
    "name": "ipython",
    "version": 3
   },
   "file_extension": ".py",
   "mimetype": "text/x-python",
   "name": "python",
   "nbconvert_exporter": "python",
   "pygments_lexer": "ipython3",
   "version": "3.8.5-final"
  },
  "orig_nbformat": 2,
  "kernelspec": {
   "name": "python38564bit0282941c0ba945238a13db8c20574d9c",
   "display_name": "Python 3.8.5 64-bit",
   "language": "python"
  }
 },
 "nbformat": 4,
 "nbformat_minor": 2,
 "cells": [
  {
   "source": [
    "# Module Imports"
   ],
   "cell_type": "markdown",
   "metadata": {}
  },
  {
   "cell_type": "code",
   "execution_count": 22,
   "metadata": {},
   "outputs": [],
   "source": [
    "## IMPORT MODULES\n",
    "import pandas as pd\n",
    "import numpy as np\n",
    "from sklearn import linear_model\n",
    "from scipy.interpolate import griddata\n",
    "import scipy.odr\n"
   ]
  },
  {
   "cell_type": "code",
   "execution_count": 23,
   "metadata": {},
   "outputs": [],
   "source": [
    "## IMPORT PLOTTING MODULES\n",
    "import matplotlib.pyplot as plt\n",
    "from mpl_toolkits import mplot3d\n",
    "import matplotlib as mpl\n",
    "from matplotlib import cm\n",
    "%matplotlib widget"
   ]
  },
  {
   "source": [
    "# Dataframe"
   ],
   "cell_type": "markdown",
   "metadata": {}
  },
  {
   "cell_type": "code",
   "execution_count": 24,
   "metadata": {},
   "outputs": [],
   "source": [
    "## FULL DATAFRAME\n",
    "df_raw = pd.read_csv(\"WS_2-Policy_Summary.csv\")\n",
    "\n",
    "## DROP EXTRANEOUS DATAPOINTS\n",
    "# df_raw = df_raw.drop(df_raw[(df_raw['landing_rate']<=0.15) & (df_raw['vz_d']>=2.5)].index)\n",
    "# df_raw = df_raw.drop(df_raw[(df_raw['landing_rate']<=0.15) & (df_raw['vx_d']>=1.0)].index)\n",
    "# df_raw = df_raw.dropna()\n",
    "df_raw = df_raw.drop(df_raw[df_raw['My_d']<-7.7].index)\n",
    "\n",
    "\n",
    "\n",
    "\n",
    "## GROUP RAW DATA BY IC AND FILTER BY MAX LANDING RATE\n",
    "df_raw_max = df_raw.groupby(['vz_d','vx_d']).agg({'landing_rate':\"max\"}).reset_index()\n",
    "idx = df_raw.groupby(['vz_d','vx_d'])['landing_rate'].transform(max) == df_raw['landing_rate']\n",
    "df_max = df_raw[idx].reset_index()\n",
    "\n",
    "\n",
    "## CLEAN RAW DATA\n",
    "df_max['My_d'] = df_max['My_d'].apply(lambda x: np.abs(x)) # Convert My to magnitude\n",
    "df_max['My_d'] = df_max['My_d'].apply(lambda x: 7.7 if x>7.7 else x) # Cap My_d to max possible moment\n",
    "\n",
    "\n"
   ]
  },
  {
   "cell_type": "code",
   "execution_count": 26,
   "metadata": {},
   "outputs": [],
   "source": [
    "# TEMPLATE FOR LINEAR REGRESSION\n",
    "from sklearn.linear_model import LinearRegression\n",
    "\n",
    "def linreg(X ,Y):\n",
    "    # perform multivariate or univariate\n",
    "    # X = [var1 var2]\n",
    "    # y = var3\n",
    "    reg = LinearRegression(normalize=True)\n",
    "    reg.fit(X,Y)\n",
    "\n",
    "    intercept = reg.intercept_ \n",
    "    coef = reg.coef_\n",
    "    \n",
    "    R2 = reg.score(X,Y) # built in function for r^2\n",
    "    \n",
    "    ypred = reg.predict(X) # plot x vs. ypred for line or plane\n",
    "    \n",
    "    return ypred,intercept,coef,R2\n"
   ]
  },
  {
   "source": [
    "# Landing Rate Data"
   ],
   "cell_type": "markdown",
   "metadata": {}
  },
  {
   "cell_type": "code",
   "execution_count": 27,
   "metadata": {},
   "outputs": [
    {
     "output_type": "display_data",
     "data": {
      "text/plain": "Canvas(toolbar=Toolbar(toolitems=[('Home', 'Reset original view', 'home', 'home'), ('Back', 'Back to previous …",
      "application/vnd.jupyter.widget-view+json": {
       "version_major": 2,
       "version_minor": 0,
       "model_id": "08001a31959847e9b0c5ae2c7e70c541"
      }
     },
     "metadata": {}
    }
   ],
   "source": [
    "## LANDING RATE DATA (RAW)\n",
    "fig = plt.figure()\n",
    "ax = fig.add_subplot(111,projection=\"3d\")\n",
    "\n",
    "# DEFINE VARIABLES\n",
    "X = df_max['vx_d']\n",
    "Y = df_max['vz_d']\n",
    "Z = df_max['landing_rate']\n",
    "\n",
    "\n",
    "# CREATE PLOTS AND COLOR BAR\n",
    "ax.scatter(X,Y,Z)\n",
    "\n",
    "\n",
    "# PLOT LIMITS AND INFO\n",
    "ax.set_zlim(0,1)\n",
    "\n",
    "ax.set_xlabel('X-Velocity (m/s)')\n",
    "ax.set_ylabel('Z-Velocity (m/s)')\n",
    "ax.set_zlabel('Landing Rate (%)')\n",
    "ax.set_title('Optimal Policy Landing Rate')\n",
    "\n",
    "plt.show()"
   ]
  },
  {
   "cell_type": "code",
   "execution_count": 28,
   "metadata": {},
   "outputs": [
    {
     "output_type": "display_data",
     "data": {
      "text/plain": "Canvas(toolbar=Toolbar(toolitems=[('Home', 'Reset original view', 'home', 'home'), ('Back', 'Back to previous …",
      "application/vnd.jupyter.widget-view+json": {
       "version_major": 2,
       "version_minor": 0,
       "model_id": "b810171fe3c64a9e9bae650b58e5f9bd"
      }
     },
     "metadata": {}
    },
    {
     "output_type": "error",
     "ename": "ValueError",
     "evalue": "x and y arrays must have a length of at least 3",
     "traceback": [
      "\u001b[0;31m---------------------------------------------------------------------------\u001b[0m",
      "\u001b[0;31mValueError\u001b[0m                                Traceback (most recent call last)",
      "\u001b[0;32m<ipython-input-28-3b8609c1fe32>\u001b[0m in \u001b[0;36m<module>\u001b[0;34m\u001b[0m\n\u001b[1;32m     13\u001b[0m \u001b[0;34m\u001b[0m\u001b[0m\n\u001b[1;32m     14\u001b[0m \u001b[0;31m# CREATE PLOTS AND COLOR BAR\u001b[0m\u001b[0;34m\u001b[0m\u001b[0;34m\u001b[0m\u001b[0;34m\u001b[0m\u001b[0m\n\u001b[0;32m---> 15\u001b[0;31m \u001b[0max\u001b[0m\u001b[0;34m.\u001b[0m\u001b[0mplot_trisurf\u001b[0m\u001b[0;34m(\u001b[0m\u001b[0mX\u001b[0m\u001b[0;34m,\u001b[0m\u001b[0mY\u001b[0m\u001b[0;34m,\u001b[0m\u001b[0mZ\u001b[0m\u001b[0;34m,\u001b[0m\u001b[0mcmap\u001b[0m \u001b[0;34m=\u001b[0m \u001b[0mcmap\u001b[0m\u001b[0;34m,\u001b[0m\u001b[0mnorm\u001b[0m\u001b[0;34m=\u001b[0m\u001b[0mnorm\u001b[0m\u001b[0;34m,\u001b[0m\u001b[0medgecolors\u001b[0m\u001b[0;34m=\u001b[0m\u001b[0;34m'grey'\u001b[0m\u001b[0;34m,\u001b[0m\u001b[0mlinewidth\u001b[0m\u001b[0;34m=\u001b[0m\u001b[0;36m0.25\u001b[0m\u001b[0;34m)\u001b[0m\u001b[0;34m\u001b[0m\u001b[0;34m\u001b[0m\u001b[0m\n\u001b[0m\u001b[1;32m     16\u001b[0m \u001b[0mfig\u001b[0m\u001b[0;34m.\u001b[0m\u001b[0mcolorbar\u001b[0m\u001b[0;34m(\u001b[0m\u001b[0mmpl\u001b[0m\u001b[0;34m.\u001b[0m\u001b[0mcm\u001b[0m\u001b[0;34m.\u001b[0m\u001b[0mScalarMappable\u001b[0m\u001b[0;34m(\u001b[0m\u001b[0mnorm\u001b[0m\u001b[0;34m=\u001b[0m\u001b[0mnorm\u001b[0m\u001b[0;34m,\u001b[0m \u001b[0mcmap\u001b[0m\u001b[0;34m=\u001b[0m\u001b[0mcmap\u001b[0m\u001b[0;34m)\u001b[0m\u001b[0;34m,\u001b[0m\u001b[0mlabel\u001b[0m\u001b[0;34m=\u001b[0m\u001b[0;34m\"Landing Rate (%)\"\u001b[0m\u001b[0;34m)\u001b[0m\u001b[0;34m\u001b[0m\u001b[0;34m\u001b[0m\u001b[0m\n\u001b[1;32m     17\u001b[0m \u001b[0;34m\u001b[0m\u001b[0m\n",
      "\u001b[0;32m/usr/lib/python3/dist-packages/mpl_toolkits/mplot3d/axes3d.py\u001b[0m in \u001b[0;36mplot_trisurf\u001b[0;34m(self, color, norm, vmin, vmax, lightsource, *args, **kwargs)\u001b[0m\n\u001b[1;32m   1988\u001b[0m \u001b[0;34m\u001b[0m\u001b[0m\n\u001b[1;32m   1989\u001b[0m         \u001b[0mtri\u001b[0m\u001b[0;34m,\u001b[0m \u001b[0margs\u001b[0m\u001b[0;34m,\u001b[0m \u001b[0mkwargs\u001b[0m \u001b[0;34m=\u001b[0m\u001b[0;31m \u001b[0m\u001b[0;31m\\\u001b[0m\u001b[0;34m\u001b[0m\u001b[0;34m\u001b[0m\u001b[0m\n\u001b[0;32m-> 1990\u001b[0;31m             \u001b[0mTriangulation\u001b[0m\u001b[0;34m.\u001b[0m\u001b[0mget_from_args_and_kwargs\u001b[0m\u001b[0;34m(\u001b[0m\u001b[0;34m*\u001b[0m\u001b[0margs\u001b[0m\u001b[0;34m,\u001b[0m \u001b[0;34m**\u001b[0m\u001b[0mkwargs\u001b[0m\u001b[0;34m)\u001b[0m\u001b[0;34m\u001b[0m\u001b[0;34m\u001b[0m\u001b[0m\n\u001b[0m\u001b[1;32m   1991\u001b[0m         \u001b[0;32mif\u001b[0m \u001b[0;34m'Z'\u001b[0m \u001b[0;32min\u001b[0m \u001b[0mkwargs\u001b[0m\u001b[0;34m:\u001b[0m\u001b[0;34m\u001b[0m\u001b[0;34m\u001b[0m\u001b[0m\n\u001b[1;32m   1992\u001b[0m             \u001b[0mz\u001b[0m \u001b[0;34m=\u001b[0m \u001b[0mnp\u001b[0m\u001b[0;34m.\u001b[0m\u001b[0masarray\u001b[0m\u001b[0;34m(\u001b[0m\u001b[0mkwargs\u001b[0m\u001b[0;34m.\u001b[0m\u001b[0mpop\u001b[0m\u001b[0;34m(\u001b[0m\u001b[0;34m'Z'\u001b[0m\u001b[0;34m)\u001b[0m\u001b[0;34m)\u001b[0m\u001b[0;34m\u001b[0m\u001b[0;34m\u001b[0m\u001b[0m\n",
      "\u001b[0;32m/usr/lib/python3/dist-packages/matplotlib/tri/triangulation.py\u001b[0m in \u001b[0;36mget_from_args_and_kwargs\u001b[0;34m(*args, **kwargs)\u001b[0m\n\u001b[1;32m    165\u001b[0m             \u001b[0mmask\u001b[0m \u001b[0;34m=\u001b[0m \u001b[0mkwargs\u001b[0m\u001b[0;34m.\u001b[0m\u001b[0mpop\u001b[0m\u001b[0;34m(\u001b[0m\u001b[0;34m'mask'\u001b[0m\u001b[0;34m,\u001b[0m \u001b[0;32mNone\u001b[0m\u001b[0;34m)\u001b[0m\u001b[0;34m\u001b[0m\u001b[0;34m\u001b[0m\u001b[0m\n\u001b[1;32m    166\u001b[0m \u001b[0;34m\u001b[0m\u001b[0m\n\u001b[0;32m--> 167\u001b[0;31m             \u001b[0mtriangulation\u001b[0m \u001b[0;34m=\u001b[0m \u001b[0mTriangulation\u001b[0m\u001b[0;34m(\u001b[0m\u001b[0mx\u001b[0m\u001b[0;34m,\u001b[0m \u001b[0my\u001b[0m\u001b[0;34m,\u001b[0m \u001b[0mtriangles\u001b[0m\u001b[0;34m,\u001b[0m \u001b[0mmask\u001b[0m\u001b[0;34m)\u001b[0m\u001b[0;34m\u001b[0m\u001b[0;34m\u001b[0m\u001b[0m\n\u001b[0m\u001b[1;32m    168\u001b[0m         \u001b[0;32mreturn\u001b[0m \u001b[0mtriangulation\u001b[0m\u001b[0;34m,\u001b[0m \u001b[0margs\u001b[0m\u001b[0;34m,\u001b[0m \u001b[0mkwargs\u001b[0m\u001b[0;34m\u001b[0m\u001b[0;34m\u001b[0m\u001b[0m\n\u001b[1;32m    169\u001b[0m \u001b[0;34m\u001b[0m\u001b[0m\n",
      "\u001b[0;32m/usr/lib/python3/dist-packages/matplotlib/tri/triangulation.py\u001b[0m in \u001b[0;36m__init__\u001b[0;34m(self, x, y, triangles, mask)\u001b[0m\n\u001b[1;32m     52\u001b[0m             \u001b[0;31m# No triangulation specified, so use matplotlib._qhull to obtain\u001b[0m\u001b[0;34m\u001b[0m\u001b[0;34m\u001b[0m\u001b[0;34m\u001b[0m\u001b[0m\n\u001b[1;32m     53\u001b[0m             \u001b[0;31m# Delaunay triangulation.\u001b[0m\u001b[0;34m\u001b[0m\u001b[0;34m\u001b[0m\u001b[0;34m\u001b[0m\u001b[0m\n\u001b[0;32m---> 54\u001b[0;31m             \u001b[0mself\u001b[0m\u001b[0;34m.\u001b[0m\u001b[0mtriangles\u001b[0m\u001b[0;34m,\u001b[0m \u001b[0mself\u001b[0m\u001b[0;34m.\u001b[0m\u001b[0m_neighbors\u001b[0m \u001b[0;34m=\u001b[0m \u001b[0m_qhull\u001b[0m\u001b[0;34m.\u001b[0m\u001b[0mdelaunay\u001b[0m\u001b[0;34m(\u001b[0m\u001b[0mx\u001b[0m\u001b[0;34m,\u001b[0m \u001b[0my\u001b[0m\u001b[0;34m)\u001b[0m\u001b[0;34m\u001b[0m\u001b[0;34m\u001b[0m\u001b[0m\n\u001b[0m\u001b[1;32m     55\u001b[0m             \u001b[0mself\u001b[0m\u001b[0;34m.\u001b[0m\u001b[0mis_delaunay\u001b[0m \u001b[0;34m=\u001b[0m \u001b[0;32mTrue\u001b[0m\u001b[0;34m\u001b[0m\u001b[0;34m\u001b[0m\u001b[0m\n\u001b[1;32m     56\u001b[0m         \u001b[0;32melse\u001b[0m\u001b[0;34m:\u001b[0m\u001b[0;34m\u001b[0m\u001b[0;34m\u001b[0m\u001b[0m\n",
      "\u001b[0;31mValueError\u001b[0m: x and y arrays must have a length of at least 3"
     ]
    }
   ],
   "source": [
    "## AVG LANDING RATE SURFACE\n",
    "fig = plt.figure()\n",
    "ax = fig.add_subplot(111,projection=\"3d\")\n",
    "\n",
    "# DEFINE VARIABLES\n",
    "X = df_max['vx_d']\n",
    "Y = df_max['vz_d']\n",
    "Z = df_max['landing_rate']\n",
    "\n",
    "# DEFINE COLOR FORMATS AND LIMITS\n",
    "cmap = mpl.cm.jet\n",
    "norm = mpl.colors.Normalize(vmin=0,vmax=1)\n",
    "\n",
    "# CREATE PLOTS AND COLOR BAR\n",
    "ax.plot_trisurf(X,Y,Z,cmap = cmap,norm=norm,edgecolors='grey',linewidth=0.25)\n",
    "fig.colorbar(mpl.cm.ScalarMappable(norm=norm, cmap=cmap),label=\"Landing Rate (%)\")\n",
    "\n",
    "\n",
    "# PLOT LIMITS AND INFO\n",
    "ax.set_zlim(0,1)\n",
    "\n",
    "ax.set_xlabel('X-Velocity (m/s)')\n",
    "ax.set_ylabel('Z-Velocity (m/s)')\n",
    "ax.set_zlabel('Landing Rate (%)')\n",
    "ax.set_title('Landing Rate (Raw Data)')\n",
    "\n",
    "\n",
    "plt.show()"
   ]
  },
  {
   "cell_type": "code",
   "execution_count": 15,
   "metadata": {},
   "outputs": [
    {
     "output_type": "execute_result",
     "data": {
      "text/plain": [
       "    index  vz_d  vx_d  trial_num  landing_rate  RREV_threshold    G1    G2  \\\n",
       "30    313  2.25   0.0          0      0.566667            4.50  7.13  5.59   \n",
       "44    409  2.50   0.0          2      0.500000            4.28  5.86  3.82   \n",
       "\n",
       "    RREV_sig  G1_sig  G2_sig  RREV_trigger      OF_y      My_d  \\\n",
       "30      0.13    0.04    0.07      4.856765  0.001706  7.157882   \n",
       "44      0.05    0.09    0.01      4.595667  0.001733  5.825067   \n",
       "\n",
       "             impact_eul        impact_tdelta alpha_mu alpha_sigma  \\\n",
       "30  -36.362742807358394  0.20023529411764518  [0. 0.]     [0. 0.]   \n",
       "44   -157.1441296858511  0.24346666666664685  [0. 0.]     [0. 0.]   \n",
       "\n",
       "              mu_ini   sigma_ini  \n",
       "30  [1.74 6.38 5.85]  [2. 2. 2.]  \n",
       "44  [6.92 5.37 4.31]  [2. 2. 2.]  "
      ],
      "text/html": "<div>\n<style scoped>\n    .dataframe tbody tr th:only-of-type {\n        vertical-align: middle;\n    }\n\n    .dataframe tbody tr th {\n        vertical-align: top;\n    }\n\n    .dataframe thead th {\n        text-align: right;\n    }\n</style>\n<table border=\"1\" class=\"dataframe\">\n  <thead>\n    <tr style=\"text-align: right;\">\n      <th></th>\n      <th>index</th>\n      <th>vz_d</th>\n      <th>vx_d</th>\n      <th>trial_num</th>\n      <th>landing_rate</th>\n      <th>RREV_threshold</th>\n      <th>G1</th>\n      <th>G2</th>\n      <th>RREV_sig</th>\n      <th>G1_sig</th>\n      <th>G2_sig</th>\n      <th>RREV_trigger</th>\n      <th>OF_y</th>\n      <th>My_d</th>\n      <th>impact_eul</th>\n      <th>impact_tdelta</th>\n      <th>alpha_mu</th>\n      <th>alpha_sigma</th>\n      <th>mu_ini</th>\n      <th>sigma_ini</th>\n    </tr>\n  </thead>\n  <tbody>\n    <tr>\n      <th>30</th>\n      <td>313</td>\n      <td>2.25</td>\n      <td>0.0</td>\n      <td>0</td>\n      <td>0.566667</td>\n      <td>4.50</td>\n      <td>7.13</td>\n      <td>5.59</td>\n      <td>0.13</td>\n      <td>0.04</td>\n      <td>0.07</td>\n      <td>4.856765</td>\n      <td>0.001706</td>\n      <td>7.157882</td>\n      <td>-36.362742807358394</td>\n      <td>0.20023529411764518</td>\n      <td>[0. 0.]</td>\n      <td>[0. 0.]</td>\n      <td>[1.74 6.38 5.85]</td>\n      <td>[2. 2. 2.]</td>\n    </tr>\n    <tr>\n      <th>44</th>\n      <td>409</td>\n      <td>2.50</td>\n      <td>0.0</td>\n      <td>2</td>\n      <td>0.500000</td>\n      <td>4.28</td>\n      <td>5.86</td>\n      <td>3.82</td>\n      <td>0.05</td>\n      <td>0.09</td>\n      <td>0.01</td>\n      <td>4.595667</td>\n      <td>0.001733</td>\n      <td>5.825067</td>\n      <td>-157.1441296858511</td>\n      <td>0.24346666666664685</td>\n      <td>[0. 0.]</td>\n      <td>[0. 0.]</td>\n      <td>[6.92 5.37 4.31]</td>\n      <td>[2. 2. 2.]</td>\n    </tr>\n  </tbody>\n</table>\n</div>"
     },
     "metadata": {},
     "execution_count": 15
    }
   ],
   "source": [
    "df_temp = df_max.query(f\"vx_d<={0.0} & vz_d<={2.5}\")\n",
    "df_temp"
   ]
  },
  {
   "cell_type": "code",
   "execution_count": 29,
   "metadata": {},
   "outputs": [
    {
     "output_type": "display_data",
     "data": {
      "text/plain": "Canvas(toolbar=Toolbar(toolitems=[('Home', 'Reset original view', 'home', 'home'), ('Back', 'Back to previous …",
      "application/vnd.jupyter.widget-view+json": {
       "version_major": 2,
       "version_minor": 0,
       "model_id": "be454ed61d2e4edd8f195f9acc46d6bb"
      }
     },
     "metadata": {}
    },
    {
     "output_type": "error",
     "ename": "ValueError",
     "evalue": "No points given",
     "traceback": [
      "\u001b[0;31m---------------------------------------------------------------------------\u001b[0m",
      "\u001b[0;31mValueError\u001b[0m                                Traceback (most recent call last)",
      "\u001b[0;32m<ipython-input-29-f2f26c85847a>\u001b[0m in \u001b[0;36m<module>\u001b[0;34m\u001b[0m\n\u001b[1;32m     11\u001b[0m \u001b[0mxi\u001b[0m \u001b[0;34m=\u001b[0m \u001b[0mnp\u001b[0m\u001b[0;34m.\u001b[0m\u001b[0mlinspace\u001b[0m\u001b[0;34m(\u001b[0m\u001b[0mX\u001b[0m\u001b[0;34m.\u001b[0m\u001b[0mmin\u001b[0m\u001b[0;34m(\u001b[0m\u001b[0;34m)\u001b[0m\u001b[0;34m,\u001b[0m\u001b[0mX\u001b[0m\u001b[0;34m.\u001b[0m\u001b[0mmax\u001b[0m\u001b[0;34m(\u001b[0m\u001b[0;34m)\u001b[0m\u001b[0;34m,\u001b[0m\u001b[0;34m(\u001b[0m\u001b[0mlen\u001b[0m\u001b[0;34m(\u001b[0m\u001b[0mZ\u001b[0m\u001b[0;34m)\u001b[0m\u001b[0;34m//\u001b[0m\u001b[0;36m3\u001b[0m\u001b[0;34m)\u001b[0m\u001b[0;34m)\u001b[0m\u001b[0;34m\u001b[0m\u001b[0;34m\u001b[0m\u001b[0m\n\u001b[1;32m     12\u001b[0m \u001b[0myi\u001b[0m \u001b[0;34m=\u001b[0m \u001b[0mnp\u001b[0m\u001b[0;34m.\u001b[0m\u001b[0mlinspace\u001b[0m\u001b[0;34m(\u001b[0m\u001b[0mY\u001b[0m\u001b[0;34m.\u001b[0m\u001b[0mmin\u001b[0m\u001b[0;34m(\u001b[0m\u001b[0;34m)\u001b[0m\u001b[0;34m,\u001b[0m\u001b[0mY\u001b[0m\u001b[0;34m.\u001b[0m\u001b[0mmax\u001b[0m\u001b[0;34m(\u001b[0m\u001b[0;34m)\u001b[0m\u001b[0;34m,\u001b[0m\u001b[0;34m(\u001b[0m\u001b[0mlen\u001b[0m\u001b[0;34m(\u001b[0m\u001b[0mZ\u001b[0m\u001b[0;34m)\u001b[0m\u001b[0;34m//\u001b[0m\u001b[0;36m3\u001b[0m\u001b[0;34m)\u001b[0m\u001b[0;34m)\u001b[0m\u001b[0;34m\u001b[0m\u001b[0;34m\u001b[0m\u001b[0m\n\u001b[0;32m---> 13\u001b[0;31m \u001b[0mzi\u001b[0m \u001b[0;34m=\u001b[0m \u001b[0mgriddata\u001b[0m\u001b[0;34m(\u001b[0m\u001b[0;34m(\u001b[0m\u001b[0mX\u001b[0m\u001b[0;34m,\u001b[0m \u001b[0mY\u001b[0m\u001b[0;34m)\u001b[0m\u001b[0;34m,\u001b[0m \u001b[0mZ\u001b[0m\u001b[0;34m,\u001b[0m \u001b[0;34m(\u001b[0m\u001b[0mxi\u001b[0m\u001b[0;34m[\u001b[0m\u001b[0;32mNone\u001b[0m\u001b[0;34m,\u001b[0m\u001b[0;34m:\u001b[0m\u001b[0;34m]\u001b[0m\u001b[0;34m,\u001b[0m \u001b[0myi\u001b[0m\u001b[0;34m[\u001b[0m\u001b[0;34m:\u001b[0m\u001b[0;34m,\u001b[0m\u001b[0;32mNone\u001b[0m\u001b[0;34m]\u001b[0m\u001b[0;34m)\u001b[0m\u001b[0;34m,\u001b[0m \u001b[0mmethod\u001b[0m\u001b[0;34m=\u001b[0m\u001b[0;34m'linear'\u001b[0m\u001b[0;34m)\u001b[0m\u001b[0;34m\u001b[0m\u001b[0;34m\u001b[0m\u001b[0m\n\u001b[0m\u001b[1;32m     14\u001b[0m \u001b[0mxig\u001b[0m\u001b[0;34m,\u001b[0m \u001b[0myig\u001b[0m \u001b[0;34m=\u001b[0m \u001b[0mnp\u001b[0m\u001b[0;34m.\u001b[0m\u001b[0mmeshgrid\u001b[0m\u001b[0;34m(\u001b[0m\u001b[0mxi\u001b[0m\u001b[0;34m,\u001b[0m \u001b[0myi\u001b[0m\u001b[0;34m)\u001b[0m\u001b[0;34m\u001b[0m\u001b[0;34m\u001b[0m\u001b[0m\n\u001b[1;32m     15\u001b[0m \u001b[0;34m\u001b[0m\u001b[0m\n",
      "\u001b[0;32m~/.local/lib/python3.8/site-packages/scipy/interpolate/ndgriddata.py\u001b[0m in \u001b[0;36mgriddata\u001b[0;34m(points, values, xi, method, fill_value, rescale)\u001b[0m\n\u001b[1;32m    258\u001b[0m         \u001b[0;32mreturn\u001b[0m \u001b[0mip\u001b[0m\u001b[0;34m(\u001b[0m\u001b[0mxi\u001b[0m\u001b[0;34m)\u001b[0m\u001b[0;34m\u001b[0m\u001b[0;34m\u001b[0m\u001b[0m\n\u001b[1;32m    259\u001b[0m     \u001b[0;32melif\u001b[0m \u001b[0mmethod\u001b[0m \u001b[0;34m==\u001b[0m \u001b[0;34m'linear'\u001b[0m\u001b[0;34m:\u001b[0m\u001b[0;34m\u001b[0m\u001b[0;34m\u001b[0m\u001b[0m\n\u001b[0;32m--> 260\u001b[0;31m         ip = LinearNDInterpolator(points, values, fill_value=fill_value,\n\u001b[0m\u001b[1;32m    261\u001b[0m                                   rescale=rescale)\n\u001b[1;32m    262\u001b[0m         \u001b[0;32mreturn\u001b[0m \u001b[0mip\u001b[0m\u001b[0;34m(\u001b[0m\u001b[0mxi\u001b[0m\u001b[0;34m)\u001b[0m\u001b[0;34m\u001b[0m\u001b[0;34m\u001b[0m\u001b[0m\n",
      "\u001b[0;32minterpnd.pyx\u001b[0m in \u001b[0;36mscipy.interpolate.interpnd.LinearNDInterpolator.__init__\u001b[0;34m()\u001b[0m\n",
      "\u001b[0;32mqhull.pyx\u001b[0m in \u001b[0;36mscipy.spatial.qhull.Delaunay.__init__\u001b[0;34m()\u001b[0m\n",
      "\u001b[0;32mqhull.pyx\u001b[0m in \u001b[0;36mscipy.spatial.qhull._Qhull.__init__\u001b[0;34m()\u001b[0m\n",
      "\u001b[0;31mValueError\u001b[0m: No points given"
     ]
    }
   ],
   "source": [
    "## AVG LANDING RATE SMOOTHED SURFACE\n",
    "fig = plt.figure()\n",
    "ax = fig.add_subplot(111,projection=\"3d\")\n",
    "\n",
    "# DEFINE VARIABLES\n",
    "X = df_max['vx_d']\n",
    "Y = df_max['vz_d']\n",
    "Z = df_max['landing_rate']\n",
    "\n",
    "# SOMETHING ABOUT DEFINING A GRID\n",
    "xi = np.linspace(X.min(),X.max(),(len(Z)//3))\n",
    "yi = np.linspace(Y.min(),Y.max(),(len(Z)//3))\n",
    "zi = griddata((X, Y), Z, (xi[None,:], yi[:,None]), method='linear')\n",
    "xig, yig = np.meshgrid(xi, yi)\n",
    "\n",
    "# DEFINE COLOR FORMAT AND LIMITS\n",
    "cmap = mpl.cm.jet\n",
    "norm = mpl.colors.Normalize(vmin=0,vmax=1)\n",
    "\n",
    "# CREATE PLOTS AND COLOR BAR\n",
    "surf = ax.plot_surface(xig, yig, zi,cmap=cmap,norm=norm,edgecolors='grey',linewidth=0.25)\n",
    "# surf = ax.plot_surface(xig, yig, zi,cmap=cmap,norm=norm)\n",
    "# surf = ax.contour(xig, yig, zi,cmap=cmap,norm=norm)\n",
    "\n",
    "fig.colorbar(mpl.cm.ScalarMappable(norm=norm, cmap=cmap),label=\"Landing Rate (%)\")\n",
    "\n",
    "# PLOT LIMITS AND INFO\n",
    "ax.set_zlim(0,1)\n",
    "\n",
    "ax.set_xlabel('X-Velocity (m/s)')\n",
    "ax.set_ylabel('Z-Velocity (m/s)')\n",
    "ax.set_zlabel('Landing Rate (%)')\n",
    "ax.set_title('Landing Rate (Raw Data)')\n",
    "\n",
    "\n",
    "plt.show()"
   ]
  },
  {
   "source": [
    "# RREV vs IC"
   ],
   "cell_type": "markdown",
   "metadata": {}
  },
  {
   "cell_type": "code",
   "execution_count": 17,
   "metadata": {},
   "outputs": [
    {
     "output_type": "display_data",
     "data": {
      "text/plain": "Canvas(toolbar=Toolbar(toolitems=[('Home', 'Reset original view', 'home', 'home'), ('Back', 'Back to previous …",
      "application/vnd.jupyter.widget-view+json": {
       "version_major": 2,
       "version_minor": 0,
       "model_id": "696357070cf9409bb7b88227e99a2393"
      }
     },
     "metadata": {}
    },
    {
     "output_type": "stream",
     "name": "stdout",
     "text": [
      "Equation: RREV_reg = 5.51 + 0.00*vx_d + -0.35*vz_d \n\nR^2 = 0.590\n"
     ]
    }
   ],
   "source": [
    "fig = plt.figure()\n",
    "ax = fig.add_subplot(111,projection=\"3d\")\n",
    "\n",
    "# CLEAN DATA\n",
    "df_temp = df_max.query(f\"landing_rate>={0.4}\")\n",
    "\n",
    "\n",
    "\n",
    "\n",
    "# LINEAR REGRESSION\n",
    "X_reg = df_temp[['vx_d','vz_d']]\n",
    "Y_reg = df_temp['RREV_threshold']\n",
    "\n",
    "ypred, intercept,coef,R2 = linreg(X_reg,Y_reg)\n",
    "print(f\"Equation: RREV_reg = {intercept:.2f} + {coef[0]:.2f}*vx_d + {coef[1]:.2f}*vz_d \\n\")\n",
    "print(f\"R^2 = {R2:.3f}\")\n",
    "\n",
    "\n",
    "# DEFINE VARIABLES\n",
    "X = df_temp['vx_d']\n",
    "Y = df_temp['vz_d']\n",
    "Z = df_temp['RREV_threshold']\n",
    "C = df_temp['RREV_threshold']\n",
    "\n",
    "\n",
    "# CREATE PLOTS AND COLOR BAR\n",
    "cmap = mpl.cm.rainbow\n",
    "norm = mpl.colors.Normalize(vmin=3.5,vmax=5.5)\n",
    "ax.scatter(X,Y,Z,c=C,cmap=cmap,norm=norm,zorder=1)\n",
    "ax.plot_trisurf(X,Y,ypred,alpha=0.5,label='Linear_Regression',zorder=2)\n",
    "fig.colorbar(mpl.cm.ScalarMappable(norm=norm, cmap=cmap),label=\"RREV_threshold (1/s)\")\n",
    "\n",
    "\n",
    "\n",
    "# PLOT LIMITS AND INFO\n",
    "ax.set_xlim(0,2.75)\n",
    "ax.set_ylim(1.0,4.5)\n",
    "ax.set_zlim(3,6)\n",
    "\n",
    "ax.set_xlabel('X-Velocity (m/s)')\n",
    "ax.set_ylabel('Z-Velocity (m/s)')\n",
    "ax.set_zlabel('RREV_threshold (1/s)')\n",
    "ax.set_title('RREV_thr vs IC - (Optimal Data)')\n",
    "\n",
    "plt.show()"
   ]
  },
  {
   "cell_type": "code",
   "execution_count": 18,
   "metadata": {},
   "outputs": [
    {
     "output_type": "display_data",
     "data": {
      "text/plain": "Canvas(toolbar=Toolbar(toolitems=[('Home', 'Reset original view', 'home', 'home'), ('Back', 'Back to previous …",
      "application/vnd.jupyter.widget-view+json": {
       "version_major": 2,
       "version_minor": 0,
       "model_id": "d21c8df6f28144d2a9f0f9feb9838522"
      }
     },
     "metadata": {}
    }
   ],
   "source": [
    "fig = plt.figure()\n",
    "ax = fig.add_subplot(111,projection=\"3d\")\n",
    "\n",
    "# CLEAN DATA\n",
    "df_temp = df_max.query(f\"landing_rate>={0.4}\")\n",
    "\n",
    "\n",
    "# DEFINE VARIABLES\n",
    "X = df_temp['vx_d']\n",
    "Y = df_temp['vz_d']\n",
    "Z = df_temp['RREV_threshold']\n",
    "\n",
    "# SOMETHING ABOUT DEFINING A GRID\n",
    "xi = np.linspace(X.min(),X.max(),(len(Z)//10))\n",
    "yi = np.linspace(Y.min(),Y.max(),(len(Z)//10))\n",
    "zi = griddata((X, Y), Z, (xi[None,:], yi[:,None]), method='linear')\n",
    "xig, yig = np.meshgrid(xi, yi)\n",
    "\n",
    "# DEFINE COLOR FORMAT AND LIMITS\n",
    "cmap = mpl.cm.jet\n",
    "norm = mpl.colors.Normalize(vmin=3.5,vmax=5.5)\n",
    "\n",
    "# CREATE PLOTS AND COLOR BAR\n",
    "surf = ax.plot_surface(xig, yig, zi,cmap=cmap,norm=norm,edgecolors='grey',linewidth=0.25)\n",
    "fig.colorbar(mpl.cm.ScalarMappable(norm=norm, cmap=cmap),label=\"RREV_threshold\")\n",
    "\n",
    "# PLOT LIMITS AND INFO\n",
    "ax.set_xlim(0,2.75)\n",
    "ax.set_ylim(1.0,4.5)\n",
    "ax.set_zlim(3,6)\n",
    "\n",
    "ax.set_xlabel('X-Velocity (m/s)')\n",
    "ax.set_ylabel('Z-Velocity (m/s)')\n",
    "ax.set_zlabel('RREV_threshold (1/s)')\n",
    "\n",
    "ax.set_title('Optimal RREV_thr vs IC')\n",
    "plt.show()"
   ]
  },
  {
   "source": [
    "# Rotation Time Data"
   ],
   "cell_type": "markdown",
   "metadata": {}
  },
  {
   "cell_type": "code",
   "execution_count": 19,
   "metadata": {},
   "outputs": [
    {
     "output_type": "display_data",
     "data": {
      "text/plain": "Canvas(toolbar=Toolbar(toolitems=[('Home', 'Reset original view', 'home', 'home'), ('Back', 'Back to previous …",
      "application/vnd.jupyter.widget-view+json": {
       "version_major": 2,
       "version_minor": 0,
       "model_id": "342be0f119be406da3965d35551e00a3"
      }
     },
     "metadata": {}
    }
   ],
   "source": [
    "fig = plt.figure()\n",
    "ax = fig.add_subplot(111,projection=\"3d\")\n",
    "\n",
    "# CLEAN DATA\n",
    "df_temp = df_max.query(f\"landing_rate>={0.4}\")\n",
    "\n",
    "# DEFINE VARIABLES\n",
    "X = df_temp['RREV_threshold']\n",
    "Y = df_temp['OF_y']\n",
    "Z = df_temp['impact_tdelta']\n",
    "C = df_temp['landing_rate']\n",
    "\n",
    "\n",
    "# CREATE PLOTS AND COLOR BAR\n",
    "ax.scatter(X,Y,Z)\n",
    "\n",
    "cmap = mpl.cm.rainbow\n",
    "norm = mpl.colors.Normalize(vmin=0,vmax=1)\n",
    "ax.scatter(X,Y,Z,c=C,cmap=cmap,norm=norm)\n",
    "fig.colorbar(mpl.cm.ScalarMappable(norm=norm, cmap=cmap),label=\"Landing Rate %)\")\n",
    "\n",
    "\n",
    "\n",
    "# PLOT LIMITS AND INFO\n",
    "ax.set_xlabel('RREV (1/s)')\n",
    "ax.set_ylabel('OF_y (rad/s)')\n",
    "ax.set_zlabel('Delta_t (s)')\n",
    "\n",
    "ax.set_title('Time Rotating vs IC (Optimal Data)')\n",
    "\n",
    "ax.set_zlim(0,0.5)\n",
    "\n",
    "\n",
    "\n",
    "\n",
    "plt.show()"
   ]
  },
  {
   "source": [
    "# My_d vs IC Data"
   ],
   "cell_type": "markdown",
   "metadata": {}
  },
  {
   "cell_type": "code",
   "execution_count": 20,
   "metadata": {},
   "outputs": [
    {
     "output_type": "display_data",
     "data": {
      "text/plain": "Canvas(toolbar=Toolbar(toolitems=[('Home', 'Reset original view', 'home', 'home'), ('Back', 'Back to previous …",
      "application/vnd.jupyter.widget-view+json": {
       "version_major": 2,
       "version_minor": 0,
       "model_id": "9a470d79bb434b4bb1a39cd7b0fcbb68"
      }
     },
     "metadata": {}
    }
   ],
   "source": [
    "fig = plt.figure()\n",
    "ax = fig.add_subplot(111,projection=\"3d\")\n",
    "\n",
    "# CLEAN DATA\n",
    "df_temp = df_max.query(f\"landing_rate>={0.4}\")\n",
    "\n",
    "# DEFINE VARIABLES\n",
    "X = df_temp['vx_d']\n",
    "Y = df_temp['vz_d']\n",
    "Z = df_temp['My_d']\n",
    "C = df_temp['landing_rate']\n",
    "\n",
    "\n",
    "# CREATE PLOTS AND COLOR BAR\n",
    "ax.scatter(X,Y,Z)\n",
    "\n",
    "cmap = mpl.cm.rainbow\n",
    "norm = mpl.colors.Normalize(vmin=0,vmax=1)\n",
    "ax.scatter(X,Y,Z,c=C,cmap=cmap,norm=norm)\n",
    "fig.colorbar(mpl.cm.ScalarMappable(norm=norm, cmap=cmap),label=\"Landing Rate %)\")\n",
    "\n",
    "\n",
    "\n",
    "# PLOT LIMITS AND INFO\n",
    "ax.set_xlabel('X-Velocity (m/s)')\n",
    "ax.set_ylabel('Z-Velocity (m/s)')\n",
    "ax.set_zlabel('My_d (N*mm)')\n",
    "\n",
    "ax.set_title('My_d vs IC (Optimal Data)')\n",
    "\n",
    "ax.set_zlim(0,10)\n",
    "\n",
    "\n",
    "\n",
    "\n",
    "plt.show()"
   ]
  },
  {
   "source": [
    "# Impact Angle Data"
   ],
   "cell_type": "markdown",
   "metadata": {}
  },
  {
   "cell_type": "code",
   "execution_count": 21,
   "metadata": {},
   "outputs": [
    {
     "output_type": "display_data",
     "data": {
      "text/plain": "Canvas(toolbar=Toolbar(toolitems=[('Home', 'Reset original view', 'home', 'home'), ('Back', 'Back to previous …",
      "application/vnd.jupyter.widget-view+json": {
       "version_major": 2,
       "version_minor": 0,
       "model_id": "efa52d4db39e469ca9edb55e1f22701d"
      }
     },
     "metadata": {}
    },
    {
     "output_type": "error",
     "ename": "TypeError",
     "evalue": "bad operand type for unary -: 'str'",
     "traceback": [
      "\u001b[0;31m---------------------------------------------------------------------------\u001b[0m",
      "\u001b[0;31mTypeError\u001b[0m                                 Traceback (most recent call last)",
      "\u001b[0;32m<ipython-input-21-1ca9b369fb2b>\u001b[0m in \u001b[0;36m<module>\u001b[0;34m\u001b[0m\n\u001b[1;32m      9\u001b[0m \u001b[0mX\u001b[0m \u001b[0;34m=\u001b[0m \u001b[0mdf_temp\u001b[0m\u001b[0;34m[\u001b[0m\u001b[0;34m'vx_d'\u001b[0m\u001b[0;34m]\u001b[0m\u001b[0;34m\u001b[0m\u001b[0;34m\u001b[0m\u001b[0m\n\u001b[1;32m     10\u001b[0m \u001b[0mY\u001b[0m \u001b[0;34m=\u001b[0m \u001b[0mdf_temp\u001b[0m\u001b[0;34m[\u001b[0m\u001b[0;34m'vz_d'\u001b[0m\u001b[0;34m]\u001b[0m\u001b[0;34m\u001b[0m\u001b[0;34m\u001b[0m\u001b[0m\n\u001b[0;32m---> 11\u001b[0;31m \u001b[0mZ\u001b[0m \u001b[0;34m=\u001b[0m \u001b[0;34m-\u001b[0m\u001b[0mdf_temp\u001b[0m\u001b[0;34m[\u001b[0m\u001b[0;34m'impact_eul'\u001b[0m\u001b[0;34m]\u001b[0m\u001b[0;34m\u001b[0m\u001b[0;34m\u001b[0m\u001b[0m\n\u001b[0m\u001b[1;32m     12\u001b[0m \u001b[0mC\u001b[0m \u001b[0;34m=\u001b[0m \u001b[0mdf_temp\u001b[0m\u001b[0;34m[\u001b[0m\u001b[0;34m'landing_rate'\u001b[0m\u001b[0;34m]\u001b[0m\u001b[0;34m\u001b[0m\u001b[0;34m\u001b[0m\u001b[0m\n\u001b[1;32m     13\u001b[0m \u001b[0;34m\u001b[0m\u001b[0m\n",
      "\u001b[0;32m~/.local/lib/python3.8/site-packages/pandas/core/generic.py\u001b[0m in \u001b[0;36m__neg__\u001b[0;34m(self)\u001b[0m\n\u001b[1;32m   1295\u001b[0m             \u001b[0;32mor\u001b[0m \u001b[0mis_object_dtype\u001b[0m\u001b[0;34m(\u001b[0m\u001b[0mvalues\u001b[0m\u001b[0;34m)\u001b[0m\u001b[0;34m\u001b[0m\u001b[0;34m\u001b[0m\u001b[0m\n\u001b[1;32m   1296\u001b[0m         ):\n\u001b[0;32m-> 1297\u001b[0;31m             \u001b[0marr\u001b[0m \u001b[0;34m=\u001b[0m \u001b[0moperator\u001b[0m\u001b[0;34m.\u001b[0m\u001b[0mneg\u001b[0m\u001b[0;34m(\u001b[0m\u001b[0mvalues\u001b[0m\u001b[0;34m)\u001b[0m\u001b[0;34m\u001b[0m\u001b[0;34m\u001b[0m\u001b[0m\n\u001b[0m\u001b[1;32m   1298\u001b[0m         \u001b[0;32melse\u001b[0m\u001b[0;34m:\u001b[0m\u001b[0;34m\u001b[0m\u001b[0;34m\u001b[0m\u001b[0m\n\u001b[1;32m   1299\u001b[0m             \u001b[0;32mraise\u001b[0m \u001b[0mTypeError\u001b[0m\u001b[0;34m(\u001b[0m\u001b[0;34mf\"Unary negative expects numeric dtype, not {values.dtype}\"\u001b[0m\u001b[0;34m)\u001b[0m\u001b[0;34m\u001b[0m\u001b[0;34m\u001b[0m\u001b[0m\n",
      "\u001b[0;31mTypeError\u001b[0m: bad operand type for unary -: 'str'"
     ]
    }
   ],
   "source": [
    "fig = plt.figure()\n",
    "ax = fig.add_subplot(111,projection=\"3d\")\n",
    "\n",
    "# CLEAN DATA\n",
    "df_temp = df_max.query(f\"landing_rate>={0.4}\")\n",
    "\n",
    "\n",
    "# DEFINE VARIABLES\n",
    "X = df_temp['vx_d']\n",
    "Y = df_temp['vz_d']\n",
    "Z = -df_temp['impact_eul']\n",
    "C = df_temp['landing_rate']\n",
    "\n",
    "\n",
    "# CREATE PLOTS AND COLOR BAR\n",
    "cmap = mpl.cm.rainbow\n",
    "norm = mpl.colors.Normalize(vmin=0,vmax=1)\n",
    "ax.scatter(X,Y,Z,c=C,cmap=cmap,norm=norm)\n",
    "fig.colorbar(mpl.cm.ScalarMappable(norm=norm, cmap=cmap),label=\"Landing Rate\")\n",
    "\n",
    "\n",
    "\n",
    "# PLOT LIMITS AND INFO\n",
    "ax.set_xlabel('X-Velocity (m/s)')\n",
    "ax.set_ylabel('Z-Velocity (m/s)')\n",
    "ax.set_zlabel('Impact Angle (deg)')\n",
    "\n",
    "ax.set_title('Impact Angle vs IC (Optimal Data)')\n",
    "\n",
    "ax.set_zlim(60,180)\n",
    "ax.set_zticks([60,90,120,150,180,210])\n",
    "\n",
    "\n",
    "\n",
    "plt.show()"
   ]
  },
  {
   "cell_type": "code",
   "execution_count": 14,
   "metadata": {},
   "outputs": [
    {
     "output_type": "display_data",
     "data": {
      "text/plain": "Canvas(toolbar=Toolbar(toolitems=[('Home', 'Reset original view', 'home', 'home'), ('Back', 'Back to previous …",
      "application/vnd.jupyter.widget-view+json": {
       "version_major": 2,
       "version_minor": 0,
       "model_id": "bd3d6d756d6345199c63fb54d15e0d99"
      }
     },
     "metadata": {}
    }
   ],
   "source": [
    "fig = plt.figure()\n",
    "ax = fig.add_subplot(111,projection=\"3d\")\n",
    "\n",
    "# CLEAN DATA\n",
    "df_temp = df_max.query(f\"landing_rate>={0.4}\")\n",
    "\n",
    "\n",
    "# DEFINE VARIABLES\n",
    "X = df_temp['vx_d']\n",
    "Y = df_temp['vz_d']\n",
    "Z = -df_temp['impact_eul']\n",
    "C = df_temp['landing_rate']\n",
    "\n",
    "\n",
    "# CREATE PLOTS AND COLOR BAR\n",
    "cmap = mpl.cm.rainbow\n",
    "norm = mpl.colors.Normalize(vmin=60,vmax=180)\n",
    "ax.plot_trisurf(X,Y,Z,cmap=cmap,norm=norm)\n",
    "fig.colorbar(mpl.cm.ScalarMappable(norm=norm, cmap=cmap),label=\"Landing Rate\",orientation=\"horizontal\")\n",
    "\n",
    "\n",
    "\n",
    "# PLOT LIMITS AND INFO\n",
    "ax.set_xlabel('X-Velocity (m/s)')\n",
    "ax.set_ylabel('Z-Velocity (m/s)')\n",
    "ax.set_zlabel('Impact Angle (deg)')\n",
    "\n",
    "ax.set_title('Impact Angle vs IC (Optimal Data)')\n",
    "\n",
    "ax.set_zlim(60,180)\n",
    "ax.set_zticks([60,90,120,150,180,210])\n",
    "\n",
    "\n",
    "\n",
    "plt.show()"
   ]
  },
  {
   "cell_type": "code",
   "execution_count": 15,
   "metadata": {},
   "outputs": [
    {
     "output_type": "display_data",
     "data": {
      "text/plain": "Canvas(toolbar=Toolbar(toolitems=[('Home', 'Reset original view', 'home', 'home'), ('Back', 'Back to previous …",
      "application/vnd.jupyter.widget-view+json": {
       "version_major": 2,
       "version_minor": 0,
       "model_id": "47a2b16f4bca4a51a43d67ee4b069759"
      }
     },
     "metadata": {}
    }
   ],
   "source": [
    "## AVG LANDING RATE SMOOTHED SURFACE\n",
    "fig = plt.figure()\n",
    "ax = fig.add_subplot(111,projection=\"3d\")\n",
    "\n",
    "# CLEAN DATA\n",
    "df_temp = df_max.query(f\"landing_rate>={0.4}\")\n",
    "\n",
    "# DEFINE VARIABLES\n",
    "X = df_temp['vx_d']\n",
    "Y = df_temp['vz_d']\n",
    "Z = -df_temp['impact_eul']\n",
    "\n",
    "# SOMETHING ABOUT DEFINING A GRID\n",
    "xi = np.linspace(X.min(),X.max(),(len(Z)//10))\n",
    "yi = np.linspace(Y.min(),Y.max(),(len(Z)//10))\n",
    "zi = griddata((X, Y), Z, (xi[None,:], yi[:,None]), method='linear')\n",
    "xig, yig = np.meshgrid(xi, yi)\n",
    "\n",
    "# DEFINE COLOR FORMAT AND LIMITS\n",
    "cmap = mpl.cm.rainbow\n",
    "norm = mpl.colors.Normalize(vmin=60,vmax=180)\n",
    "\n",
    "# CREATE PLOTS AND COLOR BAR\n",
    "surf = ax.plot_surface(xig, yig, zi,cmap=cmap,norm=norm,edgecolors='grey',linewidth=0.25)\n",
    "# surf = ax.plot_surface(xig, yig, zi,cmap=cmap,norm=norm)\n",
    "# surf = ax.contour(xig, yig, zi,cmap=cmap,norm=norm)\n",
    "\n",
    "fig.colorbar(mpl.cm.ScalarMappable(norm=norm, cmap=cmap),label=\"Impact Angle (deg)\")\n",
    "\n",
    "# PLOT LIMITS AND INFO\n",
    "ax.set_xlabel('X-Velocity (m/s)')\n",
    "ax.set_ylabel('Z-Velocity (m/s)')\n",
    "ax.set_zlabel('Impact Angle (deg)')\n",
    "\n",
    "ax.set_title('Impact Angle vs IC (Optimal Data)')\n",
    "\n",
    "ax.set_zlim(60,180)\n",
    "ax.set_zticks([60,90,120,150,180,210])\n",
    "\n",
    "\n",
    "plt.show()"
   ]
  },
  {
   "source": [
    "# Moment vs RREV"
   ],
   "cell_type": "markdown",
   "metadata": {}
  },
  {
   "cell_type": "code",
   "execution_count": 16,
   "metadata": {},
   "outputs": [
    {
     "output_type": "display_data",
     "data": {
      "text/plain": "Canvas(toolbar=Toolbar(toolitems=[('Home', 'Reset original view', 'home', 'home'), ('Back', 'Back to previous …",
      "application/vnd.jupyter.widget-view+json": {
       "version_major": 2,
       "version_minor": 0,
       "model_id": "9e66acb7c35c465eab8b5a91fbafe2cc"
      }
     },
     "metadata": {}
    }
   ],
   "source": [
    "fig = plt.figure()\n",
    "ax = fig.add_subplot(111)\n",
    "\n",
    "# CLEAN DATA\n",
    "df_temp = df_max.query(f\"landing_rate>={0.4}\")\n",
    "\n",
    "# DEFINE VARIABLES\n",
    "X = df_temp['RREV_threshold']\n",
    "Y = df_temp['My_d']\n",
    "C = df_temp['landing_rate']\n",
    "\n",
    "\n",
    "# CREATE PLOTS AND COLOR BAR\n",
    "cmap = mpl.cm.Greys\n",
    "norm = mpl.colors.Normalize(vmin=0,vmax=1)\n",
    "ax.scatter(X,Y,c=C,cmap=cmap,norm=norm)\n",
    "fig.colorbar(mpl.cm.ScalarMappable(norm=norm, cmap=cmap),label=\"Landing Rate (%)\")\n",
    "\n",
    "\n",
    "\n",
    "# PLOT LIMITS AND INFO\n",
    "ax.set_xlabel('RREV_threshold (1/s)')\n",
    "ax.set_ylabel('My_d (N*mm)')\n",
    "ax.set_title('Policy: My_d vs RREV_thr')\n",
    "\n",
    "\n",
    "ax.grid()\n",
    "ax.set_xlim(2,7)\n",
    "ax.set_ylim(0,10)\n",
    "ax.hlines(7.77,2,7)\n",
    "ax.text(2.05,8.1,'Motors Maxed Out \\n(My_d = 7.7 N*mm)')\n",
    "\n",
    "\n",
    "\n",
    "\n",
    "plt.show()"
   ]
  },
  {
   "cell_type": "code",
   "execution_count": 17,
   "metadata": {},
   "outputs": [
    {
     "output_type": "display_data",
     "data": {
      "text/plain": "Canvas(toolbar=Toolbar(toolitems=[('Home', 'Reset original view', 'home', 'home'), ('Back', 'Back to previous …",
      "application/vnd.jupyter.widget-view+json": {
       "version_major": 2,
       "version_minor": 0,
       "model_id": "94504ef2906546599bac85b2fad8df00"
      }
     },
     "metadata": {}
    }
   ],
   "source": [
    "fig = plt.figure()\n",
    "ax = fig.add_subplot(111)\n",
    "\n",
    "# CLEAN DATA\n",
    "df_temp = df_max.query(f\"landing_rate>={0.4}\")\n",
    "\n",
    "# DEFINE VARIABLES\n",
    "X = df_temp['RREV_threshold']\n",
    "Y = df_temp['My_d']\n",
    "C = df_temp['vz_d']\n",
    "\n",
    "# CREATE PLOTS AND COLOR BAR\n",
    "cmap = mpl.cm.rainbow\n",
    "norm = mpl.colors.Normalize(vmin=1.5,vmax=4)\n",
    "ax.scatter(X,Y,c=C,cmap=cmap,norm=norm)\n",
    "fig.colorbar(mpl.cm.ScalarMappable(norm=norm, cmap=cmap),label=\"Z-Velocity (m/s)\")\n",
    "\n",
    "\n",
    "\n",
    "# PLOT LIMITS AND INFO\n",
    "ax.set_xlabel('RREV_threshold (1/s)')\n",
    "ax.set_ylabel('My_d (N*mm)')\n",
    "ax.set_title('Policy: My_d vs RREV_thr')\n",
    "\n",
    "\n",
    "\n",
    "\n",
    "ax.grid()\n",
    "ax.set_xlim(2,7)\n",
    "ax.set_ylim(0,10)\n",
    "ax.hlines(7.77,2,7)\n",
    "ax.text(2.05,8.1,'Motors Maxed Out \\n(My_d = 7.7 N*mm)')\n",
    "\n",
    "\n",
    "\n",
    "\n",
    "plt.show()"
   ]
  },
  {
   "source": [
    "# POLICY FITTING"
   ],
   "cell_type": "markdown",
   "metadata": {}
  },
  {
   "source": [
    "## RAW POLICY RELATION"
   ],
   "cell_type": "markdown",
   "metadata": {}
  },
  {
   "cell_type": "code",
   "execution_count": 18,
   "metadata": {},
   "outputs": [
    {
     "output_type": "display_data",
     "data": {
      "text/plain": "Canvas(toolbar=Toolbar(toolitems=[('Home', 'Reset original view', 'home', 'home'), ('Back', 'Back to previous …",
      "application/vnd.jupyter.widget-view+json": {
       "version_major": 2,
       "version_minor": 0,
       "model_id": "c9dfd1d3700a4b92963ddd53f6845fd3"
      }
     },
     "metadata": {}
    }
   ],
   "source": [
    "fig = plt.figure()\n",
    "ax = fig.add_subplot(111,projection=\"3d\")\n",
    "\n",
    "# CLEAN DATA\n",
    "df_temp = df_max.query(f\"landing_rate>={0.6}\")\n",
    "\n",
    "\n",
    "\n",
    "# DEFINE VARIABLES\n",
    "X = df_temp['RREV_threshold']\n",
    "Y = df_temp['OF_y']\n",
    "Z = df_temp['My_d']\n",
    "C = df_temp['landing_rate']\n",
    "\n",
    "\n",
    "# CREATE PLOTS AND COLOR BAR\n",
    "cmap = mpl.cm.rainbow\n",
    "norm = mpl.colors.Normalize(vmin=0,vmax=1)\n",
    "ax.scatter(X,Y,Z,c=C,cmap=cmap,norm=norm)\n",
    "fig.colorbar(mpl.cm.ScalarMappable(norm=norm, cmap=cmap),label=\"Landing Rate\")\n",
    "\n",
    "\n",
    "\n",
    "# PLOT LIMITS AND INFO\n",
    "ax.set_xlim(6,2)\n",
    "ax.set_ylim(-10,0)\n",
    "ax.set_zlim(0,10)\n",
    "\n",
    "ax.set_xlabel('RREV (1/s)')\n",
    "ax.set_ylabel('OF_y (rad/s)')\n",
    "ax.set_zlabel('My_d (N*mm)')\n",
    "\n",
    "ax.set_title('Raw Policy Relation')\n",
    "\n",
    "\n",
    "\n",
    "plt.show()"
   ]
  },
  {
   "source": [
    "# LINEAR MODEL FIT"
   ],
   "cell_type": "markdown",
   "metadata": {}
  },
  {
   "source": [
    "## Regression with y-based loss"
   ],
   "cell_type": "markdown",
   "metadata": {}
  },
  {
   "cell_type": "code",
   "execution_count": 19,
   "metadata": {},
   "outputs": [
    {
     "output_type": "display_data",
     "data": {
      "text/plain": "Canvas(toolbar=Toolbar(toolitems=[('Home', 'Reset original view', 'home', 'home'), ('Back', 'Back to previous …",
      "application/vnd.jupyter.widget-view+json": {
       "version_major": 2,
       "version_minor": 0,
       "model_id": "225c323cd7944154b1a9014da8e402ba"
      }
     },
     "metadata": {}
    },
    {
     "output_type": "stream",
     "name": "stdout",
     "text": [
      "Equation: My_d = -5.21 + 2.32*RREV + 0.40*OF_y \n\nR^2 = 0.173\n"
     ]
    }
   ],
   "source": [
    "fig = plt.figure()\n",
    "ax = fig.add_subplot(111,projection=\"3d\")\n",
    "\n",
    "# CLEAN DATA\n",
    "df_reg = df_max.query(f\"landing_rate>={0.6}\")\n",
    "\n",
    "\n",
    "# LINEAR REGRESSION\n",
    "X_reg = df_reg[['RREV_threshold','OF_y']]\n",
    "Y_reg = df_reg['My_d']\n",
    "\n",
    "ypred, intercept,coef,R2 = linreg(X_reg,Y_reg)\n",
    "print(f\"Equation: My_d = {intercept:.2f} + {coef[0]:.2f}*RREV + {coef[1]:.2f}*OF_y \\n\")\n",
    "print(f\"R^2 = {R2:.3f}\")\n",
    "\n",
    "\n",
    "\n",
    "# DEFINE VARIABLES\n",
    "X = df_reg['RREV_threshold']\n",
    "Y = df_reg['OF_y']\n",
    "Z = df_reg['My_d']\n",
    "C = df_reg['landing_rate']\n",
    "\n",
    "\n",
    "# CREATE PLOTS AND COLOR BAR\n",
    "cmap = mpl.cm.rainbow\n",
    "norm = mpl.colors.Normalize(vmin=0,vmax=1)\n",
    "ax.plot_trisurf(X_reg['RREV_threshold'],X_reg['OF_y'],ypred,alpha=0.75,label='Linear_Regression',zorder=1) # Surface plot\n",
    "ax.scatter(X,Y,Z,c=C,cmap=cmap,norm=norm) # Scatter plot\n",
    "fig.colorbar(mpl.cm.ScalarMappable(norm=norm, cmap=cmap),label=\"Landing Rate\")\n",
    "\n",
    "\n",
    "\n",
    "# PLOT LIMITS AND INFO\n",
    "ax.set_xlim(6,2)\n",
    "ax.set_ylim(-10,0)\n",
    "ax.set_zlim(0,10)\n",
    "\n",
    "ax.set_xlabel('RREV (1/s)')\n",
    "ax.set_ylabel('OF_y (rad/s)')\n",
    "ax.set_zlabel('My_d (N*mm)')\n",
    "\n",
    "ax.set_title('Optimal Policy Relation \\n(Z-Based Error)')\n",
    "\n",
    "\n",
    "\n",
    "plt.show()"
   ]
  },
  {
   "cell_type": "code",
   "execution_count": 24,
   "metadata": {},
   "outputs": [
    {
     "output_type": "execute_result",
     "data": {
      "text/plain": [
       "                RREV_threshold      OF_y      My_d\n",
       "RREV_threshold        0.128934 -0.366187  0.153750\n",
       "OF_y                 -0.366187  3.202645  0.418622\n",
       "My_d                  0.153750  0.418622  3.016097"
      ],
      "text/html": "<div>\n<style scoped>\n    .dataframe tbody tr th:only-of-type {\n        vertical-align: middle;\n    }\n\n    .dataframe tbody tr th {\n        vertical-align: top;\n    }\n\n    .dataframe thead th {\n        text-align: right;\n    }\n</style>\n<table border=\"1\" class=\"dataframe\">\n  <thead>\n    <tr style=\"text-align: right;\">\n      <th></th>\n      <th>RREV_threshold</th>\n      <th>OF_y</th>\n      <th>My_d</th>\n    </tr>\n  </thead>\n  <tbody>\n    <tr>\n      <th>RREV_threshold</th>\n      <td>0.128934</td>\n      <td>-0.366187</td>\n      <td>0.153750</td>\n    </tr>\n    <tr>\n      <th>OF_y</th>\n      <td>-0.366187</td>\n      <td>3.202645</td>\n      <td>0.418622</td>\n    </tr>\n    <tr>\n      <th>My_d</th>\n      <td>0.153750</td>\n      <td>0.418622</td>\n      <td>3.016097</td>\n    </tr>\n  </tbody>\n</table>\n</div>"
     },
     "metadata": {},
     "execution_count": 24
    }
   ],
   "source": [
    "df_cov = df_reg[['RREV_threshold','OF_y','My_d']]\n",
    "df_cov.cov()"
   ]
  },
  {
   "cell_type": "code",
   "execution_count": 20,
   "metadata": {},
   "outputs": [
    {
     "output_type": "execute_result",
     "data": {
      "text/plain": [
       "     index  vz_d  vx_d  trial_num  landing_rate  RREV_threshold     G1    G2  \\\n",
       "6       87  1.50  2.25          3      0.964286            5.04   3.09  1.66   \n",
       "29     308  2.00  2.75          3      1.000000            4.84   2.28  2.42   \n",
       "15     178  1.75  2.00          5      1.000000            4.75   8.38  1.96   \n",
       "27     293  2.00  2.25          3      0.956522            4.79   7.16  3.17   \n",
       "56     494  2.50  2.75          5      0.933333            4.87   9.44  4.15   \n",
       "14     169  1.75  1.75          3      0.958333            4.95   6.27  2.00   \n",
       "39     379  2.25  2.25          0      0.866667            4.94   4.68  0.50   \n",
       "4       75  1.50  1.75          3      0.875000            4.86   3.32  1.60   \n",
       "3       64  1.50  1.50          0      0.600000            5.35   2.56  1.49   \n",
       "26     283  2.00  2.00          3      1.000000            4.54   2.26  4.90   \n",
       "38     377  2.25  2.00          5      0.920000            4.75   6.32  1.88   \n",
       "93     657  3.25  2.75          0      0.900000            4.57   5.61  0.97   \n",
       "13     167  1.75  1.50          5      0.793103            4.92   2.27  3.66   \n",
       "24     270  2.00  1.50          5      0.846154            5.04   4.58  1.04   \n",
       "92     654  3.25  2.50          1      1.000000            4.16   6.26  3.17   \n",
       "79     615  3.00  2.25          4      0.923077            4.38   4.48  0.72   \n",
       "51     457  2.50  1.75          1      0.800000            4.70   4.55  1.78   \n",
       "105    704  3.50  2.75          0      1.000000            3.94   5.10  1.99   \n",
       "12     155  1.75  1.25          2      0.642857            5.25   1.94  1.47   \n",
       "67     565  2.75  2.00          5      1.000000            4.18   8.55  5.92   \n",
       "23     262  2.00  1.25          4      0.640000            5.34   6.07  4.42   \n",
       "117    751  3.75  2.75          0      1.000000            4.05   9.87  6.03   \n",
       "91     651  3.25  2.25          3      0.814815            4.22   7.21  4.67   \n",
       "50     450  2.50  1.50          3      0.750000            4.64   4.22  2.24   \n",
       "129    802  4.00  2.75          2      0.900000            3.95   6.26  4.08   \n",
       "116    747  3.75  2.50          1      1.000000            3.90   7.89  4.51   \n",
       "90     645  3.25  2.00          2      0.954545            4.07   5.98  2.48   \n",
       "128    800  4.00  2.50          3      0.965517            4.04   7.75  2.20   \n",
       "66     551  2.75  1.75          2      0.862069            4.32   3.46  2.79   \n",
       "77     605  3.00  1.75          3      0.642857            4.41   8.21  2.36   \n",
       "115    743  3.75  2.25          0      0.800000            4.08   5.42  2.07   \n",
       "22     245  2.00  1.00          0      0.666667            4.81   6.83  3.04   \n",
       "127    797  4.00  2.25          3      0.766667            4.21   9.35  4.79   \n",
       "114    741  3.75  2.00          4      0.862069            3.99   7.60  4.15   \n",
       "126    791  4.00  2.00          0      0.833333            3.98   8.44  3.10   \n",
       "101    687  3.50  1.75          0      0.640000            4.01   4.53  4.10   \n",
       "124    782  4.00  1.50          1      0.800000            4.15   8.34  2.67   \n",
       "111    727  3.75  1.25          2      0.620690            3.99   7.24  0.58   \n",
       "121    768  4.00  0.75          1      0.633333            4.21   8.56  5.58   \n",
       "108    719  3.75  0.50          3      0.666667            3.90   7.53  3.62   \n",
       "94     660  3.50  0.00          2      0.800000            4.43  12.41  1.85   \n",
       "\n",
       "     RREV_sig  G1_sig  G2_sig  RREV_trigger      OF_y      My_d  impact_eul  \\\n",
       "6        0.00    0.03    0.04      5.700370 -6.846444  3.089370  -79.882310   \n",
       "29       0.02    0.09    0.00      5.231533 -6.063600  2.301367  -92.828947   \n",
       "15       0.09    1.50    0.46      5.603286 -5.736214  3.404357  -91.498347   \n",
       "27       0.06    0.10    0.25      5.497864 -5.611909  2.168455  -90.439828   \n",
       "56       0.02    0.52    0.14      5.339429 -5.429357  2.949464 -105.826224   \n",
       "14       0.01    0.03    0.13      5.816348 -5.210217  2.618348  -80.102154   \n",
       "39       0.02    0.11    0.11      5.548846 -5.084692  2.315192  -84.448864   \n",
       "4        0.00    0.00    0.00      5.288762 -4.940667  3.321476 -102.548794   \n",
       "3        0.03    0.10    0.20      5.778222 -4.626611  2.557667  -74.914026   \n",
       "26       0.01    0.05    0.63      5.213650 -4.393100  2.252100  -93.922152   \n",
       "38       0.01    0.11    0.03      5.326348 -4.340261  2.590696  -94.286220   \n",
       "93       0.02    0.01    0.23      4.993889 -3.973407  2.424963  -98.203579   \n",
       "13       0.01    0.01    0.21      5.526739 -3.904522  2.274043  -83.078370   \n",
       "24       0.21    0.17    0.02      5.503591 -3.743227  2.130545  -86.345022   \n",
       "92       0.01    0.01    0.06      4.765690 -3.443000  1.882483 -110.843809   \n",
       "79       0.04    0.01    0.00      4.797458 -3.366833  1.908417 -106.338524   \n",
       "51       0.10    0.00    0.08      5.186100 -3.354300  1.758950  -88.555273   \n",
       "105      0.01    0.00    0.14      4.513682 -3.353136  1.622545 -110.559367   \n",
       "12       0.00    0.08    0.01      5.595556 -3.294111  1.943222  -79.005424   \n",
       "67       0.00    0.06    0.00      4.829158 -3.265316  2.199368 -112.644754   \n",
       "23       0.00    0.08    0.04      5.560562 -3.152500  1.991750  -84.813828   \n",
       "117      0.09    0.00    0.49      4.458593 -3.101667  2.524519 -133.364435   \n",
       "91       0.05    0.03    0.05      4.689591 -3.050500  1.950318 -113.353369   \n",
       "50       0.00    0.05    0.01      5.139167 -2.847778  1.525167  -81.919262   \n",
       "129      0.00    0.01    0.51      4.289593 -2.802222  1.585963 -106.030821   \n",
       "116      0.01    0.14    0.03      4.356458 -2.759667  2.194167 -136.427074   \n",
       "90       0.03    0.70    0.84      4.667429 -2.700333  2.336714 -118.325466   \n",
       "128      0.05    0.01    0.04      4.505500 -2.684429  2.902464 -144.456835   \n",
       "66       0.07    0.04    0.08      4.746960 -2.664320  3.465840 -131.711669   \n",
       "77       0.01    0.15    0.04      4.880778 -2.659611  3.376056 -126.932986   \n",
       "115      0.08    0.03    0.02      4.643583 -2.644250  1.978542  -89.645464   \n",
       "22       0.03    0.26    0.01      5.476550 -2.483600  2.969200  -84.566019   \n",
       "127      0.02    0.29    0.02      4.510739 -2.422913  3.058000 -146.590794   \n",
       "114      0.02    0.11    0.38      4.351080 -2.199240  2.395280 -139.886865   \n",
       "126      0.08    0.14    0.01      4.388880 -2.090800  3.042280 -138.189728   \n",
       "101      0.02    0.07    0.21      4.328188 -2.038813  1.143312 -103.499641   \n",
       "124      0.02    0.25    0.40      4.530000 -1.619083  3.385000 -150.428473   \n",
       "111      0.10    0.02    0.09      4.416222 -1.399944  3.111444 -136.273271   \n",
       "121      0.05    0.10    0.16      4.456737 -0.800000  3.366947 -161.444325   \n",
       "108      0.05    0.01    0.19      4.358750 -0.555500  3.083150 -146.039434   \n",
       "94       0.07    0.17    0.66      4.844917 -0.001208  2.891958  -90.556931   \n",
       "\n",
       "     impact_tdelta alpha_mu alpha_sigma            mu_ini   sigma_ini  \n",
       "6         0.199778  [0. 0.]     [0. 0.]  [5.53 6.58 3.12]  [2. 2. 2.]  \n",
       "29        0.249867  [0. 0.]     [0. 0.]  [4.28 3.44 3.41]  [2. 2. 2.]  \n",
       "15        0.207500  [0. 0.]     [0. 0.]  [4.27 2.1  1.26]  [2. 2. 2.]  \n",
       "27        0.250091  [0. 0.]     [0. 0.]  [3.   6.37 2.39]  [2. 2. 2.]  \n",
       "56        0.229857  [0. 0.]     [0. 0.]  [3.46 4.64 3.83]  [2. 2. 2.]  \n",
       "14        0.220130  [0. 0.]     [0. 0.]  [2.63 5.71 4.73]  [2. 2. 2.]  \n",
       "39        0.236192  [0. 0.]     [0. 0.]  [6.28 5.01 2.19]  [2. 2. 2.]  \n",
       "4         0.226952  [0. 0.]     [0. 0.]  [6.57 4.7  4.59]  [2. 2. 2.]  \n",
       "3         0.210556  [0. 0.]     [0. 0.]  [5.17 2.78 1.13]  [2. 2. 2.]  \n",
       "26        0.248400  [0. 0.]     [0. 0.]  [1.94 4.35 1.46]  [2. 2. 2.]  \n",
       "38        0.229043  [0. 0.]     [0. 0.]  [4.04 5.86 2.95]  [2. 2. 2.]  \n",
       "93        0.241630  [0. 0.]     [0. 0.]  [1.56 5.9  4.84]  [2. 2. 2.]  \n",
       "13        0.236174  [0. 0.]     [0. 0.]  [5.24 1.65 1.06]  [2. 2. 2.]  \n",
       "24        0.239364  [0. 0.]     [0. 0.]  [3.97 2.58 2.45]  [2. 2. 2.]  \n",
       "92        0.287483  [0. 0.]     [0. 0.]  [2.38 4.58 4.1 ]  [2. 2. 2.]  \n",
       "79        0.288042  [0. 0.]     [0. 0.]  [5.31 3.47 1.66]  [2. 2. 2.]  \n",
       "51        0.270650  [0. 0.]     [0. 0.]  [6.61 2.93 2.88]  [2. 2. 2.]  \n",
       "105       0.309045  [0. 0.]     [0. 0.]  [3.32 5.96 4.2 ]  [2. 2. 2.]  \n",
       "12        0.245333  [0. 0.]     [0. 0.]  [5.24 1.42 1.14]  [2. 2. 2.]  \n",
       "67        0.279632  [0. 0.]     [0. 0.]  [2.45 5.61 5.29]  [2. 2. 2.]  \n",
       "23        0.259062  [0. 0.]     [0. 0.]  [6.43 4.32 2.66]  [2. 2. 2.]  \n",
       "117       0.277481  [0. 0.]     [0. 0.]  [3.84 6.28 5.76]  [2. 2. 2.]  \n",
       "91        0.285364  [0. 0.]     [0. 0.]  [2.52 5.8  5.09]  [2. 2. 2.]  \n",
       "50        0.272611  [0. 0.]     [0. 0.]  [3.38 4.89 3.53]  [2. 2. 2.]  \n",
       "129       0.305444  [0. 0.]     [0. 0.]  [4.36 5.03 2.5 ]  [2. 2. 2.]  \n",
       "116       0.313667  [0. 0.]     [0. 0.]  [3.26 6.73 3.39]  [2. 2. 2.]  \n",
       "90        0.274762  [0. 0.]     [0. 0.]  [3.41 5.24 2.68]  [2. 2. 2.]  \n",
       "128       0.274286  [0. 0.]     [0. 0.]  [4.2  3.53 3.  ]  [2. 2. 2.]  \n",
       "66        0.243840  [0. 0.]     [0. 0.]  [6.05 2.45 1.31]  [2. 2. 2.]  \n",
       "77        0.234056  [0. 0.]     [0. 0.]  [2.32 5.21 2.04]  [2. 2. 2.]  \n",
       "115       0.272333  [0. 0.]     [0. 0.]  [4.74 2.04 1.94]  [2. 2. 2.]  \n",
       "22        0.222550  [0. 0.]     [0. 0.]  [4.08 4.93 2.21]  [2. 2. 2.]  \n",
       "127       0.276826  [0. 0.]     [0. 0.]  [4.92 4.36 2.78]  [2. 2. 2.]  \n",
       "114       0.294400  [0. 0.]     [0. 0.]     [6.2 6.1 1.5]  [2. 2. 2.]  \n",
       "126       0.282440  [0. 0.]     [0. 0.]  [5.68 5.73 1.93]  [2. 2. 2.]  \n",
       "101       0.352375  [0. 0.]     [0. 0.]  [2.52 4.33 4.15]  [2. 2. 2.]  \n",
       "124       0.259667  [0. 0.]     [0. 0.]  [1.65 4.26 2.81]  [2. 2. 2.]  \n",
       "111       0.283944  [0. 0.]     [0. 0.]  [4.88 5.07 1.71]  [2. 2. 2.]  \n",
       "121       0.278211  [0. 0.]     [0. 0.]  [3.43 5.46 2.94]  [2. 2. 2.]  \n",
       "108       0.292200  [0. 0.]     [0. 0.]  [3.74 5.53 4.76]  [2. 2. 2.]  \n",
       "94        0.237958  [0. 0.]     [0. 0.]  [6.07 3.22 2.33]  [2. 2. 2.]  "
      ],
      "text/html": "<div>\n<style scoped>\n    .dataframe tbody tr th:only-of-type {\n        vertical-align: middle;\n    }\n\n    .dataframe tbody tr th {\n        vertical-align: top;\n    }\n\n    .dataframe thead th {\n        text-align: right;\n    }\n</style>\n<table border=\"1\" class=\"dataframe\">\n  <thead>\n    <tr style=\"text-align: right;\">\n      <th></th>\n      <th>index</th>\n      <th>vz_d</th>\n      <th>vx_d</th>\n      <th>trial_num</th>\n      <th>landing_rate</th>\n      <th>RREV_threshold</th>\n      <th>G1</th>\n      <th>G2</th>\n      <th>RREV_sig</th>\n      <th>G1_sig</th>\n      <th>G2_sig</th>\n      <th>RREV_trigger</th>\n      <th>OF_y</th>\n      <th>My_d</th>\n      <th>impact_eul</th>\n      <th>impact_tdelta</th>\n      <th>alpha_mu</th>\n      <th>alpha_sigma</th>\n      <th>mu_ini</th>\n      <th>sigma_ini</th>\n    </tr>\n  </thead>\n  <tbody>\n    <tr>\n      <th>6</th>\n      <td>87</td>\n      <td>1.50</td>\n      <td>2.25</td>\n      <td>3</td>\n      <td>0.964286</td>\n      <td>5.04</td>\n      <td>3.09</td>\n      <td>1.66</td>\n      <td>0.00</td>\n      <td>0.03</td>\n      <td>0.04</td>\n      <td>5.700370</td>\n      <td>-6.846444</td>\n      <td>3.089370</td>\n      <td>-79.882310</td>\n      <td>0.199778</td>\n      <td>[0. 0.]</td>\n      <td>[0. 0.]</td>\n      <td>[5.53 6.58 3.12]</td>\n      <td>[2. 2. 2.]</td>\n    </tr>\n    <tr>\n      <th>29</th>\n      <td>308</td>\n      <td>2.00</td>\n      <td>2.75</td>\n      <td>3</td>\n      <td>1.000000</td>\n      <td>4.84</td>\n      <td>2.28</td>\n      <td>2.42</td>\n      <td>0.02</td>\n      <td>0.09</td>\n      <td>0.00</td>\n      <td>5.231533</td>\n      <td>-6.063600</td>\n      <td>2.301367</td>\n      <td>-92.828947</td>\n      <td>0.249867</td>\n      <td>[0. 0.]</td>\n      <td>[0. 0.]</td>\n      <td>[4.28 3.44 3.41]</td>\n      <td>[2. 2. 2.]</td>\n    </tr>\n    <tr>\n      <th>15</th>\n      <td>178</td>\n      <td>1.75</td>\n      <td>2.00</td>\n      <td>5</td>\n      <td>1.000000</td>\n      <td>4.75</td>\n      <td>8.38</td>\n      <td>1.96</td>\n      <td>0.09</td>\n      <td>1.50</td>\n      <td>0.46</td>\n      <td>5.603286</td>\n      <td>-5.736214</td>\n      <td>3.404357</td>\n      <td>-91.498347</td>\n      <td>0.207500</td>\n      <td>[0. 0.]</td>\n      <td>[0. 0.]</td>\n      <td>[4.27 2.1  1.26]</td>\n      <td>[2. 2. 2.]</td>\n    </tr>\n    <tr>\n      <th>27</th>\n      <td>293</td>\n      <td>2.00</td>\n      <td>2.25</td>\n      <td>3</td>\n      <td>0.956522</td>\n      <td>4.79</td>\n      <td>7.16</td>\n      <td>3.17</td>\n      <td>0.06</td>\n      <td>0.10</td>\n      <td>0.25</td>\n      <td>5.497864</td>\n      <td>-5.611909</td>\n      <td>2.168455</td>\n      <td>-90.439828</td>\n      <td>0.250091</td>\n      <td>[0. 0.]</td>\n      <td>[0. 0.]</td>\n      <td>[3.   6.37 2.39]</td>\n      <td>[2. 2. 2.]</td>\n    </tr>\n    <tr>\n      <th>56</th>\n      <td>494</td>\n      <td>2.50</td>\n      <td>2.75</td>\n      <td>5</td>\n      <td>0.933333</td>\n      <td>4.87</td>\n      <td>9.44</td>\n      <td>4.15</td>\n      <td>0.02</td>\n      <td>0.52</td>\n      <td>0.14</td>\n      <td>5.339429</td>\n      <td>-5.429357</td>\n      <td>2.949464</td>\n      <td>-105.826224</td>\n      <td>0.229857</td>\n      <td>[0. 0.]</td>\n      <td>[0. 0.]</td>\n      <td>[3.46 4.64 3.83]</td>\n      <td>[2. 2. 2.]</td>\n    </tr>\n    <tr>\n      <th>14</th>\n      <td>169</td>\n      <td>1.75</td>\n      <td>1.75</td>\n      <td>3</td>\n      <td>0.958333</td>\n      <td>4.95</td>\n      <td>6.27</td>\n      <td>2.00</td>\n      <td>0.01</td>\n      <td>0.03</td>\n      <td>0.13</td>\n      <td>5.816348</td>\n      <td>-5.210217</td>\n      <td>2.618348</td>\n      <td>-80.102154</td>\n      <td>0.220130</td>\n      <td>[0. 0.]</td>\n      <td>[0. 0.]</td>\n      <td>[2.63 5.71 4.73]</td>\n      <td>[2. 2. 2.]</td>\n    </tr>\n    <tr>\n      <th>39</th>\n      <td>379</td>\n      <td>2.25</td>\n      <td>2.25</td>\n      <td>0</td>\n      <td>0.866667</td>\n      <td>4.94</td>\n      <td>4.68</td>\n      <td>0.50</td>\n      <td>0.02</td>\n      <td>0.11</td>\n      <td>0.11</td>\n      <td>5.548846</td>\n      <td>-5.084692</td>\n      <td>2.315192</td>\n      <td>-84.448864</td>\n      <td>0.236192</td>\n      <td>[0. 0.]</td>\n      <td>[0. 0.]</td>\n      <td>[6.28 5.01 2.19]</td>\n      <td>[2. 2. 2.]</td>\n    </tr>\n    <tr>\n      <th>4</th>\n      <td>75</td>\n      <td>1.50</td>\n      <td>1.75</td>\n      <td>3</td>\n      <td>0.875000</td>\n      <td>4.86</td>\n      <td>3.32</td>\n      <td>1.60</td>\n      <td>0.00</td>\n      <td>0.00</td>\n      <td>0.00</td>\n      <td>5.288762</td>\n      <td>-4.940667</td>\n      <td>3.321476</td>\n      <td>-102.548794</td>\n      <td>0.226952</td>\n      <td>[0. 0.]</td>\n      <td>[0. 0.]</td>\n      <td>[6.57 4.7  4.59]</td>\n      <td>[2. 2. 2.]</td>\n    </tr>\n    <tr>\n      <th>3</th>\n      <td>64</td>\n      <td>1.50</td>\n      <td>1.50</td>\n      <td>0</td>\n      <td>0.600000</td>\n      <td>5.35</td>\n      <td>2.56</td>\n      <td>1.49</td>\n      <td>0.03</td>\n      <td>0.10</td>\n      <td>0.20</td>\n      <td>5.778222</td>\n      <td>-4.626611</td>\n      <td>2.557667</td>\n      <td>-74.914026</td>\n      <td>0.210556</td>\n      <td>[0. 0.]</td>\n      <td>[0. 0.]</td>\n      <td>[5.17 2.78 1.13]</td>\n      <td>[2. 2. 2.]</td>\n    </tr>\n    <tr>\n      <th>26</th>\n      <td>283</td>\n      <td>2.00</td>\n      <td>2.00</td>\n      <td>3</td>\n      <td>1.000000</td>\n      <td>4.54</td>\n      <td>2.26</td>\n      <td>4.90</td>\n      <td>0.01</td>\n      <td>0.05</td>\n      <td>0.63</td>\n      <td>5.213650</td>\n      <td>-4.393100</td>\n      <td>2.252100</td>\n      <td>-93.922152</td>\n      <td>0.248400</td>\n      <td>[0. 0.]</td>\n      <td>[0. 0.]</td>\n      <td>[1.94 4.35 1.46]</td>\n      <td>[2. 2. 2.]</td>\n    </tr>\n    <tr>\n      <th>38</th>\n      <td>377</td>\n      <td>2.25</td>\n      <td>2.00</td>\n      <td>5</td>\n      <td>0.920000</td>\n      <td>4.75</td>\n      <td>6.32</td>\n      <td>1.88</td>\n      <td>0.01</td>\n      <td>0.11</td>\n      <td>0.03</td>\n      <td>5.326348</td>\n      <td>-4.340261</td>\n      <td>2.590696</td>\n      <td>-94.286220</td>\n      <td>0.229043</td>\n      <td>[0. 0.]</td>\n      <td>[0. 0.]</td>\n      <td>[4.04 5.86 2.95]</td>\n      <td>[2. 2. 2.]</td>\n    </tr>\n    <tr>\n      <th>93</th>\n      <td>657</td>\n      <td>3.25</td>\n      <td>2.75</td>\n      <td>0</td>\n      <td>0.900000</td>\n      <td>4.57</td>\n      <td>5.61</td>\n      <td>0.97</td>\n      <td>0.02</td>\n      <td>0.01</td>\n      <td>0.23</td>\n      <td>4.993889</td>\n      <td>-3.973407</td>\n      <td>2.424963</td>\n      <td>-98.203579</td>\n      <td>0.241630</td>\n      <td>[0. 0.]</td>\n      <td>[0. 0.]</td>\n      <td>[1.56 5.9  4.84]</td>\n      <td>[2. 2. 2.]</td>\n    </tr>\n    <tr>\n      <th>13</th>\n      <td>167</td>\n      <td>1.75</td>\n      <td>1.50</td>\n      <td>5</td>\n      <td>0.793103</td>\n      <td>4.92</td>\n      <td>2.27</td>\n      <td>3.66</td>\n      <td>0.01</td>\n      <td>0.01</td>\n      <td>0.21</td>\n      <td>5.526739</td>\n      <td>-3.904522</td>\n      <td>2.274043</td>\n      <td>-83.078370</td>\n      <td>0.236174</td>\n      <td>[0. 0.]</td>\n      <td>[0. 0.]</td>\n      <td>[5.24 1.65 1.06]</td>\n      <td>[2. 2. 2.]</td>\n    </tr>\n    <tr>\n      <th>24</th>\n      <td>270</td>\n      <td>2.00</td>\n      <td>1.50</td>\n      <td>5</td>\n      <td>0.846154</td>\n      <td>5.04</td>\n      <td>4.58</td>\n      <td>1.04</td>\n      <td>0.21</td>\n      <td>0.17</td>\n      <td>0.02</td>\n      <td>5.503591</td>\n      <td>-3.743227</td>\n      <td>2.130545</td>\n      <td>-86.345022</td>\n      <td>0.239364</td>\n      <td>[0. 0.]</td>\n      <td>[0. 0.]</td>\n      <td>[3.97 2.58 2.45]</td>\n      <td>[2. 2. 2.]</td>\n    </tr>\n    <tr>\n      <th>92</th>\n      <td>654</td>\n      <td>3.25</td>\n      <td>2.50</td>\n      <td>1</td>\n      <td>1.000000</td>\n      <td>4.16</td>\n      <td>6.26</td>\n      <td>3.17</td>\n      <td>0.01</td>\n      <td>0.01</td>\n      <td>0.06</td>\n      <td>4.765690</td>\n      <td>-3.443000</td>\n      <td>1.882483</td>\n      <td>-110.843809</td>\n      <td>0.287483</td>\n      <td>[0. 0.]</td>\n      <td>[0. 0.]</td>\n      <td>[2.38 4.58 4.1 ]</td>\n      <td>[2. 2. 2.]</td>\n    </tr>\n    <tr>\n      <th>79</th>\n      <td>615</td>\n      <td>3.00</td>\n      <td>2.25</td>\n      <td>4</td>\n      <td>0.923077</td>\n      <td>4.38</td>\n      <td>4.48</td>\n      <td>0.72</td>\n      <td>0.04</td>\n      <td>0.01</td>\n      <td>0.00</td>\n      <td>4.797458</td>\n      <td>-3.366833</td>\n      <td>1.908417</td>\n      <td>-106.338524</td>\n      <td>0.288042</td>\n      <td>[0. 0.]</td>\n      <td>[0. 0.]</td>\n      <td>[5.31 3.47 1.66]</td>\n      <td>[2. 2. 2.]</td>\n    </tr>\n    <tr>\n      <th>51</th>\n      <td>457</td>\n      <td>2.50</td>\n      <td>1.75</td>\n      <td>1</td>\n      <td>0.800000</td>\n      <td>4.70</td>\n      <td>4.55</td>\n      <td>1.78</td>\n      <td>0.10</td>\n      <td>0.00</td>\n      <td>0.08</td>\n      <td>5.186100</td>\n      <td>-3.354300</td>\n      <td>1.758950</td>\n      <td>-88.555273</td>\n      <td>0.270650</td>\n      <td>[0. 0.]</td>\n      <td>[0. 0.]</td>\n      <td>[6.61 2.93 2.88]</td>\n      <td>[2. 2. 2.]</td>\n    </tr>\n    <tr>\n      <th>105</th>\n      <td>704</td>\n      <td>3.50</td>\n      <td>2.75</td>\n      <td>0</td>\n      <td>1.000000</td>\n      <td>3.94</td>\n      <td>5.10</td>\n      <td>1.99</td>\n      <td>0.01</td>\n      <td>0.00</td>\n      <td>0.14</td>\n      <td>4.513682</td>\n      <td>-3.353136</td>\n      <td>1.622545</td>\n      <td>-110.559367</td>\n      <td>0.309045</td>\n      <td>[0. 0.]</td>\n      <td>[0. 0.]</td>\n      <td>[3.32 5.96 4.2 ]</td>\n      <td>[2. 2. 2.]</td>\n    </tr>\n    <tr>\n      <th>12</th>\n      <td>155</td>\n      <td>1.75</td>\n      <td>1.25</td>\n      <td>2</td>\n      <td>0.642857</td>\n      <td>5.25</td>\n      <td>1.94</td>\n      <td>1.47</td>\n      <td>0.00</td>\n      <td>0.08</td>\n      <td>0.01</td>\n      <td>5.595556</td>\n      <td>-3.294111</td>\n      <td>1.943222</td>\n      <td>-79.005424</td>\n      <td>0.245333</td>\n      <td>[0. 0.]</td>\n      <td>[0. 0.]</td>\n      <td>[5.24 1.42 1.14]</td>\n      <td>[2. 2. 2.]</td>\n    </tr>\n    <tr>\n      <th>67</th>\n      <td>565</td>\n      <td>2.75</td>\n      <td>2.00</td>\n      <td>5</td>\n      <td>1.000000</td>\n      <td>4.18</td>\n      <td>8.55</td>\n      <td>5.92</td>\n      <td>0.00</td>\n      <td>0.06</td>\n      <td>0.00</td>\n      <td>4.829158</td>\n      <td>-3.265316</td>\n      <td>2.199368</td>\n      <td>-112.644754</td>\n      <td>0.279632</td>\n      <td>[0. 0.]</td>\n      <td>[0. 0.]</td>\n      <td>[2.45 5.61 5.29]</td>\n      <td>[2. 2. 2.]</td>\n    </tr>\n    <tr>\n      <th>23</th>\n      <td>262</td>\n      <td>2.00</td>\n      <td>1.25</td>\n      <td>4</td>\n      <td>0.640000</td>\n      <td>5.34</td>\n      <td>6.07</td>\n      <td>4.42</td>\n      <td>0.00</td>\n      <td>0.08</td>\n      <td>0.04</td>\n      <td>5.560562</td>\n      <td>-3.152500</td>\n      <td>1.991750</td>\n      <td>-84.813828</td>\n      <td>0.259062</td>\n      <td>[0. 0.]</td>\n      <td>[0. 0.]</td>\n      <td>[6.43 4.32 2.66]</td>\n      <td>[2. 2. 2.]</td>\n    </tr>\n    <tr>\n      <th>117</th>\n      <td>751</td>\n      <td>3.75</td>\n      <td>2.75</td>\n      <td>0</td>\n      <td>1.000000</td>\n      <td>4.05</td>\n      <td>9.87</td>\n      <td>6.03</td>\n      <td>0.09</td>\n      <td>0.00</td>\n      <td>0.49</td>\n      <td>4.458593</td>\n      <td>-3.101667</td>\n      <td>2.524519</td>\n      <td>-133.364435</td>\n      <td>0.277481</td>\n      <td>[0. 0.]</td>\n      <td>[0. 0.]</td>\n      <td>[3.84 6.28 5.76]</td>\n      <td>[2. 2. 2.]</td>\n    </tr>\n    <tr>\n      <th>91</th>\n      <td>651</td>\n      <td>3.25</td>\n      <td>2.25</td>\n      <td>3</td>\n      <td>0.814815</td>\n      <td>4.22</td>\n      <td>7.21</td>\n      <td>4.67</td>\n      <td>0.05</td>\n      <td>0.03</td>\n      <td>0.05</td>\n      <td>4.689591</td>\n      <td>-3.050500</td>\n      <td>1.950318</td>\n      <td>-113.353369</td>\n      <td>0.285364</td>\n      <td>[0. 0.]</td>\n      <td>[0. 0.]</td>\n      <td>[2.52 5.8  5.09]</td>\n      <td>[2. 2. 2.]</td>\n    </tr>\n    <tr>\n      <th>50</th>\n      <td>450</td>\n      <td>2.50</td>\n      <td>1.50</td>\n      <td>3</td>\n      <td>0.750000</td>\n      <td>4.64</td>\n      <td>4.22</td>\n      <td>2.24</td>\n      <td>0.00</td>\n      <td>0.05</td>\n      <td>0.01</td>\n      <td>5.139167</td>\n      <td>-2.847778</td>\n      <td>1.525167</td>\n      <td>-81.919262</td>\n      <td>0.272611</td>\n      <td>[0. 0.]</td>\n      <td>[0. 0.]</td>\n      <td>[3.38 4.89 3.53]</td>\n      <td>[2. 2. 2.]</td>\n    </tr>\n    <tr>\n      <th>129</th>\n      <td>802</td>\n      <td>4.00</td>\n      <td>2.75</td>\n      <td>2</td>\n      <td>0.900000</td>\n      <td>3.95</td>\n      <td>6.26</td>\n      <td>4.08</td>\n      <td>0.00</td>\n      <td>0.01</td>\n      <td>0.51</td>\n      <td>4.289593</td>\n      <td>-2.802222</td>\n      <td>1.585963</td>\n      <td>-106.030821</td>\n      <td>0.305444</td>\n      <td>[0. 0.]</td>\n      <td>[0. 0.]</td>\n      <td>[4.36 5.03 2.5 ]</td>\n      <td>[2. 2. 2.]</td>\n    </tr>\n    <tr>\n      <th>116</th>\n      <td>747</td>\n      <td>3.75</td>\n      <td>2.50</td>\n      <td>1</td>\n      <td>1.000000</td>\n      <td>3.90</td>\n      <td>7.89</td>\n      <td>4.51</td>\n      <td>0.01</td>\n      <td>0.14</td>\n      <td>0.03</td>\n      <td>4.356458</td>\n      <td>-2.759667</td>\n      <td>2.194167</td>\n      <td>-136.427074</td>\n      <td>0.313667</td>\n      <td>[0. 0.]</td>\n      <td>[0. 0.]</td>\n      <td>[3.26 6.73 3.39]</td>\n      <td>[2. 2. 2.]</td>\n    </tr>\n    <tr>\n      <th>90</th>\n      <td>645</td>\n      <td>3.25</td>\n      <td>2.00</td>\n      <td>2</td>\n      <td>0.954545</td>\n      <td>4.07</td>\n      <td>5.98</td>\n      <td>2.48</td>\n      <td>0.03</td>\n      <td>0.70</td>\n      <td>0.84</td>\n      <td>4.667429</td>\n      <td>-2.700333</td>\n      <td>2.336714</td>\n      <td>-118.325466</td>\n      <td>0.274762</td>\n      <td>[0. 0.]</td>\n      <td>[0. 0.]</td>\n      <td>[3.41 5.24 2.68]</td>\n      <td>[2. 2. 2.]</td>\n    </tr>\n    <tr>\n      <th>128</th>\n      <td>800</td>\n      <td>4.00</td>\n      <td>2.50</td>\n      <td>3</td>\n      <td>0.965517</td>\n      <td>4.04</td>\n      <td>7.75</td>\n      <td>2.20</td>\n      <td>0.05</td>\n      <td>0.01</td>\n      <td>0.04</td>\n      <td>4.505500</td>\n      <td>-2.684429</td>\n      <td>2.902464</td>\n      <td>-144.456835</td>\n      <td>0.274286</td>\n      <td>[0. 0.]</td>\n      <td>[0. 0.]</td>\n      <td>[4.2  3.53 3.  ]</td>\n      <td>[2. 2. 2.]</td>\n    </tr>\n    <tr>\n      <th>66</th>\n      <td>551</td>\n      <td>2.75</td>\n      <td>1.75</td>\n      <td>2</td>\n      <td>0.862069</td>\n      <td>4.32</td>\n      <td>3.46</td>\n      <td>2.79</td>\n      <td>0.07</td>\n      <td>0.04</td>\n      <td>0.08</td>\n      <td>4.746960</td>\n      <td>-2.664320</td>\n      <td>3.465840</td>\n      <td>-131.711669</td>\n      <td>0.243840</td>\n      <td>[0. 0.]</td>\n      <td>[0. 0.]</td>\n      <td>[6.05 2.45 1.31]</td>\n      <td>[2. 2. 2.]</td>\n    </tr>\n    <tr>\n      <th>77</th>\n      <td>605</td>\n      <td>3.00</td>\n      <td>1.75</td>\n      <td>3</td>\n      <td>0.642857</td>\n      <td>4.41</td>\n      <td>8.21</td>\n      <td>2.36</td>\n      <td>0.01</td>\n      <td>0.15</td>\n      <td>0.04</td>\n      <td>4.880778</td>\n      <td>-2.659611</td>\n      <td>3.376056</td>\n      <td>-126.932986</td>\n      <td>0.234056</td>\n      <td>[0. 0.]</td>\n      <td>[0. 0.]</td>\n      <td>[2.32 5.21 2.04]</td>\n      <td>[2. 2. 2.]</td>\n    </tr>\n    <tr>\n      <th>115</th>\n      <td>743</td>\n      <td>3.75</td>\n      <td>2.25</td>\n      <td>0</td>\n      <td>0.800000</td>\n      <td>4.08</td>\n      <td>5.42</td>\n      <td>2.07</td>\n      <td>0.08</td>\n      <td>0.03</td>\n      <td>0.02</td>\n      <td>4.643583</td>\n      <td>-2.644250</td>\n      <td>1.978542</td>\n      <td>-89.645464</td>\n      <td>0.272333</td>\n      <td>[0. 0.]</td>\n      <td>[0. 0.]</td>\n      <td>[4.74 2.04 1.94]</td>\n      <td>[2. 2. 2.]</td>\n    </tr>\n    <tr>\n      <th>22</th>\n      <td>245</td>\n      <td>2.00</td>\n      <td>1.00</td>\n      <td>0</td>\n      <td>0.666667</td>\n      <td>4.81</td>\n      <td>6.83</td>\n      <td>3.04</td>\n      <td>0.03</td>\n      <td>0.26</td>\n      <td>0.01</td>\n      <td>5.476550</td>\n      <td>-2.483600</td>\n      <td>2.969200</td>\n      <td>-84.566019</td>\n      <td>0.222550</td>\n      <td>[0. 0.]</td>\n      <td>[0. 0.]</td>\n      <td>[4.08 4.93 2.21]</td>\n      <td>[2. 2. 2.]</td>\n    </tr>\n    <tr>\n      <th>127</th>\n      <td>797</td>\n      <td>4.00</td>\n      <td>2.25</td>\n      <td>3</td>\n      <td>0.766667</td>\n      <td>4.21</td>\n      <td>9.35</td>\n      <td>4.79</td>\n      <td>0.02</td>\n      <td>0.29</td>\n      <td>0.02</td>\n      <td>4.510739</td>\n      <td>-2.422913</td>\n      <td>3.058000</td>\n      <td>-146.590794</td>\n      <td>0.276826</td>\n      <td>[0. 0.]</td>\n      <td>[0. 0.]</td>\n      <td>[4.92 4.36 2.78]</td>\n      <td>[2. 2. 2.]</td>\n    </tr>\n    <tr>\n      <th>114</th>\n      <td>741</td>\n      <td>3.75</td>\n      <td>2.00</td>\n      <td>4</td>\n      <td>0.862069</td>\n      <td>3.99</td>\n      <td>7.60</td>\n      <td>4.15</td>\n      <td>0.02</td>\n      <td>0.11</td>\n      <td>0.38</td>\n      <td>4.351080</td>\n      <td>-2.199240</td>\n      <td>2.395280</td>\n      <td>-139.886865</td>\n      <td>0.294400</td>\n      <td>[0. 0.]</td>\n      <td>[0. 0.]</td>\n      <td>[6.2 6.1 1.5]</td>\n      <td>[2. 2. 2.]</td>\n    </tr>\n    <tr>\n      <th>126</th>\n      <td>791</td>\n      <td>4.00</td>\n      <td>2.00</td>\n      <td>0</td>\n      <td>0.833333</td>\n      <td>3.98</td>\n      <td>8.44</td>\n      <td>3.10</td>\n      <td>0.08</td>\n      <td>0.14</td>\n      <td>0.01</td>\n      <td>4.388880</td>\n      <td>-2.090800</td>\n      <td>3.042280</td>\n      <td>-138.189728</td>\n      <td>0.282440</td>\n      <td>[0. 0.]</td>\n      <td>[0. 0.]</td>\n      <td>[5.68 5.73 1.93]</td>\n      <td>[2. 2. 2.]</td>\n    </tr>\n    <tr>\n      <th>101</th>\n      <td>687</td>\n      <td>3.50</td>\n      <td>1.75</td>\n      <td>0</td>\n      <td>0.640000</td>\n      <td>4.01</td>\n      <td>4.53</td>\n      <td>4.10</td>\n      <td>0.02</td>\n      <td>0.07</td>\n      <td>0.21</td>\n      <td>4.328188</td>\n      <td>-2.038813</td>\n      <td>1.143312</td>\n      <td>-103.499641</td>\n      <td>0.352375</td>\n      <td>[0. 0.]</td>\n      <td>[0. 0.]</td>\n      <td>[2.52 4.33 4.15]</td>\n      <td>[2. 2. 2.]</td>\n    </tr>\n    <tr>\n      <th>124</th>\n      <td>782</td>\n      <td>4.00</td>\n      <td>1.50</td>\n      <td>1</td>\n      <td>0.800000</td>\n      <td>4.15</td>\n      <td>8.34</td>\n      <td>2.67</td>\n      <td>0.02</td>\n      <td>0.25</td>\n      <td>0.40</td>\n      <td>4.530000</td>\n      <td>-1.619083</td>\n      <td>3.385000</td>\n      <td>-150.428473</td>\n      <td>0.259667</td>\n      <td>[0. 0.]</td>\n      <td>[0. 0.]</td>\n      <td>[1.65 4.26 2.81]</td>\n      <td>[2. 2. 2.]</td>\n    </tr>\n    <tr>\n      <th>111</th>\n      <td>727</td>\n      <td>3.75</td>\n      <td>1.25</td>\n      <td>2</td>\n      <td>0.620690</td>\n      <td>3.99</td>\n      <td>7.24</td>\n      <td>0.58</td>\n      <td>0.10</td>\n      <td>0.02</td>\n      <td>0.09</td>\n      <td>4.416222</td>\n      <td>-1.399944</td>\n      <td>3.111444</td>\n      <td>-136.273271</td>\n      <td>0.283944</td>\n      <td>[0. 0.]</td>\n      <td>[0. 0.]</td>\n      <td>[4.88 5.07 1.71]</td>\n      <td>[2. 2. 2.]</td>\n    </tr>\n    <tr>\n      <th>121</th>\n      <td>768</td>\n      <td>4.00</td>\n      <td>0.75</td>\n      <td>1</td>\n      <td>0.633333</td>\n      <td>4.21</td>\n      <td>8.56</td>\n      <td>5.58</td>\n      <td>0.05</td>\n      <td>0.10</td>\n      <td>0.16</td>\n      <td>4.456737</td>\n      <td>-0.800000</td>\n      <td>3.366947</td>\n      <td>-161.444325</td>\n      <td>0.278211</td>\n      <td>[0. 0.]</td>\n      <td>[0. 0.]</td>\n      <td>[3.43 5.46 2.94]</td>\n      <td>[2. 2. 2.]</td>\n    </tr>\n    <tr>\n      <th>108</th>\n      <td>719</td>\n      <td>3.75</td>\n      <td>0.50</td>\n      <td>3</td>\n      <td>0.666667</td>\n      <td>3.90</td>\n      <td>7.53</td>\n      <td>3.62</td>\n      <td>0.05</td>\n      <td>0.01</td>\n      <td>0.19</td>\n      <td>4.358750</td>\n      <td>-0.555500</td>\n      <td>3.083150</td>\n      <td>-146.039434</td>\n      <td>0.292200</td>\n      <td>[0. 0.]</td>\n      <td>[0. 0.]</td>\n      <td>[3.74 5.53 4.76]</td>\n      <td>[2. 2. 2.]</td>\n    </tr>\n    <tr>\n      <th>94</th>\n      <td>660</td>\n      <td>3.50</td>\n      <td>0.00</td>\n      <td>2</td>\n      <td>0.800000</td>\n      <td>4.43</td>\n      <td>12.41</td>\n      <td>1.85</td>\n      <td>0.07</td>\n      <td>0.17</td>\n      <td>0.66</td>\n      <td>4.844917</td>\n      <td>-0.001208</td>\n      <td>2.891958</td>\n      <td>-90.556931</td>\n      <td>0.237958</td>\n      <td>[0. 0.]</td>\n      <td>[0. 0.]</td>\n      <td>[6.07 3.22 2.33]</td>\n      <td>[2. 2. 2.]</td>\n    </tr>\n  </tbody>\n</table>\n</div>"
     },
     "metadata": {},
     "execution_count": 20
    }
   ],
   "source": [
    "df_reg.query(f\"My_d<={3.5}\").sort_values('OF_y')"
   ]
  },
  {
   "source": [
    "## Regression with x-based loss\n"
   ],
   "cell_type": "markdown",
   "metadata": {}
  },
  {
   "cell_type": "code",
   "execution_count": 21,
   "metadata": {},
   "outputs": [
    {
     "output_type": "display_data",
     "data": {
      "text/plain": "Canvas(toolbar=Toolbar(toolitems=[('Home', 'Reset original view', 'home', 'home'), ('Back', 'Back to previous …",
      "application/vnd.jupyter.widget-view+json": {
       "version_major": 2,
       "version_minor": 0,
       "model_id": "38b86ecb725448daa053924f129110f3"
      }
     },
     "metadata": {}
    },
    {
     "output_type": "stream",
     "name": "stdout",
     "text": [
      "Equation: RREV_thr = 3.88 + 0.07*My_d + -0.12*OF_y \n\nR^2 = 0.431\n"
     ]
    }
   ],
   "source": [
    "fig = plt.figure()\n",
    "ax = fig.add_subplot(111,projection=\"3d\")\n",
    "\n",
    "# CLEAN DATA\n",
    "df_reg = df_max.query(f\"landing_rate>={0.6}\")\n",
    "\n",
    "\n",
    "# LINEAR REGRESSION\n",
    "X_reg = df_reg[['My_d','OF_y']]\n",
    "Y_reg = df_reg['RREV_threshold']\n",
    "\n",
    "ypred, intercept,coef,R2 = linreg(X_reg,Y_reg)\n",
    "print(f\"Equation: RREV_thr = {intercept:.2f} + {coef[0]:.2f}*My_d + {coef[1]:.2f}*OF_y \\n\")\n",
    "# print(f\"Equation: My_d = ((RREV_thr - {intercept:.2f}) - {coef[1]:.2f}*OF_y)/{coef[0]:.2f})\")\n",
    "print(f\"R^2 = {R2:.3f}\")\n",
    "\n",
    "\n",
    "\n",
    "# DEFINE VARIABLES\n",
    "X = df_reg['My_d']\n",
    "Y = df_reg['OF_y']\n",
    "Z = df_reg['RREV_threshold']\n",
    "C = df_reg['landing_rate']\n",
    "\n",
    "\n",
    "# CREATE PLOTS AND COLOR BAR\n",
    "cmap = mpl.cm.rainbow\n",
    "norm = mpl.colors.Normalize(vmin=0,vmax=1)\n",
    "ax.plot_trisurf(X_reg['My_d'],X_reg['OF_y'],ypred,alpha=0.75,label='Linear_Regression',zorder=1) # Surface plot\n",
    "ax.scatter(X,Y,Z,c=C,cmap=cmap,norm=norm) # Scatter plot\n",
    "fig.colorbar(mpl.cm.ScalarMappable(norm=norm, cmap=cmap),label=\"Landing Rate (%)\")\n",
    "\n",
    "\n",
    "\n",
    "# PLOT LIMITS AND INFO\n",
    "ax.set_xlim(10,0)\n",
    "ax.set_ylim(0,-10)\n",
    "ax.set_zlim(3,6)\n",
    "\n",
    "\n",
    "\n",
    "ax.set_xlabel('My_d (N*mm)')\n",
    "ax.set_ylabel('OF_y (rad/s)')\n",
    "ax.set_zlabel('RREV (1/s)')\n",
    "\n",
    "ax.set_title('Optimal Policy Relation \\n(X-Based Error)')\n",
    "\n",
    "\n",
    "\n",
    "plt.show()\n",
    "\n",
    "\n"
   ]
  },
  {
   "source": [
    "# Regression w/ Orthogonal Distance"
   ],
   "cell_type": "markdown",
   "metadata": {}
  },
  {
   "cell_type": "code",
   "execution_count": 22,
   "metadata": {},
   "outputs": [
    {
     "output_type": "display_data",
     "data": {
      "text/plain": "Canvas(toolbar=Toolbar(toolitems=[('Home', 'Reset original view', 'home', 'home'), ('Back', 'Back to previous …",
      "application/vnd.jupyter.widget-view+json": {
       "version_major": 2,
       "version_minor": 0,
       "model_id": "5ac57e57622041fb854d6afe5d674ff0"
      }
     },
     "metadata": {}
    },
    {
     "output_type": "stream",
     "name": "stdout",
     "text": [
      "Beta: [ 14.24775773   1.80019726 -54.95025462]\nBeta Std Error: [ 3.3874206   0.45801538 14.15137079]\nBeta Covariance: [[ 156.13758091   18.29283331 -651.16969919]\n [  18.29283331    2.8544952   -74.05045078]\n [-651.16969919  -74.05045078 2724.99819251]]\nResidual Variance: 0.07349043227476758\nInverse Condition #: 0.004802836564341187\nReason(s) for Halting:\n  Sum of squares convergence\nEquation: My_d = -54.95 + 14.25*RREV + 1.80*OF_y \n\n"
     ]
    }
   ],
   "source": [
    "fig = plt.figure()\n",
    "ax = fig.add_subplot(111,projection=\"3d\")\n",
    "\n",
    "# CLEAN DATA\n",
    "df_reg = df_max.query(f\"landing_rate>={0.6}\")\n",
    "\n",
    "\n",
    "# LINEAR REGRESSION\n",
    "def linfit(beta, x):\n",
    "    return beta[0]*x[0] + beta[1]*x[1] + beta[2] \n",
    "\n",
    "x1 = df_reg['RREV_threshold']\n",
    "x2 = df_reg['OF_y']\n",
    "y = df_reg['My_d']\n",
    "x = np.row_stack( (x1, x2) ) #odr doesn't seem to work with column_stack\n",
    "\n",
    "linmod = scipy.odr.Model(linfit)\n",
    "data = scipy.odr.Data(x, y)\n",
    "odrfit = scipy.odr.ODR(data, linmod, beta0=[1., 1., 1.])\n",
    "odrres = odrfit.run()\n",
    "odrres.pprint()\n",
    "\n",
    "\n",
    "y_reg = odrres.beta[0]*x1 + odrres.beta[1]*x2 + odrres.beta[2]\n",
    "\n",
    "print(f\"Equation: My_d = {odrres.beta[2]:.2f} + {odrres.beta[0]:.2f}*RREV + {odrres.beta[1]:.2f}*OF_y \\n\")\n",
    "# print(f\"R^2 = {R2:.3f}\")\n",
    "\n",
    "\n",
    "\n",
    "# DEFINE VARIABLES\n",
    "X = df_max['RREV_threshold']\n",
    "Y = df_max['OF_y']\n",
    "Z = df_max['My_d']\n",
    "C = df_max['landing_rate']\n",
    "\n",
    "\n",
    "# CREATE PLOTS AND COLOR BAR\n",
    "cmap = mpl.cm.rainbow\n",
    "norm = mpl.colors.Normalize(vmin=0,vmax=1)\n",
    "ax.plot_trisurf(x1,x2,y_reg,alpha=0.75,label='Linear_Regression',zorder=1) # Surface plot\n",
    "ax.scatter(X,Y,Z,c=C,cmap=cmap,norm=norm) # Scatter plot\n",
    "fig.colorbar(mpl.cm.ScalarMappable(norm=norm, cmap=cmap),label=\"Landing Rate (%)\")\n",
    "\n",
    "\n",
    "\n",
    "# PLOT LIMITS AND INFO\n",
    "ax.set_xlim(6,2)\n",
    "ax.set_ylim(-10,0)\n",
    "ax.set_zlim(0,10)\n",
    "\n",
    "ax.set_xlabel('RREV (1/s)')\n",
    "ax.set_ylabel('OF_y (rad/s)')\n",
    "ax.set_zlabel('My_d (N*mm)')\n",
    "\n",
    "ax.set_title('Optimal Policy Relation \\n(Orthogonal Regression)')\n",
    "\n",
    "\n",
    "\n",
    "plt.show()"
   ]
  },
  {
   "cell_type": "code",
   "execution_count": 23,
   "metadata": {},
   "outputs": [
    {
     "output_type": "stream",
     "name": "stdout",
     "text": [
      "Beta: [3.00757658 4.0363251  4.89358429]\nBeta Std Error: [0.00442904 0.02225373 0.04857541]\nBeta Covariance: [[ 8.43859074e-03  7.28986530e-05 -3.39001941e-02]\n [ 7.28986530e-05  2.13037410e-01 -4.26458700e-01]\n [-3.39001941e-02 -4.26458700e-01  1.01504036e+00]]\nResidual Variance: 0.002324607792610536\nInverse Condition #: 0.03035728824479211\nReason(s) for Halting:\n  Sum of squares convergence\n"
     ]
    }
   ],
   "source": [
    "import numpy as np\n",
    "import scipy.odr\n",
    "\n",
    "n = 1000\n",
    "t = np.linspace(0, 1, n)\n",
    "\n",
    "def linfit(beta, x):\n",
    "    return beta[0]*x[0] + beta[1]*x[1] + beta[2] #notice changed indices for x\n",
    "\n",
    "x1 = 2.5*np.sin(2*np.pi*6*t)+4\n",
    "x2 = 0.5*np.sin(2*np.pi*7*t + np.pi/3)+2\n",
    "\n",
    "x = np.row_stack( (x1, x2) ) #odr doesn't seem to work with column_stack\n",
    "\n",
    "e = 0.25*np.random.randn(n)\n",
    "y = 3*x[0] + 4*x[1] + 5 + e #indices changed\n",
    "\n",
    "linmod = scipy.odr.Model(linfit)\n",
    "data = scipy.odr.Data(x, y)\n",
    "odrfit = scipy.odr.ODR(data, linmod, beta0=[1., 1., 1.])\n",
    "odrres = odrfit.run()\n",
    "odrres.pprint()\n"
   ]
  },
  {
   "cell_type": "code",
   "execution_count": 25,
   "metadata": {},
   "outputs": [
    {
     "output_type": "execute_result",
     "data": {
      "text/plain": [
       "array([3.00757658, 4.0363251 , 4.89358429])"
      ]
     },
     "metadata": {},
     "execution_count": 25
    }
   ],
   "source": [
    "odrres.beta"
   ]
  },
  {
   "cell_type": "code",
   "execution_count": 26,
   "metadata": {},
   "outputs": [
    {
     "output_type": "display_data",
     "data": {
      "text/plain": "Canvas(toolbar=Toolbar(toolitems=[('Home', 'Reset original view', 'home', 'home'), ('Back', 'Back to previous …",
      "application/vnd.jupyter.widget-view+json": {
       "version_major": 2,
       "version_minor": 0,
       "model_id": "360e1317b08d47cabe474f67b5fafce5"
      }
     },
     "metadata": {}
    },
    {
     "output_type": "execute_result",
     "data": {
      "text/plain": [
       "<mpl_toolkits.mplot3d.art3d.Poly3DCollection at 0x7fdc44dc3100>"
      ]
     },
     "metadata": {},
     "execution_count": 26
    }
   ],
   "source": [
    "fig = plt.figure()\n",
    "ax = fig.add_subplot(111,projection=\"3d\")\n",
    "y_reg = odrres.beta[0]*x1 + odrres.beta[1]*x2 + odrres.beta[2]\n",
    "\n",
    "ax.scatter(x1,x2,y)\n",
    "ax.plot_trisurf(x1,x2,y_reg)\n"
   ]
  },
  {
   "cell_type": "code",
   "execution_count": null,
   "metadata": {},
   "outputs": [],
   "source": []
  }
 ]
}