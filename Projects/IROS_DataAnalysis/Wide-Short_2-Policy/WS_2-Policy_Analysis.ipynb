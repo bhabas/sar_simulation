{
 "metadata": {
  "language_info": {
   "codemirror_mode": {
    "name": "ipython",
    "version": 3
   },
   "file_extension": ".py",
   "mimetype": "text/x-python",
   "name": "python",
   "nbconvert_exporter": "python",
   "pygments_lexer": "ipython3",
   "version": "3.8.10"
  },
  "orig_nbformat": 2,
  "kernelspec": {
   "name": "python3",
   "display_name": "Python 3.8.10 64-bit"
  },
  "interpreter": {
   "hash": "916dbcbb3f70747c44a77c7bcd40155683ae19c65e1c03b4aa3499c5328201f1"
  }
 },
 "nbformat": 4,
 "nbformat_minor": 2,
 "cells": [
  {
   "cell_type": "markdown",
   "source": [
    "# Module Imports"
   ],
   "metadata": {}
  },
  {
   "cell_type": "code",
   "execution_count": 1,
   "source": [
    "## IMPORT MODULES\n",
    "import pandas as pd\n",
    "import numpy as np\n",
    "from sklearn import linear_model\n",
    "from scipy.interpolate import griddata\n"
   ],
   "outputs": [],
   "metadata": {}
  },
  {
   "cell_type": "code",
   "execution_count": 2,
   "source": [
    "## IMPORT PLOTTING MODULES\n",
    "import matplotlib.pyplot as plt\n",
    "from mpl_toolkits import mplot3d\n",
    "import matplotlib as mpl\n",
    "from matplotlib import cm\n",
    "%matplotlib widget"
   ],
   "outputs": [],
   "metadata": {}
  },
  {
   "cell_type": "markdown",
   "source": [
    "# Dataframe"
   ],
   "metadata": {}
  },
  {
   "cell_type": "code",
   "execution_count": 3,
   "source": [
    "## FULL DATAFRAME\n",
    "df_raw = pd.read_csv(\"WS_2-Policy_Summary.csv\")\n",
    "\n",
    "## DROP EXTRANEOUS DATAPOINTS\n",
    "df_raw = df_raw.drop(df_raw[(df_raw['landing_rate']<=0.15) & (df_raw['vz_d']>=2.50)].index)\n",
    "df_raw = df_raw.drop(df_raw[(df_raw['landing_rate']<=0.15) & (df_raw['vx_d']>=1.25)].index)\n",
    "\n",
    "\n",
    "## GROUP AND AVERAGE RAW DATA BY VEL IC\n",
    "df_raw_avg = df_raw.groupby(['vz_d','vx_d']).agg([np.mean,np.std]).reset_index()\n",
    "\n",
    "\n",
    "\n",
    "\n",
    "## CLEAN RAW DATA\n",
    "df = df_raw\n",
    "df['My_d'] = df['My_d'].apply(lambda x: np.abs(x)) # Convert My to magnitude\n",
    "# df['My_d'] = df['My_d'].apply(lambda x: 7.7 if x>7.7 else x) # Cap My_d to max moment\n",
    "# df = df.drop(df[(df['vz_d']<= 1.75) & (df['vx_d']<= )].index) # Drop corner with no successful landings\n",
    "df = df.dropna()\n",
    "\n",
    "## AVERAGED DATAFRAME\n",
    "df_avg = df.groupby(['vz_d','vx_d']).agg([np.mean,np.std]).reset_index()"
   ],
   "outputs": [],
   "metadata": {}
  },
  {
   "cell_type": "code",
   "execution_count": 4,
   "source": [
    "# TEMPLATE FOR LINEAR REGRESSION\n",
    "from sklearn.linear_model import LinearRegression\n",
    "\n",
    "def linreg(X ,Y):\n",
    "    # perform multivariate or univariate\n",
    "    # X = [var1 var2]\n",
    "    # y = var3\n",
    "    reg = LinearRegression(normalize=True)\n",
    "    reg.fit(X,Y)\n",
    "\n",
    "    intercept = reg.intercept_ \n",
    "    coef = reg.coef_\n",
    "    \n",
    "    R2 = reg.score(X,Y) # built in function for r^2\n",
    "    \n",
    "    ypred = reg.predict(X) # plot x vs. ypred for line or plane\n",
    "    \n",
    "    return ypred, intercept,coef,R2\n"
   ],
   "outputs": [],
   "metadata": {}
  },
  {
   "cell_type": "markdown",
   "source": [
    "# Landing Rate Data"
   ],
   "metadata": {}
  },
  {
   "cell_type": "code",
   "execution_count": 5,
   "source": [
    "## LANDING RATE DATA (RAW)\n",
    "fig = plt.figure()\n",
    "ax = fig.add_subplot(111,projection=\"3d\")\n",
    "\n",
    "# DEFINE VARIABLES\n",
    "X = df_raw['vx_d']\n",
    "Y = df_raw['vz_d']\n",
    "Z = df_raw['landing_rate']\n",
    "\n",
    "\n",
    "# CREATE PLOTS AND COLOR BAR\n",
    "ax.scatter(df_raw['vx_d'],df_raw['vz_d'],df_raw['landing_rate'])\n",
    "\n",
    "\n",
    "# PLOT LIMITS AND INFO\n",
    "ax.set_zlim(0,1)\n",
    "\n",
    "ax.set_xlabel('vx_d')\n",
    "ax.set_ylabel('vz_d')\n",
    "ax.set_zlabel('Landing Rate')\n",
    "ax.set_title('Landing Rate (Raw Data)')\n",
    "\n",
    "plt.show()"
   ],
   "outputs": [
    {
     "output_type": "display_data",
     "data": {
      "text/plain": [
       "Canvas(toolbar=Toolbar(toolitems=[('Home', 'Reset original view', 'home', 'home'), ('Back', 'Back to previous …"
      ],
      "application/vnd.jupyter.widget-view+json": {
       "version_major": 2,
       "version_minor": 0,
       "model_id": "6889d2f2da6342bc9bb596730ce507ef"
      }
     },
     "metadata": {}
    }
   ],
   "metadata": {}
  },
  {
   "cell_type": "code",
   "execution_count": 6,
   "source": [
    "## AVG LANDING RATE SURFACE\n",
    "fig = plt.figure()\n",
    "ax = fig.add_subplot(111,projection=\"3d\")\n",
    "\n",
    "# DEFINE VARIABLES\n",
    "X = df_raw_avg['vx_d']\n",
    "Y = df_raw_avg['vz_d']\n",
    "Z = df_raw_avg['landing_rate','mean']\n",
    "\n",
    "# DEFINE COLOR FORMATS AND LIMITS\n",
    "cmap = mpl.cm.jet\n",
    "norm = mpl.colors.Normalize(vmin=0,vmax=1)\n",
    "\n",
    "# CREATE PLOTS AND COLOR BAR\n",
    "ax.plot_trisurf(X,Y,Z,cmap = cmap,norm=norm,edgecolors='grey',linewidth=0.25)\n",
    "fig.colorbar(mpl.cm.ScalarMappable(norm=norm, cmap=cmap),label=\"Landing %\")\n",
    "\n",
    "\n",
    "# PLOT LIMITS AND INFO\n",
    "ax.set_zlim(0,1)\n",
    "\n",
    "ax.set_xlabel('vx_d')\n",
    "ax.set_ylabel('vz_d')\n",
    "ax.set_zlabel('Landing Rate')\n",
    "ax.set_title('Avg Landing Rate for Final 3 Episodes')\n",
    "\n",
    "\n",
    "plt.show()"
   ],
   "outputs": [
    {
     "output_type": "display_data",
     "data": {
      "text/plain": [
       "Canvas(toolbar=Toolbar(toolitems=[('Home', 'Reset original view', 'home', 'home'), ('Back', 'Back to previous …"
      ],
      "application/vnd.jupyter.widget-view+json": {
       "version_major": 2,
       "version_minor": 0,
       "model_id": "f2c0195d57994e858447990533037e19"
      }
     },
     "metadata": {}
    }
   ],
   "metadata": {}
  },
  {
   "cell_type": "code",
   "execution_count": 7,
   "source": [
    "## AVG LANDING RATE SMOOTHED SURFACE\n",
    "fig = plt.figure()\n",
    "ax = fig.add_subplot(111,projection=\"3d\")\n",
    "\n",
    "# DEFINE VARIABLES\n",
    "X = df_raw_avg['vx_d']\n",
    "Y = df_raw_avg['vz_d']\n",
    "Z = df_raw_avg['landing_rate','mean']\n",
    "\n",
    "# SOMETHING ABOUT DEFINING A GRID\n",
    "xi = np.linspace(X.min(),X.max(),(len(Z)//3))\n",
    "yi = np.linspace(Y.min(),Y.max(),(len(Z)//3))\n",
    "zi = griddata((X, Y), Z, (xi[None,:], yi[:,None]), method='linear')\n",
    "xig, yig = np.meshgrid(xi, yi)\n",
    "\n",
    "# DEFINE COLOR FORMAT AND LIMITS\n",
    "cmap = mpl.cm.jet\n",
    "norm = mpl.colors.Normalize(vmin=0,vmax=1)\n",
    "\n",
    "# CREATE PLOTS AND COLOR BAR\n",
    "surf = ax.plot_surface(xig, yig, zi,cmap=cmap,norm=norm,edgecolors='grey',linewidth=0.25)\n",
    "# surf = ax.plot_surface(xig, yig, zi,cmap=cmap,norm=norm)\n",
    "# surf = ax.contour(xig, yig, zi,cmap=cmap,norm=norm)\n",
    "\n",
    "fig.colorbar(mpl.cm.ScalarMappable(norm=norm, cmap=cmap),label=\"Landing %\")\n",
    "\n",
    "# PLOT LIMITS AND INFO\n",
    "ax.set_zlim(0,1)\n",
    "\n",
    "ax.set_xlabel('vx_d')\n",
    "ax.set_ylabel('vz_d')\n",
    "ax.set_zlabel('Landing Rate')\n",
    "ax.set_title('Avg Landing Rate for Final 3 Episodes')\n",
    "\n",
    "\n",
    "plt.show()"
   ],
   "outputs": [
    {
     "output_type": "display_data",
     "data": {
      "text/plain": [
       "Canvas(toolbar=Toolbar(toolitems=[('Home', 'Reset original view', 'home', 'home'), ('Back', 'Back to previous …"
      ],
      "application/vnd.jupyter.widget-view+json": {
       "version_major": 2,
       "version_minor": 0,
       "model_id": "6372bab315a749b69e62a6cc29cf1a60"
      }
     },
     "metadata": {}
    },
    {
     "output_type": "stream",
     "name": "stderr",
     "text": [
      "<ipython-input-7-0c2ea736411a>:21: UserWarning: Z contains NaN values. This may result in rendering artifacts.\n",
      "  surf = ax.plot_surface(xig, yig, zi,cmap=cmap,norm=norm,edgecolors='grey',linewidth=0.25)\n"
     ]
    }
   ],
   "metadata": {}
  },
  {
   "cell_type": "markdown",
   "source": [
    "# RREV vs IC"
   ],
   "metadata": {}
  },
  {
   "cell_type": "code",
   "execution_count": 8,
   "source": [
    "fig = plt.figure()\n",
    "ax = fig.add_subplot(111,projection=\"3d\")\n",
    "\n",
    "# CLEAN DATA\n",
    "df_temp = df.query(f\"My_d<={7.7}\")\n",
    "df_temp = df_temp.query(f\"RREV_threshold>{3.5}\") # Remove outlier data\n",
    "\n",
    "\n",
    "\n",
    "# LINEAR REGRESSION\n",
    "X_reg = df_temp[['vx_d','vz_d']]\n",
    "Y_reg = df_temp['RREV_threshold']\n",
    "\n",
    "ypred, intercept,coef,R2 = linreg(X_reg,Y_reg)\n",
    "print(f\"Equation: RREV_reg = {intercept:.2f} + {coef[0]:.2f}*vx_d + {coef[1]:.2f}*vz_d \\n\")\n",
    "print(f\"R^2 = {R2:.3f}\")\n",
    "\n",
    "\n",
    "# DEFINE VARIABLES\n",
    "X = df_temp['vx_d']\n",
    "Y = df_temp['vz_d']\n",
    "Z = df_temp['RREV_threshold']\n",
    "C = df_temp['RREV_threshold']\n",
    "\n",
    "\n",
    "# CREATE PLOTS AND COLOR BAR\n",
    "cmap = mpl.cm.rainbow\n",
    "norm = mpl.colors.Normalize(vmin=3.5,vmax=5.5)\n",
    "ax.scatter(X,Y,Z,c=C,cmap=cmap,norm=norm,zorder=2)\n",
    "ax.plot_trisurf(X,Y,ypred,alpha=0.75,label='Linear_Regression',zorder=1)\n",
    "fig.colorbar(mpl.cm.ScalarMappable(norm=norm, cmap=cmap),label=\"RREV_threshold\")\n",
    "\n",
    "\n",
    "\n",
    "# PLOT LIMITS AND INFO\n",
    "ax.set_xlim(0,2.75)\n",
    "ax.set_ylim(1.0,4.5)\n",
    "ax.set_zlim(3,6)\n",
    "\n",
    "\n",
    "ax.set_xlabel('Vx_d')\n",
    "ax.set_ylabel('Vz_d')\n",
    "ax.set_zlabel('RREV_threshold')\n",
    "ax.set_title('RREV_thr vs IC - (Raw Data)')\n",
    "\n",
    "plt.show()"
   ],
   "outputs": [
    {
     "output_type": "display_data",
     "data": {
      "text/plain": [
       "Canvas(toolbar=Toolbar(toolitems=[('Home', 'Reset original view', 'home', 'home'), ('Back', 'Back to previous …"
      ],
      "application/vnd.jupyter.widget-view+json": {
       "version_major": 2,
       "version_minor": 0,
       "model_id": "5785b5d0979e4584b829744f5ae17e71"
      }
     },
     "metadata": {}
    },
    {
     "output_type": "stream",
     "name": "stdout",
     "text": [
      "Equation: RREV_reg = 5.54 + 0.10*vx_d + -0.40*vz_d \n",
      "\n",
      "R^2 = 0.632\n"
     ]
    }
   ],
   "metadata": {}
  },
  {
   "cell_type": "code",
   "execution_count": 9,
   "source": [
    "fig = plt.figure()\n",
    "ax = fig.add_subplot(111,projection=\"3d\")\n",
    "\n",
    "# CLEAN DATA\n",
    "df_temp = df.query(f\"RREV_threshold>={3.5}\")\n",
    "df_temp_avg = df_raw.groupby(['vz_d','vx_d']).agg([np.mean,np.std]).reset_index()\n",
    "\n",
    "# DEFINE VARIABLES\n",
    "X = df_temp_avg['vx_d']\n",
    "Y = df_temp_avg['vz_d']\n",
    "Z = df_temp_avg['RREV_threshold','mean']\n",
    "\n",
    "# SOMETHING ABOUT DEFINING A GRID\n",
    "xi = np.linspace(X.min(),X.max(),(len(Z)//10))\n",
    "yi = np.linspace(Y.min(),Y.max(),(len(Z)//10))\n",
    "zi = griddata((X, Y), Z, (xi[None,:], yi[:,None]), method='linear')\n",
    "xig, yig = np.meshgrid(xi, yi)\n",
    "\n",
    "# DEFINE COLOR FORMAT AND LIMITS\n",
    "cmap = mpl.cm.jet\n",
    "norm = mpl.colors.Normalize(vmin=4,vmax=5)\n",
    "\n",
    "# CREATE PLOTS AND COLOR BAR\n",
    "surf = ax.plot_surface(xig, yig, zi,cmap=cmap,norm=norm,edgecolors='grey',linewidth=0.25)\n",
    "fig.colorbar(mpl.cm.ScalarMappable(norm=norm, cmap=cmap),label=\"RREV_threshold\")\n",
    "\n",
    "# PLOT LIMITS AND INFO\n",
    "ax.set_xlim(0,2.75)\n",
    "ax.set_ylim(1.0,4.5)\n",
    "ax.set_zlim(3,6)\n",
    "\n",
    "ax.set_xlabel('vx_d')\n",
    "ax.set_ylabel('vz_d')\n",
    "ax.set_zlabel('RREV_threshold')\n",
    "\n",
    "ax.set_title('Avg RREV_thr vs IC')\n",
    "plt.show()"
   ],
   "outputs": [
    {
     "output_type": "display_data",
     "data": {
      "text/plain": [
       "Canvas(toolbar=Toolbar(toolitems=[('Home', 'Reset original view', 'home', 'home'), ('Back', 'Back to previous …"
      ],
      "application/vnd.jupyter.widget-view+json": {
       "version_major": 2,
       "version_minor": 0,
       "model_id": "92af81c099c542febb80f3f9566bdabe"
      }
     },
     "metadata": {}
    },
    {
     "output_type": "stream",
     "name": "stderr",
     "text": [
      "<ipython-input-9-4e1e474c6d95>:24: UserWarning: Z contains NaN values. This may result in rendering artifacts.\n",
      "  surf = ax.plot_surface(xig, yig, zi,cmap=cmap,norm=norm,edgecolors='grey',linewidth=0.25)\n"
     ]
    }
   ],
   "metadata": {}
  },
  {
   "cell_type": "markdown",
   "source": [
    "# Rotation Time Data"
   ],
   "metadata": {}
  },
  {
   "cell_type": "code",
   "execution_count": 10,
   "source": [
    "fig = plt.figure()\n",
    "ax = fig.add_subplot(111,projection=\"3d\")\n",
    "\n",
    "# CLEAN DATA\n",
    "df_temp = df\n",
    "\n",
    "# DEFINE VARIABLES\n",
    "X = df_temp['RREV_threshold']\n",
    "Y = df_temp['OF_y']\n",
    "Z = df_temp['impact_tdelta']\n",
    "C = df_temp['landing_rate']\n",
    "\n",
    "\n",
    "# CREATE PLOTS AND COLOR BAR\n",
    "ax.scatter(X,Y,Z)\n",
    "\n",
    "cmap = mpl.cm.rainbow\n",
    "norm = mpl.colors.Normalize(vmin=0,vmax=1)\n",
    "ax.scatter(X,Y,Z,c=C,cmap=cmap,norm=norm)\n",
    "# fig.colorbar(mpl.cm.ScalarMappable(norm=norm, cmap=cmap),label=\"Landing Rate\")\n",
    "\n",
    "\n",
    "\n",
    "# PLOT LIMITS AND INFO\n",
    "ax.set_xlabel('RREV')\n",
    "ax.set_ylabel('OF_y')\n",
    "ax.set_zlabel('Delta_t [s]')\n",
    "\n",
    "ax.set_title('Time Rotating vs IC (Raw Data)')\n",
    "\n",
    "ax.set_zlim(0,0.5)\n",
    "\n",
    "\n",
    "\n",
    "\n",
    "plt.show()"
   ],
   "outputs": [
    {
     "output_type": "display_data",
     "data": {
      "text/plain": [
       "Canvas(toolbar=Toolbar(toolitems=[('Home', 'Reset original view', 'home', 'home'), ('Back', 'Back to previous …"
      ],
      "application/vnd.jupyter.widget-view+json": {
       "version_major": 2,
       "version_minor": 0,
       "model_id": "f2e1a698c5114f8ab90e75fa2f98eddb"
      }
     },
     "metadata": {}
    }
   ],
   "metadata": {}
  },
  {
   "cell_type": "markdown",
   "source": [
    "# My_d vs IC Data"
   ],
   "metadata": {}
  },
  {
   "cell_type": "code",
   "execution_count": 11,
   "source": [
    "## Define Dataframe\n",
    "\n",
    "df_temp = df.query(f\"landing_rate>={0.1}\")\n",
    "\n",
    "\n",
    "fig = plt.figure()\n",
    "ax = fig.add_subplot(111,projection=\"3d\")\n",
    "\n",
    "pcm = ax.scatter(df['vx_d'],df['vz_d'],df['My_d'])\n",
    "\n",
    "\n",
    "\n",
    "ax.set_xlabel('vx_d')\n",
    "ax.set_ylabel('vz_d')\n",
    "ax.set_zlabel('My_d [N*mm]')\n",
    "\n",
    "ax.set_title('My_d vs IC (Raw Data)')\n",
    "\n",
    "\n",
    "\n",
    "plt.show()"
   ],
   "outputs": [
    {
     "output_type": "display_data",
     "data": {
      "text/plain": [
       "Canvas(toolbar=Toolbar(toolitems=[('Home', 'Reset original view', 'home', 'home'), ('Back', 'Back to previous …"
      ],
      "application/vnd.jupyter.widget-view+json": {
       "version_major": 2,
       "version_minor": 0,
       "model_id": "4808d240d68c497890a675920eba75be"
      }
     },
     "metadata": {}
    }
   ],
   "metadata": {}
  },
  {
   "cell_type": "markdown",
   "source": [
    "# Impact Angle Data"
   ],
   "metadata": {}
  },
  {
   "cell_type": "code",
   "execution_count": 12,
   "source": [
    "fig = plt.figure()\n",
    "ax = fig.add_subplot(111,projection=\"3d\")\n",
    "\n",
    "# CLEAN DATA\n",
    "df_temp = df.query(f\"impact_eul<={-60}\")\n",
    "df_temp_avg = df_raw.groupby(['vz_d','vx_d']).agg([np.mean,np.std]).reset_index()\n",
    "\n",
    "# DEFINE VARIABLES\n",
    "X = df_temp['vx_d']\n",
    "Y = df_temp['vz_d']\n",
    "Z = -df_temp['impact_eul']\n",
    "C = df_temp['landing_rate']\n",
    "\n",
    "\n",
    "# CREATE PLOTS AND COLOR BAR\n",
    "cmap = mpl.cm.rainbow\n",
    "norm = mpl.colors.Normalize(vmin=0,vmax=1)\n",
    "ax.scatter(X,Y,Z,c=C,cmap=cmap,norm=norm)\n",
    "fig.colorbar(mpl.cm.ScalarMappable(norm=norm, cmap=cmap),label=\"Landing Rate\")\n",
    "\n",
    "\n",
    "\n",
    "# PLOT LIMITS AND INFO\n",
    "ax.set_xlabel('vx_d')\n",
    "ax.set_ylabel('vz_d')\n",
    "ax.set_zlabel('Impact Angle [deg]')\n",
    "\n",
    "ax.set_title('Impact Angle vs IC (Raw Data)')\n",
    "\n",
    "ax.set_zlim(60,180)\n",
    "ax.set_zticks([60,90,120,150,180,210])\n",
    "\n",
    "\n",
    "\n",
    "plt.show()"
   ],
   "outputs": [
    {
     "output_type": "display_data",
     "data": {
      "text/plain": [
       "Canvas(toolbar=Toolbar(toolitems=[('Home', 'Reset original view', 'home', 'home'), ('Back', 'Back to previous …"
      ],
      "application/vnd.jupyter.widget-view+json": {
       "version_major": 2,
       "version_minor": 0,
       "model_id": "25c77009651b4f759c5da0b30d0dd123"
      }
     },
     "metadata": {}
    }
   ],
   "metadata": {}
  },
  {
   "cell_type": "code",
   "execution_count": 13,
   "source": [
    "fig = plt.figure()\n",
    "ax = fig.add_subplot(111,projection=\"3d\")\n",
    "\n",
    "# CLEAN DATA\n",
    "df_temp = df.query(f\"impact_eul<={-60}\")\n",
    "df_temp_avg = df_raw.groupby(['vz_d','vx_d']).agg([np.mean,np.std]).reset_index()\n",
    "\n",
    "# DEFINE VARIABLES\n",
    "X = df_temp_avg['vx_d']\n",
    "Y = df_temp_avg['vz_d']\n",
    "Z = -df_temp_avg['impact_eul','mean']\n",
    "\n",
    "# SOMETHING ABOUT DEFINING A GRID\n",
    "xi = np.linspace(X.min(),X.max(),(len(Z)//10))\n",
    "yi = np.linspace(Y.min(),Y.max(),(len(Z)//10))\n",
    "zi = griddata((X, Y), Z, (xi[None,:], yi[:,None]), method='linear')\n",
    "xig, yig = np.meshgrid(xi, yi)\n",
    "\n",
    "# DEFINE COLOR FORMAT AND LIMITS\n",
    "cmap = mpl.cm.jet\n",
    "norm = mpl.colors.Normalize(vmin=60,vmax=180)\n",
    "\n",
    "# CREATE PLOTS AND COLOR BAR\n",
    "surf = ax.plot_surface(xig, yig, zi,cmap=cmap,norm=norm,edgecolors='grey',linewidth=0.25)\n",
    "fig.colorbar(mpl.cm.ScalarMappable(norm=norm, cmap=cmap),label=\"Impact Angle [deg]\")\n",
    "\n",
    "# PLOT LIMITS AND INFO\n",
    "ax.set_xlabel('vx_d')\n",
    "ax.set_ylabel('vz_d')\n",
    "ax.set_zlabel('Impact Angle [deg]')\n",
    "\n",
    "ax.set_title('Avg Impact Angle vs IC')\n",
    "\n",
    "ax.set_zlim(60,180)\n",
    "ax.set_zticks([60,90,120,150,180,210])\n",
    "\n",
    "\n",
    "plt.show()"
   ],
   "outputs": [
    {
     "output_type": "display_data",
     "data": {
      "text/plain": [
       "Canvas(toolbar=Toolbar(toolitems=[('Home', 'Reset original view', 'home', 'home'), ('Back', 'Back to previous …"
      ],
      "application/vnd.jupyter.widget-view+json": {
       "version_major": 2,
       "version_minor": 0,
       "model_id": "992a89e35f3f43e3afd7b580d3fbf731"
      }
     },
     "metadata": {}
    },
    {
     "output_type": "stream",
     "name": "stderr",
     "text": [
      "<ipython-input-13-0f028d60a7d4>:24: UserWarning: Z contains NaN values. This may result in rendering artifacts.\n",
      "  surf = ax.plot_surface(xig, yig, zi,cmap=cmap,norm=norm,edgecolors='grey',linewidth=0.25)\n"
     ]
    }
   ],
   "metadata": {}
  },
  {
   "cell_type": "markdown",
   "source": [
    "# Moment vs RREV"
   ],
   "metadata": {}
  },
  {
   "cell_type": "code",
   "execution_count": 14,
   "source": [
    "fig = plt.figure()\n",
    "ax = fig.add_subplot(111)\n",
    "\n",
    "# CLEAN DATA\n",
    "df_temp = df.query(f\"My_d<={7.7}\") \n",
    "\n",
    "# DEFINE VARIABLES\n",
    "X = df_temp['RREV_threshold']\n",
    "Y = df_temp['My_d']\n",
    "C = df_temp['landing_rate']\n",
    "\n",
    "\n",
    "# CREATE PLOTS AND COLOR BAR\n",
    "cmap = mpl.cm.Greys\n",
    "norm = mpl.colors.Normalize(vmin=0,vmax=1)\n",
    "ax.scatter(X,Y,c=C,cmap=cmap,norm=norm)\n",
    "fig.colorbar(mpl.cm.ScalarMappable(norm=norm, cmap=cmap),label=\"Landing Rate\")\n",
    "\n",
    "\n",
    "\n",
    "# PLOT LIMITS AND INFO\n",
    "ax.set_xlabel('RREV_threshold')\n",
    "ax.set_ylabel('My_d [N*mm]')\n",
    "ax.set_title('Policy: My_d vs RREV_thr')\n",
    "\n",
    "\n",
    "ax.grid()\n",
    "ax.set_xlim(2,7)\n",
    "ax.set_ylim(0,10)\n",
    "ax.hlines(7.77,2,7)\n",
    "ax.text(2.05,8.1,'Motors Maxed Out \\n[My_d = 7.7 N*mm]')\n",
    "\n",
    "\n",
    "\n",
    "\n",
    "plt.show()"
   ],
   "outputs": [
    {
     "output_type": "display_data",
     "data": {
      "text/plain": [
       "Canvas(toolbar=Toolbar(toolitems=[('Home', 'Reset original view', 'home', 'home'), ('Back', 'Back to previous …"
      ],
      "application/vnd.jupyter.widget-view+json": {
       "version_major": 2,
       "version_minor": 0,
       "model_id": "998ee4d9739e468caab83d33e3bf11c1"
      }
     },
     "metadata": {}
    }
   ],
   "metadata": {}
  },
  {
   "cell_type": "code",
   "execution_count": 15,
   "source": [
    "df_temp = df.query(f\"RREV_threshold<={3.66} and My_d>={5.5}\") \n",
    "df_temp.sort_values(['vz_d'])"
   ],
   "outputs": [
    {
     "output_type": "execute_result",
     "data": {
      "text/plain": [
       "Empty DataFrame\n",
       "Columns: [vz_d, vx_d, trial_num, landing_rate, RREV_threshold, G1, G2, RREV_sig, G1_sig, G2_sig, RREV_trigger, OF_y, My_d, impact_eul, impact_tdelta, alpha_mu, alpha_sigma, mu_ini, sigma_ini]\n",
       "Index: []"
      ],
      "text/html": [
       "<div>\n",
       "<style scoped>\n",
       "    .dataframe tbody tr th:only-of-type {\n",
       "        vertical-align: middle;\n",
       "    }\n",
       "\n",
       "    .dataframe tbody tr th {\n",
       "        vertical-align: top;\n",
       "    }\n",
       "\n",
       "    .dataframe thead th {\n",
       "        text-align: right;\n",
       "    }\n",
       "</style>\n",
       "<table border=\"1\" class=\"dataframe\">\n",
       "  <thead>\n",
       "    <tr style=\"text-align: right;\">\n",
       "      <th></th>\n",
       "      <th>vz_d</th>\n",
       "      <th>vx_d</th>\n",
       "      <th>trial_num</th>\n",
       "      <th>landing_rate</th>\n",
       "      <th>RREV_threshold</th>\n",
       "      <th>G1</th>\n",
       "      <th>G2</th>\n",
       "      <th>RREV_sig</th>\n",
       "      <th>G1_sig</th>\n",
       "      <th>G2_sig</th>\n",
       "      <th>RREV_trigger</th>\n",
       "      <th>OF_y</th>\n",
       "      <th>My_d</th>\n",
       "      <th>impact_eul</th>\n",
       "      <th>impact_tdelta</th>\n",
       "      <th>alpha_mu</th>\n",
       "      <th>alpha_sigma</th>\n",
       "      <th>mu_ini</th>\n",
       "      <th>sigma_ini</th>\n",
       "    </tr>\n",
       "  </thead>\n",
       "  <tbody>\n",
       "  </tbody>\n",
       "</table>\n",
       "</div>"
      ]
     },
     "metadata": {},
     "execution_count": 15
    }
   ],
   "metadata": {}
  },
  {
   "cell_type": "code",
   "execution_count": 16,
   "source": [
    "fig = plt.figure()\n",
    "ax = fig.add_subplot(111)\n",
    "\n",
    "# CLEAN DATA\n",
    "df_temp = df.query(f\"My_d<={7.7}\") \n",
    "\n",
    "# DEFINE VARIABLES\n",
    "X = df_temp['RREV_threshold']\n",
    "Y = df_temp['My_d']\n",
    "C = df_temp['vz_d']\n",
    "\n",
    "\n",
    "# CREATE PLOTS AND COLOR BAR\n",
    "cmap = mpl.cm.rainbow\n",
    "norm = mpl.colors.Normalize(vmin=1.5,vmax=4)\n",
    "ax.scatter(X,Y,c=C,cmap=cmap,norm=norm)\n",
    "fig.colorbar(mpl.cm.ScalarMappable(norm=norm, cmap=cmap),label=\"Vz_d\")\n",
    "\n",
    "\n",
    "\n",
    "# PLOT LIMITS AND INFO\n",
    "ax.set_xlabel('RREV_threshold')\n",
    "ax.set_ylabel('My_d [N*mm]')\n",
    "ax.set_title('Policy: My_d vs RREV_thr')\n",
    "\n",
    "\n",
    "\n",
    "\n",
    "ax.grid()\n",
    "ax.set_xlim(2,7)\n",
    "ax.set_ylim(0,10)\n",
    "ax.hlines(7.77,2,7)\n",
    "ax.text(2.05,8.1,'Motors Maxed Out \\n[My_d = 7.7 N*mm]')\n",
    "\n",
    "\n",
    "\n",
    "\n",
    "plt.show()"
   ],
   "outputs": [
    {
     "output_type": "display_data",
     "data": {
      "text/plain": [
       "Canvas(toolbar=Toolbar(toolitems=[('Home', 'Reset original view', 'home', 'home'), ('Back', 'Back to previous …"
      ],
      "application/vnd.jupyter.widget-view+json": {
       "version_major": 2,
       "version_minor": 0,
       "model_id": "609e7d2f870647ae8b3936f8a185d232"
      }
     },
     "metadata": {}
    }
   ],
   "metadata": {}
  },
  {
   "cell_type": "markdown",
   "source": [
    "# POLICY FITTING"
   ],
   "metadata": {}
  },
  {
   "cell_type": "markdown",
   "source": [
    "## RAW POLICY RELATION"
   ],
   "metadata": {}
  },
  {
   "cell_type": "code",
   "execution_count": 17,
   "source": [
    "fig = plt.figure()\n",
    "ax = fig.add_subplot(111,projection=\"3d\")\n",
    "\n",
    "# CLEAN DATA\n",
    "df_temp = df.query(f\"My_d<={7.7}\")\n",
    "df_temp = df_temp.query(f\"RREV_threshold>{3.5}\") # Remove outlier data\n",
    "\n",
    "\n",
    "# DEFINE VARIABLES\n",
    "X = df_temp['RREV_threshold']\n",
    "Y = df_temp['OF_y']\n",
    "Z = df_temp['My_d']\n",
    "C = df_temp['landing_rate']\n",
    "\n",
    "\n",
    "# CREATE PLOTS AND COLOR BAR\n",
    "cmap = mpl.cm.rainbow\n",
    "norm = mpl.colors.Normalize(vmin=0,vmax=1)\n",
    "ax.scatter(X,Y,Z,c=C,cmap=cmap,norm=norm)\n",
    "fig.colorbar(mpl.cm.ScalarMappable(norm=norm, cmap=cmap),label=\"Landing Rate\")\n",
    "\n",
    "\n",
    "\n",
    "# PLOT LIMITS AND INFO\n",
    "ax.set_xlim(6,2)\n",
    "ax.set_ylim(-10,0)\n",
    "ax.set_zlim(0,10)\n",
    "\n",
    "ax.set_xlabel('RREV')\n",
    "ax.set_ylabel('OF_y')\n",
    "ax.set_zlabel('My_d')\n",
    "\n",
    "ax.set_title('Raw Policy Relation')\n",
    "\n",
    "\n",
    "\n",
    "plt.show()"
   ],
   "outputs": [
    {
     "output_type": "display_data",
     "data": {
      "text/plain": [
       "Canvas(toolbar=Toolbar(toolitems=[('Home', 'Reset original view', 'home', 'home'), ('Back', 'Back to previous …"
      ],
      "application/vnd.jupyter.widget-view+json": {
       "version_major": 2,
       "version_minor": 0,
       "model_id": "0438373890084f32b61e057c1780a215"
      }
     },
     "metadata": {}
    }
   ],
   "metadata": {}
  },
  {
   "cell_type": "code",
   "execution_count": 18,
   "source": [
    "fig = plt.figure()\n",
    "ax = fig.add_subplot(111,projection=\"3d\")\n",
    "\n",
    "# CLEAN DATA\n",
    "df_temp = df.query(f\"My_d<={7.7}\")\n",
    "df_temp = df_temp.query(f\"RREV_threshold>{3.5}\") # Remove outlier data\n",
    "df_temp = df_temp.query(f\"landing_rate>={0.6}\")\n",
    "\n",
    "\n",
    "\n",
    "# DEFINE VARIABLES\n",
    "X = df_temp['RREV_threshold']\n",
    "Y = df_temp['OF_y']\n",
    "Z = df_temp['My_d']\n",
    "C = df_temp['landing_rate']\n",
    "\n",
    "\n",
    "# CREATE PLOTS AND COLOR BAR\n",
    "cmap = mpl.cm.rainbow\n",
    "norm = mpl.colors.Normalize(vmin=0,vmax=1)\n",
    "ax.scatter(X,Y,Z,c=C,cmap=cmap,norm=norm)\n",
    "fig.colorbar(mpl.cm.ScalarMappable(norm=norm, cmap=cmap),label=\"Landing Rate\")\n",
    "\n",
    "\n",
    "\n",
    "# PLOT LIMITS AND INFO\n",
    "ax.set_xlim(6,2)\n",
    "ax.set_ylim(-10,0)\n",
    "ax.set_zlim(0,10)\n",
    "\n",
    "ax.set_xlabel('RREV')\n",
    "ax.set_ylabel('OF_y')\n",
    "ax.set_zlabel('My_d')\n",
    "\n",
    "ax.set_title('Raw Policy Relation (LR >= 60%)')\n",
    "\n",
    "# Note: the planar look to the data\n",
    "\n",
    "plt.show()"
   ],
   "outputs": [
    {
     "output_type": "display_data",
     "data": {
      "text/plain": [
       "Canvas(toolbar=Toolbar(toolitems=[('Home', 'Reset original view', 'home', 'home'), ('Back', 'Back to previous …"
      ],
      "application/vnd.jupyter.widget-view+json": {
       "version_major": 2,
       "version_minor": 0,
       "model_id": "6e5d84d8b325446c9c242d39832d4988"
      }
     },
     "metadata": {}
    }
   ],
   "metadata": {}
  },
  {
   "cell_type": "markdown",
   "source": [
    "# LINEAR MODEL FIT"
   ],
   "metadata": {}
  },
  {
   "cell_type": "markdown",
   "source": [
    "## Regression with y-based loss"
   ],
   "metadata": {}
  },
  {
   "cell_type": "code",
   "execution_count": 19,
   "source": [
    "fig = plt.figure()\n",
    "ax = fig.add_subplot(111,projection=\"3d\")\n",
    "\n",
    "# CLEAN DATA\n",
    "df_temp = df.query(f\"My_d<={7.7}\")\n",
    "df_temp = df_temp.query(f\"RREV_threshold>{3.5}\") # Remove outlier data\n",
    "df_reg = df_temp.query(f\"landing_rate>={0.6}\")\n",
    "df_temp = df_temp.query(f\"landing_rate>={0.6}\")\n",
    "\n",
    "\n",
    "\n",
    "# LINEAR REGRESSION\n",
    "X_reg = df_reg[['RREV_threshold','OF_y']]\n",
    "Y_reg = df_reg['My_d']\n",
    "\n",
    "ypred, intercept,coef,R2 = linreg(X_reg,Y_reg)\n",
    "print(f\"Equation: My_d = {intercept:.2f} + {coef[0]:.2f}*RREV + {coef[1]:.2f}*OF_y \\n\")\n",
    "print(f\"R^2 = {R2:.3f}\")\n",
    "\n",
    "\n",
    "# DEFINE VARIABLES\n",
    "X = df_temp['RREV_threshold']\n",
    "Y = df_temp['OF_y']\n",
    "Z = df_temp['My_d']\n",
    "C = df_temp['landing_rate']\n",
    "\n",
    "\n",
    "# CREATE PLOTS AND COLOR BAR\n",
    "cmap = mpl.cm.rainbow\n",
    "norm = mpl.colors.Normalize(vmin=0,vmax=1)\n",
    "ax.scatter(X,Y,Z,c=C,cmap=cmap,norm=norm,zorder=2)\n",
    "ax.plot_trisurf(X,Y,ypred,alpha=0.75,label='Linear_Regression',zorder=1)\n",
    "fig.colorbar(mpl.cm.ScalarMappable(norm=norm, cmap=cmap),label=\"Landing Rate\")\n",
    "\n",
    "\n",
    "# PLOT LIMITS AND INFO\n",
    "ax.set_xlim(6,2)\n",
    "ax.set_ylim(-10,0)\n",
    "ax.set_zlim(0,10)\n",
    "\n",
    "ax.set_xlabel('RREV')\n",
    "ax.set_ylabel('OF_y')\n",
    "ax.set_zlabel('My_d')\n",
    "\n",
    "ax.set_title('Raw Policy Relation \\n(Regression: LR >= 60%)')\n",
    "\n",
    "# Note: the planar look to the data\n",
    "\n",
    "plt.show()"
   ],
   "outputs": [
    {
     "output_type": "display_data",
     "data": {
      "text/plain": [
       "Canvas(toolbar=Toolbar(toolitems=[('Home', 'Reset original view', 'home', 'home'), ('Back', 'Back to previous …"
      ],
      "application/vnd.jupyter.widget-view+json": {
       "version_major": 2,
       "version_minor": 0,
       "model_id": "efaa1c8189a94361aaf771f4939d068f"
      }
     },
     "metadata": {}
    },
    {
     "output_type": "stream",
     "name": "stdout",
     "text": [
      "Equation: My_d = -6.83 + 2.62*RREV + 0.39*OF_y \n",
      "\n",
      "R^2 = 0.157\n"
     ]
    }
   ],
   "metadata": {}
  },
  {
   "cell_type": "code",
   "execution_count": 20,
   "source": [
    "fig = plt.figure()\n",
    "ax = fig.add_subplot(111,projection=\"3d\")\n",
    "\n",
    "# CLEAN DATA\n",
    "df_temp = df.query(f\"My_d<={7.7}\")\n",
    "df_temp = df_temp.query(f\"RREV_threshold>{3.5}\") # Remove outlier data\n",
    "df_reg = df_temp.query(f\"landing_rate>={0.6}\")\n",
    "df_temp = df_temp.query(f\"landing_rate>={0.0}\")\n",
    "\n",
    "\n",
    "\n",
    "# LINEAR REGRESSION\n",
    "X_reg = df_reg[['RREV_threshold','OF_y']]\n",
    "Y_reg = df_reg['My_d']\n",
    "\n",
    "ypred, intercept,coef,R2 = linreg(X_reg,Y_reg)\n",
    "print(f\"Equation: My_d = {intercept:.2f} + {coef[0]:.2f}*RREV + {coef[1]:.2f}*OF_y \\n\")\n",
    "print(f\"R^2 = {R2:.3f}\")\n",
    "\n",
    "\n",
    "# DEFINE VARIABLES\n",
    "X = df_temp['RREV_threshold']\n",
    "Y = df_temp['OF_y']\n",
    "Z = df_temp['My_d']\n",
    "C = df_temp['landing_rate']\n",
    "\n",
    "\n",
    "# CREATE PLOTS AND COLOR BAR\n",
    "cmap = mpl.cm.rainbow\n",
    "norm = mpl.colors.Normalize(vmin=0,vmax=1)\n",
    "ax.scatter(X,Y,Z,c=C,cmap=cmap,norm=norm,zorder=2)\n",
    "ax.plot_trisurf(X_reg['RREV_threshold'],X_reg['OF_y'],ypred,alpha=0.75,label='Linear_Regression',zorder=1)\n",
    "fig.colorbar(mpl.cm.ScalarMappable(norm=norm, cmap=cmap),label=\"Landing Rate\")\n",
    "\n",
    "\n",
    "# PLOT LIMITS AND INFO\n",
    "ax.set_xlim(6,2)\n",
    "ax.set_ylim(-10,0)\n",
    "ax.set_zlim(0,10)\n",
    "\n",
    "ax.set_xlabel('RREV')\n",
    "ax.set_ylabel('OF_y')\n",
    "ax.set_zlabel('My_d')\n",
    "\n",
    "ax.set_title('Raw Policy Relation \\n(Regression: LR >= 60%)')\n",
    "\n",
    "# Note: the planar look to the data\n",
    "\n",
    "plt.show()"
   ],
   "outputs": [
    {
     "output_type": "display_data",
     "data": {
      "text/plain": [
       "Canvas(toolbar=Toolbar(toolitems=[('Home', 'Reset original view', 'home', 'home'), ('Back', 'Back to previous …"
      ],
      "application/vnd.jupyter.widget-view+json": {
       "version_major": 2,
       "version_minor": 0,
       "model_id": "b2855595037b4136af556c1609265cf1"
      }
     },
     "metadata": {}
    },
    {
     "output_type": "stream",
     "name": "stdout",
     "text": [
      "Equation: My_d = -6.83 + 2.62*RREV + 0.39*OF_y \n",
      "\n",
      "R^2 = 0.157\n"
     ]
    }
   ],
   "metadata": {}
  },
  {
   "cell_type": "markdown",
   "source": [
    "## Regression with x-based loss\n"
   ],
   "metadata": {}
  },
  {
   "cell_type": "code",
   "execution_count": 21,
   "source": [
    "fig = plt.figure()\n",
    "ax = fig.add_subplot(111,projection=\"3d\")\n",
    "\n",
    "# CLEAN DATA\n",
    "df_temp = df.query(f\"My_d<={7.7}\")\n",
    "df_temp = df_temp.query(f\"RREV_threshold>{3.5}\") # Remove outlier data\n",
    "df_reg = df_temp.query(f\"landing_rate>={0.6}\")\n",
    "df_temp = df_temp.query(f\"landing_rate>={0.6}\")\n",
    "\n",
    "\n",
    "\n",
    "# LINEAR REGRESSION\n",
    "X_reg = df_reg[['My_d','OF_y']]\n",
    "Y_reg = df_reg['RREV_threshold']\n",
    "\n",
    "ypred, intercept,coef,R2 = linreg(X_reg,Y_reg)\n",
    "print(f\"Equation: RREV_threshold = {intercept:.2f} + {coef[0]:.2f}*My_d + {coef[1]:.2f}*OF_y \\n\")\n",
    "print(f\"R^2 = {R2:.3f}\")\n",
    "\n",
    "\n",
    "# DEFINE VARIABLES\n",
    "X = df_temp['RREV_threshold']\n",
    "Y = df_temp['OF_y']\n",
    "Z = df_temp['My_d']\n",
    "C = df_temp['landing_rate']\n",
    "\n",
    "\n",
    "# CREATE PLOTS AND COLOR BAR\n",
    "cmap = mpl.cm.rainbow\n",
    "norm = mpl.colors.Normalize(vmin=0,vmax=1)\n",
    "ax.scatter(X,Y,Z,c=C,cmap=cmap,norm=norm,zorder=2)\n",
    "ax.plot_trisurf(ypred,X_reg['OF_y'],X_reg['My_d'],alpha=0.75,label='Linear_Regression',zorder=1)\n",
    "fig.colorbar(mpl.cm.ScalarMappable(norm=norm, cmap=cmap),label=\"Landing Rate\")\n",
    "\n",
    "\n",
    "# PLOT LIMITS AND INFO\n",
    "ax.set_xlim(6,2)\n",
    "ax.set_ylim(-10,0)\n",
    "ax.set_zlim(0,10)\n",
    "\n",
    "ax.set_xlabel('RREV')\n",
    "ax.set_ylabel('OF_y')\n",
    "ax.set_zlabel('My_d')\n",
    "\n",
    "ax.set_title('Raw Policy Relation \\n(Regression: LR >= 60%)')\n",
    "\n",
    "# Note: the planar look to the data\n",
    "\n",
    "plt.show()"
   ],
   "outputs": [
    {
     "output_type": "display_data",
     "data": {
      "text/plain": [
       "Canvas(toolbar=Toolbar(toolitems=[('Home', 'Reset original view', 'home', 'home'), ('Back', 'Back to previous …"
      ],
      "application/vnd.jupyter.widget-view+json": {
       "version_major": 2,
       "version_minor": 0,
       "model_id": "2829610134ca4e3387df9e7c8d5e76c8"
      }
     },
     "metadata": {}
    },
    {
     "output_type": "stream",
     "name": "stdout",
     "text": [
      "Equation: RREV_threshold = 3.78 + 0.06*My_d + -0.17*OF_y \n",
      "\n",
      "R^2 = 0.649\n"
     ]
    }
   ],
   "metadata": {}
  },
  {
   "cell_type": "code",
   "execution_count": null,
   "source": [],
   "outputs": [],
   "metadata": {}
  }
 ]
}