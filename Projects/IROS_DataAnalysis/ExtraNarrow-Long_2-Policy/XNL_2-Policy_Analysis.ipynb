{
 "metadata": {
  "language_info": {
   "codemirror_mode": {
    "name": "ipython",
    "version": 3
   },
   "file_extension": ".py",
   "mimetype": "text/x-python",
   "name": "python",
   "nbconvert_exporter": "python",
   "pygments_lexer": "ipython3",
   "version": "3.8.5-final"
  },
  "orig_nbformat": 2,
  "kernelspec": {
   "name": "python38564bit0282941c0ba945238a13db8c20574d9c",
   "display_name": "Python 3.8.5 64-bit",
   "language": "python"
  }
 },
 "nbformat": 4,
 "nbformat_minor": 2,
 "cells": [
  {
   "source": [
    "# Module Imports"
   ],
   "cell_type": "markdown",
   "metadata": {}
  },
  {
   "cell_type": "code",
   "execution_count": 7,
   "metadata": {},
   "outputs": [],
   "source": [
    "## IMPORT MODULES\n",
    "import pandas as pd\n",
    "import numpy as np\n",
    "from sklearn import linear_model\n",
    "from scipy.interpolate import griddata\n"
   ]
  },
  {
   "cell_type": "code",
   "execution_count": 8,
   "metadata": {},
   "outputs": [],
   "source": [
    "## IMPORT PLOTTING MODULES\n",
    "import matplotlib.pyplot as plt\n",
    "from mpl_toolkits import mplot3d\n",
    "import matplotlib as mpl\n",
    "from matplotlib import cm\n",
    "%matplotlib widget"
   ]
  },
  {
   "source": [
    "# Dataframe"
   ],
   "cell_type": "markdown",
   "metadata": {}
  },
  {
   "cell_type": "code",
   "execution_count": 9,
   "metadata": {},
   "outputs": [],
   "source": [
    "## FULL DATAFRAME\n",
    "df_raw = pd.read_csv(\"XNL_2-Policy_Summary.csv\",error_bad_lines=False)\n",
    "\n",
    "## DROP EXTRANEOUS DATAPOINTS\n",
    "df_raw = df_raw.drop(df_raw[(df_raw['landing_rate']<=0.15) & (df_raw['vz_d']>=2.5)].index)\n",
    "df_raw = df_raw.drop(df_raw[(df_raw['landing_rate']<=0.15) & (df_raw['vx_d']>=1.0)].index)\n",
    "\n",
    "\n",
    "## GROUP AND AVERAGE RAW DATA BY VEL IC\n",
    "df_raw_avg = df_raw.groupby(['vz_d','vx_d']).agg([np.mean,np.std]).reset_index()\n",
    "\n",
    "\n",
    "\n",
    "\n",
    "## CLEAN RAW DATA\n",
    "df = df_raw\n",
    "df['My_d'] = df['My_d'].apply(lambda x: np.abs(x)) # Convert My to magnitude\n",
    "# df['My_d'] = df['My_d'].apply(lambda x: 7.7 if x>7.7 else x) # Cap My_d to max moment\n",
    "# df = df.drop(df[(df['vz_d']<= 2.0) & (df['vx_d']<= 0.5)].index) # Drop corner with no successful landings\n",
    "df = df.dropna()\n",
    "\n",
    "## AVERAGED DATAFRAME\n",
    "df_avg = df.groupby(['vz_d','vx_d']).agg([np.mean,np.std]).reset_index()"
   ]
  },
  {
   "cell_type": "code",
   "execution_count": 10,
   "metadata": {},
   "outputs": [
    {
     "output_type": "execute_result",
     "data": {
      "text/plain": [
       "    vz_d  vx_d trial_num           landing_rate           RREV_threshold  \\\n",
       "                    mean       std         mean       std           mean   \n",
       "0    1.5  0.00       2.5  1.870829     0.262609  0.245211       5.035000   \n",
       "1    1.5  0.25       2.5  1.870829     0.335227  0.338367       4.831667   \n",
       "2    1.5  0.50       2.5  1.870829     0.384615  0.543928       4.650000   \n",
       "3    1.5  0.75       2.5  1.870829     0.166667  0.288675       4.996667   \n",
       "4    1.5  1.00       2.8  1.923538     0.714855  0.075801       4.796000   \n",
       "..   ...   ...       ...       ...          ...       ...            ...   \n",
       "127  4.0  1.75       2.5  1.870829     0.571978  0.177443       3.998333   \n",
       "128  4.0  2.00       2.5  2.380476     0.412500  0.053033       4.655000   \n",
       "129  4.0  2.25       2.8  1.923538     0.654356  0.173841       4.074000   \n",
       "130  4.0  2.50       2.4  2.073644     0.720026  0.093039       4.746000   \n",
       "131  4.0  2.75       2.5  1.870829     0.824111  0.034344       4.768333   \n",
       "\n",
       "                     G1            ... RREV_trigger                OF_y  \\\n",
       "          std      mean       std  ...         mean       std      mean   \n",
       "0    0.959661  3.593333  2.656386  ...     5.052250  0.055750  0.000000   \n",
       "1    1.012866  4.220000  2.220748  ...     5.163405  0.399236 -0.752006   \n",
       "2    0.997838  3.496667  1.365909  ...     5.361300       NaN -1.561400   \n",
       "3    0.777089  6.276667  2.813131  ...     5.047200       NaN -2.204900   \n",
       "4    0.226119  8.226000  2.583356  ...     5.177113  0.136945 -3.015649   \n",
       "..        ...       ...       ...  ...          ...       ...       ...   \n",
       "127  0.814357  4.326667  2.293231  ...     4.600720  0.336847 -1.913224   \n",
       "128  0.470496  7.012500  3.900601  ...     4.624028  0.524870 -2.195222   \n",
       "129  1.710009  5.700000  2.369525  ...     5.236374  0.581435 -2.795675   \n",
       "130  0.175585  6.036000  1.234840  ...     5.154633  0.327822 -3.058613   \n",
       "131  0.210658  5.948333  1.520479  ...     5.081125  0.295549 -3.316671   \n",
       "\n",
       "                   My_d            impact_eul            impact_tdelta  \\\n",
       "          std      mean       std        mean        std          mean   \n",
       "0    0.000000 -5.767000  0.746271 -129.896855   3.076125      0.201500   \n",
       "1    0.058228 -5.123577  1.876807 -142.271738  26.604298      0.216119   \n",
       "2         NaN -3.591400       NaN -128.972066        NaN      0.236200   \n",
       "3         NaN -5.486400       NaN -130.437363        NaN      0.206200   \n",
       "4    0.079814 -8.427768  2.928762 -129.238663   4.744650      0.186113   \n",
       "..        ...       ...       ...         ...        ...           ...   \n",
       "127  0.138275 -4.531033  2.471986 -143.973129  14.762284      0.265226   \n",
       "128  0.240102 -4.318417  2.877100 -122.973995  34.121837      0.256000   \n",
       "129  0.306803 -6.197760  2.429098 -137.165152  10.928893      0.212797   \n",
       "130  0.192143 -5.668304  1.583539 -129.195240  16.535325      0.213766   \n",
       "131  0.191875 -5.679589  1.502830 -121.576903  21.648827      0.216402   \n",
       "\n",
       "               \n",
       "          std  \n",
       "0    0.008893  \n",
       "1    0.032404  \n",
       "2         NaN  \n",
       "3         NaN  \n",
       "4    0.014396  \n",
       "..        ...  \n",
       "127  0.049566  \n",
       "128  0.055626  \n",
       "129  0.051146  \n",
       "130  0.027112  \n",
       "131  0.022079  \n",
       "\n",
       "[132 rows x 24 columns]"
      ],
      "text/html": "<div>\n<style scoped>\n    .dataframe tbody tr th:only-of-type {\n        vertical-align: middle;\n    }\n\n    .dataframe tbody tr th {\n        vertical-align: top;\n    }\n\n    .dataframe thead tr th {\n        text-align: left;\n    }\n</style>\n<table border=\"1\" class=\"dataframe\">\n  <thead>\n    <tr>\n      <th></th>\n      <th>vz_d</th>\n      <th>vx_d</th>\n      <th colspan=\"2\" halign=\"left\">trial_num</th>\n      <th colspan=\"2\" halign=\"left\">landing_rate</th>\n      <th colspan=\"2\" halign=\"left\">RREV_threshold</th>\n      <th colspan=\"2\" halign=\"left\">G1</th>\n      <th>...</th>\n      <th colspan=\"2\" halign=\"left\">RREV_trigger</th>\n      <th colspan=\"2\" halign=\"left\">OF_y</th>\n      <th colspan=\"2\" halign=\"left\">My_d</th>\n      <th colspan=\"2\" halign=\"left\">impact_eul</th>\n      <th colspan=\"2\" halign=\"left\">impact_tdelta</th>\n    </tr>\n    <tr>\n      <th></th>\n      <th></th>\n      <th></th>\n      <th>mean</th>\n      <th>std</th>\n      <th>mean</th>\n      <th>std</th>\n      <th>mean</th>\n      <th>std</th>\n      <th>mean</th>\n      <th>std</th>\n      <th>...</th>\n      <th>mean</th>\n      <th>std</th>\n      <th>mean</th>\n      <th>std</th>\n      <th>mean</th>\n      <th>std</th>\n      <th>mean</th>\n      <th>std</th>\n      <th>mean</th>\n      <th>std</th>\n    </tr>\n  </thead>\n  <tbody>\n    <tr>\n      <th>0</th>\n      <td>1.5</td>\n      <td>0.00</td>\n      <td>2.5</td>\n      <td>1.870829</td>\n      <td>0.262609</td>\n      <td>0.245211</td>\n      <td>5.035000</td>\n      <td>0.959661</td>\n      <td>3.593333</td>\n      <td>2.656386</td>\n      <td>...</td>\n      <td>5.052250</td>\n      <td>0.055750</td>\n      <td>0.000000</td>\n      <td>0.000000</td>\n      <td>-5.767000</td>\n      <td>0.746271</td>\n      <td>-129.896855</td>\n      <td>3.076125</td>\n      <td>0.201500</td>\n      <td>0.008893</td>\n    </tr>\n    <tr>\n      <th>1</th>\n      <td>1.5</td>\n      <td>0.25</td>\n      <td>2.5</td>\n      <td>1.870829</td>\n      <td>0.335227</td>\n      <td>0.338367</td>\n      <td>4.831667</td>\n      <td>1.012866</td>\n      <td>4.220000</td>\n      <td>2.220748</td>\n      <td>...</td>\n      <td>5.163405</td>\n      <td>0.399236</td>\n      <td>-0.752006</td>\n      <td>0.058228</td>\n      <td>-5.123577</td>\n      <td>1.876807</td>\n      <td>-142.271738</td>\n      <td>26.604298</td>\n      <td>0.216119</td>\n      <td>0.032404</td>\n    </tr>\n    <tr>\n      <th>2</th>\n      <td>1.5</td>\n      <td>0.50</td>\n      <td>2.5</td>\n      <td>1.870829</td>\n      <td>0.384615</td>\n      <td>0.543928</td>\n      <td>4.650000</td>\n      <td>0.997838</td>\n      <td>3.496667</td>\n      <td>1.365909</td>\n      <td>...</td>\n      <td>5.361300</td>\n      <td>NaN</td>\n      <td>-1.561400</td>\n      <td>NaN</td>\n      <td>-3.591400</td>\n      <td>NaN</td>\n      <td>-128.972066</td>\n      <td>NaN</td>\n      <td>0.236200</td>\n      <td>NaN</td>\n    </tr>\n    <tr>\n      <th>3</th>\n      <td>1.5</td>\n      <td>0.75</td>\n      <td>2.5</td>\n      <td>1.870829</td>\n      <td>0.166667</td>\n      <td>0.288675</td>\n      <td>4.996667</td>\n      <td>0.777089</td>\n      <td>6.276667</td>\n      <td>2.813131</td>\n      <td>...</td>\n      <td>5.047200</td>\n      <td>NaN</td>\n      <td>-2.204900</td>\n      <td>NaN</td>\n      <td>-5.486400</td>\n      <td>NaN</td>\n      <td>-130.437363</td>\n      <td>NaN</td>\n      <td>0.206200</td>\n      <td>NaN</td>\n    </tr>\n    <tr>\n      <th>4</th>\n      <td>1.5</td>\n      <td>1.00</td>\n      <td>2.8</td>\n      <td>1.923538</td>\n      <td>0.714855</td>\n      <td>0.075801</td>\n      <td>4.796000</td>\n      <td>0.226119</td>\n      <td>8.226000</td>\n      <td>2.583356</td>\n      <td>...</td>\n      <td>5.177113</td>\n      <td>0.136945</td>\n      <td>-3.015649</td>\n      <td>0.079814</td>\n      <td>-8.427768</td>\n      <td>2.928762</td>\n      <td>-129.238663</td>\n      <td>4.744650</td>\n      <td>0.186113</td>\n      <td>0.014396</td>\n    </tr>\n    <tr>\n      <th>...</th>\n      <td>...</td>\n      <td>...</td>\n      <td>...</td>\n      <td>...</td>\n      <td>...</td>\n      <td>...</td>\n      <td>...</td>\n      <td>...</td>\n      <td>...</td>\n      <td>...</td>\n      <td>...</td>\n      <td>...</td>\n      <td>...</td>\n      <td>...</td>\n      <td>...</td>\n      <td>...</td>\n      <td>...</td>\n      <td>...</td>\n      <td>...</td>\n      <td>...</td>\n      <td>...</td>\n    </tr>\n    <tr>\n      <th>127</th>\n      <td>4.0</td>\n      <td>1.75</td>\n      <td>2.5</td>\n      <td>1.870829</td>\n      <td>0.571978</td>\n      <td>0.177443</td>\n      <td>3.998333</td>\n      <td>0.814357</td>\n      <td>4.326667</td>\n      <td>2.293231</td>\n      <td>...</td>\n      <td>4.600720</td>\n      <td>0.336847</td>\n      <td>-1.913224</td>\n      <td>0.138275</td>\n      <td>-4.531033</td>\n      <td>2.471986</td>\n      <td>-143.973129</td>\n      <td>14.762284</td>\n      <td>0.265226</td>\n      <td>0.049566</td>\n    </tr>\n    <tr>\n      <th>128</th>\n      <td>4.0</td>\n      <td>2.00</td>\n      <td>2.5</td>\n      <td>2.380476</td>\n      <td>0.412500</td>\n      <td>0.053033</td>\n      <td>4.655000</td>\n      <td>0.470496</td>\n      <td>7.012500</td>\n      <td>3.900601</td>\n      <td>...</td>\n      <td>4.624028</td>\n      <td>0.524870</td>\n      <td>-2.195222</td>\n      <td>0.240102</td>\n      <td>-4.318417</td>\n      <td>2.877100</td>\n      <td>-122.973995</td>\n      <td>34.121837</td>\n      <td>0.256000</td>\n      <td>0.055626</td>\n    </tr>\n    <tr>\n      <th>129</th>\n      <td>4.0</td>\n      <td>2.25</td>\n      <td>2.8</td>\n      <td>1.923538</td>\n      <td>0.654356</td>\n      <td>0.173841</td>\n      <td>4.074000</td>\n      <td>1.710009</td>\n      <td>5.700000</td>\n      <td>2.369525</td>\n      <td>...</td>\n      <td>5.236374</td>\n      <td>0.581435</td>\n      <td>-2.795675</td>\n      <td>0.306803</td>\n      <td>-6.197760</td>\n      <td>2.429098</td>\n      <td>-137.165152</td>\n      <td>10.928893</td>\n      <td>0.212797</td>\n      <td>0.051146</td>\n    </tr>\n    <tr>\n      <th>130</th>\n      <td>4.0</td>\n      <td>2.50</td>\n      <td>2.4</td>\n      <td>2.073644</td>\n      <td>0.720026</td>\n      <td>0.093039</td>\n      <td>4.746000</td>\n      <td>0.175585</td>\n      <td>6.036000</td>\n      <td>1.234840</td>\n      <td>...</td>\n      <td>5.154633</td>\n      <td>0.327822</td>\n      <td>-3.058613</td>\n      <td>0.192143</td>\n      <td>-5.668304</td>\n      <td>1.583539</td>\n      <td>-129.195240</td>\n      <td>16.535325</td>\n      <td>0.213766</td>\n      <td>0.027112</td>\n    </tr>\n    <tr>\n      <th>131</th>\n      <td>4.0</td>\n      <td>2.75</td>\n      <td>2.5</td>\n      <td>1.870829</td>\n      <td>0.824111</td>\n      <td>0.034344</td>\n      <td>4.768333</td>\n      <td>0.210658</td>\n      <td>5.948333</td>\n      <td>1.520479</td>\n      <td>...</td>\n      <td>5.081125</td>\n      <td>0.295549</td>\n      <td>-3.316671</td>\n      <td>0.191875</td>\n      <td>-5.679589</td>\n      <td>1.502830</td>\n      <td>-121.576903</td>\n      <td>21.648827</td>\n      <td>0.216402</td>\n      <td>0.022079</td>\n    </tr>\n  </tbody>\n</table>\n<p>132 rows × 24 columns</p>\n</div>"
     },
     "metadata": {},
     "execution_count": 10
    }
   ],
   "source": [
    "df_raw_avg"
   ]
  },
  {
   "cell_type": "code",
   "execution_count": 11,
   "metadata": {},
   "outputs": [],
   "source": [
    "# TEMPLATE FOR LINEAR REGRESSION\n",
    "from sklearn.linear_model import LinearRegression\n",
    "\n",
    "def linreg(X ,Y):\n",
    "    # perform multivariate or univariate\n",
    "    # X = [var1 var2]\n",
    "    # y = var3\n",
    "    reg = LinearRegression(normalize=True)\n",
    "    reg.fit(X,Y)\n",
    "\n",
    "    intercept = reg.intercept_ \n",
    "    coef = reg.coef_\n",
    "    \n",
    "    R2 = reg.score(X,Y) # built in function for r^2\n",
    "    \n",
    "    ypred = reg.predict(X) # plot x vs. ypred for line or plane\n",
    "    \n",
    "    return ypred, intercept,coef,R2\n"
   ]
  },
  {
   "source": [
    "# Landing Rate Data"
   ],
   "cell_type": "markdown",
   "metadata": {}
  },
  {
   "cell_type": "code",
   "execution_count": 12,
   "metadata": {},
   "outputs": [
    {
     "output_type": "display_data",
     "data": {
      "text/plain": "Canvas(toolbar=Toolbar(toolitems=[('Home', 'Reset original view', 'home', 'home'), ('Back', 'Back to previous …",
      "application/vnd.jupyter.widget-view+json": {
       "version_major": 2,
       "version_minor": 0,
       "model_id": "e1ede59e95764f36b53bfbe00acc5824"
      }
     },
     "metadata": {}
    }
   ],
   "source": [
    "## LANDING RATE DATA (RAW)\n",
    "fig = plt.figure()\n",
    "ax = fig.add_subplot(111,projection=\"3d\")\n",
    "\n",
    "# DEFINE VARIABLES\n",
    "X = df_raw['vx_d']\n",
    "Y = df_raw['vz_d']\n",
    "Z = df_raw['landing_rate']\n",
    "\n",
    "\n",
    "# CREATE PLOTS AND COLOR BAR\n",
    "ax.scatter(df_raw['vx_d'],df_raw['vz_d'],df_raw['landing_rate'])\n",
    "\n",
    "\n",
    "# PLOT LIMITS AND INFO\n",
    "ax.set_zlim(0,1)\n",
    "\n",
    "ax.set_xlabel('vx_d')\n",
    "ax.set_ylabel('vz_d')\n",
    "ax.set_zlabel('Landing Rate')\n",
    "ax.set_title('Landing Rate (Raw Data)')\n",
    "\n",
    "plt.show()"
   ]
  },
  {
   "cell_type": "code",
   "execution_count": 13,
   "metadata": {},
   "outputs": [
    {
     "output_type": "display_data",
     "data": {
      "text/plain": "Canvas(toolbar=Toolbar(toolitems=[('Home', 'Reset original view', 'home', 'home'), ('Back', 'Back to previous …",
      "application/vnd.jupyter.widget-view+json": {
       "version_major": 2,
       "version_minor": 0,
       "model_id": "e1bddc81bb5543069408a38e2f0cc5c1"
      }
     },
     "metadata": {}
    }
   ],
   "source": [
    "## AVG LANDING RATE SURFACE\n",
    "fig = plt.figure()\n",
    "ax = fig.add_subplot(111,projection=\"3d\")\n",
    "\n",
    "# DEFINE VARIABLES\n",
    "X = df_raw_avg['vx_d']\n",
    "Y = df_raw_avg['vz_d']\n",
    "Z = df_raw_avg['landing_rate','mean']\n",
    "\n",
    "# DEFINE COLOR FORMATS AND LIMITS\n",
    "cmap = mpl.cm.jet\n",
    "norm = mpl.colors.Normalize(vmin=0,vmax=1)\n",
    "\n",
    "# CREATE PLOTS AND COLOR BAR\n",
    "ax.plot_trisurf(X,Y,Z,cmap = cmap,norm=norm,edgecolors='grey',linewidth=0.25)\n",
    "fig.colorbar(mpl.cm.ScalarMappable(norm=norm, cmap=cmap),label=\"Landing %\")\n",
    "\n",
    "\n",
    "# PLOT LIMITS AND INFO\n",
    "ax.set_zlim(0,1)\n",
    "\n",
    "ax.set_xlabel('vx_d')\n",
    "ax.set_ylabel('vz_d')\n",
    "ax.set_zlabel('Landing Rate')\n",
    "ax.set_title('Avg Landing Rate for Final 3 Episodes')\n",
    "\n",
    "\n",
    "plt.show()"
   ]
  },
  {
   "cell_type": "code",
   "execution_count": 14,
   "metadata": {},
   "outputs": [
    {
     "output_type": "display_data",
     "data": {
      "text/plain": "Canvas(toolbar=Toolbar(toolitems=[('Home', 'Reset original view', 'home', 'home'), ('Back', 'Back to previous …",
      "application/vnd.jupyter.widget-view+json": {
       "version_major": 2,
       "version_minor": 0,
       "model_id": "89ce496bd955499fa0141f63b2123f67"
      }
     },
     "metadata": {}
    }
   ],
   "source": [
    "## AVG LANDING RATE SMOOTHED SURFACE\n",
    "fig = plt.figure()\n",
    "ax = fig.add_subplot(111,projection=\"3d\")\n",
    "\n",
    "# DEFINE VARIABLES\n",
    "X = df_raw_avg['vx_d']\n",
    "Y = df_raw_avg['vz_d']\n",
    "Z = df_raw_avg['landing_rate','mean']\n",
    "\n",
    "# SOMETHING ABOUT DEFINING A GRID\n",
    "xi = np.linspace(X.min(),X.max(),(len(Z)//3))\n",
    "yi = np.linspace(Y.min(),Y.max(),(len(Z)//3))\n",
    "zi = griddata((X, Y), Z, (xi[None,:], yi[:,None]), method='linear')\n",
    "xig, yig = np.meshgrid(xi, yi)\n",
    "\n",
    "# DEFINE COLOR FORMAT AND LIMITS\n",
    "cmap = mpl.cm.jet\n",
    "norm = mpl.colors.Normalize(vmin=0,vmax=1)\n",
    "\n",
    "# CREATE PLOTS AND COLOR BAR\n",
    "surf = ax.plot_surface(xig, yig, zi,cmap=cmap,norm=norm,edgecolors='grey',linewidth=0.25)\n",
    "# surf = ax.plot_surface(xig, yig, zi,cmap=cmap,norm=norm)\n",
    "# surf = ax.contour(xig, yig, zi,cmap=cmap,norm=norm)\n",
    "\n",
    "fig.colorbar(mpl.cm.ScalarMappable(norm=norm, cmap=cmap),label=\"Landing %\")\n",
    "\n",
    "# PLOT LIMITS AND INFO\n",
    "ax.set_zlim(0,1)\n",
    "\n",
    "ax.set_xlabel('vx_d')\n",
    "ax.set_ylabel('vz_d')\n",
    "ax.set_zlabel('Landing Rate')\n",
    "ax.set_title('Avg Landing Rate for Final 3 Episodes')\n",
    "\n",
    "\n",
    "plt.show()"
   ]
  },
  {
   "source": [
    "# RREV vs IC"
   ],
   "cell_type": "markdown",
   "metadata": {}
  },
  {
   "cell_type": "code",
   "execution_count": 15,
   "metadata": {},
   "outputs": [
    {
     "output_type": "display_data",
     "data": {
      "text/plain": "Canvas(toolbar=Toolbar(toolitems=[('Home', 'Reset original view', 'home', 'home'), ('Back', 'Back to previous …",
      "application/vnd.jupyter.widget-view+json": {
       "version_major": 2,
       "version_minor": 0,
       "model_id": "8447c1cab53443f29ccb0e70d2249059"
      }
     },
     "metadata": {}
    },
    {
     "output_type": "stream",
     "name": "stdout",
     "text": [
      "Equation: RREV_reg = 4.99 + 0.11*vx_d + -0.20*vz_d \n\nR^2 = 0.242\n"
     ]
    }
   ],
   "source": [
    "fig = plt.figure()\n",
    "ax = fig.add_subplot(111,projection=\"3d\")\n",
    "\n",
    "# CLEAN DATA\n",
    "df_temp = df.query(f\"My_d<={7.7}\")\n",
    "df_temp = df_temp.query(f\"RREV_threshold>{3.5}\") # Remove outlier data\n",
    "\n",
    "\n",
    "\n",
    "# LINEAR REGRESSION\n",
    "X_reg = df_temp[['vx_d','vz_d']]\n",
    "Y_reg = df_temp['RREV_threshold']\n",
    "\n",
    "ypred, intercept,coef,R2 = linreg(X_reg,Y_reg)\n",
    "print(f\"Equation: RREV_reg = {intercept:.2f} + {coef[0]:.2f}*vx_d + {coef[1]:.2f}*vz_d \\n\")\n",
    "print(f\"R^2 = {R2:.3f}\")\n",
    "\n",
    "\n",
    "# DEFINE VARIABLES\n",
    "X = df_temp['vx_d']\n",
    "Y = df_temp['vz_d']\n",
    "Z = df_temp['RREV_threshold']\n",
    "C = df_temp['RREV_threshold']\n",
    "\n",
    "\n",
    "# CREATE PLOTS AND COLOR BAR\n",
    "cmap = mpl.cm.rainbow\n",
    "norm = mpl.colors.Normalize(vmin=3.5,vmax=5.5)\n",
    "ax.scatter(X,Y,Z,c=C,cmap=cmap,norm=norm,zorder=2)\n",
    "ax.plot_trisurf(X,Y,ypred,alpha=0.75,label='Linear_Regression',zorder=1)\n",
    "fig.colorbar(mpl.cm.ScalarMappable(norm=norm, cmap=cmap),label=\"RREV_threshold\")\n",
    "\n",
    "\n",
    "\n",
    "# PLOT LIMITS AND INFO\n",
    "ax.set_xlim(0,2.75)\n",
    "ax.set_ylim(1.0,4.5)\n",
    "ax.set_zlim(3,6)\n",
    "\n",
    "\n",
    "ax.set_xlabel('Vx_d')\n",
    "ax.set_ylabel('Vz_d')\n",
    "ax.set_zlabel('RREV_threshold')\n",
    "ax.set_title('RREV_thr vs IC - (Raw Data)')\n",
    "\n",
    "plt.show()"
   ]
  },
  {
   "cell_type": "code",
   "execution_count": 16,
   "metadata": {},
   "outputs": [
    {
     "output_type": "display_data",
     "data": {
      "text/plain": "Canvas(toolbar=Toolbar(toolitems=[('Home', 'Reset original view', 'home', 'home'), ('Back', 'Back to previous …",
      "application/vnd.jupyter.widget-view+json": {
       "version_major": 2,
       "version_minor": 0,
       "model_id": "eb2c65b758c54ab69b0558044ae0d620"
      }
     },
     "metadata": {}
    }
   ],
   "source": [
    "fig = plt.figure()\n",
    "ax = fig.add_subplot(111,projection=\"3d\")\n",
    "\n",
    "# CLEAN DATA\n",
    "df_temp = df.query(f\"RREV_threshold>={3.5}\")\n",
    "df_temp_avg = df_raw.groupby(['vz_d','vx_d']).agg([np.mean,np.std]).reset_index()\n",
    "\n",
    "# DEFINE VARIABLES\n",
    "X = df_temp_avg['vx_d']\n",
    "Y = df_temp_avg['vz_d']\n",
    "Z = df_temp_avg['RREV_threshold','mean']\n",
    "\n",
    "# SOMETHING ABOUT DEFINING A GRID\n",
    "xi = np.linspace(X.min(),X.max(),(len(Z)//10))\n",
    "yi = np.linspace(Y.min(),Y.max(),(len(Z)//10))\n",
    "zi = griddata((X, Y), Z, (xi[None,:], yi[:,None]), method='linear')\n",
    "xig, yig = np.meshgrid(xi, yi)\n",
    "\n",
    "# DEFINE COLOR FORMAT AND LIMITS\n",
    "cmap = mpl.cm.jet\n",
    "norm = mpl.colors.Normalize(vmin=4,vmax=5)\n",
    "\n",
    "# CREATE PLOTS AND COLOR BAR\n",
    "surf = ax.plot_surface(xig, yig, zi,cmap=cmap,norm=norm,edgecolors='grey',linewidth=0.25)\n",
    "fig.colorbar(mpl.cm.ScalarMappable(norm=norm, cmap=cmap),label=\"RREV_threshold\")\n",
    "\n",
    "# PLOT LIMITS AND INFO\n",
    "ax.set_xlim(0,2.75)\n",
    "ax.set_ylim(1.0,4.5)\n",
    "ax.set_zlim(3,6)\n",
    "\n",
    "ax.set_xlabel('vx_d')\n",
    "ax.set_ylabel('vz_d')\n",
    "ax.set_zlabel('RREV_threshold')\n",
    "\n",
    "ax.set_title('Avg RREV_thr vs IC')\n",
    "plt.show()"
   ]
  },
  {
   "source": [
    "# Rotation Time Data"
   ],
   "cell_type": "markdown",
   "metadata": {}
  },
  {
   "cell_type": "code",
   "execution_count": 17,
   "metadata": {},
   "outputs": [
    {
     "output_type": "display_data",
     "data": {
      "text/plain": "Canvas(toolbar=Toolbar(toolitems=[('Home', 'Reset original view', 'home', 'home'), ('Back', 'Back to previous …",
      "application/vnd.jupyter.widget-view+json": {
       "version_major": 2,
       "version_minor": 0,
       "model_id": "6e6529657509471db83b59d6aa3bbe79"
      }
     },
     "metadata": {}
    }
   ],
   "source": [
    "fig = plt.figure()\n",
    "ax = fig.add_subplot(111,projection=\"3d\")\n",
    "\n",
    "# CLEAN DATA\n",
    "df_temp = df\n",
    "\n",
    "# DEFINE VARIABLES\n",
    "X = df_temp['RREV_threshold']\n",
    "Y = df_temp['OF_y']\n",
    "Z = df_temp['impact_tdelta']\n",
    "C = df_temp['landing_rate']\n",
    "\n",
    "\n",
    "# CREATE PLOTS AND COLOR BAR\n",
    "ax.scatter(X,Y,Z)\n",
    "\n",
    "cmap = mpl.cm.rainbow\n",
    "norm = mpl.colors.Normalize(vmin=0,vmax=1)\n",
    "ax.scatter(X,Y,Z,c=C,cmap=cmap,norm=norm)\n",
    "# fig.colorbar(mpl.cm.ScalarMappable(norm=norm, cmap=cmap),label=\"Landing Rate\")\n",
    "\n",
    "\n",
    "\n",
    "# PLOT LIMITS AND INFO\n",
    "ax.set_xlabel('RREV')\n",
    "ax.set_ylabel('OF_y')\n",
    "ax.set_zlabel('Delta_t [s]')\n",
    "\n",
    "ax.set_title('Time Rotating vs IC (Raw Data)')\n",
    "\n",
    "ax.set_zlim(0,0.5)\n",
    "\n",
    "\n",
    "\n",
    "\n",
    "plt.show()"
   ]
  },
  {
   "source": [
    "# My_d vs IC Data"
   ],
   "cell_type": "markdown",
   "metadata": {}
  },
  {
   "cell_type": "code",
   "execution_count": 18,
   "metadata": {},
   "outputs": [
    {
     "output_type": "display_data",
     "data": {
      "text/plain": "Canvas(toolbar=Toolbar(toolitems=[('Home', 'Reset original view', 'home', 'home'), ('Back', 'Back to previous …",
      "application/vnd.jupyter.widget-view+json": {
       "version_major": 2,
       "version_minor": 0,
       "model_id": "946ad41e96fa4ce9a45d2e0cc8be2c8a"
      }
     },
     "metadata": {}
    }
   ],
   "source": [
    "## Define Dataframe\n",
    "\n",
    "df_temp = df.query(f\"landing_rate>={0.1}\")\n",
    "\n",
    "\n",
    "fig = plt.figure()\n",
    "ax = fig.add_subplot(111,projection=\"3d\")\n",
    "\n",
    "pcm = ax.scatter(df['vx_d'],df['vz_d'],df['My_d'])\n",
    "\n",
    "\n",
    "\n",
    "ax.set_xlabel('vx_d')\n",
    "ax.set_ylabel('vz_d')\n",
    "ax.set_zlabel('My_d [N*mm]')\n",
    "\n",
    "ax.set_title('My_d vs IC (Raw Data)')\n",
    "\n",
    "\n",
    "\n",
    "plt.show()"
   ]
  },
  {
   "source": [
    "# Impact Angle Data"
   ],
   "cell_type": "markdown",
   "metadata": {}
  },
  {
   "cell_type": "code",
   "execution_count": 19,
   "metadata": {},
   "outputs": [
    {
     "output_type": "display_data",
     "data": {
      "text/plain": "Canvas(toolbar=Toolbar(toolitems=[('Home', 'Reset original view', 'home', 'home'), ('Back', 'Back to previous …",
      "application/vnd.jupyter.widget-view+json": {
       "version_major": 2,
       "version_minor": 0,
       "model_id": "3984e55f1c904e70bced7c608f2b0330"
      }
     },
     "metadata": {}
    }
   ],
   "source": [
    "fig = plt.figure()\n",
    "ax = fig.add_subplot(111,projection=\"3d\")\n",
    "\n",
    "# CLEAN DATA\n",
    "df_temp = df.query(f\"impact_eul<={-60}\")\n",
    "df_temp_avg = df_raw.groupby(['vz_d','vx_d']).agg([np.mean,np.std]).reset_index()\n",
    "\n",
    "# DEFINE VARIABLES\n",
    "X = df_temp['vx_d']\n",
    "Y = df_temp['vz_d']\n",
    "Z = -df_temp['impact_eul']\n",
    "C = df_temp['landing_rate']\n",
    "\n",
    "\n",
    "# CREATE PLOTS AND COLOR BAR\n",
    "cmap = mpl.cm.rainbow\n",
    "norm = mpl.colors.Normalize(vmin=0,vmax=1)\n",
    "ax.scatter(X,Y,Z,c=C,cmap=cmap,norm=norm)\n",
    "fig.colorbar(mpl.cm.ScalarMappable(norm=norm, cmap=cmap),label=\"Landing Rate\")\n",
    "\n",
    "\n",
    "\n",
    "# PLOT LIMITS AND INFO\n",
    "ax.set_xlabel('vx_d')\n",
    "ax.set_ylabel('vz_d')\n",
    "ax.set_zlabel('Impact Angle [deg]')\n",
    "\n",
    "ax.set_title('Impact Angle vs IC (Raw Data)')\n",
    "\n",
    "ax.set_zlim(60,180)\n",
    "ax.set_zticks([60,90,120,150,180,210])\n",
    "\n",
    "\n",
    "\n",
    "plt.show()"
   ]
  },
  {
   "cell_type": "code",
   "execution_count": 87,
   "metadata": {},
   "outputs": [
    {
     "output_type": "display_data",
     "data": {
      "text/plain": "Canvas(toolbar=Toolbar(toolitems=[('Home', 'Reset original view', 'home', 'home'), ('Back', 'Back to previous …",
      "application/vnd.jupyter.widget-view+json": {
       "version_major": 2,
       "version_minor": 0,
       "model_id": "9b0c8dcdb93e4e88b151dcef0439ca02"
      }
     },
     "metadata": {}
    }
   ],
   "source": [
    "fig = plt.figure()\n",
    "ax = fig.add_subplot(111,projection=\"3d\")\n",
    "\n",
    "# CLEAN DATA\n",
    "df_temp = df.query(f\"RREV_threshold>={0}\")\n",
    "df_temp_avg = df_raw.groupby(['vz_d','vx_d']).agg([np.mean,np.std]).reset_index()\n",
    "\n",
    "# DEFINE VARIABLES\n",
    "X = df_temp_avg['vx_d']\n",
    "Y = df_temp_avg['vz_d']\n",
    "Z = -df_temp_avg['impact_eul','mean']\n",
    "\n",
    "# SOMETHING ABOUT DEFINING A GRID\n",
    "xi = np.linspace(X.min(),X.max(),(len(Z)//10))\n",
    "yi = np.linspace(Y.min(),Y.max(),(len(Z)//10))\n",
    "zi = griddata((X, Y), Z, (xi[None,:], yi[:,None]), method='linear')\n",
    "xig, yig = np.meshgrid(xi, yi)\n",
    "\n",
    "# DEFINE COLOR FORMAT AND LIMITS\n",
    "cmap = mpl.cm.jet\n",
    "norm = mpl.colors.Normalize(vmin=60,vmax=180)\n",
    "\n",
    "# CREATE PLOTS AND COLOR BAR\n",
    "surf = ax.plot_surface(xig, yig, zi,cmap=cmap,norm=norm,edgecolors='grey',linewidth=0.25)\n",
    "fig.colorbar(mpl.cm.ScalarMappable(norm=norm, cmap=cmap),label=\"Impact Angle [deg]\")\n",
    "\n",
    "# PLOT LIMITS AND INFO\n",
    "ax.set_xlabel('vx_d')\n",
    "ax.set_ylabel('vz_d')\n",
    "ax.set_zlabel('Impact Angle [deg]')\n",
    "\n",
    "ax.set_title('Avg Impact Angle vs IC')\n",
    "\n",
    "ax.set_zlim(60,180)\n",
    "ax.set_zticks([60,90,120,150,180,210])\n",
    "\n",
    "\n",
    "plt.show()"
   ]
  },
  {
   "source": [
    "# Moment vs RREV"
   ],
   "cell_type": "markdown",
   "metadata": {}
  },
  {
   "cell_type": "code",
   "execution_count": 96,
   "metadata": {},
   "outputs": [
    {
     "output_type": "display_data",
     "data": {
      "text/plain": "Canvas(toolbar=Toolbar(toolitems=[('Home', 'Reset original view', 'home', 'home'), ('Back', 'Back to previous …",
      "application/vnd.jupyter.widget-view+json": {
       "version_major": 2,
       "version_minor": 0,
       "model_id": "453368012de6474d8dbcd7d600d674a8"
      }
     },
     "metadata": {}
    }
   ],
   "source": [
    "fig = plt.figure()\n",
    "ax = fig.add_subplot(111)\n",
    "\n",
    "# CLEAN DATA\n",
    "df_temp = df.query(f\"My_d<={7.7}\") \n",
    "\n",
    "# DEFINE VARIABLES\n",
    "X = df_temp['RREV_threshold']\n",
    "Y = df_temp['My_d']\n",
    "C = df_temp['landing_rate']\n",
    "\n",
    "\n",
    "# CREATE PLOTS AND COLOR BAR\n",
    "cmap = mpl.cm.Greys\n",
    "norm = mpl.colors.Normalize(vmin=0,vmax=1)\n",
    "ax.scatter(X,Y,c=C,cmap=cmap,norm=norm)\n",
    "fig.colorbar(mpl.cm.ScalarMappable(norm=norm, cmap=cmap),label=\"Landing Rate\")\n",
    "\n",
    "\n",
    "\n",
    "# PLOT LIMITS AND INFO\n",
    "ax.set_xlabel('RREV_threshold')\n",
    "ax.set_ylabel('My_d [N*mm]')\n",
    "ax.set_title('Policy: My_d vs RREV_thr')\n",
    "\n",
    "\n",
    "ax.grid()\n",
    "ax.set_xlim(2,7)\n",
    "ax.set_ylim(0,10)\n",
    "ax.hlines(7.77,2,7)\n",
    "ax.text(2.05,8.1,'Motors Maxed Out \\n[My_d = 7.7 N*mm]')\n",
    "\n",
    "\n",
    "\n",
    "\n",
    "plt.show()"
   ]
  },
  {
   "cell_type": "code",
   "execution_count": 89,
   "metadata": {},
   "outputs": [
    {
     "output_type": "execute_result",
     "data": {
      "text/plain": [
       "Empty DataFrame\n",
       "Columns: [vz_d, vx_d, trial_num, landing_rate, RREV_threshold, G1, RREV_sig, G1_sig, RREV_trigger, OF_y, My_d, impact_eul, impact_tdelta, alpha_mu, alpha_sigma, mu_ini, sigma_ini]\n",
       "Index: []"
      ],
      "text/html": "<div>\n<style scoped>\n    .dataframe tbody tr th:only-of-type {\n        vertical-align: middle;\n    }\n\n    .dataframe tbody tr th {\n        vertical-align: top;\n    }\n\n    .dataframe thead th {\n        text-align: right;\n    }\n</style>\n<table border=\"1\" class=\"dataframe\">\n  <thead>\n    <tr style=\"text-align: right;\">\n      <th></th>\n      <th>vz_d</th>\n      <th>vx_d</th>\n      <th>trial_num</th>\n      <th>landing_rate</th>\n      <th>RREV_threshold</th>\n      <th>G1</th>\n      <th>RREV_sig</th>\n      <th>G1_sig</th>\n      <th>RREV_trigger</th>\n      <th>OF_y</th>\n      <th>My_d</th>\n      <th>impact_eul</th>\n      <th>impact_tdelta</th>\n      <th>alpha_mu</th>\n      <th>alpha_sigma</th>\n      <th>mu_ini</th>\n      <th>sigma_ini</th>\n    </tr>\n  </thead>\n  <tbody>\n  </tbody>\n</table>\n</div>"
     },
     "metadata": {},
     "execution_count": 89
    }
   ],
   "source": [
    "df_temp = df.query(f\"RREV_threshold<={4.0} and My_d>={6}\") \n",
    "df_temp.sort_values(['vz_d'])\n"
   ]
  },
  {
   "cell_type": "code",
   "execution_count": 90,
   "metadata": {},
   "outputs": [
    {
     "output_type": "display_data",
     "data": {
      "text/plain": "Canvas(toolbar=Toolbar(toolitems=[('Home', 'Reset original view', 'home', 'home'), ('Back', 'Back to previous …",
      "application/vnd.jupyter.widget-view+json": {
       "version_major": 2,
       "version_minor": 0,
       "model_id": "235f17e349b8476282a9708a18bb430b"
      }
     },
     "metadata": {}
    }
   ],
   "source": [
    "fig = plt.figure()\n",
    "ax = fig.add_subplot(111)\n",
    "\n",
    "# CLEAN DATA\n",
    "df_temp = df.query(f\"My_d<={7.7}\") \n",
    "\n",
    "# DEFINE VARIABLES\n",
    "X = df_temp['RREV_threshold']\n",
    "Y = df_temp['My_d']\n",
    "C = df_temp['vz_d']\n",
    "\n",
    "\n",
    "# CREATE PLOTS AND COLOR BAR\n",
    "cmap = mpl.cm.rainbow\n",
    "norm = mpl.colors.Normalize(vmin=1.5,vmax=4)\n",
    "ax.scatter(X,Y,c=C,cmap=cmap,norm=norm)\n",
    "fig.colorbar(mpl.cm.ScalarMappable(norm=norm, cmap=cmap),label=\"Vz_d\")\n",
    "\n",
    "\n",
    "\n",
    "# PLOT LIMITS AND INFO\n",
    "ax.set_xlabel('RREV_threshold')\n",
    "ax.set_ylabel('My_d [N*mm]')\n",
    "ax.set_title('Policy: My_d vs RREV_thr')\n",
    "\n",
    "\n",
    "\n",
    "\n",
    "ax.grid()\n",
    "ax.set_xlim(2,7)\n",
    "ax.set_ylim(0,10)\n",
    "ax.hlines(7.77,2,7)\n",
    "ax.text(2.05,8.1,'Motors Maxed Out \\n[My_d = 7.7 N*mm]')\n",
    "\n",
    "\n",
    "\n",
    "\n",
    "plt.show()"
   ]
  },
  {
   "source": [
    "# POLICY FITTING"
   ],
   "cell_type": "markdown",
   "metadata": {}
  },
  {
   "source": [
    "## RAW POLICY RELATION"
   ],
   "cell_type": "markdown",
   "metadata": {}
  },
  {
   "cell_type": "code",
   "execution_count": 91,
   "metadata": {},
   "outputs": [
    {
     "output_type": "display_data",
     "data": {
      "text/plain": "Canvas(toolbar=Toolbar(toolitems=[('Home', 'Reset original view', 'home', 'home'), ('Back', 'Back to previous …",
      "application/vnd.jupyter.widget-view+json": {
       "version_major": 2,
       "version_minor": 0,
       "model_id": "e715c17bf46b4ecfb9b460973ccb087b"
      }
     },
     "metadata": {}
    }
   ],
   "source": [
    "fig = plt.figure()\n",
    "ax = fig.add_subplot(111,projection=\"3d\")\n",
    "\n",
    "# CLEAN DATA\n",
    "df_temp = df.query(f\"My_d<={7.7}\")\n",
    "df_temp = df_temp.query(f\"RREV_threshold>{3.5}\") # Remove outlier data\n",
    "\n",
    "\n",
    "# DEFINE VARIABLES\n",
    "X = df_temp['RREV_threshold']\n",
    "Y = df_temp['OF_y']\n",
    "Z = df_temp['My_d']\n",
    "C = df_temp['landing_rate']\n",
    "\n",
    "\n",
    "# CREATE PLOTS AND COLOR BAR\n",
    "cmap = mpl.cm.rainbow\n",
    "norm = mpl.colors.Normalize(vmin=0,vmax=1)\n",
    "ax.scatter(X,Y,Z,c=C,cmap=cmap,norm=norm)\n",
    "fig.colorbar(mpl.cm.ScalarMappable(norm=norm, cmap=cmap),label=\"Landing Rate\")\n",
    "\n",
    "\n",
    "\n",
    "# PLOT LIMITS AND INFO\n",
    "ax.set_xlim(6,2)\n",
    "ax.set_ylim(-10,0)\n",
    "ax.set_zlim(0,10)\n",
    "\n",
    "ax.set_xlabel('RREV')\n",
    "ax.set_ylabel('OF_y')\n",
    "ax.set_zlabel('My_d')\n",
    "\n",
    "ax.set_title('Raw Policy Relation')\n",
    "\n",
    "\n",
    "\n",
    "plt.show()"
   ]
  },
  {
   "cell_type": "code",
   "execution_count": 92,
   "metadata": {},
   "outputs": [
    {
     "output_type": "display_data",
     "data": {
      "text/plain": "Canvas(toolbar=Toolbar(toolitems=[('Home', 'Reset original view', 'home', 'home'), ('Back', 'Back to previous …",
      "application/vnd.jupyter.widget-view+json": {
       "version_major": 2,
       "version_minor": 0,
       "model_id": "552f4d0f98414ff5ac7a656277265762"
      }
     },
     "metadata": {}
    }
   ],
   "source": [
    "fig = plt.figure()\n",
    "ax = fig.add_subplot(111,projection=\"3d\")\n",
    "\n",
    "# CLEAN DATA\n",
    "df_temp = df.query(f\"My_d<={7.7}\")\n",
    "df_temp = df_temp.query(f\"RREV_threshold>{3.5}\") # Remove outlier data\n",
    "df_temp = df_temp.query(f\"landing_rate>={0.6}\")\n",
    "\n",
    "\n",
    "\n",
    "# DEFINE VARIABLES\n",
    "X = df_temp['RREV_threshold']\n",
    "Y = df_temp['OF_y']\n",
    "Z = df_temp['My_d']\n",
    "C = df_temp['landing_rate']\n",
    "\n",
    "\n",
    "# CREATE PLOTS AND COLOR BAR\n",
    "cmap = mpl.cm.rainbow\n",
    "norm = mpl.colors.Normalize(vmin=0,vmax=1)\n",
    "ax.scatter(X,Y,Z,c=C,cmap=cmap,norm=norm)\n",
    "fig.colorbar(mpl.cm.ScalarMappable(norm=norm, cmap=cmap),label=\"Landing Rate\")\n",
    "\n",
    "\n",
    "\n",
    "# PLOT LIMITS AND INFO\n",
    "ax.set_xlim(6,2)\n",
    "ax.set_ylim(-10,0)\n",
    "ax.set_zlim(0,10)\n",
    "\n",
    "ax.set_xlabel('RREV')\n",
    "ax.set_ylabel('OF_y')\n",
    "ax.set_zlabel('My_d')\n",
    "\n",
    "ax.set_title('Raw Policy Relation (LR >= 60%)')\n",
    "\n",
    "# Note: the planar look to the data\n",
    "\n",
    "plt.show()"
   ]
  },
  {
   "source": [
    "# LINEAR MODEL FIT"
   ],
   "cell_type": "markdown",
   "metadata": {}
  },
  {
   "source": [
    "## Regression with y-based loss"
   ],
   "cell_type": "markdown",
   "metadata": {}
  },
  {
   "cell_type": "code",
   "execution_count": 93,
   "metadata": {},
   "outputs": [
    {
     "output_type": "display_data",
     "data": {
      "text/plain": "Canvas(toolbar=Toolbar(toolitems=[('Home', 'Reset original view', 'home', 'home'), ('Back', 'Back to previous …",
      "application/vnd.jupyter.widget-view+json": {
       "version_major": 2,
       "version_minor": 0,
       "model_id": "2a8784e173714686b122df52d87db10f"
      }
     },
     "metadata": {}
    },
    {
     "output_type": "stream",
     "name": "stdout",
     "text": [
      "Equation: My_d = -8.62 + 2.94*RREV + -0.06*OF_y \n\nR^2 = 0.362\n"
     ]
    }
   ],
   "source": [
    "fig = plt.figure()\n",
    "ax = fig.add_subplot(111,projection=\"3d\")\n",
    "\n",
    "# CLEAN DATA\n",
    "df_temp = df.query(f\"My_d<={7.7}\")\n",
    "df_temp = df_temp.query(f\"RREV_threshold>{3.5}\") # Remove outlier data\n",
    "df_reg = df_temp.query(f\"landing_rate>={0.6}\")\n",
    "df_temp = df_temp.query(f\"landing_rate>={0.6}\")\n",
    "\n",
    "\n",
    "\n",
    "# LINEAR REGRESSION\n",
    "X_reg = df_reg[['RREV_threshold','OF_y']]\n",
    "Y_reg = df_reg['My_d']\n",
    "\n",
    "ypred, intercept,coef,R2 = linreg(X_reg,Y_reg)\n",
    "print(f\"Equation: My_d = {intercept:.2f} + {coef[0]:.2f}*RREV + {coef[1]:.2f}*OF_y \\n\")\n",
    "print(f\"R^2 = {R2:.3f}\")\n",
    "\n",
    "\n",
    "# DEFINE VARIABLES\n",
    "X = df_temp['RREV_threshold']\n",
    "Y = df_temp['OF_y']\n",
    "Z = df_temp['My_d']\n",
    "C = df_temp['landing_rate']\n",
    "\n",
    "\n",
    "# CREATE PLOTS AND COLOR BAR\n",
    "cmap = mpl.cm.rainbow\n",
    "norm = mpl.colors.Normalize(vmin=0,vmax=1)\n",
    "ax.scatter(X,Y,Z,c=C,cmap=cmap,norm=norm,zorder=2)\n",
    "ax.plot_trisurf(X,Y,ypred,alpha=0.75,label='Linear_Regression',zorder=1)\n",
    "fig.colorbar(mpl.cm.ScalarMappable(norm=norm, cmap=cmap),label=\"Landing Rate\")\n",
    "\n",
    "\n",
    "# PLOT LIMITS AND INFO\n",
    "ax.set_xlim(6,2)\n",
    "ax.set_ylim(-10,0)\n",
    "ax.set_zlim(0,10)\n",
    "\n",
    "ax.set_xlabel('RREV')\n",
    "ax.set_ylabel('OF_y')\n",
    "ax.set_zlabel('My_d')\n",
    "\n",
    "ax.set_title('Raw Policy Relation \\n(Regression: LR >= 60%)')\n",
    "\n",
    "# Note: the planar look to the data\n",
    "\n",
    "plt.show()"
   ]
  },
  {
   "cell_type": "code",
   "execution_count": 94,
   "metadata": {},
   "outputs": [
    {
     "output_type": "display_data",
     "data": {
      "text/plain": "Canvas(toolbar=Toolbar(toolitems=[('Home', 'Reset original view', 'home', 'home'), ('Back', 'Back to previous …",
      "application/vnd.jupyter.widget-view+json": {
       "version_major": 2,
       "version_minor": 0,
       "model_id": "22cc2293dfa441d9b0ec2eb24f47b428"
      }
     },
     "metadata": {}
    },
    {
     "output_type": "stream",
     "name": "stdout",
     "text": [
      "Equation: My_d = -8.62 + 2.94*RREV + -0.06*OF_y \n\nR^2 = 0.362\n"
     ]
    }
   ],
   "source": [
    "fig = plt.figure()\n",
    "ax = fig.add_subplot(111,projection=\"3d\")\n",
    "\n",
    "# CLEAN DATA\n",
    "df_temp = df.query(f\"My_d<={7.7}\")\n",
    "df_temp = df_temp.query(f\"RREV_threshold>{3.5}\") # Remove outlier data\n",
    "df_reg = df_temp.query(f\"landing_rate>={0.6}\")\n",
    "df_temp = df_temp.query(f\"landing_rate>={0.0}\")\n",
    "\n",
    "\n",
    "\n",
    "# LINEAR REGRESSION\n",
    "X_reg = df_reg[['RREV_threshold','OF_y']]\n",
    "Y_reg = df_reg['My_d']\n",
    "\n",
    "ypred, intercept,coef,R2 = linreg(X_reg,Y_reg)\n",
    "print(f\"Equation: My_d = {intercept:.2f} + {coef[0]:.2f}*RREV + {coef[1]:.2f}*OF_y \\n\")\n",
    "print(f\"R^2 = {R2:.3f}\")\n",
    "\n",
    "\n",
    "# DEFINE VARIABLES\n",
    "X = df_temp['RREV_threshold']\n",
    "Y = df_temp['OF_y']\n",
    "Z = df_temp['My_d']\n",
    "C = df_temp['landing_rate']\n",
    "\n",
    "\n",
    "# CREATE PLOTS AND COLOR BAR\n",
    "cmap = mpl.cm.rainbow\n",
    "norm = mpl.colors.Normalize(vmin=0,vmax=1)\n",
    "ax.scatter(X,Y,Z,c=C,cmap=cmap,norm=norm,zorder=2)\n",
    "ax.plot_trisurf(X_reg['RREV_threshold'],X_reg['OF_y'],ypred,alpha=0.75,label='Linear_Regression',zorder=1)\n",
    "fig.colorbar(mpl.cm.ScalarMappable(norm=norm, cmap=cmap),label=\"Landing Rate\")\n",
    "\n",
    "\n",
    "# PLOT LIMITS AND INFO\n",
    "ax.set_xlim(6,2)\n",
    "ax.set_ylim(-10,0)\n",
    "ax.set_zlim(0,10)\n",
    "\n",
    "ax.set_xlabel('RREV')\n",
    "ax.set_ylabel('OF_y')\n",
    "ax.set_zlabel('My_d')\n",
    "\n",
    "ax.set_title('Raw Policy Relation \\n(Regression: LR >= 60%)')\n",
    "\n",
    "# Note: the planar look to the data\n",
    "\n",
    "plt.show()"
   ]
  },
  {
   "source": [
    "## Regression with x-based loss\n"
   ],
   "cell_type": "markdown",
   "metadata": {}
  },
  {
   "cell_type": "code",
   "execution_count": 95,
   "metadata": {},
   "outputs": [
    {
     "output_type": "display_data",
     "data": {
      "text/plain": "Canvas(toolbar=Toolbar(toolitems=[('Home', 'Reset original view', 'home', 'home'), ('Back', 'Back to previous …",
      "application/vnd.jupyter.widget-view+json": {
       "version_major": 2,
       "version_minor": 0,
       "model_id": "78b5df9a94954ecbad6588031221cabd"
      }
     },
     "metadata": {}
    },
    {
     "output_type": "stream",
     "name": "stdout",
     "text": [
      "Equation: RREV_threshold = 3.87 + 0.11*My_d + -0.05*OF_y \n\nR^2 = 0.408\n"
     ]
    }
   ],
   "source": [
    "fig = plt.figure()\n",
    "ax = fig.add_subplot(111,projection=\"3d\")\n",
    "\n",
    "# CLEAN DATA\n",
    "df_temp = df.query(f\"My_d<={7.7}\")\n",
    "df_temp = df_temp.query(f\"RREV_threshold>{3.5}\") # Remove outlier data\n",
    "df_reg = df_temp.query(f\"landing_rate>={0.6}\")\n",
    "df_temp = df_temp.query(f\"landing_rate>={0.6}\")\n",
    "\n",
    "\n",
    "\n",
    "# LINEAR REGRESSION\n",
    "X_reg = df_reg[['My_d','OF_y']]\n",
    "Y_reg = df_reg['RREV_threshold']\n",
    "\n",
    "ypred, intercept,coef,R2 = linreg(X_reg,Y_reg)\n",
    "print(f\"Equation: RREV_threshold = {intercept:.2f} + {coef[0]:.2f}*My_d + {coef[1]:.2f}*OF_y \\n\")\n",
    "print(f\"R^2 = {R2:.3f}\")\n",
    "\n",
    "\n",
    "# DEFINE VARIABLES\n",
    "X = df_temp['RREV_threshold']\n",
    "Y = df_temp['OF_y']\n",
    "Z = df_temp['My_d']\n",
    "C = df_temp['landing_rate']\n",
    "\n",
    "\n",
    "# CREATE PLOTS AND COLOR BAR\n",
    "cmap = mpl.cm.rainbow\n",
    "norm = mpl.colors.Normalize(vmin=0,vmax=1)\n",
    "ax.scatter(X,Y,Z,c=C,cmap=cmap,norm=norm,zorder=2)\n",
    "ax.plot_trisurf(ypred,X_reg['OF_y'],X_reg['My_d'],alpha=0.75,label='Linear_Regression',zorder=1)\n",
    "fig.colorbar(mpl.cm.ScalarMappable(norm=norm, cmap=cmap),label=\"Landing Rate\")\n",
    "\n",
    "\n",
    "# PLOT LIMITS AND INFO\n",
    "ax.set_xlim(6,2)\n",
    "ax.set_ylim(-10,0)\n",
    "ax.set_zlim(0,10)\n",
    "\n",
    "ax.set_xlabel('RREV')\n",
    "ax.set_ylabel('OF_y')\n",
    "ax.set_zlabel('My_d')\n",
    "\n",
    "ax.set_title('Raw Policy Relation \\n(Regression: LR >= 60%)')\n",
    "\n",
    "# Note: the planar look to the data\n",
    "\n",
    "plt.show()"
   ]
  },
  {
   "cell_type": "code",
   "execution_count": null,
   "metadata": {},
   "outputs": [],
   "source": []
  }
 ]
}