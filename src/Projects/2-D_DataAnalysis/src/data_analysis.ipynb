{
 "metadata": {
  "language_info": {
   "codemirror_mode": {
    "name": "ipython",
    "version": 3
   },
   "file_extension": ".py",
   "mimetype": "text/x-python",
   "name": "python",
   "nbconvert_exporter": "python",
   "pygments_lexer": "ipython3",
   "version": "3.8.5-final"
  },
  "orig_nbformat": 2,
  "kernelspec": {
   "name": "python38564bit0282941c0ba945238a13db8c20574d9c",
   "display_name": "Python 3.8.5 64-bit",
   "language": "python"
  }
 },
 "nbformat": 4,
 "nbformat_minor": 2,
 "cells": [
  {
   "cell_type": "code",
   "execution_count": 1,
   "metadata": {},
   "outputs": [],
   "source": [
    "## IMPORT MODULES\n",
    "import pandas as pd\n",
    "import numpy as np\n",
    "import os,time,fnmatch"
   ]
  },
  {
   "cell_type": "code",
   "execution_count": 2,
   "metadata": {},
   "outputs": [],
   "source": [
    "## CREATE LINK TO DATAPATH MODULE\n",
    "import sys\n",
    "sys.path.insert(0,'/home/bhabas/catkin_ws/src/crazyflie_simulation/src/crazyflie_gazebo_sim/src/utility')\n",
    "from data_analysis import DataFile\n",
    "dataPath = '/home/bhabas/catkin_ws/src/crazyflie_simulation/local_files/data/'"
   ]
  },
  {
   "cell_type": "code",
   "execution_count": 3,
   "metadata": {},
   "outputs": [
    {
     "output_type": "execute_result",
     "data": {
      "text/plain": [
       "array([[1.5, 0. ],\n",
       "       [1.5, 0.5],\n",
       "       [1.5, 1. ],\n",
       "       [1.5, 1.5],\n",
       "       [1.5, 2. ],\n",
       "       [1.5, 2.5],\n",
       "       [1.5, 3. ],\n",
       "       [2. , 0. ],\n",
       "       [2. , 0.5],\n",
       "       [2. , 1. ],\n",
       "       [2. , 1.5],\n",
       "       [2. , 2. ],\n",
       "       [2. , 2.5],\n",
       "       [2. , 3. ],\n",
       "       [2.5, 0. ],\n",
       "       [2.5, 0.5],\n",
       "       [2.5, 1. ],\n",
       "       [2.5, 1.5],\n",
       "       [2.5, 2. ],\n",
       "       [2.5, 2.5],\n",
       "       [2.5, 3. ],\n",
       "       [3. , 0. ],\n",
       "       [3. , 0.5],\n",
       "       [3. , 1. ],\n",
       "       [3. , 1.5],\n",
       "       [3. , 2. ],\n",
       "       [3. , 2.5],\n",
       "       [3. , 3. ],\n",
       "       [3.5, 0. ],\n",
       "       [3.5, 0.5],\n",
       "       [3.5, 1. ],\n",
       "       [3.5, 1.5],\n",
       "       [3.5, 2. ],\n",
       "       [3.5, 2.5],\n",
       "       [3.5, 3. ]])"
      ]
     },
     "metadata": {},
     "execution_count": 3
    }
   ],
   "source": [
    "## CREATE AN ARRAY FOR ALL TEST COMBINATIONS\n",
    "temp_list = []\n",
    "for vz_d in np.arange(1.5,4.0,0.5): # [1.5,3.5]\n",
    "    for vx_d in np.arange(0,3.5,0.5):   # [0,3.0]\n",
    "        # print(f\"{vz_d}|{vx_d}\")\n",
    "        temp_list.append([vz_d,vx_d])\n",
    "test_arr = np.asarray(temp_list)\n",
    "test_arr"
   ]
  },
  {
   "source": [
    "## CREATE DATAFRAME FROM ALL TESTS\n",
    "\n",
    "d = []                                                  # Create empty list\n",
    "for vz_d,vx_d in test_arr:                              # Iter over all combinations in test_arr\n",
    "    for file in os.listdir(dataPath):                   # Iter over all files in dir \n",
    "        csv = os.path.join(dataPath,file)               #   and join name w/ base path\n",
    "\n",
    "        if fnmatch.fnmatch(file,f\"Vz_{vz_d}--Vx_{vx_d}--trial_*.csv\"): # If filename matched selected IC \n",
    "\n",
    "            trial = DataFile(csv)                       # Create object called trial\n",
    "\n",
    "            trial_num = file[-5]                        # Retrieve trial num\n",
    "            landing_rate = trial.landing_rate()         # Retrieve landing success rate\n",
    "            policy,sigma = trial.grab_finalPolicy()     # Retrieve final policy and sigma\n",
    "\n",
    "            RREV_trigger,G1,G2 = policy                 # Break up policy\n",
    "            RREV_sig,G1_sig,G2_sig = sigma              # Break up sigma\n",
    "\n",
    "            d.append((vz_d,vx_d,trial_num,landing_rate, # Append values to list\n",
    "                RREV_trigger,G1,G2,\n",
    "                RREV_sig,G1_sig,G2_sig))\n",
    "\n",
    "policy_df = pd.DataFrame(d, columns=( # Convert list to pd.dataframe\n",
    "    'vz_d','vx_d','trial_num','landing_rate',\n",
    "    'RREV_trigger','G1','G2',\n",
    "    'RREV_sig','G1_sig','G2_sig'))\n",
    "policy_df"
   ],
   "cell_type": "code",
   "metadata": {},
   "execution_count": 11,
   "outputs": [
    {
     "output_type": "execute_result",
     "data": {
      "text/plain": [
       "    vz_d  vx_d trial_num  landing_rate  RREV_trigger     G1    G2  RREV_sig  \\\n",
       "0    1.5   0.0         1          0.00          4.11   6.18  3.78      0.07   \n",
       "1    1.5   0.0         0          0.00          5.00   7.59  3.88      0.83   \n",
       "2    1.5   0.0         2          0.00          4.82   5.82  3.44      0.08   \n",
       "3    1.5   0.5         2          0.00          4.33   7.39  3.25      0.10   \n",
       "4    1.5   0.5         1          0.00          4.55   6.98  3.86      0.13   \n",
       "..   ...   ...       ...           ...           ...    ...   ...       ...   \n",
       "89   3.5   2.5         1          0.75          5.16   7.81  1.81      0.16   \n",
       "90   3.5   2.5         2          0.00          5.16  12.89  2.43      0.03   \n",
       "91   3.5   3.0         2          0.00          0.00   0.00  0.00      0.00   \n",
       "92   3.5   3.0         1          0.00          0.00   0.00  0.00      0.00   \n",
       "93   3.5   3.0         0          0.00          0.00   0.00  0.00      0.00   \n",
       "\n",
       "    G1_sig  G2_sig  \n",
       "0     0.38    0.28  \n",
       "1     0.27    0.11  \n",
       "2     0.15    0.28  \n",
       "3     0.19    0.07  \n",
       "4     0.10    0.14  \n",
       "..     ...     ...  \n",
       "89    0.05    0.52  \n",
       "90    1.74    0.51  \n",
       "91    0.00    0.00  \n",
       "92    0.00    0.00  \n",
       "93    0.00    0.00  \n",
       "\n",
       "[94 rows x 10 columns]"
      ],
      "text/html": "<div>\n<style scoped>\n    .dataframe tbody tr th:only-of-type {\n        vertical-align: middle;\n    }\n\n    .dataframe tbody tr th {\n        vertical-align: top;\n    }\n\n    .dataframe thead th {\n        text-align: right;\n    }\n</style>\n<table border=\"1\" class=\"dataframe\">\n  <thead>\n    <tr style=\"text-align: right;\">\n      <th></th>\n      <th>vz_d</th>\n      <th>vx_d</th>\n      <th>trial_num</th>\n      <th>landing_rate</th>\n      <th>RREV_trigger</th>\n      <th>G1</th>\n      <th>G2</th>\n      <th>RREV_sig</th>\n      <th>G1_sig</th>\n      <th>G2_sig</th>\n    </tr>\n  </thead>\n  <tbody>\n    <tr>\n      <th>0</th>\n      <td>1.5</td>\n      <td>0.0</td>\n      <td>1</td>\n      <td>0.00</td>\n      <td>4.11</td>\n      <td>6.18</td>\n      <td>3.78</td>\n      <td>0.07</td>\n      <td>0.38</td>\n      <td>0.28</td>\n    </tr>\n    <tr>\n      <th>1</th>\n      <td>1.5</td>\n      <td>0.0</td>\n      <td>0</td>\n      <td>0.00</td>\n      <td>5.00</td>\n      <td>7.59</td>\n      <td>3.88</td>\n      <td>0.83</td>\n      <td>0.27</td>\n      <td>0.11</td>\n    </tr>\n    <tr>\n      <th>2</th>\n      <td>1.5</td>\n      <td>0.0</td>\n      <td>2</td>\n      <td>0.00</td>\n      <td>4.82</td>\n      <td>5.82</td>\n      <td>3.44</td>\n      <td>0.08</td>\n      <td>0.15</td>\n      <td>0.28</td>\n    </tr>\n    <tr>\n      <th>3</th>\n      <td>1.5</td>\n      <td>0.5</td>\n      <td>2</td>\n      <td>0.00</td>\n      <td>4.33</td>\n      <td>7.39</td>\n      <td>3.25</td>\n      <td>0.10</td>\n      <td>0.19</td>\n      <td>0.07</td>\n    </tr>\n    <tr>\n      <th>4</th>\n      <td>1.5</td>\n      <td>0.5</td>\n      <td>1</td>\n      <td>0.00</td>\n      <td>4.55</td>\n      <td>6.98</td>\n      <td>3.86</td>\n      <td>0.13</td>\n      <td>0.10</td>\n      <td>0.14</td>\n    </tr>\n    <tr>\n      <th>...</th>\n      <td>...</td>\n      <td>...</td>\n      <td>...</td>\n      <td>...</td>\n      <td>...</td>\n      <td>...</td>\n      <td>...</td>\n      <td>...</td>\n      <td>...</td>\n      <td>...</td>\n    </tr>\n    <tr>\n      <th>89</th>\n      <td>3.5</td>\n      <td>2.5</td>\n      <td>1</td>\n      <td>0.75</td>\n      <td>5.16</td>\n      <td>7.81</td>\n      <td>1.81</td>\n      <td>0.16</td>\n      <td>0.05</td>\n      <td>0.52</td>\n    </tr>\n    <tr>\n      <th>90</th>\n      <td>3.5</td>\n      <td>2.5</td>\n      <td>2</td>\n      <td>0.00</td>\n      <td>5.16</td>\n      <td>12.89</td>\n      <td>2.43</td>\n      <td>0.03</td>\n      <td>1.74</td>\n      <td>0.51</td>\n    </tr>\n    <tr>\n      <th>91</th>\n      <td>3.5</td>\n      <td>3.0</td>\n      <td>2</td>\n      <td>0.00</td>\n      <td>0.00</td>\n      <td>0.00</td>\n      <td>0.00</td>\n      <td>0.00</td>\n      <td>0.00</td>\n      <td>0.00</td>\n    </tr>\n    <tr>\n      <th>92</th>\n      <td>3.5</td>\n      <td>3.0</td>\n      <td>1</td>\n      <td>0.00</td>\n      <td>0.00</td>\n      <td>0.00</td>\n      <td>0.00</td>\n      <td>0.00</td>\n      <td>0.00</td>\n      <td>0.00</td>\n    </tr>\n    <tr>\n      <th>93</th>\n      <td>3.5</td>\n      <td>3.0</td>\n      <td>0</td>\n      <td>0.00</td>\n      <td>0.00</td>\n      <td>0.00</td>\n      <td>0.00</td>\n      <td>0.00</td>\n      <td>0.00</td>\n      <td>0.00</td>\n    </tr>\n  </tbody>\n</table>\n<p>94 rows × 10 columns</p>\n</div>"
     },
     "metadata": {},
     "execution_count": 11
    }
   ]
  },
  {
   "cell_type": "code",
   "execution_count": 12,
   "metadata": {},
   "outputs": [],
   "source": [
    "## IMPORT PLOTTING MODULES\n",
    "import matplotlib.pyplot as plt\n",
    "from mpl_toolkits import mplot3d\n",
    "from matplotlib import cm\n",
    "%matplotlib widget\n"
   ]
  },
  {
   "cell_type": "code",
   "execution_count": 17,
   "metadata": {},
   "outputs": [],
   "source": [
    "## POLICY AVERAGED DATAFRAME\n",
    "\n",
    "# Group dataframe values by IC and find avg/std of their values \n",
    "policy_avg_df = policy_df.groupby(['vz_d','vx_d'],as_index=False).agg([np.mean,np.std])"
   ]
  },
  {
   "cell_type": "code",
   "execution_count": 24,
   "metadata": {},
   "outputs": [],
   "source": [
    "## LANDING RATE DATA\n",
    "LR_df = policy_avg_df.landing_rate.reset_index()\n",
    "# landing_rate_df"
   ]
  },
  {
   "cell_type": "code",
   "execution_count": 33,
   "metadata": {},
   "outputs": [
    {
     "output_type": "display_data",
     "data": {
      "text/plain": "Canvas(toolbar=Toolbar(toolitems=[('Home', 'Reset original view', 'home', 'home'), ('Back', 'Back to previous …",
      "application/vnd.jupyter.widget-view+json": {
       "version_major": 2,
       "version_minor": 0,
       "model_id": "d8e2adf46f8d4d5b8dc136b3a85cab5c"
      }
     },
     "metadata": {}
    }
   ],
   "source": [
    "## LANDING RATE PLOT\n",
    "fig = plt.figure()\n",
    "ax = fig.add_subplot(111,projection=\"3d\")\n",
    "ax.plot_trisurf(LR_df['vz_d'],LR_df['vx_d'],LR_df['mean'],cmap=cm.jet)\n",
    "ax.set_xlabel('vz_d')\n",
    "ax.set_ylabel('vx_d')\n",
    "ax.set_zlabel('Avg LR %')\n",
    "ax.set_title('Average Landing Rate for Final Two Episodes')\n",
    "\n",
    "\n",
    "\n",
    "ax.xaxis.set_ticks(np.arange(1.5,4.0,0.5))\n",
    "fig.tight_layout()\n",
    "plt.show()"
   ]
  },
  {
   "cell_type": "code",
   "execution_count": 63,
   "metadata": {},
   "outputs": [
    {
     "output_type": "execute_result",
     "data": {
      "text/plain": [
       "   vz_d vx_d landing_rate\n",
       "                     mean\n",
       "0   1.5  0.0     0.000000\n",
       "1   1.5  0.5     0.000000\n",
       "2   1.5  1.0     0.016667\n",
       "3   1.5  1.5     0.000000\n",
       "4   1.5  2.0     0.000000\n",
       "5   1.5  2.5     0.000000\n",
       "6   1.5  3.0     0.000000\n",
       "7   2.0  0.0     0.016667\n",
       "8   2.0  0.5     0.000000\n",
       "9   2.0  1.0     0.133333\n",
       "10  2.0  1.5     0.233333\n",
       "11  2.0  2.0     0.316667\n",
       "12  2.0  2.5     0.233333\n",
       "13  2.0  3.0     0.116667\n",
       "14  2.5  0.0     0.016667\n",
       "15  2.5  0.5     0.016667\n",
       "16  2.5  1.0     0.450000\n",
       "17  2.5  1.5     0.466667\n",
       "18  2.5  2.0     0.400000\n",
       "19  2.5  2.5     0.350000\n",
       "20  2.5  3.0     0.483333\n",
       "21  3.0  0.0     0.333333\n",
       "22  3.0  0.5     0.500000\n",
       "23  3.0  1.0     0.816667\n",
       "24  3.0  1.5     0.850000\n",
       "25  3.5  0.0     0.000000\n",
       "26  3.5  0.5     0.516667\n",
       "27  3.5  1.0     0.700000\n",
       "28  3.5  1.5     0.900000\n",
       "29  3.5  2.0     0.883333\n",
       "30  3.5  2.5     0.516667\n",
       "31  3.5  3.0     0.000000"
      ],
      "text/html": "<div>\n<style scoped>\n    .dataframe tbody tr th:only-of-type {\n        vertical-align: middle;\n    }\n\n    .dataframe tbody tr th {\n        vertical-align: top;\n    }\n\n    .dataframe thead tr th {\n        text-align: left;\n    }\n</style>\n<table border=\"1\" class=\"dataframe\">\n  <thead>\n    <tr>\n      <th></th>\n      <th>vz_d</th>\n      <th>vx_d</th>\n      <th>landing_rate</th>\n    </tr>\n    <tr>\n      <th></th>\n      <th></th>\n      <th></th>\n      <th>mean</th>\n    </tr>\n  </thead>\n  <tbody>\n    <tr>\n      <th>0</th>\n      <td>1.5</td>\n      <td>0.0</td>\n      <td>0.000000</td>\n    </tr>\n    <tr>\n      <th>1</th>\n      <td>1.5</td>\n      <td>0.5</td>\n      <td>0.000000</td>\n    </tr>\n    <tr>\n      <th>2</th>\n      <td>1.5</td>\n      <td>1.0</td>\n      <td>0.016667</td>\n    </tr>\n    <tr>\n      <th>3</th>\n      <td>1.5</td>\n      <td>1.5</td>\n      <td>0.000000</td>\n    </tr>\n    <tr>\n      <th>4</th>\n      <td>1.5</td>\n      <td>2.0</td>\n      <td>0.000000</td>\n    </tr>\n    <tr>\n      <th>5</th>\n      <td>1.5</td>\n      <td>2.5</td>\n      <td>0.000000</td>\n    </tr>\n    <tr>\n      <th>6</th>\n      <td>1.5</td>\n      <td>3.0</td>\n      <td>0.000000</td>\n    </tr>\n    <tr>\n      <th>7</th>\n      <td>2.0</td>\n      <td>0.0</td>\n      <td>0.016667</td>\n    </tr>\n    <tr>\n      <th>8</th>\n      <td>2.0</td>\n      <td>0.5</td>\n      <td>0.000000</td>\n    </tr>\n    <tr>\n      <th>9</th>\n      <td>2.0</td>\n      <td>1.0</td>\n      <td>0.133333</td>\n    </tr>\n    <tr>\n      <th>10</th>\n      <td>2.0</td>\n      <td>1.5</td>\n      <td>0.233333</td>\n    </tr>\n    <tr>\n      <th>11</th>\n      <td>2.0</td>\n      <td>2.0</td>\n      <td>0.316667</td>\n    </tr>\n    <tr>\n      <th>12</th>\n      <td>2.0</td>\n      <td>2.5</td>\n      <td>0.233333</td>\n    </tr>\n    <tr>\n      <th>13</th>\n      <td>2.0</td>\n      <td>3.0</td>\n      <td>0.116667</td>\n    </tr>\n    <tr>\n      <th>14</th>\n      <td>2.5</td>\n      <td>0.0</td>\n      <td>0.016667</td>\n    </tr>\n    <tr>\n      <th>15</th>\n      <td>2.5</td>\n      <td>0.5</td>\n      <td>0.016667</td>\n    </tr>\n    <tr>\n      <th>16</th>\n      <td>2.5</td>\n      <td>1.0</td>\n      <td>0.450000</td>\n    </tr>\n    <tr>\n      <th>17</th>\n      <td>2.5</td>\n      <td>1.5</td>\n      <td>0.466667</td>\n    </tr>\n    <tr>\n      <th>18</th>\n      <td>2.5</td>\n      <td>2.0</td>\n      <td>0.400000</td>\n    </tr>\n    <tr>\n      <th>19</th>\n      <td>2.5</td>\n      <td>2.5</td>\n      <td>0.350000</td>\n    </tr>\n    <tr>\n      <th>20</th>\n      <td>2.5</td>\n      <td>3.0</td>\n      <td>0.483333</td>\n    </tr>\n    <tr>\n      <th>21</th>\n      <td>3.0</td>\n      <td>0.0</td>\n      <td>0.333333</td>\n    </tr>\n    <tr>\n      <th>22</th>\n      <td>3.0</td>\n      <td>0.5</td>\n      <td>0.500000</td>\n    </tr>\n    <tr>\n      <th>23</th>\n      <td>3.0</td>\n      <td>1.0</td>\n      <td>0.816667</td>\n    </tr>\n    <tr>\n      <th>24</th>\n      <td>3.0</td>\n      <td>1.5</td>\n      <td>0.850000</td>\n    </tr>\n    <tr>\n      <th>25</th>\n      <td>3.5</td>\n      <td>0.0</td>\n      <td>0.000000</td>\n    </tr>\n    <tr>\n      <th>26</th>\n      <td>3.5</td>\n      <td>0.5</td>\n      <td>0.516667</td>\n    </tr>\n    <tr>\n      <th>27</th>\n      <td>3.5</td>\n      <td>1.0</td>\n      <td>0.700000</td>\n    </tr>\n    <tr>\n      <th>28</th>\n      <td>3.5</td>\n      <td>1.5</td>\n      <td>0.900000</td>\n    </tr>\n    <tr>\n      <th>29</th>\n      <td>3.5</td>\n      <td>2.0</td>\n      <td>0.883333</td>\n    </tr>\n    <tr>\n      <th>30</th>\n      <td>3.5</td>\n      <td>2.5</td>\n      <td>0.516667</td>\n    </tr>\n    <tr>\n      <th>31</th>\n      <td>3.5</td>\n      <td>3.0</td>\n      <td>0.000000</td>\n    </tr>\n  </tbody>\n</table>\n</div>"
     },
     "metadata": {},
     "execution_count": 63
    }
   ],
   "source": [
    "# policy_df.groupby(['vz_d','vx_d'])['RREV_trigger'].mean().reset_index()\n",
    "grouped = policy_df.groupby(['vz_d','vx_d'],as_index=False).agg([np.mean,np.std])\n",
    "grouped['landing_rate','mean'].reset_index()"
   ]
  },
  {
   "cell_type": "code",
   "execution_count": 26,
   "metadata": {},
   "outputs": [
    {
     "output_type": "display_data",
     "data": {
      "text/plain": "Canvas(toolbar=Toolbar(toolitems=[('Home', 'Reset original view', 'home', 'home'), ('Back', 'Back to previous …",
      "application/vnd.jupyter.widget-view+json": {
       "version_major": 2,
       "version_minor": 0,
       "model_id": "15fefdb6e3ae44beb51a1f8d9a70e21b"
      }
     },
     "metadata": {}
    }
   ],
   "source": [
    "fig = plt.figure()\n",
    "ax = fig.add_subplot(111,projection=\"3d\")\n",
    "ax.scatter(policy_df['vz_d'],policy_df['vx_d'],policy_df['RREV_trigger'])\n",
    "\n",
    "ax.set_xlabel('vz_d')\n",
    "ax.set_ylabel('vx_d')\n",
    "ax.set_zlabel('RREV')\n",
    "\n",
    "ax.xaxis.set_ticks(np.arange(1.5,4.0,0.5))\n",
    "plt.show()"
   ]
  },
  {
   "cell_type": "code",
   "execution_count": null,
   "metadata": {},
   "outputs": [],
   "source": [
    "fig = plt.figure()\n",
    "ax = fig.add_subplot(111,projection=\"3d\")\n",
    "ax.scatter(policy_df['vz_d'],policy_df['vx_d'],policy_df['G2'])\n",
    "\n",
    "ax.set_xlabel('vz_d')\n",
    "ax.set_ylabel('vx_d')\n",
    "ax.set_zlabel('G2')\n",
    "\n",
    "ax.xaxis.set_ticks(np.arange(1.5,4.0,0.5))\n",
    "plt.show()"
   ]
  },
  {
   "cell_type": "code",
   "execution_count": null,
   "metadata": {},
   "outputs": [],
   "source": []
  }
 ]
}