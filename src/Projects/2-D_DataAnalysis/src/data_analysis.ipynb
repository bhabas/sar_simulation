{
 "metadata": {
  "language_info": {
   "codemirror_mode": {
    "name": "ipython",
    "version": 3
   },
   "file_extension": ".py",
   "mimetype": "text/x-python",
   "name": "python",
   "nbconvert_exporter": "python",
   "pygments_lexer": "ipython3",
   "version": "3.8.5-final"
  },
  "orig_nbformat": 2,
  "kernelspec": {
   "name": "python38564bit0282941c0ba945238a13db8c20574d9c",
   "display_name": "Python 3.8.5 64-bit",
   "language": "python"
  }
 },
 "nbformat": 4,
 "nbformat_minor": 2,
 "cells": [
  {
   "cell_type": "code",
   "execution_count": null,
   "metadata": {},
   "outputs": [],
   "source": [
    "import pandas as pd\n",
    "import numpy as np\n",
    "import os,time,fnmatch"
   ]
  },
  {
   "cell_type": "code",
   "execution_count": null,
   "metadata": {},
   "outputs": [],
   "source": [
    "import sys\n",
    "sys.path.insert(0,'/home/bhabas/catkin_ws/src/crazyflie_simulation/src/crazyflie_gazebo_sim/src/utility')\n",
    "from data_analysis import DataFile\n",
    "dataPath = '/home/bhabas/catkin_ws/src/crazyflie_simulation/local_files/data/'"
   ]
  },
  {
   "cell_type": "code",
   "execution_count": null,
   "metadata": {},
   "outputs": [],
   "source": [
    "## ITERATE OVER ALL COMBINATIONS\n",
    "temp_list = []\n",
    "for vz_d in np.arange(1.5,4.0,0.5): # [1.5,3.5]\n",
    "    for vx_d in np.arange(0,3.5,0.5):   # [0,3.0]\n",
    "        # print(f\"{vz_d}|{vx_d}\")\n",
    "        temp_list.append([vz_d,vx_d])\n",
    "test_arr = np.asarray(temp_list)"
   ]
  },
  {
   "source": [
    "d = []\n",
    "for vz_d,vx_d in test_arr:\n",
    "    for file in os.listdir(dataPath):\n",
    "        csv = os.path.join(dataPath,file)\n",
    "        if fnmatch.fnmatch(file,f\"Vz_{vz_d}--Vx_{vx_d}--trial_*.csv\"):\n",
    "\n",
    "            trial = DataFile(csv)\n",
    "            trial_num = file[-5]\n",
    "\n",
    "            landing_rate = trial.landing_rate()\n",
    "            policy,_ = trial.grab_finalPolicy()\n",
    "            RREV_trig,G1,G2 = policy\n",
    "\n",
    "            d.append( (vz_d,vx_d,trial_num,landing_rate,RREV_trig,G1,G2))\n",
    "\n",
    "policy_df = pd.DataFrame(d, columns=('vz_d','vx_d','trial_num','landing_rate','RREV_trigger','G1','G2'))"
   ],
   "cell_type": "code",
   "metadata": {},
   "execution_count": null,
   "outputs": []
  },
  {
   "cell_type": "code",
   "execution_count": null,
   "metadata": {},
   "outputs": [],
   "source": [
    "import matplotlib.pyplot as plt\n",
    "from mpl_toolkits import mplot3d\n",
    "print()"
   ]
  },
  {
   "cell_type": "code",
   "execution_count": null,
   "metadata": {},
   "outputs": [],
   "source": [
    "fig = plt.figure()\n",
    "ax = fig.add_subplot(111,projection=\"3d\")\n",
    "ax.scatter(policy_df['vz_d'],policy_df['vx_d'],policy_df['RREV_trigger'])\n",
    "\n",
    "ax.set_xlabel('vz_d')\n",
    "ax.set_ylabel('vx_d')\n",
    "ax.set_zlabel('RREV')\n",
    "\n",
    "ax.xaxis.set_ticks(np.arange(1.5,4.0,0.5))\n",
    "plt.show()"
   ]
  },
  {
   "cell_type": "code",
   "execution_count": null,
   "metadata": {},
   "outputs": [],
   "source": [
    "fig = plt.figure()\n",
    "ax = fig.add_subplot(111,projection=\"3d\")\n",
    "ax.scatter(policy_df['vz_d'],policy_df['vx_d'],policy_df['G2'])\n",
    "\n",
    "ax.set_xlabel('vz_d')\n",
    "ax.set_ylabel('vx_d')\n",
    "ax.set_zlabel('G2')\n",
    "\n",
    "ax.xaxis.set_ticks(np.arange(1.5,4.0,0.5))\n",
    "plt.show()"
   ]
  },
  {
   "cell_type": "code",
   "execution_count": 41,
   "metadata": {},
   "outputs": [],
   "source": []
  },
  {
   "cell_type": "code",
   "execution_count": null,
   "metadata": {},
   "outputs": [],
   "source": []
  }
 ]
}