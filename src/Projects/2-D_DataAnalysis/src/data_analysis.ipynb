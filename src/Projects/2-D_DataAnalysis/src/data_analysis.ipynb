{
 "metadata": {
  "language_info": {
   "codemirror_mode": {
    "name": "ipython",
    "version": 3
   },
   "file_extension": ".py",
   "mimetype": "text/x-python",
   "name": "python",
   "nbconvert_exporter": "python",
   "pygments_lexer": "ipython3",
   "version": "3.8.5-final"
  },
  "orig_nbformat": 2,
  "kernelspec": {
   "name": "python38564bit0282941c0ba945238a13db8c20574d9c",
   "display_name": "Python 3.8.5 64-bit",
   "language": "python"
  }
 },
 "nbformat": 4,
 "nbformat_minor": 2,
 "cells": [
  {
   "cell_type": "code",
   "execution_count": 1,
   "metadata": {},
   "outputs": [],
   "source": [
    "## IMPORT MODULES\n",
    "import pandas as pd\n",
    "import numpy as np\n",
    "import os,time,fnmatch"
   ]
  },
  {
   "cell_type": "code",
   "execution_count": 2,
   "metadata": {},
   "outputs": [],
   "source": [
    "## IMPORT PLOTTING MODULES\n",
    "import matplotlib.pyplot as plt\n",
    "from mpl_toolkits import mplot3d\n",
    "from matplotlib import cm\n",
    "%matplotlib widget\n"
   ]
  },
  {
   "cell_type": "code",
   "execution_count": 3,
   "metadata": {},
   "outputs": [],
   "source": [
    "## CREATE LINK TO DATAPATH MODULE\n",
    "import sys\n",
    "sys.path.insert(0,'/home/bhabas/catkin_ws/src/crazyflie_simulation/src/crazyflie_gazebo_sim/src/utility')\n",
    "from data_analysis import DataFile\n",
    "dataPath = '/home/bhabas/catkin_ws/src/crazyflie_simulation/local_files/data/'"
   ]
  },
  {
   "cell_type": "code",
   "execution_count": 4,
   "metadata": {},
   "outputs": [
    {
     "output_type": "execute_result",
     "data": {
      "text/plain": [
       "array([[1.5, 0. ],\n",
       "       [1.5, 0.5],\n",
       "       [1.5, 1. ],\n",
       "       [1.5, 1.5],\n",
       "       [1.5, 2. ],\n",
       "       [1.5, 2.5],\n",
       "       [1.5, 3. ],\n",
       "       [2. , 0. ],\n",
       "       [2. , 0.5],\n",
       "       [2. , 1. ],\n",
       "       [2. , 1.5],\n",
       "       [2. , 2. ],\n",
       "       [2. , 2.5],\n",
       "       [2. , 3. ],\n",
       "       [2.5, 0. ],\n",
       "       [2.5, 0.5],\n",
       "       [2.5, 1. ],\n",
       "       [2.5, 1.5],\n",
       "       [2.5, 2. ],\n",
       "       [2.5, 2.5],\n",
       "       [2.5, 3. ],\n",
       "       [3. , 0. ],\n",
       "       [3. , 0.5],\n",
       "       [3. , 1. ],\n",
       "       [3. , 1.5],\n",
       "       [3. , 2. ],\n",
       "       [3. , 2.5],\n",
       "       [3. , 3. ],\n",
       "       [3.5, 0. ],\n",
       "       [3.5, 0.5],\n",
       "       [3.5, 1. ],\n",
       "       [3.5, 1.5],\n",
       "       [3.5, 2. ],\n",
       "       [3.5, 2.5],\n",
       "       [3.5, 3. ]])"
      ]
     },
     "metadata": {},
     "execution_count": 4
    }
   ],
   "source": [
    "## CREATE AN ARRAY FOR ALL TEST COMBINATIONS\n",
    "temp_list = []\n",
    "for vz_d in np.arange(1.5,4.0,0.5): # [1.5,3.5]\n",
    "    for vx_d in np.arange(0,3.5,0.5):   # [0,3.0]\n",
    "        # print(f\"{vz_d}|{vx_d}\")\n",
    "        temp_list.append([vz_d,vx_d])\n",
    "test_arr = np.asarray(temp_list)\n",
    "test_arr"
   ]
  },
  {
   "source": [
    "## CREATE DATAFRAME FROM ALL TESTS\n",
    "\n",
    "d = []                                                  # Create empty list\n",
    "for vz_d,vx_d in test_arr:                              # Iter over all combinations in test_arr\n",
    "    for file in os.listdir(dataPath):                   # Iter over all files in dir \n",
    "        csv = os.path.join(dataPath,file)               #   and join name w/ base path\n",
    "\n",
    "        if fnmatch.fnmatch(file,f\"Vz_{vz_d}--Vx_{vx_d}--trial_*.csv\"): # If filename matched selected IC \n",
    "\n",
    "            trial = DataFile(csv)                       # Create object called trial\n",
    "\n",
    "            trial_num = file[-5]                        # Retrieve trial num\n",
    "            landing_rate = trial.landing_rate()         # Retrieve landing success rate\n",
    "            policy,sigma = trial.grab_finalPolicy()     # Retrieve final policy and sigma\n",
    "\n",
    "            RREV_trigger,G1,G2 = policy                 # Break up policy\n",
    "            RREV_sig,G1_sig,G2_sig = sigma              # Break up sigma\n",
    "\n",
    "            d.append((vz_d,vx_d,trial_num,landing_rate, # Append values to list\n",
    "                RREV_trigger,G1,G2,\n",
    "                RREV_sig,G1_sig,G2_sig))\n",
    "\n",
    "policy_df = pd.DataFrame(d, columns=( # Convert list to pd.dataframe\n",
    "    'vz_d','vx_d','trial_num','landing_rate',\n",
    "    'RREV_trigger','G1','G2',\n",
    "    'RREV_sig','G1_sig','G2_sig'))\n",
    "policy_df"
   ],
   "cell_type": "code",
   "metadata": {},
   "execution_count": 5,
   "outputs": [
    {
     "output_type": "execute_result",
     "data": {
      "text/plain": [
       "    vz_d  vx_d trial_num  landing_rate  RREV_trigger     G1    G2  RREV_sig  \\\n",
       "0    1.5   0.0         1          0.00          4.11   6.18  3.78      0.07   \n",
       "1    1.5   0.0         0          0.00          5.00   7.59  3.88      0.83   \n",
       "2    1.5   0.0         2          0.00          4.82   5.82  3.44      0.08   \n",
       "3    1.5   0.5         2          0.00          4.33   7.39  3.25      0.10   \n",
       "4    1.5   0.5         1          0.00          4.55   6.98  3.86      0.13   \n",
       "..   ...   ...       ...           ...           ...    ...   ...       ...   \n",
       "89   3.5   2.5         1          0.75          5.16   7.81  1.81      0.16   \n",
       "90   3.5   2.5         2          0.00          5.16  12.89  2.43      0.03   \n",
       "91   3.5   3.0         2          0.00          0.00   0.00  0.00      0.00   \n",
       "92   3.5   3.0         1          0.00          0.00   0.00  0.00      0.00   \n",
       "93   3.5   3.0         0          0.00          0.00   0.00  0.00      0.00   \n",
       "\n",
       "    G1_sig  G2_sig  \n",
       "0     0.38    0.28  \n",
       "1     0.27    0.11  \n",
       "2     0.15    0.28  \n",
       "3     0.19    0.07  \n",
       "4     0.10    0.14  \n",
       "..     ...     ...  \n",
       "89    0.05    0.52  \n",
       "90    1.74    0.51  \n",
       "91    0.00    0.00  \n",
       "92    0.00    0.00  \n",
       "93    0.00    0.00  \n",
       "\n",
       "[94 rows x 10 columns]"
      ],
      "text/html": "<div>\n<style scoped>\n    .dataframe tbody tr th:only-of-type {\n        vertical-align: middle;\n    }\n\n    .dataframe tbody tr th {\n        vertical-align: top;\n    }\n\n    .dataframe thead th {\n        text-align: right;\n    }\n</style>\n<table border=\"1\" class=\"dataframe\">\n  <thead>\n    <tr style=\"text-align: right;\">\n      <th></th>\n      <th>vz_d</th>\n      <th>vx_d</th>\n      <th>trial_num</th>\n      <th>landing_rate</th>\n      <th>RREV_trigger</th>\n      <th>G1</th>\n      <th>G2</th>\n      <th>RREV_sig</th>\n      <th>G1_sig</th>\n      <th>G2_sig</th>\n    </tr>\n  </thead>\n  <tbody>\n    <tr>\n      <th>0</th>\n      <td>1.5</td>\n      <td>0.0</td>\n      <td>1</td>\n      <td>0.00</td>\n      <td>4.11</td>\n      <td>6.18</td>\n      <td>3.78</td>\n      <td>0.07</td>\n      <td>0.38</td>\n      <td>0.28</td>\n    </tr>\n    <tr>\n      <th>1</th>\n      <td>1.5</td>\n      <td>0.0</td>\n      <td>0</td>\n      <td>0.00</td>\n      <td>5.00</td>\n      <td>7.59</td>\n      <td>3.88</td>\n      <td>0.83</td>\n      <td>0.27</td>\n      <td>0.11</td>\n    </tr>\n    <tr>\n      <th>2</th>\n      <td>1.5</td>\n      <td>0.0</td>\n      <td>2</td>\n      <td>0.00</td>\n      <td>4.82</td>\n      <td>5.82</td>\n      <td>3.44</td>\n      <td>0.08</td>\n      <td>0.15</td>\n      <td>0.28</td>\n    </tr>\n    <tr>\n      <th>3</th>\n      <td>1.5</td>\n      <td>0.5</td>\n      <td>2</td>\n      <td>0.00</td>\n      <td>4.33</td>\n      <td>7.39</td>\n      <td>3.25</td>\n      <td>0.10</td>\n      <td>0.19</td>\n      <td>0.07</td>\n    </tr>\n    <tr>\n      <th>4</th>\n      <td>1.5</td>\n      <td>0.5</td>\n      <td>1</td>\n      <td>0.00</td>\n      <td>4.55</td>\n      <td>6.98</td>\n      <td>3.86</td>\n      <td>0.13</td>\n      <td>0.10</td>\n      <td>0.14</td>\n    </tr>\n    <tr>\n      <th>...</th>\n      <td>...</td>\n      <td>...</td>\n      <td>...</td>\n      <td>...</td>\n      <td>...</td>\n      <td>...</td>\n      <td>...</td>\n      <td>...</td>\n      <td>...</td>\n      <td>...</td>\n    </tr>\n    <tr>\n      <th>89</th>\n      <td>3.5</td>\n      <td>2.5</td>\n      <td>1</td>\n      <td>0.75</td>\n      <td>5.16</td>\n      <td>7.81</td>\n      <td>1.81</td>\n      <td>0.16</td>\n      <td>0.05</td>\n      <td>0.52</td>\n    </tr>\n    <tr>\n      <th>90</th>\n      <td>3.5</td>\n      <td>2.5</td>\n      <td>2</td>\n      <td>0.00</td>\n      <td>5.16</td>\n      <td>12.89</td>\n      <td>2.43</td>\n      <td>0.03</td>\n      <td>1.74</td>\n      <td>0.51</td>\n    </tr>\n    <tr>\n      <th>91</th>\n      <td>3.5</td>\n      <td>3.0</td>\n      <td>2</td>\n      <td>0.00</td>\n      <td>0.00</td>\n      <td>0.00</td>\n      <td>0.00</td>\n      <td>0.00</td>\n      <td>0.00</td>\n      <td>0.00</td>\n    </tr>\n    <tr>\n      <th>92</th>\n      <td>3.5</td>\n      <td>3.0</td>\n      <td>1</td>\n      <td>0.00</td>\n      <td>0.00</td>\n      <td>0.00</td>\n      <td>0.00</td>\n      <td>0.00</td>\n      <td>0.00</td>\n      <td>0.00</td>\n    </tr>\n    <tr>\n      <th>93</th>\n      <td>3.5</td>\n      <td>3.0</td>\n      <td>0</td>\n      <td>0.00</td>\n      <td>0.00</td>\n      <td>0.00</td>\n      <td>0.00</td>\n      <td>0.00</td>\n      <td>0.00</td>\n      <td>0.00</td>\n    </tr>\n  </tbody>\n</table>\n<p>94 rows × 10 columns</p>\n</div>"
     },
     "metadata": {},
     "execution_count": 5
    }
   ]
  },
  {
   "cell_type": "code",
   "execution_count": 6,
   "metadata": {},
   "outputs": [
    {
     "output_type": "execute_result",
     "data": {
      "text/plain": [
       "    vz_d  vx_d trial_num  landing_rate  RREV_trigger     G1    G2  RREV_sig  \\\n",
       "0    1.5   0.0         1          0.00          4.11   6.18  3.78      0.07   \n",
       "1    1.5   0.0         0          0.00          5.00   7.59  3.88      0.83   \n",
       "2    1.5   0.0         2          0.00          4.82   5.82  3.44      0.08   \n",
       "3    1.5   0.5         2          0.00          4.33   7.39  3.25      0.10   \n",
       "4    1.5   0.5         1          0.00          4.55   6.98  3.86      0.13   \n",
       "..   ...   ...       ...           ...           ...    ...   ...       ...   \n",
       "89   3.5   2.5         1          0.75          5.16   7.81  1.81      0.16   \n",
       "90   3.5   2.5         2          0.00          5.16  12.89  2.43      0.03   \n",
       "91   3.5   3.0         2          0.00          0.00   0.00  0.00      0.00   \n",
       "92   3.5   3.0         1          0.00          0.00   0.00  0.00      0.00   \n",
       "93   3.5   3.0         0          0.00          0.00   0.00  0.00      0.00   \n",
       "\n",
       "    G1_sig  G2_sig  \n",
       "0     0.38    0.28  \n",
       "1     0.27    0.11  \n",
       "2     0.15    0.28  \n",
       "3     0.19    0.07  \n",
       "4     0.10    0.14  \n",
       "..     ...     ...  \n",
       "89    0.05    0.52  \n",
       "90    1.74    0.51  \n",
       "91    0.00    0.00  \n",
       "92    0.00    0.00  \n",
       "93    0.00    0.00  \n",
       "\n",
       "[94 rows x 10 columns]"
      ],
      "text/html": "<div>\n<style scoped>\n    .dataframe tbody tr th:only-of-type {\n        vertical-align: middle;\n    }\n\n    .dataframe tbody tr th {\n        vertical-align: top;\n    }\n\n    .dataframe thead th {\n        text-align: right;\n    }\n</style>\n<table border=\"1\" class=\"dataframe\">\n  <thead>\n    <tr style=\"text-align: right;\">\n      <th></th>\n      <th>vz_d</th>\n      <th>vx_d</th>\n      <th>trial_num</th>\n      <th>landing_rate</th>\n      <th>RREV_trigger</th>\n      <th>G1</th>\n      <th>G2</th>\n      <th>RREV_sig</th>\n      <th>G1_sig</th>\n      <th>G2_sig</th>\n    </tr>\n  </thead>\n  <tbody>\n    <tr>\n      <th>0</th>\n      <td>1.5</td>\n      <td>0.0</td>\n      <td>1</td>\n      <td>0.00</td>\n      <td>4.11</td>\n      <td>6.18</td>\n      <td>3.78</td>\n      <td>0.07</td>\n      <td>0.38</td>\n      <td>0.28</td>\n    </tr>\n    <tr>\n      <th>1</th>\n      <td>1.5</td>\n      <td>0.0</td>\n      <td>0</td>\n      <td>0.00</td>\n      <td>5.00</td>\n      <td>7.59</td>\n      <td>3.88</td>\n      <td>0.83</td>\n      <td>0.27</td>\n      <td>0.11</td>\n    </tr>\n    <tr>\n      <th>2</th>\n      <td>1.5</td>\n      <td>0.0</td>\n      <td>2</td>\n      <td>0.00</td>\n      <td>4.82</td>\n      <td>5.82</td>\n      <td>3.44</td>\n      <td>0.08</td>\n      <td>0.15</td>\n      <td>0.28</td>\n    </tr>\n    <tr>\n      <th>3</th>\n      <td>1.5</td>\n      <td>0.5</td>\n      <td>2</td>\n      <td>0.00</td>\n      <td>4.33</td>\n      <td>7.39</td>\n      <td>3.25</td>\n      <td>0.10</td>\n      <td>0.19</td>\n      <td>0.07</td>\n    </tr>\n    <tr>\n      <th>4</th>\n      <td>1.5</td>\n      <td>0.5</td>\n      <td>1</td>\n      <td>0.00</td>\n      <td>4.55</td>\n      <td>6.98</td>\n      <td>3.86</td>\n      <td>0.13</td>\n      <td>0.10</td>\n      <td>0.14</td>\n    </tr>\n    <tr>\n      <th>...</th>\n      <td>...</td>\n      <td>...</td>\n      <td>...</td>\n      <td>...</td>\n      <td>...</td>\n      <td>...</td>\n      <td>...</td>\n      <td>...</td>\n      <td>...</td>\n      <td>...</td>\n    </tr>\n    <tr>\n      <th>89</th>\n      <td>3.5</td>\n      <td>2.5</td>\n      <td>1</td>\n      <td>0.75</td>\n      <td>5.16</td>\n      <td>7.81</td>\n      <td>1.81</td>\n      <td>0.16</td>\n      <td>0.05</td>\n      <td>0.52</td>\n    </tr>\n    <tr>\n      <th>90</th>\n      <td>3.5</td>\n      <td>2.5</td>\n      <td>2</td>\n      <td>0.00</td>\n      <td>5.16</td>\n      <td>12.89</td>\n      <td>2.43</td>\n      <td>0.03</td>\n      <td>1.74</td>\n      <td>0.51</td>\n    </tr>\n    <tr>\n      <th>91</th>\n      <td>3.5</td>\n      <td>3.0</td>\n      <td>2</td>\n      <td>0.00</td>\n      <td>0.00</td>\n      <td>0.00</td>\n      <td>0.00</td>\n      <td>0.00</td>\n      <td>0.00</td>\n      <td>0.00</td>\n    </tr>\n    <tr>\n      <th>92</th>\n      <td>3.5</td>\n      <td>3.0</td>\n      <td>1</td>\n      <td>0.00</td>\n      <td>0.00</td>\n      <td>0.00</td>\n      <td>0.00</td>\n      <td>0.00</td>\n      <td>0.00</td>\n      <td>0.00</td>\n    </tr>\n    <tr>\n      <th>93</th>\n      <td>3.5</td>\n      <td>3.0</td>\n      <td>0</td>\n      <td>0.00</td>\n      <td>0.00</td>\n      <td>0.00</td>\n      <td>0.00</td>\n      <td>0.00</td>\n      <td>0.00</td>\n      <td>0.00</td>\n    </tr>\n  </tbody>\n</table>\n<p>94 rows × 10 columns</p>\n</div>"
     },
     "metadata": {},
     "execution_count": 6
    }
   ],
   "source": [
    "policy_df"
   ]
  },
  {
   "cell_type": "code",
   "execution_count": 23,
   "metadata": {},
   "outputs": [
    {
     "output_type": "execute_result",
     "data": {
      "text/plain": [
       "   vz_d vx_d landing_rate           RREV_trigger                   G1  \\\n",
       "                     mean       std         mean       std       mean   \n",
       "0   1.5  0.0     0.000000  0.000000     4.643333  0.470567   6.530000   \n",
       "1   1.5  0.5     0.000000  0.000000     4.376667  0.155349   7.506667   \n",
       "2   1.5  1.0     0.016667  0.028868     4.726667  0.513939   6.460000   \n",
       "3   1.5  1.5     0.000000  0.000000     4.460000  0.200000  10.226667   \n",
       "4   1.5  2.0     0.000000  0.000000     3.220000  0.644903   3.470000   \n",
       "5   1.5  2.5     0.000000  0.000000     2.333333  0.265016   5.586667   \n",
       "6   1.5  3.0     0.000000  0.000000     2.846667  1.591048   5.870000   \n",
       "7   2.0  0.0     0.016667  0.028868     5.120000  0.756637   6.483333   \n",
       "8   2.0  0.5     0.000000  0.000000     4.436667  0.536315   6.936667   \n",
       "9   2.0  1.0     0.133333  0.076376     4.966667  0.209841   8.013333   \n",
       "10  2.0  1.5     0.233333  0.076376     4.850000  0.230000   7.793333   \n",
       "11  2.0  2.0     0.316667  0.028868     5.036667  0.161658  10.813333   \n",
       "12  2.0  2.5     0.233333  0.152753     4.843333  0.232451   5.470000   \n",
       "13  2.0  3.0     0.116667  0.115470     5.023333  0.335012   3.800000   \n",
       "14  2.5  0.0     0.016667  0.028868     4.933333  0.181475   5.923333   \n",
       "15  2.5  0.5     0.016667  0.028868     4.673333  0.190875   6.443333   \n",
       "16  2.5  1.0     0.450000  0.086603     4.850000  0.144222   6.523333   \n",
       "17  2.5  1.5     0.466667  0.057735     4.970000  0.043589   8.133333   \n",
       "18  2.5  2.0     0.400000  0.050000     4.913333  0.176163   9.890000   \n",
       "19  2.5  2.5     0.350000  0.100000     4.993333  0.231805   7.116667   \n",
       "20  2.5  3.0     0.483333  0.144338     4.743333  0.160416   4.560000   \n",
       "21  3.0  0.0     0.333333  0.028868     4.896667  0.127410   7.770000   \n",
       "22  3.0  0.5     0.500000  0.100000     4.893333  0.176163   7.400000   \n",
       "23  3.0  1.0     0.816667  0.144338     4.903333  0.085049   7.743333   \n",
       "24  3.0  1.5     0.850000       NaN     5.320000       NaN   7.600000   \n",
       "25  3.5  0.0     0.000000  0.000000     0.000000  0.000000   0.000000   \n",
       "26  3.5  0.5     0.516667  0.453689     3.140000  2.719485   5.310000   \n",
       "27  3.5  1.0     0.700000  0.050000     4.923333  0.151767   6.903333   \n",
       "28  3.5  1.5     0.900000  0.050000     5.230000  0.121655  11.450000   \n",
       "29  3.5  2.0     0.883333  0.160728     5.133333  0.277549   9.190000   \n",
       "30  3.5  2.5     0.516667  0.448144     5.036667  0.213620   9.090000   \n",
       "31  3.5  3.0     0.000000  0.000000     0.000000  0.000000   0.000000   \n",
       "\n",
       "                     G2            RREV_sig              G1_sig            \\\n",
       "         std       mean       std      mean       std      mean       std   \n",
       "0   0.935468   3.700000  0.230651  0.326667  0.435928  0.266667  0.115036   \n",
       "1   0.593661   2.800000  1.342796  0.186667  0.125033  0.283333  0.243790   \n",
       "2   5.671517   3.246667  0.875233  0.076667  0.023094  0.630000  0.803181   \n",
       "3   8.137840   1.370000  1.988492  0.116667  0.141539  2.776667  4.592846   \n",
       "4   2.911563   7.646667  3.037636  0.113333  0.040415  0.020000  0.010000   \n",
       "5   2.476900   6.976667  3.007396  0.053333  0.015275  0.200000  0.209523   \n",
       "6   0.153948   3.520000  0.854927  0.130000  0.135277  0.053333  0.028868   \n",
       "7   1.401761   6.633333  4.784740  0.323333  0.300888  0.246667  0.098658   \n",
       "8   1.269501   1.940000  2.014274  0.086667  0.055076  0.520000  0.592537   \n",
       "9   1.054625   2.950000  0.797308  0.086667  0.065064  0.380000  0.537029   \n",
       "10  1.029093   0.826667  0.265769  0.073333  0.035119  0.170000  0.210000   \n",
       "11  4.143445   6.813333  5.565270  0.116667  0.090738  0.230000  0.150997   \n",
       "12  4.060702   3.916667  4.900228  0.270000  0.390000  0.276667  0.266896   \n",
       "13  2.131267   5.763333  0.884609  0.150000  0.140000  0.503333  0.300721   \n",
       "14  1.029191   3.520000  0.315119  0.106667  0.100167  0.320000  0.437150   \n",
       "15  0.490340   4.496667  0.873747  0.093333  0.090738  0.086667  0.064291   \n",
       "16  1.198096   2.306667  0.276104  0.050000  0.052915  0.120000  0.090000   \n",
       "17  3.032859   2.666667  1.830555  0.050000  0.030000  0.683333  0.655159   \n",
       "18  0.757166   2.690000  0.663023  0.020000  0.010000  0.633333  0.643610   \n",
       "19  0.942143   0.363333  0.181475  0.086667  0.058595  0.766667  0.687701   \n",
       "20  0.845518  12.040000  6.953359  0.086667  0.068069  0.143333  0.092916   \n",
       "21  1.330000   3.430000  0.907138  0.133333  0.111505  0.423333  0.245017   \n",
       "22  0.936162   4.206667  1.233910  0.180000  0.175784  0.580000  0.453100   \n",
       "23  0.777839   4.840000  2.568482  0.053333  0.015275  0.366667  0.600444   \n",
       "24       NaN   4.470000       NaN  0.030000       NaN  0.180000       NaN   \n",
       "25  0.000000   0.000000  0.000000  0.000000  0.000000  0.000000  0.000000   \n",
       "26  4.617283   2.546667  4.162335  0.026667  0.023094  0.383333  0.335012   \n",
       "27  1.651252   4.316667  0.901850  0.053333  0.040415  0.323333  0.142244   \n",
       "28  3.899013   2.630000  1.180339  0.050000  0.060828  1.446667  1.144305   \n",
       "29  0.820183   4.673333  1.115004  0.083333  0.035119  0.183333  0.075056   \n",
       "30  3.348791   1.793333  0.645161  0.080000  0.070000  0.643333  0.950807   \n",
       "31  0.000000   0.000000  0.000000  0.000000  0.000000  0.000000  0.000000   \n",
       "\n",
       "      G2_sig            \n",
       "        mean       std  \n",
       "0   0.223333  0.098150  \n",
       "1   0.130000  0.055678  \n",
       "2   0.126667  0.090738  \n",
       "3   0.103333  0.135769  \n",
       "4   0.186667  0.202320  \n",
       "5   0.223333  0.257941  \n",
       "6   0.030000  0.010000  \n",
       "7   2.250000  3.568921  \n",
       "8   0.160000  0.121244  \n",
       "9   0.576667  0.455009  \n",
       "10  0.616667  0.192180  \n",
       "11  1.170000  1.258610  \n",
       "12  0.353333  0.170098  \n",
       "13  0.310000  0.291376  \n",
       "14  0.416667  0.279344  \n",
       "15  0.536667  0.450814  \n",
       "16  0.550000  0.502693  \n",
       "17  0.180000  0.087178  \n",
       "18  0.336667  0.172434  \n",
       "19  0.116667  0.028868  \n",
       "20  0.660000  0.230651  \n",
       "21  0.460000  0.606300  \n",
       "22  0.103333  0.085049  \n",
       "23  0.223333  0.178979  \n",
       "24  0.080000       NaN  \n",
       "25  0.000000  0.000000  \n",
       "26  0.643333  0.660631  \n",
       "27  0.183333  0.115902  \n",
       "28  0.260000  0.192873  \n",
       "29  0.556667  0.679877  \n",
       "30  0.560000  0.078102  \n",
       "31  0.000000  0.000000  "
      ],
      "text/html": "<div>\n<style scoped>\n    .dataframe tbody tr th:only-of-type {\n        vertical-align: middle;\n    }\n\n    .dataframe tbody tr th {\n        vertical-align: top;\n    }\n\n    .dataframe thead tr th {\n        text-align: left;\n    }\n</style>\n<table border=\"1\" class=\"dataframe\">\n  <thead>\n    <tr>\n      <th></th>\n      <th>vz_d</th>\n      <th>vx_d</th>\n      <th colspan=\"2\" halign=\"left\">landing_rate</th>\n      <th colspan=\"2\" halign=\"left\">RREV_trigger</th>\n      <th colspan=\"2\" halign=\"left\">G1</th>\n      <th colspan=\"2\" halign=\"left\">G2</th>\n      <th colspan=\"2\" halign=\"left\">RREV_sig</th>\n      <th colspan=\"2\" halign=\"left\">G1_sig</th>\n      <th colspan=\"2\" halign=\"left\">G2_sig</th>\n    </tr>\n    <tr>\n      <th></th>\n      <th></th>\n      <th></th>\n      <th>mean</th>\n      <th>std</th>\n      <th>mean</th>\n      <th>std</th>\n      <th>mean</th>\n      <th>std</th>\n      <th>mean</th>\n      <th>std</th>\n      <th>mean</th>\n      <th>std</th>\n      <th>mean</th>\n      <th>std</th>\n      <th>mean</th>\n      <th>std</th>\n    </tr>\n  </thead>\n  <tbody>\n    <tr>\n      <th>0</th>\n      <td>1.5</td>\n      <td>0.0</td>\n      <td>0.000000</td>\n      <td>0.000000</td>\n      <td>4.643333</td>\n      <td>0.470567</td>\n      <td>6.530000</td>\n      <td>0.935468</td>\n      <td>3.700000</td>\n      <td>0.230651</td>\n      <td>0.326667</td>\n      <td>0.435928</td>\n      <td>0.266667</td>\n      <td>0.115036</td>\n      <td>0.223333</td>\n      <td>0.098150</td>\n    </tr>\n    <tr>\n      <th>1</th>\n      <td>1.5</td>\n      <td>0.5</td>\n      <td>0.000000</td>\n      <td>0.000000</td>\n      <td>4.376667</td>\n      <td>0.155349</td>\n      <td>7.506667</td>\n      <td>0.593661</td>\n      <td>2.800000</td>\n      <td>1.342796</td>\n      <td>0.186667</td>\n      <td>0.125033</td>\n      <td>0.283333</td>\n      <td>0.243790</td>\n      <td>0.130000</td>\n      <td>0.055678</td>\n    </tr>\n    <tr>\n      <th>2</th>\n      <td>1.5</td>\n      <td>1.0</td>\n      <td>0.016667</td>\n      <td>0.028868</td>\n      <td>4.726667</td>\n      <td>0.513939</td>\n      <td>6.460000</td>\n      <td>5.671517</td>\n      <td>3.246667</td>\n      <td>0.875233</td>\n      <td>0.076667</td>\n      <td>0.023094</td>\n      <td>0.630000</td>\n      <td>0.803181</td>\n      <td>0.126667</td>\n      <td>0.090738</td>\n    </tr>\n    <tr>\n      <th>3</th>\n      <td>1.5</td>\n      <td>1.5</td>\n      <td>0.000000</td>\n      <td>0.000000</td>\n      <td>4.460000</td>\n      <td>0.200000</td>\n      <td>10.226667</td>\n      <td>8.137840</td>\n      <td>1.370000</td>\n      <td>1.988492</td>\n      <td>0.116667</td>\n      <td>0.141539</td>\n      <td>2.776667</td>\n      <td>4.592846</td>\n      <td>0.103333</td>\n      <td>0.135769</td>\n    </tr>\n    <tr>\n      <th>4</th>\n      <td>1.5</td>\n      <td>2.0</td>\n      <td>0.000000</td>\n      <td>0.000000</td>\n      <td>3.220000</td>\n      <td>0.644903</td>\n      <td>3.470000</td>\n      <td>2.911563</td>\n      <td>7.646667</td>\n      <td>3.037636</td>\n      <td>0.113333</td>\n      <td>0.040415</td>\n      <td>0.020000</td>\n      <td>0.010000</td>\n      <td>0.186667</td>\n      <td>0.202320</td>\n    </tr>\n    <tr>\n      <th>5</th>\n      <td>1.5</td>\n      <td>2.5</td>\n      <td>0.000000</td>\n      <td>0.000000</td>\n      <td>2.333333</td>\n      <td>0.265016</td>\n      <td>5.586667</td>\n      <td>2.476900</td>\n      <td>6.976667</td>\n      <td>3.007396</td>\n      <td>0.053333</td>\n      <td>0.015275</td>\n      <td>0.200000</td>\n      <td>0.209523</td>\n      <td>0.223333</td>\n      <td>0.257941</td>\n    </tr>\n    <tr>\n      <th>6</th>\n      <td>1.5</td>\n      <td>3.0</td>\n      <td>0.000000</td>\n      <td>0.000000</td>\n      <td>2.846667</td>\n      <td>1.591048</td>\n      <td>5.870000</td>\n      <td>0.153948</td>\n      <td>3.520000</td>\n      <td>0.854927</td>\n      <td>0.130000</td>\n      <td>0.135277</td>\n      <td>0.053333</td>\n      <td>0.028868</td>\n      <td>0.030000</td>\n      <td>0.010000</td>\n    </tr>\n    <tr>\n      <th>7</th>\n      <td>2.0</td>\n      <td>0.0</td>\n      <td>0.016667</td>\n      <td>0.028868</td>\n      <td>5.120000</td>\n      <td>0.756637</td>\n      <td>6.483333</td>\n      <td>1.401761</td>\n      <td>6.633333</td>\n      <td>4.784740</td>\n      <td>0.323333</td>\n      <td>0.300888</td>\n      <td>0.246667</td>\n      <td>0.098658</td>\n      <td>2.250000</td>\n      <td>3.568921</td>\n    </tr>\n    <tr>\n      <th>8</th>\n      <td>2.0</td>\n      <td>0.5</td>\n      <td>0.000000</td>\n      <td>0.000000</td>\n      <td>4.436667</td>\n      <td>0.536315</td>\n      <td>6.936667</td>\n      <td>1.269501</td>\n      <td>1.940000</td>\n      <td>2.014274</td>\n      <td>0.086667</td>\n      <td>0.055076</td>\n      <td>0.520000</td>\n      <td>0.592537</td>\n      <td>0.160000</td>\n      <td>0.121244</td>\n    </tr>\n    <tr>\n      <th>9</th>\n      <td>2.0</td>\n      <td>1.0</td>\n      <td>0.133333</td>\n      <td>0.076376</td>\n      <td>4.966667</td>\n      <td>0.209841</td>\n      <td>8.013333</td>\n      <td>1.054625</td>\n      <td>2.950000</td>\n      <td>0.797308</td>\n      <td>0.086667</td>\n      <td>0.065064</td>\n      <td>0.380000</td>\n      <td>0.537029</td>\n      <td>0.576667</td>\n      <td>0.455009</td>\n    </tr>\n    <tr>\n      <th>10</th>\n      <td>2.0</td>\n      <td>1.5</td>\n      <td>0.233333</td>\n      <td>0.076376</td>\n      <td>4.850000</td>\n      <td>0.230000</td>\n      <td>7.793333</td>\n      <td>1.029093</td>\n      <td>0.826667</td>\n      <td>0.265769</td>\n      <td>0.073333</td>\n      <td>0.035119</td>\n      <td>0.170000</td>\n      <td>0.210000</td>\n      <td>0.616667</td>\n      <td>0.192180</td>\n    </tr>\n    <tr>\n      <th>11</th>\n      <td>2.0</td>\n      <td>2.0</td>\n      <td>0.316667</td>\n      <td>0.028868</td>\n      <td>5.036667</td>\n      <td>0.161658</td>\n      <td>10.813333</td>\n      <td>4.143445</td>\n      <td>6.813333</td>\n      <td>5.565270</td>\n      <td>0.116667</td>\n      <td>0.090738</td>\n      <td>0.230000</td>\n      <td>0.150997</td>\n      <td>1.170000</td>\n      <td>1.258610</td>\n    </tr>\n    <tr>\n      <th>12</th>\n      <td>2.0</td>\n      <td>2.5</td>\n      <td>0.233333</td>\n      <td>0.152753</td>\n      <td>4.843333</td>\n      <td>0.232451</td>\n      <td>5.470000</td>\n      <td>4.060702</td>\n      <td>3.916667</td>\n      <td>4.900228</td>\n      <td>0.270000</td>\n      <td>0.390000</td>\n      <td>0.276667</td>\n      <td>0.266896</td>\n      <td>0.353333</td>\n      <td>0.170098</td>\n    </tr>\n    <tr>\n      <th>13</th>\n      <td>2.0</td>\n      <td>3.0</td>\n      <td>0.116667</td>\n      <td>0.115470</td>\n      <td>5.023333</td>\n      <td>0.335012</td>\n      <td>3.800000</td>\n      <td>2.131267</td>\n      <td>5.763333</td>\n      <td>0.884609</td>\n      <td>0.150000</td>\n      <td>0.140000</td>\n      <td>0.503333</td>\n      <td>0.300721</td>\n      <td>0.310000</td>\n      <td>0.291376</td>\n    </tr>\n    <tr>\n      <th>14</th>\n      <td>2.5</td>\n      <td>0.0</td>\n      <td>0.016667</td>\n      <td>0.028868</td>\n      <td>4.933333</td>\n      <td>0.181475</td>\n      <td>5.923333</td>\n      <td>1.029191</td>\n      <td>3.520000</td>\n      <td>0.315119</td>\n      <td>0.106667</td>\n      <td>0.100167</td>\n      <td>0.320000</td>\n      <td>0.437150</td>\n      <td>0.416667</td>\n      <td>0.279344</td>\n    </tr>\n    <tr>\n      <th>15</th>\n      <td>2.5</td>\n      <td>0.5</td>\n      <td>0.016667</td>\n      <td>0.028868</td>\n      <td>4.673333</td>\n      <td>0.190875</td>\n      <td>6.443333</td>\n      <td>0.490340</td>\n      <td>4.496667</td>\n      <td>0.873747</td>\n      <td>0.093333</td>\n      <td>0.090738</td>\n      <td>0.086667</td>\n      <td>0.064291</td>\n      <td>0.536667</td>\n      <td>0.450814</td>\n    </tr>\n    <tr>\n      <th>16</th>\n      <td>2.5</td>\n      <td>1.0</td>\n      <td>0.450000</td>\n      <td>0.086603</td>\n      <td>4.850000</td>\n      <td>0.144222</td>\n      <td>6.523333</td>\n      <td>1.198096</td>\n      <td>2.306667</td>\n      <td>0.276104</td>\n      <td>0.050000</td>\n      <td>0.052915</td>\n      <td>0.120000</td>\n      <td>0.090000</td>\n      <td>0.550000</td>\n      <td>0.502693</td>\n    </tr>\n    <tr>\n      <th>17</th>\n      <td>2.5</td>\n      <td>1.5</td>\n      <td>0.466667</td>\n      <td>0.057735</td>\n      <td>4.970000</td>\n      <td>0.043589</td>\n      <td>8.133333</td>\n      <td>3.032859</td>\n      <td>2.666667</td>\n      <td>1.830555</td>\n      <td>0.050000</td>\n      <td>0.030000</td>\n      <td>0.683333</td>\n      <td>0.655159</td>\n      <td>0.180000</td>\n      <td>0.087178</td>\n    </tr>\n    <tr>\n      <th>18</th>\n      <td>2.5</td>\n      <td>2.0</td>\n      <td>0.400000</td>\n      <td>0.050000</td>\n      <td>4.913333</td>\n      <td>0.176163</td>\n      <td>9.890000</td>\n      <td>0.757166</td>\n      <td>2.690000</td>\n      <td>0.663023</td>\n      <td>0.020000</td>\n      <td>0.010000</td>\n      <td>0.633333</td>\n      <td>0.643610</td>\n      <td>0.336667</td>\n      <td>0.172434</td>\n    </tr>\n    <tr>\n      <th>19</th>\n      <td>2.5</td>\n      <td>2.5</td>\n      <td>0.350000</td>\n      <td>0.100000</td>\n      <td>4.993333</td>\n      <td>0.231805</td>\n      <td>7.116667</td>\n      <td>0.942143</td>\n      <td>0.363333</td>\n      <td>0.181475</td>\n      <td>0.086667</td>\n      <td>0.058595</td>\n      <td>0.766667</td>\n      <td>0.687701</td>\n      <td>0.116667</td>\n      <td>0.028868</td>\n    </tr>\n    <tr>\n      <th>20</th>\n      <td>2.5</td>\n      <td>3.0</td>\n      <td>0.483333</td>\n      <td>0.144338</td>\n      <td>4.743333</td>\n      <td>0.160416</td>\n      <td>4.560000</td>\n      <td>0.845518</td>\n      <td>12.040000</td>\n      <td>6.953359</td>\n      <td>0.086667</td>\n      <td>0.068069</td>\n      <td>0.143333</td>\n      <td>0.092916</td>\n      <td>0.660000</td>\n      <td>0.230651</td>\n    </tr>\n    <tr>\n      <th>21</th>\n      <td>3.0</td>\n      <td>0.0</td>\n      <td>0.333333</td>\n      <td>0.028868</td>\n      <td>4.896667</td>\n      <td>0.127410</td>\n      <td>7.770000</td>\n      <td>1.330000</td>\n      <td>3.430000</td>\n      <td>0.907138</td>\n      <td>0.133333</td>\n      <td>0.111505</td>\n      <td>0.423333</td>\n      <td>0.245017</td>\n      <td>0.460000</td>\n      <td>0.606300</td>\n    </tr>\n    <tr>\n      <th>22</th>\n      <td>3.0</td>\n      <td>0.5</td>\n      <td>0.500000</td>\n      <td>0.100000</td>\n      <td>4.893333</td>\n      <td>0.176163</td>\n      <td>7.400000</td>\n      <td>0.936162</td>\n      <td>4.206667</td>\n      <td>1.233910</td>\n      <td>0.180000</td>\n      <td>0.175784</td>\n      <td>0.580000</td>\n      <td>0.453100</td>\n      <td>0.103333</td>\n      <td>0.085049</td>\n    </tr>\n    <tr>\n      <th>23</th>\n      <td>3.0</td>\n      <td>1.0</td>\n      <td>0.816667</td>\n      <td>0.144338</td>\n      <td>4.903333</td>\n      <td>0.085049</td>\n      <td>7.743333</td>\n      <td>0.777839</td>\n      <td>4.840000</td>\n      <td>2.568482</td>\n      <td>0.053333</td>\n      <td>0.015275</td>\n      <td>0.366667</td>\n      <td>0.600444</td>\n      <td>0.223333</td>\n      <td>0.178979</td>\n    </tr>\n    <tr>\n      <th>24</th>\n      <td>3.0</td>\n      <td>1.5</td>\n      <td>0.850000</td>\n      <td>NaN</td>\n      <td>5.320000</td>\n      <td>NaN</td>\n      <td>7.600000</td>\n      <td>NaN</td>\n      <td>4.470000</td>\n      <td>NaN</td>\n      <td>0.030000</td>\n      <td>NaN</td>\n      <td>0.180000</td>\n      <td>NaN</td>\n      <td>0.080000</td>\n      <td>NaN</td>\n    </tr>\n    <tr>\n      <th>25</th>\n      <td>3.5</td>\n      <td>0.0</td>\n      <td>0.000000</td>\n      <td>0.000000</td>\n      <td>0.000000</td>\n      <td>0.000000</td>\n      <td>0.000000</td>\n      <td>0.000000</td>\n      <td>0.000000</td>\n      <td>0.000000</td>\n      <td>0.000000</td>\n      <td>0.000000</td>\n      <td>0.000000</td>\n      <td>0.000000</td>\n      <td>0.000000</td>\n      <td>0.000000</td>\n    </tr>\n    <tr>\n      <th>26</th>\n      <td>3.5</td>\n      <td>0.5</td>\n      <td>0.516667</td>\n      <td>0.453689</td>\n      <td>3.140000</td>\n      <td>2.719485</td>\n      <td>5.310000</td>\n      <td>4.617283</td>\n      <td>2.546667</td>\n      <td>4.162335</td>\n      <td>0.026667</td>\n      <td>0.023094</td>\n      <td>0.383333</td>\n      <td>0.335012</td>\n      <td>0.643333</td>\n      <td>0.660631</td>\n    </tr>\n    <tr>\n      <th>27</th>\n      <td>3.5</td>\n      <td>1.0</td>\n      <td>0.700000</td>\n      <td>0.050000</td>\n      <td>4.923333</td>\n      <td>0.151767</td>\n      <td>6.903333</td>\n      <td>1.651252</td>\n      <td>4.316667</td>\n      <td>0.901850</td>\n      <td>0.053333</td>\n      <td>0.040415</td>\n      <td>0.323333</td>\n      <td>0.142244</td>\n      <td>0.183333</td>\n      <td>0.115902</td>\n    </tr>\n    <tr>\n      <th>28</th>\n      <td>3.5</td>\n      <td>1.5</td>\n      <td>0.900000</td>\n      <td>0.050000</td>\n      <td>5.230000</td>\n      <td>0.121655</td>\n      <td>11.450000</td>\n      <td>3.899013</td>\n      <td>2.630000</td>\n      <td>1.180339</td>\n      <td>0.050000</td>\n      <td>0.060828</td>\n      <td>1.446667</td>\n      <td>1.144305</td>\n      <td>0.260000</td>\n      <td>0.192873</td>\n    </tr>\n    <tr>\n      <th>29</th>\n      <td>3.5</td>\n      <td>2.0</td>\n      <td>0.883333</td>\n      <td>0.160728</td>\n      <td>5.133333</td>\n      <td>0.277549</td>\n      <td>9.190000</td>\n      <td>0.820183</td>\n      <td>4.673333</td>\n      <td>1.115004</td>\n      <td>0.083333</td>\n      <td>0.035119</td>\n      <td>0.183333</td>\n      <td>0.075056</td>\n      <td>0.556667</td>\n      <td>0.679877</td>\n    </tr>\n    <tr>\n      <th>30</th>\n      <td>3.5</td>\n      <td>2.5</td>\n      <td>0.516667</td>\n      <td>0.448144</td>\n      <td>5.036667</td>\n      <td>0.213620</td>\n      <td>9.090000</td>\n      <td>3.348791</td>\n      <td>1.793333</td>\n      <td>0.645161</td>\n      <td>0.080000</td>\n      <td>0.070000</td>\n      <td>0.643333</td>\n      <td>0.950807</td>\n      <td>0.560000</td>\n      <td>0.078102</td>\n    </tr>\n    <tr>\n      <th>31</th>\n      <td>3.5</td>\n      <td>3.0</td>\n      <td>0.000000</td>\n      <td>0.000000</td>\n      <td>0.000000</td>\n      <td>0.000000</td>\n      <td>0.000000</td>\n      <td>0.000000</td>\n      <td>0.000000</td>\n      <td>0.000000</td>\n      <td>0.000000</td>\n      <td>0.000000</td>\n      <td>0.000000</td>\n      <td>0.000000</td>\n      <td>0.000000</td>\n      <td>0.000000</td>\n    </tr>\n  </tbody>\n</table>\n</div>"
     },
     "metadata": {},
     "execution_count": 23
    }
   ],
   "source": [
    "## POLICY AVERAGED DATAFRAME\n",
    "\n",
    "# Group dataframe values by IC and find avg/std of their values \n",
    "policy_avg_df = policy_df.groupby(['vz_d','vx_d']).agg([np.mean,np.std]).reset_index()\n",
    "policy_avg_df\n"
   ]
  },
  {
   "source": [
    "# Landing Rate Data"
   ],
   "cell_type": "markdown",
   "metadata": {}
  },
  {
   "cell_type": "code",
   "execution_count": 27,
   "metadata": {},
   "outputs": [],
   "source": [
    "## LANDING RATE DATA\n",
    "LR_df = policy_avg_df[['vz_d','vx_d','landing_rate']]\n",
    "# LR_df"
   ]
  },
  {
   "cell_type": "code",
   "execution_count": 26,
   "metadata": {},
   "outputs": [
    {
     "output_type": "display_data",
     "data": {
      "text/plain": "Canvas(toolbar=Toolbar(toolitems=[('Home', 'Reset original view', 'home', 'home'), ('Back', 'Back to previous …",
      "application/vnd.jupyter.widget-view+json": {
       "version_major": 2,
       "version_minor": 0,
       "model_id": "d4b79f9c29c64fdbb264f9e00b296796"
      }
     },
     "metadata": {}
    }
   ],
   "source": [
    "# LR_df['landing_rate']\n",
    "LR_df['landing_rate','mean']\n",
    "\n",
    "\n",
    "## AVG LANDING RATE PLOT\n",
    "fig = plt.figure()\n",
    "ax = fig.add_subplot(111,projection=\"3d\")\n",
    "ax.plot_trisurf(LR_df['vx_d'],LR_df['vz_d'],LR_df['landing_rate','mean'],cmap=cm.jet)\n",
    "\n",
    "ax.set_xlabel('vx_d')\n",
    "ax.set_ylabel('vz_d')\n",
    "ax.set_zlabel('Avg LR %')\n",
    "ax.set_title('Average Landing Rate for Final Two Episodes')\n",
    "\n",
    "\n",
    "\n",
    "ax.yaxis.set_ticks(np.arange(1.5,4.0,0.5))\n",
    "fig.tight_layout()\n",
    "plt.show()\n",
    "\n",
    "## Disregard any data Vz_d < 2.5"
   ]
  },
  {
   "cell_type": "code",
   "execution_count": 28,
   "metadata": {},
   "outputs": [
    {
     "output_type": "display_data",
     "data": {
      "text/plain": "Canvas(toolbar=Toolbar(toolitems=[('Home', 'Reset original view', 'home', 'home'), ('Back', 'Back to previous …",
      "application/vnd.jupyter.widget-view+json": {
       "version_major": 2,
       "version_minor": 0,
       "model_id": "6efe60f8f0b8460aab0287792edfa36d"
      }
     },
     "metadata": {}
    }
   ],
   "source": [
    "## LANDING RATE PER TRIAL\n",
    "\n",
    "fig = plt.figure()\n",
    "ax = fig.add_subplot(111,projection=\"3d\")\n",
    "ax.scatter(policy_df['vx_d'],policy_df['vz_d'],policy_df['landing_rate'])\n",
    "\n",
    "ax.set_title('Landing Rate per Trial (Raw)')\n",
    "ax.set_xlabel('vx_d')\n",
    "ax.set_ylabel('vz_d')\n",
    "ax.set_zlabel('LR %')\n",
    "\n",
    "ax.yaxis.set_ticks(np.arange(1.5,4.0,0.5))\n",
    "plt.show()\n"
   ]
  },
  {
   "cell_type": "code",
   "execution_count": 29,
   "metadata": {},
   "outputs": [],
   "source": [
    "## DROP VZ_D < 2.5 M/S\n",
    "policy_df = policy_df[ policy_df['vz_d'] >= 2.5]                # Only keep rows w/ vz_d >= 2.5 m/s\n",
    "policy_avg_df = policy_avg_df[ policy_avg_df['vz_d'] >= 2.5]    # Only keep rows w/ vz_d >= 2.5 m/s\n",
    "\n",
    "# policy_avg_df"
   ]
  },
  {
   "source": [
    "# RREV Data"
   ],
   "cell_type": "markdown",
   "metadata": {}
  },
  {
   "cell_type": "code",
   "execution_count": 39,
   "metadata": {},
   "outputs": [
    {
     "output_type": "display_data",
     "data": {
      "text/plain": "Canvas(toolbar=Toolbar(toolitems=[('Home', 'Reset original view', 'home', 'home'), ('Back', 'Back to previous …",
      "application/vnd.jupyter.widget-view+json": {
       "version_major": 2,
       "version_minor": 0,
       "model_id": "2bac00fadebe4b0595db6b43214af3a1"
      }
     },
     "metadata": {}
    }
   ],
   "source": [
    "## RREV_TRIGGER DATA\n",
    "RREV_df = policy_avg_df[['vz_d','vx_d','RREV_trigger']]\n",
    "RREV_df\n",
    "\n",
    "## AVG RREV_TRIGGER PLOT\n",
    "fig = plt.figure()\n",
    "ax = fig.add_subplot(111,projection=\"3d\")\n",
    "ax.scatter(RREV_df['vx_d'],RREV_df['vz_d'],RREV_df['RREV_trigger','mean'],color='red')\n",
    "\n",
    "\n",
    "ax.set_title('Avg RREV_trigger per Trial')\n",
    "ax.set_xlabel('vx_d')\n",
    "ax.set_ylabel('vz_d')\n",
    "ax.set_zlabel('RREV')\n",
    "\n",
    "ax.yaxis.set_ticks(np.arange(2.5,4.0,0.5))\n",
    "plt.show()\n",
    "\n"
   ]
  },
  {
   "cell_type": "code",
   "execution_count": 43,
   "metadata": {},
   "outputs": [
    {
     "output_type": "display_data",
     "data": {
      "text/plain": "Canvas(toolbar=Toolbar(toolitems=[('Home', 'Reset original view', 'home', 'home'), ('Back', 'Back to previous …",
      "application/vnd.jupyter.widget-view+json": {
       "version_major": 2,
       "version_minor": 0,
       "model_id": "8ea715dc28fc445f8c1f39a2736e223d"
      }
     },
     "metadata": {}
    }
   ],
   "source": [
    "fig = plt.figure()\n",
    "ax = fig.add_subplot(111,projection=\"3d\")\n",
    "ax.scatter(policy_df['vx_d'],policy_df['vz_d'],policy_df['RREV_trigger'])\n",
    "\n",
    "ax.set_title('RREV_trigger per Trial (Raw)')\n",
    "ax.set_xlabel('vx_d')\n",
    "ax.set_ylabel('vz_d')\n",
    "ax.set_zlabel('RREV')\n",
    "\n",
    "ax.yaxis.set_ticks(np.arange(2.5,4.0,0.5))\n",
    "plt.show()"
   ]
  },
  {
   "source": [
    "# G1 Data"
   ],
   "cell_type": "markdown",
   "metadata": {}
  },
  {
   "cell_type": "code",
   "execution_count": 50,
   "metadata": {},
   "outputs": [
    {
     "output_type": "display_data",
     "data": {
      "text/plain": "Canvas(toolbar=Toolbar(toolitems=[('Home', 'Reset original view', 'home', 'home'), ('Back', 'Back to previous …",
      "application/vnd.jupyter.widget-view+json": {
       "version_major": 2,
       "version_minor": 0,
       "model_id": "83d864ef794c4c68832e09ca13e6a0c4"
      }
     },
     "metadata": {}
    }
   ],
   "source": [
    "## G1 AVG DATA\n",
    "G1_df = policy_avg_df[['vz_d','vx_d','G1']]\n",
    "G1_df\n",
    "\n",
    "\n",
    "fig = plt.figure()\n",
    "ax = fig.add_subplot(111,projection=\"3d\")\n",
    "ax.scatter(G1_df['vx_d'],G1_df['vz_d'],G1_df['G1','mean'],color='red')\n",
    "ax.set_title('G1 per Trial (Avg)')\n",
    "ax.set_xlabel('vx_d')\n",
    "ax.set_ylabel('vz_d')\n",
    "ax.set_zlabel('G1')\n",
    "\n",
    "ax.yaxis.set_ticks(np.arange(2.5,4.0,0.5))\n",
    "plt.show()\n",
    "\n"
   ]
  },
  {
   "cell_type": "code",
   "execution_count": 54,
   "metadata": {},
   "outputs": [
    {
     "output_type": "display_data",
     "data": {
      "text/plain": "Canvas(toolbar=Toolbar(toolitems=[('Home', 'Reset original view', 'home', 'home'), ('Back', 'Back to previous …",
      "application/vnd.jupyter.widget-view+json": {
       "version_major": 2,
       "version_minor": 0,
       "model_id": "18442d3a732942bcbfc1818413b1ee57"
      }
     },
     "metadata": {}
    }
   ],
   "source": [
    "fig = plt.figure()\n",
    "ax = fig.add_subplot(111,projection=\"3d\")\n",
    "ax.scatter(policy_df['vx_d'],policy_df['vz_d'],policy_df['G1'])\n",
    "\n",
    "ax.set_title('G1 per Trial (Raw)')\n",
    "ax.set_xlabel('vx_d')\n",
    "ax.set_ylabel('vz_d')\n",
    "ax.set_zlabel('G1')\n",
    "\n",
    "ax.yaxis.set_ticks(np.arange(2.5,4.0,0.5))\n",
    "plt.show()"
   ]
  },
  {
   "source": [
    "# G2 Data"
   ],
   "cell_type": "markdown",
   "metadata": {}
  },
  {
   "cell_type": "code",
   "execution_count": 52,
   "metadata": {},
   "outputs": [
    {
     "output_type": "display_data",
     "data": {
      "text/plain": "Canvas(toolbar=Toolbar(toolitems=[('Home', 'Reset original view', 'home', 'home'), ('Back', 'Back to previous …",
      "application/vnd.jupyter.widget-view+json": {
       "version_major": 2,
       "version_minor": 0,
       "model_id": "2652d4adec4346aebfff4061a69d8673"
      }
     },
     "metadata": {}
    }
   ],
   "source": [
    "## G2 AVG DATA\n",
    "G2_df = policy_avg_df[['vz_d','vx_d','G2']]\n",
    "G2_df\n",
    "\n",
    "\n",
    "fig = plt.figure()\n",
    "ax = fig.add_subplot(111,projection=\"3d\")\n",
    "ax.scatter(G2_df['vx_d'],G2_df['vz_d'],G2_df['G2','mean'],color='red')\n",
    "ax.set_title('G2 per Trial (Avg)')\n",
    "ax.set_xlabel('vx_d')\n",
    "ax.set_ylabel('vz_d')\n",
    "ax.set_zlabel('G2')\n",
    "\n",
    "ax.yaxis.set_ticks(np.arange(2.5,4.0,0.5))\n",
    "plt.show()\n"
   ]
  },
  {
   "cell_type": "code",
   "execution_count": 56,
   "metadata": {},
   "outputs": [
    {
     "output_type": "display_data",
     "data": {
      "text/plain": "Canvas(toolbar=Toolbar(toolitems=[('Home', 'Reset original view', 'home', 'home'), ('Back', 'Back to previous …",
      "application/vnd.jupyter.widget-view+json": {
       "version_major": 2,
       "version_minor": 0,
       "model_id": "73a082b7155e448fa3754826e8d5ac40"
      }
     },
     "metadata": {}
    }
   ],
   "source": [
    "fig = plt.figure()\n",
    "ax = fig.add_subplot(111,projection=\"3d\")\n",
    "ax.scatter(policy_df['vx_d'],policy_df['vz_d'],policy_df['G2'])\n",
    "\n",
    "ax.set_title('G2 per Trial (Raw)')\n",
    "ax.set_xlabel('vx_d')\n",
    "ax.set_ylabel('vz_d')\n",
    "ax.set_zlabel('G2')\n",
    "\n",
    "ax.yaxis.set_ticks(np.arange(2.5,4.0,0.5))\n",
    "plt.show()"
   ]
  },
  {
   "cell_type": "code",
   "execution_count": null,
   "metadata": {},
   "outputs": [],
   "source": []
  }
 ]
}