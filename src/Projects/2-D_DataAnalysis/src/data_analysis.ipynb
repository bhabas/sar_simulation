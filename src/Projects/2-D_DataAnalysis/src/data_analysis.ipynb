{
 "metadata": {
  "language_info": {
   "codemirror_mode": {
    "name": "ipython",
    "version": 3
   },
   "file_extension": ".py",
   "mimetype": "text/x-python",
   "name": "python",
   "nbconvert_exporter": "python",
   "pygments_lexer": "ipython3",
   "version": "3.8.5-final"
  },
  "orig_nbformat": 2,
  "kernelspec": {
   "name": "python38564bit0282941c0ba945238a13db8c20574d9c",
   "display_name": "Python 3.8.5 64-bit",
   "language": "python"
  }
 },
 "nbformat": 4,
 "nbformat_minor": 2,
 "cells": [
  {
   "cell_type": "code",
   "execution_count": 1,
   "metadata": {},
   "outputs": [],
   "source": [
    "import pandas as pd\n",
    "import numpy as np\n",
    "import os,time,fnmatch"
   ]
  },
  {
   "cell_type": "code",
   "execution_count": 2,
   "metadata": {},
   "outputs": [],
   "source": [
    "import sys\n",
    "sys.path.insert(0,'/home/bhabas/catkin_ws/src/crazyflie_simulation/src/crazyflie_gazebo_sim/src/utility')\n",
    "from data_analysis import DataFile\n",
    "dataPath = '/home/bhabas/catkin_ws/src/crazyflie_simulation/local_files/data/'"
   ]
  },
  {
   "cell_type": "code",
   "execution_count": 3,
   "metadata": {},
   "outputs": [],
   "source": [
    "## ITERATE OVER ALL COMBINATIONS\n",
    "temp_list = []\n",
    "for vz_d in np.arange(1.5,4.0,0.5): # [1.5,3.5]\n",
    "    for vx_d in np.arange(0,3.5,0.5):   # [0,3.0]\n",
    "        # print(f\"{vz_d}|{vx_d}\")\n",
    "        temp_list.append([vz_d,vx_d])\n",
    "test_arr = np.asarray(temp_list)"
   ]
  },
  {
   "source": [
    "d = []\n",
    "for vz_d,vx_d in test_arr:\n",
    "    for file in os.listdir(dataPath):\n",
    "        csv = os.path.join(dataPath,file)\n",
    "        if fnmatch.fnmatch(file,f\"Vz_{vz_d}--Vx_{vx_d}--trial_*.csv\"):\n",
    "\n",
    "            trial = DataFile(csv)\n",
    "            trial_num = file[-5]\n",
    "\n",
    "            landing_rate = trial.landing_rate()\n",
    "            policy,_ = trial.grab_finalPolicy()\n",
    "            RREV_trig,G1,G2 = policy\n",
    "\n",
    "            d.append( (vz_d,vx_d,trial_num,landing_rate,RREV_trig,G1,G2))\n",
    "\n",
    "policy_df = pd.DataFrame(d, columns=('vz_d','vx_d','trial_num','landing_rate','RREV_trigger','G1','G2'))"
   ],
   "cell_type": "code",
   "metadata": {},
   "execution_count": 4,
   "outputs": []
  },
  {
   "cell_type": "code",
   "execution_count": 5,
   "metadata": {},
   "outputs": [],
   "source": [
    "import matplotlib.pyplot as plt\n",
    "from mpl_toolkits import mplot3d\n",
    "%matplotlib widget\n"
   ]
  },
  {
   "cell_type": "code",
   "execution_count": 6,
   "metadata": {},
   "outputs": [
    {
     "output_type": "display_data",
     "data": {
      "text/plain": "Canvas(toolbar=Toolbar(toolitems=[('Home', 'Reset original view', 'home', 'home'), ('Back', 'Back to previous …",
      "application/vnd.jupyter.widget-view+json": {
       "version_major": 2,
       "version_minor": 0,
       "model_id": "98d498cf50e84fc48ddd92796997c0b7"
      }
     },
     "metadata": {}
    }
   ],
   "source": [
    "fig = plt.figure()\n",
    "ax = fig.add_subplot(111,projection=\"3d\")\n",
    "ax.scatter(policy_df['vz_d'],policy_df['vx_d'],policy_df['RREV_trigger'])\n",
    "\n",
    "ax.set_xlabel('vz_d')\n",
    "ax.set_ylabel('vx_d')\n",
    "ax.set_zlabel('RREV')\n",
    "\n",
    "ax.xaxis.set_ticks(np.arange(1.5,4.0,0.5))\n",
    "plt.show()"
   ]
  },
  {
   "cell_type": "code",
   "execution_count": 7,
   "metadata": {},
   "outputs": [
    {
     "output_type": "display_data",
     "data": {
      "text/plain": "Canvas(toolbar=Toolbar(toolitems=[('Home', 'Reset original view', 'home', 'home'), ('Back', 'Back to previous …",
      "application/vnd.jupyter.widget-view+json": {
       "version_major": 2,
       "version_minor": 0,
       "model_id": "2ec8c96a2f4041dcb0638b71985f9af9"
      }
     },
     "metadata": {}
    }
   ],
   "source": [
    "fig = plt.figure()\n",
    "ax = fig.add_subplot(111,projection=\"3d\")\n",
    "ax.scatter(policy_df['vz_d'],policy_df['vx_d'],policy_df['G2'])\n",
    "\n",
    "ax.set_xlabel('vz_d')\n",
    "ax.set_ylabel('vx_d')\n",
    "ax.set_zlabel('G2')\n",
    "\n",
    "ax.xaxis.set_ticks(np.arange(1.5,4.0,0.5))\n",
    "plt.show()"
   ]
  },
  {
   "cell_type": "code",
   "execution_count": 29,
   "metadata": {},
   "outputs": [
    {
     "output_type": "display_data",
     "data": {
      "text/plain": "Canvas(toolbar=Toolbar(toolitems=[('Home', 'Reset original view', 'home', 'home'), ('Back', 'Back to previous …",
      "application/vnd.jupyter.widget-view+json": {
       "version_major": 2,
       "version_minor": 0,
       "model_id": "4172f206f0cc4c67b00549c73d85d951"
      }
     },
     "metadata": {}
    }
   ],
   "source": [
    "## Landing Rate Plot\n",
    "from matplotlib import cm\n",
    "\n",
    "grouped = policy_df.groupby(['vz_d','vx_d'])['landing_rate'].mean().reset_index()\n",
    "\n",
    "fig = plt.figure()\n",
    "ax = fig.add_subplot(111,projection=\"3d\")\n",
    "ax.plot_trisurf(grouped['vz_d'],grouped['vx_d'],grouped['landing_rate'],cmap=cm.jet)\n",
    "ax.set_xlabel('vz_d')\n",
    "ax.set_ylabel('vx_d')\n",
    "ax.set_zlabel('LR')\n",
    "ax.set_title('Average Landing Rate for Final Two Episodes')\n",
    "\n",
    "ax.xaxis.set_ticks(np.arange(1.5,4.0,0.5))\n",
    "plt.show()"
   ]
  },
  {
   "cell_type": "code",
   "execution_count": null,
   "metadata": {},
   "outputs": [],
   "source": []
  }
 ]
}