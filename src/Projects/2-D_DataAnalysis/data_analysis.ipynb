{
 "metadata": {
  "language_info": {
   "codemirror_mode": {
    "name": "ipython",
    "version": 3
   },
   "file_extension": ".py",
   "mimetype": "text/x-python",
   "name": "python",
   "nbconvert_exporter": "python",
   "pygments_lexer": "ipython3",
   "version": "3.8.5-final"
  },
  "orig_nbformat": 2,
  "kernelspec": {
   "name": "python38564bit0282941c0ba945238a13db8c20574d9c",
   "display_name": "Python 3.8.5 64-bit",
   "language": "python"
  }
 },
 "nbformat": 4,
 "nbformat_minor": 2,
 "cells": [
  {
   "cell_type": "code",
   "execution_count": 12,
   "metadata": {},
   "outputs": [
    {
     "output_type": "execute_result",
     "data": {
      "text/plain": [
       "'/home/bhabas/catkin_ws/src/crazyflie_simulation/src/Projects/2-D_DataAnalysis'"
      ]
     },
     "metadata": {},
     "execution_count": 12
    }
   ],
   "source": [
    "import pandas as pd\n",
    "import numpy as np\n",
    "import matplotlib.pyplot as plt\n",
    "\n",
    "from pathlib import Path\n",
    "import os,time\n",
    "\n",
    "os.getcwd()\n"
   ]
  },
  {
   "cell_type": "code",
   "execution_count": 14,
   "metadata": {},
   "outputs": [
    {
     "output_type": "error",
     "ename": "ModuleNotFoundError",
     "evalue": "No module named 'data_analysis'",
     "traceback": [
      "\u001b[0;31m---------------------------------------------------------------------------\u001b[0m",
      "\u001b[0;31mModuleNotFoundError\u001b[0m                       Traceback (most recent call last)",
      "\u001b[0;32m<ipython-input-14-f797e40cc062>\u001b[0m in \u001b[0;36m<module>\u001b[0;34m\u001b[0m\n\u001b[1;32m      2\u001b[0m \u001b[0msys\u001b[0m\u001b[0;34m.\u001b[0m\u001b[0mpath\u001b[0m\u001b[0;34m.\u001b[0m\u001b[0minsert\u001b[0m\u001b[0;34m(\u001b[0m\u001b[0;36m0\u001b[0m\u001b[0;34m,\u001b[0m\u001b[0;34m'~/catkin_ws/src/crazyflie_simulation/src/crazyflie_gazebo_sim/src/utility/'\u001b[0m\u001b[0;34m)\u001b[0m\u001b[0;34m\u001b[0m\u001b[0;34m\u001b[0m\u001b[0m\n\u001b[1;32m      3\u001b[0m \u001b[0;34m\u001b[0m\u001b[0m\n\u001b[0;32m----> 4\u001b[0;31m \u001b[0;32mfrom\u001b[0m \u001b[0mdata_analysis\u001b[0m \u001b[0;32mimport\u001b[0m \u001b[0mDataFile\u001b[0m\u001b[0;34m\u001b[0m\u001b[0;34m\u001b[0m\u001b[0m\n\u001b[0m",
      "\u001b[0;31mModuleNotFoundError\u001b[0m: No module named 'data_analysis'"
     ]
    }
   ],
   "source": [
    "import sys\n",
    "sys.path.insert(0,'/home/bhabas/catkin_ws/src/crazyflie_simulation/src/crazyflie_gazebo_sim/src/utility')\n",
    "\n",
    "from data_analysis import DataFile"
   ]
  },
  {
   "cell_type": "code",
   "execution_count": 9,
   "metadata": {},
   "outputs": [
    {
     "output_type": "stream",
     "name": "stdout",
     "text": [
      "Vz_3.5--Vx_0.0--trial_2.csv\nVz_3.5--Vx_1.5--trial_2.csv\nVz_3.0--Vx_0.5--trial_0.csv\nVz_3.5--Vx_0.0--trial_1.csv\nVz_3.5--Vx_2.5--trial_0.csv\nVz_3.0--Vx_0.0--trial_1.csv\nVz_3.5--Vx_2.5--trial_1.csv\nVz_3.5--Vx_0.5--trial_1.csv\nVz_3.5--Vx_2.5--trial_2.csv\nVz_3.5--Vx_3.0--trial_2.csv\nVz_3.5--Vx_2.0--trial_2.csv\nVz_3.5--Vx_2.0--trial_1.csv\nVz_3.5--Vx_0.5--trial_2.csv\nVz_3.5--Vx_3.0--trial_1.csv\nVz_3.0--Vx_1.0--trial_1.csv\nVz_3.5--Vx_1.5--trial_0.csv\nVz_3.0--Vx_0.5--trial_2.csv\nVz_3.0--Vx_0.0--trial_2.csv\nVz_3.0--Vx_0.0--trial_0.csv\nVz_3.5--Vx_1.0--trial_0.csv\nVz_3.5--Vx_1.5--trial_1.csv\nVz_3.5--Vx_1.0--trial_2.csv\nVz_3.5--Vx_2.0--trial_0.csv\nVz_3.0--Vx_1.0--trial_0.csv\nVz_3.5--Vx_0.5--trial_0.csv\nVz_3.5--Vx_3.0--trial_0.csv\nVz_3.0--Vx_1.0--trial_2.csv\nVz_3.0--Vx_0.5--trial_1.csv\nVz_3.5--Vx_1.0--trial_1.csv\nVz_3.0--Vx_1.5--trial_0.csv\nVz_3.5--Vx_0.0--trial_0.csv\n"
     ]
    }
   ],
   "source": [
    "entries = Path('./data')\n",
    "for entry in entries.iterdir():\n",
    "    print(entry.name)"
   ]
  },
  {
   "cell_type": "code",
   "execution_count": 6,
   "metadata": {},
   "outputs": [
    {
     "output_type": "execute_result",
     "data": {
      "text/plain": [
       "'/home/bhabas/catkin_ws/src/crazyflie_simulation/src/Projects/2-D_DataAnalysis'"
      ]
     },
     "metadata": {},
     "execution_count": 6
    }
   ],
   "source": []
  },
  {
   "cell_type": "code",
   "execution_count": null,
   "metadata": {},
   "outputs": [],
   "source": []
  }
 ]
}