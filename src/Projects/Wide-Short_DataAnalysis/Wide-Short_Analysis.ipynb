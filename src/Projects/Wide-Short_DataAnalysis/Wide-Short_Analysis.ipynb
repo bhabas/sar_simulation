{
 "metadata": {
  "language_info": {
   "codemirror_mode": {
    "name": "ipython",
    "version": 3
   },
   "file_extension": ".py",
   "mimetype": "text/x-python",
   "name": "python",
   "nbconvert_exporter": "python",
   "pygments_lexer": "ipython3",
   "version": "3.8.5-final"
  },
  "orig_nbformat": 2,
  "kernelspec": {
   "name": "python38564bit0282941c0ba945238a13db8c20574d9c",
   "display_name": "Python 3.8.5 64-bit",
   "language": "python"
  }
 },
 "nbformat": 4,
 "nbformat_minor": 2,
 "cells": [
  {
   "cell_type": "code",
   "execution_count": 5,
   "metadata": {},
   "outputs": [],
   "source": [
    "## IMPORT MODULES\n",
    "import pandas as pd\n",
    "import numpy as np"
   ]
  },
  {
   "cell_type": "code",
   "execution_count": 6,
   "metadata": {},
   "outputs": [],
   "source": [
    "## IMPORT PLOTTING MODULES\n",
    "import matplotlib.pyplot as plt\n",
    "from mpl_toolkits import mplot3d\n",
    "import matplotlib as mpl\n",
    "from matplotlib import cm\n",
    "%matplotlib widget"
   ]
  },
  {
   "cell_type": "code",
   "execution_count": 7,
   "metadata": {},
   "outputs": [
    {
     "output_type": "execute_result",
     "data": {
      "text/plain": [
       "    vz_d  vx_d trial_num           landing_rate           RREV_threshold  \\\n",
       "                    mean       std         mean       std           mean   \n",
       "0    1.5  0.00  2.500000  1.783765     0.047222  0.143870       5.731667   \n",
       "1    1.5  0.25  2.454545  1.863525     0.010659  0.018457       7.750000   \n",
       "2    1.5  0.50  2.454545  1.863525     0.081818  0.271360       6.201818   \n",
       "3    1.5  0.75  2.500000  1.783765     0.000000  0.000000       6.175833   \n",
       "4    1.5  1.00  2.363636  1.804036     0.087478  0.131095       5.539091   \n",
       "..   ...   ...       ...       ...          ...       ...            ...   \n",
       "125  4.0  1.75  2.600000  2.073644     0.672464  0.103555       3.982000   \n",
       "126  4.0  2.00  2.333333  2.516611     0.675151  0.139187       4.530000   \n",
       "127  4.0  2.25  2.000000  1.581139     0.583448  0.123526       4.094000   \n",
       "128  4.0  2.50  3.333333  1.527525     0.855172  0.138318       4.253333   \n",
       "129  4.0  2.75  3.666667  1.527525     0.729502  0.148059       4.210000   \n",
       "\n",
       "                     G1            ...    G2_sig           RREV_trigger  \\\n",
       "          std      mean       std  ...      mean       std         mean   \n",
       "0    4.102391  6.219167  3.557071  ...  0.225833  0.363580     5.079083   \n",
       "1    4.523432  5.430909  2.374441  ...  0.250909  0.175867     5.881000   \n",
       "2    3.161913  5.874545  3.947446  ...  0.142727  0.246134     5.070778   \n",
       "3    4.296065  7.807500  2.512308  ...  0.066667  0.090185          NaN   \n",
       "4    1.586464  7.253636  2.250686  ...  0.105455  0.099233     5.201222   \n",
       "..        ...       ...       ...  ...       ...       ...          ...   \n",
       "125  0.310757  6.418000  2.666837  ...  0.194000  0.339823     4.348895   \n",
       "126  0.679779  8.966667  2.413490  ...  0.016667  0.011547     4.938895   \n",
       "127  0.147919  5.198000  2.603665  ...  0.074000  0.074364     4.387886   \n",
       "128  0.335460  9.290000  2.240246  ...  0.056667  0.056862     4.753791   \n",
       "129  0.321870  5.636667  1.836146  ...  0.193333  0.274651     4.597619   \n",
       "\n",
       "                   OF_y                My_d            impact_eul             \n",
       "          std      mean       std      mean       std        mean        std  \n",
       "0    0.350136  0.000000  0.000000 -7.522167  6.765362  -36.893725  69.640284  \n",
       "1    0.589811 -0.840000  0.126444 -4.082000  0.988870  -70.896054  11.608815  \n",
       "2         NaN -1.353333       NaN -5.940333       NaN  -91.307558        NaN  \n",
       "3         NaN       NaN       NaN       NaN       NaN         NaN        NaN  \n",
       "4    0.429830 -2.922700  0.371288 -5.371650  2.515252 -123.645518  24.251679  \n",
       "..        ...       ...       ...       ...       ...         ...        ...  \n",
       "125  0.370183 -1.812336  0.153474 -2.453699  1.461116 -130.816151  14.258673  \n",
       "126  0.685269 -2.349903  0.325118 -4.049552  2.042013 -130.034360  10.626587  \n",
       "127  0.156714 -2.352070  0.084677 -1.656082  0.910630 -106.961044  26.088351  \n",
       "128  0.491372 -2.829723  0.289414 -3.453601  1.409934 -137.546452   6.152924  \n",
       "129  0.409054 -3.007723  0.273027 -1.957654  0.894234 -105.372723  10.612725  \n",
       "\n",
       "[130 rows x 26 columns]"
      ],
      "text/html": "<div>\n<style scoped>\n    .dataframe tbody tr th:only-of-type {\n        vertical-align: middle;\n    }\n\n    .dataframe tbody tr th {\n        vertical-align: top;\n    }\n\n    .dataframe thead tr th {\n        text-align: left;\n    }\n</style>\n<table border=\"1\" class=\"dataframe\">\n  <thead>\n    <tr>\n      <th></th>\n      <th>vz_d</th>\n      <th>vx_d</th>\n      <th colspan=\"2\" halign=\"left\">trial_num</th>\n      <th colspan=\"2\" halign=\"left\">landing_rate</th>\n      <th colspan=\"2\" halign=\"left\">RREV_threshold</th>\n      <th colspan=\"2\" halign=\"left\">G1</th>\n      <th>...</th>\n      <th colspan=\"2\" halign=\"left\">G2_sig</th>\n      <th colspan=\"2\" halign=\"left\">RREV_trigger</th>\n      <th colspan=\"2\" halign=\"left\">OF_y</th>\n      <th colspan=\"2\" halign=\"left\">My_d</th>\n      <th colspan=\"2\" halign=\"left\">impact_eul</th>\n    </tr>\n    <tr>\n      <th></th>\n      <th></th>\n      <th></th>\n      <th>mean</th>\n      <th>std</th>\n      <th>mean</th>\n      <th>std</th>\n      <th>mean</th>\n      <th>std</th>\n      <th>mean</th>\n      <th>std</th>\n      <th>...</th>\n      <th>mean</th>\n      <th>std</th>\n      <th>mean</th>\n      <th>std</th>\n      <th>mean</th>\n      <th>std</th>\n      <th>mean</th>\n      <th>std</th>\n      <th>mean</th>\n      <th>std</th>\n    </tr>\n  </thead>\n  <tbody>\n    <tr>\n      <th>0</th>\n      <td>1.5</td>\n      <td>0.00</td>\n      <td>2.500000</td>\n      <td>1.783765</td>\n      <td>0.047222</td>\n      <td>0.143870</td>\n      <td>5.731667</td>\n      <td>4.102391</td>\n      <td>6.219167</td>\n      <td>3.557071</td>\n      <td>...</td>\n      <td>0.225833</td>\n      <td>0.363580</td>\n      <td>5.079083</td>\n      <td>0.350136</td>\n      <td>0.000000</td>\n      <td>0.000000</td>\n      <td>-7.522167</td>\n      <td>6.765362</td>\n      <td>-36.893725</td>\n      <td>69.640284</td>\n    </tr>\n    <tr>\n      <th>1</th>\n      <td>1.5</td>\n      <td>0.25</td>\n      <td>2.454545</td>\n      <td>1.863525</td>\n      <td>0.010659</td>\n      <td>0.018457</td>\n      <td>7.750000</td>\n      <td>4.523432</td>\n      <td>5.430909</td>\n      <td>2.374441</td>\n      <td>...</td>\n      <td>0.250909</td>\n      <td>0.175867</td>\n      <td>5.881000</td>\n      <td>0.589811</td>\n      <td>-0.840000</td>\n      <td>0.126444</td>\n      <td>-4.082000</td>\n      <td>0.988870</td>\n      <td>-70.896054</td>\n      <td>11.608815</td>\n    </tr>\n    <tr>\n      <th>2</th>\n      <td>1.5</td>\n      <td>0.50</td>\n      <td>2.454545</td>\n      <td>1.863525</td>\n      <td>0.081818</td>\n      <td>0.271360</td>\n      <td>6.201818</td>\n      <td>3.161913</td>\n      <td>5.874545</td>\n      <td>3.947446</td>\n      <td>...</td>\n      <td>0.142727</td>\n      <td>0.246134</td>\n      <td>5.070778</td>\n      <td>NaN</td>\n      <td>-1.353333</td>\n      <td>NaN</td>\n      <td>-5.940333</td>\n      <td>NaN</td>\n      <td>-91.307558</td>\n      <td>NaN</td>\n    </tr>\n    <tr>\n      <th>3</th>\n      <td>1.5</td>\n      <td>0.75</td>\n      <td>2.500000</td>\n      <td>1.783765</td>\n      <td>0.000000</td>\n      <td>0.000000</td>\n      <td>6.175833</td>\n      <td>4.296065</td>\n      <td>7.807500</td>\n      <td>2.512308</td>\n      <td>...</td>\n      <td>0.066667</td>\n      <td>0.090185</td>\n      <td>NaN</td>\n      <td>NaN</td>\n      <td>NaN</td>\n      <td>NaN</td>\n      <td>NaN</td>\n      <td>NaN</td>\n      <td>NaN</td>\n      <td>NaN</td>\n    </tr>\n    <tr>\n      <th>4</th>\n      <td>1.5</td>\n      <td>1.00</td>\n      <td>2.363636</td>\n      <td>1.804036</td>\n      <td>0.087478</td>\n      <td>0.131095</td>\n      <td>5.539091</td>\n      <td>1.586464</td>\n      <td>7.253636</td>\n      <td>2.250686</td>\n      <td>...</td>\n      <td>0.105455</td>\n      <td>0.099233</td>\n      <td>5.201222</td>\n      <td>0.429830</td>\n      <td>-2.922700</td>\n      <td>0.371288</td>\n      <td>-5.371650</td>\n      <td>2.515252</td>\n      <td>-123.645518</td>\n      <td>24.251679</td>\n    </tr>\n    <tr>\n      <th>...</th>\n      <td>...</td>\n      <td>...</td>\n      <td>...</td>\n      <td>...</td>\n      <td>...</td>\n      <td>...</td>\n      <td>...</td>\n      <td>...</td>\n      <td>...</td>\n      <td>...</td>\n      <td>...</td>\n      <td>...</td>\n      <td>...</td>\n      <td>...</td>\n      <td>...</td>\n      <td>...</td>\n      <td>...</td>\n      <td>...</td>\n      <td>...</td>\n      <td>...</td>\n      <td>...</td>\n    </tr>\n    <tr>\n      <th>125</th>\n      <td>4.0</td>\n      <td>1.75</td>\n      <td>2.600000</td>\n      <td>2.073644</td>\n      <td>0.672464</td>\n      <td>0.103555</td>\n      <td>3.982000</td>\n      <td>0.310757</td>\n      <td>6.418000</td>\n      <td>2.666837</td>\n      <td>...</td>\n      <td>0.194000</td>\n      <td>0.339823</td>\n      <td>4.348895</td>\n      <td>0.370183</td>\n      <td>-1.812336</td>\n      <td>0.153474</td>\n      <td>-2.453699</td>\n      <td>1.461116</td>\n      <td>-130.816151</td>\n      <td>14.258673</td>\n    </tr>\n    <tr>\n      <th>126</th>\n      <td>4.0</td>\n      <td>2.00</td>\n      <td>2.333333</td>\n      <td>2.516611</td>\n      <td>0.675151</td>\n      <td>0.139187</td>\n      <td>4.530000</td>\n      <td>0.679779</td>\n      <td>8.966667</td>\n      <td>2.413490</td>\n      <td>...</td>\n      <td>0.016667</td>\n      <td>0.011547</td>\n      <td>4.938895</td>\n      <td>0.685269</td>\n      <td>-2.349903</td>\n      <td>0.325118</td>\n      <td>-4.049552</td>\n      <td>2.042013</td>\n      <td>-130.034360</td>\n      <td>10.626587</td>\n    </tr>\n    <tr>\n      <th>127</th>\n      <td>4.0</td>\n      <td>2.25</td>\n      <td>2.000000</td>\n      <td>1.581139</td>\n      <td>0.583448</td>\n      <td>0.123526</td>\n      <td>4.094000</td>\n      <td>0.147919</td>\n      <td>5.198000</td>\n      <td>2.603665</td>\n      <td>...</td>\n      <td>0.074000</td>\n      <td>0.074364</td>\n      <td>4.387886</td>\n      <td>0.156714</td>\n      <td>-2.352070</td>\n      <td>0.084677</td>\n      <td>-1.656082</td>\n      <td>0.910630</td>\n      <td>-106.961044</td>\n      <td>26.088351</td>\n    </tr>\n    <tr>\n      <th>128</th>\n      <td>4.0</td>\n      <td>2.50</td>\n      <td>3.333333</td>\n      <td>1.527525</td>\n      <td>0.855172</td>\n      <td>0.138318</td>\n      <td>4.253333</td>\n      <td>0.335460</td>\n      <td>9.290000</td>\n      <td>2.240246</td>\n      <td>...</td>\n      <td>0.056667</td>\n      <td>0.056862</td>\n      <td>4.753791</td>\n      <td>0.491372</td>\n      <td>-2.829723</td>\n      <td>0.289414</td>\n      <td>-3.453601</td>\n      <td>1.409934</td>\n      <td>-137.546452</td>\n      <td>6.152924</td>\n    </tr>\n    <tr>\n      <th>129</th>\n      <td>4.0</td>\n      <td>2.75</td>\n      <td>3.666667</td>\n      <td>1.527525</td>\n      <td>0.729502</td>\n      <td>0.148059</td>\n      <td>4.210000</td>\n      <td>0.321870</td>\n      <td>5.636667</td>\n      <td>1.836146</td>\n      <td>...</td>\n      <td>0.193333</td>\n      <td>0.274651</td>\n      <td>4.597619</td>\n      <td>0.409054</td>\n      <td>-3.007723</td>\n      <td>0.273027</td>\n      <td>-1.957654</td>\n      <td>0.894234</td>\n      <td>-105.372723</td>\n      <td>10.612725</td>\n    </tr>\n  </tbody>\n</table>\n<p>130 rows × 26 columns</p>\n</div>"
     },
     "metadata": {},
     "execution_count": 7
    }
   ],
   "source": [
    "df = pd.read_csv(\"Wide-Short_Summary.csv\")\n",
    "df['My_d'] = df['My_d'].apply(lambda x: -1*np.abs(x))\n",
    "df_avg = df.groupby(['vz_d','vx_d']).agg([np.mean,np.std]).reset_index()\n",
    "df_avg"
   ]
  },
  {
   "cell_type": "code",
   "execution_count": 8,
   "metadata": {},
   "outputs": [
    {
     "output_type": "display_data",
     "data": {
      "text/plain": "Canvas(toolbar=Toolbar(toolitems=[('Home', 'Reset original view', 'home', 'home'), ('Back', 'Back to previous …",
      "application/vnd.jupyter.widget-view+json": {
       "version_major": 2,
       "version_minor": 0,
       "model_id": "3803f3017f34493fa29deeb5ef0f27fe"
      }
     },
     "metadata": {}
    }
   ],
   "source": [
    "\n",
    "## AVG LANDING RATE PLOT\n",
    "fig = plt.figure()\n",
    "ax = fig.add_subplot(111,projection=\"3d\")\n",
    "ax.scatter(df['vx_d'],df['vz_d'],df['landing_rate'])\n",
    "\n",
    "ax.set_xlabel('vx_d')\n",
    "ax.set_ylabel('vz_d')\n",
    "ax.set_zlabel('landing rate')\n",
    "\n",
    "plt.show()"
   ]
  },
  {
   "cell_type": "code",
   "execution_count": 24,
   "metadata": {},
   "outputs": [
    {
     "output_type": "execute_result",
     "data": {
      "text/plain": [
       "     vz_d  vx_d  trial_num  landing_rate  RREV_threshold     G1    G2  \\\n",
       "68   1.50  1.50          1           0.0            2.45   5.41  4.62   \n",
       "86   1.50  2.00          3           0.0            3.00   8.68  6.26   \n",
       "87   1.50  2.00          3           0.0           14.29  10.25  5.01   \n",
       "89   1.50  2.00          4           0.0            5.65   7.52  3.96   \n",
       "90   1.50  2.00          5           0.0            2.21   3.66  1.68   \n",
       "94   1.50  2.25          1           0.0            7.40  16.32  3.04   \n",
       "179  1.75  1.75          2           0.0            6.01   0.22  2.39   \n",
       "182  1.75  1.75          5           0.0            1.92   5.67  4.88   \n",
       "197  1.75  2.25          3           0.0            5.89   7.59  2.37   \n",
       "204  1.75  2.50          2           0.0           10.47  10.61  0.90   \n",
       "208  1.75  2.50          5           0.0           16.81  11.73  1.17   \n",
       "210  1.75  2.75          1           0.0           17.35   0.62  0.82   \n",
       "289  2.00  1.75          0           0.0            7.36  16.33  1.25   \n",
       "379  2.25  1.50          4           0.0            6.54   6.83  5.31   \n",
       "472  2.50  1.50          2           0.0           16.28   6.41  2.01   \n",
       "502  2.50  2.50          1           0.0           13.65   6.44  2.09   \n",
       "586  2.75  2.00          2           0.0            7.55   7.88  3.75   \n",
       "\n",
       "     RREV_sig  G1_sig  G2_sig  RREV_trigger  OF_y  My_d  impact_eul alpha_mu  \\\n",
       "68       0.01    0.00    0.04           NaN   NaN   NaN         NaN  [0. 0.]   \n",
       "86       0.02    0.00    0.06           NaN   NaN   NaN         NaN  [0. 0.]   \n",
       "87       0.34    0.01    0.03           NaN   NaN   NaN         NaN  [0. 0.]   \n",
       "89       0.18    0.04    0.23           NaN   NaN   NaN         NaN  [0. 0.]   \n",
       "90       0.01    0.01    0.05           NaN   NaN   NaN         NaN  [0. 0.]   \n",
       "94       0.27    0.47    0.01           NaN   NaN   NaN         NaN  [0. 0.]   \n",
       "179      0.05    0.00    0.02           NaN   NaN   NaN         NaN  [0. 0.]   \n",
       "182      0.01    0.01    0.22           NaN   NaN   NaN         NaN  [0. 0.]   \n",
       "197      0.02    0.01    0.01           NaN   NaN   NaN         NaN  [0. 0.]   \n",
       "204      0.01    1.02    0.02           NaN   NaN   NaN         NaN  [0. 0.]   \n",
       "208      0.08    0.35    0.04           NaN   NaN   NaN         NaN  [0. 0.]   \n",
       "210      0.05    0.00    0.01           NaN   NaN   NaN         NaN  [0. 0.]   \n",
       "289      0.01    0.02    0.05           NaN   NaN   NaN         NaN  [0. 0.]   \n",
       "379      0.01    0.02    0.08           NaN   NaN   NaN         NaN  [0. 0.]   \n",
       "472      0.06    0.12    0.15           NaN   NaN   NaN         NaN  [0. 0.]   \n",
       "502      0.03    0.15    0.12           NaN   NaN   NaN         NaN  [0. 0.]   \n",
       "586      0.03    0.42    0.58           NaN   NaN   NaN         NaN  [0. 0.]   \n",
       "\n",
       "    alpha_sigma            mu_ini   sigma_ini  \n",
       "68      [0. 0.]  [4.53 4.58 3.4 ]  [2. 2. 2.]  \n",
       "86      [0. 0.]  [2.93 6.49 5.7 ]  [2. 2. 2.]  \n",
       "87      [0. 0.]  [6.41 5.7  4.72]  [2. 2. 2.]  \n",
       "89      [0. 0.]  [4.73 3.31 1.79]  [2. 2. 2.]  \n",
       "90      [0. 0.]  [1.3  3.31 1.1 ]  [2. 2. 2.]  \n",
       "94      [0. 0.]  [6.08 4.94 3.3 ]  [2. 2. 2.]  \n",
       "179     [0. 0.]  [1.69 2.58 1.22]  [2. 2. 2.]  \n",
       "182     [0. 0.]  [1.93 6.09 4.98]  [2. 2. 2.]  \n",
       "197     [0. 0.]  [5.46 6.8  4.3 ]  [2. 2. 2.]  \n",
       "204     [0. 0.]  [3.25 6.02 1.22]  [2. 2. 2.]  \n",
       "208     [0. 0.]  [1.02 6.47 4.17]  [2. 2. 2.]  \n",
       "210     [0. 0.]  [1.18 2.67 1.04]  [2. 2. 2.]  \n",
       "289     [0. 0.]  [3.33 1.84 1.06]  [2. 2. 2.]  \n",
       "379     [0. 0.]  [6.79 4.3  2.  ]  [2. 2. 2.]  \n",
       "472     [0. 0.]  [2.57 5.94 5.65]  [2. 2. 2.]  \n",
       "502     [0. 0.]  [3.4  6.35 2.94]  [2. 2. 2.]  \n",
       "586     [0. 0.]  [2.41 4.81 3.56]  [2. 2. 2.]  "
      ],
      "text/html": "<div>\n<style scoped>\n    .dataframe tbody tr th:only-of-type {\n        vertical-align: middle;\n    }\n\n    .dataframe tbody tr th {\n        vertical-align: top;\n    }\n\n    .dataframe thead th {\n        text-align: right;\n    }\n</style>\n<table border=\"1\" class=\"dataframe\">\n  <thead>\n    <tr style=\"text-align: right;\">\n      <th></th>\n      <th>vz_d</th>\n      <th>vx_d</th>\n      <th>trial_num</th>\n      <th>landing_rate</th>\n      <th>RREV_threshold</th>\n      <th>G1</th>\n      <th>G2</th>\n      <th>RREV_sig</th>\n      <th>G1_sig</th>\n      <th>G2_sig</th>\n      <th>RREV_trigger</th>\n      <th>OF_y</th>\n      <th>My_d</th>\n      <th>impact_eul</th>\n      <th>alpha_mu</th>\n      <th>alpha_sigma</th>\n      <th>mu_ini</th>\n      <th>sigma_ini</th>\n    </tr>\n  </thead>\n  <tbody>\n    <tr>\n      <th>68</th>\n      <td>1.50</td>\n      <td>1.50</td>\n      <td>1</td>\n      <td>0.0</td>\n      <td>2.45</td>\n      <td>5.41</td>\n      <td>4.62</td>\n      <td>0.01</td>\n      <td>0.00</td>\n      <td>0.04</td>\n      <td>NaN</td>\n      <td>NaN</td>\n      <td>NaN</td>\n      <td>NaN</td>\n      <td>[0. 0.]</td>\n      <td>[0. 0.]</td>\n      <td>[4.53 4.58 3.4 ]</td>\n      <td>[2. 2. 2.]</td>\n    </tr>\n    <tr>\n      <th>86</th>\n      <td>1.50</td>\n      <td>2.00</td>\n      <td>3</td>\n      <td>0.0</td>\n      <td>3.00</td>\n      <td>8.68</td>\n      <td>6.26</td>\n      <td>0.02</td>\n      <td>0.00</td>\n      <td>0.06</td>\n      <td>NaN</td>\n      <td>NaN</td>\n      <td>NaN</td>\n      <td>NaN</td>\n      <td>[0. 0.]</td>\n      <td>[0. 0.]</td>\n      <td>[2.93 6.49 5.7 ]</td>\n      <td>[2. 2. 2.]</td>\n    </tr>\n    <tr>\n      <th>87</th>\n      <td>1.50</td>\n      <td>2.00</td>\n      <td>3</td>\n      <td>0.0</td>\n      <td>14.29</td>\n      <td>10.25</td>\n      <td>5.01</td>\n      <td>0.34</td>\n      <td>0.01</td>\n      <td>0.03</td>\n      <td>NaN</td>\n      <td>NaN</td>\n      <td>NaN</td>\n      <td>NaN</td>\n      <td>[0. 0.]</td>\n      <td>[0. 0.]</td>\n      <td>[6.41 5.7  4.72]</td>\n      <td>[2. 2. 2.]</td>\n    </tr>\n    <tr>\n      <th>89</th>\n      <td>1.50</td>\n      <td>2.00</td>\n      <td>4</td>\n      <td>0.0</td>\n      <td>5.65</td>\n      <td>7.52</td>\n      <td>3.96</td>\n      <td>0.18</td>\n      <td>0.04</td>\n      <td>0.23</td>\n      <td>NaN</td>\n      <td>NaN</td>\n      <td>NaN</td>\n      <td>NaN</td>\n      <td>[0. 0.]</td>\n      <td>[0. 0.]</td>\n      <td>[4.73 3.31 1.79]</td>\n      <td>[2. 2. 2.]</td>\n    </tr>\n    <tr>\n      <th>90</th>\n      <td>1.50</td>\n      <td>2.00</td>\n      <td>5</td>\n      <td>0.0</td>\n      <td>2.21</td>\n      <td>3.66</td>\n      <td>1.68</td>\n      <td>0.01</td>\n      <td>0.01</td>\n      <td>0.05</td>\n      <td>NaN</td>\n      <td>NaN</td>\n      <td>NaN</td>\n      <td>NaN</td>\n      <td>[0. 0.]</td>\n      <td>[0. 0.]</td>\n      <td>[1.3  3.31 1.1 ]</td>\n      <td>[2. 2. 2.]</td>\n    </tr>\n    <tr>\n      <th>94</th>\n      <td>1.50</td>\n      <td>2.25</td>\n      <td>1</td>\n      <td>0.0</td>\n      <td>7.40</td>\n      <td>16.32</td>\n      <td>3.04</td>\n      <td>0.27</td>\n      <td>0.47</td>\n      <td>0.01</td>\n      <td>NaN</td>\n      <td>NaN</td>\n      <td>NaN</td>\n      <td>NaN</td>\n      <td>[0. 0.]</td>\n      <td>[0. 0.]</td>\n      <td>[6.08 4.94 3.3 ]</td>\n      <td>[2. 2. 2.]</td>\n    </tr>\n    <tr>\n      <th>179</th>\n      <td>1.75</td>\n      <td>1.75</td>\n      <td>2</td>\n      <td>0.0</td>\n      <td>6.01</td>\n      <td>0.22</td>\n      <td>2.39</td>\n      <td>0.05</td>\n      <td>0.00</td>\n      <td>0.02</td>\n      <td>NaN</td>\n      <td>NaN</td>\n      <td>NaN</td>\n      <td>NaN</td>\n      <td>[0. 0.]</td>\n      <td>[0. 0.]</td>\n      <td>[1.69 2.58 1.22]</td>\n      <td>[2. 2. 2.]</td>\n    </tr>\n    <tr>\n      <th>182</th>\n      <td>1.75</td>\n      <td>1.75</td>\n      <td>5</td>\n      <td>0.0</td>\n      <td>1.92</td>\n      <td>5.67</td>\n      <td>4.88</td>\n      <td>0.01</td>\n      <td>0.01</td>\n      <td>0.22</td>\n      <td>NaN</td>\n      <td>NaN</td>\n      <td>NaN</td>\n      <td>NaN</td>\n      <td>[0. 0.]</td>\n      <td>[0. 0.]</td>\n      <td>[1.93 6.09 4.98]</td>\n      <td>[2. 2. 2.]</td>\n    </tr>\n    <tr>\n      <th>197</th>\n      <td>1.75</td>\n      <td>2.25</td>\n      <td>3</td>\n      <td>0.0</td>\n      <td>5.89</td>\n      <td>7.59</td>\n      <td>2.37</td>\n      <td>0.02</td>\n      <td>0.01</td>\n      <td>0.01</td>\n      <td>NaN</td>\n      <td>NaN</td>\n      <td>NaN</td>\n      <td>NaN</td>\n      <td>[0. 0.]</td>\n      <td>[0. 0.]</td>\n      <td>[5.46 6.8  4.3 ]</td>\n      <td>[2. 2. 2.]</td>\n    </tr>\n    <tr>\n      <th>204</th>\n      <td>1.75</td>\n      <td>2.50</td>\n      <td>2</td>\n      <td>0.0</td>\n      <td>10.47</td>\n      <td>10.61</td>\n      <td>0.90</td>\n      <td>0.01</td>\n      <td>1.02</td>\n      <td>0.02</td>\n      <td>NaN</td>\n      <td>NaN</td>\n      <td>NaN</td>\n      <td>NaN</td>\n      <td>[0. 0.]</td>\n      <td>[0. 0.]</td>\n      <td>[3.25 6.02 1.22]</td>\n      <td>[2. 2. 2.]</td>\n    </tr>\n    <tr>\n      <th>208</th>\n      <td>1.75</td>\n      <td>2.50</td>\n      <td>5</td>\n      <td>0.0</td>\n      <td>16.81</td>\n      <td>11.73</td>\n      <td>1.17</td>\n      <td>0.08</td>\n      <td>0.35</td>\n      <td>0.04</td>\n      <td>NaN</td>\n      <td>NaN</td>\n      <td>NaN</td>\n      <td>NaN</td>\n      <td>[0. 0.]</td>\n      <td>[0. 0.]</td>\n      <td>[1.02 6.47 4.17]</td>\n      <td>[2. 2. 2.]</td>\n    </tr>\n    <tr>\n      <th>210</th>\n      <td>1.75</td>\n      <td>2.75</td>\n      <td>1</td>\n      <td>0.0</td>\n      <td>17.35</td>\n      <td>0.62</td>\n      <td>0.82</td>\n      <td>0.05</td>\n      <td>0.00</td>\n      <td>0.01</td>\n      <td>NaN</td>\n      <td>NaN</td>\n      <td>NaN</td>\n      <td>NaN</td>\n      <td>[0. 0.]</td>\n      <td>[0. 0.]</td>\n      <td>[1.18 2.67 1.04]</td>\n      <td>[2. 2. 2.]</td>\n    </tr>\n    <tr>\n      <th>289</th>\n      <td>2.00</td>\n      <td>1.75</td>\n      <td>0</td>\n      <td>0.0</td>\n      <td>7.36</td>\n      <td>16.33</td>\n      <td>1.25</td>\n      <td>0.01</td>\n      <td>0.02</td>\n      <td>0.05</td>\n      <td>NaN</td>\n      <td>NaN</td>\n      <td>NaN</td>\n      <td>NaN</td>\n      <td>[0. 0.]</td>\n      <td>[0. 0.]</td>\n      <td>[3.33 1.84 1.06]</td>\n      <td>[2. 2. 2.]</td>\n    </tr>\n    <tr>\n      <th>379</th>\n      <td>2.25</td>\n      <td>1.50</td>\n      <td>4</td>\n      <td>0.0</td>\n      <td>6.54</td>\n      <td>6.83</td>\n      <td>5.31</td>\n      <td>0.01</td>\n      <td>0.02</td>\n      <td>0.08</td>\n      <td>NaN</td>\n      <td>NaN</td>\n      <td>NaN</td>\n      <td>NaN</td>\n      <td>[0. 0.]</td>\n      <td>[0. 0.]</td>\n      <td>[6.79 4.3  2.  ]</td>\n      <td>[2. 2. 2.]</td>\n    </tr>\n    <tr>\n      <th>472</th>\n      <td>2.50</td>\n      <td>1.50</td>\n      <td>2</td>\n      <td>0.0</td>\n      <td>16.28</td>\n      <td>6.41</td>\n      <td>2.01</td>\n      <td>0.06</td>\n      <td>0.12</td>\n      <td>0.15</td>\n      <td>NaN</td>\n      <td>NaN</td>\n      <td>NaN</td>\n      <td>NaN</td>\n      <td>[0. 0.]</td>\n      <td>[0. 0.]</td>\n      <td>[2.57 5.94 5.65]</td>\n      <td>[2. 2. 2.]</td>\n    </tr>\n    <tr>\n      <th>502</th>\n      <td>2.50</td>\n      <td>2.50</td>\n      <td>1</td>\n      <td>0.0</td>\n      <td>13.65</td>\n      <td>6.44</td>\n      <td>2.09</td>\n      <td>0.03</td>\n      <td>0.15</td>\n      <td>0.12</td>\n      <td>NaN</td>\n      <td>NaN</td>\n      <td>NaN</td>\n      <td>NaN</td>\n      <td>[0. 0.]</td>\n      <td>[0. 0.]</td>\n      <td>[3.4  6.35 2.94]</td>\n      <td>[2. 2. 2.]</td>\n    </tr>\n    <tr>\n      <th>586</th>\n      <td>2.75</td>\n      <td>2.00</td>\n      <td>2</td>\n      <td>0.0</td>\n      <td>7.55</td>\n      <td>7.88</td>\n      <td>3.75</td>\n      <td>0.03</td>\n      <td>0.42</td>\n      <td>0.58</td>\n      <td>NaN</td>\n      <td>NaN</td>\n      <td>NaN</td>\n      <td>NaN</td>\n      <td>[0. 0.]</td>\n      <td>[0. 0.]</td>\n      <td>[2.41 4.81 3.56]</td>\n      <td>[2. 2. 2.]</td>\n    </tr>\n  </tbody>\n</table>\n</div>"
     },
     "metadata": {},
     "execution_count": 24
    }
   ],
   "source": [
    "df[(df['landing_rate']==0) & (df['vx_d']>= 1.5)]"
   ]
  },
  {
   "cell_type": "code",
   "execution_count": 9,
   "metadata": {},
   "outputs": [
    {
     "output_type": "display_data",
     "data": {
      "text/plain": "Canvas(toolbar=Toolbar(toolitems=[('Home', 'Reset original view', 'home', 'home'), ('Back', 'Back to previous …",
      "application/vnd.jupyter.widget-view+json": {
       "version_major": 2,
       "version_minor": 0,
       "model_id": "fde9a5b0e0a8473d8aa9cb17940a47fb"
      }
     },
     "metadata": {}
    }
   ],
   "source": [
    "\n",
    "## AVG LANDING RATE PLOT\n",
    "fig = plt.figure()\n",
    "ax = fig.add_subplot(111,projection=\"3d\")\n",
    "cmap = mpl.cm.jet\n",
    "norm = mpl.colors.Normalize(vmin=0,vmax=1)\n",
    "pcm = ax.plot_trisurf(df_avg['vx_d'],df_avg['vz_d'],df_avg['landing_rate','mean'],cmap = cmap)\n",
    "fig.colorbar(mpl.cm.ScalarMappable(norm=norm, cmap=cmap))\n",
    "\n",
    "ax.set_zlim(0,1)\n",
    "\n",
    "ax.set_xlabel('vx_d')\n",
    "ax.set_ylabel('vz_d')\n",
    "ax.set_zlabel('Landing Rate')\n",
    "\n",
    "\n",
    "plt.show()"
   ]
  },
  {
   "cell_type": "code",
   "execution_count": 10,
   "metadata": {},
   "outputs": [
    {
     "output_type": "execute_result",
     "data": {
      "text/plain": [
       "     vz_d  vx_d  trial_num  landing_rate  RREV_threshold     G1    G2  \\\n",
       "0     1.5  0.00          0      0.000000            4.81   9.69  2.22   \n",
       "1     1.5  0.00          0      0.500000            4.85   2.65  3.30   \n",
       "2     1.5  0.00          1      0.000000           15.17   6.04  6.30   \n",
       "3     1.5  0.00          1      0.000000            5.28  10.37  5.22   \n",
       "4     1.5  0.00          2      0.000000            1.10   6.36  2.43   \n",
       "..    ...   ...        ...           ...             ...    ...   ...   \n",
       "828   4.0  2.50          3      0.965517            4.04   7.75  2.20   \n",
       "829   4.0  2.50          5      0.700000            4.64  11.86  3.98   \n",
       "830   4.0  2.75          2      0.900000            3.95   6.26  4.08   \n",
       "831   4.0  2.75          4      0.655172            4.11   3.57  0.97   \n",
       "832   4.0  2.75          5      0.633333            4.57   7.08  1.83   \n",
       "\n",
       "     RREV_sig  G1_sig  G2_sig  RREV_trigger      OF_y      My_d  impact_eul  \\\n",
       "0        0.01    0.17    0.02           NaN       NaN       NaN         NaN   \n",
       "1        0.01    0.20    0.32      5.326667  0.000000 -2.738333  -86.136842   \n",
       "2        1.23    0.72    0.08           NaN       NaN       NaN         NaN   \n",
       "3        0.00    0.10    0.03           NaN       NaN       NaN         NaN   \n",
       "4        0.00    0.01    0.09           NaN       NaN       NaN         NaN   \n",
       "..        ...     ...     ...           ...       ...       ...         ...   \n",
       "828      0.05    0.01    0.04      4.505500 -2.684429 -2.902464 -144.456835   \n",
       "829      0.00    0.03    0.01      5.319762 -3.163000 -5.055857 -135.520746   \n",
       "830      0.00    0.01    0.51      4.289593 -2.802222 -1.585963 -106.030821   \n",
       "831      0.03    0.00    0.05      4.441526 -2.903421 -1.309211  -94.446263   \n",
       "832      0.00    0.09    0.02      5.061737 -3.317526 -2.977789 -115.641085   \n",
       "\n",
       "    alpha_mu alpha_sigma            mu_ini   sigma_ini  \n",
       "0    [0. 0.]     [0. 0.]  [5.47 4.49 3.57]  [2. 2. 2.]  \n",
       "1    [0. 0.]     [0. 0.]  [2.85 4.11 2.29]  [2. 2. 2.]  \n",
       "2    [0. 0.]     [0. 0.]  [2.08 5.95 3.96]  [2. 2. 2.]  \n",
       "3    [0. 0.]     [0. 0.]  [2.27 6.79 5.24]  [2. 2. 2.]  \n",
       "4    [0. 0.]     [0. 0.]  [1.26 6.07 4.5 ]  [2. 2. 2.]  \n",
       "..       ...         ...               ...         ...  \n",
       "828  [0. 0.]     [0. 0.]  [4.2  3.53 3.  ]  [2. 2. 2.]  \n",
       "829  [0. 0.]     [0. 0.]  [2.47 5.45 3.66]  [2. 2. 2.]  \n",
       "830  [0. 0.]     [0. 0.]  [4.36 5.03 2.5 ]  [2. 2. 2.]  \n",
       "831  [0. 0.]     [0. 0.]  [6.35 3.69 3.38]  [2. 2. 2.]  \n",
       "832  [0. 0.]     [0. 0.]  [1.19 6.75 2.32]  [2. 2. 2.]  \n",
       "\n",
       "[833 rows x 18 columns]"
      ],
      "text/html": "<div>\n<style scoped>\n    .dataframe tbody tr th:only-of-type {\n        vertical-align: middle;\n    }\n\n    .dataframe tbody tr th {\n        vertical-align: top;\n    }\n\n    .dataframe thead th {\n        text-align: right;\n    }\n</style>\n<table border=\"1\" class=\"dataframe\">\n  <thead>\n    <tr style=\"text-align: right;\">\n      <th></th>\n      <th>vz_d</th>\n      <th>vx_d</th>\n      <th>trial_num</th>\n      <th>landing_rate</th>\n      <th>RREV_threshold</th>\n      <th>G1</th>\n      <th>G2</th>\n      <th>RREV_sig</th>\n      <th>G1_sig</th>\n      <th>G2_sig</th>\n      <th>RREV_trigger</th>\n      <th>OF_y</th>\n      <th>My_d</th>\n      <th>impact_eul</th>\n      <th>alpha_mu</th>\n      <th>alpha_sigma</th>\n      <th>mu_ini</th>\n      <th>sigma_ini</th>\n    </tr>\n  </thead>\n  <tbody>\n    <tr>\n      <th>0</th>\n      <td>1.5</td>\n      <td>0.00</td>\n      <td>0</td>\n      <td>0.000000</td>\n      <td>4.81</td>\n      <td>9.69</td>\n      <td>2.22</td>\n      <td>0.01</td>\n      <td>0.17</td>\n      <td>0.02</td>\n      <td>NaN</td>\n      <td>NaN</td>\n      <td>NaN</td>\n      <td>NaN</td>\n      <td>[0. 0.]</td>\n      <td>[0. 0.]</td>\n      <td>[5.47 4.49 3.57]</td>\n      <td>[2. 2. 2.]</td>\n    </tr>\n    <tr>\n      <th>1</th>\n      <td>1.5</td>\n      <td>0.00</td>\n      <td>0</td>\n      <td>0.500000</td>\n      <td>4.85</td>\n      <td>2.65</td>\n      <td>3.30</td>\n      <td>0.01</td>\n      <td>0.20</td>\n      <td>0.32</td>\n      <td>5.326667</td>\n      <td>0.000000</td>\n      <td>-2.738333</td>\n      <td>-86.136842</td>\n      <td>[0. 0.]</td>\n      <td>[0. 0.]</td>\n      <td>[2.85 4.11 2.29]</td>\n      <td>[2. 2. 2.]</td>\n    </tr>\n    <tr>\n      <th>2</th>\n      <td>1.5</td>\n      <td>0.00</td>\n      <td>1</td>\n      <td>0.000000</td>\n      <td>15.17</td>\n      <td>6.04</td>\n      <td>6.30</td>\n      <td>1.23</td>\n      <td>0.72</td>\n      <td>0.08</td>\n      <td>NaN</td>\n      <td>NaN</td>\n      <td>NaN</td>\n      <td>NaN</td>\n      <td>[0. 0.]</td>\n      <td>[0. 0.]</td>\n      <td>[2.08 5.95 3.96]</td>\n      <td>[2. 2. 2.]</td>\n    </tr>\n    <tr>\n      <th>3</th>\n      <td>1.5</td>\n      <td>0.00</td>\n      <td>1</td>\n      <td>0.000000</td>\n      <td>5.28</td>\n      <td>10.37</td>\n      <td>5.22</td>\n      <td>0.00</td>\n      <td>0.10</td>\n      <td>0.03</td>\n      <td>NaN</td>\n      <td>NaN</td>\n      <td>NaN</td>\n      <td>NaN</td>\n      <td>[0. 0.]</td>\n      <td>[0. 0.]</td>\n      <td>[2.27 6.79 5.24]</td>\n      <td>[2. 2. 2.]</td>\n    </tr>\n    <tr>\n      <th>4</th>\n      <td>1.5</td>\n      <td>0.00</td>\n      <td>2</td>\n      <td>0.000000</td>\n      <td>1.10</td>\n      <td>6.36</td>\n      <td>2.43</td>\n      <td>0.00</td>\n      <td>0.01</td>\n      <td>0.09</td>\n      <td>NaN</td>\n      <td>NaN</td>\n      <td>NaN</td>\n      <td>NaN</td>\n      <td>[0. 0.]</td>\n      <td>[0. 0.]</td>\n      <td>[1.26 6.07 4.5 ]</td>\n      <td>[2. 2. 2.]</td>\n    </tr>\n    <tr>\n      <th>...</th>\n      <td>...</td>\n      <td>...</td>\n      <td>...</td>\n      <td>...</td>\n      <td>...</td>\n      <td>...</td>\n      <td>...</td>\n      <td>...</td>\n      <td>...</td>\n      <td>...</td>\n      <td>...</td>\n      <td>...</td>\n      <td>...</td>\n      <td>...</td>\n      <td>...</td>\n      <td>...</td>\n      <td>...</td>\n      <td>...</td>\n    </tr>\n    <tr>\n      <th>828</th>\n      <td>4.0</td>\n      <td>2.50</td>\n      <td>3</td>\n      <td>0.965517</td>\n      <td>4.04</td>\n      <td>7.75</td>\n      <td>2.20</td>\n      <td>0.05</td>\n      <td>0.01</td>\n      <td>0.04</td>\n      <td>4.505500</td>\n      <td>-2.684429</td>\n      <td>-2.902464</td>\n      <td>-144.456835</td>\n      <td>[0. 0.]</td>\n      <td>[0. 0.]</td>\n      <td>[4.2  3.53 3.  ]</td>\n      <td>[2. 2. 2.]</td>\n    </tr>\n    <tr>\n      <th>829</th>\n      <td>4.0</td>\n      <td>2.50</td>\n      <td>5</td>\n      <td>0.700000</td>\n      <td>4.64</td>\n      <td>11.86</td>\n      <td>3.98</td>\n      <td>0.00</td>\n      <td>0.03</td>\n      <td>0.01</td>\n      <td>5.319762</td>\n      <td>-3.163000</td>\n      <td>-5.055857</td>\n      <td>-135.520746</td>\n      <td>[0. 0.]</td>\n      <td>[0. 0.]</td>\n      <td>[2.47 5.45 3.66]</td>\n      <td>[2. 2. 2.]</td>\n    </tr>\n    <tr>\n      <th>830</th>\n      <td>4.0</td>\n      <td>2.75</td>\n      <td>2</td>\n      <td>0.900000</td>\n      <td>3.95</td>\n      <td>6.26</td>\n      <td>4.08</td>\n      <td>0.00</td>\n      <td>0.01</td>\n      <td>0.51</td>\n      <td>4.289593</td>\n      <td>-2.802222</td>\n      <td>-1.585963</td>\n      <td>-106.030821</td>\n      <td>[0. 0.]</td>\n      <td>[0. 0.]</td>\n      <td>[4.36 5.03 2.5 ]</td>\n      <td>[2. 2. 2.]</td>\n    </tr>\n    <tr>\n      <th>831</th>\n      <td>4.0</td>\n      <td>2.75</td>\n      <td>4</td>\n      <td>0.655172</td>\n      <td>4.11</td>\n      <td>3.57</td>\n      <td>0.97</td>\n      <td>0.03</td>\n      <td>0.00</td>\n      <td>0.05</td>\n      <td>4.441526</td>\n      <td>-2.903421</td>\n      <td>-1.309211</td>\n      <td>-94.446263</td>\n      <td>[0. 0.]</td>\n      <td>[0. 0.]</td>\n      <td>[6.35 3.69 3.38]</td>\n      <td>[2. 2. 2.]</td>\n    </tr>\n    <tr>\n      <th>832</th>\n      <td>4.0</td>\n      <td>2.75</td>\n      <td>5</td>\n      <td>0.633333</td>\n      <td>4.57</td>\n      <td>7.08</td>\n      <td>1.83</td>\n      <td>0.00</td>\n      <td>0.09</td>\n      <td>0.02</td>\n      <td>5.061737</td>\n      <td>-3.317526</td>\n      <td>-2.977789</td>\n      <td>-115.641085</td>\n      <td>[0. 0.]</td>\n      <td>[0. 0.]</td>\n      <td>[1.19 6.75 2.32]</td>\n      <td>[2. 2. 2.]</td>\n    </tr>\n  </tbody>\n</table>\n<p>833 rows × 18 columns</p>\n</div>"
     },
     "metadata": {},
     "execution_count": 10
    }
   ],
   "source": [
    "df"
   ]
  },
  {
   "cell_type": "code",
   "execution_count": 11,
   "metadata": {},
   "outputs": [
    {
     "output_type": "display_data",
     "data": {
      "text/plain": "Canvas(toolbar=Toolbar(toolitems=[('Home', 'Reset original view', 'home', 'home'), ('Back', 'Back to previous …",
      "application/vnd.jupyter.widget-view+json": {
       "version_major": 2,
       "version_minor": 0,
       "model_id": "3937eb7d295d4ac5ac8349ca1c4e57f4"
      }
     },
     "metadata": {}
    }
   ],
   "source": [
    "## AVG LANDING RATE PLOT\n",
    "fig = plt.figure()\n",
    "ax = fig.add_subplot(111,projection=\"3d\")\n",
    "\n",
    "pcm = ax.scatter(df['vx_d'],df['vz_d'],df['RREV_threshold'])\n",
    "\n",
    "ax.set_xlabel('vx_d')\n",
    "ax.set_ylabel('vz_d')\n",
    "ax.set_zlabel('RREV_threshold')\n",
    "\n",
    "\n",
    "plt.show()"
   ]
  },
  {
   "cell_type": "code",
   "execution_count": 12,
   "metadata": {},
   "outputs": [
    {
     "output_type": "display_data",
     "data": {
      "text/plain": "Canvas(toolbar=Toolbar(toolitems=[('Home', 'Reset original view', 'home', 'home'), ('Back', 'Back to previous …",
      "application/vnd.jupyter.widget-view+json": {
       "version_major": 2,
       "version_minor": 0,
       "model_id": "9c85486c9b1949309f78447d09f77604"
      }
     },
     "metadata": {}
    }
   ],
   "source": [
    "\n",
    "## AVG LANDING RATE PLOT\n",
    "fig = plt.figure()\n",
    "ax = fig.add_subplot(111,projection=\"3d\")\n",
    "\n",
    "pcm = ax.plot_trisurf(df_avg['vx_d'],df_avg['vz_d'],-df_avg['impact_eul','mean'])\n",
    "\n",
    "ax.set_xlabel('vx_d')\n",
    "ax.set_ylabel('vz_d')\n",
    "ax.set_zlabel('Impact Angle')\n",
    "\n",
    "\n",
    "plt.show()"
   ]
  },
  {
   "cell_type": "code",
   "execution_count": 13,
   "metadata": {},
   "outputs": [
    {
     "output_type": "display_data",
     "data": {
      "text/plain": "Canvas(toolbar=Toolbar(toolitems=[('Home', 'Reset original view', 'home', 'home'), ('Back', 'Back to previous …",
      "application/vnd.jupyter.widget-view+json": {
       "version_major": 2,
       "version_minor": 0,
       "model_id": "707a774b3b4e49378367de2fc2653fb6"
      }
     },
     "metadata": {}
    }
   ],
   "source": [
    "\n",
    "## AVG LANDING RATE PLOT\n",
    "fig = plt.figure()\n",
    "ax = fig.add_subplot(111,projection=\"3d\")\n",
    "\n",
    "pcm = ax.plot_trisurf(df_avg['vx_d'],df_avg['vz_d'],df_avg['RREV_trigger','mean'])\n",
    "\n",
    "ax.set_xlim(0,2.75)\n",
    "ax.set_ylim(1.0,4.5)\n",
    "ax.set_zlim(3,7)\n",
    "\n",
    "ax.set_xlabel('vx_d')\n",
    "ax.set_ylabel('vz_d')\n",
    "ax.set_zlabel('RREV_trigger')\n",
    "\n",
    "\n",
    "plt.show()"
   ]
  },
  {
   "cell_type": "code",
   "execution_count": 14,
   "metadata": {},
   "outputs": [
    {
     "output_type": "display_data",
     "data": {
      "text/plain": "Canvas(toolbar=Toolbar(toolitems=[('Home', 'Reset original view', 'home', 'home'), ('Back', 'Back to previous …",
      "application/vnd.jupyter.widget-view+json": {
       "version_major": 2,
       "version_minor": 0,
       "model_id": "fc8e32581cac491d9b9b8d1f2e16ecb3"
      }
     },
     "metadata": {}
    }
   ],
   "source": [
    "## AVG LANDING RATE PLOT\n",
    "fig = plt.figure()\n",
    "ax = fig.add_subplot(111)\n",
    "\n",
    "\n",
    "cmap = mpl.cm.Greys\n",
    "norm = mpl.colors.Normalize(vmin=0,vmax=1)\n",
    "\n",
    "ax.scatter(df_avg['RREV_trigger','mean'],df_avg['My_d','mean'],c=df_avg['landing_rate','mean'],cmap=cmap)\n",
    "fig.colorbar(mpl.cm.ScalarMappable(norm=norm, cmap=cmap))\n",
    "\n",
    "ax.grid()\n",
    "ax.set_xlim(3,7)\n",
    "ax.set_ylim(0,-10)\n",
    "ax.hlines(-7.77,3,7)\n",
    "\n",
    "ax.set_xlabel('RREV_t')\n",
    "ax.set_ylabel('My_d')\n",
    "ax.set_title('Policy by Vz')\n",
    "\n",
    "plt.show()"
   ]
  },
  {
   "cell_type": "code",
   "execution_count": 16,
   "metadata": {},
   "outputs": [
    {
     "output_type": "display_data",
     "data": {
      "text/plain": "Canvas(toolbar=Toolbar(toolitems=[('Home', 'Reset original view', 'home', 'home'), ('Back', 'Back to previous …",
      "application/vnd.jupyter.widget-view+json": {
       "version_major": 2,
       "version_minor": 0,
       "model_id": "544bca7a73e94a67b5b6db7fb05984ea"
      }
     },
     "metadata": {}
    }
   ],
   "source": [
    "## AVG LANDING RATE PLOT\n",
    "fig = plt.figure()\n",
    "ax = fig.add_subplot(111)\n",
    "\n",
    "\n",
    "cmap = mpl.cm.jet\n",
    "norm = mpl.colors.Normalize(vmin=0,vmax=3)\n",
    "\n",
    "ax.scatter(df_avg['RREV_trigger','mean'],df_avg['My_d','mean'],c=df_avg['vz_d'],cmap=cmap)\n",
    "fig.colorbar(mpl.cm.ScalarMappable(norm=norm, cmap=cmap))\n",
    "\n",
    "ax.grid()\n",
    "ax.set_ylim(0,-10)\n",
    "ax.set_xlim(3,7)\n",
    "\n",
    "ax.hlines(-7.77,3,7)\n",
    "\n",
    "ax.set_xlabel('RREV_t')\n",
    "ax.set_ylabel('My_d')\n",
    "ax.set_title('Policy by Vz')\n",
    "## As Vz increases RREV_trigger decreases to preserve time to contact. It also finds a host of My_d that work and they vary because of the robustness of the legs and the fact that landing success isn't deterministic.\n",
    "plt.show()"
   ]
  },
  {
   "cell_type": "code",
   "execution_count": 12,
   "metadata": {},
   "outputs": [
    {
     "output_type": "display_data",
     "data": {
      "text/plain": "Canvas(toolbar=Toolbar(toolitems=[('Home', 'Reset original view', 'home', 'home'), ('Back', 'Back to previous …",
      "application/vnd.jupyter.widget-view+json": {
       "version_major": 2,
       "version_minor": 0,
       "model_id": "d86b8b491ace4526a4fa90f788990706"
      }
     },
     "metadata": {}
    }
   ],
   "source": [
    "## AVG LANDING RATE PLOT\n",
    "fig = plt.figure()\n",
    "ax = fig.add_subplot(111,projection=\"3d\")\n",
    "\n",
    "cmap = mpl.cm.jet\n",
    "norm = mpl.colors.Normalize(vmin=0,vmax=3)\n",
    "\n",
    "pcm = ax.scatter(df_avg['RREV_trigger','mean'],df_avg['My_d','mean'],df_avg['OF_y','mean'],c=df_avg['landing_rate','mean'],cmap=cmap)\n",
    "\n",
    "ax.set_xlim(3,7)\n",
    "ax.set_ylim(0,-10)\n",
    "\n",
    "ax.set_xlabel('RREV_trigger')\n",
    "ax.set_ylabel('My_d')\n",
    "ax.set_zlabel('OF_y')\n",
    "\n",
    "\n",
    "plt.show()"
   ]
  },
  {
   "cell_type": "code",
   "execution_count": 17,
   "metadata": {},
   "outputs": [
    {
     "output_type": "display_data",
     "data": {
      "text/plain": "Canvas(toolbar=Toolbar(toolitems=[('Home', 'Reset original view', 'home', 'home'), ('Back', 'Back to previous …",
      "application/vnd.jupyter.widget-view+json": {
       "version_major": 2,
       "version_minor": 0,
       "model_id": "1ef412ac87154bc6bd033b0450ce8380"
      }
     },
     "metadata": {}
    }
   ],
   "source": [
    "## AVG LANDING RATE PLOT\n",
    "fig = plt.figure()\n",
    "ax = fig.add_subplot(111)\n",
    "\n",
    "cmap = mpl.cm.jet\n",
    "norm = mpl.colors.Normalize(vmin=0,vmax=3)\n",
    "\n",
    "pcm = ax.scatter(df_avg['RREV_threshold','mean'],df_avg['RREV_trigger','mean'],c=df_avg['vz_d'],cmap=cmap)\n",
    "\n",
    "\n",
    "ax.grid()\n",
    "ax.set_xlim(3,8)\n",
    "ax.set_ylim(3,8)\n",
    "\n",
    "ax.set_xlabel('RREV_threshold')\n",
    "ax.set_ylabel('RREV_trigger')\n",
    "# ax.set_zlabel('OF_y')\n",
    "\n",
    "\n",
    "plt.show()"
   ]
  },
  {
   "cell_type": "code",
   "execution_count": 14,
   "metadata": {},
   "outputs": [
    {
     "output_type": "display_data",
     "data": {
      "text/plain": "Canvas(toolbar=Toolbar(toolitems=[('Home', 'Reset original view', 'home', 'home'), ('Back', 'Back to previous …",
      "application/vnd.jupyter.widget-view+json": {
       "version_major": 2,
       "version_minor": 0,
       "model_id": "9d0d5fa63fec463ab4ab7f7971457c9c"
      }
     },
     "metadata": {}
    }
   ],
   "source": [
    "## AVG LANDING RATE PLOT\n",
    "fig = plt.figure()\n",
    "ax = fig.add_subplot(111,projection=\"3d\")\n",
    "\n",
    "cmap = mpl.cm.jet\n",
    "norm = mpl.colors.Normalize(vmin=0,vmax=3)\n",
    "\n",
    "pcm = ax.scatter(df_avg['My_d','mean'],df_avg['RREV_trigger','mean'],df_avg['impact_eul','mean'],c=df_avg['landing_rate','mean'],cmap=cmap)\n",
    "\n",
    "\n",
    "ax.grid()\n",
    "# ax.set_xlim(3,7)\n",
    "# ax.set_ylim(0,-10)\n",
    "\n",
    "ax.set_xlabel('My_d')\n",
    "ax.set_ylabel('RREV_trigger')\n",
    "ax.set_zlabel('Impact Angle')\n",
    "\n",
    "\n",
    "plt.show()"
   ]
  },
  {
   "cell_type": "code",
   "execution_count": null,
   "metadata": {},
   "outputs": [],
   "source": []
  },
  {
   "cell_type": "code",
   "execution_count": 22,
   "metadata": {},
   "outputs": [
    {
     "output_type": "execute_result",
     "data": {
      "text/plain": [
       "     vz_d  vx_d  trial_num  landing_rate  RREV_threshold     G1    G2  \\\n",
       "0    1.50  0.00          0           0.0            4.81   9.69  2.22   \n",
       "2    1.50  0.00          1           0.0           15.17   6.04  6.30   \n",
       "3    1.50  0.00          1           0.0            5.28  10.37  5.22   \n",
       "4    1.50  0.00          2           0.0            1.10   6.36  2.43   \n",
       "5    1.50  0.00          2           0.0            4.80   5.05  3.67   \n",
       "..    ...   ...        ...           ...             ...    ...   ...   \n",
       "529  2.75  0.25          2           0.0            7.00   6.97  2.17   \n",
       "533  2.75  0.25          5           0.0            0.97   5.68  2.73   \n",
       "545  2.75  0.75          2           0.0           16.96  15.08  6.01   \n",
       "551  2.75  1.00          2           0.0            1.26   6.00  2.63   \n",
       "586  2.75  2.00          2           0.0            7.55   7.88  3.75   \n",
       "\n",
       "     RREV_sig  G1_sig  G2_sig  RREV_trigger  OF_y  My_d  impact_eul alpha_mu  \\\n",
       "0        0.01    0.17    0.02           NaN   NaN   NaN         NaN  [0. 0.]   \n",
       "2        1.23    0.72    0.08           NaN   NaN   NaN         NaN  [0. 0.]   \n",
       "3        0.00    0.10    0.03           NaN   NaN   NaN         NaN  [0. 0.]   \n",
       "4        0.00    0.01    0.09           NaN   NaN   NaN         NaN  [0. 0.]   \n",
       "5        0.06    0.05    0.00           NaN   NaN   NaN         NaN  [0. 0.]   \n",
       "..        ...     ...     ...           ...   ...   ...         ...      ...   \n",
       "529      0.16    0.00    0.01           NaN   NaN   NaN         NaN  [0. 0.]   \n",
       "533      0.04    0.00    0.07           NaN   NaN   NaN         NaN  [0. 0.]   \n",
       "545      1.37    1.33    0.16           NaN   NaN   NaN         NaN  [0. 0.]   \n",
       "551      0.00    0.07    0.01           NaN   NaN   NaN         NaN  [0. 0.]   \n",
       "586      0.03    0.42    0.58           NaN   NaN   NaN         NaN  [0. 0.]   \n",
       "\n",
       "    alpha_sigma            mu_ini   sigma_ini  \n",
       "0       [0. 0.]  [5.47 4.49 3.57]  [2. 2. 2.]  \n",
       "2       [0. 0.]  [2.08 5.95 3.96]  [2. 2. 2.]  \n",
       "3       [0. 0.]  [2.27 6.79 5.24]  [2. 2. 2.]  \n",
       "4       [0. 0.]  [1.26 6.07 4.5 ]  [2. 2. 2.]  \n",
       "5       [0. 0.]  [1.04 4.05 3.36]  [2. 2. 2.]  \n",
       "..          ...               ...         ...  \n",
       "529     [0. 0.]  [4.15 6.2  2.27]  [2. 2. 2.]  \n",
       "533     [0. 0.]  [1.8  3.31 2.26]  [2. 2. 2.]  \n",
       "545     [0. 0.]  [6.53 2.74 1.53]  [2. 2. 2.]  \n",
       "551     [0. 0.]  [1.21 6.33 3.14]  [2. 2. 2.]  \n",
       "586     [0. 0.]  [2.41 4.81 3.56]  [2. 2. 2.]  \n",
       "\n",
       "[149 rows x 18 columns]"
      ],
      "text/html": "<div>\n<style scoped>\n    .dataframe tbody tr th:only-of-type {\n        vertical-align: middle;\n    }\n\n    .dataframe tbody tr th {\n        vertical-align: top;\n    }\n\n    .dataframe thead th {\n        text-align: right;\n    }\n</style>\n<table border=\"1\" class=\"dataframe\">\n  <thead>\n    <tr style=\"text-align: right;\">\n      <th></th>\n      <th>vz_d</th>\n      <th>vx_d</th>\n      <th>trial_num</th>\n      <th>landing_rate</th>\n      <th>RREV_threshold</th>\n      <th>G1</th>\n      <th>G2</th>\n      <th>RREV_sig</th>\n      <th>G1_sig</th>\n      <th>G2_sig</th>\n      <th>RREV_trigger</th>\n      <th>OF_y</th>\n      <th>My_d</th>\n      <th>impact_eul</th>\n      <th>alpha_mu</th>\n      <th>alpha_sigma</th>\n      <th>mu_ini</th>\n      <th>sigma_ini</th>\n    </tr>\n  </thead>\n  <tbody>\n    <tr>\n      <th>0</th>\n      <td>1.50</td>\n      <td>0.00</td>\n      <td>0</td>\n      <td>0.0</td>\n      <td>4.81</td>\n      <td>9.69</td>\n      <td>2.22</td>\n      <td>0.01</td>\n      <td>0.17</td>\n      <td>0.02</td>\n      <td>NaN</td>\n      <td>NaN</td>\n      <td>NaN</td>\n      <td>NaN</td>\n      <td>[0. 0.]</td>\n      <td>[0. 0.]</td>\n      <td>[5.47 4.49 3.57]</td>\n      <td>[2. 2. 2.]</td>\n    </tr>\n    <tr>\n      <th>2</th>\n      <td>1.50</td>\n      <td>0.00</td>\n      <td>1</td>\n      <td>0.0</td>\n      <td>15.17</td>\n      <td>6.04</td>\n      <td>6.30</td>\n      <td>1.23</td>\n      <td>0.72</td>\n      <td>0.08</td>\n      <td>NaN</td>\n      <td>NaN</td>\n      <td>NaN</td>\n      <td>NaN</td>\n      <td>[0. 0.]</td>\n      <td>[0. 0.]</td>\n      <td>[2.08 5.95 3.96]</td>\n      <td>[2. 2. 2.]</td>\n    </tr>\n    <tr>\n      <th>3</th>\n      <td>1.50</td>\n      <td>0.00</td>\n      <td>1</td>\n      <td>0.0</td>\n      <td>5.28</td>\n      <td>10.37</td>\n      <td>5.22</td>\n      <td>0.00</td>\n      <td>0.10</td>\n      <td>0.03</td>\n      <td>NaN</td>\n      <td>NaN</td>\n      <td>NaN</td>\n      <td>NaN</td>\n      <td>[0. 0.]</td>\n      <td>[0. 0.]</td>\n      <td>[2.27 6.79 5.24]</td>\n      <td>[2. 2. 2.]</td>\n    </tr>\n    <tr>\n      <th>4</th>\n      <td>1.50</td>\n      <td>0.00</td>\n      <td>2</td>\n      <td>0.0</td>\n      <td>1.10</td>\n      <td>6.36</td>\n      <td>2.43</td>\n      <td>0.00</td>\n      <td>0.01</td>\n      <td>0.09</td>\n      <td>NaN</td>\n      <td>NaN</td>\n      <td>NaN</td>\n      <td>NaN</td>\n      <td>[0. 0.]</td>\n      <td>[0. 0.]</td>\n      <td>[1.26 6.07 4.5 ]</td>\n      <td>[2. 2. 2.]</td>\n    </tr>\n    <tr>\n      <th>5</th>\n      <td>1.50</td>\n      <td>0.00</td>\n      <td>2</td>\n      <td>0.0</td>\n      <td>4.80</td>\n      <td>5.05</td>\n      <td>3.67</td>\n      <td>0.06</td>\n      <td>0.05</td>\n      <td>0.00</td>\n      <td>NaN</td>\n      <td>NaN</td>\n      <td>NaN</td>\n      <td>NaN</td>\n      <td>[0. 0.]</td>\n      <td>[0. 0.]</td>\n      <td>[1.04 4.05 3.36]</td>\n      <td>[2. 2. 2.]</td>\n    </tr>\n    <tr>\n      <th>...</th>\n      <td>...</td>\n      <td>...</td>\n      <td>...</td>\n      <td>...</td>\n      <td>...</td>\n      <td>...</td>\n      <td>...</td>\n      <td>...</td>\n      <td>...</td>\n      <td>...</td>\n      <td>...</td>\n      <td>...</td>\n      <td>...</td>\n      <td>...</td>\n      <td>...</td>\n      <td>...</td>\n      <td>...</td>\n      <td>...</td>\n    </tr>\n    <tr>\n      <th>529</th>\n      <td>2.75</td>\n      <td>0.25</td>\n      <td>2</td>\n      <td>0.0</td>\n      <td>7.00</td>\n      <td>6.97</td>\n      <td>2.17</td>\n      <td>0.16</td>\n      <td>0.00</td>\n      <td>0.01</td>\n      <td>NaN</td>\n      <td>NaN</td>\n      <td>NaN</td>\n      <td>NaN</td>\n      <td>[0. 0.]</td>\n      <td>[0. 0.]</td>\n      <td>[4.15 6.2  2.27]</td>\n      <td>[2. 2. 2.]</td>\n    </tr>\n    <tr>\n      <th>533</th>\n      <td>2.75</td>\n      <td>0.25</td>\n      <td>5</td>\n      <td>0.0</td>\n      <td>0.97</td>\n      <td>5.68</td>\n      <td>2.73</td>\n      <td>0.04</td>\n      <td>0.00</td>\n      <td>0.07</td>\n      <td>NaN</td>\n      <td>NaN</td>\n      <td>NaN</td>\n      <td>NaN</td>\n      <td>[0. 0.]</td>\n      <td>[0. 0.]</td>\n      <td>[1.8  3.31 2.26]</td>\n      <td>[2. 2. 2.]</td>\n    </tr>\n    <tr>\n      <th>545</th>\n      <td>2.75</td>\n      <td>0.75</td>\n      <td>2</td>\n      <td>0.0</td>\n      <td>16.96</td>\n      <td>15.08</td>\n      <td>6.01</td>\n      <td>1.37</td>\n      <td>1.33</td>\n      <td>0.16</td>\n      <td>NaN</td>\n      <td>NaN</td>\n      <td>NaN</td>\n      <td>NaN</td>\n      <td>[0. 0.]</td>\n      <td>[0. 0.]</td>\n      <td>[6.53 2.74 1.53]</td>\n      <td>[2. 2. 2.]</td>\n    </tr>\n    <tr>\n      <th>551</th>\n      <td>2.75</td>\n      <td>1.00</td>\n      <td>2</td>\n      <td>0.0</td>\n      <td>1.26</td>\n      <td>6.00</td>\n      <td>2.63</td>\n      <td>0.00</td>\n      <td>0.07</td>\n      <td>0.01</td>\n      <td>NaN</td>\n      <td>NaN</td>\n      <td>NaN</td>\n      <td>NaN</td>\n      <td>[0. 0.]</td>\n      <td>[0. 0.]</td>\n      <td>[1.21 6.33 3.14]</td>\n      <td>[2. 2. 2.]</td>\n    </tr>\n    <tr>\n      <th>586</th>\n      <td>2.75</td>\n      <td>2.00</td>\n      <td>2</td>\n      <td>0.0</td>\n      <td>7.55</td>\n      <td>7.88</td>\n      <td>3.75</td>\n      <td>0.03</td>\n      <td>0.42</td>\n      <td>0.58</td>\n      <td>NaN</td>\n      <td>NaN</td>\n      <td>NaN</td>\n      <td>NaN</td>\n      <td>[0. 0.]</td>\n      <td>[0. 0.]</td>\n      <td>[2.41 4.81 3.56]</td>\n      <td>[2. 2. 2.]</td>\n    </tr>\n  </tbody>\n</table>\n<p>149 rows × 18 columns</p>\n</div>"
     },
     "metadata": {},
     "execution_count": 22
    }
   ],
   "source": []
  },
  {
   "cell_type": "code",
   "execution_count": null,
   "metadata": {},
   "outputs": [],
   "source": []
  }
 ]
}