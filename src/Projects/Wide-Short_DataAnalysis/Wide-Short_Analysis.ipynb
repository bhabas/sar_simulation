{
 "metadata": {
  "language_info": {
   "codemirror_mode": {
    "name": "ipython",
    "version": 3
   },
   "file_extension": ".py",
   "mimetype": "text/x-python",
   "name": "python",
   "nbconvert_exporter": "python",
   "pygments_lexer": "ipython3",
   "version": "3.8.5-final"
  },
  "orig_nbformat": 2,
  "kernelspec": {
   "name": "python38564bit0282941c0ba945238a13db8c20574d9c",
   "display_name": "Python 3.8.5 64-bit",
   "language": "python"
  }
 },
 "nbformat": 4,
 "nbformat_minor": 2,
 "cells": [
  {
   "cell_type": "code",
   "execution_count": 1,
   "metadata": {},
   "outputs": [],
   "source": [
    "## IMPORT MODULES\n",
    "import pandas as pd\n",
    "import numpy as np"
   ]
  },
  {
   "cell_type": "code",
   "execution_count": 2,
   "metadata": {},
   "outputs": [],
   "source": [
    "## IMPORT PLOTTING MODULES\n",
    "import matplotlib.pyplot as plt\n",
    "from mpl_toolkits import mplot3d\n",
    "import matplotlib as mpl\n",
    "from matplotlib import cm\n",
    "%matplotlib widget"
   ]
  },
  {
   "cell_type": "code",
   "execution_count": 3,
   "metadata": {},
   "outputs": [],
   "source": [
    "## FULL DATAFRAME\n",
    "df_raw = pd.read_csv(\"Wide-Short_Summary.csv\")\n",
    "df_raw_avg = df_raw.groupby(['vz_d','vx_d']).agg([np.mean,np.std]).reset_index()\n",
    "\n",
    "df = df_raw\n",
    "df['My_d'] = df['My_d'].apply(lambda x: np.abs(x))\n",
    "df = df.drop(df[df['My_d']>=7.7].index)\n",
    "df = df.dropna()\n",
    "\n",
    "## AVERAGED DATAFRAME\n",
    "df_avg = df.groupby(['vz_d','vx_d']).agg([np.mean,np.std]).reset_index()"
   ]
  },
  {
   "cell_type": "code",
   "execution_count": 32,
   "metadata": {},
   "outputs": [
    {
     "output_type": "execute_result",
     "data": {
      "text/plain": [
       "         My_d  vz_d\n",
       "93   5.828538  1.50\n",
       "94   5.590632  1.50\n",
       "96   2.191929  1.50\n",
       "97   5.225296  1.50\n",
       "190  4.294458  1.75\n",
       "191  2.446909  1.75\n",
       "192  3.701000  1.75\n",
       "193  3.886714  1.75\n",
       "299  3.538000  2.00\n",
       "300  6.488167  2.00\n",
       "301  3.900769  2.00\n",
       "303  5.528360  2.00\n",
       "304  5.517435  2.00\n",
       "390  4.140259  2.25\n",
       "391  3.043870  2.25\n",
       "392  4.784000  2.25\n",
       "393  3.737808  2.25\n",
       "394  2.525150  2.25\n",
       "396  2.931160  2.25\n",
       "397  5.456815  2.25\n",
       "481  6.077238  2.50\n",
       "482  5.461320  2.50\n",
       "483  5.691483  2.50\n",
       "484  2.141125  2.50\n",
       "485  6.660050  2.50\n",
       "486  2.925308  2.50\n",
       "487  6.238480  2.50\n",
       "580  4.744357  2.75\n",
       "582  2.105375  2.75\n",
       "585  3.897217  2.75\n",
       "586  7.689778  2.75\n",
       "587  2.844571  2.75\n",
       "588  5.073875  2.75\n",
       "623  3.687250  3.00\n",
       "624  3.824692  3.00\n",
       "625  2.365000  3.00\n",
       "626  6.671040  3.00\n",
       "660  1.882483  3.25\n",
       "661  2.587450  3.25\n",
       "662  1.911840  3.25\n",
       "706  3.710208  3.50\n",
       "707  4.108560  3.50\n",
       "708  1.777364  3.50\n",
       "709  1.445211  3.50\n",
       "752  1.509150  3.75\n",
       "753  2.194167  3.75\n",
       "754  3.550360  3.75\n",
       "755  4.439167  3.75\n",
       "756  1.386565  3.75\n",
       "805  2.402481  4.00\n",
       "806  2.902464  4.00\n",
       "807  5.055857  4.00"
      ],
      "text/html": "<div>\n<style scoped>\n    .dataframe tbody tr th:only-of-type {\n        vertical-align: middle;\n    }\n\n    .dataframe tbody tr th {\n        vertical-align: top;\n    }\n\n    .dataframe thead th {\n        text-align: right;\n    }\n</style>\n<table border=\"1\" class=\"dataframe\">\n  <thead>\n    <tr style=\"text-align: right;\">\n      <th></th>\n      <th>My_d</th>\n      <th>vz_d</th>\n    </tr>\n  </thead>\n  <tbody>\n    <tr>\n      <th>93</th>\n      <td>5.828538</td>\n      <td>1.50</td>\n    </tr>\n    <tr>\n      <th>94</th>\n      <td>5.590632</td>\n      <td>1.50</td>\n    </tr>\n    <tr>\n      <th>96</th>\n      <td>2.191929</td>\n      <td>1.50</td>\n    </tr>\n    <tr>\n      <th>97</th>\n      <td>5.225296</td>\n      <td>1.50</td>\n    </tr>\n    <tr>\n      <th>190</th>\n      <td>4.294458</td>\n      <td>1.75</td>\n    </tr>\n    <tr>\n      <th>191</th>\n      <td>2.446909</td>\n      <td>1.75</td>\n    </tr>\n    <tr>\n      <th>192</th>\n      <td>3.701000</td>\n      <td>1.75</td>\n    </tr>\n    <tr>\n      <th>193</th>\n      <td>3.886714</td>\n      <td>1.75</td>\n    </tr>\n    <tr>\n      <th>299</th>\n      <td>3.538000</td>\n      <td>2.00</td>\n    </tr>\n    <tr>\n      <th>300</th>\n      <td>6.488167</td>\n      <td>2.00</td>\n    </tr>\n    <tr>\n      <th>301</th>\n      <td>3.900769</td>\n      <td>2.00</td>\n    </tr>\n    <tr>\n      <th>303</th>\n      <td>5.528360</td>\n      <td>2.00</td>\n    </tr>\n    <tr>\n      <th>304</th>\n      <td>5.517435</td>\n      <td>2.00</td>\n    </tr>\n    <tr>\n      <th>390</th>\n      <td>4.140259</td>\n      <td>2.25</td>\n    </tr>\n    <tr>\n      <th>391</th>\n      <td>3.043870</td>\n      <td>2.25</td>\n    </tr>\n    <tr>\n      <th>392</th>\n      <td>4.784000</td>\n      <td>2.25</td>\n    </tr>\n    <tr>\n      <th>393</th>\n      <td>3.737808</td>\n      <td>2.25</td>\n    </tr>\n    <tr>\n      <th>394</th>\n      <td>2.525150</td>\n      <td>2.25</td>\n    </tr>\n    <tr>\n      <th>396</th>\n      <td>2.931160</td>\n      <td>2.25</td>\n    </tr>\n    <tr>\n      <th>397</th>\n      <td>5.456815</td>\n      <td>2.25</td>\n    </tr>\n    <tr>\n      <th>481</th>\n      <td>6.077238</td>\n      <td>2.50</td>\n    </tr>\n    <tr>\n      <th>482</th>\n      <td>5.461320</td>\n      <td>2.50</td>\n    </tr>\n    <tr>\n      <th>483</th>\n      <td>5.691483</td>\n      <td>2.50</td>\n    </tr>\n    <tr>\n      <th>484</th>\n      <td>2.141125</td>\n      <td>2.50</td>\n    </tr>\n    <tr>\n      <th>485</th>\n      <td>6.660050</td>\n      <td>2.50</td>\n    </tr>\n    <tr>\n      <th>486</th>\n      <td>2.925308</td>\n      <td>2.50</td>\n    </tr>\n    <tr>\n      <th>487</th>\n      <td>6.238480</td>\n      <td>2.50</td>\n    </tr>\n    <tr>\n      <th>580</th>\n      <td>4.744357</td>\n      <td>2.75</td>\n    </tr>\n    <tr>\n      <th>582</th>\n      <td>2.105375</td>\n      <td>2.75</td>\n    </tr>\n    <tr>\n      <th>585</th>\n      <td>3.897217</td>\n      <td>2.75</td>\n    </tr>\n    <tr>\n      <th>586</th>\n      <td>7.689778</td>\n      <td>2.75</td>\n    </tr>\n    <tr>\n      <th>587</th>\n      <td>2.844571</td>\n      <td>2.75</td>\n    </tr>\n    <tr>\n      <th>588</th>\n      <td>5.073875</td>\n      <td>2.75</td>\n    </tr>\n    <tr>\n      <th>623</th>\n      <td>3.687250</td>\n      <td>3.00</td>\n    </tr>\n    <tr>\n      <th>624</th>\n      <td>3.824692</td>\n      <td>3.00</td>\n    </tr>\n    <tr>\n      <th>625</th>\n      <td>2.365000</td>\n      <td>3.00</td>\n    </tr>\n    <tr>\n      <th>626</th>\n      <td>6.671040</td>\n      <td>3.00</td>\n    </tr>\n    <tr>\n      <th>660</th>\n      <td>1.882483</td>\n      <td>3.25</td>\n    </tr>\n    <tr>\n      <th>661</th>\n      <td>2.587450</td>\n      <td>3.25</td>\n    </tr>\n    <tr>\n      <th>662</th>\n      <td>1.911840</td>\n      <td>3.25</td>\n    </tr>\n    <tr>\n      <th>706</th>\n      <td>3.710208</td>\n      <td>3.50</td>\n    </tr>\n    <tr>\n      <th>707</th>\n      <td>4.108560</td>\n      <td>3.50</td>\n    </tr>\n    <tr>\n      <th>708</th>\n      <td>1.777364</td>\n      <td>3.50</td>\n    </tr>\n    <tr>\n      <th>709</th>\n      <td>1.445211</td>\n      <td>3.50</td>\n    </tr>\n    <tr>\n      <th>752</th>\n      <td>1.509150</td>\n      <td>3.75</td>\n    </tr>\n    <tr>\n      <th>753</th>\n      <td>2.194167</td>\n      <td>3.75</td>\n    </tr>\n    <tr>\n      <th>754</th>\n      <td>3.550360</td>\n      <td>3.75</td>\n    </tr>\n    <tr>\n      <th>755</th>\n      <td>4.439167</td>\n      <td>3.75</td>\n    </tr>\n    <tr>\n      <th>756</th>\n      <td>1.386565</td>\n      <td>3.75</td>\n    </tr>\n    <tr>\n      <th>805</th>\n      <td>2.402481</td>\n      <td>4.00</td>\n    </tr>\n    <tr>\n      <th>806</th>\n      <td>2.902464</td>\n      <td>4.00</td>\n    </tr>\n    <tr>\n      <th>807</th>\n      <td>5.055857</td>\n      <td>4.00</td>\n    </tr>\n  </tbody>\n</table>\n</div>"
     },
     "metadata": {},
     "execution_count": 32
    }
   ],
   "source": []
  },
  {
   "cell_type": "code",
   "execution_count": 5,
   "metadata": {},
   "outputs": [
    {
     "output_type": "display_data",
     "data": {
      "text/plain": "Canvas(toolbar=Toolbar(toolitems=[('Home', 'Reset original view', 'home', 'home'), ('Back', 'Back to previous …",
      "application/vnd.jupyter.widget-view+json": {
       "version_major": 2,
       "version_minor": 0,
       "model_id": "2a0568c524ec4b7ab21a132276a40e03"
      }
     },
     "metadata": {}
    }
   ],
   "source": [
    "\n",
    "## LANDING RATE DATA\n",
    "fig = plt.figure()\n",
    "ax = fig.add_subplot(111,projection=\"3d\")\n",
    "ax.scatter(df_raw['vx_d'],df_raw['vz_d'],df_raw['landing_rate'])\n",
    "\n",
    "ax.set_xlabel('vx_d')\n",
    "ax.set_ylabel('vz_d')\n",
    "ax.set_zlabel('Landing Rate')\n",
    "ax.set_title('Landing Rate (Raw Data)')\n",
    "\n",
    "plt.show()"
   ]
  },
  {
   "cell_type": "code",
   "execution_count": 6,
   "metadata": {},
   "outputs": [
    {
     "output_type": "display_data",
     "data": {
      "text/plain": "Canvas(toolbar=Toolbar(toolitems=[('Home', 'Reset original view', 'home', 'home'), ('Back', 'Back to previous …",
      "application/vnd.jupyter.widget-view+json": {
       "version_major": 2,
       "version_minor": 0,
       "model_id": "ab2b8ab89b0f4e73a54cdb25e3f9cff9"
      }
     },
     "metadata": {}
    }
   ],
   "source": [
    "\n",
    "## AVG LANDING RATE SURFACE\n",
    "fig = plt.figure()\n",
    "ax = fig.add_subplot(111,projection=\"3d\")\n",
    "cmap = mpl.cm.jet\n",
    "norm = mpl.colors.Normalize(vmin=0,vmax=1)\n",
    "pcm = ax.plot_trisurf(df_raw_avg['vx_d'],df_raw_avg['vz_d'],df_raw_avg['landing_rate','mean'],cmap = cmap)\n",
    "fig.colorbar(mpl.cm.ScalarMappable(norm=norm, cmap=cmap),label=\"Landing %\")\n",
    "df\n",
    "ax.set_zlim(0,1)\n",
    "\n",
    "ax.set_xlabel('vx_d')\n",
    "ax.set_ylabel('vz_d')\n",
    "ax.set_zlabel('Landing Rate')\n",
    "ax.set_title('Avg Landing Rate for Final 3 Episodes')\n",
    "\n",
    "\n",
    "plt.show()"
   ]
  },
  {
   "cell_type": "code",
   "execution_count": 7,
   "metadata": {},
   "outputs": [
    {
     "output_type": "display_data",
     "data": {
      "text/plain": "Canvas(toolbar=Toolbar(toolitems=[('Home', 'Reset original view', 'home', 'home'), ('Back', 'Back to previous …",
      "application/vnd.jupyter.widget-view+json": {
       "version_major": 2,
       "version_minor": 0,
       "model_id": "b30dba9e86934553b30f93f04f80b523"
      }
     },
     "metadata": {}
    }
   ],
   "source": [
    "## RREV Threshold vs IC\n",
    "fig = plt.figure()\n",
    "ax = fig.add_subplot(111,projection=\"3d\")\n",
    "\n",
    "ax.scatter(df['vx_d'],df['vz_d'],df['RREV_threshold'])\n",
    "\n",
    "\n",
    "ax.set_xlim(0,2.75)\n",
    "ax.set_ylim(1.0,4.5)\n",
    "\n",
    "\n",
    "ax.set_xlabel('Vx_d')\n",
    "ax.set_ylabel('Vz_d')\n",
    "ax.set_zlabel('RREV_threshold')\n",
    "ax.set_title('RREV_thr vs IC - (Raw Data)')\n",
    "\n",
    "\n",
    "plt.show()"
   ]
  },
  {
   "cell_type": "code",
   "execution_count": 8,
   "metadata": {},
   "outputs": [
    {
     "output_type": "display_data",
     "data": {
      "text/plain": "Canvas(toolbar=Toolbar(toolitems=[('Home', 'Reset original view', 'home', 'home'), ('Back', 'Back to previous …",
      "application/vnd.jupyter.widget-view+json": {
       "version_major": 2,
       "version_minor": 0,
       "model_id": "eb8838e568b9492b9f1bfa0b0a9e3ba5"
      }
     },
     "metadata": {}
    }
   ],
   "source": [
    "\n",
    "## Avg RREV_thr vs IC\n",
    "fig = plt.figure()\n",
    "ax = fig.add_subplot(111,projection=\"3d\")\n",
    "\n",
    "cmap = mpl.cm.jet\n",
    "norm = mpl.colors.Normalize(vmin=4,vmax=5)\n",
    "pcm = ax.plot_trisurf(df_avg['vx_d'],df_avg['vz_d'],df_avg['RREV_threshold','mean'],cmap=cmap)\n",
    "fig.colorbar(mpl.cm.ScalarMappable(norm=norm, cmap=cmap),label=\"RREV_threshold\")\n",
    "\n",
    "ax.set_xlim(0,2.75)\n",
    "ax.set_ylim(1.0,4.5)\n",
    "ax.set_zlim(3,6)\n",
    "\n",
    "ax.set_xlabel('vx_d')\n",
    "ax.set_ylabel('vz_d')\n",
    "ax.set_zlabel('RREV_threshold')\n",
    "\n",
    "ax.set_title('Avg RREV_thr vs IC')\n",
    "plt.show()"
   ]
  },
  {
   "cell_type": "code",
   "execution_count": 9,
   "metadata": {},
   "outputs": [
    {
     "output_type": "display_data",
     "data": {
      "text/plain": "Canvas(toolbar=Toolbar(toolitems=[('Home', 'Reset original view', 'home', 'home'), ('Back', 'Back to previous …",
      "application/vnd.jupyter.widget-view+json": {
       "version_major": 2,
       "version_minor": 0,
       "model_id": "fd55bb11242f42bbb1a11f0489d6b635"
      }
     },
     "metadata": {}
    }
   ],
   "source": [
    "fig = plt.figure()\n",
    "ax = fig.add_subplot(111,projection=\"3d\")\n",
    "\n",
    "cmap = mpl.cm.jet\n",
    "norm = mpl.colors.Normalize(vmin=4,vmax=5)\n",
    "pcm = ax.scatter(df['vx_d'],df['vz_d'],df['impact_tdelta'])\n",
    "fig.colorbar(mpl.cm.ScalarMappable(norm=norm, cmap=cmap),label=\"RREV_threshold\")\n",
    "\n",
    "\n",
    "ax.set_xlabel('vx_d')\n",
    "ax.set_ylabel('vz_d')\n",
    "ax.set_zlabel('Delta_t [s]')\n",
    "\n",
    "ax.set_title('Time Rotating vs IC (Raw Data)')\n",
    "\n",
    "ax.set_zlim(0,0.5)\n",
    "\n",
    "\n",
    "\n",
    "\n",
    "plt.show()"
   ]
  },
  {
   "cell_type": "code",
   "execution_count": 10,
   "metadata": {},
   "outputs": [
    {
     "output_type": "display_data",
     "data": {
      "text/plain": "Canvas(toolbar=Toolbar(toolitems=[('Home', 'Reset original view', 'home', 'home'), ('Back', 'Back to previous …",
      "application/vnd.jupyter.widget-view+json": {
       "version_major": 2,
       "version_minor": 0,
       "model_id": "a07f54269c5f48f586cd4cd90f77f80e"
      }
     },
     "metadata": {}
    }
   ],
   "source": [
    "fig = plt.figure()\n",
    "ax = fig.add_subplot(111,projection=\"3d\")\n",
    "\n",
    "\n",
    "cmap = mpl.cm.rainbow\n",
    "norm = mpl.colors.Normalize(vmin=0,vmax=4)\n",
    "\n",
    "pcm = ax.scatter(df['RREV_trigger'],df['landing_rate'],df['impact_tdelta'],c=df['vz_d'],cmap=cmap)\n",
    "fig.colorbar(mpl.cm.ScalarMappable(norm=norm, cmap=cmap),label='Vz_d')\n",
    "\n",
    "\n",
    "ax.set_xlabel('RREV_trigger')\n",
    "ax.set_ylabel('Landing_rate')\n",
    "ax.set_zlabel('Delta_t [s]')\n",
    "\n",
    "ax.set_title('Time Rotating vs RREV (Raw Data)')\n",
    "\n",
    "ax.set_zlim(0,0.5)\n",
    "\n",
    "\n",
    "\n",
    "\n",
    "plt.show()"
   ]
  },
  {
   "cell_type": "code",
   "execution_count": 11,
   "metadata": {},
   "outputs": [
    {
     "output_type": "display_data",
     "data": {
      "text/plain": "Canvas(toolbar=Toolbar(toolitems=[('Home', 'Reset original view', 'home', 'home'), ('Back', 'Back to previous …",
      "application/vnd.jupyter.widget-view+json": {
       "version_major": 2,
       "version_minor": 0,
       "model_id": "b87bb6f8f42f4feca5147e1afff5c529"
      }
     },
     "metadata": {}
    }
   ],
   "source": [
    "## AVG LANDING RATE PLOT\n",
    "fig = plt.figure()\n",
    "ax = fig.add_subplot(111,projection=\"3d\")\n",
    "\n",
    "cmap = mpl.cm.rainbow\n",
    "norm = mpl.colors.Normalize(vmin=0,vmax=4)\n",
    "\n",
    "pcm = ax.scatter(df['RREV_trigger'],df['vz_d'],df['landing_rate'],c=df['vz_d'],cmap=cmap)\n",
    "fig.colorbar(mpl.cm.ScalarMappable(norm=norm, cmap=cmap),label='Vz_d')\n",
    "\n",
    "\n",
    "\n",
    "ax.set_xlabel('RREV_trigger')\n",
    "ax.set_ylabel('vz_d')\n",
    "ax.set_zlabel('LR')\n",
    "\n",
    "\n",
    "plt.show()"
   ]
  },
  {
   "cell_type": "code",
   "execution_count": 27,
   "metadata": {},
   "outputs": [
    {
     "output_type": "display_data",
     "data": {
      "text/plain": "Canvas(toolbar=Toolbar(toolitems=[('Home', 'Reset original view', 'home', 'home'), ('Back', 'Back to previous …",
      "application/vnd.jupyter.widget-view+json": {
       "version_major": 2,
       "version_minor": 0,
       "model_id": "8cb0ec6036d54b938be15cfa6a35756b"
      }
     },
     "metadata": {}
    }
   ],
   "source": [
    "## AVG LANDING RATE PLOT\n",
    "fig = plt.figure()\n",
    "ax = fig.add_subplot(111,projection=\"3d\")\n",
    "\n",
    "cmap = mpl.cm.rainbow\n",
    "norm = mpl.colors.Normalize(vmin=4,vmax=5)\n",
    "\n",
    "pcm = ax.scatter(df['vx_d'],df['vz_d'],df['My_d'],c=df['RREV_trigger'],cmap=cmap)\n",
    "fig.colorbar(mpl.cm.ScalarMappable(norm=norm, cmap=cmap),label='RREV')\n",
    "\n",
    "\n",
    "\n",
    "ax.set_xlabel('vx_d')\n",
    "ax.set_ylabel('vz_d')\n",
    "ax.set_zlabel('My_d')\n",
    "\n",
    "\n",
    "plt.show()\n",
    "## I have more data for vz = (1.5,2.75) than vz = (3.00,4.0) so My_d differences are likely not a trend, just sparse data\n",
    "\n"
   ]
  },
  {
   "cell_type": "code",
   "execution_count": 13,
   "metadata": {},
   "outputs": [
    {
     "output_type": "display_data",
     "data": {
      "text/plain": "Canvas(toolbar=Toolbar(toolitems=[('Home', 'Reset original view', 'home', 'home'), ('Back', 'Back to previous …",
      "application/vnd.jupyter.widget-view+json": {
       "version_major": 2,
       "version_minor": 0,
       "model_id": "dd5a66b0e9f24bfbb39017243f70d5c6"
      }
     },
     "metadata": {}
    }
   ],
   "source": [
    "\n",
    "## AVG LANDING RATE PLOT\n",
    "fig = plt.figure()\n",
    "ax = fig.add_subplot(111,projection=\"3d\")\n",
    "\n",
    "cmap = mpl.cm.rainbow\n",
    "norm = mpl.colors.Normalize(vmin=0,vmax=1)\n",
    "pcm = ax.scatter(df['vx_d'],df['vz_d'],-df['impact_eul'],c=df['landing_rate'],cmap=cmap)\n",
    "fig.colorbar(mpl.cm.ScalarMappable(norm=norm, cmap=cmap),label='Landing %')\n",
    "\n",
    "ax.set_xlabel('vx_d')\n",
    "ax.set_ylabel('vz_d')\n",
    "ax.set_zlabel('Impact Angle')\n",
    "\n",
    "\n",
    "ax.set_zlim(-70,180)\n",
    "ax.set_zticks([0,60,120,180])\n",
    "\n",
    "## Failed landings in corner\n",
    "plt.show()"
   ]
  },
  {
   "cell_type": "code",
   "execution_count": 14,
   "metadata": {},
   "outputs": [
    {
     "output_type": "display_data",
     "data": {
      "text/plain": "Canvas(toolbar=Toolbar(toolitems=[('Home', 'Reset original view', 'home', 'home'), ('Back', 'Back to previous …",
      "application/vnd.jupyter.widget-view+json": {
       "version_major": 2,
       "version_minor": 0,
       "model_id": "887f040c28c647a7a99adbd2b62bfc9c"
      }
     },
     "metadata": {}
    }
   ],
   "source": [
    "## AVG LANDING RATE PLOT\n",
    "fig = plt.figure()\n",
    "ax = fig.add_subplot(111,projection=\"3d\")\n",
    "\n",
    "cmap = mpl.cm.jet\n",
    "norm = mpl.colors.Normalize(vmin=0,vmax=180)\n",
    "ax.plot_trisurf(df_avg['vx_d'],df_avg['vz_d'],-df_avg['impact_eul','mean'],cmap=cmap)\n",
    "\n",
    "\n",
    "ax.set_xlim(0,2.75)\n",
    "ax.set_ylim(1.0,4.0)\n",
    "ax.set_zlim(-70,180)\n",
    "ax.set_zticks([0,60,120,180])\n",
    "\n",
    "\n",
    "ax.set_xlabel('vx_d')\n",
    "ax.set_ylabel('vz_d')\n",
    "ax.set_zlabel('Impact Angle')\n",
    "\n",
    "ax.set_title('Avg Impact Angle vs IC')\n",
    "plt.show()"
   ]
  },
  {
   "cell_type": "code",
   "execution_count": 15,
   "metadata": {},
   "outputs": [
    {
     "output_type": "display_data",
     "data": {
      "text/plain": "Canvas(toolbar=Toolbar(toolitems=[('Home', 'Reset original view', 'home', 'home'), ('Back', 'Back to previous …",
      "application/vnd.jupyter.widget-view+json": {
       "version_major": 2,
       "version_minor": 0,
       "model_id": "7c41119d252c4aa898c727f4a8df9d6b"
      }
     },
     "metadata": {}
    }
   ],
   "source": [
    "## AVG LANDING RATE PLOT\n",
    "fig = plt.figure()\n",
    "ax = fig.add_subplot(111)\n",
    "\n",
    "\n",
    "cmap = mpl.cm.Greys\n",
    "norm = mpl.colors.Normalize(vmin=0,vmax=1)\n",
    "\n",
    "ax.scatter(df['RREV_threshold'],df['My_d'],c=df['landing_rate'],cmap=cmap)\n",
    "fig.colorbar(mpl.cm.ScalarMappable(norm=norm, cmap=cmap),label='Landing %')\n",
    "\n",
    "ax.grid()\n",
    "ax.set_xlim(3,7)\n",
    "ax.set_ylim(0,10)\n",
    "ax.hlines(7.77,3,7)\n",
    "ax.text(3.05,8.0,'Motors Maxed Out')\n",
    "\n",
    "ax.set_xlabel('RREV_thr')\n",
    "ax.set_ylabel('My_d [N*mm]')\n",
    "ax.set_title('Policy: My_d vs RREV_thr')\n",
    "\n",
    "plt.show()"
   ]
  },
  {
   "cell_type": "code",
   "execution_count": 16,
   "metadata": {},
   "outputs": [
    {
     "output_type": "display_data",
     "data": {
      "text/plain": "Canvas(toolbar=Toolbar(toolitems=[('Home', 'Reset original view', 'home', 'home'), ('Back', 'Back to previous …",
      "application/vnd.jupyter.widget-view+json": {
       "version_major": 2,
       "version_minor": 0,
       "model_id": "f6eb97af11ba46c48fd84b1832b459b8"
      }
     },
     "metadata": {}
    }
   ],
   "source": [
    "## AVG LANDING RATE PLOT\n",
    "fig = plt.figure()\n",
    "ax = fig.add_subplot(111)\n",
    "\n",
    "\n",
    "cmap = mpl.cm.jet\n",
    "norm = mpl.colors.Normalize(vmin=0,vmax=3)\n",
    "\n",
    "ax.scatter(df['RREV_threshold'],df['My_d'],c=df['vz_d'],cmap=cmap)\n",
    "fig.colorbar(mpl.cm.ScalarMappable(norm=norm, cmap=cmap),label='Vz_d')\n",
    "\n",
    "ax.grid()\n",
    "ax.set_ylim(0,10)\n",
    "ax.set_xlim(3,7)\n",
    "\n",
    "ax.hlines(7.77,3,7)\n",
    "ax.text(3.05,-8.0,'Motors Maxed Out')\n",
    "\n",
    "ax.set_xlabel('RREV_thr')\n",
    "ax.set_ylabel('My_d [N*mm]')\n",
    "ax.set_title('Policy: My_d vs RREV_thr')\n",
    "## As Vz increases RREV_trigger decreases to preserve time to contact. It also finds a host of My_d that work and they vary because of the robustness of the legs and the fact that landing success isn't deterministic.\n",
    "plt.show()"
   ]
  },
  {
   "cell_type": "code",
   "execution_count": 37,
   "metadata": {},
   "outputs": [
    {
     "output_type": "display_data",
     "data": {
      "text/plain": "Canvas(toolbar=Toolbar(toolitems=[('Home', 'Reset original view', 'home', 'home'), ('Back', 'Back to previous …",
      "application/vnd.jupyter.widget-view+json": {
       "version_major": 2,
       "version_minor": 0,
       "model_id": "b58d6d594ebb4099aae4916b2416862e"
      }
     },
     "metadata": {}
    }
   ],
   "source": [
    "## AVG LANDING RATE PLOT\n",
    "fig = plt.figure()\n",
    "ax = fig.add_subplot(111,projection=\"3d\")\n",
    "\n",
    "cmap = mpl.cm.rainbow\n",
    "norm = mpl.colors.Normalize(vmin=0,vmax=1)\n",
    "\n",
    "temp_df = df.query(f\"vx_d=={2.5}\").iloc[:][['vz_d','vx_d','RREV_threshold','My_d','landing_rate']]\n",
    "\n",
    "pcm = ax.scatter(temp_df['vz_d'],temp_df['vx_d'],temp_df['My_d'],c=temp_df['landing_rate'],cmap=cmap)\n",
    "fig.colorbar(mpl.cm.ScalarMappable(norm=norm, cmap=cmap),label='Landing %')\n",
    "\n",
    "ax.set_zlim(0,10)\n",
    "# ax.set_xlim(3,7)\n",
    "\n",
    "ax.set_xlabel('vz_d')\n",
    "ax.set_ylabel('vx_d')\n",
    "ax.set_zlabel('My_d')\n",
    "\n",
    "\n",
    "plt.show()"
   ]
  },
  {
   "cell_type": "code",
   "execution_count": null,
   "metadata": {},
   "outputs": [],
   "source": []
  },
  {
   "cell_type": "code",
   "execution_count": 18,
   "metadata": {},
   "outputs": [
    {
     "output_type": "display_data",
     "data": {
      "text/plain": "Canvas(toolbar=Toolbar(toolitems=[('Home', 'Reset original view', 'home', 'home'), ('Back', 'Back to previous …",
      "application/vnd.jupyter.widget-view+json": {
       "version_major": 2,
       "version_minor": 0,
       "model_id": "65a5e7c90826455d89e640a1daae7c02"
      }
     },
     "metadata": {}
    }
   ],
   "source": [
    "## AVG LANDING RATE PLOT\n",
    "fig = plt.figure()\n",
    "ax = fig.add_subplot(111,projection=\"3d\")\n",
    "\n",
    "cmap = mpl.cm.rainbow\n",
    "norm = mpl.colors.Normalize(vmin=0,vmax=1)\n",
    "\n",
    "pcm = ax.scatter(df['RREV_threshold'],df['landing_rate'],df['My_d'],c=df['landing_rate'],cmap=cmap)\n",
    "fig.colorbar(mpl.cm.ScalarMappable(norm=norm, cmap=cmap),label='Landing %')\n",
    "\n",
    "ax.set_zlim(0,10)\n",
    "ax.set_xlim(3,7)\n",
    "\n",
    "ax.set_xlabel('RREV_trigger')\n",
    "ax.set_ylabel('Landing_Rate')\n",
    "ax.set_zlabel('My_d')\n",
    "\n",
    "\n",
    "plt.show()"
   ]
  },
  {
   "cell_type": "code",
   "execution_count": 19,
   "metadata": {},
   "outputs": [
    {
     "output_type": "display_data",
     "data": {
      "text/plain": "Canvas(toolbar=Toolbar(toolitems=[('Home', 'Reset original view', 'home', 'home'), ('Back', 'Back to previous …",
      "application/vnd.jupyter.widget-view+json": {
       "version_major": 2,
       "version_minor": 0,
       "model_id": "eb9554ab60214363af5afaeab38733a9"
      }
     },
     "metadata": {}
    }
   ],
   "source": [
    "## AVG LANDING RATE PLOT\n",
    "fig = plt.figure()\n",
    "ax = fig.add_subplot(111,projection=\"3d\")\n",
    "\n",
    "cmap = mpl.cm.rainbow\n",
    "norm = mpl.colors.Normalize(vmin=0,vmax=1)\n",
    "\n",
    "pcm = ax.scatter(df['RREV_trigger'],df['vz_d'],df['My_d'],c=df['landing_rate'],cmap=cmap)\n",
    "fig.colorbar(mpl.cm.ScalarMappable(norm=norm, cmap=cmap),label='Landing %')\n",
    "\n",
    "ax.set_zlim(0,10)\n",
    "ax.set_xlim(3,7)\n",
    "\n",
    "ax.set_xlabel('RREV_trigger')\n",
    "ax.set_ylabel('Vz_d')\n",
    "ax.set_zlabel('My_d')\n",
    "\n",
    "\n",
    "plt.show()"
   ]
  },
  {
   "cell_type": "code",
   "execution_count": 20,
   "metadata": {},
   "outputs": [
    {
     "output_type": "display_data",
     "data": {
      "text/plain": "Canvas(toolbar=Toolbar(toolitems=[('Home', 'Reset original view', 'home', 'home'), ('Back', 'Back to previous …",
      "application/vnd.jupyter.widget-view+json": {
       "version_major": 2,
       "version_minor": 0,
       "model_id": "8093b6d1e76a4792bbc247e907467ba0"
      }
     },
     "metadata": {}
    }
   ],
   "source": [
    "fig = plt.figure()\n",
    "ax = fig.add_subplot(111,projection=\"3d\")\n",
    "\n",
    "cmap = mpl.cm.rainbow\n",
    "norm = mpl.colors.Normalize(vmin=0,vmax=1)\n",
    "\n",
    "pcm = ax.scatter(df['vx_d'],df['My_d'],df['RREV_threshold'],c=df['landing_rate'],cmap=cmap)\n",
    "fig.colorbar(mpl.cm.ScalarMappable(norm=norm, cmap=cmap),label='Landing %')\n",
    "\n",
    "# ax.set_xlim(3,7)\n",
    "# ax.set_ylim(0,-10)\n",
    "# ax.set_zlim(0,-10)\n",
    "\n",
    "ax.set_xlabel('Vz_d')\n",
    "ax.set_ylabel('OF_y_trigger')\n",
    "ax.set_zlabel('RREV_threshold')\n",
    "\n",
    "\n",
    "plt.show()"
   ]
  },
  {
   "cell_type": "code",
   "execution_count": 21,
   "metadata": {},
   "outputs": [
    {
     "output_type": "display_data",
     "data": {
      "text/plain": "Canvas(toolbar=Toolbar(toolitems=[('Home', 'Reset original view', 'home', 'home'), ('Back', 'Back to previous …",
      "application/vnd.jupyter.widget-view+json": {
       "version_major": 2,
       "version_minor": 0,
       "model_id": "24393296e66647bba287179a6ef7d245"
      }
     },
     "metadata": {}
    }
   ],
   "source": [
    "## AVG LANDING RATE PLOT\n",
    "fig = plt.figure()\n",
    "ax = fig.add_subplot(111)\n",
    "\n",
    "cmap = mpl.cm.jet\n",
    "norm = mpl.colors.Normalize(vmin=0,vmax=3)\n",
    "\n",
    "pcm = ax.scatter(df_avg['RREV_threshold','mean'],df_avg['RREV_trigger','mean'],c=df_avg['vz_d'],cmap=cmap)\n",
    "fig.colorbar(mpl.cm.ScalarMappable(norm=norm, cmap=cmap),label='Vz_d')\n",
    "\n",
    "ax.grid()\n",
    "ax.set_xlim(3,8)\n",
    "ax.set_ylim(3,8)\n",
    "\n",
    "ax.set_xlabel('RREV_threshold')\n",
    "ax.set_ylabel('RREV_trigger')\n",
    "\n",
    "\n",
    "\n",
    "plt.show()"
   ]
  },
  {
   "cell_type": "code",
   "execution_count": 22,
   "metadata": {},
   "outputs": [
    {
     "output_type": "display_data",
     "data": {
      "text/plain": "Canvas(toolbar=Toolbar(toolitems=[('Home', 'Reset original view', 'home', 'home'), ('Back', 'Back to previous …",
      "application/vnd.jupyter.widget-view+json": {
       "version_major": 2,
       "version_minor": 0,
       "model_id": "f342a0b4dfa949bcb5aaeb5e63921d07"
      }
     },
     "metadata": {}
    }
   ],
   "source": [
    "fig = plt.figure()\n",
    "ax = fig.add_subplot(111,projection=\"3d\")\n",
    "\n",
    "cmap = mpl.cm.rainbow\n",
    "norm = mpl.colors.Normalize(vmin=0,vmax=1)\n",
    "\n",
    "pcm = ax.scatter(df['G1'],df['OF_y'],df['My_d'],c=df['landing_rate'],cmap=cmap)\n",
    "fig.colorbar(mpl.cm.ScalarMappable(norm=norm, cmap=cmap),label='Landing Rate')\n",
    "\n",
    "# ax.set_xlim(3,7)\n",
    "# ax.set_ylim(0,-10)\n",
    "ax.set_zlim(0,10)\n",
    "\n",
    "ax.set_xlabel('G1')\n",
    "ax.set_ylabel('OF_y')\n",
    "ax.set_zlabel('My_d')\n",
    "\n",
    "\n",
    "plt.show()"
   ]
  },
  {
   "cell_type": "code",
   "execution_count": 23,
   "metadata": {},
   "outputs": [
    {
     "output_type": "display_data",
     "data": {
      "text/plain": "Canvas(toolbar=Toolbar(toolitems=[('Home', 'Reset original view', 'home', 'home'), ('Back', 'Back to previous …",
      "application/vnd.jupyter.widget-view+json": {
       "version_major": 2,
       "version_minor": 0,
       "model_id": "b670418fd7ae4f80b6b5ad212aaff13f"
      }
     },
     "metadata": {}
    }
   ],
   "source": [
    "fig = plt.figure()\n",
    "ax = fig.add_subplot(111,projection=\"3d\")\n",
    "\n",
    "cmap = mpl.cm.rainbow\n",
    "norm = mpl.colors.Normalize(vmin=0,vmax=1)\n",
    "\n",
    "pcm = ax.scatter(df['G1'],df['G2'],df['My_d'],c=df['landing_rate'],cmap=cmap)\n",
    "fig.colorbar(mpl.cm.ScalarMappable(norm=norm, cmap=cmap),label='Landing Rate')\n",
    "\n",
    "# ax.set_xlim(3,7)\n",
    "# ax.set_ylim(0,-10)\n",
    "ax.set_zlim(0,10)\n",
    "\n",
    "ax.set_xlabel('G1')\n",
    "ax.set_ylabel('G2')\n",
    "ax.set_zlabel('My_d')\n",
    "\n",
    "\n",
    "plt.show()"
   ]
  },
  {
   "cell_type": "code",
   "execution_count": 24,
   "metadata": {},
   "outputs": [
    {
     "output_type": "display_data",
     "data": {
      "text/plain": "Canvas(toolbar=Toolbar(toolitems=[('Home', 'Reset original view', 'home', 'home'), ('Back', 'Back to previous …",
      "application/vnd.jupyter.widget-view+json": {
       "version_major": 2,
       "version_minor": 0,
       "model_id": "8a9743d528fa489e9f12f7223946bcc5"
      }
     },
     "metadata": {}
    }
   ],
   "source": [
    "fig = plt.figure()\n",
    "ax = fig.add_subplot(111,projection=\"3d\")\n",
    "\n",
    "cmap = mpl.cm.rainbow\n",
    "norm = mpl.colors.Normalize(vmin=0,vmax=1)\n",
    "\n",
    "pcm = ax.scatter(df['G1'],df['vx_d'],df['My_d'],c=df['landing_rate'],cmap=cmap)\n",
    "fig.colorbar(mpl.cm.ScalarMappable(norm=norm, cmap=cmap),label='Landing Rate')\n",
    "\n",
    "# ax.set_xlim(3,7)\n",
    "# ax.set_ylim(0,-10)\n",
    "ax.set_zlim(0,10)\n",
    "\n",
    "ax.set_xlabel('G1')\n",
    "ax.set_ylabel('vx_d')\n",
    "ax.set_zlabel('My_d')\n",
    "\n",
    "\n",
    "plt.show()"
   ]
  },
  {
   "cell_type": "code",
   "execution_count": null,
   "metadata": {},
   "outputs": [],
   "source": []
  }
 ]
}