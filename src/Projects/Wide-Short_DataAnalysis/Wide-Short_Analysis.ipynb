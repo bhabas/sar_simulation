{
 "metadata": {
  "language_info": {
   "codemirror_mode": {
    "name": "ipython",
    "version": 3
   },
   "file_extension": ".py",
   "mimetype": "text/x-python",
   "name": "python",
   "nbconvert_exporter": "python",
   "pygments_lexer": "ipython3",
   "version": "3.8.5-final"
  },
  "orig_nbformat": 2,
  "kernelspec": {
   "name": "python38564bit0282941c0ba945238a13db8c20574d9c",
   "display_name": "Python 3.8.5 64-bit",
   "language": "python"
  }
 },
 "nbformat": 4,
 "nbformat_minor": 2,
 "cells": [
  {
   "cell_type": "code",
   "execution_count": 42,
   "metadata": {},
   "outputs": [],
   "source": [
    "## IMPORT MODULES\n",
    "import pandas as pd\n",
    "import numpy as np"
   ]
  },
  {
   "cell_type": "code",
   "execution_count": 43,
   "metadata": {},
   "outputs": [],
   "source": [
    "## IMPORT PLOTTING MODULES\n",
    "import matplotlib.pyplot as plt\n",
    "from mpl_toolkits import mplot3d\n",
    "import matplotlib as mpl\n",
    "from matplotlib import cm\n",
    "%matplotlib widget"
   ]
  },
  {
   "cell_type": "code",
   "execution_count": 100,
   "metadata": {},
   "outputs": [
    {
     "output_type": "execute_result",
     "data": {
      "text/plain": [
       "    vz_d  vx_d trial_num           landing_rate           RREV_threshold  \\\n",
       "                    mean       std         mean       std           mean   \n",
       "0    1.5  0.00  1.500000  2.121320     0.283333  0.306413       4.810000   \n",
       "1    1.5  0.25  4.000000  1.000000     0.039083  0.006084       5.156667   \n",
       "2    1.5  0.50  2.000000       NaN     0.900000       NaN       4.700000   \n",
       "3    1.5  1.00  1.500000  1.870829     0.160377  0.142626       4.886667   \n",
       "4    1.5  1.25  2.666667  1.581139     0.225569  0.083748       4.998889   \n",
       "..   ...   ...       ...       ...          ...       ...            ...   \n",
       "124  4.0  1.75  2.600000  2.073644     0.672464  0.103555       3.982000   \n",
       "125  4.0  2.00  2.333333  2.516611     0.675151  0.139187       4.530000   \n",
       "126  4.0  2.25  2.000000  1.581139     0.583448  0.123526       4.094000   \n",
       "127  4.0  2.50  3.333333  1.527525     0.855172  0.138318       4.253333   \n",
       "128  4.0  2.75  3.666667  1.527525     0.729502  0.148059       4.210000   \n",
       "\n",
       "                     G1            ...    G2_sig           RREV_trigger  \\\n",
       "          std      mean       std  ...      mean       std         mean   \n",
       "0    0.056569  7.505000  6.866007  ...  0.165000  0.219203     5.079083   \n",
       "1    0.205994  5.943333  1.336650  ...  0.310000  0.259422     5.881000   \n",
       "2         NaN  5.970000       NaN  ...  0.020000       NaN     5.070778   \n",
       "3    0.302963  7.513333  2.498957  ...  0.136667  0.104435     5.201222   \n",
       "4    0.382637  6.034444  2.524738  ...  0.107778  0.104496     5.309894   \n",
       "..        ...       ...       ...  ...       ...       ...          ...   \n",
       "124  0.310757  6.418000  2.666837  ...  0.194000  0.339823     4.348895   \n",
       "125  0.679779  8.966667  2.413490  ...  0.016667  0.011547     4.938895   \n",
       "126  0.147919  5.198000  2.603665  ...  0.074000  0.074364     4.387886   \n",
       "127  0.335460  9.290000  2.240246  ...  0.056667  0.056862     4.753791   \n",
       "128  0.321870  5.636667  1.836146  ...  0.193333  0.274651     4.597619   \n",
       "\n",
       "                   OF_y                My_d            impact_eul             \n",
       "          std      mean       std      mean       std        mean        std  \n",
       "0    0.350136  0.000000  0.000000 -7.522167  6.765362  -36.893725  69.640284  \n",
       "1    0.589811 -0.840000  0.126444 -4.082000  0.988870  -70.896054  11.608815  \n",
       "2         NaN -1.353333       NaN -5.940333       NaN  -91.307558        NaN  \n",
       "3    0.429830 -2.922700  0.371288 -5.371650  2.515252 -123.645518  24.251679  \n",
       "4    0.372966 -3.661331  0.313284 -4.530605  1.701714  -91.494918  29.868333  \n",
       "..        ...       ...       ...       ...       ...         ...        ...  \n",
       "124  0.370183 -1.812336  0.153474 -2.453699  1.461116 -130.816151  14.258673  \n",
       "125  0.685269 -2.349903  0.325118 -4.049552  2.042013 -130.034360  10.626587  \n",
       "126  0.156714 -2.352070  0.084677 -1.656082  0.910630 -106.961044  26.088351  \n",
       "127  0.491372 -2.829723  0.289414 -3.453601  1.409934 -137.546452   6.152924  \n",
       "128  0.409054 -3.007723  0.273027 -1.957654  0.894234 -105.372723  10.612725  \n",
       "\n",
       "[129 rows x 26 columns]"
      ],
      "text/html": "<div>\n<style scoped>\n    .dataframe tbody tr th:only-of-type {\n        vertical-align: middle;\n    }\n\n    .dataframe tbody tr th {\n        vertical-align: top;\n    }\n\n    .dataframe thead tr th {\n        text-align: left;\n    }\n</style>\n<table border=\"1\" class=\"dataframe\">\n  <thead>\n    <tr>\n      <th></th>\n      <th>vz_d</th>\n      <th>vx_d</th>\n      <th colspan=\"2\" halign=\"left\">trial_num</th>\n      <th colspan=\"2\" halign=\"left\">landing_rate</th>\n      <th colspan=\"2\" halign=\"left\">RREV_threshold</th>\n      <th colspan=\"2\" halign=\"left\">G1</th>\n      <th>...</th>\n      <th colspan=\"2\" halign=\"left\">G2_sig</th>\n      <th colspan=\"2\" halign=\"left\">RREV_trigger</th>\n      <th colspan=\"2\" halign=\"left\">OF_y</th>\n      <th colspan=\"2\" halign=\"left\">My_d</th>\n      <th colspan=\"2\" halign=\"left\">impact_eul</th>\n    </tr>\n    <tr>\n      <th></th>\n      <th></th>\n      <th></th>\n      <th>mean</th>\n      <th>std</th>\n      <th>mean</th>\n      <th>std</th>\n      <th>mean</th>\n      <th>std</th>\n      <th>mean</th>\n      <th>std</th>\n      <th>...</th>\n      <th>mean</th>\n      <th>std</th>\n      <th>mean</th>\n      <th>std</th>\n      <th>mean</th>\n      <th>std</th>\n      <th>mean</th>\n      <th>std</th>\n      <th>mean</th>\n      <th>std</th>\n    </tr>\n  </thead>\n  <tbody>\n    <tr>\n      <th>0</th>\n      <td>1.5</td>\n      <td>0.00</td>\n      <td>1.500000</td>\n      <td>2.121320</td>\n      <td>0.283333</td>\n      <td>0.306413</td>\n      <td>4.810000</td>\n      <td>0.056569</td>\n      <td>7.505000</td>\n      <td>6.866007</td>\n      <td>...</td>\n      <td>0.165000</td>\n      <td>0.219203</td>\n      <td>5.079083</td>\n      <td>0.350136</td>\n      <td>0.000000</td>\n      <td>0.000000</td>\n      <td>-7.522167</td>\n      <td>6.765362</td>\n      <td>-36.893725</td>\n      <td>69.640284</td>\n    </tr>\n    <tr>\n      <th>1</th>\n      <td>1.5</td>\n      <td>0.25</td>\n      <td>4.000000</td>\n      <td>1.000000</td>\n      <td>0.039083</td>\n      <td>0.006084</td>\n      <td>5.156667</td>\n      <td>0.205994</td>\n      <td>5.943333</td>\n      <td>1.336650</td>\n      <td>...</td>\n      <td>0.310000</td>\n      <td>0.259422</td>\n      <td>5.881000</td>\n      <td>0.589811</td>\n      <td>-0.840000</td>\n      <td>0.126444</td>\n      <td>-4.082000</td>\n      <td>0.988870</td>\n      <td>-70.896054</td>\n      <td>11.608815</td>\n    </tr>\n    <tr>\n      <th>2</th>\n      <td>1.5</td>\n      <td>0.50</td>\n      <td>2.000000</td>\n      <td>NaN</td>\n      <td>0.900000</td>\n      <td>NaN</td>\n      <td>4.700000</td>\n      <td>NaN</td>\n      <td>5.970000</td>\n      <td>NaN</td>\n      <td>...</td>\n      <td>0.020000</td>\n      <td>NaN</td>\n      <td>5.070778</td>\n      <td>NaN</td>\n      <td>-1.353333</td>\n      <td>NaN</td>\n      <td>-5.940333</td>\n      <td>NaN</td>\n      <td>-91.307558</td>\n      <td>NaN</td>\n    </tr>\n    <tr>\n      <th>3</th>\n      <td>1.5</td>\n      <td>1.00</td>\n      <td>1.500000</td>\n      <td>1.870829</td>\n      <td>0.160377</td>\n      <td>0.142626</td>\n      <td>4.886667</td>\n      <td>0.302963</td>\n      <td>7.513333</td>\n      <td>2.498957</td>\n      <td>...</td>\n      <td>0.136667</td>\n      <td>0.104435</td>\n      <td>5.201222</td>\n      <td>0.429830</td>\n      <td>-2.922700</td>\n      <td>0.371288</td>\n      <td>-5.371650</td>\n      <td>2.515252</td>\n      <td>-123.645518</td>\n      <td>24.251679</td>\n    </tr>\n    <tr>\n      <th>4</th>\n      <td>1.5</td>\n      <td>1.25</td>\n      <td>2.666667</td>\n      <td>1.581139</td>\n      <td>0.225569</td>\n      <td>0.083748</td>\n      <td>4.998889</td>\n      <td>0.382637</td>\n      <td>6.034444</td>\n      <td>2.524738</td>\n      <td>...</td>\n      <td>0.107778</td>\n      <td>0.104496</td>\n      <td>5.309894</td>\n      <td>0.372966</td>\n      <td>-3.661331</td>\n      <td>0.313284</td>\n      <td>-4.530605</td>\n      <td>1.701714</td>\n      <td>-91.494918</td>\n      <td>29.868333</td>\n    </tr>\n    <tr>\n      <th>...</th>\n      <td>...</td>\n      <td>...</td>\n      <td>...</td>\n      <td>...</td>\n      <td>...</td>\n      <td>...</td>\n      <td>...</td>\n      <td>...</td>\n      <td>...</td>\n      <td>...</td>\n      <td>...</td>\n      <td>...</td>\n      <td>...</td>\n      <td>...</td>\n      <td>...</td>\n      <td>...</td>\n      <td>...</td>\n      <td>...</td>\n      <td>...</td>\n      <td>...</td>\n      <td>...</td>\n    </tr>\n    <tr>\n      <th>124</th>\n      <td>4.0</td>\n      <td>1.75</td>\n      <td>2.600000</td>\n      <td>2.073644</td>\n      <td>0.672464</td>\n      <td>0.103555</td>\n      <td>3.982000</td>\n      <td>0.310757</td>\n      <td>6.418000</td>\n      <td>2.666837</td>\n      <td>...</td>\n      <td>0.194000</td>\n      <td>0.339823</td>\n      <td>4.348895</td>\n      <td>0.370183</td>\n      <td>-1.812336</td>\n      <td>0.153474</td>\n      <td>-2.453699</td>\n      <td>1.461116</td>\n      <td>-130.816151</td>\n      <td>14.258673</td>\n    </tr>\n    <tr>\n      <th>125</th>\n      <td>4.0</td>\n      <td>2.00</td>\n      <td>2.333333</td>\n      <td>2.516611</td>\n      <td>0.675151</td>\n      <td>0.139187</td>\n      <td>4.530000</td>\n      <td>0.679779</td>\n      <td>8.966667</td>\n      <td>2.413490</td>\n      <td>...</td>\n      <td>0.016667</td>\n      <td>0.011547</td>\n      <td>4.938895</td>\n      <td>0.685269</td>\n      <td>-2.349903</td>\n      <td>0.325118</td>\n      <td>-4.049552</td>\n      <td>2.042013</td>\n      <td>-130.034360</td>\n      <td>10.626587</td>\n    </tr>\n    <tr>\n      <th>126</th>\n      <td>4.0</td>\n      <td>2.25</td>\n      <td>2.000000</td>\n      <td>1.581139</td>\n      <td>0.583448</td>\n      <td>0.123526</td>\n      <td>4.094000</td>\n      <td>0.147919</td>\n      <td>5.198000</td>\n      <td>2.603665</td>\n      <td>...</td>\n      <td>0.074000</td>\n      <td>0.074364</td>\n      <td>4.387886</td>\n      <td>0.156714</td>\n      <td>-2.352070</td>\n      <td>0.084677</td>\n      <td>-1.656082</td>\n      <td>0.910630</td>\n      <td>-106.961044</td>\n      <td>26.088351</td>\n    </tr>\n    <tr>\n      <th>127</th>\n      <td>4.0</td>\n      <td>2.50</td>\n      <td>3.333333</td>\n      <td>1.527525</td>\n      <td>0.855172</td>\n      <td>0.138318</td>\n      <td>4.253333</td>\n      <td>0.335460</td>\n      <td>9.290000</td>\n      <td>2.240246</td>\n      <td>...</td>\n      <td>0.056667</td>\n      <td>0.056862</td>\n      <td>4.753791</td>\n      <td>0.491372</td>\n      <td>-2.829723</td>\n      <td>0.289414</td>\n      <td>-3.453601</td>\n      <td>1.409934</td>\n      <td>-137.546452</td>\n      <td>6.152924</td>\n    </tr>\n    <tr>\n      <th>128</th>\n      <td>4.0</td>\n      <td>2.75</td>\n      <td>3.666667</td>\n      <td>1.527525</td>\n      <td>0.729502</td>\n      <td>0.148059</td>\n      <td>4.210000</td>\n      <td>0.321870</td>\n      <td>5.636667</td>\n      <td>1.836146</td>\n      <td>...</td>\n      <td>0.193333</td>\n      <td>0.274651</td>\n      <td>4.597619</td>\n      <td>0.409054</td>\n      <td>-3.007723</td>\n      <td>0.273027</td>\n      <td>-1.957654</td>\n      <td>0.894234</td>\n      <td>-105.372723</td>\n      <td>10.612725</td>\n    </tr>\n  </tbody>\n</table>\n<p>129 rows × 26 columns</p>\n</div>"
     },
     "metadata": {},
     "execution_count": 100
    }
   ],
   "source": [
    "df = pd.read_csv(\"Wide-Short_Summary.csv\")\n",
    "df['My_d'] = df['My_d'].apply(lambda x: -1*np.abs(x))\n",
    "\n",
    "df_avg = df.groupby(['vz_d','vx_d']).agg([np.mean,np.std]).reset_index()\n",
    "\n",
    "\n",
    "nan_df = df.dropna()\n",
    "nan_df_avg = nan_df.groupby(['vz_d','vx_d']).agg([np.mean,np.std]).reset_index()\n",
    "\n",
    "nan_df_avg\n"
   ]
  },
  {
   "cell_type": "code",
   "execution_count": 82,
   "metadata": {},
   "outputs": [],
   "source": []
  },
  {
   "cell_type": "code",
   "execution_count": 101,
   "metadata": {},
   "outputs": [
    {
     "output_type": "display_data",
     "data": {
      "text/plain": "Canvas(toolbar=Toolbar(toolitems=[('Home', 'Reset original view', 'home', 'home'), ('Back', 'Back to previous …",
      "application/vnd.jupyter.widget-view+json": {
       "version_major": 2,
       "version_minor": 0,
       "model_id": "bc89f8ba9ade4c9c9a388e322dc24af4"
      }
     },
     "metadata": {}
    }
   ],
   "source": [
    "\n",
    "## LANDING RATE DATA\n",
    "fig = plt.figure()\n",
    "ax = fig.add_subplot(111,projection=\"3d\")\n",
    "ax.scatter(df['vx_d'],df['vz_d'],df['landing_rate'])\n",
    "\n",
    "ax.set_xlabel('vx_d')\n",
    "ax.set_ylabel('vz_d')\n",
    "ax.set_zlabel('landing rate')\n",
    "\n",
    "plt.show()"
   ]
  },
  {
   "cell_type": "code",
   "execution_count": 102,
   "metadata": {},
   "outputs": [
    {
     "output_type": "display_data",
     "data": {
      "text/plain": "Canvas(toolbar=Toolbar(toolitems=[('Home', 'Reset original view', 'home', 'home'), ('Back', 'Back to previous …",
      "application/vnd.jupyter.widget-view+json": {
       "version_major": 2,
       "version_minor": 0,
       "model_id": "36e94314157949e3a666c12f438ebb35"
      }
     },
     "metadata": {}
    }
   ],
   "source": [
    "\n",
    "## AVG LANDING RATE SURFACE\n",
    "fig = plt.figure()\n",
    "ax = fig.add_subplot(111,projection=\"3d\")\n",
    "cmap = mpl.cm.jet\n",
    "norm = mpl.colors.Normalize(vmin=0,vmax=1)\n",
    "pcm = ax.plot_trisurf(df_avg['vx_d'],df_avg['vz_d'],df_avg['landing_rate','mean'],cmap = cmap)\n",
    "fig.colorbar(mpl.cm.ScalarMappable(norm=norm, cmap=cmap),label=\"Landing %\")\n",
    "\n",
    "ax.set_zlim(0,1)\n",
    "\n",
    "ax.set_xlabel('vx_d')\n",
    "ax.set_ylabel('vz_d')\n",
    "ax.set_zlabel('Landing Rate')\n",
    "ax.set_title('Avg Landing Rate for Final 3 Episodes')\n",
    "\n",
    "\n",
    "plt.show()"
   ]
  },
  {
   "cell_type": "code",
   "execution_count": 114,
   "metadata": {},
   "outputs": [
    {
     "output_type": "display_data",
     "data": {
      "text/plain": "Canvas(toolbar=Toolbar(toolitems=[('Home', 'Reset original view', 'home', 'home'), ('Back', 'Back to previous …",
      "application/vnd.jupyter.widget-view+json": {
       "version_major": 2,
       "version_minor": 0,
       "model_id": "bc3f36c9bfb14e99a8a312de6ee05be0"
      }
     },
     "metadata": {}
    }
   ],
   "source": [
    "## RREV Threshold vs IC\n",
    "fig = plt.figure()\n",
    "ax = fig.add_subplot(111,projection=\"3d\")\n",
    "\n",
    "ax.scatter(df['vx_d'],df['vz_d'],df['RREV_threshold'])\n",
    "\n",
    "\n",
    "ax.set_xlim(0,2.75)\n",
    "ax.set_ylim(1.0,4.5)\n",
    "\n",
    "\n",
    "ax.set_xlabel('Vx_d')\n",
    "ax.set_ylabel('Vz_d')\n",
    "ax.set_zlabel('RREV_threshold')\n",
    "ax.set_title('RREV_thr vs IC - (Pure Data)')\n",
    "\n",
    "\n",
    "plt.show()"
   ]
  },
  {
   "cell_type": "code",
   "execution_count": 110,
   "metadata": {},
   "outputs": [
    {
     "output_type": "display_data",
     "data": {
      "text/plain": "Canvas(toolbar=Toolbar(toolitems=[('Home', 'Reset original view', 'home', 'home'), ('Back', 'Back to previous …",
      "application/vnd.jupyter.widget-view+json": {
       "version_major": 2,
       "version_minor": 0,
       "model_id": "e05ba82ab2f3435fb7108e4df79e7a16"
      }
     },
     "metadata": {}
    }
   ],
   "source": [
    "\n",
    "## AVG LANDING RATE PLOT\n",
    "fig = plt.figure()\n",
    "ax = fig.add_subplot(111,projection=\"3d\")\n",
    "\n",
    "cmap = mpl.cm.jet\n",
    "norm = mpl.colors.Normalize(vmin=4,vmax=5)\n",
    "pcm = ax.plot_trisurf(nan_df_avg['vx_d'],nan_df_avg['vz_d'],nan_df_avg['RREV_threshold','mean'],cmap=cmap)\n",
    "fig.colorbar(mpl.cm.ScalarMappable(norm=norm, cmap=cmap),label=\"RREV_threshold\")\n",
    "\n",
    "ax.set_xlim(0,2.75)\n",
    "ax.set_ylim(1.0,4.5)\n",
    "ax.set_zlim(3,6)\n",
    "\n",
    "ax.set_xlabel('vx_d')\n",
    "ax.set_ylabel('vz_d')\n",
    "ax.set_zlabel('RREV_threshold')\n",
    "\n",
    "ax.set_title('Avg RREV_thr vs IC')\n",
    "plt.show()"
   ]
  },
  {
   "cell_type": "code",
   "execution_count": 125,
   "metadata": {},
   "outputs": [
    {
     "output_type": "display_data",
     "data": {
      "text/plain": "Canvas(toolbar=Toolbar(toolitems=[('Home', 'Reset original view', 'home', 'home'), ('Back', 'Back to previous …",
      "application/vnd.jupyter.widget-view+json": {
       "version_major": 2,
       "version_minor": 0,
       "model_id": "f739fa0f431147bc88d61093af4fe564"
      }
     },
     "metadata": {}
    }
   ],
   "source": [
    "\n",
    "## AVG LANDING RATE PLOT\n",
    "fig = plt.figure()\n",
    "ax = fig.add_subplot(111,projection=\"3d\")\n",
    "\n",
    "pcm = ax.scatter(nan_df['vx_d'],nan_df['vz_d'],-nan_df['impact_eul'])\n",
    "\n",
    "ax.set_xlabel('vx_d')\n",
    "ax.set_ylabel('vz_d')\n",
    "ax.set_zlabel('Impact Angle')\n",
    "\n",
    "ax.set_zlim(-70,180)\n",
    "ax.set_zticks([0,60,120,180])\n",
    "\n",
    "\n",
    "plt.show()"
   ]
  },
  {
   "cell_type": "code",
   "execution_count": 129,
   "metadata": {},
   "outputs": [
    {
     "output_type": "display_data",
     "data": {
      "text/plain": "Canvas(toolbar=Toolbar(toolitems=[('Home', 'Reset original view', 'home', 'home'), ('Back', 'Back to previous …",
      "application/vnd.jupyter.widget-view+json": {
       "version_major": 2,
       "version_minor": 0,
       "model_id": "d2f21d6d6dd44e74b1ef61911c85620c"
      }
     },
     "metadata": {}
    }
   ],
   "source": [
    "## AVG LANDING RATE PLOT\n",
    "fig = plt.figure()\n",
    "ax = fig.add_subplot(111,projection=\"3d\")\n",
    "\n",
    "cmap = mpl.cm.jet\n",
    "norm = mpl.colors.Normalize(vmin=0,vmax=180)\n",
    "ax.plot_trisurf(nan_df_avg['vx_d'],nan_df_avg['vz_d'],-nan_df_avg['impact_eul','mean'],cmap=cmap)\n",
    "\n",
    "\n",
    "ax.set_xlim(0,2.75)\n",
    "ax.set_ylim(1.0,4.0)\n",
    "ax.set_zlim(-70,180)\n",
    "ax.set_zticks([0,60,120,180])\n",
    "\n",
    "\n",
    "ax.set_xlabel('vx_d')\n",
    "ax.set_ylabel('vz_d')\n",
    "ax.set_zlabel('Impact Angle')\n",
    "\n",
    "ax.set_title('Avg Impact Angle vs IC')\n",
    "plt.show()"
   ]
  },
  {
   "cell_type": "code",
   "execution_count": 153,
   "metadata": {},
   "outputs": [
    {
     "output_type": "display_data",
     "data": {
      "text/plain": "Canvas(toolbar=Toolbar(toolitems=[('Home', 'Reset original view', 'home', 'home'), ('Back', 'Back to previous …",
      "application/vnd.jupyter.widget-view+json": {
       "version_major": 2,
       "version_minor": 0,
       "model_id": "da0cbd4a70df4930af35530c7467399e"
      }
     },
     "metadata": {}
    }
   ],
   "source": [
    "## AVG LANDING RATE PLOT\n",
    "fig = plt.figure()\n",
    "ax = fig.add_subplot(111)\n",
    "\n",
    "\n",
    "cmap = mpl.cm.Greys\n",
    "norm = mpl.colors.Normalize(vmin=0,vmax=1)\n",
    "\n",
    "ax.scatter(nan_df['RREV_threshold'],nan_df['My_d'],c=nan_df['landing_rate'],cmap=cmap)\n",
    "fig.colorbar(mpl.cm.ScalarMappable(norm=norm, cmap=cmap),label='Landing %')\n",
    "\n",
    "ax.grid()\n",
    "ax.set_xlim(3,7)\n",
    "ax.set_ylim(0,-20)\n",
    "ax.hlines(-7.77,3,7)\n",
    "ax.text(3.05,-8.0,'Motors Maxed Out')\n",
    "\n",
    "ax.set_xlabel('RREV_thr')\n",
    "ax.set_ylabel('My_d [N*mm]')\n",
    "ax.set_title('Policy: My_d vs RREV_thr')\n",
    "\n",
    "plt.show()"
   ]
  },
  {
   "cell_type": "code",
   "execution_count": 156,
   "metadata": {},
   "outputs": [
    {
     "output_type": "display_data",
     "data": {
      "text/plain": "Canvas(toolbar=Toolbar(toolitems=[('Home', 'Reset original view', 'home', 'home'), ('Back', 'Back to previous …",
      "application/vnd.jupyter.widget-view+json": {
       "version_major": 2,
       "version_minor": 0,
       "model_id": "c310cf2f24234cc98196a16ac5c60684"
      }
     },
     "metadata": {}
    }
   ],
   "source": [
    "## AVG LANDING RATE PLOT\n",
    "fig = plt.figure()\n",
    "ax = fig.add_subplot(111)\n",
    "\n",
    "\n",
    "cmap = mpl.cm.jet\n",
    "norm = mpl.colors.Normalize(vmin=0,vmax=3)\n",
    "\n",
    "ax.scatter(nan_df['RREV_threshold'],nan_df['My_d'],c=nan_df['vz_d'],cmap=cmap)\n",
    "fig.colorbar(mpl.cm.ScalarMappable(norm=norm, cmap=cmap),label='Vx_d')\n",
    "\n",
    "ax.grid()\n",
    "ax.set_ylim(0,-20)\n",
    "ax.set_xlim(3,7)\n",
    "\n",
    "ax.hlines(-7.77,3,7)\n",
    "ax.text(3.05,-8.0,'Motors Maxed Out')\n",
    "\n",
    "ax.set_xlabel('RREV_thr')\n",
    "ax.set_ylabel('My_d [N*mm]')\n",
    "ax.set_title('Policy: My_d vs RREV_thr')\n",
    "## As Vz increases RREV_trigger decreases to preserve time to contact. It also finds a host of My_d that work and they vary because of the robustness of the legs and the fact that landing success isn't deterministic.\n",
    "plt.show()"
   ]
  },
  {
   "cell_type": "code",
   "execution_count": 166,
   "metadata": {},
   "outputs": [
    {
     "output_type": "display_data",
     "data": {
      "text/plain": "Canvas(toolbar=Toolbar(toolitems=[('Home', 'Reset original view', 'home', 'home'), ('Back', 'Back to previous …",
      "application/vnd.jupyter.widget-view+json": {
       "version_major": 2,
       "version_minor": 0,
       "model_id": "ed3a2fc564434d10b0b89be75a9b3fd0"
      }
     },
     "metadata": {}
    }
   ],
   "source": [
    "## AVG LANDING RATE PLOT\n",
    "fig = plt.figure()\n",
    "ax = fig.add_subplot(111,projection=\"3d\")\n",
    "\n",
    "cmap = mpl.cm.jet\n",
    "norm = mpl.colors.Normalize(vmin=0,vmax=1)\n",
    "\n",
    "pcm = ax.scatter(df['RREV_trigger'],df['OF_y'],df['My_d'],c=df['landing_rate'],cmap=cmap)\n",
    "fig.colorbar(mpl.cm.ScalarMappable(norm=norm, cmap=cmap),label='Landing_rate',orientation='horizontal')\n",
    "\n",
    "ax.set_xlim(3,7)\n",
    "ax.set_ylim(0,-10)\n",
    "ax.set_zlim(0,-20)\n",
    "\n",
    "ax.set_xlabel('RREV_trigger')\n",
    "ax.set_ylabel('OF_y_trigger')\n",
    "ax.set_zlabel('My_d')\n",
    "\n",
    "\n",
    "plt.show()"
   ]
  },
  {
   "cell_type": "code",
   "execution_count": 55,
   "metadata": {},
   "outputs": [
    {
     "output_type": "display_data",
     "data": {
      "text/plain": "Canvas(toolbar=Toolbar(toolitems=[('Home', 'Reset original view', 'home', 'home'), ('Back', 'Back to previous …",
      "application/vnd.jupyter.widget-view+json": {
       "version_major": 2,
       "version_minor": 0,
       "model_id": "9b1833d240d44522985bfc0c81db16ca"
      }
     },
     "metadata": {}
    }
   ],
   "source": [
    "## AVG LANDING RATE PLOT\n",
    "fig = plt.figure()\n",
    "ax = fig.add_subplot(111)\n",
    "\n",
    "cmap = mpl.cm.jet\n",
    "norm = mpl.colors.Normalize(vmin=0,vmax=3)\n",
    "\n",
    "pcm = ax.scatter(df_avg['RREV_threshold','mean'],df_avg['RREV_trigger','mean'],c=df_avg['vz_d'],cmap=cmap)\n",
    "\n",
    "\n",
    "ax.grid()\n",
    "ax.set_xlim(3,8)\n",
    "ax.set_ylim(3,8)\n",
    "\n",
    "ax.set_xlabel('RREV_threshold')\n",
    "ax.set_ylabel('RREV_trigger')\n",
    "# ax.set_zlabel('OF_y')\n",
    "\n",
    "\n",
    "plt.show()"
   ]
  },
  {
   "cell_type": "code",
   "execution_count": 169,
   "metadata": {},
   "outputs": [
    {
     "output_type": "display_data",
     "data": {
      "text/plain": "Canvas(toolbar=Toolbar(toolitems=[('Home', 'Reset original view', 'home', 'home'), ('Back', 'Back to previous …",
      "application/vnd.jupyter.widget-view+json": {
       "version_major": 2,
       "version_minor": 0,
       "model_id": "3d6dc99264d34f2196e29e733be7dc63"
      }
     },
     "metadata": {}
    },
    {
     "output_type": "error",
     "ename": "AttributeError",
     "evalue": "'Poly3DCollection' object has no property 'c'",
     "traceback": [
      "\u001b[0;31m---------------------------------------------------------------------------\u001b[0m",
      "\u001b[0;31mAttributeError\u001b[0m                            Traceback (most recent call last)",
      "\u001b[0;32m<ipython-input-169-56fea295f88c>\u001b[0m in \u001b[0;36m<module>\u001b[0;34m\u001b[0m\n\u001b[1;32m      6\u001b[0m \u001b[0mnorm\u001b[0m \u001b[0;34m=\u001b[0m \u001b[0mmpl\u001b[0m\u001b[0;34m.\u001b[0m\u001b[0mcolors\u001b[0m\u001b[0;34m.\u001b[0m\u001b[0mNormalize\u001b[0m\u001b[0;34m(\u001b[0m\u001b[0mvmin\u001b[0m\u001b[0;34m=\u001b[0m\u001b[0;36m0\u001b[0m\u001b[0;34m,\u001b[0m\u001b[0mvmax\u001b[0m\u001b[0;34m=\u001b[0m\u001b[0;36m1\u001b[0m\u001b[0;34m)\u001b[0m\u001b[0;34m\u001b[0m\u001b[0;34m\u001b[0m\u001b[0m\n\u001b[1;32m      7\u001b[0m \u001b[0;34m\u001b[0m\u001b[0m\n\u001b[0;32m----> 8\u001b[0;31m \u001b[0mpcm\u001b[0m \u001b[0;34m=\u001b[0m \u001b[0max\u001b[0m\u001b[0;34m.\u001b[0m\u001b[0mplot_trisurf\u001b[0m\u001b[0;34m(\u001b[0m\u001b[0mdf_avg\u001b[0m\u001b[0;34m[\u001b[0m\u001b[0;34m'vx_d'\u001b[0m\u001b[0;34m]\u001b[0m\u001b[0;34m,\u001b[0m\u001b[0mdf_avg\u001b[0m\u001b[0;34m[\u001b[0m\u001b[0;34m'vz_d'\u001b[0m\u001b[0;34m]\u001b[0m\u001b[0;34m,\u001b[0m\u001b[0mdf_avg\u001b[0m\u001b[0;34m[\u001b[0m\u001b[0;34m'My_d'\u001b[0m\u001b[0;34m,\u001b[0m\u001b[0;34m'mean'\u001b[0m\u001b[0;34m]\u001b[0m\u001b[0;34m,\u001b[0m\u001b[0mc\u001b[0m\u001b[0;34m=\u001b[0m\u001b[0mdf_avg\u001b[0m\u001b[0;34m[\u001b[0m\u001b[0;34m'landing_rate'\u001b[0m\u001b[0;34m,\u001b[0m\u001b[0;34m'mean'\u001b[0m\u001b[0;34m]\u001b[0m\u001b[0;34m,\u001b[0m\u001b[0mcmap\u001b[0m\u001b[0;34m=\u001b[0m\u001b[0mcmap\u001b[0m\u001b[0;34m)\u001b[0m\u001b[0;34m\u001b[0m\u001b[0;34m\u001b[0m\u001b[0m\n\u001b[0m\u001b[1;32m      9\u001b[0m \u001b[0;34m\u001b[0m\u001b[0m\n\u001b[1;32m     10\u001b[0m \u001b[0;34m\u001b[0m\u001b[0m\n",
      "\u001b[0;32m/usr/lib/python3/dist-packages/mpl_toolkits/mplot3d/axes3d.py\u001b[0m in \u001b[0;36mplot_trisurf\u001b[0;34m(self, color, norm, vmin, vmax, lightsource, *args, **kwargs)\u001b[0m\n\u001b[1;32m   2002\u001b[0m         \u001b[0mverts\u001b[0m \u001b[0;34m=\u001b[0m \u001b[0mnp\u001b[0m\u001b[0;34m.\u001b[0m\u001b[0mstack\u001b[0m\u001b[0;34m(\u001b[0m\u001b[0;34m(\u001b[0m\u001b[0mxt\u001b[0m\u001b[0;34m,\u001b[0m \u001b[0myt\u001b[0m\u001b[0;34m,\u001b[0m \u001b[0mzt\u001b[0m\u001b[0;34m)\u001b[0m\u001b[0;34m,\u001b[0m \u001b[0maxis\u001b[0m\u001b[0;34m=\u001b[0m\u001b[0;34m-\u001b[0m\u001b[0;36m1\u001b[0m\u001b[0;34m)\u001b[0m\u001b[0;34m\u001b[0m\u001b[0;34m\u001b[0m\u001b[0m\n\u001b[1;32m   2003\u001b[0m \u001b[0;34m\u001b[0m\u001b[0m\n\u001b[0;32m-> 2004\u001b[0;31m         \u001b[0mpolyc\u001b[0m \u001b[0;34m=\u001b[0m \u001b[0mart3d\u001b[0m\u001b[0;34m.\u001b[0m\u001b[0mPoly3DCollection\u001b[0m\u001b[0;34m(\u001b[0m\u001b[0mverts\u001b[0m\u001b[0;34m,\u001b[0m \u001b[0;34m*\u001b[0m\u001b[0margs\u001b[0m\u001b[0;34m,\u001b[0m \u001b[0;34m**\u001b[0m\u001b[0mkwargs\u001b[0m\u001b[0;34m)\u001b[0m\u001b[0;34m\u001b[0m\u001b[0;34m\u001b[0m\u001b[0m\n\u001b[0m\u001b[1;32m   2005\u001b[0m \u001b[0;34m\u001b[0m\u001b[0m\n\u001b[1;32m   2006\u001b[0m         \u001b[0;32mif\u001b[0m \u001b[0mcmap\u001b[0m\u001b[0;34m:\u001b[0m\u001b[0;34m\u001b[0m\u001b[0;34m\u001b[0m\u001b[0m\n",
      "\u001b[0;32m/usr/lib/python3/dist-packages/mpl_toolkits/mplot3d/art3d.py\u001b[0m in \u001b[0;36m__init__\u001b[0;34m(self, verts, zsort, *args, **kwargs)\u001b[0m\n\u001b[1;32m    595\u001b[0m         \u001b[0;32mand\u001b[0m \u001b[0m_edgecolors\u001b[0m \u001b[0mproperties\u001b[0m\u001b[0;34m.\u001b[0m\u001b[0;34m\u001b[0m\u001b[0;34m\u001b[0m\u001b[0m\n\u001b[1;32m    596\u001b[0m         \"\"\"\n\u001b[0;32m--> 597\u001b[0;31m         \u001b[0msuper\u001b[0m\u001b[0;34m(\u001b[0m\u001b[0;34m)\u001b[0m\u001b[0;34m.\u001b[0m\u001b[0m__init__\u001b[0m\u001b[0;34m(\u001b[0m\u001b[0mverts\u001b[0m\u001b[0;34m,\u001b[0m \u001b[0;34m*\u001b[0m\u001b[0margs\u001b[0m\u001b[0;34m,\u001b[0m \u001b[0;34m**\u001b[0m\u001b[0mkwargs\u001b[0m\u001b[0;34m)\u001b[0m\u001b[0;34m\u001b[0m\u001b[0;34m\u001b[0m\u001b[0m\n\u001b[0m\u001b[1;32m    598\u001b[0m         \u001b[0mself\u001b[0m\u001b[0;34m.\u001b[0m\u001b[0mset_zsort\u001b[0m\u001b[0;34m(\u001b[0m\u001b[0mzsort\u001b[0m\u001b[0;34m)\u001b[0m\u001b[0;34m\u001b[0m\u001b[0;34m\u001b[0m\u001b[0m\n\u001b[1;32m    599\u001b[0m         \u001b[0mself\u001b[0m\u001b[0;34m.\u001b[0m\u001b[0m_codes3d\u001b[0m \u001b[0;34m=\u001b[0m \u001b[0;32mNone\u001b[0m\u001b[0;34m\u001b[0m\u001b[0;34m\u001b[0m\u001b[0m\n",
      "\u001b[0;32m/usr/lib/python3/dist-packages/matplotlib/collections.py\u001b[0m in \u001b[0;36m__init__\u001b[0;34m(self, verts, sizes, closed, **kwargs)\u001b[0m\n\u001b[1;32m   1042\u001b[0m         \u001b[0;34m%\u001b[0m\u001b[0;34m(\u001b[0m\u001b[0mCollection\u001b[0m\u001b[0;34m)\u001b[0m\u001b[0ms\u001b[0m\u001b[0;34m\u001b[0m\u001b[0;34m\u001b[0m\u001b[0m\n\u001b[1;32m   1043\u001b[0m         \"\"\"\n\u001b[0;32m-> 1044\u001b[0;31m         \u001b[0mCollection\u001b[0m\u001b[0;34m.\u001b[0m\u001b[0m__init__\u001b[0m\u001b[0;34m(\u001b[0m\u001b[0mself\u001b[0m\u001b[0;34m,\u001b[0m \u001b[0;34m**\u001b[0m\u001b[0mkwargs\u001b[0m\u001b[0;34m)\u001b[0m\u001b[0;34m\u001b[0m\u001b[0;34m\u001b[0m\u001b[0m\n\u001b[0m\u001b[1;32m   1045\u001b[0m         \u001b[0mself\u001b[0m\u001b[0;34m.\u001b[0m\u001b[0mset_sizes\u001b[0m\u001b[0;34m(\u001b[0m\u001b[0msizes\u001b[0m\u001b[0;34m)\u001b[0m\u001b[0;34m\u001b[0m\u001b[0;34m\u001b[0m\u001b[0m\n\u001b[1;32m   1046\u001b[0m         \u001b[0mself\u001b[0m\u001b[0;34m.\u001b[0m\u001b[0mset_verts\u001b[0m\u001b[0;34m(\u001b[0m\u001b[0mverts\u001b[0m\u001b[0;34m,\u001b[0m \u001b[0mclosed\u001b[0m\u001b[0;34m)\u001b[0m\u001b[0;34m\u001b[0m\u001b[0;34m\u001b[0m\u001b[0m\n",
      "\u001b[0;32m/usr/lib/python3/dist-packages/matplotlib/collections.py\u001b[0m in \u001b[0;36m__init__\u001b[0;34m(self, edgecolors, facecolors, linewidths, linestyles, capstyle, joinstyle, antialiaseds, offsets, transOffset, norm, cmap, pickradius, hatch, urls, offset_position, zorder, **kwargs)\u001b[0m\n\u001b[1;32m    160\u001b[0m \u001b[0;34m\u001b[0m\u001b[0m\n\u001b[1;32m    161\u001b[0m         \u001b[0mself\u001b[0m\u001b[0;34m.\u001b[0m\u001b[0m_path_effects\u001b[0m \u001b[0;34m=\u001b[0m \u001b[0;32mNone\u001b[0m\u001b[0;34m\u001b[0m\u001b[0;34m\u001b[0m\u001b[0m\n\u001b[0;32m--> 162\u001b[0;31m         \u001b[0mself\u001b[0m\u001b[0;34m.\u001b[0m\u001b[0mupdate\u001b[0m\u001b[0;34m(\u001b[0m\u001b[0mkwargs\u001b[0m\u001b[0;34m)\u001b[0m\u001b[0;34m\u001b[0m\u001b[0;34m\u001b[0m\u001b[0m\n\u001b[0m\u001b[1;32m    163\u001b[0m         \u001b[0mself\u001b[0m\u001b[0;34m.\u001b[0m\u001b[0m_paths\u001b[0m \u001b[0;34m=\u001b[0m \u001b[0;32mNone\u001b[0m\u001b[0;34m\u001b[0m\u001b[0;34m\u001b[0m\u001b[0m\n\u001b[1;32m    164\u001b[0m \u001b[0;34m\u001b[0m\u001b[0m\n",
      "\u001b[0;32m/usr/lib/python3/dist-packages/matplotlib/artist.py\u001b[0m in \u001b[0;36mupdate\u001b[0;34m(self, props)\u001b[0m\n\u001b[1;32m    972\u001b[0m \u001b[0;34m\u001b[0m\u001b[0m\n\u001b[1;32m    973\u001b[0m         \u001b[0;32mwith\u001b[0m \u001b[0mcbook\u001b[0m\u001b[0;34m.\u001b[0m\u001b[0m_setattr_cm\u001b[0m\u001b[0;34m(\u001b[0m\u001b[0mself\u001b[0m\u001b[0;34m,\u001b[0m \u001b[0meventson\u001b[0m\u001b[0;34m=\u001b[0m\u001b[0;32mFalse\u001b[0m\u001b[0;34m)\u001b[0m\u001b[0;34m:\u001b[0m\u001b[0;34m\u001b[0m\u001b[0;34m\u001b[0m\u001b[0m\n\u001b[0;32m--> 974\u001b[0;31m             \u001b[0mret\u001b[0m \u001b[0;34m=\u001b[0m \u001b[0;34m[\u001b[0m\u001b[0m_update_property\u001b[0m\u001b[0;34m(\u001b[0m\u001b[0mself\u001b[0m\u001b[0;34m,\u001b[0m \u001b[0mk\u001b[0m\u001b[0;34m,\u001b[0m \u001b[0mv\u001b[0m\u001b[0;34m)\u001b[0m \u001b[0;32mfor\u001b[0m \u001b[0mk\u001b[0m\u001b[0;34m,\u001b[0m \u001b[0mv\u001b[0m \u001b[0;32min\u001b[0m \u001b[0mprops\u001b[0m\u001b[0;34m.\u001b[0m\u001b[0mitems\u001b[0m\u001b[0;34m(\u001b[0m\u001b[0;34m)\u001b[0m\u001b[0;34m]\u001b[0m\u001b[0;34m\u001b[0m\u001b[0;34m\u001b[0m\u001b[0m\n\u001b[0m\u001b[1;32m    975\u001b[0m \u001b[0;34m\u001b[0m\u001b[0m\n\u001b[1;32m    976\u001b[0m         \u001b[0;32mif\u001b[0m \u001b[0mlen\u001b[0m\u001b[0;34m(\u001b[0m\u001b[0mret\u001b[0m\u001b[0;34m)\u001b[0m\u001b[0;34m:\u001b[0m\u001b[0;34m\u001b[0m\u001b[0;34m\u001b[0m\u001b[0m\n",
      "\u001b[0;32m/usr/lib/python3/dist-packages/matplotlib/artist.py\u001b[0m in \u001b[0;36m<listcomp>\u001b[0;34m(.0)\u001b[0m\n\u001b[1;32m    972\u001b[0m \u001b[0;34m\u001b[0m\u001b[0m\n\u001b[1;32m    973\u001b[0m         \u001b[0;32mwith\u001b[0m \u001b[0mcbook\u001b[0m\u001b[0;34m.\u001b[0m\u001b[0m_setattr_cm\u001b[0m\u001b[0;34m(\u001b[0m\u001b[0mself\u001b[0m\u001b[0;34m,\u001b[0m \u001b[0meventson\u001b[0m\u001b[0;34m=\u001b[0m\u001b[0;32mFalse\u001b[0m\u001b[0;34m)\u001b[0m\u001b[0;34m:\u001b[0m\u001b[0;34m\u001b[0m\u001b[0;34m\u001b[0m\u001b[0m\n\u001b[0;32m--> 974\u001b[0;31m             \u001b[0mret\u001b[0m \u001b[0;34m=\u001b[0m \u001b[0;34m[\u001b[0m\u001b[0m_update_property\u001b[0m\u001b[0;34m(\u001b[0m\u001b[0mself\u001b[0m\u001b[0;34m,\u001b[0m \u001b[0mk\u001b[0m\u001b[0;34m,\u001b[0m \u001b[0mv\u001b[0m\u001b[0;34m)\u001b[0m \u001b[0;32mfor\u001b[0m \u001b[0mk\u001b[0m\u001b[0;34m,\u001b[0m \u001b[0mv\u001b[0m \u001b[0;32min\u001b[0m \u001b[0mprops\u001b[0m\u001b[0;34m.\u001b[0m\u001b[0mitems\u001b[0m\u001b[0;34m(\u001b[0m\u001b[0;34m)\u001b[0m\u001b[0;34m]\u001b[0m\u001b[0;34m\u001b[0m\u001b[0;34m\u001b[0m\u001b[0m\n\u001b[0m\u001b[1;32m    975\u001b[0m \u001b[0;34m\u001b[0m\u001b[0m\n\u001b[1;32m    976\u001b[0m         \u001b[0;32mif\u001b[0m \u001b[0mlen\u001b[0m\u001b[0;34m(\u001b[0m\u001b[0mret\u001b[0m\u001b[0;34m)\u001b[0m\u001b[0;34m:\u001b[0m\u001b[0;34m\u001b[0m\u001b[0;34m\u001b[0m\u001b[0m\n",
      "\u001b[0;32m/usr/lib/python3/dist-packages/matplotlib/artist.py\u001b[0m in \u001b[0;36m_update_property\u001b[0;34m(self, k, v)\u001b[0m\n\u001b[1;32m    967\u001b[0m                 \u001b[0mfunc\u001b[0m \u001b[0;34m=\u001b[0m \u001b[0mgetattr\u001b[0m\u001b[0;34m(\u001b[0m\u001b[0mself\u001b[0m\u001b[0;34m,\u001b[0m \u001b[0;34m'set_'\u001b[0m \u001b[0;34m+\u001b[0m \u001b[0mk\u001b[0m\u001b[0;34m,\u001b[0m \u001b[0;32mNone\u001b[0m\u001b[0;34m)\u001b[0m\u001b[0;34m\u001b[0m\u001b[0;34m\u001b[0m\u001b[0m\n\u001b[1;32m    968\u001b[0m                 \u001b[0;32mif\u001b[0m \u001b[0;32mnot\u001b[0m \u001b[0mcallable\u001b[0m\u001b[0;34m(\u001b[0m\u001b[0mfunc\u001b[0m\u001b[0;34m)\u001b[0m\u001b[0;34m:\u001b[0m\u001b[0;34m\u001b[0m\u001b[0;34m\u001b[0m\u001b[0m\n\u001b[0;32m--> 969\u001b[0;31m                     raise AttributeError('{!r} object has no property {!r}'\n\u001b[0m\u001b[1;32m    970\u001b[0m                                          .format(type(self).__name__, k))\n\u001b[1;32m    971\u001b[0m                 \u001b[0;32mreturn\u001b[0m \u001b[0mfunc\u001b[0m\u001b[0;34m(\u001b[0m\u001b[0mv\u001b[0m\u001b[0;34m)\u001b[0m\u001b[0;34m\u001b[0m\u001b[0;34m\u001b[0m\u001b[0m\n",
      "\u001b[0;31mAttributeError\u001b[0m: 'Poly3DCollection' object has no property 'c'"
     ]
    }
   ],
   "source": [
    "## AVG LANDING RATE PLOT\n",
    "fig = plt.figure()\n",
    "ax = fig.add_subplot(111,projection=\"3d\")\n",
    "\n",
    "cmap = mpl.cm.jet\n",
    "norm = mpl.colors.Normalize(vmin=0,vmax=1)\n",
    "\n",
    "pcm = ax.plot_trisurf(df_avg['vx_d'],df_avg['vz_d'],df_avg['My_d','mean'],c=df_avg['landing_rate','mean'],cmap=cmap)\n",
    "\n",
    "\n",
    "ax.grid()\n",
    "# ax.set_xlim(3,7)\n",
    "# ax.set_ylim(0,-10)\n",
    "\n",
    "ax.set_xlabel('vx_d')\n",
    "ax.set_ylabel('vz_d')\n",
    "ax.set_zlabel('My_d')\n",
    "\n",
    "\n",
    "plt.show()"
   ]
  },
  {
   "cell_type": "code",
   "execution_count": null,
   "metadata": {},
   "outputs": [],
   "source": []
  },
  {
   "cell_type": "code",
   "execution_count": 22,
   "metadata": {},
   "outputs": [
    {
     "output_type": "execute_result",
     "data": {
      "text/plain": [
       "     vz_d  vx_d  trial_num  landing_rate  RREV_threshold     G1    G2  \\\n",
       "0    1.50  0.00          0           0.0            4.81   9.69  2.22   \n",
       "2    1.50  0.00          1           0.0           15.17   6.04  6.30   \n",
       "3    1.50  0.00          1           0.0            5.28  10.37  5.22   \n",
       "4    1.50  0.00          2           0.0            1.10   6.36  2.43   \n",
       "5    1.50  0.00          2           0.0            4.80   5.05  3.67   \n",
       "..    ...   ...        ...           ...             ...    ...   ...   \n",
       "529  2.75  0.25          2           0.0            7.00   6.97  2.17   \n",
       "533  2.75  0.25          5           0.0            0.97   5.68  2.73   \n",
       "545  2.75  0.75          2           0.0           16.96  15.08  6.01   \n",
       "551  2.75  1.00          2           0.0            1.26   6.00  2.63   \n",
       "586  2.75  2.00          2           0.0            7.55   7.88  3.75   \n",
       "\n",
       "     RREV_sig  G1_sig  G2_sig  RREV_trigger  OF_y  My_d  impact_eul alpha_mu  \\\n",
       "0        0.01    0.17    0.02           NaN   NaN   NaN         NaN  [0. 0.]   \n",
       "2        1.23    0.72    0.08           NaN   NaN   NaN         NaN  [0. 0.]   \n",
       "3        0.00    0.10    0.03           NaN   NaN   NaN         NaN  [0. 0.]   \n",
       "4        0.00    0.01    0.09           NaN   NaN   NaN         NaN  [0. 0.]   \n",
       "5        0.06    0.05    0.00           NaN   NaN   NaN         NaN  [0. 0.]   \n",
       "..        ...     ...     ...           ...   ...   ...         ...      ...   \n",
       "529      0.16    0.00    0.01           NaN   NaN   NaN         NaN  [0. 0.]   \n",
       "533      0.04    0.00    0.07           NaN   NaN   NaN         NaN  [0. 0.]   \n",
       "545      1.37    1.33    0.16           NaN   NaN   NaN         NaN  [0. 0.]   \n",
       "551      0.00    0.07    0.01           NaN   NaN   NaN         NaN  [0. 0.]   \n",
       "586      0.03    0.42    0.58           NaN   NaN   NaN         NaN  [0. 0.]   \n",
       "\n",
       "    alpha_sigma            mu_ini   sigma_ini  \n",
       "0       [0. 0.]  [5.47 4.49 3.57]  [2. 2. 2.]  \n",
       "2       [0. 0.]  [2.08 5.95 3.96]  [2. 2. 2.]  \n",
       "3       [0. 0.]  [2.27 6.79 5.24]  [2. 2. 2.]  \n",
       "4       [0. 0.]  [1.26 6.07 4.5 ]  [2. 2. 2.]  \n",
       "5       [0. 0.]  [1.04 4.05 3.36]  [2. 2. 2.]  \n",
       "..          ...               ...         ...  \n",
       "529     [0. 0.]  [4.15 6.2  2.27]  [2. 2. 2.]  \n",
       "533     [0. 0.]  [1.8  3.31 2.26]  [2. 2. 2.]  \n",
       "545     [0. 0.]  [6.53 2.74 1.53]  [2. 2. 2.]  \n",
       "551     [0. 0.]  [1.21 6.33 3.14]  [2. 2. 2.]  \n",
       "586     [0. 0.]  [2.41 4.81 3.56]  [2. 2. 2.]  \n",
       "\n",
       "[149 rows x 18 columns]"
      ],
      "text/html": "<div>\n<style scoped>\n    .dataframe tbody tr th:only-of-type {\n        vertical-align: middle;\n    }\n\n    .dataframe tbody tr th {\n        vertical-align: top;\n    }\n\n    .dataframe thead th {\n        text-align: right;\n    }\n</style>\n<table border=\"1\" class=\"dataframe\">\n  <thead>\n    <tr style=\"text-align: right;\">\n      <th></th>\n      <th>vz_d</th>\n      <th>vx_d</th>\n      <th>trial_num</th>\n      <th>landing_rate</th>\n      <th>RREV_threshold</th>\n      <th>G1</th>\n      <th>G2</th>\n      <th>RREV_sig</th>\n      <th>G1_sig</th>\n      <th>G2_sig</th>\n      <th>RREV_trigger</th>\n      <th>OF_y</th>\n      <th>My_d</th>\n      <th>impact_eul</th>\n      <th>alpha_mu</th>\n      <th>alpha_sigma</th>\n      <th>mu_ini</th>\n      <th>sigma_ini</th>\n    </tr>\n  </thead>\n  <tbody>\n    <tr>\n      <th>0</th>\n      <td>1.50</td>\n      <td>0.00</td>\n      <td>0</td>\n      <td>0.0</td>\n      <td>4.81</td>\n      <td>9.69</td>\n      <td>2.22</td>\n      <td>0.01</td>\n      <td>0.17</td>\n      <td>0.02</td>\n      <td>NaN</td>\n      <td>NaN</td>\n      <td>NaN</td>\n      <td>NaN</td>\n      <td>[0. 0.]</td>\n      <td>[0. 0.]</td>\n      <td>[5.47 4.49 3.57]</td>\n      <td>[2. 2. 2.]</td>\n    </tr>\n    <tr>\n      <th>2</th>\n      <td>1.50</td>\n      <td>0.00</td>\n      <td>1</td>\n      <td>0.0</td>\n      <td>15.17</td>\n      <td>6.04</td>\n      <td>6.30</td>\n      <td>1.23</td>\n      <td>0.72</td>\n      <td>0.08</td>\n      <td>NaN</td>\n      <td>NaN</td>\n      <td>NaN</td>\n      <td>NaN</td>\n      <td>[0. 0.]</td>\n      <td>[0. 0.]</td>\n      <td>[2.08 5.95 3.96]</td>\n      <td>[2. 2. 2.]</td>\n    </tr>\n    <tr>\n      <th>3</th>\n      <td>1.50</td>\n      <td>0.00</td>\n      <td>1</td>\n      <td>0.0</td>\n      <td>5.28</td>\n      <td>10.37</td>\n      <td>5.22</td>\n      <td>0.00</td>\n      <td>0.10</td>\n      <td>0.03</td>\n      <td>NaN</td>\n      <td>NaN</td>\n      <td>NaN</td>\n      <td>NaN</td>\n      <td>[0. 0.]</td>\n      <td>[0. 0.]</td>\n      <td>[2.27 6.79 5.24]</td>\n      <td>[2. 2. 2.]</td>\n    </tr>\n    <tr>\n      <th>4</th>\n      <td>1.50</td>\n      <td>0.00</td>\n      <td>2</td>\n      <td>0.0</td>\n      <td>1.10</td>\n      <td>6.36</td>\n      <td>2.43</td>\n      <td>0.00</td>\n      <td>0.01</td>\n      <td>0.09</td>\n      <td>NaN</td>\n      <td>NaN</td>\n      <td>NaN</td>\n      <td>NaN</td>\n      <td>[0. 0.]</td>\n      <td>[0. 0.]</td>\n      <td>[1.26 6.07 4.5 ]</td>\n      <td>[2. 2. 2.]</td>\n    </tr>\n    <tr>\n      <th>5</th>\n      <td>1.50</td>\n      <td>0.00</td>\n      <td>2</td>\n      <td>0.0</td>\n      <td>4.80</td>\n      <td>5.05</td>\n      <td>3.67</td>\n      <td>0.06</td>\n      <td>0.05</td>\n      <td>0.00</td>\n      <td>NaN</td>\n      <td>NaN</td>\n      <td>NaN</td>\n      <td>NaN</td>\n      <td>[0. 0.]</td>\n      <td>[0. 0.]</td>\n      <td>[1.04 4.05 3.36]</td>\n      <td>[2. 2. 2.]</td>\n    </tr>\n    <tr>\n      <th>...</th>\n      <td>...</td>\n      <td>...</td>\n      <td>...</td>\n      <td>...</td>\n      <td>...</td>\n      <td>...</td>\n      <td>...</td>\n      <td>...</td>\n      <td>...</td>\n      <td>...</td>\n      <td>...</td>\n      <td>...</td>\n      <td>...</td>\n      <td>...</td>\n      <td>...</td>\n      <td>...</td>\n      <td>...</td>\n      <td>...</td>\n    </tr>\n    <tr>\n      <th>529</th>\n      <td>2.75</td>\n      <td>0.25</td>\n      <td>2</td>\n      <td>0.0</td>\n      <td>7.00</td>\n      <td>6.97</td>\n      <td>2.17</td>\n      <td>0.16</td>\n      <td>0.00</td>\n      <td>0.01</td>\n      <td>NaN</td>\n      <td>NaN</td>\n      <td>NaN</td>\n      <td>NaN</td>\n      <td>[0. 0.]</td>\n      <td>[0. 0.]</td>\n      <td>[4.15 6.2  2.27]</td>\n      <td>[2. 2. 2.]</td>\n    </tr>\n    <tr>\n      <th>533</th>\n      <td>2.75</td>\n      <td>0.25</td>\n      <td>5</td>\n      <td>0.0</td>\n      <td>0.97</td>\n      <td>5.68</td>\n      <td>2.73</td>\n      <td>0.04</td>\n      <td>0.00</td>\n      <td>0.07</td>\n      <td>NaN</td>\n      <td>NaN</td>\n      <td>NaN</td>\n      <td>NaN</td>\n      <td>[0. 0.]</td>\n      <td>[0. 0.]</td>\n      <td>[1.8  3.31 2.26]</td>\n      <td>[2. 2. 2.]</td>\n    </tr>\n    <tr>\n      <th>545</th>\n      <td>2.75</td>\n      <td>0.75</td>\n      <td>2</td>\n      <td>0.0</td>\n      <td>16.96</td>\n      <td>15.08</td>\n      <td>6.01</td>\n      <td>1.37</td>\n      <td>1.33</td>\n      <td>0.16</td>\n      <td>NaN</td>\n      <td>NaN</td>\n      <td>NaN</td>\n      <td>NaN</td>\n      <td>[0. 0.]</td>\n      <td>[0. 0.]</td>\n      <td>[6.53 2.74 1.53]</td>\n      <td>[2. 2. 2.]</td>\n    </tr>\n    <tr>\n      <th>551</th>\n      <td>2.75</td>\n      <td>1.00</td>\n      <td>2</td>\n      <td>0.0</td>\n      <td>1.26</td>\n      <td>6.00</td>\n      <td>2.63</td>\n      <td>0.00</td>\n      <td>0.07</td>\n      <td>0.01</td>\n      <td>NaN</td>\n      <td>NaN</td>\n      <td>NaN</td>\n      <td>NaN</td>\n      <td>[0. 0.]</td>\n      <td>[0. 0.]</td>\n      <td>[1.21 6.33 3.14]</td>\n      <td>[2. 2. 2.]</td>\n    </tr>\n    <tr>\n      <th>586</th>\n      <td>2.75</td>\n      <td>2.00</td>\n      <td>2</td>\n      <td>0.0</td>\n      <td>7.55</td>\n      <td>7.88</td>\n      <td>3.75</td>\n      <td>0.03</td>\n      <td>0.42</td>\n      <td>0.58</td>\n      <td>NaN</td>\n      <td>NaN</td>\n      <td>NaN</td>\n      <td>NaN</td>\n      <td>[0. 0.]</td>\n      <td>[0. 0.]</td>\n      <td>[2.41 4.81 3.56]</td>\n      <td>[2. 2. 2.]</td>\n    </tr>\n  </tbody>\n</table>\n<p>149 rows × 18 columns</p>\n</div>"
     },
     "metadata": {},
     "execution_count": 22
    }
   ],
   "source": []
  },
  {
   "cell_type": "code",
   "execution_count": null,
   "metadata": {},
   "outputs": [],
   "source": []
  }
 ]
}