{
 "metadata": {
  "language_info": {
   "codemirror_mode": {
    "name": "ipython",
    "version": 3
   },
   "file_extension": ".py",
   "mimetype": "text/x-python",
   "name": "python",
   "nbconvert_exporter": "python",
   "pygments_lexer": "ipython3",
   "version": "3.8.5-final"
  },
  "orig_nbformat": 2,
  "kernelspec": {
   "name": "python38564bit0282941c0ba945238a13db8c20574d9c",
   "display_name": "Python 3.8.5 64-bit",
   "language": "python"
  }
 },
 "nbformat": 4,
 "nbformat_minor": 2,
 "cells": [
  {
   "cell_type": "code",
   "execution_count": 1,
   "metadata": {},
   "outputs": [],
   "source": [
    "## IMPORT MODULES\n",
    "import pandas as pd\n",
    "import numpy as np"
   ]
  },
  {
   "cell_type": "code",
   "execution_count": 2,
   "metadata": {},
   "outputs": [],
   "source": [
    "## IMPORT PLOTTING MODULES\n",
    "import matplotlib.pyplot as plt\n",
    "from mpl_toolkits import mplot3d\n",
    "import matplotlib as mpl\n",
    "from matplotlib import cm\n",
    "%matplotlib widget"
   ]
  },
  {
   "cell_type": "code",
   "execution_count": 3,
   "metadata": {},
   "outputs": [
    {
     "output_type": "execute_result",
     "data": {
      "text/plain": [
       "    vz_d  vx_d trial_num           landing_rate           RREV_threshold  \\\n",
       "                    mean       std         mean       std           mean   \n",
       "0    1.5  0.00  2.500000  1.870829     0.000000  0.000000       6.601667   \n",
       "1    1.5  0.25  2.400000  2.073644     0.016783  0.023114       5.210000   \n",
       "2    1.5  0.50  2.400000  2.073644     0.000000  0.000000       6.550000   \n",
       "3    1.5  0.75  2.500000  1.870829     0.000000  0.000000       6.668333   \n",
       "4    1.5  1.00  2.200000  1.923538     0.112452  0.176010       5.006000   \n",
       "..   ...   ...       ...       ...          ...       ...            ...   \n",
       "117  4.0  1.75  2.600000  2.073644     0.672464  0.103555       3.982000   \n",
       "118  4.0  2.00  2.333333  2.516611     0.675151  0.139187       4.530000   \n",
       "119  4.0  2.25  2.000000  1.581139     0.583448  0.123526       4.094000   \n",
       "120  4.0  2.50  3.333333  1.527525     0.855172  0.138318       4.253333   \n",
       "121  4.0  2.75  3.666667  1.527525     0.729502  0.148059       4.210000   \n",
       "\n",
       "                     G1            ...    G2_sig           RREV_trigger  \\\n",
       "          std      mean       std  ...      mean       std         mean   \n",
       "0    5.929841  6.251667  3.270984  ...  0.186667  0.336075          NaN   \n",
       "1    3.002541  4.958000  2.389983  ...  0.194000  0.116962     6.221500   \n",
       "2    3.490781  6.946000  5.382381  ...  0.116000  0.152742          NaN   \n",
       "3    5.075295  7.095000  2.857683  ...  0.101667  0.117033          NaN   \n",
       "4    0.506488  7.506000  2.322537  ...  0.100000  0.125897     5.494600   \n",
       "..        ...       ...       ...  ...       ...       ...          ...   \n",
       "117  0.310757  6.418000  2.666837  ...  0.194000  0.339823     4.348895   \n",
       "118  0.679779  8.966667  2.413490  ...  0.016667  0.011547     4.938895   \n",
       "119  0.147919  5.198000  2.603665  ...  0.074000  0.074364     4.387886   \n",
       "120  0.335460  9.290000  2.240246  ...  0.056667  0.056862     4.753791   \n",
       "121  0.321870  5.636667  1.836146  ...  0.193333  0.274651     4.597619   \n",
       "\n",
       "                   OF_y                My_d            impact_eul             \n",
       "          std      mean       std      mean       std        mean        std  \n",
       "0         NaN       NaN       NaN       NaN       NaN         NaN        NaN  \n",
       "1    0.010607 -0.913000  0.001414 -3.608500  0.781353  -64.996797   7.792419  \n",
       "2         NaN       NaN       NaN       NaN       NaN         NaN        NaN  \n",
       "3         NaN       NaN       NaN       NaN       NaN         NaN        NaN  \n",
       "4    0.449429 -3.225422  0.263155 -3.836689  1.732920 -106.368294  23.183591  \n",
       "..        ...       ...       ...       ...       ...         ...        ...  \n",
       "117  0.370183 -1.812336  0.153474 -2.453699  1.461116 -130.816151  14.258673  \n",
       "118  0.685269 -2.349903  0.325118 -4.049552  2.042013 -130.034360  10.626587  \n",
       "119  0.156714 -2.352070  0.084677 -1.656082  0.910630 -106.961044  26.088351  \n",
       "120  0.491372 -2.829723  0.289414 -3.453601  1.409934 -137.546452   6.152924  \n",
       "121  0.409054 -3.007723  0.273027 -1.957654  0.894234 -105.372723  10.612725  \n",
       "\n",
       "[122 rows x 26 columns]"
      ],
      "text/html": "<div>\n<style scoped>\n    .dataframe tbody tr th:only-of-type {\n        vertical-align: middle;\n    }\n\n    .dataframe tbody tr th {\n        vertical-align: top;\n    }\n\n    .dataframe thead tr th {\n        text-align: left;\n    }\n</style>\n<table border=\"1\" class=\"dataframe\">\n  <thead>\n    <tr>\n      <th></th>\n      <th>vz_d</th>\n      <th>vx_d</th>\n      <th colspan=\"2\" halign=\"left\">trial_num</th>\n      <th colspan=\"2\" halign=\"left\">landing_rate</th>\n      <th colspan=\"2\" halign=\"left\">RREV_threshold</th>\n      <th colspan=\"2\" halign=\"left\">G1</th>\n      <th>...</th>\n      <th colspan=\"2\" halign=\"left\">G2_sig</th>\n      <th colspan=\"2\" halign=\"left\">RREV_trigger</th>\n      <th colspan=\"2\" halign=\"left\">OF_y</th>\n      <th colspan=\"2\" halign=\"left\">My_d</th>\n      <th colspan=\"2\" halign=\"left\">impact_eul</th>\n    </tr>\n    <tr>\n      <th></th>\n      <th></th>\n      <th></th>\n      <th>mean</th>\n      <th>std</th>\n      <th>mean</th>\n      <th>std</th>\n      <th>mean</th>\n      <th>std</th>\n      <th>mean</th>\n      <th>std</th>\n      <th>...</th>\n      <th>mean</th>\n      <th>std</th>\n      <th>mean</th>\n      <th>std</th>\n      <th>mean</th>\n      <th>std</th>\n      <th>mean</th>\n      <th>std</th>\n      <th>mean</th>\n      <th>std</th>\n    </tr>\n  </thead>\n  <tbody>\n    <tr>\n      <th>0</th>\n      <td>1.5</td>\n      <td>0.00</td>\n      <td>2.500000</td>\n      <td>1.870829</td>\n      <td>0.000000</td>\n      <td>0.000000</td>\n      <td>6.601667</td>\n      <td>5.929841</td>\n      <td>6.251667</td>\n      <td>3.270984</td>\n      <td>...</td>\n      <td>0.186667</td>\n      <td>0.336075</td>\n      <td>NaN</td>\n      <td>NaN</td>\n      <td>NaN</td>\n      <td>NaN</td>\n      <td>NaN</td>\n      <td>NaN</td>\n      <td>NaN</td>\n      <td>NaN</td>\n    </tr>\n    <tr>\n      <th>1</th>\n      <td>1.5</td>\n      <td>0.25</td>\n      <td>2.400000</td>\n      <td>2.073644</td>\n      <td>0.016783</td>\n      <td>0.023114</td>\n      <td>5.210000</td>\n      <td>3.002541</td>\n      <td>4.958000</td>\n      <td>2.389983</td>\n      <td>...</td>\n      <td>0.194000</td>\n      <td>0.116962</td>\n      <td>6.221500</td>\n      <td>0.010607</td>\n      <td>-0.913000</td>\n      <td>0.001414</td>\n      <td>-3.608500</td>\n      <td>0.781353</td>\n      <td>-64.996797</td>\n      <td>7.792419</td>\n    </tr>\n    <tr>\n      <th>2</th>\n      <td>1.5</td>\n      <td>0.50</td>\n      <td>2.400000</td>\n      <td>2.073644</td>\n      <td>0.000000</td>\n      <td>0.000000</td>\n      <td>6.550000</td>\n      <td>3.490781</td>\n      <td>6.946000</td>\n      <td>5.382381</td>\n      <td>...</td>\n      <td>0.116000</td>\n      <td>0.152742</td>\n      <td>NaN</td>\n      <td>NaN</td>\n      <td>NaN</td>\n      <td>NaN</td>\n      <td>NaN</td>\n      <td>NaN</td>\n      <td>NaN</td>\n      <td>NaN</td>\n    </tr>\n    <tr>\n      <th>3</th>\n      <td>1.5</td>\n      <td>0.75</td>\n      <td>2.500000</td>\n      <td>1.870829</td>\n      <td>0.000000</td>\n      <td>0.000000</td>\n      <td>6.668333</td>\n      <td>5.075295</td>\n      <td>7.095000</td>\n      <td>2.857683</td>\n      <td>...</td>\n      <td>0.101667</td>\n      <td>0.117033</td>\n      <td>NaN</td>\n      <td>NaN</td>\n      <td>NaN</td>\n      <td>NaN</td>\n      <td>NaN</td>\n      <td>NaN</td>\n      <td>NaN</td>\n      <td>NaN</td>\n    </tr>\n    <tr>\n      <th>4</th>\n      <td>1.5</td>\n      <td>1.00</td>\n      <td>2.200000</td>\n      <td>1.923538</td>\n      <td>0.112452</td>\n      <td>0.176010</td>\n      <td>5.006000</td>\n      <td>0.506488</td>\n      <td>7.506000</td>\n      <td>2.322537</td>\n      <td>...</td>\n      <td>0.100000</td>\n      <td>0.125897</td>\n      <td>5.494600</td>\n      <td>0.449429</td>\n      <td>-3.225422</td>\n      <td>0.263155</td>\n      <td>-3.836689</td>\n      <td>1.732920</td>\n      <td>-106.368294</td>\n      <td>23.183591</td>\n    </tr>\n    <tr>\n      <th>...</th>\n      <td>...</td>\n      <td>...</td>\n      <td>...</td>\n      <td>...</td>\n      <td>...</td>\n      <td>...</td>\n      <td>...</td>\n      <td>...</td>\n      <td>...</td>\n      <td>...</td>\n      <td>...</td>\n      <td>...</td>\n      <td>...</td>\n      <td>...</td>\n      <td>...</td>\n      <td>...</td>\n      <td>...</td>\n      <td>...</td>\n      <td>...</td>\n      <td>...</td>\n      <td>...</td>\n    </tr>\n    <tr>\n      <th>117</th>\n      <td>4.0</td>\n      <td>1.75</td>\n      <td>2.600000</td>\n      <td>2.073644</td>\n      <td>0.672464</td>\n      <td>0.103555</td>\n      <td>3.982000</td>\n      <td>0.310757</td>\n      <td>6.418000</td>\n      <td>2.666837</td>\n      <td>...</td>\n      <td>0.194000</td>\n      <td>0.339823</td>\n      <td>4.348895</td>\n      <td>0.370183</td>\n      <td>-1.812336</td>\n      <td>0.153474</td>\n      <td>-2.453699</td>\n      <td>1.461116</td>\n      <td>-130.816151</td>\n      <td>14.258673</td>\n    </tr>\n    <tr>\n      <th>118</th>\n      <td>4.0</td>\n      <td>2.00</td>\n      <td>2.333333</td>\n      <td>2.516611</td>\n      <td>0.675151</td>\n      <td>0.139187</td>\n      <td>4.530000</td>\n      <td>0.679779</td>\n      <td>8.966667</td>\n      <td>2.413490</td>\n      <td>...</td>\n      <td>0.016667</td>\n      <td>0.011547</td>\n      <td>4.938895</td>\n      <td>0.685269</td>\n      <td>-2.349903</td>\n      <td>0.325118</td>\n      <td>-4.049552</td>\n      <td>2.042013</td>\n      <td>-130.034360</td>\n      <td>10.626587</td>\n    </tr>\n    <tr>\n      <th>119</th>\n      <td>4.0</td>\n      <td>2.25</td>\n      <td>2.000000</td>\n      <td>1.581139</td>\n      <td>0.583448</td>\n      <td>0.123526</td>\n      <td>4.094000</td>\n      <td>0.147919</td>\n      <td>5.198000</td>\n      <td>2.603665</td>\n      <td>...</td>\n      <td>0.074000</td>\n      <td>0.074364</td>\n      <td>4.387886</td>\n      <td>0.156714</td>\n      <td>-2.352070</td>\n      <td>0.084677</td>\n      <td>-1.656082</td>\n      <td>0.910630</td>\n      <td>-106.961044</td>\n      <td>26.088351</td>\n    </tr>\n    <tr>\n      <th>120</th>\n      <td>4.0</td>\n      <td>2.50</td>\n      <td>3.333333</td>\n      <td>1.527525</td>\n      <td>0.855172</td>\n      <td>0.138318</td>\n      <td>4.253333</td>\n      <td>0.335460</td>\n      <td>9.290000</td>\n      <td>2.240246</td>\n      <td>...</td>\n      <td>0.056667</td>\n      <td>0.056862</td>\n      <td>4.753791</td>\n      <td>0.491372</td>\n      <td>-2.829723</td>\n      <td>0.289414</td>\n      <td>-3.453601</td>\n      <td>1.409934</td>\n      <td>-137.546452</td>\n      <td>6.152924</td>\n    </tr>\n    <tr>\n      <th>121</th>\n      <td>4.0</td>\n      <td>2.75</td>\n      <td>3.666667</td>\n      <td>1.527525</td>\n      <td>0.729502</td>\n      <td>0.148059</td>\n      <td>4.210000</td>\n      <td>0.321870</td>\n      <td>5.636667</td>\n      <td>1.836146</td>\n      <td>...</td>\n      <td>0.193333</td>\n      <td>0.274651</td>\n      <td>4.597619</td>\n      <td>0.409054</td>\n      <td>-3.007723</td>\n      <td>0.273027</td>\n      <td>-1.957654</td>\n      <td>0.894234</td>\n      <td>-105.372723</td>\n      <td>10.612725</td>\n    </tr>\n  </tbody>\n</table>\n<p>122 rows × 26 columns</p>\n</div>"
     },
     "metadata": {},
     "execution_count": 3
    }
   ],
   "source": [
    "df = pd.read_csv(\"Wide-Short_Summary.csv\")\n",
    "df['My_d'] = df['My_d'].apply(lambda x: -1*np.abs(x))\n",
    "df_avg = df.groupby(['vz_d','vx_d']).agg([np.mean,np.std]).reset_index()\n",
    "df_avg"
   ]
  },
  {
   "cell_type": "code",
   "execution_count": 4,
   "metadata": {},
   "outputs": [
    {
     "output_type": "display_data",
     "data": {
      "text/plain": "Canvas(toolbar=Toolbar(toolitems=[('Home', 'Reset original view', 'home', 'home'), ('Back', 'Back to previous …",
      "application/vnd.jupyter.widget-view+json": {
       "version_major": 2,
       "version_minor": 0,
       "model_id": "34c18534edab4dfa894ce2f3d387734e"
      }
     },
     "metadata": {}
    }
   ],
   "source": [
    "\n",
    "## AVG LANDING RATE PLOT\n",
    "fig = plt.figure()\n",
    "ax = fig.add_subplot(111,projection=\"3d\")\n",
    "ax.scatter(df['vx_d'],df['vz_d'],df['landing_rate'])\n",
    "\n",
    "ax.set_xlabel('vx_d')\n",
    "ax.set_ylabel('vz_d')\n",
    "ax.set_zlabel('landing rate')\n",
    "\n",
    "plt.show()"
   ]
  },
  {
   "cell_type": "code",
   "execution_count": 5,
   "metadata": {},
   "outputs": [
    {
     "output_type": "display_data",
     "data": {
      "text/plain": "Canvas(toolbar=Toolbar(toolitems=[('Home', 'Reset original view', 'home', 'home'), ('Back', 'Back to previous …",
      "application/vnd.jupyter.widget-view+json": {
       "version_major": 2,
       "version_minor": 0,
       "model_id": "f178cf9edb9e47a5b53f62812703febd"
      }
     },
     "metadata": {}
    }
   ],
   "source": [
    "\n",
    "## AVG LANDING RATE PLOT\n",
    "fig = plt.figure()\n",
    "ax = fig.add_subplot(111,projection=\"3d\")\n",
    "cmap = mpl.cm.jet\n",
    "norm = mpl.colors.Normalize(vmin=0,vmax=1)\n",
    "pcm = ax.plot_trisurf(df_avg['vx_d'],df_avg['vz_d'],df_avg['landing_rate','mean'],cmap = cmap)\n",
    "fig.colorbar(mpl.cm.ScalarMappable(norm=norm, cmap=cmap))\n",
    "\n",
    "ax.set_zlim(0,1)\n",
    "\n",
    "ax.set_xlabel('vx_d')\n",
    "ax.set_ylabel('vz_d')\n",
    "ax.set_zlabel('Landing Rate')\n",
    "\n",
    "\n",
    "plt.show()"
   ]
  },
  {
   "cell_type": "code",
   "execution_count": 6,
   "metadata": {},
   "outputs": [
    {
     "output_type": "execute_result",
     "data": {
      "text/plain": [
       "     vz_d  vx_d  trial_num  landing_rate  RREV_threshold     G1    G2  \\\n",
       "0     1.5  0.00          3      0.000000            4.89   8.53  4.55   \n",
       "1     1.5  0.00          2      0.000000            1.10   6.36  2.43   \n",
       "2     1.5  0.00          1      0.000000           15.17   6.04  6.30   \n",
       "3     1.5  0.00          0      0.000000            4.81   9.69  2.22   \n",
       "4     1.5  0.00          5      0.000000           12.56   0.23  5.55   \n",
       "..    ...   ...        ...           ...             ...    ...   ...   \n",
       "414   4.0  2.50          2      0.900000            4.08   8.26  4.87   \n",
       "415   4.0  2.50          5      0.700000            4.64  11.86  3.98   \n",
       "416   4.0  2.75          5      0.633333            4.57   7.08  1.83   \n",
       "417   4.0  2.75          4      0.655172            4.11   3.57  0.97   \n",
       "418   4.0  2.75          2      0.900000            3.95   6.26  4.08   \n",
       "\n",
       "     RREV_sig  G1_sig  G2_sig  RREV_trigger      OF_y      My_d  impact_eul  \\\n",
       "0        0.04    0.05    0.02           NaN       NaN       NaN         NaN   \n",
       "1        0.00    0.01    0.09           NaN       NaN       NaN         NaN   \n",
       "2        1.23    0.72    0.08           NaN       NaN       NaN         NaN   \n",
       "3        0.01    0.17    0.02           NaN       NaN       NaN         NaN   \n",
       "4        0.30    0.00    0.04           NaN       NaN       NaN         NaN   \n",
       "..        ...     ...     ...           ...       ...       ...         ...   \n",
       "414      0.03    0.10    0.12      4.436111 -2.641741 -2.402481 -132.661774   \n",
       "415      0.00    0.03    0.01      5.319762 -3.163000 -5.055857 -135.520746   \n",
       "416      0.00    0.09    0.02      5.061737 -3.317526 -2.977789 -115.641085   \n",
       "417      0.03    0.00    0.05      4.441526 -2.903421 -1.309211  -94.446263   \n",
       "418      0.00    0.01    0.51      4.289593 -2.802222 -1.585963 -106.030821   \n",
       "\n",
       "    alpha_mu alpha_sigma            mu_ini   sigma_ini  \n",
       "0    [0. 0.]     [0. 0.]  [6.37 6.68 2.3 ]  [2. 2. 2.]  \n",
       "1    [0. 0.]     [0. 0.]  [1.26 6.07 4.5 ]  [2. 2. 2.]  \n",
       "2    [0. 0.]     [0. 0.]  [2.08 5.95 3.96]  [2. 2. 2.]  \n",
       "3    [0. 0.]     [0. 0.]  [5.47 4.49 3.57]  [2. 2. 2.]  \n",
       "4    [0. 0.]     [0. 0.]  [2.97 4.94 4.64]  [2. 2. 2.]  \n",
       "..       ...         ...               ...         ...  \n",
       "414  [0. 0.]     [0. 0.]  [3.8  6.72 5.11]  [2. 2. 2.]  \n",
       "415  [0. 0.]     [0. 0.]  [2.47 5.45 3.66]  [2. 2. 2.]  \n",
       "416  [0. 0.]     [0. 0.]  [1.19 6.75 2.32]  [2. 2. 2.]  \n",
       "417  [0. 0.]     [0. 0.]  [6.35 3.69 3.38]  [2. 2. 2.]  \n",
       "418  [0. 0.]     [0. 0.]  [4.36 5.03 2.5 ]  [2. 2. 2.]  \n",
       "\n",
       "[419 rows x 18 columns]"
      ],
      "text/html": "<div>\n<style scoped>\n    .dataframe tbody tr th:only-of-type {\n        vertical-align: middle;\n    }\n\n    .dataframe tbody tr th {\n        vertical-align: top;\n    }\n\n    .dataframe thead th {\n        text-align: right;\n    }\n</style>\n<table border=\"1\" class=\"dataframe\">\n  <thead>\n    <tr style=\"text-align: right;\">\n      <th></th>\n      <th>vz_d</th>\n      <th>vx_d</th>\n      <th>trial_num</th>\n      <th>landing_rate</th>\n      <th>RREV_threshold</th>\n      <th>G1</th>\n      <th>G2</th>\n      <th>RREV_sig</th>\n      <th>G1_sig</th>\n      <th>G2_sig</th>\n      <th>RREV_trigger</th>\n      <th>OF_y</th>\n      <th>My_d</th>\n      <th>impact_eul</th>\n      <th>alpha_mu</th>\n      <th>alpha_sigma</th>\n      <th>mu_ini</th>\n      <th>sigma_ini</th>\n    </tr>\n  </thead>\n  <tbody>\n    <tr>\n      <th>0</th>\n      <td>1.5</td>\n      <td>0.00</td>\n      <td>3</td>\n      <td>0.000000</td>\n      <td>4.89</td>\n      <td>8.53</td>\n      <td>4.55</td>\n      <td>0.04</td>\n      <td>0.05</td>\n      <td>0.02</td>\n      <td>NaN</td>\n      <td>NaN</td>\n      <td>NaN</td>\n      <td>NaN</td>\n      <td>[0. 0.]</td>\n      <td>[0. 0.]</td>\n      <td>[6.37 6.68 2.3 ]</td>\n      <td>[2. 2. 2.]</td>\n    </tr>\n    <tr>\n      <th>1</th>\n      <td>1.5</td>\n      <td>0.00</td>\n      <td>2</td>\n      <td>0.000000</td>\n      <td>1.10</td>\n      <td>6.36</td>\n      <td>2.43</td>\n      <td>0.00</td>\n      <td>0.01</td>\n      <td>0.09</td>\n      <td>NaN</td>\n      <td>NaN</td>\n      <td>NaN</td>\n      <td>NaN</td>\n      <td>[0. 0.]</td>\n      <td>[0. 0.]</td>\n      <td>[1.26 6.07 4.5 ]</td>\n      <td>[2. 2. 2.]</td>\n    </tr>\n    <tr>\n      <th>2</th>\n      <td>1.5</td>\n      <td>0.00</td>\n      <td>1</td>\n      <td>0.000000</td>\n      <td>15.17</td>\n      <td>6.04</td>\n      <td>6.30</td>\n      <td>1.23</td>\n      <td>0.72</td>\n      <td>0.08</td>\n      <td>NaN</td>\n      <td>NaN</td>\n      <td>NaN</td>\n      <td>NaN</td>\n      <td>[0. 0.]</td>\n      <td>[0. 0.]</td>\n      <td>[2.08 5.95 3.96]</td>\n      <td>[2. 2. 2.]</td>\n    </tr>\n    <tr>\n      <th>3</th>\n      <td>1.5</td>\n      <td>0.00</td>\n      <td>0</td>\n      <td>0.000000</td>\n      <td>4.81</td>\n      <td>9.69</td>\n      <td>2.22</td>\n      <td>0.01</td>\n      <td>0.17</td>\n      <td>0.02</td>\n      <td>NaN</td>\n      <td>NaN</td>\n      <td>NaN</td>\n      <td>NaN</td>\n      <td>[0. 0.]</td>\n      <td>[0. 0.]</td>\n      <td>[5.47 4.49 3.57]</td>\n      <td>[2. 2. 2.]</td>\n    </tr>\n    <tr>\n      <th>4</th>\n      <td>1.5</td>\n      <td>0.00</td>\n      <td>5</td>\n      <td>0.000000</td>\n      <td>12.56</td>\n      <td>0.23</td>\n      <td>5.55</td>\n      <td>0.30</td>\n      <td>0.00</td>\n      <td>0.04</td>\n      <td>NaN</td>\n      <td>NaN</td>\n      <td>NaN</td>\n      <td>NaN</td>\n      <td>[0. 0.]</td>\n      <td>[0. 0.]</td>\n      <td>[2.97 4.94 4.64]</td>\n      <td>[2. 2. 2.]</td>\n    </tr>\n    <tr>\n      <th>...</th>\n      <td>...</td>\n      <td>...</td>\n      <td>...</td>\n      <td>...</td>\n      <td>...</td>\n      <td>...</td>\n      <td>...</td>\n      <td>...</td>\n      <td>...</td>\n      <td>...</td>\n      <td>...</td>\n      <td>...</td>\n      <td>...</td>\n      <td>...</td>\n      <td>...</td>\n      <td>...</td>\n      <td>...</td>\n      <td>...</td>\n    </tr>\n    <tr>\n      <th>414</th>\n      <td>4.0</td>\n      <td>2.50</td>\n      <td>2</td>\n      <td>0.900000</td>\n      <td>4.08</td>\n      <td>8.26</td>\n      <td>4.87</td>\n      <td>0.03</td>\n      <td>0.10</td>\n      <td>0.12</td>\n      <td>4.436111</td>\n      <td>-2.641741</td>\n      <td>-2.402481</td>\n      <td>-132.661774</td>\n      <td>[0. 0.]</td>\n      <td>[0. 0.]</td>\n      <td>[3.8  6.72 5.11]</td>\n      <td>[2. 2. 2.]</td>\n    </tr>\n    <tr>\n      <th>415</th>\n      <td>4.0</td>\n      <td>2.50</td>\n      <td>5</td>\n      <td>0.700000</td>\n      <td>4.64</td>\n      <td>11.86</td>\n      <td>3.98</td>\n      <td>0.00</td>\n      <td>0.03</td>\n      <td>0.01</td>\n      <td>5.319762</td>\n      <td>-3.163000</td>\n      <td>-5.055857</td>\n      <td>-135.520746</td>\n      <td>[0. 0.]</td>\n      <td>[0. 0.]</td>\n      <td>[2.47 5.45 3.66]</td>\n      <td>[2. 2. 2.]</td>\n    </tr>\n    <tr>\n      <th>416</th>\n      <td>4.0</td>\n      <td>2.75</td>\n      <td>5</td>\n      <td>0.633333</td>\n      <td>4.57</td>\n      <td>7.08</td>\n      <td>1.83</td>\n      <td>0.00</td>\n      <td>0.09</td>\n      <td>0.02</td>\n      <td>5.061737</td>\n      <td>-3.317526</td>\n      <td>-2.977789</td>\n      <td>-115.641085</td>\n      <td>[0. 0.]</td>\n      <td>[0. 0.]</td>\n      <td>[1.19 6.75 2.32]</td>\n      <td>[2. 2. 2.]</td>\n    </tr>\n    <tr>\n      <th>417</th>\n      <td>4.0</td>\n      <td>2.75</td>\n      <td>4</td>\n      <td>0.655172</td>\n      <td>4.11</td>\n      <td>3.57</td>\n      <td>0.97</td>\n      <td>0.03</td>\n      <td>0.00</td>\n      <td>0.05</td>\n      <td>4.441526</td>\n      <td>-2.903421</td>\n      <td>-1.309211</td>\n      <td>-94.446263</td>\n      <td>[0. 0.]</td>\n      <td>[0. 0.]</td>\n      <td>[6.35 3.69 3.38]</td>\n      <td>[2. 2. 2.]</td>\n    </tr>\n    <tr>\n      <th>418</th>\n      <td>4.0</td>\n      <td>2.75</td>\n      <td>2</td>\n      <td>0.900000</td>\n      <td>3.95</td>\n      <td>6.26</td>\n      <td>4.08</td>\n      <td>0.00</td>\n      <td>0.01</td>\n      <td>0.51</td>\n      <td>4.289593</td>\n      <td>-2.802222</td>\n      <td>-1.585963</td>\n      <td>-106.030821</td>\n      <td>[0. 0.]</td>\n      <td>[0. 0.]</td>\n      <td>[4.36 5.03 2.5 ]</td>\n      <td>[2. 2. 2.]</td>\n    </tr>\n  </tbody>\n</table>\n<p>419 rows × 18 columns</p>\n</div>"
     },
     "metadata": {},
     "execution_count": 6
    }
   ],
   "source": [
    "df"
   ]
  },
  {
   "cell_type": "code",
   "execution_count": 7,
   "metadata": {},
   "outputs": [
    {
     "output_type": "display_data",
     "data": {
      "text/plain": "Canvas(toolbar=Toolbar(toolitems=[('Home', 'Reset original view', 'home', 'home'), ('Back', 'Back to previous …",
      "application/vnd.jupyter.widget-view+json": {
       "version_major": 2,
       "version_minor": 0,
       "model_id": "40e9f5246c79425d965f5c5525106943"
      }
     },
     "metadata": {}
    }
   ],
   "source": [
    "## AVG LANDING RATE PLOT\n",
    "fig = plt.figure()\n",
    "ax = fig.add_subplot(111,projection=\"3d\")\n",
    "\n",
    "pcm = ax.scatter(df['vx_d'],df['vz_d'],df['RREV_threshold'])\n",
    "\n",
    "ax.set_xlabel('vx_d')\n",
    "ax.set_ylabel('vz_d')\n",
    "ax.set_zlabel('RREV_threshold')\n",
    "\n",
    "\n",
    "plt.show()"
   ]
  },
  {
   "cell_type": "code",
   "execution_count": 8,
   "metadata": {},
   "outputs": [
    {
     "output_type": "display_data",
     "data": {
      "text/plain": "Canvas(toolbar=Toolbar(toolitems=[('Home', 'Reset original view', 'home', 'home'), ('Back', 'Back to previous …",
      "application/vnd.jupyter.widget-view+json": {
       "version_major": 2,
       "version_minor": 0,
       "model_id": "255bf9e0b1224294b034d570a99b74d3"
      }
     },
     "metadata": {}
    }
   ],
   "source": [
    "\n",
    "## AVG LANDING RATE PLOT\n",
    "fig = plt.figure()\n",
    "ax = fig.add_subplot(111,projection=\"3d\")\n",
    "\n",
    "pcm = ax.plot_trisurf(df_avg['vx_d'],df_avg['vz_d'],-df_avg['impact_eul','mean'])\n",
    "\n",
    "ax.set_xlabel('vx_d')\n",
    "ax.set_ylabel('vz_d')\n",
    "ax.set_zlabel('Impact Angle')\n",
    "\n",
    "\n",
    "plt.show()"
   ]
  },
  {
   "cell_type": "code",
   "execution_count": 9,
   "metadata": {},
   "outputs": [
    {
     "output_type": "display_data",
     "data": {
      "text/plain": "Canvas(toolbar=Toolbar(toolitems=[('Home', 'Reset original view', 'home', 'home'), ('Back', 'Back to previous …",
      "application/vnd.jupyter.widget-view+json": {
       "version_major": 2,
       "version_minor": 0,
       "model_id": "389367a8b08c403e8998f3dce21a1e44"
      }
     },
     "metadata": {}
    }
   ],
   "source": [
    "\n",
    "## AVG LANDING RATE PLOT\n",
    "fig = plt.figure()\n",
    "ax = fig.add_subplot(111,projection=\"3d\")\n",
    "\n",
    "pcm = ax.plot_trisurf(df_avg['vx_d'],df_avg['vz_d'],df_avg['RREV_trigger','mean'])\n",
    "\n",
    "ax.set_xlim(0,2.75)\n",
    "ax.set_ylim(1.0,4.5)\n",
    "ax.set_zlim(3,7)\n",
    "\n",
    "ax.set_xlabel('vx_d')\n",
    "ax.set_ylabel('vz_d')\n",
    "ax.set_zlabel('RREV_trigger')\n",
    "\n",
    "\n",
    "plt.show()"
   ]
  },
  {
   "cell_type": "code",
   "execution_count": 10,
   "metadata": {},
   "outputs": [
    {
     "output_type": "display_data",
     "data": {
      "text/plain": "Canvas(toolbar=Toolbar(toolitems=[('Home', 'Reset original view', 'home', 'home'), ('Back', 'Back to previous …",
      "application/vnd.jupyter.widget-view+json": {
       "version_major": 2,
       "version_minor": 0,
       "model_id": "49c6f75b03114ee7834aaf8e811be350"
      }
     },
     "metadata": {}
    }
   ],
   "source": [
    "## AVG LANDING RATE PLOT\n",
    "fig = plt.figure()\n",
    "ax = fig.add_subplot(111)\n",
    "\n",
    "\n",
    "cmap = mpl.cm.Greys\n",
    "norm = mpl.colors.Normalize(vmin=0,vmax=1)\n",
    "\n",
    "ax.scatter(df_avg['RREV_trigger','mean'],df_avg['My_d','mean'],c=df_avg['landing_rate','mean'],cmap=cmap)\n",
    "fig.colorbar(mpl.cm.ScalarMappable(norm=norm, cmap=cmap))\n",
    "\n",
    "ax.grid()\n",
    "ax.set_xlim(3,7)\n",
    "ax.set_ylim(0,-10)\n",
    "ax.hlines(-7.77,3,7)\n",
    "\n",
    "ax.set_xlabel('RREV_t')\n",
    "ax.set_ylabel('My_d')\n",
    "ax.set_title('Policy by Vz')\n",
    "\n",
    "plt.show()"
   ]
  },
  {
   "cell_type": "code",
   "execution_count": 11,
   "metadata": {},
   "outputs": [
    {
     "output_type": "display_data",
     "data": {
      "text/plain": "Canvas(toolbar=Toolbar(toolitems=[('Home', 'Reset original view', 'home', 'home'), ('Back', 'Back to previous …",
      "application/vnd.jupyter.widget-view+json": {
       "version_major": 2,
       "version_minor": 0,
       "model_id": "0578ef88e3224269a5ef9c41c12c6832"
      }
     },
     "metadata": {}
    }
   ],
   "source": [
    "## AVG LANDING RATE PLOT\n",
    "fig = plt.figure()\n",
    "ax = fig.add_subplot(111)\n",
    "\n",
    "\n",
    "cmap = mpl.cm.jet\n",
    "norm = mpl.colors.Normalize(vmin=0,vmax=3)\n",
    "\n",
    "ax.scatter(df_avg['RREV_trigger','mean'],df_avg['My_d','mean'],c=df_avg['vz_d'],cmap=cmap)\n",
    "fig.colorbar(mpl.cm.ScalarMappable(norm=norm, cmap=cmap))\n",
    "\n",
    "ax.grid()ax.set_xlim(3,7)\n",
    "ax.set_ylim(0,-10)\n",
    "ax.set_xlim(3,7)ax.set_xlim(3,7)\n",
    "ax.set_ylim(0,-10)\n",
    "ax.set_ylim(0,-10)ax.set_xlim(3,7)\n",
    "ax.set_ylim(0,-10)\n",
    "ax.hlines(-7.77,3,7)ax.set_xlim(3,7)\n",
    "ax.set_ylim(0,-10)\n",
    "ax.set_xlim(3,7)\n",
    "ax.set_ylim(0,-10)\n",
    "ax.set_xlabel('RREV_t')ax.set_xlim(3,7)\n",
    "ax.set_ylim(0,-10)\n",
    "ax.set_ylabel('My_d')ax.set_xlim(3,7)\n",
    "ax.set_ylim(0,-10)\n",
    "ax.set_title('Policy by Vz')ax.set_xlim(3,7)\n",
    "ax.set_ylim(0,-10)\n",
    "ax.set_xlim(3,7)\n",
    "ax.set_ylim(0,-10)\n",
    "## As Vz increases RREV_trigger decreases to preserve time to contact. It also finds a host of My_d that work and they vary because of the robustness of the legs and the fact that landing success isn't deterministic.\n",
    "plt.show()"
   ]
  },
  {
   "cell_type": "code",
   "execution_count": 12,
   "metadata": {},
   "outputs": [
    {
     "output_type": "display_data",
     "data": {
      "text/plain": "Canvas(toolbar=Toolbar(toolitems=[('Home', 'Reset original view', 'home', 'home'), ('Back', 'Back to previous …",
      "application/vnd.jupyter.widget-view+json": {
       "version_major": 2,
       "version_minor": 0,
       "model_id": "d86b8b491ace4526a4fa90f788990706"
      }
     },
     "metadata": {}
    }
   ],
   "source": [
    "## AVG LANDING RATE PLOT\n",
    "fig = plt.figure()\n",
    "ax = fig.add_subplot(111,projection=\"3d\")\n",
    "\n",
    "cmap = mpl.cm.jet\n",
    "norm = mpl.colors.Normalize(vmin=0,vmax=3)\n",
    "\n",
    "pcm = ax.scatter(df_avg['RREV_trigger','mean'],df_avg['My_d','mean'],df_avg['OF_y','mean'],c=df_avg['landing_rate','mean'],cmap=cmap)\n",
    "\n",
    "ax.set_xlim(3,7)\n",
    "ax.set_ylim(0,-10)\n",
    "\n",
    "ax.set_xlabel('RREV_trigger')\n",
    "ax.set_ylabel('My_d')\n",
    "ax.set_zlabel('OF_y')\n",
    "\n",
    "\n",
    "plt.show()"
   ]
  },
  {
   "cell_type": "code",
   "execution_count": 17,
   "metadata": {},
   "outputs": [
    {
     "output_type": "display_data",
     "data": {
      "text/plain": "Canvas(toolbar=Toolbar(toolitems=[('Home', 'Reset original view', 'home', 'home'), ('Back', 'Back to previous …",
      "application/vnd.jupyter.widget-view+json": {
       "version_major": 2,
       "version_minor": 0,
       "model_id": "1ef412ac87154bc6bd033b0450ce8380"
      }
     },
     "metadata": {}
    }
   ],
   "source": [
    "## AVG LANDING RATE PLOT\n",
    "fig = plt.figure()\n",
    "ax = fig.add_subplot(111)\n",
    "\n",
    "cmap = mpl.cm.jet\n",
    "norm = mpl.colors.Normalize(vmin=0,vmax=3)\n",
    "\n",
    "pcm = ax.scatter(df_avg['RREV_threshold','mean'],df_avg['RREV_trigger','mean'],c=df_avg['vz_d'],cmap=cmap)\n",
    "\n",
    "\n",
    "ax.grid()\n",
    "ax.set_xlim(3,8)\n",
    "ax.set_ylim(3,8)\n",
    "\n",
    "ax.set_xlabel('RREV_threshold')\n",
    "ax.set_ylabel('RREV_trigger')\n",
    "# ax.set_zlabel('OF_y')\n",
    "\n",
    "\n",
    "plt.show()"
   ]
  },
  {
   "cell_type": "code",
   "execution_count": 14,
   "metadata": {},
   "outputs": [
    {
     "output_type": "display_data",
     "data": {
      "text/plain": "Canvas(toolbar=Toolbar(toolitems=[('Home', 'Reset original view', 'home', 'home'), ('Back', 'Back to previous …",
      "application/vnd.jupyter.widget-view+json": {
       "version_major": 2,
       "version_minor": 0,
       "model_id": "9d0d5fa63fec463ab4ab7f7971457c9c"
      }
     },
     "metadata": {}
    }
   ],
   "source": [
    "## AVG LANDING RATE PLOT\n",
    "fig = plt.figure()\n",
    "ax = fig.add_subplot(111,projection=\"3d\")\n",
    "\n",
    "cmap = mpl.cm.jet\n",
    "norm = mpl.colors.Normalize(vmin=0,vmax=3)\n",
    "\n",
    "pcm = ax.scatter(df_avg['My_d','mean'],df_avg['RREV_trigger','mean'],df_avg['impact_eul','mean'],c=df_avg['landing_rate','mean'],cmap=cmap)\n",
    "\n",
    "\n",
    "ax.grid()\n",
    "# ax.set_xlim(3,7)\n",
    "# ax.set_ylim(0,-10)\n",
    "\n",
    "ax.set_xlabel('My_d')\n",
    "ax.set_ylabel('RREV_trigger')\n",
    "ax.set_zlabel('Impact Angle')\n",
    "\n",
    "\n",
    "plt.show()"
   ]
  },
  {
   "cell_type": "code",
   "execution_count": null,
   "metadata": {},
   "outputs": [],
   "source": []
  },
  {
   "cell_type": "code",
   "execution_count": null,
   "metadata": {},
   "outputs": [],
   "source": []
  }
 ]
}