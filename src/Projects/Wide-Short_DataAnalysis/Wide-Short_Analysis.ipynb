{
 "metadata": {
  "language_info": {
   "codemirror_mode": {
    "name": "ipython",
    "version": 3
   },
   "file_extension": ".py",
   "mimetype": "text/x-python",
   "name": "python",
   "nbconvert_exporter": "python",
   "pygments_lexer": "ipython3",
   "version": "3.8.5-final"
  },
  "orig_nbformat": 2,
  "kernelspec": {
   "name": "python38564bit0282941c0ba945238a13db8c20574d9c",
   "display_name": "Python 3.8.5 64-bit",
   "language": "python"
  }
 },
 "nbformat": 4,
 "nbformat_minor": 2,
 "cells": [
  {
   "cell_type": "code",
   "execution_count": 1,
   "metadata": {},
   "outputs": [],
   "source": [
    "## IMPORT MODULES\n",
    "import pandas as pd\n",
    "import numpy as np"
   ]
  },
  {
   "cell_type": "code",
   "execution_count": 2,
   "metadata": {},
   "outputs": [],
   "source": [
    "## IMPORT PLOTTING MODULES\n",
    "import matplotlib.pyplot as plt\n",
    "from mpl_toolkits import mplot3d\n",
    "import matplotlib as mpl\n",
    "from matplotlib import cm\n",
    "%matplotlib widget"
   ]
  },
  {
   "cell_type": "code",
   "execution_count": 3,
   "metadata": {},
   "outputs": [],
   "source": [
    "## FULL DATAFRAME\n",
    "df_raw = pd.read_csv(\"Wide-Short_Summary.csv\")\n",
    "df_raw_avg = df_raw.groupby(['vz_d','vx_d']).agg([np.mean,np.std]).reset_index()\n",
    "\n",
    "df = df_raw\n",
    "df['My_d'] = df['My_d'].apply(lambda x: np.abs(x))\n",
    "df = df.drop(df[df['My_d']>=7.7].index)\n",
    "df = df.dropna()\n",
    "\n",
    "## AVERAGED DATAFRAME\n",
    "df_avg = df.groupby(['vz_d','vx_d']).agg([np.mean,np.std]).reset_index()"
   ]
  },
  {
   "cell_type": "code",
   "execution_count": 4,
   "metadata": {},
   "outputs": [
    {
     "output_type": "execute_result",
     "data": {
      "text/plain": [
       "     vz_d  vx_d  trial_num  landing_rate  RREV_threshold     G1    G2  \\\n",
       "1     1.5  0.00          0      0.500000            4.85   2.65  3.30   \n",
       "18    1.5  0.25          3      0.033333            5.00   5.05  2.06   \n",
       "19    1.5  0.25          4      0.045455            5.39   5.30  2.66   \n",
       "21    1.5  0.25          5      0.038462            5.08   7.48  7.19   \n",
       "28    1.5  0.50          2      0.900000            4.70   5.97  4.96   \n",
       "..    ...   ...        ...           ...             ...    ...   ...   \n",
       "806   4.0  2.50          3      0.965517            4.04   7.75  2.20   \n",
       "807   4.0  2.50          5      0.700000            4.64  11.86  3.98   \n",
       "808   4.0  2.75          2      0.900000            3.95   6.26  4.08   \n",
       "809   4.0  2.75          4      0.655172            4.11   3.57  0.97   \n",
       "810   4.0  2.75          5      0.633333            4.57   7.08  1.83   \n",
       "\n",
       "     RREV_sig  G1_sig  G2_sig  RREV_trigger      OF_y      My_d  impact_eul  \\\n",
       "1        0.01    0.20    0.32      5.326667  0.000000  2.738333  -86.136842   \n",
       "18       0.10    0.10    0.60      5.200000 -0.694000  5.029000  -82.694568   \n",
       "19       0.01    0.00    0.10      6.214000 -0.912000  3.056000  -59.486725   \n",
       "21       0.01    0.40    0.23      6.229000 -0.914000  4.161000  -70.506870   \n",
       "28       0.00    0.10    0.02      5.070778 -1.353333  5.940333  -91.307558   \n",
       "..        ...     ...     ...           ...       ...       ...         ...   \n",
       "806      0.05    0.01    0.04      4.505500 -2.684429  2.902464 -144.456835   \n",
       "807      0.00    0.03    0.01      5.319762 -3.163000  5.055857 -135.520746   \n",
       "808      0.00    0.01    0.51      4.289593 -2.802222  1.585963 -106.030821   \n",
       "809      0.03    0.00    0.05      4.441526 -2.903421  1.309211  -94.446263   \n",
       "810      0.00    0.09    0.02      5.061737 -3.317526  2.977789 -115.641085   \n",
       "\n",
       "     impact_tdelta alpha_mu alpha_sigma            mu_ini   sigma_ini  \n",
       "1         0.237333  [0. 0.]     [0. 0.]  [2.85 4.11 2.29]  [2. 2. 2.]  \n",
       "18        0.166000  [0. 0.]     [0. 0.]  [5.   3.03 2.3 ]  [2. 2. 2.]  \n",
       "19        0.170000  [0. 0.]     [0. 0.]  [5.95 4.72 3.49]  [2. 2. 2.]  \n",
       "21        0.175000  [0. 0.]     [0. 0.]  [5.47 6.05 5.45]  [2. 2. 2.]  \n",
       "28        0.174370  [0. 0.]     [0. 0.]  [4.18 5.08 2.97]  [2. 2. 2.]  \n",
       "..             ...      ...         ...               ...         ...  \n",
       "806       0.274286  [0. 0.]     [0. 0.]  [4.2  3.53 3.  ]  [2. 2. 2.]  \n",
       "807       0.213190  [0. 0.]     [0. 0.]  [2.47 5.45 3.66]  [2. 2. 2.]  \n",
       "808       0.305444  [0. 0.]     [0. 0.]  [4.36 5.03 2.5 ]  [2. 2. 2.]  \n",
       "809       0.303579  [0. 0.]     [0. 0.]  [6.35 3.69 3.38]  [2. 2. 2.]  \n",
       "810       0.245053  [0. 0.]     [0. 0.]  [1.19 6.75 2.32]  [2. 2. 2.]  \n",
       "\n",
       "[577 rows x 19 columns]"
      ],
      "text/html": "<div>\n<style scoped>\n    .dataframe tbody tr th:only-of-type {\n        vertical-align: middle;\n    }\n\n    .dataframe tbody tr th {\n        vertical-align: top;\n    }\n\n    .dataframe thead th {\n        text-align: right;\n    }\n</style>\n<table border=\"1\" class=\"dataframe\">\n  <thead>\n    <tr style=\"text-align: right;\">\n      <th></th>\n      <th>vz_d</th>\n      <th>vx_d</th>\n      <th>trial_num</th>\n      <th>landing_rate</th>\n      <th>RREV_threshold</th>\n      <th>G1</th>\n      <th>G2</th>\n      <th>RREV_sig</th>\n      <th>G1_sig</th>\n      <th>G2_sig</th>\n      <th>RREV_trigger</th>\n      <th>OF_y</th>\n      <th>My_d</th>\n      <th>impact_eul</th>\n      <th>impact_tdelta</th>\n      <th>alpha_mu</th>\n      <th>alpha_sigma</th>\n      <th>mu_ini</th>\n      <th>sigma_ini</th>\n    </tr>\n  </thead>\n  <tbody>\n    <tr>\n      <th>1</th>\n      <td>1.5</td>\n      <td>0.00</td>\n      <td>0</td>\n      <td>0.500000</td>\n      <td>4.85</td>\n      <td>2.65</td>\n      <td>3.30</td>\n      <td>0.01</td>\n      <td>0.20</td>\n      <td>0.32</td>\n      <td>5.326667</td>\n      <td>0.000000</td>\n      <td>2.738333</td>\n      <td>-86.136842</td>\n      <td>0.237333</td>\n      <td>[0. 0.]</td>\n      <td>[0. 0.]</td>\n      <td>[2.85 4.11 2.29]</td>\n      <td>[2. 2. 2.]</td>\n    </tr>\n    <tr>\n      <th>18</th>\n      <td>1.5</td>\n      <td>0.25</td>\n      <td>3</td>\n      <td>0.033333</td>\n      <td>5.00</td>\n      <td>5.05</td>\n      <td>2.06</td>\n      <td>0.10</td>\n      <td>0.10</td>\n      <td>0.60</td>\n      <td>5.200000</td>\n      <td>-0.694000</td>\n      <td>5.029000</td>\n      <td>-82.694568</td>\n      <td>0.166000</td>\n      <td>[0. 0.]</td>\n      <td>[0. 0.]</td>\n      <td>[5.   3.03 2.3 ]</td>\n      <td>[2. 2. 2.]</td>\n    </tr>\n    <tr>\n      <th>19</th>\n      <td>1.5</td>\n      <td>0.25</td>\n      <td>4</td>\n      <td>0.045455</td>\n      <td>5.39</td>\n      <td>5.30</td>\n      <td>2.66</td>\n      <td>0.01</td>\n      <td>0.00</td>\n      <td>0.10</td>\n      <td>6.214000</td>\n      <td>-0.912000</td>\n      <td>3.056000</td>\n      <td>-59.486725</td>\n      <td>0.170000</td>\n      <td>[0. 0.]</td>\n      <td>[0. 0.]</td>\n      <td>[5.95 4.72 3.49]</td>\n      <td>[2. 2. 2.]</td>\n    </tr>\n    <tr>\n      <th>21</th>\n      <td>1.5</td>\n      <td>0.25</td>\n      <td>5</td>\n      <td>0.038462</td>\n      <td>5.08</td>\n      <td>7.48</td>\n      <td>7.19</td>\n      <td>0.01</td>\n      <td>0.40</td>\n      <td>0.23</td>\n      <td>6.229000</td>\n      <td>-0.914000</td>\n      <td>4.161000</td>\n      <td>-70.506870</td>\n      <td>0.175000</td>\n      <td>[0. 0.]</td>\n      <td>[0. 0.]</td>\n      <td>[5.47 6.05 5.45]</td>\n      <td>[2. 2. 2.]</td>\n    </tr>\n    <tr>\n      <th>28</th>\n      <td>1.5</td>\n      <td>0.50</td>\n      <td>2</td>\n      <td>0.900000</td>\n      <td>4.70</td>\n      <td>5.97</td>\n      <td>4.96</td>\n      <td>0.00</td>\n      <td>0.10</td>\n      <td>0.02</td>\n      <td>5.070778</td>\n      <td>-1.353333</td>\n      <td>5.940333</td>\n      <td>-91.307558</td>\n      <td>0.174370</td>\n      <td>[0. 0.]</td>\n      <td>[0. 0.]</td>\n      <td>[4.18 5.08 2.97]</td>\n      <td>[2. 2. 2.]</td>\n    </tr>\n    <tr>\n      <th>...</th>\n      <td>...</td>\n      <td>...</td>\n      <td>...</td>\n      <td>...</td>\n      <td>...</td>\n      <td>...</td>\n      <td>...</td>\n      <td>...</td>\n      <td>...</td>\n      <td>...</td>\n      <td>...</td>\n      <td>...</td>\n      <td>...</td>\n      <td>...</td>\n      <td>...</td>\n      <td>...</td>\n      <td>...</td>\n      <td>...</td>\n      <td>...</td>\n    </tr>\n    <tr>\n      <th>806</th>\n      <td>4.0</td>\n      <td>2.50</td>\n      <td>3</td>\n      <td>0.965517</td>\n      <td>4.04</td>\n      <td>7.75</td>\n      <td>2.20</td>\n      <td>0.05</td>\n      <td>0.01</td>\n      <td>0.04</td>\n      <td>4.505500</td>\n      <td>-2.684429</td>\n      <td>2.902464</td>\n      <td>-144.456835</td>\n      <td>0.274286</td>\n      <td>[0. 0.]</td>\n      <td>[0. 0.]</td>\n      <td>[4.2  3.53 3.  ]</td>\n      <td>[2. 2. 2.]</td>\n    </tr>\n    <tr>\n      <th>807</th>\n      <td>4.0</td>\n      <td>2.50</td>\n      <td>5</td>\n      <td>0.700000</td>\n      <td>4.64</td>\n      <td>11.86</td>\n      <td>3.98</td>\n      <td>0.00</td>\n      <td>0.03</td>\n      <td>0.01</td>\n      <td>5.319762</td>\n      <td>-3.163000</td>\n      <td>5.055857</td>\n      <td>-135.520746</td>\n      <td>0.213190</td>\n      <td>[0. 0.]</td>\n      <td>[0. 0.]</td>\n      <td>[2.47 5.45 3.66]</td>\n      <td>[2. 2. 2.]</td>\n    </tr>\n    <tr>\n      <th>808</th>\n      <td>4.0</td>\n      <td>2.75</td>\n      <td>2</td>\n      <td>0.900000</td>\n      <td>3.95</td>\n      <td>6.26</td>\n      <td>4.08</td>\n      <td>0.00</td>\n      <td>0.01</td>\n      <td>0.51</td>\n      <td>4.289593</td>\n      <td>-2.802222</td>\n      <td>1.585963</td>\n      <td>-106.030821</td>\n      <td>0.305444</td>\n      <td>[0. 0.]</td>\n      <td>[0. 0.]</td>\n      <td>[4.36 5.03 2.5 ]</td>\n      <td>[2. 2. 2.]</td>\n    </tr>\n    <tr>\n      <th>809</th>\n      <td>4.0</td>\n      <td>2.75</td>\n      <td>4</td>\n      <td>0.655172</td>\n      <td>4.11</td>\n      <td>3.57</td>\n      <td>0.97</td>\n      <td>0.03</td>\n      <td>0.00</td>\n      <td>0.05</td>\n      <td>4.441526</td>\n      <td>-2.903421</td>\n      <td>1.309211</td>\n      <td>-94.446263</td>\n      <td>0.303579</td>\n      <td>[0. 0.]</td>\n      <td>[0. 0.]</td>\n      <td>[6.35 3.69 3.38]</td>\n      <td>[2. 2. 2.]</td>\n    </tr>\n    <tr>\n      <th>810</th>\n      <td>4.0</td>\n      <td>2.75</td>\n      <td>5</td>\n      <td>0.633333</td>\n      <td>4.57</td>\n      <td>7.08</td>\n      <td>1.83</td>\n      <td>0.00</td>\n      <td>0.09</td>\n      <td>0.02</td>\n      <td>5.061737</td>\n      <td>-3.317526</td>\n      <td>2.977789</td>\n      <td>-115.641085</td>\n      <td>0.245053</td>\n      <td>[0. 0.]</td>\n      <td>[0. 0.]</td>\n      <td>[1.19 6.75 2.32]</td>\n      <td>[2. 2. 2.]</td>\n    </tr>\n  </tbody>\n</table>\n<p>577 rows × 19 columns</p>\n</div>"
     },
     "metadata": {},
     "execution_count": 4
    }
   ],
   "source": [
    "df"
   ]
  },
  {
   "cell_type": "code",
   "execution_count": 5,
   "metadata": {},
   "outputs": [
    {
     "output_type": "display_data",
     "data": {
      "text/plain": "Canvas(toolbar=Toolbar(toolitems=[('Home', 'Reset original view', 'home', 'home'), ('Back', 'Back to previous …",
      "application/vnd.jupyter.widget-view+json": {
       "version_major": 2,
       "version_minor": 0,
       "model_id": "57ee24e5d13f4f6b87473d47e51efe4d"
      }
     },
     "metadata": {}
    }
   ],
   "source": [
    "\n",
    "## LANDING RATE DATA\n",
    "fig = plt.figure()\n",
    "ax = fig.add_subplot(111,projection=\"3d\")\n",
    "ax.scatter(df_raw['vx_d'],df_raw['vz_d'],df_raw['landing_rate'])\n",
    "\n",
    "ax.set_xlabel('vx_d')\n",
    "ax.set_ylabel('vz_d')\n",
    "ax.set_zlabel('Landing Rate')\n",
    "ax.set_title('Landing Rate (Raw Data)')\n",
    "\n",
    "plt.show()"
   ]
  },
  {
   "cell_type": "code",
   "execution_count": 6,
   "metadata": {},
   "outputs": [
    {
     "output_type": "display_data",
     "data": {
      "text/plain": "Canvas(toolbar=Toolbar(toolitems=[('Home', 'Reset original view', 'home', 'home'), ('Back', 'Back to previous …",
      "application/vnd.jupyter.widget-view+json": {
       "version_major": 2,
       "version_minor": 0,
       "model_id": "8c56c0548a44438c98a656b2d29f5658"
      }
     },
     "metadata": {}
    }
   ],
   "source": [
    "\n",
    "## AVG LANDING RATE SURFACE\n",
    "fig = plt.figure()\n",
    "ax = fig.add_subplot(111,projection=\"3d\")\n",
    "cmap = mpl.cm.jet\n",
    "norm = mpl.colors.Normalize(vmin=0,vmax=1)\n",
    "pcm = ax.plot_trisurf(df_raw_avg['vx_d'],df_raw_avg['vz_d'],df_raw_avg['landing_rate','mean'],cmap = cmap)\n",
    "fig.colorbar(mpl.cm.ScalarMappable(norm=norm, cmap=cmap),label=\"Landing %\")\n",
    "df\n",
    "ax.set_zlim(0,1)\n",
    "\n",
    "ax.set_xlabel('vx_d')\n",
    "ax.set_ylabel('vz_d')\n",
    "ax.set_zlabel('Landing Rate')\n",
    "ax.set_title('Avg Landing Rate for Final 3 Episodes')\n",
    "\n",
    "\n",
    "plt.show()"
   ]
  },
  {
   "cell_type": "code",
   "execution_count": 7,
   "metadata": {},
   "outputs": [
    {
     "output_type": "display_data",
     "data": {
      "text/plain": "Canvas(toolbar=Toolbar(toolitems=[('Home', 'Reset original view', 'home', 'home'), ('Back', 'Back to previous …",
      "application/vnd.jupyter.widget-view+json": {
       "version_major": 2,
       "version_minor": 0,
       "model_id": "490752c210444534ad3c7504a60e7194"
      }
     },
     "metadata": {}
    }
   ],
   "source": [
    "## RREV Threshold vs IC\n",
    "fig = plt.figure()\n",
    "ax = fig.add_subplot(111,projection=\"3d\")\n",
    "\n",
    "ax.scatter(df['vx_d'],df['vz_d'],df['RREV_threshold'])\n",
    "\n",
    "\n",
    "ax.set_xlim(0,2.75)\n",
    "ax.set_ylim(1.0,4.5)\n",
    "\n",
    "\n",
    "ax.set_xlabel('Vx_d')\n",
    "ax.set_ylabel('Vz_d')\n",
    "ax.set_zlabel('RREV_threshold')\n",
    "ax.set_title('RREV_thr vs IC - (Raw Data)')\n",
    "\n",
    "\n",
    "plt.show()"
   ]
  },
  {
   "cell_type": "code",
   "execution_count": 8,
   "metadata": {},
   "outputs": [
    {
     "output_type": "display_data",
     "data": {
      "text/plain": "Canvas(toolbar=Toolbar(toolitems=[('Home', 'Reset original view', 'home', 'home'), ('Back', 'Back to previous …",
      "application/vnd.jupyter.widget-view+json": {
       "version_major": 2,
       "version_minor": 0,
       "model_id": "8d10e19b4c2b4378bd75209c28eaa13c"
      }
     },
     "metadata": {}
    }
   ],
   "source": [
    "\n",
    "## Avg RREV_thr vs IC\n",
    "fig = plt.figure()\n",
    "ax = fig.add_subplot(111,projection=\"3d\")\n",
    "\n",
    "cmap = mpl.cm.jet\n",
    "norm = mpl.colors.Normalize(vmin=4,vmax=5)\n",
    "pcm = ax.plot_trisurf(df_avg['vx_d'],df_avg['vz_d'],df_avg['RREV_threshold','mean'],cmap=cmap)\n",
    "fig.colorbar(mpl.cm.ScalarMappable(norm=norm, cmap=cmap),label=\"RREV_threshold\")\n",
    "\n",
    "ax.set_xlim(0,2.75)\n",
    "ax.set_ylim(1.0,4.5)\n",
    "ax.set_zlim(3,6)\n",
    "\n",
    "ax.set_xlabel('vx_d')\n",
    "ax.set_ylabel('vz_d')\n",
    "ax.set_zlabel('RREV_threshold')\n",
    "\n",
    "ax.set_title('Avg RREV_thr vs IC')\n",
    "plt.show()"
   ]
  },
  {
   "cell_type": "code",
   "execution_count": 45,
   "metadata": {},
   "outputs": [
    {
     "output_type": "display_data",
     "data": {
      "text/plain": "Canvas(toolbar=Toolbar(toolitems=[('Home', 'Reset original view', 'home', 'home'), ('Back', 'Back to previous …",
      "application/vnd.jupyter.widget-view+json": {
       "version_major": 2,
       "version_minor": 0,
       "model_id": "e1fa97d9edc44a3191ed69dd73de18b9"
      }
     },
     "metadata": {}
    }
   ],
   "source": [
    "fig = plt.figure()\n",
    "ax = fig.add_subplot(111,projection=\"3d\")\n",
    "\n",
    "cmap = mpl.cm.jet\n",
    "norm = mpl.colors.Normalize(vmin=4,vmax=5)\n",
    "pcm = ax.scatter(df['vx_d'],df['vz_d'],df['impact_tdelta'])\n",
    "fig.colorbar(mpl.cm.ScalarMappable(norm=norm, cmap=cmap),label=\"RREV_threshold\")\n",
    "\n",
    "\n",
    "ax.set_xlabel('vx_d')\n",
    "ax.set_ylabel('vz_d')\n",
    "ax.set_zlabel('Delta_t [s]')\n",
    "\n",
    "ax.set_title('Time Rotating vs IC (Raw Data)')\n",
    "\n",
    "ax.set_zlim(0,0.5)\n",
    "\n",
    "\n",
    "\n",
    "\n",
    "plt.show()"
   ]
  },
  {
   "cell_type": "code",
   "execution_count": 49,
   "metadata": {},
   "outputs": [
    {
     "output_type": "display_data",
     "data": {
      "text/plain": "Canvas(toolbar=Toolbar(toolitems=[('Home', 'Reset original view', 'home', 'home'), ('Back', 'Back to previous …",
      "application/vnd.jupyter.widget-view+json": {
       "version_major": 2,
       "version_minor": 0,
       "model_id": "d14eb914b9d34df6a58c978cd75f3ae6"
      }
     },
     "metadata": {}
    }
   ],
   "source": [
    "fig = plt.figure()\n",
    "ax = fig.add_subplot(111,projection=\"3d\")\n",
    "\n",
    "\n",
    "cmap = mpl.cm.rainbow\n",
    "norm = mpl.colors.Normalize(vmin=0,vmax=4)\n",
    "\n",
    "pcm = ax.scatter(df['RREV_trigger'],df['landing_rate'],df['impact_tdelta'],c=df['vz_d'],cmap=cmap)\n",
    "fig.colorbar(mpl.cm.ScalarMappable(norm=norm, cmap=cmap),label='Vz_d')\n",
    "\n",
    "\n",
    "ax.set_xlabel('RREV_trigger')\n",
    "ax.set_ylabel('Landing_rate')\n",
    "ax.set_zlabel('Delta_t [s]')\n",
    "\n",
    "ax.set_title('Time Rotating vs RREV (Raw Data)')\n",
    "\n",
    "ax.set_zlim(0,0.5)\n",
    "\n",
    "\n",
    "\n",
    "\n",
    "plt.show()"
   ]
  },
  {
   "cell_type": "code",
   "execution_count": 48,
   "metadata": {},
   "outputs": [
    {
     "output_type": "display_data",
     "data": {
      "text/plain": "Canvas(toolbar=Toolbar(toolitems=[('Home', 'Reset original view', 'home', 'home'), ('Back', 'Back to previous …",
      "application/vnd.jupyter.widget-view+json": {
       "version_major": 2,
       "version_minor": 0,
       "model_id": "6bb189eb2f3543eebec48e6cba71c3ac"
      }
     },
     "metadata": {}
    }
   ],
   "source": [
    "## AVG LANDING RATE PLOT\n",
    "fig = plt.figure()\n",
    "ax = fig.add_subplot(111,projection=\"3d\")\n",
    "\n",
    "cmap = mpl.cm.rainbow\n",
    "norm = mpl.colors.Normalize(vmin=0,vmax=4)\n",
    "\n",
    "pcm = ax.scatter(df['RREV_trigger'],df['vz_d'],df['landing_rate'],c=df['vz_d'],cmap=cmap)\n",
    "fig.colorbar(mpl.cm.ScalarMappable(norm=norm, cmap=cmap),label='Vz_d')\n",
    "\n",
    "\n",
    "\n",
    "ax.set_xlabel('RREV_trigger')\n",
    "ax.set_ylabel('vz_d')\n",
    "ax.set_zlabel('LR')\n",
    "\n",
    "\n",
    "plt.show()"
   ]
  },
  {
   "cell_type": "code",
   "execution_count": 11,
   "metadata": {},
   "outputs": [
    {
     "output_type": "display_data",
     "data": {
      "text/plain": "Canvas(toolbar=Toolbar(toolitems=[('Home', 'Reset original view', 'home', 'home'), ('Back', 'Back to previous …",
      "application/vnd.jupyter.widget-view+json": {
       "version_major": 2,
       "version_minor": 0,
       "model_id": "096b648d7f3047f19e496212641a63a5"
      }
     },
     "metadata": {}
    }
   ],
   "source": [
    "\n",
    "fig = plt.figure()\n",
    "ax = fig.add_subplot(111,projection=\"3d\")\n",
    "\n",
    "pcm = ax.scatter(df['vx_d'],df['vz_d'],df['My_d'])\n",
    "\n",
    "\n",
    "\n",
    "ax.set_xlabel('vx_d')\n",
    "ax.set_ylabel('vz_d')\n",
    "ax.set_zlabel('My_d [N*mm]')\n",
    "\n",
    "ax.set_title('My_d vs IC (Raw Data)')\n",
    "\n",
    "## I have more data for vz = (1.5,2.75) than vz = (3.00,4.0) so My_d differences are likely not a trend, just sparse data\n",
    "\n",
    "\n",
    "\n",
    "\n",
    "plt.show()"
   ]
  },
  {
   "cell_type": "code",
   "execution_count": 54,
   "metadata": {},
   "outputs": [
    {
     "output_type": "display_data",
     "data": {
      "text/plain": "Canvas(toolbar=Toolbar(toolitems=[('Home', 'Reset original view', 'home', 'home'), ('Back', 'Back to previous …",
      "application/vnd.jupyter.widget-view+json": {
       "version_major": 2,
       "version_minor": 0,
       "model_id": "a5596eb84be543739b541911e77d3e60"
      }
     },
     "metadata": {}
    }
   ],
   "source": [
    "\n",
    "## AVG LANDING RATE PLOT\n",
    "fig = plt.figure()\n",
    "ax = fig.add_subplot(111,projection=\"3d\")\n",
    "\n",
    "cmap = mpl.cm.rainbow\n",
    "norm = mpl.colors.Normalize(vmin=0,vmax=1)\n",
    "pcm = ax.scatter(df['vx_d'],df['vz_d'],-df['impact_eul'],c=df['landing_rate'],cmap=cmap)\n",
    "fig.colorbar(mpl.cm.ScalarMappable(norm=norm, cmap=cmap),label='Landing %')\n",
    "\n",
    "ax.set_xlabel('vx_d')\n",
    "ax.set_ylabel('vz_d')\n",
    "ax.set_zlabel('Impact Angle')\n",
    "\n",
    "\n",
    "ax.set_zlim(-70,180)\n",
    "ax.set_zticks([0,60,120,180])\n",
    "\n",
    "## Failed landings in corner\n",
    "plt.show()"
   ]
  },
  {
   "cell_type": "code",
   "execution_count": 13,
   "metadata": {},
   "outputs": [
    {
     "output_type": "display_data",
     "data": {
      "text/plain": "Canvas(toolbar=Toolbar(toolitems=[('Home', 'Reset original view', 'home', 'home'), ('Back', 'Back to previous …",
      "application/vnd.jupyter.widget-view+json": {
       "version_major": 2,
       "version_minor": 0,
       "model_id": "75705ea3260c4b6c8f081d0c158484fb"
      }
     },
     "metadata": {}
    }
   ],
   "source": [
    "## AVG LANDING RATE PLOT\n",
    "fig = plt.figure()\n",
    "ax = fig.add_subplot(111,projection=\"3d\")\n",
    "\n",
    "cmap = mpl.cm.jet\n",
    "norm = mpl.colors.Normalize(vmin=0,vmax=180)\n",
    "ax.plot_trisurf(df_avg['vx_d'],df_avg['vz_d'],-df_avg['impact_eul','mean'],cmap=cmap)\n",
    "\n",
    "\n",
    "ax.set_xlim(0,2.75)\n",
    "ax.set_ylim(1.0,4.0)\n",
    "ax.set_zlim(-70,180)\n",
    "ax.set_zticks([0,60,120,180])\n",
    "\n",
    "\n",
    "ax.set_xlabel('vx_d')\n",
    "ax.set_ylabel('vz_d')\n",
    "ax.set_zlabel('Impact Angle')\n",
    "\n",
    "ax.set_title('Avg Impact Angle vs IC')\n",
    "plt.show()"
   ]
  },
  {
   "cell_type": "code",
   "execution_count": 14,
   "metadata": {},
   "outputs": [
    {
     "output_type": "display_data",
     "data": {
      "text/plain": "Canvas(toolbar=Toolbar(toolitems=[('Home', 'Reset original view', 'home', 'home'), ('Back', 'Back to previous …",
      "application/vnd.jupyter.widget-view+json": {
       "version_major": 2,
       "version_minor": 0,
       "model_id": "9c9c04b30fe9403c814ca392f1595a16"
      }
     },
     "metadata": {}
    }
   ],
   "source": [
    "## AVG LANDING RATE PLOT\n",
    "fig = plt.figure()\n",
    "ax = fig.add_subplot(111)\n",
    "\n",
    "\n",
    "cmap = mpl.cm.Greys\n",
    "norm = mpl.colors.Normalize(vmin=0,vmax=1)\n",
    "\n",
    "ax.scatter(df['RREV_threshold'],df['My_d'],c=df['landing_rate'],cmap=cmap)\n",
    "fig.colorbar(mpl.cm.ScalarMappable(norm=norm, cmap=cmap),label='Landing %')\n",
    "\n",
    "ax.grid()\n",
    "ax.set_xlim(3,7)\n",
    "ax.set_ylim(0,10)\n",
    "ax.hlines(7.77,3,7)\n",
    "ax.text(3.05,8.0,'Motors Maxed Out')\n",
    "\n",
    "ax.set_xlabel('RREV_thr')\n",
    "ax.set_ylabel('My_d [N*mm]')\n",
    "ax.set_title('Policy: My_d vs RREV_thr')\n",
    "\n",
    "plt.show()"
   ]
  },
  {
   "cell_type": "code",
   "execution_count": 23,
   "metadata": {},
   "outputs": [
    {
     "output_type": "display_data",
     "data": {
      "text/plain": "Canvas(toolbar=Toolbar(toolitems=[('Home', 'Reset original view', 'home', 'home'), ('Back', 'Back to previous …",
      "application/vnd.jupyter.widget-view+json": {
       "version_major": 2,
       "version_minor": 0,
       "model_id": "aaea47ca315f415bbe740f0fef16891c"
      }
     },
     "metadata": {}
    }
   ],
   "source": [
    "## AVG LANDING RATE PLOT\n",
    "fig = plt.figure()\n",
    "ax = fig.add_subplot(111)\n",
    "\n",
    "\n",
    "cmap = mpl.cm.jet\n",
    "norm = mpl.colors.Normalize(vmin=0,vmax=3)\n",
    "\n",
    "ax.scatter(df['RREV_threshold'],df['My_d'],c=df['vz_d'],cmap=cmap)\n",
    "fig.colorbar(mpl.cm.ScalarMappable(norm=norm, cmap=cmap),label='Vz_d')\n",
    "\n",
    "ax.grid()\n",
    "ax.set_ylim(0,10)\n",
    "ax.set_xlim(3,7)\n",
    "\n",
    "ax.hlines(7.77,3,7)\n",
    "ax.text(3.05,-8.0,'Motors Maxed Out')\n",
    "\n",
    "ax.set_xlabel('RREV_thr')\n",
    "ax.set_ylabel('My_d [N*mm]')\n",
    "ax.set_title('Policy: My_d vs RREV_thr')\n",
    "## As Vz increases RREV_trigger decreases to preserve time to contact. It also finds a host of My_d that work and they vary because of the robustness of the legs and the fact that landing success isn't deterministic.\n",
    "plt.show()"
   ]
  },
  {
   "cell_type": "code",
   "execution_count": 50,
   "metadata": {},
   "outputs": [
    {
     "output_type": "display_data",
     "data": {
      "text/plain": "Canvas(toolbar=Toolbar(toolitems=[('Home', 'Reset original view', 'home', 'home'), ('Back', 'Back to previous …",
      "application/vnd.jupyter.widget-view+json": {
       "version_major": 2,
       "version_minor": 0,
       "model_id": "0f36ea91b9194688bea7f30c5ae66143"
      }
     },
     "metadata": {}
    }
   ],
   "source": [
    "## AVG LANDING RATE PLOT\n",
    "fig = plt.figure()\n",
    "ax = fig.add_subplot(111,projection=\"3d\")\n",
    "\n",
    "cmap = mpl.cm.rainbow\n",
    "norm = mpl.colors.Normalize(vmin=0,vmax=1)\n",
    "\n",
    "pcm = ax.scatter(df['RREV_threshold'],df['vx_d'],df['My_d'],c=df['landing_rate'],cmap=cmap)\n",
    "fig.colorbar(mpl.cm.ScalarMappable(norm=norm, cmap=cmap),label='Landing %')\n",
    "\n",
    "ax.set_zlim(0,10)\n",
    "ax.set_xlim(3,7)\n",
    "\n",
    "ax.set_xlabel('RREV_trigger')\n",
    "ax.set_ylabel('vx_d')\n",
    "ax.set_zlabel('My_d')\n",
    "\n",
    "\n",
    "plt.show()"
   ]
  },
  {
   "cell_type": "code",
   "execution_count": 51,
   "metadata": {},
   "outputs": [
    {
     "output_type": "display_data",
     "data": {
      "text/plain": "Canvas(toolbar=Toolbar(toolitems=[('Home', 'Reset original view', 'home', 'home'), ('Back', 'Back to previous …",
      "application/vnd.jupyter.widget-view+json": {
       "version_major": 2,
       "version_minor": 0,
       "model_id": "8c9f248016674431bf2dfa3228826c2f"
      }
     },
     "metadata": {}
    }
   ],
   "source": [
    "## AVG LANDING RATE PLOT\n",
    "fig = plt.figure()\n",
    "ax = fig.add_subplot(111,projection=\"3d\")\n",
    "\n",
    "cmap = mpl.cm.rainbow\n",
    "norm = mpl.colors.Normalize(vmin=0,vmax=1)\n",
    "\n",
    "pcm = ax.scatter(df['RREV_threshold'],df['landing_rate'],df['My_d'],c=df['landing_rate'],cmap=cmap)\n",
    "fig.colorbar(mpl.cm.ScalarMappable(norm=norm, cmap=cmap),label='Landing %')\n",
    "\n",
    "ax.set_zlim(0,10)\n",
    "ax.set_xlim(3,7)\n",
    "\n",
    "ax.set_xlabel('RREV_trigger')\n",
    "ax.set_ylabel('Landing_Rate')\n",
    "ax.set_zlabel('My_d')\n",
    "\n",
    "\n",
    "plt.show()"
   ]
  },
  {
   "cell_type": "code",
   "execution_count": 26,
   "metadata": {},
   "outputs": [
    {
     "output_type": "display_data",
     "data": {
      "text/plain": "Canvas(toolbar=Toolbar(toolitems=[('Home', 'Reset original view', 'home', 'home'), ('Back', 'Back to previous …",
      "application/vnd.jupyter.widget-view+json": {
       "version_major": 2,
       "version_minor": 0,
       "model_id": "02c158b5443b46ada2d1837eb442905e"
      }
     },
     "metadata": {}
    }
   ],
   "source": [
    "## AVG LANDING RATE PLOT\n",
    "fig = plt.figure()\n",
    "ax = fig.add_subplot(111,projection=\"3d\")\n",
    "\n",
    "cmap = mpl.cm.rainbow\n",
    "norm = mpl.colors.Normalize(vmin=0,vmax=1)\n",
    "\n",
    "pcm = ax.scatter(df['RREV_trigger'],df['vz_d'],df['My_d'],c=df['landing_rate'],cmap=cmap)\n",
    "fig.colorbar(mpl.cm.ScalarMappable(norm=norm, cmap=cmap),label='Landing %')\n",
    "\n",
    "ax.set_zlim(0,10)\n",
    "ax.set_xlim(3,7)\n",
    "\n",
    "ax.set_xlabel('RREV_trigger')\n",
    "ax.set_ylabel('Vz_d')\n",
    "ax.set_zlabel('My_d')\n",
    "\n",
    "\n",
    "plt.show()"
   ]
  },
  {
   "cell_type": "code",
   "execution_count": 17,
   "metadata": {},
   "outputs": [
    {
     "output_type": "display_data",
     "data": {
      "text/plain": "Canvas(toolbar=Toolbar(toolitems=[('Home', 'Reset original view', 'home', 'home'), ('Back', 'Back to previous …",
      "application/vnd.jupyter.widget-view+json": {
       "version_major": 2,
       "version_minor": 0,
       "model_id": "f4659a76e3ab4512b79decf6dd73a0ee"
      }
     },
     "metadata": {}
    }
   ],
   "source": [
    "fig = plt.figure()\n",
    "ax = fig.add_subplot(111,projection=\"3d\")\n",
    "\n",
    "cmap = mpl.cm.rainbow\n",
    "norm = mpl.colors.Normalize(vmin=0,vmax=1)\n",
    "\n",
    "pcm = ax.scatter(df['vx_d'],df['My_d'],df['RREV_threshold'],c=df['landing_rate'],cmap=cmap)\n",
    "fig.colorbar(mpl.cm.ScalarMappable(norm=norm, cmap=cmap),label='Landing %')\n",
    "\n",
    "# ax.set_xlim(3,7)\n",
    "# ax.set_ylim(0,-10)\n",
    "# ax.set_zlim(0,-10)\n",
    "\n",
    "ax.set_xlabel('Vz_d')\n",
    "ax.set_ylabel('OF_y_trigger')\n",
    "ax.set_zlabel('RREV_threshold')\n",
    "\n",
    "\n",
    "plt.show()"
   ]
  },
  {
   "cell_type": "code",
   "execution_count": 31,
   "metadata": {},
   "outputs": [
    {
     "output_type": "display_data",
     "data": {
      "text/plain": "Canvas(toolbar=Toolbar(toolitems=[('Home', 'Reset original view', 'home', 'home'), ('Back', 'Back to previous …",
      "application/vnd.jupyter.widget-view+json": {
       "version_major": 2,
       "version_minor": 0,
       "model_id": "ba317401f6e141869b52d94c29971424"
      }
     },
     "metadata": {}
    }
   ],
   "source": [
    "## AVG LANDING RATE PLOT\n",
    "fig = plt.figure()\n",
    "ax = fig.add_subplot(111)\n",
    "\n",
    "cmap = mpl.cm.jet\n",
    "norm = mpl.colors.Normalize(vmin=0,vmax=3)\n",
    "\n",
    "pcm = ax.scatter(df_avg['RREV_threshold','mean'],df_avg['RREV_trigger','mean'],c=df_avg['vz_d'],cmap=cmap)\n",
    "fig.colorbar(mpl.cm.ScalarMappable(norm=norm, cmap=cmap),label='Vz_d')\n",
    "\n",
    "ax.grid()\n",
    "ax.set_xlim(3,8)\n",
    "ax.set_ylim(3,8)\n",
    "\n",
    "ax.set_xlabel('RREV_threshold')\n",
    "ax.set_ylabel('RREV_trigger')\n",
    "\n",
    "\n",
    "\n",
    "plt.show()"
   ]
  },
  {
   "cell_type": "code",
   "execution_count": 53,
   "metadata": {},
   "outputs": [
    {
     "output_type": "display_data",
     "data": {
      "text/plain": "Canvas(toolbar=Toolbar(toolitems=[('Home', 'Reset original view', 'home', 'home'), ('Back', 'Back to previous …",
      "application/vnd.jupyter.widget-view+json": {
       "version_major": 2,
       "version_minor": 0,
       "model_id": "c6480c266b864acd9fabfcb8c3e5f3c2"
      }
     },
     "metadata": {}
    }
   ],
   "source": [
    "fig = plt.figure()\n",
    "ax = fig.add_subplot(111,projection=\"3d\")\n",
    "\n",
    "cmap = mpl.cm.rainbow\n",
    "norm = mpl.colors.Normalize(vmin=0,vmax=1)\n",
    "\n",
    "pcm = ax.scatter(df['G1'],df['OF_y'],df['My_d'],c=df['landing_rate'],cmap=cmap)\n",
    "fig.colorbar(mpl.cm.ScalarMappable(norm=norm, cmap=cmap),label='Landing Rate')\n",
    "\n",
    "# ax.set_xlim(3,7)\n",
    "# ax.set_ylim(0,-10)\n",
    "ax.set_zlim(0,10)\n",
    "\n",
    "ax.set_xlabel('G1')\n",
    "ax.set_ylabel('OF_y')\n",
    "ax.set_zlabel('My_d')\n",
    "\n",
    "\n",
    "plt.show()"
   ]
  },
  {
   "cell_type": "code",
   "execution_count": 37,
   "metadata": {},
   "outputs": [
    {
     "output_type": "display_data",
     "data": {
      "text/plain": "Canvas(toolbar=Toolbar(toolitems=[('Home', 'Reset original view', 'home', 'home'), ('Back', 'Back to previous …",
      "application/vnd.jupyter.widget-view+json": {
       "version_major": 2,
       "version_minor": 0,
       "model_id": "0bd9d60166a545c9803f8f0747c3c74f"
      }
     },
     "metadata": {}
    }
   ],
   "source": [
    "fig = plt.figure()\n",
    "ax = fig.add_subplot(111,projection=\"3d\")\n",
    "\n",
    "cmap = mpl.cm.rainbow\n",
    "norm = mpl.colors.Normalize(vmin=0,vmax=1)\n",
    "\n",
    "pcm = ax.scatter(df['G1'],df['G2'],df['My_d'],c=df['landing_rate'],cmap=cmap)\n",
    "fig.colorbar(mpl.cm.ScalarMappable(norm=norm, cmap=cmap),label='Landing Rate')\n",
    "\n",
    "# ax.set_xlim(3,7)\n",
    "# ax.set_ylim(0,-10)\n",
    "ax.set_zlim(0,10)\n",
    "\n",
    "ax.set_xlabel('G1')\n",
    "ax.set_ylabel('G2')\n",
    "ax.set_zlabel('My_d')\n",
    "\n",
    "\n",
    "plt.show()"
   ]
  },
  {
   "cell_type": "code",
   "execution_count": 35,
   "metadata": {},
   "outputs": [
    {
     "output_type": "display_data",
     "data": {
      "text/plain": "Canvas(toolbar=Toolbar(toolitems=[('Home', 'Reset original view', 'home', 'home'), ('Back', 'Back to previous …",
      "application/vnd.jupyter.widget-view+json": {
       "version_major": 2,
       "version_minor": 0,
       "model_id": "157c38b8d70c4255884f34aa90fdec9a"
      }
     },
     "metadata": {}
    }
   ],
   "source": [
    "fig = plt.figure()\n",
    "ax = fig.add_subplot(111,projection=\"3d\")\n",
    "\n",
    "cmap = mpl.cm.rainbow\n",
    "norm = mpl.colors.Normalize(vmin=0,vmax=1)\n",
    "\n",
    "pcm = ax.scatter(df['G1'],df['vx_d'],df['My_d'],c=df['landing_rate'],cmap=cmap)\n",
    "fig.colorbar(mpl.cm.ScalarMappable(norm=norm, cmap=cmap),label='Landing Rate')\n",
    "\n",
    "# ax.set_xlim(3,7)\n",
    "# ax.set_ylim(0,-10)\n",
    "ax.set_zlim(0,10)\n",
    "\n",
    "ax.set_xlabel('G1')\n",
    "ax.set_ylabel('vx_d')\n",
    "ax.set_zlabel('My_d')\n",
    "\n",
    "\n",
    "plt.show()"
   ]
  },
  {
   "cell_type": "code",
   "execution_count": null,
   "metadata": {},
   "outputs": [],
   "source": []
  }
 ]
}