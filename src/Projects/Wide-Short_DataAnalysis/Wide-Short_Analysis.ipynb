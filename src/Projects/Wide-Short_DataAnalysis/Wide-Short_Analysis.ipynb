{
 "metadata": {
  "language_info": {
   "codemirror_mode": {
    "name": "ipython",
    "version": 3
   },
   "file_extension": ".py",
   "mimetype": "text/x-python",
   "name": "python",
   "nbconvert_exporter": "python",
   "pygments_lexer": "ipython3",
   "version": "3.8.5-final"
  },
  "orig_nbformat": 2,
  "kernelspec": {
   "name": "python38564bit0282941c0ba945238a13db8c20574d9c",
   "display_name": "Python 3.8.5 64-bit",
   "language": "python"
  }
 },
 "nbformat": 4,
 "nbformat_minor": 2,
 "cells": [
  {
   "cell_type": "code",
   "execution_count": 13,
   "metadata": {},
   "outputs": [],
   "source": [
    "## IMPORT MODULES\n",
    "import pandas as pd\n",
    "import numpy as np"
   ]
  },
  {
   "cell_type": "code",
   "execution_count": 14,
   "metadata": {},
   "outputs": [],
   "source": [
    "## IMPORT PLOTTING MODULES\n",
    "import matplotlib.pyplot as plt\n",
    "from mpl_toolkits import mplot3d\n",
    "import matplotlib as mpl\n",
    "from matplotlib import cm\n",
    "%matplotlib widget"
   ]
  },
  {
   "cell_type": "code",
   "execution_count": 17,
   "metadata": {},
   "outputs": [
    {
     "output_type": "execute_result",
     "data": {
      "text/plain": [
       "    vz_d  vx_d trial_num           landing_rate           RREV_trigger  \\\n",
       "                    mean       std         mean       std         mean   \n",
       "0    1.5  0.00  2.500000  1.870829     0.000000  0.000000     6.601667   \n",
       "1    1.5  0.25  2.400000  2.073644     0.016783  0.023114     5.210000   \n",
       "2    1.5  0.50  2.400000  2.073644     0.000000  0.000000     6.550000   \n",
       "3    1.5  0.75  2.500000  1.870829     0.000000  0.000000     6.668333   \n",
       "4    1.5  1.00  2.200000  1.923538     0.112452  0.176010     5.006000   \n",
       "..   ...   ...       ...       ...          ...       ...          ...   \n",
       "117  4.0  1.75  2.600000  2.073644     0.672464  0.103555     3.982000   \n",
       "118  4.0  2.00  2.333333  2.516611     0.675151  0.139187     4.530000   \n",
       "119  4.0  2.25  2.000000  1.581139     0.583448  0.123526     4.094000   \n",
       "120  4.0  2.50  3.333333  1.527525     0.855172  0.138318     4.253333   \n",
       "121  4.0  2.75  3.666667  1.527525     0.729502  0.148059     4.210000   \n",
       "\n",
       "                     G1            ...  RREV_sig              G1_sig  \\\n",
       "          std      mean       std  ...      mean       std      mean   \n",
       "0    5.929841  6.251667  3.270984  ...  0.265000  0.486487  0.161667   \n",
       "1    3.002541  4.958000  2.389983  ...  0.032000  0.021679  0.100000   \n",
       "2    3.490781  6.946000  5.382381  ...  0.244000  0.246130  0.196000   \n",
       "3    5.075295  7.095000  2.857683  ...  0.158333  0.344175  0.635000   \n",
       "4    0.506488  7.506000  2.322537  ...  0.150000  0.226495  0.374000   \n",
       "..        ...       ...       ...  ...       ...       ...       ...   \n",
       "117  0.310757  6.418000  2.666837  ...  0.026000  0.025100  0.158000   \n",
       "118  0.679779  8.966667  2.413490  ...  0.026667  0.046188  0.063333   \n",
       "119  0.147919  5.198000  2.603665  ...  0.044000  0.048785  0.236000   \n",
       "120  0.335460  9.290000  2.240246  ...  0.026667  0.025166  0.046667   \n",
       "121  0.321870  5.636667  1.836146  ...  0.010000  0.017321  0.033333   \n",
       "\n",
       "                 G2_sig                My_d            impact_eul             \n",
       "          std      mean       std      mean       std        mean        std  \n",
       "0    0.280529  0.186667  0.336075       NaN       NaN         NaN        NaN  \n",
       "1    0.168523  0.194000  0.116962 -3.608500  0.781353  -64.996797   7.792419  \n",
       "2    0.356202  0.116000  0.152742       NaN       NaN         NaN        NaN  \n",
       "3    1.133997  0.101667  0.117033       NaN       NaN         NaN        NaN  \n",
       "4    0.417947  0.100000  0.125897 -3.836689  1.732920 -106.368294  23.183591  \n",
       "..        ...       ...       ...       ...       ...         ...        ...  \n",
       "117  0.049699  0.194000  0.339823 -2.453699  1.461116 -130.816151  14.258673  \n",
       "118  0.068069  0.016667  0.011547 -4.049552  2.042013 -130.034360  10.626587  \n",
       "119  0.358092  0.074000  0.074364 -1.656082  0.910630 -106.961044  26.088351  \n",
       "120  0.047258  0.056667  0.056862 -3.453601  1.409934 -137.546452   6.152924  \n",
       "121  0.049329  0.193333  0.274651 -1.957654  0.894234 -105.372723  10.612725  \n",
       "\n",
       "[122 rows x 22 columns]"
      ],
      "text/html": "<div>\n<style scoped>\n    .dataframe tbody tr th:only-of-type {\n        vertical-align: middle;\n    }\n\n    .dataframe tbody tr th {\n        vertical-align: top;\n    }\n\n    .dataframe thead tr th {\n        text-align: left;\n    }\n</style>\n<table border=\"1\" class=\"dataframe\">\n  <thead>\n    <tr>\n      <th></th>\n      <th>vz_d</th>\n      <th>vx_d</th>\n      <th colspan=\"2\" halign=\"left\">trial_num</th>\n      <th colspan=\"2\" halign=\"left\">landing_rate</th>\n      <th colspan=\"2\" halign=\"left\">RREV_trigger</th>\n      <th colspan=\"2\" halign=\"left\">G1</th>\n      <th>...</th>\n      <th colspan=\"2\" halign=\"left\">RREV_sig</th>\n      <th colspan=\"2\" halign=\"left\">G1_sig</th>\n      <th colspan=\"2\" halign=\"left\">G2_sig</th>\n      <th colspan=\"2\" halign=\"left\">My_d</th>\n      <th colspan=\"2\" halign=\"left\">impact_eul</th>\n    </tr>\n    <tr>\n      <th></th>\n      <th></th>\n      <th></th>\n      <th>mean</th>\n      <th>std</th>\n      <th>mean</th>\n      <th>std</th>\n      <th>mean</th>\n      <th>std</th>\n      <th>mean</th>\n      <th>std</th>\n      <th>...</th>\n      <th>mean</th>\n      <th>std</th>\n      <th>mean</th>\n      <th>std</th>\n      <th>mean</th>\n      <th>std</th>\n      <th>mean</th>\n      <th>std</th>\n      <th>mean</th>\n      <th>std</th>\n    </tr>\n  </thead>\n  <tbody>\n    <tr>\n      <th>0</th>\n      <td>1.5</td>\n      <td>0.00</td>\n      <td>2.500000</td>\n      <td>1.870829</td>\n      <td>0.000000</td>\n      <td>0.000000</td>\n      <td>6.601667</td>\n      <td>5.929841</td>\n      <td>6.251667</td>\n      <td>3.270984</td>\n      <td>...</td>\n      <td>0.265000</td>\n      <td>0.486487</td>\n      <td>0.161667</td>\n      <td>0.280529</td>\n      <td>0.186667</td>\n      <td>0.336075</td>\n      <td>NaN</td>\n      <td>NaN</td>\n      <td>NaN</td>\n      <td>NaN</td>\n    </tr>\n    <tr>\n      <th>1</th>\n      <td>1.5</td>\n      <td>0.25</td>\n      <td>2.400000</td>\n      <td>2.073644</td>\n      <td>0.016783</td>\n      <td>0.023114</td>\n      <td>5.210000</td>\n      <td>3.002541</td>\n      <td>4.958000</td>\n      <td>2.389983</td>\n      <td>...</td>\n      <td>0.032000</td>\n      <td>0.021679</td>\n      <td>0.100000</td>\n      <td>0.168523</td>\n      <td>0.194000</td>\n      <td>0.116962</td>\n      <td>-3.608500</td>\n      <td>0.781353</td>\n      <td>-64.996797</td>\n      <td>7.792419</td>\n    </tr>\n    <tr>\n      <th>2</th>\n      <td>1.5</td>\n      <td>0.50</td>\n      <td>2.400000</td>\n      <td>2.073644</td>\n      <td>0.000000</td>\n      <td>0.000000</td>\n      <td>6.550000</td>\n      <td>3.490781</td>\n      <td>6.946000</td>\n      <td>5.382381</td>\n      <td>...</td>\n      <td>0.244000</td>\n      <td>0.246130</td>\n      <td>0.196000</td>\n      <td>0.356202</td>\n      <td>0.116000</td>\n      <td>0.152742</td>\n      <td>NaN</td>\n      <td>NaN</td>\n      <td>NaN</td>\n      <td>NaN</td>\n    </tr>\n    <tr>\n      <th>3</th>\n      <td>1.5</td>\n      <td>0.75</td>\n      <td>2.500000</td>\n      <td>1.870829</td>\n      <td>0.000000</td>\n      <td>0.000000</td>\n      <td>6.668333</td>\n      <td>5.075295</td>\n      <td>7.095000</td>\n      <td>2.857683</td>\n      <td>...</td>\n      <td>0.158333</td>\n      <td>0.344175</td>\n      <td>0.635000</td>\n      <td>1.133997</td>\n      <td>0.101667</td>\n      <td>0.117033</td>\n      <td>NaN</td>\n      <td>NaN</td>\n      <td>NaN</td>\n      <td>NaN</td>\n    </tr>\n    <tr>\n      <th>4</th>\n      <td>1.5</td>\n      <td>1.00</td>\n      <td>2.200000</td>\n      <td>1.923538</td>\n      <td>0.112452</td>\n      <td>0.176010</td>\n      <td>5.006000</td>\n      <td>0.506488</td>\n      <td>7.506000</td>\n      <td>2.322537</td>\n      <td>...</td>\n      <td>0.150000</td>\n      <td>0.226495</td>\n      <td>0.374000</td>\n      <td>0.417947</td>\n      <td>0.100000</td>\n      <td>0.125897</td>\n      <td>-3.836689</td>\n      <td>1.732920</td>\n      <td>-106.368294</td>\n      <td>23.183591</td>\n    </tr>\n    <tr>\n      <th>...</th>\n      <td>...</td>\n      <td>...</td>\n      <td>...</td>\n      <td>...</td>\n      <td>...</td>\n      <td>...</td>\n      <td>...</td>\n      <td>...</td>\n      <td>...</td>\n      <td>...</td>\n      <td>...</td>\n      <td>...</td>\n      <td>...</td>\n      <td>...</td>\n      <td>...</td>\n      <td>...</td>\n      <td>...</td>\n      <td>...</td>\n      <td>...</td>\n      <td>...</td>\n      <td>...</td>\n    </tr>\n    <tr>\n      <th>117</th>\n      <td>4.0</td>\n      <td>1.75</td>\n      <td>2.600000</td>\n      <td>2.073644</td>\n      <td>0.672464</td>\n      <td>0.103555</td>\n      <td>3.982000</td>\n      <td>0.310757</td>\n      <td>6.418000</td>\n      <td>2.666837</td>\n      <td>...</td>\n      <td>0.026000</td>\n      <td>0.025100</td>\n      <td>0.158000</td>\n      <td>0.049699</td>\n      <td>0.194000</td>\n      <td>0.339823</td>\n      <td>-2.453699</td>\n      <td>1.461116</td>\n      <td>-130.816151</td>\n      <td>14.258673</td>\n    </tr>\n    <tr>\n      <th>118</th>\n      <td>4.0</td>\n      <td>2.00</td>\n      <td>2.333333</td>\n      <td>2.516611</td>\n      <td>0.675151</td>\n      <td>0.139187</td>\n      <td>4.530000</td>\n      <td>0.679779</td>\n      <td>8.966667</td>\n      <td>2.413490</td>\n      <td>...</td>\n      <td>0.026667</td>\n      <td>0.046188</td>\n      <td>0.063333</td>\n      <td>0.068069</td>\n      <td>0.016667</td>\n      <td>0.011547</td>\n      <td>-4.049552</td>\n      <td>2.042013</td>\n      <td>-130.034360</td>\n      <td>10.626587</td>\n    </tr>\n    <tr>\n      <th>119</th>\n      <td>4.0</td>\n      <td>2.25</td>\n      <td>2.000000</td>\n      <td>1.581139</td>\n      <td>0.583448</td>\n      <td>0.123526</td>\n      <td>4.094000</td>\n      <td>0.147919</td>\n      <td>5.198000</td>\n      <td>2.603665</td>\n      <td>...</td>\n      <td>0.044000</td>\n      <td>0.048785</td>\n      <td>0.236000</td>\n      <td>0.358092</td>\n      <td>0.074000</td>\n      <td>0.074364</td>\n      <td>-1.656082</td>\n      <td>0.910630</td>\n      <td>-106.961044</td>\n      <td>26.088351</td>\n    </tr>\n    <tr>\n      <th>120</th>\n      <td>4.0</td>\n      <td>2.50</td>\n      <td>3.333333</td>\n      <td>1.527525</td>\n      <td>0.855172</td>\n      <td>0.138318</td>\n      <td>4.253333</td>\n      <td>0.335460</td>\n      <td>9.290000</td>\n      <td>2.240246</td>\n      <td>...</td>\n      <td>0.026667</td>\n      <td>0.025166</td>\n      <td>0.046667</td>\n      <td>0.047258</td>\n      <td>0.056667</td>\n      <td>0.056862</td>\n      <td>-3.453601</td>\n      <td>1.409934</td>\n      <td>-137.546452</td>\n      <td>6.152924</td>\n    </tr>\n    <tr>\n      <th>121</th>\n      <td>4.0</td>\n      <td>2.75</td>\n      <td>3.666667</td>\n      <td>1.527525</td>\n      <td>0.729502</td>\n      <td>0.148059</td>\n      <td>4.210000</td>\n      <td>0.321870</td>\n      <td>5.636667</td>\n      <td>1.836146</td>\n      <td>...</td>\n      <td>0.010000</td>\n      <td>0.017321</td>\n      <td>0.033333</td>\n      <td>0.049329</td>\n      <td>0.193333</td>\n      <td>0.274651</td>\n      <td>-1.957654</td>\n      <td>0.894234</td>\n      <td>-105.372723</td>\n      <td>10.612725</td>\n    </tr>\n  </tbody>\n</table>\n<p>122 rows × 22 columns</p>\n</div>"
     },
     "metadata": {},
     "execution_count": 17
    }
   ],
   "source": [
    "df = pd.read_csv(\"Wide-Short_Summary.csv\")\n",
    "df_avg = df.groupby(['vz_d','vx_d']).agg([np.mean,np.std]).reset_index()\n",
    "df_avg"
   ]
  },
  {
   "cell_type": "code",
   "execution_count": 16,
   "metadata": {},
   "outputs": [
    {
     "output_type": "display_data",
     "data": {
      "text/plain": "Canvas(toolbar=Toolbar(toolitems=[('Home', 'Reset original view', 'home', 'home'), ('Back', 'Back to previous …",
      "application/vnd.jupyter.widget-view+json": {
       "version_major": 2,
       "version_minor": 0,
       "model_id": "8924a0561bfb49048619aa4aa015014f"
      }
     },
     "metadata": {}
    }
   ],
   "source": [
    "\n",
    "## AVG LANDING RATE PLOT\n",
    "fig = plt.figure()\n",
    "ax = fig.add_subplot(111,projection=\"3d\")\n",
    "ax.scatter(df['vx_d'],df['vz_d'],df['landing_rate'])\n",
    "\n",
    "ax.set_xlabel('vx_d')\n",
    "ax.set_ylabel('vz_d')\n",
    "ax.set_zlabel('landing rate')\n",
    "\n",
    "plt.show()"
   ]
  },
  {
   "cell_type": "code",
   "execution_count": 26,
   "metadata": {},
   "outputs": [
    {
     "output_type": "display_data",
     "data": {
      "text/plain": "Canvas(toolbar=Toolbar(toolitems=[('Home', 'Reset original view', 'home', 'home'), ('Back', 'Back to previous …",
      "application/vnd.jupyter.widget-view+json": {
       "version_major": 2,
       "version_minor": 0,
       "model_id": "eaef244a36304eafa33ee9485eabcff9"
      }
     },
     "metadata": {}
    }
   ],
   "source": [
    "\n",
    "## AVG LANDING RATE PLOT\n",
    "fig = plt.figure()\n",
    "ax = fig.add_subplot(111,projection=\"3d\")\n",
    "cmap = mpl.cm.jet\n",
    "norm = mpl.colors.Normalize(vmin=0,vmax=1)\n",
    "pcm = ax.plot_trisurf(df_avg['vx_d'],df_avg['vz_d'],df_avg['landing_rate','mean'],cmap = cmap)\n",
    "fig.colorbar(mpl.cm.ScalarMappable(norm=norm, cmap=cmap))\n",
    "\n",
    "ax.set_zlim(0,1)\n",
    "\n",
    "ax.set_xlabel('vx_d')\n",
    "ax.set_ylabel('vz_d')\n",
    "ax.set_zlabel('Landing Rate')\n",
    "\n",
    "\n",
    "plt.show()"
   ]
  },
  {
   "cell_type": "code",
   "execution_count": 45,
   "metadata": {},
   "outputs": [
    {
     "output_type": "display_data",
     "data": {
      "text/plain": "Canvas(toolbar=Toolbar(toolitems=[('Home', 'Reset original view', 'home', 'home'), ('Back', 'Back to previous …",
      "application/vnd.jupyter.widget-view+json": {
       "version_major": 2,
       "version_minor": 0,
       "model_id": "41cd5a6a80ad4931a132e2c3fea177ff"
      }
     },
     "metadata": {}
    }
   ],
   "source": [
    "\n",
    "## AVG LANDING RATE PLOT\n",
    "fig = plt.figure()\n",
    "ax = fig.add_subplot(111,projection=\"3d\")\n",
    "\n",
    "pcm = ax.plot_trisurf(df_avg['vx_d'],df_avg['vz_d'],-df_avg['impact_eul','mean'])\n",
    "\n",
    "ax.set_xlabel('vx_d')\n",
    "ax.set_ylabel('vz_d')\n",
    "ax.set_zlabel('Impact Angle')\n",
    "\n",
    "\n",
    "plt.show()"
   ]
  },
  {
   "cell_type": "code",
   "execution_count": 47,
   "metadata": {},
   "outputs": [
    {
     "output_type": "display_data",
     "data": {
      "text/plain": "Canvas(toolbar=Toolbar(toolitems=[('Home', 'Reset original view', 'home', 'home'), ('Back', 'Back to previous …",
      "application/vnd.jupyter.widget-view+json": {
       "version_major": 2,
       "version_minor": 0,
       "model_id": "fc5108b9378545538e1ebfb98e7d1b2b"
      }
     },
     "metadata": {}
    }
   ],
   "source": [
    "\n",
    "## AVG LANDING RATE PLOT\n",
    "fig = plt.figure()\n",
    "ax = fig.add_subplot(111,projection=\"3d\")\n",
    "\n",
    "pcm = ax.plot_trisurf(df_avg['vx_d'],df_avg['vz_d'],df_avg['RREV_trigger','mean'])\n",
    "\n",
    "ax.set_xlabel('vx_d')\n",
    "ax.set_ylabel('vz_d')\n",
    "ax.set_zlabel('RREV_trigger')\n",
    "\n",
    "\n",
    "plt.show()"
   ]
  },
  {
   "cell_type": "code",
   "execution_count": 58,
   "metadata": {},
   "outputs": [
    {
     "output_type": "display_data",
     "data": {
      "text/plain": "Canvas(toolbar=Toolbar(toolitems=[('Home', 'Reset original view', 'home', 'home'), ('Back', 'Back to previous …",
      "application/vnd.jupyter.widget-view+json": {
       "version_major": 2,
       "version_minor": 0,
       "model_id": "f9ba59409f3a4130b508e96061630030"
      }
     },
     "metadata": {}
    }
   ],
   "source": [
    "\n",
    "## AVG LANDING RATE PLOT\n",
    "fig = plt.figure()\n",
    "ax = fig.add_subplot(111)\n",
    "\n",
    "\n",
    "cmap = mpl.cm.Greys\n",
    "norm = mpl.colors.Normalize(vmin=0,vmax=1)\n",
    "\n",
    "ax.scatter(df_avg['RREV_trigger','mean'],df_avg['My_d','mean'],c=df_avg['landing_rate','mean'],cmap=cmap)\n",
    "fig.colorbar(mpl.cm.ScalarMappable(norm=norm, cmap=cmap))\n",
    "\n",
    "ax.grid()\n",
    "ax.set_xlabel('RREV_trigger')\n",
    "ax.set_ylabel('My_d')\n",
    "\n",
    "\n",
    "plt.show()"
   ]
  },
  {
   "cell_type": "code",
   "execution_count": null,
   "metadata": {},
   "outputs": [],
   "source": []
  }
 ]
}