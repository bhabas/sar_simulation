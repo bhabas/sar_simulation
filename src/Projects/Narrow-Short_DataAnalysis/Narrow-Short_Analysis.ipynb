{
 "metadata": {
  "language_info": {
   "codemirror_mode": {
    "name": "ipython",
    "version": 3
   },
   "file_extension": ".py",
   "mimetype": "text/x-python",
   "name": "python",
   "nbconvert_exporter": "python",
   "pygments_lexer": "ipython3",
   "version": "3.8.5-final"
  },
  "orig_nbformat": 2,
  "kernelspec": {
   "name": "python38564bit0282941c0ba945238a13db8c20574d9c",
   "display_name": "Python 3.8.5 64-bit",
   "language": "python"
  }
 },
 "nbformat": 4,
 "nbformat_minor": 2,
 "cells": [
  {
   "cell_type": "code",
   "execution_count": 1,
   "metadata": {},
   "outputs": [],
   "source": [
    "## IMPORT MODULES\n",
    "import pandas as pd\n",
    "import numpy as np"
   ]
  },
  {
   "cell_type": "code",
   "execution_count": 2,
   "metadata": {},
   "outputs": [],
   "source": [
    "## IMPORT PLOTTING MODULES\n",
    "import matplotlib.pyplot as plt\n",
    "from mpl_toolkits import mplot3d\n",
    "import matplotlib as mpl\n",
    "from matplotlib import cm\n",
    "%matplotlib widget"
   ]
  },
  {
   "cell_type": "code",
   "execution_count": 3,
   "metadata": {},
   "outputs": [],
   "source": [
    "## FULL DATAFRAME\n",
    "df_raw = pd.read_csv(\"Narrow-Short_Summary.csv\")\n",
    "df_raw = df_raw.drop(df_raw[\n",
    "    (df_raw['landing_rate']<=0.1) & \n",
    "    (df_raw['vz_d']>=2.75)\n",
    "    ].index)\n",
    "\n",
    "df_raw = df_raw.drop(df_raw[\n",
    "    (df_raw['landing_rate']<=0.1) & \n",
    "    (df_raw['vx_d']>=1.0)\n",
    "    ].index)\n",
    "\n",
    "\n",
    "\n",
    "df_raw_avg = df_raw.groupby(['vz_d','vx_d']).agg([np.mean,np.std]).reset_index()\n",
    "\n",
    "df = df_raw\n",
    "df['My_d'] = df['My_d'].apply(lambda x: np.abs(x))\n",
    "df = df.drop(df[df['My_d']>=7.7].index)\n",
    "\n",
    "df = df.dropna()\n",
    "\n",
    "## AVERAGED DATAFRAME\n",
    "df_avg = df.groupby(['vz_d','vx_d']).agg([np.mean,np.std]).reset_index()"
   ]
  },
  {
   "cell_type": "code",
   "execution_count": 4,
   "metadata": {},
   "outputs": [
    {
     "output_type": "execute_result",
     "data": {
      "text/plain": [
       "     vz_d  vx_d  trial_num  landing_rate  RREV_threshold    G1     G2  \\\n",
       "3     1.5  0.00          3      0.357143            5.17  3.84   5.44   \n",
       "4     1.5  0.00          4      0.090909            4.55  5.68   3.69   \n",
       "6     1.5  0.25          0      0.095238            4.13  6.97   6.18   \n",
       "7     1.5  0.25          1      0.291667            4.63  7.34   8.18   \n",
       "8     1.5  0.25          2      0.086957            4.76  5.59  10.58   \n",
       "..    ...   ...        ...           ...             ...   ...    ...   \n",
       "748   4.0  2.75          0      0.625000            3.62  1.25   1.94   \n",
       "749   4.0  2.75          1      0.947368            4.54  5.36   1.36   \n",
       "750   4.0  2.75          2      0.913043            4.90  7.19   5.39   \n",
       "751   4.0  2.75          3      1.000000            3.94  2.82   1.66   \n",
       "753   4.0  2.75          5      0.913043            4.59  4.77   3.13   \n",
       "\n",
       "     RREV_sig  G1_sig  G2_sig  RREV_trigger      OF_y      My_d  impact_eul  \\\n",
       "3        0.05    0.00    0.04      5.654800 -0.000200  3.840000  -91.959898   \n",
       "4        0.01    0.00    0.00      5.501500  0.000000  5.678000  -99.044258   \n",
       "6        0.02    0.14    0.00      4.780500 -0.696000  7.131000 -168.908676   \n",
       "7        0.00    0.38    0.06      5.262857 -0.766571  7.287857 -127.673034   \n",
       "8        0.05    0.09    0.06      5.597000 -0.815000  5.608000  -89.582545   \n",
       "..        ...     ...     ...           ...       ...       ...         ...   \n",
       "748      0.00    0.10    0.12      3.980200 -2.587600  1.254200 -129.779948   \n",
       "749      0.00    0.09    0.00      5.196222 -3.383389  5.372222 -127.202907   \n",
       "750      0.00    0.01    0.00      5.569857 -3.621571  7.194238 -134.567003   \n",
       "751      0.02    0.03    0.05      4.410421 -2.874421  2.841789 -138.442932   \n",
       "753      0.00    0.18    0.08      4.954476 -3.223857  4.865190 -128.068151   \n",
       "\n",
       "     impact_tdelta alpha_mu alpha_sigma            mu_ini   sigma_ini  \n",
       "3         0.214600  [0. 0.]     [0. 0.]  [6.18 5.69 4.51]  [2. 2. 2.]  \n",
       "4         0.196500  [0. 0.]     [0. 0.]  [4.64 4.36 2.1 ]  [2. 2. 2.]  \n",
       "6         0.212500  [0. 0.]     [0. 0.]  [2.55 6.12 5.86]  [2. 2. 2.]  \n",
       "7         0.181429  [0. 0.]     [0. 0.]  [4.54 4.87 1.3 ]  [2. 2. 2.]  \n",
       "8         0.169000  [0. 0.]     [0. 0.]  [3.59 4.16 1.33]  [2. 2. 2.]  \n",
       "..             ...      ...         ...               ...         ...  \n",
       "748       0.388700  [0. 0.]     [0. 0.]  [3.27 4.41 2.18]  [2. 2. 2.]  \n",
       "749       0.214389  [0. 0.]     [0. 0.]  [5.23 6.58 2.61]  [2. 2. 2.]  \n",
       "750       0.191381  [0. 0.]     [0. 0.]  [3.89 6.81 5.79]  [2. 2. 2.]  \n",
       "751       0.278474  [0. 0.]     [0. 0.]  [3.87 3.67 1.64]  [2. 2. 2.]  \n",
       "753       0.229476  [0. 0.]     [0. 0.]  [6.03 5.54 1.01]  [2. 2. 2.]  \n",
       "\n",
       "[483 rows x 19 columns]"
      ],
      "text/html": "<div>\n<style scoped>\n    .dataframe tbody tr th:only-of-type {\n        vertical-align: middle;\n    }\n\n    .dataframe tbody tr th {\n        vertical-align: top;\n    }\n\n    .dataframe thead th {\n        text-align: right;\n    }\n</style>\n<table border=\"1\" class=\"dataframe\">\n  <thead>\n    <tr style=\"text-align: right;\">\n      <th></th>\n      <th>vz_d</th>\n      <th>vx_d</th>\n      <th>trial_num</th>\n      <th>landing_rate</th>\n      <th>RREV_threshold</th>\n      <th>G1</th>\n      <th>G2</th>\n      <th>RREV_sig</th>\n      <th>G1_sig</th>\n      <th>G2_sig</th>\n      <th>RREV_trigger</th>\n      <th>OF_y</th>\n      <th>My_d</th>\n      <th>impact_eul</th>\n      <th>impact_tdelta</th>\n      <th>alpha_mu</th>\n      <th>alpha_sigma</th>\n      <th>mu_ini</th>\n      <th>sigma_ini</th>\n    </tr>\n  </thead>\n  <tbody>\n    <tr>\n      <th>3</th>\n      <td>1.5</td>\n      <td>0.00</td>\n      <td>3</td>\n      <td>0.357143</td>\n      <td>5.17</td>\n      <td>3.84</td>\n      <td>5.44</td>\n      <td>0.05</td>\n      <td>0.00</td>\n      <td>0.04</td>\n      <td>5.654800</td>\n      <td>-0.000200</td>\n      <td>3.840000</td>\n      <td>-91.959898</td>\n      <td>0.214600</td>\n      <td>[0. 0.]</td>\n      <td>[0. 0.]</td>\n      <td>[6.18 5.69 4.51]</td>\n      <td>[2. 2. 2.]</td>\n    </tr>\n    <tr>\n      <th>4</th>\n      <td>1.5</td>\n      <td>0.00</td>\n      <td>4</td>\n      <td>0.090909</td>\n      <td>4.55</td>\n      <td>5.68</td>\n      <td>3.69</td>\n      <td>0.01</td>\n      <td>0.00</td>\n      <td>0.00</td>\n      <td>5.501500</td>\n      <td>0.000000</td>\n      <td>5.678000</td>\n      <td>-99.044258</td>\n      <td>0.196500</td>\n      <td>[0. 0.]</td>\n      <td>[0. 0.]</td>\n      <td>[4.64 4.36 2.1 ]</td>\n      <td>[2. 2. 2.]</td>\n    </tr>\n    <tr>\n      <th>6</th>\n      <td>1.5</td>\n      <td>0.25</td>\n      <td>0</td>\n      <td>0.095238</td>\n      <td>4.13</td>\n      <td>6.97</td>\n      <td>6.18</td>\n      <td>0.02</td>\n      <td>0.14</td>\n      <td>0.00</td>\n      <td>4.780500</td>\n      <td>-0.696000</td>\n      <td>7.131000</td>\n      <td>-168.908676</td>\n      <td>0.212500</td>\n      <td>[0. 0.]</td>\n      <td>[0. 0.]</td>\n      <td>[2.55 6.12 5.86]</td>\n      <td>[2. 2. 2.]</td>\n    </tr>\n    <tr>\n      <th>7</th>\n      <td>1.5</td>\n      <td>0.25</td>\n      <td>1</td>\n      <td>0.291667</td>\n      <td>4.63</td>\n      <td>7.34</td>\n      <td>8.18</td>\n      <td>0.00</td>\n      <td>0.38</td>\n      <td>0.06</td>\n      <td>5.262857</td>\n      <td>-0.766571</td>\n      <td>7.287857</td>\n      <td>-127.673034</td>\n      <td>0.181429</td>\n      <td>[0. 0.]</td>\n      <td>[0. 0.]</td>\n      <td>[4.54 4.87 1.3 ]</td>\n      <td>[2. 2. 2.]</td>\n    </tr>\n    <tr>\n      <th>8</th>\n      <td>1.5</td>\n      <td>0.25</td>\n      <td>2</td>\n      <td>0.086957</td>\n      <td>4.76</td>\n      <td>5.59</td>\n      <td>10.58</td>\n      <td>0.05</td>\n      <td>0.09</td>\n      <td>0.06</td>\n      <td>5.597000</td>\n      <td>-0.815000</td>\n      <td>5.608000</td>\n      <td>-89.582545</td>\n      <td>0.169000</td>\n      <td>[0. 0.]</td>\n      <td>[0. 0.]</td>\n      <td>[3.59 4.16 1.33]</td>\n      <td>[2. 2. 2.]</td>\n    </tr>\n    <tr>\n      <th>...</th>\n      <td>...</td>\n      <td>...</td>\n      <td>...</td>\n      <td>...</td>\n      <td>...</td>\n      <td>...</td>\n      <td>...</td>\n      <td>...</td>\n      <td>...</td>\n      <td>...</td>\n      <td>...</td>\n      <td>...</td>\n      <td>...</td>\n      <td>...</td>\n      <td>...</td>\n      <td>...</td>\n      <td>...</td>\n      <td>...</td>\n      <td>...</td>\n    </tr>\n    <tr>\n      <th>748</th>\n      <td>4.0</td>\n      <td>2.75</td>\n      <td>0</td>\n      <td>0.625000</td>\n      <td>3.62</td>\n      <td>1.25</td>\n      <td>1.94</td>\n      <td>0.00</td>\n      <td>0.10</td>\n      <td>0.12</td>\n      <td>3.980200</td>\n      <td>-2.587600</td>\n      <td>1.254200</td>\n      <td>-129.779948</td>\n      <td>0.388700</td>\n      <td>[0. 0.]</td>\n      <td>[0. 0.]</td>\n      <td>[3.27 4.41 2.18]</td>\n      <td>[2. 2. 2.]</td>\n    </tr>\n    <tr>\n      <th>749</th>\n      <td>4.0</td>\n      <td>2.75</td>\n      <td>1</td>\n      <td>0.947368</td>\n      <td>4.54</td>\n      <td>5.36</td>\n      <td>1.36</td>\n      <td>0.00</td>\n      <td>0.09</td>\n      <td>0.00</td>\n      <td>5.196222</td>\n      <td>-3.383389</td>\n      <td>5.372222</td>\n      <td>-127.202907</td>\n      <td>0.214389</td>\n      <td>[0. 0.]</td>\n      <td>[0. 0.]</td>\n      <td>[5.23 6.58 2.61]</td>\n      <td>[2. 2. 2.]</td>\n    </tr>\n    <tr>\n      <th>750</th>\n      <td>4.0</td>\n      <td>2.75</td>\n      <td>2</td>\n      <td>0.913043</td>\n      <td>4.90</td>\n      <td>7.19</td>\n      <td>5.39</td>\n      <td>0.00</td>\n      <td>0.01</td>\n      <td>0.00</td>\n      <td>5.569857</td>\n      <td>-3.621571</td>\n      <td>7.194238</td>\n      <td>-134.567003</td>\n      <td>0.191381</td>\n      <td>[0. 0.]</td>\n      <td>[0. 0.]</td>\n      <td>[3.89 6.81 5.79]</td>\n      <td>[2. 2. 2.]</td>\n    </tr>\n    <tr>\n      <th>751</th>\n      <td>4.0</td>\n      <td>2.75</td>\n      <td>3</td>\n      <td>1.000000</td>\n      <td>3.94</td>\n      <td>2.82</td>\n      <td>1.66</td>\n      <td>0.02</td>\n      <td>0.03</td>\n      <td>0.05</td>\n      <td>4.410421</td>\n      <td>-2.874421</td>\n      <td>2.841789</td>\n      <td>-138.442932</td>\n      <td>0.278474</td>\n      <td>[0. 0.]</td>\n      <td>[0. 0.]</td>\n      <td>[3.87 3.67 1.64]</td>\n      <td>[2. 2. 2.]</td>\n    </tr>\n    <tr>\n      <th>753</th>\n      <td>4.0</td>\n      <td>2.75</td>\n      <td>5</td>\n      <td>0.913043</td>\n      <td>4.59</td>\n      <td>4.77</td>\n      <td>3.13</td>\n      <td>0.00</td>\n      <td>0.18</td>\n      <td>0.08</td>\n      <td>4.954476</td>\n      <td>-3.223857</td>\n      <td>4.865190</td>\n      <td>-128.068151</td>\n      <td>0.229476</td>\n      <td>[0. 0.]</td>\n      <td>[0. 0.]</td>\n      <td>[6.03 5.54 1.01]</td>\n      <td>[2. 2. 2.]</td>\n    </tr>\n  </tbody>\n</table>\n<p>483 rows × 19 columns</p>\n</div>"
     },
     "metadata": {},
     "execution_count": 4
    }
   ],
   "source": [
    "df"
   ]
  },
  {
   "cell_type": "code",
   "execution_count": 5,
   "metadata": {},
   "outputs": [
    {
     "output_type": "display_data",
     "data": {
      "text/plain": "Canvas(toolbar=Toolbar(toolitems=[('Home', 'Reset original view', 'home', 'home'), ('Back', 'Back to previous …",
      "application/vnd.jupyter.widget-view+json": {
       "version_major": 2,
       "version_minor": 0,
       "model_id": "b7e56535ca884439bcc1c08450a5f431"
      }
     },
     "metadata": {}
    }
   ],
   "source": [
    "\n",
    "## LANDING RATE DATA\n",
    "fig = plt.figure()\n",
    "ax = fig.add_subplot(111,projection=\"3d\")\n",
    "ax.scatter(df_raw['vx_d'],df_raw['vz_d'],df_raw['landing_rate'])\n",
    "\n",
    "ax.set_xlabel('vx_d')\n",
    "ax.set_ylabel('vz_d')\n",
    "ax.set_zlabel('Landing Rate')\n",
    "ax.set_title('Landing Rate (Raw Data)')\n",
    "\n",
    "plt.show()"
   ]
  },
  {
   "cell_type": "code",
   "execution_count": 6,
   "metadata": {},
   "outputs": [
    {
     "output_type": "display_data",
     "data": {
      "text/plain": "Canvas(toolbar=Toolbar(toolitems=[('Home', 'Reset original view', 'home', 'home'), ('Back', 'Back to previous …",
      "application/vnd.jupyter.widget-view+json": {
       "version_major": 2,
       "version_minor": 0,
       "model_id": "71f9010a1679413a82b50ad9cfd8b13e"
      }
     },
     "metadata": {}
    }
   ],
   "source": [
    "\n",
    "## AVG LANDING RATE SURFACE\n",
    "fig = plt.figure()\n",
    "ax = fig.add_subplot(111,projection=\"3d\")\n",
    "cmap = mpl.cm.jet\n",
    "norm = mpl.colors.Normalize(vmin=0,vmax=1)\n",
    "pcm = ax.plot_trisurf(df_raw_avg['vx_d'],df_raw_avg['vz_d'],df_raw_avg['landing_rate','mean'],cmap = cmap)\n",
    "fig.colorbar(mpl.cm.ScalarMappable(norm=norm, cmap=cmap),label=\"Landing %\")\n",
    "df\n",
    "ax.set_zlim(0,1)\n",
    "\n",
    "ax.set_xlabel('vx_d')\n",
    "ax.set_ylabel('vz_d')\n",
    "ax.set_zlabel('Landing Rate')\n",
    "ax.set_title('Avg Landing Rate for Final 3 Episodes')\n",
    "\n",
    "\n",
    "plt.show()"
   ]
  },
  {
   "cell_type": "code",
   "execution_count": 7,
   "metadata": {},
   "outputs": [
    {
     "output_type": "display_data",
     "data": {
      "text/plain": "Canvas(toolbar=Toolbar(toolitems=[('Home', 'Reset original view', 'home', 'home'), ('Back', 'Back to previous …",
      "application/vnd.jupyter.widget-view+json": {
       "version_major": 2,
       "version_minor": 0,
       "model_id": "d14393c7e5aa43d68dbcb6c4ad45aa00"
      }
     },
     "metadata": {}
    }
   ],
   "source": [
    "## RREV Threshold vs IC\n",
    "fig = plt.figure()\n",
    "ax = fig.add_subplot(111,projection=\"3d\")\n",
    "\n",
    "ax.scatter(df['vx_d'],df['vz_d'],df['RREV_threshold'])\n",
    "\n",
    "\n",
    "ax.set_xlim(0,2.75)\n",
    "ax.set_ylim(1.0,4.5)\n",
    "\n",
    "\n",
    "ax.set_xlabel('Vx_d')\n",
    "ax.set_ylabel('Vz_d')\n",
    "ax.set_zlabel('RREV_threshold')\n",
    "ax.set_title('RREV_thr vs IC - (Raw Data)')\n",
    "\n",
    "\n",
    "plt.show()"
   ]
  },
  {
   "cell_type": "code",
   "execution_count": 8,
   "metadata": {},
   "outputs": [
    {
     "output_type": "display_data",
     "data": {
      "text/plain": "Canvas(toolbar=Toolbar(toolitems=[('Home', 'Reset original view', 'home', 'home'), ('Back', 'Back to previous …",
      "application/vnd.jupyter.widget-view+json": {
       "version_major": 2,
       "version_minor": 0,
       "model_id": "b18e3b5500664bb7b587810ca97bae55"
      }
     },
     "metadata": {}
    }
   ],
   "source": [
    "\n",
    "## Avg RREV_thr vs IC\n",
    "fig = plt.figure()\n",
    "ax = fig.add_subplot(111,projection=\"3d\")\n",
    "\n",
    "cmap = mpl.cm.jet\n",
    "norm = mpl.colors.Normalize(vmin=4,vmax=5)\n",
    "pcm = ax.plot_trisurf(df_avg['vx_d'],df_avg['vz_d'],df_avg['RREV_threshold','mean'],cmap=cmap)\n",
    "fig.colorbar(mpl.cm.ScalarMappable(norm=norm, cmap=cmap),label=\"RREV_threshold\")\n",
    "\n",
    "ax.set_xlim(0,2.75)\n",
    "ax.set_ylim(1.0,4.5)\n",
    "ax.set_zlim(3,6)\n",
    "\n",
    "ax.set_xlabel('vx_d')\n",
    "ax.set_ylabel('vz_d')\n",
    "ax.set_zlabel('RREV_threshold')\n",
    "\n",
    "ax.set_title('Avg RREV_thr vs IC')\n",
    "plt.show()"
   ]
  },
  {
   "cell_type": "code",
   "execution_count": 9,
   "metadata": {},
   "outputs": [
    {
     "output_type": "display_data",
     "data": {
      "text/plain": "Canvas(toolbar=Toolbar(toolitems=[('Home', 'Reset original view', 'home', 'home'), ('Back', 'Back to previous …",
      "application/vnd.jupyter.widget-view+json": {
       "version_major": 2,
       "version_minor": 0,
       "model_id": "d5abeda0715e49b593d0e3fa031cba09"
      }
     },
     "metadata": {}
    }
   ],
   "source": [
    "fig = plt.figure()\n",
    "ax = fig.add_subplot(111,projection=\"3d\")\n",
    "\n",
    "cmap = mpl.cm.jet\n",
    "norm = mpl.colors.Normalize(vmin=4,vmax=5)\n",
    "pcm = ax.scatter(df['vx_d'],df['vz_d'],df['impact_tdelta'])\n",
    "fig.colorbar(mpl.cm.ScalarMappable(norm=norm, cmap=cmap),label=\"RREV_threshold\")\n",
    "\n",
    "\n",
    "ax.set_xlabel('vx_d')\n",
    "ax.set_ylabel('vz_d')\n",
    "ax.set_zlabel('Delta_t [s]')\n",
    "\n",
    "ax.set_title('Time Rotating vs IC (Raw Data)')\n",
    "\n",
    "ax.set_zlim(0,0.5)\n",
    "\n",
    "\n",
    "\n",
    "\n",
    "plt.show()"
   ]
  },
  {
   "cell_type": "code",
   "execution_count": 10,
   "metadata": {},
   "outputs": [
    {
     "output_type": "display_data",
     "data": {
      "text/plain": "Canvas(toolbar=Toolbar(toolitems=[('Home', 'Reset original view', 'home', 'home'), ('Back', 'Back to previous …",
      "application/vnd.jupyter.widget-view+json": {
       "version_major": 2,
       "version_minor": 0,
       "model_id": "999856f567f247c098abe41925ca2c98"
      }
     },
     "metadata": {}
    }
   ],
   "source": [
    "fig = plt.figure()\n",
    "ax = fig.add_subplot(111,projection=\"3d\")\n",
    "\n",
    "\n",
    "cmap = mpl.cm.rainbow\n",
    "norm = mpl.colors.Normalize(vmin=0,vmax=4)\n",
    "\n",
    "pcm = ax.scatter(df['RREV_trigger'],df['landing_rate'],df['impact_tdelta'],c=df['vz_d'],cmap=cmap)\n",
    "fig.colorbar(mpl.cm.ScalarMappable(norm=norm, cmap=cmap),label='Vz_d')\n",
    "\n",
    "\n",
    "ax.set_xlabel('RREV_trigger')\n",
    "ax.set_ylabel('Landing_rate')\n",
    "ax.set_zlabel('Delta_t [s]')\n",
    "\n",
    "ax.set_title('Time Rotating vs RREV (Raw Data)')\n",
    "\n",
    "ax.set_zlim(0,0.5)\n",
    "\n",
    "\n",
    "\n",
    "\n",
    "plt.show()"
   ]
  },
  {
   "cell_type": "code",
   "execution_count": 11,
   "metadata": {},
   "outputs": [
    {
     "output_type": "display_data",
     "data": {
      "text/plain": "Canvas(toolbar=Toolbar(toolitems=[('Home', 'Reset original view', 'home', 'home'), ('Back', 'Back to previous …",
      "application/vnd.jupyter.widget-view+json": {
       "version_major": 2,
       "version_minor": 0,
       "model_id": "3651d4d82ff141efa9d240f74e5d9f8a"
      }
     },
     "metadata": {}
    }
   ],
   "source": [
    "## AVG LANDING RATE PLOT\n",
    "fig = plt.figure()\n",
    "ax = fig.add_subplot(111,projection=\"3d\")\n",
    "\n",
    "cmap = mpl.cm.rainbow\n",
    "norm = mpl.colors.Normalize(vmin=0,vmax=4)\n",
    "\n",
    "pcm = ax.scatter(df['RREV_trigger'],df['vz_d'],df['landing_rate'],c=df['vz_d'],cmap=cmap)\n",
    "fig.colorbar(mpl.cm.ScalarMappable(norm=norm, cmap=cmap),label='Vz_d')\n",
    "\n",
    "\n",
    "\n",
    "ax.set_xlabel('RREV_trigger')\n",
    "ax.set_ylabel('vz_d')\n",
    "ax.set_zlabel('LR')\n",
    "\n",
    "\n",
    "plt.show()"
   ]
  },
  {
   "cell_type": "code",
   "execution_count": 12,
   "metadata": {},
   "outputs": [
    {
     "output_type": "display_data",
     "data": {
      "text/plain": "Canvas(toolbar=Toolbar(toolitems=[('Home', 'Reset original view', 'home', 'home'), ('Back', 'Back to previous …",
      "application/vnd.jupyter.widget-view+json": {
       "version_major": 2,
       "version_minor": 0,
       "model_id": "7c9962a5faa64834b63c5add9a834970"
      }
     },
     "metadata": {}
    }
   ],
   "source": [
    "\n",
    "fig = plt.figure()\n",
    "ax = fig.add_subplot(111,projection=\"3d\")\n",
    "\n",
    "pcm = ax.scatter(df['vx_d'],df['vz_d'],df['My_d'])\n",
    "\n",
    "\n",
    "\n",
    "ax.set_xlabel('vx_d')\n",
    "ax.set_ylabel('vz_d')\n",
    "ax.set_zlabel('My_d [N*mm]')\n",
    "\n",
    "ax.set_title('My_d vs IC (Raw Data)')\n",
    "\n",
    "## I have more data for vz = (1.5,2.75) than vz = (3.00,4.0) so My_d differences are likely not a trend, just sparse data\n",
    "\n",
    "\n",
    "\n",
    "\n",
    "plt.show()"
   ]
  },
  {
   "cell_type": "code",
   "execution_count": 13,
   "metadata": {},
   "outputs": [
    {
     "output_type": "display_data",
     "data": {
      "text/plain": "Canvas(toolbar=Toolbar(toolitems=[('Home', 'Reset original view', 'home', 'home'), ('Back', 'Back to previous …",
      "application/vnd.jupyter.widget-view+json": {
       "version_major": 2,
       "version_minor": 0,
       "model_id": "81a7fd53f36742cab3263c406d8d87f1"
      }
     },
     "metadata": {}
    }
   ],
   "source": [
    "\n",
    "## AVG LANDING RATE PLOT\n",
    "fig = plt.figure()\n",
    "ax = fig.add_subplot(111,projection=\"3d\")\n",
    "\n",
    "cmap = mpl.cm.rainbow\n",
    "norm = mpl.colors.Normalize(vmin=0,vmax=1)\n",
    "pcm = ax.scatter(df['vx_d'],df['vz_d'],-df['impact_eul'],c=df['landing_rate'],cmap=cmap)\n",
    "fig.colorbar(mpl.cm.ScalarMappable(norm=norm, cmap=cmap),label='Landing %')\n",
    "\n",
    "ax.set_xlabel('vx_d')\n",
    "ax.set_ylabel('vz_d')\n",
    "ax.set_zlabel('Impact Angle')\n",
    "\n",
    "\n",
    "ax.set_zlim(-70,180)\n",
    "ax.set_zticks([0,60,120,180])\n",
    "\n",
    "## Failed landings in corner\n",
    "plt.show()"
   ]
  },
  {
   "cell_type": "code",
   "execution_count": 14,
   "metadata": {},
   "outputs": [
    {
     "output_type": "display_data",
     "data": {
      "text/plain": "Canvas(toolbar=Toolbar(toolitems=[('Home', 'Reset original view', 'home', 'home'), ('Back', 'Back to previous …",
      "application/vnd.jupyter.widget-view+json": {
       "version_major": 2,
       "version_minor": 0,
       "model_id": "7f42cb54e568411c93dc84eb7d376180"
      }
     },
     "metadata": {}
    }
   ],
   "source": [
    "## AVG LANDING RATE PLOT\n",
    "fig = plt.figure()\n",
    "ax = fig.add_subplot(111,projection=\"3d\")\n",
    "\n",
    "cmap = mpl.cm.jet\n",
    "norm = mpl.colors.Normalize(vmin=0,vmax=180)\n",
    "ax.plot_trisurf(df_avg['vx_d'],df_avg['vz_d'],-df_avg['impact_eul','mean'],cmap=cmap)\n",
    "\n",
    "\n",
    "ax.set_xlim(0,2.75)\n",
    "ax.set_ylim(1.0,4.0)\n",
    "ax.set_zlim(-70,180)\n",
    "ax.set_zticks([0,60,120,180])\n",
    "\n",
    "\n",
    "ax.set_xlabel('vx_d')\n",
    "ax.set_ylabel('vz_d')\n",
    "ax.set_zlabel('Impact Angle')\n",
    "\n",
    "ax.set_title('Avg Impact Angle vs IC')\n",
    "plt.show()"
   ]
  },
  {
   "cell_type": "code",
   "execution_count": 15,
   "metadata": {},
   "outputs": [
    {
     "output_type": "display_data",
     "data": {
      "text/plain": "Canvas(toolbar=Toolbar(toolitems=[('Home', 'Reset original view', 'home', 'home'), ('Back', 'Back to previous …",
      "application/vnd.jupyter.widget-view+json": {
       "version_major": 2,
       "version_minor": 0,
       "model_id": "ab54b1bf2bf341808aa506c0cfc26a76"
      }
     },
     "metadata": {}
    }
   ],
   "source": [
    "## AVG LANDING RATE PLOT\n",
    "fig = plt.figure()\n",
    "ax = fig.add_subplot(111)\n",
    "\n",
    "\n",
    "cmap = mpl.cm.Greys\n",
    "norm = mpl.colors.Normalize(vmin=0,vmax=1)\n",
    "\n",
    "ax.scatter(df['RREV_threshold'],df['My_d'],c=df['landing_rate'],cmap=cmap)\n",
    "fig.colorbar(mpl.cm.ScalarMappable(norm=norm, cmap=cmap),label='Landing %')\n",
    "\n",
    "ax.grid()\n",
    "ax.set_xlim(3,7)\n",
    "ax.set_ylim(0,10)\n",
    "ax.hlines(7.77,3,7)\n",
    "ax.text(3.05,8.0,'Motors Maxed Out')\n",
    "\n",
    "ax.set_xlabel('RREV_thr')\n",
    "ax.set_ylabel('My_d [N*mm]')\n",
    "ax.set_title('Policy: My_d vs RREV_thr')\n",
    "\n",
    "plt.show()"
   ]
  },
  {
   "cell_type": "code",
   "execution_count": 16,
   "metadata": {},
   "outputs": [
    {
     "output_type": "display_data",
     "data": {
      "text/plain": "Canvas(toolbar=Toolbar(toolitems=[('Home', 'Reset original view', 'home', 'home'), ('Back', 'Back to previous …",
      "application/vnd.jupyter.widget-view+json": {
       "version_major": 2,
       "version_minor": 0,
       "model_id": "99bb6246185f429eb5505906b56ce8bb"
      }
     },
     "metadata": {}
    }
   ],
   "source": [
    "## AVG LANDING RATE PLOT\n",
    "fig = plt.figure()\n",
    "ax = fig.add_subplot(111)\n",
    "\n",
    "\n",
    "cmap = mpl.cm.jet\n",
    "norm = mpl.colors.Normalize(vmin=0,vmax=3)\n",
    "\n",
    "ax.scatter(df['RREV_threshold'],df['My_d'],c=df['vz_d'],cmap=cmap)\n",
    "fig.colorbar(mpl.cm.ScalarMappable(norm=norm, cmap=cmap),label='Vz_d')\n",
    "\n",
    "ax.grid()\n",
    "ax.set_ylim(0,10)\n",
    "ax.set_xlim(3,7)\n",
    "\n",
    "ax.hlines(7.77,3,7)\n",
    "ax.text(3.05,-8.0,'Motors Maxed Out')\n",
    "\n",
    "ax.set_xlabel('RREV_thr')\n",
    "ax.set_ylabel('My_d [N*mm]')\n",
    "ax.set_title('Policy: My_d vs RREV_thr')\n",
    "## As Vz increases RREV_trigger decreases to preserve time to contact. It also finds a host of My_d that work and they vary because of the robustness of the legs and the fact that landing success isn't deterministic.\n",
    "plt.show()"
   ]
  },
  {
   "cell_type": "code",
   "execution_count": 17,
   "metadata": {},
   "outputs": [
    {
     "output_type": "display_data",
     "data": {
      "text/plain": "Canvas(toolbar=Toolbar(toolitems=[('Home', 'Reset original view', 'home', 'home'), ('Back', 'Back to previous …",
      "application/vnd.jupyter.widget-view+json": {
       "version_major": 2,
       "version_minor": 0,
       "model_id": "e159e05b92a944e1ad1139cf3988b011"
      }
     },
     "metadata": {}
    }
   ],
   "source": [
    "## AVG LANDING RATE PLOT\n",
    "fig = plt.figure()\n",
    "ax = fig.add_subplot(111,projection=\"3d\")\n",
    "\n",
    "cmap = mpl.cm.rainbow\n",
    "norm = mpl.colors.Normalize(vmin=0,vmax=1)\n",
    "\n",
    "pcm = ax.scatter(df['RREV_threshold'],df['vx_d'],df['My_d'],c=df['landing_rate'],cmap=cmap)\n",
    "fig.colorbar(mpl.cm.ScalarMappable(norm=norm, cmap=cmap),label='Landing %')\n",
    "\n",
    "ax.set_zlim(0,10)\n",
    "ax.set_xlim(3,7)\n",
    "\n",
    "ax.set_xlabel('RREV_trigger')\n",
    "ax.set_ylabel('vx_d')\n",
    "ax.set_zlabel('My_d')\n",
    "\n",
    "\n",
    "plt.show()"
   ]
  },
  {
   "cell_type": "code",
   "execution_count": 18,
   "metadata": {},
   "outputs": [
    {
     "output_type": "display_data",
     "data": {
      "text/plain": "Canvas(toolbar=Toolbar(toolitems=[('Home', 'Reset original view', 'home', 'home'), ('Back', 'Back to previous …",
      "application/vnd.jupyter.widget-view+json": {
       "version_major": 2,
       "version_minor": 0,
       "model_id": "5ac79066b08b4be6ba6e791638d3f677"
      }
     },
     "metadata": {}
    }
   ],
   "source": [
    "## AVG LANDING RATE PLOT\n",
    "fig = plt.figure()\n",
    "ax = fig.add_subplot(111,projection=\"3d\")\n",
    "\n",
    "cmap = mpl.cm.rainbow\n",
    "norm = mpl.colors.Normalize(vmin=0,vmax=1)\n",
    "\n",
    "pcm = ax.scatter(df['RREV_threshold'],df['landing_rate'],df['My_d'],c=df['landing_rate'],cmap=cmap)\n",
    "fig.colorbar(mpl.cm.ScalarMappable(norm=norm, cmap=cmap),label='Landing %')\n",
    "\n",
    "ax.set_zlim(0,10)\n",
    "ax.set_xlim(3,7)\n",
    "\n",
    "ax.set_xlabel('RREV_trigger')\n",
    "ax.set_ylabel('Landing_Rate')\n",
    "ax.set_zlabel('My_d')\n",
    "\n",
    "\n",
    "plt.show()"
   ]
  },
  {
   "cell_type": "code",
   "execution_count": 19,
   "metadata": {},
   "outputs": [
    {
     "output_type": "display_data",
     "data": {
      "text/plain": "Canvas(toolbar=Toolbar(toolitems=[('Home', 'Reset original view', 'home', 'home'), ('Back', 'Back to previous …",
      "application/vnd.jupyter.widget-view+json": {
       "version_major": 2,
       "version_minor": 0,
       "model_id": "dfd12ef523054ccfa5059906167454c3"
      }
     },
     "metadata": {}
    }
   ],
   "source": [
    "## AVG LANDING RATE PLOT\n",
    "fig = plt.figure()\n",
    "ax = fig.add_subplot(111,projection=\"3d\")\n",
    "\n",
    "cmap = mpl.cm.rainbow\n",
    "norm = mpl.colors.Normalize(vmin=0,vmax=1)\n",
    "\n",
    "pcm = ax.scatter(df['RREV_trigger'],df['vz_d'],df['My_d'],c=df['landing_rate'],cmap=cmap)\n",
    "fig.colorbar(mpl.cm.ScalarMappable(norm=norm, cmap=cmap),label='Landing %')\n",
    "\n",
    "ax.set_zlim(0,10)\n",
    "ax.set_xlim(3,7)\n",
    "\n",
    "ax.set_xlabel('RREV_trigger')\n",
    "ax.set_ylabel('Vz_d')\n",
    "ax.set_zlabel('My_d')\n",
    "\n",
    "\n",
    "plt.show()"
   ]
  },
  {
   "cell_type": "code",
   "execution_count": 20,
   "metadata": {},
   "outputs": [
    {
     "output_type": "display_data",
     "data": {
      "text/plain": "Canvas(toolbar=Toolbar(toolitems=[('Home', 'Reset original view', 'home', 'home'), ('Back', 'Back to previous …",
      "application/vnd.jupyter.widget-view+json": {
       "version_major": 2,
       "version_minor": 0,
       "model_id": "fbe9ffb1dbce4007a285a608b33d6d44"
      }
     },
     "metadata": {}
    }
   ],
   "source": [
    "fig = plt.figure()\n",
    "ax = fig.add_subplot(111,projection=\"3d\")\n",
    "\n",
    "cmap = mpl.cm.rainbow\n",
    "norm = mpl.colors.Normalize(vmin=0,vmax=1)\n",
    "\n",
    "pcm = ax.scatter(df['vx_d'],df['My_d'],df['RREV_threshold'],c=df['landing_rate'],cmap=cmap)\n",
    "fig.colorbar(mpl.cm.ScalarMappable(norm=norm, cmap=cmap),label='Landing %')\n",
    "\n",
    "# ax.set_xlim(3,7)\n",
    "# ax.set_ylim(0,-10)\n",
    "# ax.set_zlim(0,-10)\n",
    "\n",
    "ax.set_xlabel('Vz_d')\n",
    "ax.set_ylabel('OF_y_trigger')\n",
    "ax.set_zlabel('RREV_threshold')\n",
    "\n",
    "\n",
    "plt.show()"
   ]
  },
  {
   "cell_type": "code",
   "execution_count": 21,
   "metadata": {},
   "outputs": [
    {
     "output_type": "display_data",
     "data": {
      "text/plain": "Canvas(toolbar=Toolbar(toolitems=[('Home', 'Reset original view', 'home', 'home'), ('Back', 'Back to previous …",
      "application/vnd.jupyter.widget-view+json": {
       "version_major": 2,
       "version_minor": 0,
       "model_id": "c29f7ca40de64bddab06be4d58386488"
      }
     },
     "metadata": {}
    }
   ],
   "source": [
    "## AVG LANDING RATE PLOT\n",
    "fig = plt.figure()\n",
    "ax = fig.add_subplot(111)\n",
    "\n",
    "cmap = mpl.cm.jet\n",
    "norm = mpl.colors.Normalize(vmin=0,vmax=3)\n",
    "\n",
    "pcm = ax.scatter(df_avg['RREV_threshold','mean'],df_avg['RREV_trigger','mean'],c=df_avg['vz_d'],cmap=cmap)\n",
    "fig.colorbar(mpl.cm.ScalarMappable(norm=norm, cmap=cmap),label='Vz_d')\n",
    "\n",
    "ax.grid()\n",
    "ax.set_xlim(3,8)\n",
    "ax.set_ylim(3,8)\n",
    "\n",
    "ax.set_xlabel('RREV_threshold')\n",
    "ax.set_ylabel('RREV_trigger')\n",
    "\n",
    "\n",
    "\n",
    "plt.show()"
   ]
  },
  {
   "cell_type": "code",
   "execution_count": 22,
   "metadata": {},
   "outputs": [
    {
     "output_type": "display_data",
     "data": {
      "text/plain": "Canvas(toolbar=Toolbar(toolitems=[('Home', 'Reset original view', 'home', 'home'), ('Back', 'Back to previous …",
      "application/vnd.jupyter.widget-view+json": {
       "version_major": 2,
       "version_minor": 0,
       "model_id": "b6851f4eeaa54420b06859796a550157"
      }
     },
     "metadata": {}
    }
   ],
   "source": [
    "fig = plt.figure()\n",
    "ax = fig.add_subplot(111,projection=\"3d\")\n",
    "\n",
    "cmap = mpl.cm.rainbow\n",
    "norm = mpl.colors.Normalize(vmin=0,vmax=1)\n",
    "\n",
    "pcm = ax.scatter(df['G1'],df['OF_y'],df['My_d'],c=df['landing_rate'],cmap=cmap)\n",
    "fig.colorbar(mpl.cm.ScalarMappable(norm=norm, cmap=cmap),label='Landing Rate')\n",
    "\n",
    "# ax.set_xlim(3,7)\n",
    "# ax.set_ylim(0,-10)\n",
    "ax.set_zlim(0,10)\n",
    "\n",
    "ax.set_xlabel('G1')\n",
    "ax.set_ylabel('OF_y')\n",
    "ax.set_zlabel('My_d')\n",
    "\n",
    "\n",
    "plt.show()"
   ]
  },
  {
   "cell_type": "code",
   "execution_count": 32,
   "metadata": {},
   "outputs": [
    {
     "output_type": "display_data",
     "data": {
      "text/plain": "Canvas(toolbar=Toolbar(toolitems=[('Home', 'Reset original view', 'home', 'home'), ('Back', 'Back to previous …",
      "application/vnd.jupyter.widget-view+json": {
       "version_major": 2,
       "version_minor": 0,
       "model_id": "eee6d55c3f0b43f2a05127573893bb48"
      }
     },
     "metadata": {}
    }
   ],
   "source": [
    "fig = plt.figure()\n",
    "ax = fig.add_subplot(111,projection=\"3d\")\n",
    "\n",
    "cmap = mpl.cm.rainbow\n",
    "norm = mpl.colors.Normalize(vmin=0,vmax=1)\n",
    "\n",
    "pcm = ax.scatter(df['RREV_threshold'],df['OF_y'],df['My_d'],c=df['landing_rate'],cmap=cmap)\n",
    "fig.colorbar(mpl.cm.ScalarMappable(norm=norm, cmap=cmap),label='Landing Rate')\n",
    "\n",
    "ax.set_xlim(6,2)\n",
    "ax.set_ylim(-10,0)\n",
    "ax.set_zlim(0,10)\n",
    "\n",
    "ax.set_xlabel('RREV')\n",
    "ax.set_ylabel('OF_y')\n",
    "ax.set_zlabel('My_d')\n",
    "\n",
    "\n",
    "plt.show()"
   ]
  },
  {
   "cell_type": "code",
   "execution_count": 103,
   "metadata": {},
   "outputs": [],
   "source": [
    "from sklearn.linear_model import LinearRegression\n",
    "\n",
    "\n",
    "df_reg = df.query(f\"landing_rate>={0.8} & RREV_threshold>{3.5}\")\n",
    "\n",
    "\n",
    "X = df_reg[['RREV_threshold','OF_y']]\n",
    "Y = df_reg['My_d']\n",
    "\n",
    "reg = LinearRegression(normalize=True)\n",
    "reg.fit(X,Y)\n",
    "\n",
    "intercept = reg.intercept_\n",
    "coeffs = reg.coef_\n",
    "\n"
   ]
  },
  {
   "cell_type": "code",
   "execution_count": 110,
   "metadata": {},
   "outputs": [
    {
     "output_type": "display_data",
     "data": {
      "text/plain": "Canvas(toolbar=Toolbar(toolitems=[('Home', 'Reset original view', 'home', 'home'), ('Back', 'Back to previous …",
      "application/vnd.jupyter.widget-view+json": {
       "version_major": 2,
       "version_minor": 0,
       "model_id": "d97df3c9eddd4bb2aa3d69c10e3e3ce8"
      }
     },
     "metadata": {}
    }
   ],
   "source": [
    "fig = plt.figure()\n",
    "ax = fig.add_subplot(111,projection=\"3d\")\n",
    "\n",
    "My_d_regr = -11 + 3.4*df_reg['RREV_threshold'] + -0.111*df_reg['OF_y']\n",
    "My_2 = intercept + coeffs[0]*df_reg['RREV_threshold'] + coeffs[1]*df_reg['OF_y']\n",
    "\n",
    "ax.plot_trisurf(df_reg['RREV_threshold'],df_reg['OF_y'],My_d_regr)\n",
    "ax.plot_trisurf(df_reg['RREV_threshold'],df_reg['OF_y'],My_2)\n",
    "cmap = mpl.cm.rainbow\n",
    "norm = mpl.colors.Normalize(vmin=0,vmax=1)\n",
    "\n",
    "pcm = ax.scatter(df['RREV_threshold'],df['OF_y'],df['My_d'],c='df['landing_rate']')\n",
    "\n",
    "fig.colorbar(mpl.cm.ScalarMappable(norm=norm, cmap=cmap),label='Landing Rate')\n",
    "\n",
    "\n",
    "ax.set_xlim(6,2)\n",
    "ax.set_ylim(-10,0)\n",
    "ax.set_zlim(0,10)\n",
    "\n",
    "ax.set_xlabel('RREV')\n",
    "ax.set_ylabel('OF_y')\n",
    "ax.set_zlabel('My_d')\n",
    "\n",
    "\n",
    "plt.show()"
   ]
  },
  {
   "cell_type": "code",
   "execution_count": 105,
   "metadata": {},
   "outputs": [
    {
     "output_type": "execute_result",
     "data": {
      "text/plain": [
       "0.4319956861088713"
      ]
     },
     "metadata": {},
     "execution_count": 105
    }
   ],
   "source": [
    "def r_squared(y, y_hat):\n",
    "    y_bar = y.mean()\n",
    "    ss_tot = ((y-y_bar)**2).sum()\n",
    "    ss_res = ((y-y_hat)**2).sum()\n",
    "    return 1 - (ss_res/ss_tot)\n",
    "\n",
    "r_squared(df_reg['My_d'],My_d_regr)"
   ]
  },
  {
   "cell_type": "code",
   "execution_count": 106,
   "metadata": {},
   "outputs": [
    {
     "output_type": "execute_result",
     "data": {
      "text/plain": [
       "<class 'statsmodels.iolib.summary.Summary'>\n",
       "\"\"\"\n",
       "                            OLS Regression Results                            \n",
       "==============================================================================\n",
       "Dep. Variable:                   My_d   R-squared:                       0.453\n",
       "Model:                            OLS   Adj. R-squared:                  0.444\n",
       "Method:                 Least Squares   F-statistic:                     47.23\n",
       "Date:                Thu, 04 Feb 2021   Prob (F-statistic):           1.15e-15\n",
       "Time:                        21:10:37   Log-Likelihood:                -174.80\n",
       "No. Observations:                 117   AIC:                             355.6\n",
       "Df Residuals:                     114   BIC:                             363.9\n",
       "Df Model:                           2                                         \n",
       "Covariance Type:            nonrobust                                         \n",
       "==================================================================================\n",
       "                     coef    std err          t      P>|t|      [0.025      0.975]\n",
       "----------------------------------------------------------------------------------\n",
       "const             -9.4043      1.750     -5.375      0.000     -12.871      -5.938\n",
       "RREV_threshold     3.0670      0.404      7.588      0.000       2.266       3.868\n",
       "OF_y              -0.1461      0.077     -1.889      0.061      -0.299       0.007\n",
       "==============================================================================\n",
       "Omnibus:                        1.479   Durbin-Watson:                   2.047\n",
       "Prob(Omnibus):                  0.477   Jarque-Bera (JB):                1.466\n",
       "Skew:                           0.264   Prob(JB):                        0.480\n",
       "Kurtosis:                       2.852   Cond. No.                         110.\n",
       "==============================================================================\n",
       "\n",
       "Notes:\n",
       "[1] Standard Errors assume that the covariance matrix of the errors is correctly specified.\n",
       "\"\"\""
      ],
      "text/html": "<table class=\"simpletable\">\n<caption>OLS Regression Results</caption>\n<tr>\n  <th>Dep. Variable:</th>          <td>My_d</td>       <th>  R-squared:         </th> <td>   0.453</td>\n</tr>\n<tr>\n  <th>Model:</th>                   <td>OLS</td>       <th>  Adj. R-squared:    </th> <td>   0.444</td>\n</tr>\n<tr>\n  <th>Method:</th>             <td>Least Squares</td>  <th>  F-statistic:       </th> <td>   47.23</td>\n</tr>\n<tr>\n  <th>Date:</th>             <td>Thu, 04 Feb 2021</td> <th>  Prob (F-statistic):</th> <td>1.15e-15</td>\n</tr>\n<tr>\n  <th>Time:</th>                 <td>21:10:37</td>     <th>  Log-Likelihood:    </th> <td> -174.80</td>\n</tr>\n<tr>\n  <th>No. Observations:</th>      <td>   117</td>      <th>  AIC:               </th> <td>   355.6</td>\n</tr>\n<tr>\n  <th>Df Residuals:</th>          <td>   114</td>      <th>  BIC:               </th> <td>   363.9</td>\n</tr>\n<tr>\n  <th>Df Model:</th>              <td>     2</td>      <th>                     </th>     <td> </td>   \n</tr>\n<tr>\n  <th>Covariance Type:</th>      <td>nonrobust</td>    <th>                     </th>     <td> </td>   \n</tr>\n</table>\n<table class=\"simpletable\">\n<tr>\n         <td></td>           <th>coef</th>     <th>std err</th>      <th>t</th>      <th>P>|t|</th>  <th>[0.025</th>    <th>0.975]</th>  \n</tr>\n<tr>\n  <th>const</th>          <td>   -9.4043</td> <td>    1.750</td> <td>   -5.375</td> <td> 0.000</td> <td>  -12.871</td> <td>   -5.938</td>\n</tr>\n<tr>\n  <th>RREV_threshold</th> <td>    3.0670</td> <td>    0.404</td> <td>    7.588</td> <td> 0.000</td> <td>    2.266</td> <td>    3.868</td>\n</tr>\n<tr>\n  <th>OF_y</th>           <td>   -0.1461</td> <td>    0.077</td> <td>   -1.889</td> <td> 0.061</td> <td>   -0.299</td> <td>    0.007</td>\n</tr>\n</table>\n<table class=\"simpletable\">\n<tr>\n  <th>Omnibus:</th>       <td> 1.479</td> <th>  Durbin-Watson:     </th> <td>   2.047</td>\n</tr>\n<tr>\n  <th>Prob(Omnibus):</th> <td> 0.477</td> <th>  Jarque-Bera (JB):  </th> <td>   1.466</td>\n</tr>\n<tr>\n  <th>Skew:</th>          <td> 0.264</td> <th>  Prob(JB):          </th> <td>   0.480</td>\n</tr>\n<tr>\n  <th>Kurtosis:</th>      <td> 2.852</td> <th>  Cond. No.          </th> <td>    110.</td>\n</tr>\n</table><br/><br/>Notes:<br/>[1] Standard Errors assume that the covariance matrix of the errors is correctly specified."
     },
     "metadata": {},
     "execution_count": 106
    }
   ],
   "source": [
    "import statsmodels.api as ssm #for detail description of linear coefficients, intercepts, deviations, and many more\n",
    "X=ssm.add_constant(X)        #to add constant value in the model\n",
    "model= ssm.OLS(Y,X).fit()         #fitting the model\n",
    "predictions= model.summary()      #summary of the model\n",
    "predictions\n"
   ]
  },
  {
   "cell_type": "code",
   "execution_count": 24,
   "metadata": {},
   "outputs": [
    {
     "output_type": "display_data",
     "data": {
      "text/plain": "Canvas(toolbar=Toolbar(toolitems=[('Home', 'Reset original view', 'home', 'home'), ('Back', 'Back to previous …",
      "application/vnd.jupyter.widget-view+json": {
       "version_major": 2,
       "version_minor": 0,
       "model_id": "7a683653ca6c4ef095c8d1a0a5f7e3d7"
      }
     },
     "metadata": {}
    }
   ],
   "source": [
    "fig = plt.figure()\n",
    "ax = fig.add_subplot(111,projection=\"3d\")\n",
    "\n",
    "cmap = mpl.cm.rainbow\n",
    "norm = mpl.colors.Normalize(vmin=0,vmax=1)\n",
    "\n",
    "pcm = ax.scatter(df['RREV_threshold']*df['G1'],df['OF_y']*df['G2'],df['My_d'],c=df['landing_rate'],cmap=cmap)\n",
    "fig.colorbar(mpl.cm.ScalarMappable(norm=norm, cmap=cmap),label='Landing Rate')\n",
    "\n",
    "# ax.set_xlim(6,2)\n",
    "# ax.set_ylim(-10,0)\n",
    "# ax.set_zlim(0,10)\n",
    "\n",
    "ax.set_xlabel('RREV*G1')\n",
    "ax.set_ylabel('OF_y*G2')\n",
    "ax.set_zlabel('My_d')\n",
    "\n",
    "\n",
    "plt.show()"
   ]
  },
  {
   "cell_type": "code",
   "execution_count": 25,
   "metadata": {},
   "outputs": [
    {
     "output_type": "display_data",
     "data": {
      "text/plain": "Canvas(toolbar=Toolbar(toolitems=[('Home', 'Reset original view', 'home', 'home'), ('Back', 'Back to previous …",
      "application/vnd.jupyter.widget-view+json": {
       "version_major": 2,
       "version_minor": 0,
       "model_id": "a39aca80d25a4ae9b537ff28ed72d0a1"
      }
     },
     "metadata": {}
    }
   ],
   "source": [
    "fig = plt.figure()\n",
    "ax = fig.add_subplot(111,projection=\"3d\")\n",
    "\n",
    "cmap = mpl.cm.rainbow\n",
    "norm = mpl.colors.Normalize(vmin=0,vmax=1)\n",
    "\n",
    "pcm = ax.scatter(df['G1'],df['G2'],df['My_d'],c=df['landing_rate'],cmap=cmap)\n",
    "fig.colorbar(mpl.cm.ScalarMappable(norm=norm, cmap=cmap),label='Landing Rate')\n",
    "\n",
    "# ax.set_xlim(3,7)\n",
    "# ax.set_ylim(0,-10)\n",
    "ax.set_zlim(0,10)\n",
    "\n",
    "ax.set_xlabel('G1')\n",
    "ax.set_ylabel('G2')\n",
    "ax.set_zlabel('My_d')\n",
    "\n",
    "## Is G2 changing to maintain My_d/G1 linear\n",
    "plt.show()"
   ]
  },
  {
   "cell_type": "code",
   "execution_count": null,
   "metadata": {},
   "outputs": [],
   "source": []
  }
 ]
}