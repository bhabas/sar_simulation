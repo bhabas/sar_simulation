{
 "metadata": {
  "language_info": {
   "codemirror_mode": {
    "name": "ipython",
    "version": 3
   },
   "file_extension": ".py",
   "mimetype": "text/x-python",
   "name": "python",
   "nbconvert_exporter": "python",
   "pygments_lexer": "ipython3",
   "version": "3.8.5-final"
  },
  "orig_nbformat": 2,
  "kernelspec": {
   "name": "python38564bit0282941c0ba945238a13db8c20574d9c",
   "display_name": "Python 3.8.5 64-bit",
   "language": "python"
  }
 },
 "nbformat": 4,
 "nbformat_minor": 2,
 "cells": [
  {
   "source": [
    "# Module Imports"
   ],
   "cell_type": "markdown",
   "metadata": {}
  },
  {
   "cell_type": "code",
   "execution_count": 54,
   "metadata": {},
   "outputs": [],
   "source": [
    "## IMPORT MODULES\n",
    "import pandas as pd\n",
    "import numpy as np\n",
    "from sklearn import linear_model\n"
   ]
  },
  {
   "cell_type": "code",
   "execution_count": 55,
   "metadata": {},
   "outputs": [],
   "source": [
    "## IMPORT PLOTTING MODULES\n",
    "import matplotlib.pyplot as plt\n",
    "from mpl_toolkits import mplot3d\n",
    "import matplotlib as mpl\n",
    "from matplotlib import cm\n",
    "%matplotlib widget"
   ]
  },
  {
   "source": [
    "# Dataframe"
   ],
   "cell_type": "markdown",
   "metadata": {}
  },
  {
   "cell_type": "code",
   "execution_count": 56,
   "metadata": {},
   "outputs": [],
   "source": [
    "## FULL DATAFRAME\n",
    "df_raw = pd.read_csv(\"NS_2-Policy_Summary.csv\")\n",
    "\n",
    "## Drop extraneous data points\n",
    "df_raw = df_raw.drop(df_raw[\n",
    "    (df_raw['landing_rate']<=0.1) & \n",
    "    (df_raw['vz_d']>=2.75)\n",
    "    ].index)\n",
    "\n",
    "df_raw = df_raw.drop(df_raw[\n",
    "    (df_raw['landing_rate']<=0.1) & \n",
    "    (df_raw['vx_d']>=1.0)\n",
    "    ].index)\n",
    "\n",
    "df_raw_avg = df_raw.groupby(['vz_d','vx_d']).agg([np.mean,np.std]).reset_index()\n",
    "\n",
    "\n",
    "# df_temp = df.query(f\"landing_rate>={0.2}\")\n",
    "# df_temp_avg = df_raw.groupby(['vz_d','vx_d']).agg([np.mean,np.std]).reset_index()\n",
    "\n",
    "\n",
    "df = df_raw\n",
    "df['My_d'] = df['My_d'].apply(lambda x: np.abs(x)) # Convert My to magnitude\n",
    "# df['My_d'] = df['My_d'].apply(lambda x: 7.7 if x>7.7 else x) # Cap My_d to max moment\n",
    "df = df.drop(df[(df['vz_d']<= 2.25) & (df['vx_d']<= 0.75)].index) # Drop corner with no successful landings\n",
    "df = df.dropna()\n",
    "\n",
    "## AVERAGED DATAFRAME\n",
    "df_avg = df.groupby(['vz_d','vx_d']).agg([np.mean,np.std]).reset_index()"
   ]
  },
  {
   "cell_type": "code",
   "execution_count": 57,
   "metadata": {},
   "outputs": [
    {
     "output_type": "execute_result",
     "data": {
      "text/plain": [
       "     vz_d  vx_d  trial_num  landing_rate  RREV_threshold    G1  RREV_sig  \\\n",
       "24    1.5  1.00          0      0.904762            4.46  9.88      0.00   \n",
       "25    1.5  1.00          1      0.875000            5.17  2.17      0.00   \n",
       "26    1.5  1.00          2      0.708333            4.83  8.71      0.02   \n",
       "27    1.5  1.00          3      0.809524            4.88  6.50      0.01   \n",
       "28    1.5  1.00          4      0.700000            4.22  8.38      0.00   \n",
       "..    ...   ...        ...           ...             ...   ...       ...   \n",
       "756   4.0  2.75          1      0.714286            5.30  6.64      0.01   \n",
       "757   4.0  2.75          2      0.916667            5.03  6.53      0.06   \n",
       "758   4.0  2.75          3      0.913043            3.99  2.13      0.00   \n",
       "759   4.0  2.75          4      0.833333            5.35  6.77      0.00   \n",
       "760   4.0  2.75          5      0.956522            5.07  7.85      0.09   \n",
       "\n",
       "     G1_sig  RREV_trigger      OF_y      My_d  impact_eul  impact_tdelta  \\\n",
       "24     0.04      4.839579 -2.819105  9.879842  -85.746968       0.190000   \n",
       "25     0.00      6.095857 -3.550857  2.170000  -99.677419       0.251429   \n",
       "26     0.03      5.072882 -2.954882  8.706471 -106.956846       0.183647   \n",
       "27     0.00      5.322000 -3.100059  6.497000 -114.793691       0.179294   \n",
       "28     0.00      4.756000 -2.770143  8.380143 -124.519349       0.205143   \n",
       "..      ...           ...       ...       ...         ...            ...   \n",
       "756    0.01      5.751733 -3.742467  6.643333 -130.760512       0.189467   \n",
       "757    0.25      5.593409 -3.649273  6.652909 -129.975835       0.193364   \n",
       "758    0.05      4.211286 -2.742381  2.133095 -137.563149       0.307619   \n",
       "759    0.00      5.739000 -3.747450  6.771000 -133.279109       0.180900   \n",
       "760    0.00      5.614273 -3.659636  7.847500 -137.174900       0.186273   \n",
       "\n",
       "    alpha_mu alpha_sigma       mu_ini  sigma_ini  \n",
       "24   [0. 0.]     [0. 0.]  [1.38 6.47]  [1.5 1.5]  \n",
       "25   [0. 0.]     [0. 0.]  [6.28 2.74]  [1.5 1.5]  \n",
       "26   [0. 0.]     [0. 0.]  [3.32 3.14]  [1.5 1.5]  \n",
       "27   [0. 0.]     [0. 0.]  [4.6  2.75]  [1.5 1.5]  \n",
       "28   [0. 0.]     [0. 0.]  [2.01 4.42]  [1.5 1.5]  \n",
       "..       ...         ...          ...        ...  \n",
       "756  [0. 0.]     [0. 0.]  [4.27 5.64]  [1.5 1.5]  \n",
       "757  [0. 0.]     [0. 0.]  [1.58 6.99]  [1.5 1.5]  \n",
       "758  [0. 0.]     [0. 0.]  [4.75 2.4 ]  [1.5 1.5]  \n",
       "759  [0. 0.]     [0. 0.]  [1.55 6.12]  [1.5 1.5]  \n",
       "760  [0. 0.]     [0. 0.]  [1.06 1.61]  [1.5 1.5]  \n",
       "\n",
       "[576 rows x 17 columns]"
      ],
      "text/html": "<div>\n<style scoped>\n    .dataframe tbody tr th:only-of-type {\n        vertical-align: middle;\n    }\n\n    .dataframe tbody tr th {\n        vertical-align: top;\n    }\n\n    .dataframe thead th {\n        text-align: right;\n    }\n</style>\n<table border=\"1\" class=\"dataframe\">\n  <thead>\n    <tr style=\"text-align: right;\">\n      <th></th>\n      <th>vz_d</th>\n      <th>vx_d</th>\n      <th>trial_num</th>\n      <th>landing_rate</th>\n      <th>RREV_threshold</th>\n      <th>G1</th>\n      <th>RREV_sig</th>\n      <th>G1_sig</th>\n      <th>RREV_trigger</th>\n      <th>OF_y</th>\n      <th>My_d</th>\n      <th>impact_eul</th>\n      <th>impact_tdelta</th>\n      <th>alpha_mu</th>\n      <th>alpha_sigma</th>\n      <th>mu_ini</th>\n      <th>sigma_ini</th>\n    </tr>\n  </thead>\n  <tbody>\n    <tr>\n      <th>24</th>\n      <td>1.5</td>\n      <td>1.00</td>\n      <td>0</td>\n      <td>0.904762</td>\n      <td>4.46</td>\n      <td>9.88</td>\n      <td>0.00</td>\n      <td>0.04</td>\n      <td>4.839579</td>\n      <td>-2.819105</td>\n      <td>9.879842</td>\n      <td>-85.746968</td>\n      <td>0.190000</td>\n      <td>[0. 0.]</td>\n      <td>[0. 0.]</td>\n      <td>[1.38 6.47]</td>\n      <td>[1.5 1.5]</td>\n    </tr>\n    <tr>\n      <th>25</th>\n      <td>1.5</td>\n      <td>1.00</td>\n      <td>1</td>\n      <td>0.875000</td>\n      <td>5.17</td>\n      <td>2.17</td>\n      <td>0.00</td>\n      <td>0.00</td>\n      <td>6.095857</td>\n      <td>-3.550857</td>\n      <td>2.170000</td>\n      <td>-99.677419</td>\n      <td>0.251429</td>\n      <td>[0. 0.]</td>\n      <td>[0. 0.]</td>\n      <td>[6.28 2.74]</td>\n      <td>[1.5 1.5]</td>\n    </tr>\n    <tr>\n      <th>26</th>\n      <td>1.5</td>\n      <td>1.00</td>\n      <td>2</td>\n      <td>0.708333</td>\n      <td>4.83</td>\n      <td>8.71</td>\n      <td>0.02</td>\n      <td>0.03</td>\n      <td>5.072882</td>\n      <td>-2.954882</td>\n      <td>8.706471</td>\n      <td>-106.956846</td>\n      <td>0.183647</td>\n      <td>[0. 0.]</td>\n      <td>[0. 0.]</td>\n      <td>[3.32 3.14]</td>\n      <td>[1.5 1.5]</td>\n    </tr>\n    <tr>\n      <th>27</th>\n      <td>1.5</td>\n      <td>1.00</td>\n      <td>3</td>\n      <td>0.809524</td>\n      <td>4.88</td>\n      <td>6.50</td>\n      <td>0.01</td>\n      <td>0.00</td>\n      <td>5.322000</td>\n      <td>-3.100059</td>\n      <td>6.497000</td>\n      <td>-114.793691</td>\n      <td>0.179294</td>\n      <td>[0. 0.]</td>\n      <td>[0. 0.]</td>\n      <td>[4.6  2.75]</td>\n      <td>[1.5 1.5]</td>\n    </tr>\n    <tr>\n      <th>28</th>\n      <td>1.5</td>\n      <td>1.00</td>\n      <td>4</td>\n      <td>0.700000</td>\n      <td>4.22</td>\n      <td>8.38</td>\n      <td>0.00</td>\n      <td>0.00</td>\n      <td>4.756000</td>\n      <td>-2.770143</td>\n      <td>8.380143</td>\n      <td>-124.519349</td>\n      <td>0.205143</td>\n      <td>[0. 0.]</td>\n      <td>[0. 0.]</td>\n      <td>[2.01 4.42]</td>\n      <td>[1.5 1.5]</td>\n    </tr>\n    <tr>\n      <th>...</th>\n      <td>...</td>\n      <td>...</td>\n      <td>...</td>\n      <td>...</td>\n      <td>...</td>\n      <td>...</td>\n      <td>...</td>\n      <td>...</td>\n      <td>...</td>\n      <td>...</td>\n      <td>...</td>\n      <td>...</td>\n      <td>...</td>\n      <td>...</td>\n      <td>...</td>\n      <td>...</td>\n      <td>...</td>\n    </tr>\n    <tr>\n      <th>756</th>\n      <td>4.0</td>\n      <td>2.75</td>\n      <td>1</td>\n      <td>0.714286</td>\n      <td>5.30</td>\n      <td>6.64</td>\n      <td>0.01</td>\n      <td>0.01</td>\n      <td>5.751733</td>\n      <td>-3.742467</td>\n      <td>6.643333</td>\n      <td>-130.760512</td>\n      <td>0.189467</td>\n      <td>[0. 0.]</td>\n      <td>[0. 0.]</td>\n      <td>[4.27 5.64]</td>\n      <td>[1.5 1.5]</td>\n    </tr>\n    <tr>\n      <th>757</th>\n      <td>4.0</td>\n      <td>2.75</td>\n      <td>2</td>\n      <td>0.916667</td>\n      <td>5.03</td>\n      <td>6.53</td>\n      <td>0.06</td>\n      <td>0.25</td>\n      <td>5.593409</td>\n      <td>-3.649273</td>\n      <td>6.652909</td>\n      <td>-129.975835</td>\n      <td>0.193364</td>\n      <td>[0. 0.]</td>\n      <td>[0. 0.]</td>\n      <td>[1.58 6.99]</td>\n      <td>[1.5 1.5]</td>\n    </tr>\n    <tr>\n      <th>758</th>\n      <td>4.0</td>\n      <td>2.75</td>\n      <td>3</td>\n      <td>0.913043</td>\n      <td>3.99</td>\n      <td>2.13</td>\n      <td>0.00</td>\n      <td>0.05</td>\n      <td>4.211286</td>\n      <td>-2.742381</td>\n      <td>2.133095</td>\n      <td>-137.563149</td>\n      <td>0.307619</td>\n      <td>[0. 0.]</td>\n      <td>[0. 0.]</td>\n      <td>[4.75 2.4 ]</td>\n      <td>[1.5 1.5]</td>\n    </tr>\n    <tr>\n      <th>759</th>\n      <td>4.0</td>\n      <td>2.75</td>\n      <td>4</td>\n      <td>0.833333</td>\n      <td>5.35</td>\n      <td>6.77</td>\n      <td>0.00</td>\n      <td>0.00</td>\n      <td>5.739000</td>\n      <td>-3.747450</td>\n      <td>6.771000</td>\n      <td>-133.279109</td>\n      <td>0.180900</td>\n      <td>[0. 0.]</td>\n      <td>[0. 0.]</td>\n      <td>[1.55 6.12]</td>\n      <td>[1.5 1.5]</td>\n    </tr>\n    <tr>\n      <th>760</th>\n      <td>4.0</td>\n      <td>2.75</td>\n      <td>5</td>\n      <td>0.956522</td>\n      <td>5.07</td>\n      <td>7.85</td>\n      <td>0.09</td>\n      <td>0.00</td>\n      <td>5.614273</td>\n      <td>-3.659636</td>\n      <td>7.847500</td>\n      <td>-137.174900</td>\n      <td>0.186273</td>\n      <td>[0. 0.]</td>\n      <td>[0. 0.]</td>\n      <td>[1.06 1.61]</td>\n      <td>[1.5 1.5]</td>\n    </tr>\n  </tbody>\n</table>\n<p>576 rows × 17 columns</p>\n</div>"
     },
     "metadata": {},
     "execution_count": 57
    }
   ],
   "source": [
    "df"
   ]
  },
  {
   "source": [
    "# Landing Rate Data"
   ],
   "cell_type": "markdown",
   "metadata": {}
  },
  {
   "cell_type": "code",
   "execution_count": 58,
   "metadata": {},
   "outputs": [
    {
     "output_type": "display_data",
     "data": {
      "text/plain": "Canvas(toolbar=Toolbar(toolitems=[('Home', 'Reset original view', 'home', 'home'), ('Back', 'Back to previous …",
      "application/vnd.jupyter.widget-view+json": {
       "version_major": 2,
       "version_minor": 0,
       "model_id": "0270792df2c342819994c61807a4ddaf"
      }
     },
     "metadata": {}
    }
   ],
   "source": [
    "fig = plt.figure()\n",
    "ax = fig.add_subplot(111,projection=\"3d\")\n",
    "ax.scatter(df['vx_d'],df['vz_d'],df['landing_rate'])\n",
    "\n",
    "ax.set_zlim(0,1)\n",
    "\n",
    "ax.set_xlabel('vx_d')\n",
    "ax.set_ylabel('vz_d')\n",
    "ax.set_zlabel('Landing Rate')\n",
    "ax.set_title('Landing Rate (Raw Data)')\n",
    "\n",
    "plt.show()"
   ]
  },
  {
   "cell_type": "code",
   "execution_count": 129,
   "metadata": {},
   "outputs": [
    {
     "output_type": "display_data",
     "data": {
      "text/plain": "Canvas(toolbar=Toolbar(toolitems=[('Home', 'Reset original view', 'home', 'home'), ('Back', 'Back to previous …",
      "application/vnd.jupyter.widget-view+json": {
       "version_major": 2,
       "version_minor": 0,
       "model_id": "0a3d9173f0df4243981dccc50526a63e"
      }
     },
     "metadata": {}
    }
   ],
   "source": [
    "## AVG LANDING RATE SURFACE\n",
    "fig = plt.figure()\n",
    "ax = fig.add_subplot(111,projection=\"3d\")\n",
    "cmap = mpl.cm.jet\n",
    "norm = mpl.colors.Normalize(vmin=0,vmax=1)\n",
    "pcm = ax.plot_trisurf(df_raw_avg['vx_d'],df_raw_avg['vz_d'],df_raw_avg['landing_rate','mean'],cmap = cmap,norm=norm)\n",
    "fig.colorbar(mpl.cm.ScalarMappable(norm=norm, cmap=cmap),label=\"Landing %\")\n",
    "ax.set_zlim(0,1)\n",
    "\n",
    "ax.set_xlabel('vx_d')\n",
    "ax.set_ylabel('vz_d')\n",
    "ax.set_zlabel('Landing Rate')\n",
    "ax.set_title('Avg Landing Rate for Final 3 Episodes')\n",
    "\n",
    "\n",
    "plt.show()"
   ]
  },
  {
   "cell_type": "code",
   "execution_count": 127,
   "metadata": {},
   "outputs": [
    {
     "output_type": "display_data",
     "data": {
      "text/plain": "Canvas(toolbar=Toolbar(toolitems=[('Home', 'Reset original view', 'home', 'home'), ('Back', 'Back to previous …",
      "application/vnd.jupyter.widget-view+json": {
       "version_major": 2,
       "version_minor": 0,
       "model_id": "a94fbacdafd548409d57e72c14a68270"
      }
     },
     "metadata": {}
    }
   ],
   "source": [
    "## AVG LANDING RATE SURFACE\n",
    "fig = plt.figure()\n",
    "ax = fig.add_subplot(111,projection=\"3d\")\n",
    "\n",
    "from scipy.interpolate import griddata\n",
    "\n",
    "\n",
    "X = df_raw_avg['vx_d']\n",
    "Y = df_raw_avg['vz_d']\n",
    "Z = df_raw_avg['landing_rate','mean']\n",
    "\n",
    "xi = np.linspace(X.min(),X.max(),(len(Z)//3))\n",
    "yi = np.linspace(Y.min(),Y.max(),(len(Z)//3))\n",
    "zi = griddata((X, Y), Z, (xi[None,:], yi[:,None]), method='linear')\n",
    "xig, yig = np.meshgrid(xi, yi)\n",
    "\n",
    "cmap = mpl.cm.jet\n",
    "norm = mpl.colors.Normalize(vmin=0,vmax=1)\n",
    "\n",
    "\n",
    "surf = ax.plot_surface(xig, yig, zi,cmap=cmap,norm=norm)\n",
    "# surf = ax.contour(xig, yig, zi,cmap=cmap,norm=norm)\n",
    "\n",
    "fig.colorbar(mpl.cm.ScalarMappable(norm=norm, cmap=cmap),label=\"Landing %\")\n",
    "ax.set_zlim(0,1)\n",
    "\n",
    "ax.set_xlabel('vx_d')\n",
    "ax.set_ylabel('vz_d')\n",
    "ax.set_zlabel('Landing Rate')\n",
    "ax.set_title('Avg Landing Rate for Final 3 Episodes')\n",
    "\n",
    "\n",
    "plt.show()"
   ]
  },
  {
   "source": [
    "# RREV vs IC"
   ],
   "cell_type": "markdown",
   "metadata": {}
  },
  {
   "cell_type": "code",
   "execution_count": 60,
   "metadata": {},
   "outputs": [
    {
     "output_type": "display_data",
     "data": {
      "text/plain": "Canvas(toolbar=Toolbar(toolitems=[('Home', 'Reset original view', 'home', 'home'), ('Back', 'Back to previous …",
      "application/vnd.jupyter.widget-view+json": {
       "version_major": 2,
       "version_minor": 0,
       "model_id": "1501e47449934ef1aba911e6fe3350a2"
      }
     },
     "metadata": {}
    }
   ],
   "source": [
    "## RREV Threshold vs IC\n",
    "fig = plt.figure()\n",
    "ax = fig.add_subplot(111,projection=\"3d\")\n",
    "\n",
    "ax.scatter(df['vx_d'],df['vz_d'],df['RREV_threshold'])\n",
    "\n",
    "\n",
    "ax.set_xlim(0,2.75)\n",
    "ax.set_ylim(1.0,4.5)\n",
    "\n",
    "\n",
    "ax.set_xlabel('Vx_d')\n",
    "ax.set_ylabel('Vz_d')\n",
    "ax.set_zlabel('RREV_threshold')\n",
    "ax.set_title('RREV_thr vs IC - (Raw Data)')\n",
    "\n",
    "\n",
    "plt.show()"
   ]
  },
  {
   "cell_type": "code",
   "execution_count": 61,
   "metadata": {},
   "outputs": [
    {
     "output_type": "display_data",
     "data": {
      "text/plain": "Canvas(toolbar=Toolbar(toolitems=[('Home', 'Reset original view', 'home', 'home'), ('Back', 'Back to previous …",
      "application/vnd.jupyter.widget-view+json": {
       "version_major": 2,
       "version_minor": 0,
       "model_id": "a8f8c1929f0146bd8b69f41efb6e52bc"
      }
     },
     "metadata": {}
    }
   ],
   "source": [
    "\n",
    "## Avg RREV_thr vs IC\n",
    "fig = plt.figure()\n",
    "ax = fig.add_subplot(111,projection=\"3d\")\n",
    "\n",
    "cmap = mpl.cm.jet\n",
    "norm = mpl.colors.Normalize(vmin=4,vmax=5)\n",
    "pcm = ax.plot_trisurf(df_avg['vx_d'],df_avg['vz_d'],df_avg['RREV_threshold','mean'],cmap=cmap)\n",
    "fig.colorbar(mpl.cm.ScalarMappable(norm=norm, cmap=cmap),label=\"RREV_threshold\")\n",
    "\n",
    "ax.set_xlim(0,2.75)\n",
    "ax.set_ylim(1.0,4.5)\n",
    "ax.set_zlim(3,6)\n",
    "\n",
    "ax.set_xlabel('vx_d')\n",
    "ax.set_ylabel('vz_d')\n",
    "ax.set_zlabel('RREV_threshold')\n",
    "\n",
    "ax.set_title('Avg RREV_thr vs IC')\n",
    "plt.show()"
   ]
  },
  {
   "source": [
    "# Rotation Time Data"
   ],
   "cell_type": "markdown",
   "metadata": {}
  },
  {
   "cell_type": "code",
   "execution_count": 62,
   "metadata": {},
   "outputs": [
    {
     "output_type": "display_data",
     "data": {
      "text/plain": "Canvas(toolbar=Toolbar(toolitems=[('Home', 'Reset original view', 'home', 'home'), ('Back', 'Back to previous …",
      "application/vnd.jupyter.widget-view+json": {
       "version_major": 2,
       "version_minor": 0,
       "model_id": "5bed858194b446879acbc8a3642ab18a"
      }
     },
     "metadata": {}
    }
   ],
   "source": [
    "fig = plt.figure()\n",
    "ax = fig.add_subplot(111,projection=\"3d\")\n",
    "\n",
    "df_temp = df.query(f\"landing_rate>={0.1}\")\n",
    "\n",
    "cmap = mpl.cm.jet\n",
    "norm = mpl.colors.Normalize(vmin=4,vmax=5)\n",
    "pcm = ax.scatter(df_temp['vx_d'],df_temp['vz_d'],df_temp['impact_tdelta'])\n",
    "fig.colorbar(mpl.cm.ScalarMappable(norm=norm, cmap=cmap),label=\"RREV_threshold\")\n",
    "\n",
    "\n",
    "ax.set_xlabel('vx_d')\n",
    "ax.set_ylabel('vz_d')\n",
    "ax.set_zlabel('Delta_t [s]')\n",
    "\n",
    "ax.set_title('Time Rotating vs IC (Raw Data)')\n",
    "\n",
    "ax.set_zlim(0,0.5)\n",
    "\n",
    "\n",
    "\n",
    "\n",
    "plt.show()"
   ]
  },
  {
   "cell_type": "code",
   "execution_count": 63,
   "metadata": {},
   "outputs": [
    {
     "output_type": "display_data",
     "data": {
      "text/plain": "Canvas(toolbar=Toolbar(toolitems=[('Home', 'Reset original view', 'home', 'home'), ('Back', 'Back to previous …",
      "application/vnd.jupyter.widget-view+json": {
       "version_major": 2,
       "version_minor": 0,
       "model_id": "72c53b5d9a4e4e3bbc0b86f9a3f70489"
      }
     },
     "metadata": {}
    }
   ],
   "source": [
    "fig = plt.figure()\n",
    "ax = fig.add_subplot(111,projection=\"3d\")\n",
    "\n",
    "df_temp = df.query(f\"landing_rate>={0.1}\")\n",
    "\n",
    "cmap = mpl.cm.rainbow\n",
    "norm = mpl.colors.Normalize(vmin=0,vmax=4)\n",
    "\n",
    "pcm = ax.scatter(df_temp['RREV_trigger'],df_temp['landing_rate'],df_temp['impact_tdelta'],c=df_temp['vz_d'],cmap=cmap)\n",
    "fig.colorbar(mpl.cm.ScalarMappable(norm=norm, cmap=cmap),label='Vz_d')\n",
    "\n",
    "\n",
    "ax.set_xlabel('RREV_trigger')\n",
    "ax.set_ylabel('Landing_rate')\n",
    "ax.set_zlabel('Delta_t [s]')\n",
    "\n",
    "ax.set_title('Time Rotating vs RREV (Raw Data)')\n",
    "\n",
    "ax.set_zlim(0,0.5)\n",
    "\n",
    "\n",
    "\n",
    "\n",
    "plt.show()"
   ]
  },
  {
   "source": [
    "# My_d vs IC Data"
   ],
   "cell_type": "markdown",
   "metadata": {}
  },
  {
   "cell_type": "code",
   "execution_count": 64,
   "metadata": {},
   "outputs": [
    {
     "output_type": "display_data",
     "data": {
      "text/plain": "Canvas(toolbar=Toolbar(toolitems=[('Home', 'Reset original view', 'home', 'home'), ('Back', 'Back to previous …",
      "application/vnd.jupyter.widget-view+json": {
       "version_major": 2,
       "version_minor": 0,
       "model_id": "9bea5ee61b5540f5b276b144276d119f"
      }
     },
     "metadata": {}
    }
   ],
   "source": [
    "## Define Dataframe\n",
    "\n",
    "df_temp = df.query(f\"landing_rate>={0.1}\")\n",
    "\n",
    "\n",
    "fig = plt.figure()\n",
    "ax = fig.add_subplot(111,projection=\"3d\")\n",
    "\n",
    "pcm = ax.scatter(df['vx_d'],df['vz_d'],df['My_d'])\n",
    "\n",
    "\n",
    "\n",
    "ax.set_xlabel('vx_d')\n",
    "ax.set_ylabel('vz_d')\n",
    "ax.set_zlabel('My_d [N*mm]')\n",
    "\n",
    "ax.set_title('My_d vs IC (Raw Data)')\n",
    "\n",
    "## I have more data for vz = (1.5,2.75) than vz = (3.00,4.0) so My_d differences are likely not a trend, just sparse data\n",
    "\n",
    "\n",
    "\n",
    "\n",
    "plt.show()"
   ]
  },
  {
   "source": [
    "# Impact Angle Data"
   ],
   "cell_type": "markdown",
   "metadata": {}
  },
  {
   "cell_type": "code",
   "execution_count": 65,
   "metadata": {},
   "outputs": [
    {
     "output_type": "display_data",
     "data": {
      "text/plain": "Canvas(toolbar=Toolbar(toolitems=[('Home', 'Reset original view', 'home', 'home'), ('Back', 'Back to previous …",
      "application/vnd.jupyter.widget-view+json": {
       "version_major": 2,
       "version_minor": 0,
       "model_id": "b1b7fce6a9d342859996f4d3a74e4ff1"
      }
     },
     "metadata": {}
    }
   ],
   "source": [
    "df_temp = df.query(f\"impact_eul<={-60}\")\n",
    "# df_temp_avg = df_raw.groupby(['vz_d','vx_d']).agg([np.mean,np.std]).reset_index()\n",
    "\n",
    "\n",
    "\n",
    "## AVG LANDING RATE PLOT\n",
    "fig = plt.figure()\n",
    "ax = fig.add_subplot(111,projection=\"3d\")\n",
    "\n",
    "cmap = mpl.cm.rainbow\n",
    "norm = mpl.colors.Normalize(vmin=0,vmax=1)\n",
    "pcm = ax.scatter(df_temp['vx_d'],df_temp['vz_d'],-df_temp['impact_eul'],c=df_temp['landing_rate'],cmap=cmap)\n",
    "fig.colorbar(mpl.cm.ScalarMappable(norm=norm, cmap=cmap),label='Landing %')\n",
    "\n",
    "ax.set_xlabel('vx_d')\n",
    "ax.set_ylabel('vz_d')\n",
    "ax.set_zlabel('Impact Angle')\n",
    "\n",
    "\n",
    "ax.set_zlim(60,180)\n",
    "ax.set_zticks([60,90,120,150,180])\n",
    "\n",
    "## Failed landings in corner\n",
    "plt.show()"
   ]
  },
  {
   "cell_type": "code",
   "execution_count": 66,
   "metadata": {},
   "outputs": [
    {
     "output_type": "display_data",
     "data": {
      "text/plain": "Canvas(toolbar=Toolbar(toolitems=[('Home', 'Reset original view', 'home', 'home'), ('Back', 'Back to previous …",
      "application/vnd.jupyter.widget-view+json": {
       "version_major": 2,
       "version_minor": 0,
       "model_id": "106c3bad1ab940d6a7f4557ce4a68134"
      }
     },
     "metadata": {}
    }
   ],
   "source": [
    "## CLEAN DATAFRAME\n",
    "df_temp = df.query(f\"impact_eul<={-60}\")\n",
    "df_temp_avg = df_temp.groupby(['vz_d','vx_d']).agg([np.mean,np.std]).reset_index()\n",
    "\n",
    "\n",
    "## AVG LANDING RATE PLOT\n",
    "fig = plt.figure()\n",
    "ax = fig.add_subplot(111,projection=\"3d\")\n",
    "\n",
    "cmap = mpl.cm.jet\n",
    "norm = mpl.colors.Normalize(vmin=0,vmax=180)\n",
    "ax.plot_trisurf(df_temp_avg['vx_d'],df_temp_avg['vz_d'],-df_temp_avg['impact_eul','mean'],cmap=cmap)\n",
    "\n",
    "\n",
    "ax.set_xlim(0,2.75)\n",
    "ax.set_ylim(1.0,4.0)\n",
    "ax.set_zlim(60,180)\n",
    "ax.set_zticks([60,90,120,150,180])\n",
    "\n",
    "\n",
    "ax.set_xlabel('vx_d')\n",
    "ax.set_ylabel('vz_d')\n",
    "ax.set_zlabel('Impact Angle')\n",
    "\n",
    "ax.set_title('Avg Impact Angle vs IC')\n",
    "plt.show()"
   ]
  },
  {
   "source": [
    "# Impact Angle Triang Masking Example"
   ],
   "cell_type": "markdown",
   "metadata": {}
  },
  {
   "cell_type": "code",
   "execution_count": 102,
   "metadata": {},
   "outputs": [
    {
     "output_type": "display_data",
     "data": {
      "text/plain": "Canvas(toolbar=Toolbar(toolitems=[('Home', 'Reset original view', 'home', 'home'), ('Back', 'Back to previous …",
      "application/vnd.jupyter.widget-view+json": {
       "version_major": 2,
       "version_minor": 0,
       "model_id": "86d93f7b3d38466c936186250226ec62"
      }
     },
     "metadata": {}
    }
   ],
   "source": [
    "## CLEAN DATAFRAME\n",
    "df_temp = df_raw.query(f\"impact_eul<={-60}\")\n",
    "df_temp_avg = df_temp.groupby(['vz_d','vx_d']).agg([np.mean,np.std]).reset_index()\n",
    "\n",
    "import matplotlib.tri as mtri\n",
    "x = df_temp_avg['vx_d']\n",
    "y = df_temp_avg['vz_d']\n",
    "z = -df_temp_avg['impact_eul','mean']\n",
    "\n",
    "triang = mtri.Triangulation(x,y)\n",
    "\n",
    "isBad = np.where((x<1.0) & (y<2.5), True, False)\n",
    "\n",
    "mask = np.any(isBad[triang.triangles],axis=1)\n",
    "triang.set_mask(mask)\n",
    "\n",
    "\n",
    "\n",
    "# fig = plt.figure()\n",
    "# ax = fig.add_subplot(1,1,1)\n",
    "\n",
    "# ax.triplot(triang, c=\"#D3D3D3\", marker='.', markerfacecolor=\"#DC143C\",\n",
    "#     markeredgecolor=\"black\", markersize=10)\n",
    "\n",
    "# ax.set_xlabel('X')\n",
    "# ax.set_ylabel('Y')\n",
    "# plt.show()\n",
    "\n",
    "## AVG LANDING RATE PLOT\n",
    "fig = plt.figure()\n",
    "ax = fig.add_subplot(111,projection=\"3d\")\n",
    "\n",
    "cmap = mpl.cm.jet\n",
    "norm = mpl.colors.Normalize(vmin=0,vmax=180)\n",
    "ax.plot_trisurf(triang,-df_temp_avg['impact_eul','mean'],cmap=cmap)\n",
    "\n",
    "\n",
    "ax.set_xlim(0,2.75)\n",
    "ax.set_ylim(1.0,4.0)\n",
    "ax.set_zlim(60,180)\n",
    "ax.set_zticks([60,90,120,150,180])\n",
    "\n",
    "\n",
    "ax.set_xlabel('vx_d')\n",
    "ax.set_ylabel('vz_d')\n",
    "ax.set_zlabel('Impact Angle')\n",
    "\n",
    "ax.set_title('Avg Impact Angle vs IC')\n",
    "plt.show()"
   ]
  },
  {
   "source": [
    "# Moment vs RREV"
   ],
   "cell_type": "markdown",
   "metadata": {}
  },
  {
   "cell_type": "code",
   "execution_count": 67,
   "metadata": {},
   "outputs": [
    {
     "output_type": "display_data",
     "data": {
      "text/plain": "Canvas(toolbar=Toolbar(toolitems=[('Home', 'Reset original view', 'home', 'home'), ('Back', 'Back to previous …",
      "application/vnd.jupyter.widget-view+json": {
       "version_major": 2,
       "version_minor": 0,
       "model_id": "7b5cabd056c7423db6978afe11d1b964"
      }
     },
     "metadata": {}
    }
   ],
   "source": [
    "## CLEAN DATAFRAME\n",
    "df_temp = df.query(f\"My_d<={7.7}\")\n",
    "df_temp_avg = df_temp.groupby(['vz_d','vx_d']).agg([np.mean,np.std]).reset_index()\n",
    "\n",
    "\n",
    "## AVG LANDING RATE PLOT\n",
    "fig = plt.figure()\n",
    "ax = fig.add_subplot(111)\n",
    "\n",
    "\n",
    "cmap = mpl.cm.Greys\n",
    "norm = mpl.colors.Normalize(vmin=0,vmax=1)\n",
    "\n",
    "ax.scatter(df_temp['RREV_threshold'],df_temp['My_d'],c=df_temp['landing_rate'],cmap=cmap)\n",
    "fig.colorbar(mpl.cm.ScalarMappable(norm=norm, cmap=cmap),label='Landing %')\n",
    "\n",
    "ax.grid()\n",
    "ax.set_xlim(2,7)\n",
    "ax.set_ylim(0,10)\n",
    "ax.hlines(7.77,2,7)\n",
    "ax.text(2.05,8.0,'Motors Maxed Out')\n",
    "\n",
    "ax.set_xlabel('RREV_thr')\n",
    "ax.set_ylabel('My_d [N*mm]')\n",
    "ax.set_title('Policy: My_d vs RREV_thr')\n",
    "\n",
    "plt.show()"
   ]
  },
  {
   "cell_type": "code",
   "execution_count": 68,
   "metadata": {},
   "outputs": [
    {
     "output_type": "display_data",
     "data": {
      "text/plain": "Canvas(toolbar=Toolbar(toolitems=[('Home', 'Reset original view', 'home', 'home'), ('Back', 'Back to previous …",
      "application/vnd.jupyter.widget-view+json": {
       "version_major": 2,
       "version_minor": 0,
       "model_id": "eb4e72b9cc7b41d2aee4e7ca8526cec1"
      }
     },
     "metadata": {}
    }
   ],
   "source": [
    "## CLEAN DATAFRAME\n",
    "df_temp = df.query(f\"My_d<={7.7}\")\n",
    "df_temp_avg = df_temp.groupby(['vz_d','vx_d']).agg([np.mean,np.std]).reset_index()\n",
    "\n",
    "## AVG LANDING RATE PLOT\n",
    "fig = plt.figure()\n",
    "ax = fig.add_subplot(111)\n",
    "\n",
    "\n",
    "cmap = mpl.cm.jet\n",
    "norm = mpl.colors.Normalize(vmin=0,vmax=3)\n",
    "\n",
    "ax.scatter(df_temp['RREV_threshold'],df_temp['My_d'],c=df_temp['vz_d'],cmap=cmap)\n",
    "fig.colorbar(mpl.cm.ScalarMappable(norm=norm, cmap=cmap),label='Vz_d')\n",
    "\n",
    "ax.grid()\n",
    "ax.set_xlim(2,7)\n",
    "ax.set_ylim(0,10)\n",
    "ax.hlines(7.77,2,7)\n",
    "ax.text(2.05,8.0,'Motors Maxed Out')\n",
    "\n",
    "ax.set_xlabel('RREV_thr')\n",
    "ax.set_ylabel('My_d [N*mm]')\n",
    "ax.set_title('Policy: My_d vs RREV_thr')\n",
    "## As Vz increases RREV_trigger decreases to preserve time to contact. It also finds a host of My_d that work and they vary because of the robustness of the legs and the fact that landing success isn't deterministic.\n",
    "plt.show()"
   ]
  },
  {
   "cell_type": "code",
   "execution_count": 69,
   "metadata": {},
   "outputs": [
    {
     "output_type": "display_data",
     "data": {
      "text/plain": "Canvas(toolbar=Toolbar(toolitems=[('Home', 'Reset original view', 'home', 'home'), ('Back', 'Back to previous …",
      "application/vnd.jupyter.widget-view+json": {
       "version_major": 2,
       "version_minor": 0,
       "model_id": "1230bdb7abe74dd5a41720e5a04d52aa"
      }
     },
     "metadata": {}
    }
   ],
   "source": [
    "## CLEAN DATAFRAME\n",
    "df_temp = df.query(f\"My_d<={7.7}\")\n",
    "df_temp_avg = df_temp.groupby(['vz_d','vx_d']).agg([np.mean,np.std]).reset_index()\n",
    "\n",
    "## AVG LANDING RATE PLOT\n",
    "fig = plt.figure()\n",
    "ax = fig.add_subplot(111,projection=\"3d\")\n",
    "\n",
    "cmap = mpl.cm.rainbow\n",
    "norm = mpl.colors.Normalize(vmin=0,vmax=1)\n",
    "\n",
    "ax.scatter(df_temp['RREV_threshold'],df_temp['vx_d'],df_temp['My_d'],c=df_temp['landing_rate'],cmap=cmap)\n",
    "fig.colorbar(mpl.cm.ScalarMappable(norm=norm, cmap=cmap),label='Landing %')\n",
    "\n",
    "ax.set_zlim(0,10)\n",
    "ax.set_xlim(2,7)\n",
    "\n",
    "ax.set_xlabel('RREV_trigger')\n",
    "ax.set_ylabel('vx_d')\n",
    "ax.set_zlabel('My_d')\n",
    "\n",
    "\n",
    "plt.show()"
   ]
  },
  {
   "cell_type": "code",
   "execution_count": 70,
   "metadata": {},
   "outputs": [
    {
     "output_type": "display_data",
     "data": {
      "text/plain": "Canvas(toolbar=Toolbar(toolitems=[('Home', 'Reset original view', 'home', 'home'), ('Back', 'Back to previous …",
      "application/vnd.jupyter.widget-view+json": {
       "version_major": 2,
       "version_minor": 0,
       "model_id": "ba93ecd26c7c4666b8376acfbf1a4d32"
      }
     },
     "metadata": {}
    }
   ],
   "source": [
    "## CLEAN DATAFRAME\n",
    "df_temp = df.query(f\"My_d<={7.7}\")\n",
    "\n",
    "## AVG LANDING RATE PLOT\n",
    "fig = plt.figure()\n",
    "ax = fig.add_subplot(111,projection=\"3d\")\n",
    "\n",
    "cmap = mpl.cm.rainbow\n",
    "norm = mpl.colors.Normalize(vmin=0,vmax=1)\n",
    "\n",
    "ax.scatter(df_temp['RREV_threshold'],df_temp['landing_rate'],df_temp['My_d'],c=df_temp['landing_rate'],cmap=cmap)\n",
    "fig.colorbar(mpl.cm.ScalarMappable(norm=norm, cmap=cmap),label='Landing %')\n",
    "\n",
    "ax.set_zlim(0,10)\n",
    "ax.set_xlim(3,7)\n",
    "\n",
    "ax.set_xlabel('RREV_trigger')\n",
    "ax.set_ylabel('Landing_Rate')\n",
    "ax.set_zlabel('My_d')\n",
    "\n",
    "\n",
    "plt.show()"
   ]
  },
  {
   "cell_type": "code",
   "execution_count": 71,
   "metadata": {},
   "outputs": [
    {
     "output_type": "display_data",
     "data": {
      "text/plain": "Canvas(toolbar=Toolbar(toolitems=[('Home', 'Reset original view', 'home', 'home'), ('Back', 'Back to previous …",
      "application/vnd.jupyter.widget-view+json": {
       "version_major": 2,
       "version_minor": 0,
       "model_id": "f4c82d77df9c4b9f8a69288ad7f01f1a"
      }
     },
     "metadata": {}
    }
   ],
   "source": [
    "fig = plt.figure()\n",
    "ax = fig.add_subplot(111,projection=\"3d\")\n",
    "\n",
    "cmap = mpl.cm.rainbow\n",
    "norm = mpl.colors.Normalize(vmin=0,vmax=1)\n",
    "\n",
    "pcm = ax.scatter(df['vx_d'],df['My_d'],df['RREV_threshold'],c=df['landing_rate'],cmap=cmap)\n",
    "fig.colorbar(mpl.cm.ScalarMappable(norm=norm, cmap=cmap),label='Landing %')\n",
    "\n",
    "# ax.set_xlim(3,7)\n",
    "# ax.set_ylim(0,-10)\n",
    "# ax.set_zlim(0,-10)\n",
    "\n",
    "ax.set_xlabel('Vx_d')\n",
    "ax.set_ylabel('OF_y_trigger')\n",
    "ax.set_zlabel('RREV_threshold')\n",
    "\n",
    "\n",
    "plt.show()"
   ]
  },
  {
   "source": [
    "# POLICY FITTING"
   ],
   "cell_type": "markdown",
   "metadata": {}
  },
  {
   "source": [
    "## RAW POLICY RELATION"
   ],
   "cell_type": "markdown",
   "metadata": {}
  },
  {
   "cell_type": "code",
   "execution_count": 72,
   "metadata": {},
   "outputs": [
    {
     "output_type": "display_data",
     "data": {
      "text/plain": "Canvas(toolbar=Toolbar(toolitems=[('Home', 'Reset original view', 'home', 'home'), ('Back', 'Back to previous …",
      "application/vnd.jupyter.widget-view+json": {
       "version_major": 2,
       "version_minor": 0,
       "model_id": "50594e9713264735960f5d37e9fd279f"
      }
     },
     "metadata": {}
    }
   ],
   "source": [
    "## CLEAN DATAFRAME\n",
    "df_temp = df.query(f\"My_d<={7.7}\") # Remove extraneous moments higher than max\n",
    "\n",
    "## PLOT DATA\n",
    "fig = plt.figure()\n",
    "ax = fig.add_subplot(111,projection=\"3d\")\n",
    "\n",
    "cmap = mpl.cm.rainbow\n",
    "norm = mpl.colors.Normalize(vmin=0,vmax=1)\n",
    "\n",
    "ax.scatter(df_temp['RREV_threshold'],df_temp['OF_y'],df_temp['My_d'],c=df_temp['landing_rate'],cmap=cmap,norm=norm)\n",
    "fig.colorbar(mpl.cm.ScalarMappable(norm=norm, cmap=cmap),label='Landing Rate')\n",
    "\n",
    "ax.set_xlim(6,2)\n",
    "ax.set_ylim(-10,0)\n",
    "ax.set_zlim(0,10)\n",
    "\n",
    "ax.set_xlabel('RREV')\n",
    "ax.set_ylabel('OF_y')\n",
    "ax.set_zlabel('My_d')\n",
    "\n",
    "ax.set_title('Raw Policy Relation')\n",
    "\n",
    "\n",
    "plt.show()\n",
    "\n",
    "# Note: the planar look to the data"
   ]
  },
  {
   "cell_type": "code",
   "execution_count": 73,
   "metadata": {},
   "outputs": [
    {
     "output_type": "display_data",
     "data": {
      "text/plain": "Canvas(toolbar=Toolbar(toolitems=[('Home', 'Reset original view', 'home', 'home'), ('Back', 'Back to previous …",
      "application/vnd.jupyter.widget-view+json": {
       "version_major": 2,
       "version_minor": 0,
       "model_id": "0c9eb10e6a674969b61ea440e51e710c"
      }
     },
     "metadata": {}
    }
   ],
   "source": [
    "## CLEAN DATAFRAME\n",
    "df_temp = df.query(f\"My_d<={7.7}\") # Remove extraneous moments higher than max\n",
    "df_temp = df_temp.query(f\"RREV_threshold>{3.5}\") # Remove outlier data\n",
    "df_temp = df_temp.query(f\"landing_rate>={0.8}\")\n",
    "\n",
    "## PLOT DATA\n",
    "fig = plt.figure()\n",
    "ax = fig.add_subplot(111,projection=\"3d\")\n",
    "\n",
    "cmap = mpl.cm.rainbow\n",
    "norm = mpl.colors.Normalize(vmin=0,vmax=1)\n",
    "\n",
    "ax.scatter(df_temp['RREV_threshold'],df_temp['OF_y'],df_temp['My_d'],c=df_temp['landing_rate'],cmap=cmap,norm=norm)\n",
    "fig.colorbar(mpl.cm.ScalarMappable(norm=norm, cmap=cmap),label='Landing Rate')\n",
    "\n",
    "ax.set_xlim(6,2)\n",
    "ax.set_ylim(-10,0)\n",
    "ax.set_zlim(0,10)\n",
    "\n",
    "ax.set_xlabel('RREV')\n",
    "ax.set_ylabel('OF_y')\n",
    "ax.set_zlabel('My_d')\n",
    "\n",
    "ax.set_title('Raw Policy Relation (LR > 80%)')\n",
    "\n",
    "\n",
    "plt.show()\n",
    "\n",
    "# Note: the planar look to the data"
   ]
  },
  {
   "cell_type": "code",
   "execution_count": 74,
   "metadata": {},
   "outputs": [
    {
     "output_type": "display_data",
     "data": {
      "text/plain": "Canvas(toolbar=Toolbar(toolitems=[('Home', 'Reset original view', 'home', 'home'), ('Back', 'Back to previous …",
      "application/vnd.jupyter.widget-view+json": {
       "version_major": 2,
       "version_minor": 0,
       "model_id": "34cd2e2af4f4459dbebc33d613f05782"
      }
     },
     "metadata": {}
    }
   ],
   "source": [
    "## CLEAN DATAFRAME\n",
    "df_temp = df.query(f\"My_d<={7.7}\") # Remove extraneous moments higher than max\n",
    "df_temp = df_temp.query(f\"RREV_threshold>{3.5}\") # Remove outlier data\n",
    "df_temp = df_temp.query(f\"landing_rate>={0.5}\")\n",
    "\n",
    "## PLOT DATA\n",
    "fig = plt.figure()\n",
    "ax = fig.add_subplot(111,projection=\"3d\")\n",
    "\n",
    "cmap = mpl.cm.rainbow\n",
    "norm = mpl.colors.Normalize(vmin=0,vmax=1)\n",
    "\n",
    "ax.scatter(df_temp['RREV_threshold'],df_temp['OF_y'],df_temp['My_d'],c=df_temp['landing_rate'],cmap=cmap,norm=norm)\n",
    "fig.colorbar(mpl.cm.ScalarMappable(norm=norm, cmap=cmap),label='Landing Rate')\n",
    "\n",
    "ax.set_xlim(6,2)\n",
    "ax.set_ylim(-10,0)\n",
    "ax.set_zlim(0,10)\n",
    "\n",
    "ax.set_xlabel('RREV')\n",
    "ax.set_ylabel('OF_y')\n",
    "ax.set_zlabel('My_d')\n",
    "\n",
    "ax.set_title('Raw Policy Relation (LR > 50%)')\n",
    "\n",
    "\n",
    "plt.show()\n",
    "\n",
    "# Note: the planar look to the data"
   ]
  },
  {
   "source": [
    "# LINEAR MODEL FIT"
   ],
   "cell_type": "markdown",
   "metadata": {}
  },
  {
   "source": [
    "## Regression with y-based loss"
   ],
   "cell_type": "markdown",
   "metadata": {}
  },
  {
   "cell_type": "code",
   "execution_count": 75,
   "metadata": {},
   "outputs": [
    {
     "output_type": "stream",
     "name": "stdout",
     "text": [
      "Equation: My_d = -9.74 + 3.29*RREV + 0.26*OF_y \n\n"
     ]
    },
    {
     "output_type": "display_data",
     "data": {
      "text/plain": "Canvas(toolbar=Toolbar(toolitems=[('Home', 'Reset original view', 'home', 'home'), ('Back', 'Back to previous …",
      "application/vnd.jupyter.widget-view+json": {
       "version_major": 2,
       "version_minor": 0,
       "model_id": "f66fb5409310411fbe96dfdf62789fc6"
      }
     },
     "metadata": {}
    },
    {
     "output_type": "execute_result",
     "data": {
      "text/plain": [
       "<class 'statsmodels.iolib.summary.Summary'>\n",
       "\"\"\"\n",
       "                            OLS Regression Results                            \n",
       "==============================================================================\n",
       "Dep. Variable:                   My_d   R-squared:                       0.359\n",
       "Model:                            OLS   Adj. R-squared:                  0.355\n",
       "Method:                 Least Squares   F-statistic:                     87.52\n",
       "Date:                Sun, 07 Feb 2021   Prob (F-statistic):           6.44e-31\n",
       "Time:                        08:43:42   Log-Likelihood:                -519.50\n",
       "No. Observations:                 316   AIC:                             1045.\n",
       "Df Residuals:                     313   BIC:                             1056.\n",
       "Df Model:                           2                                         \n",
       "Covariance Type:            nonrobust                                         \n",
       "==================================================================================\n",
       "                     coef    std err          t      P>|t|      [0.025      0.975]\n",
       "----------------------------------------------------------------------------------\n",
       "const             -9.7356      1.106     -8.805      0.000     -11.911      -7.560\n",
       "RREV_threshold     3.2855      0.254     12.919      0.000       2.785       3.786\n",
       "OF_y               0.2565      0.050      5.105      0.000       0.158       0.355\n",
       "==============================================================================\n",
       "Omnibus:                        0.127   Durbin-Watson:                   1.835\n",
       "Prob(Omnibus):                  0.939   Jarque-Bera (JB):                0.217\n",
       "Skew:                          -0.040   Prob(JB):                        0.897\n",
       "Kurtosis:                       2.899   Cond. No.                         94.4\n",
       "==============================================================================\n",
       "\n",
       "Notes:\n",
       "[1] Standard Errors assume that the covariance matrix of the errors is correctly specified.\n",
       "\"\"\""
      ],
      "text/html": "<table class=\"simpletable\">\n<caption>OLS Regression Results</caption>\n<tr>\n  <th>Dep. Variable:</th>          <td>My_d</td>       <th>  R-squared:         </th> <td>   0.359</td>\n</tr>\n<tr>\n  <th>Model:</th>                   <td>OLS</td>       <th>  Adj. R-squared:    </th> <td>   0.355</td>\n</tr>\n<tr>\n  <th>Method:</th>             <td>Least Squares</td>  <th>  F-statistic:       </th> <td>   87.52</td>\n</tr>\n<tr>\n  <th>Date:</th>             <td>Sun, 07 Feb 2021</td> <th>  Prob (F-statistic):</th> <td>6.44e-31</td>\n</tr>\n<tr>\n  <th>Time:</th>                 <td>08:43:42</td>     <th>  Log-Likelihood:    </th> <td> -519.50</td>\n</tr>\n<tr>\n  <th>No. Observations:</th>      <td>   316</td>      <th>  AIC:               </th> <td>   1045.</td>\n</tr>\n<tr>\n  <th>Df Residuals:</th>          <td>   313</td>      <th>  BIC:               </th> <td>   1056.</td>\n</tr>\n<tr>\n  <th>Df Model:</th>              <td>     2</td>      <th>                     </th>     <td> </td>   \n</tr>\n<tr>\n  <th>Covariance Type:</th>      <td>nonrobust</td>    <th>                     </th>     <td> </td>   \n</tr>\n</table>\n<table class=\"simpletable\">\n<tr>\n         <td></td>           <th>coef</th>     <th>std err</th>      <th>t</th>      <th>P>|t|</th>  <th>[0.025</th>    <th>0.975]</th>  \n</tr>\n<tr>\n  <th>const</th>          <td>   -9.7356</td> <td>    1.106</td> <td>   -8.805</td> <td> 0.000</td> <td>  -11.911</td> <td>   -7.560</td>\n</tr>\n<tr>\n  <th>RREV_threshold</th> <td>    3.2855</td> <td>    0.254</td> <td>   12.919</td> <td> 0.000</td> <td>    2.785</td> <td>    3.786</td>\n</tr>\n<tr>\n  <th>OF_y</th>           <td>    0.2565</td> <td>    0.050</td> <td>    5.105</td> <td> 0.000</td> <td>    0.158</td> <td>    0.355</td>\n</tr>\n</table>\n<table class=\"simpletable\">\n<tr>\n  <th>Omnibus:</th>       <td> 0.127</td> <th>  Durbin-Watson:     </th> <td>   1.835</td>\n</tr>\n<tr>\n  <th>Prob(Omnibus):</th> <td> 0.939</td> <th>  Jarque-Bera (JB):  </th> <td>   0.217</td>\n</tr>\n<tr>\n  <th>Skew:</th>          <td>-0.040</td> <th>  Prob(JB):          </th> <td>   0.897</td>\n</tr>\n<tr>\n  <th>Kurtosis:</th>      <td> 2.899</td> <th>  Cond. No.          </th> <td>    94.4</td>\n</tr>\n</table><br/><br/>Notes:<br/>[1] Standard Errors assume that the covariance matrix of the errors is correctly specified."
     },
     "metadata": {},
     "execution_count": 75
    }
   ],
   "source": [
    "## CLEAN DATAFRAME\n",
    "df_clean = df.query(f\"My_d<={7.7}\") # Remove extraneous moments higher than max\n",
    "df_clean = df_clean.query(f\"RREV_threshold>{3.5}\") # Remove outlier data\n",
    "df_reg1 = df_clean.query(f\"landing_rate>={0.6}\")\n",
    "\n",
    "\n",
    "X = df_reg1[['RREV_threshold','OF_y']]\n",
    "Y = df_reg1['My_d']\n",
    "\n",
    "reg = linear_model.LinearRegression(normalize=True)\n",
    "reg.fit(X,Y)\n",
    "intercept = reg.intercept_\n",
    "coeffs = reg.coef_\n",
    "\n",
    "print(f\"Equation: My_d = {intercept:.2f} + {coeffs[0]:.2f}*RREV + {coeffs[1]:.2f}*OF_y \\n\")\n",
    "\n",
    "\n",
    "## PLOT DATA\n",
    "fig = plt.figure()\n",
    "ax = fig.add_subplot(111,projection=\"3d\")\n",
    "\n",
    "\n",
    "My_reg = intercept + coeffs[0]*df_reg1['RREV_threshold'] + coeffs[1]*df_reg1['OF_y']\n",
    "ax.plot_trisurf(df_reg1['RREV_threshold'],df_reg1['OF_y'],My_reg,label='Linear_Regression',color='blue',zorder=2)\n",
    "\n",
    "\n",
    "cmap = mpl.cm.rainbow\n",
    "norm = mpl.colors.Normalize(vmin=0,vmax=1)\n",
    "fig.colorbar(mpl.cm.ScalarMappable(norm=norm, cmap=cmap),label='Landing Rate')\n",
    "\n",
    "ax.scatter(df_reg1['RREV_threshold'],df_reg1['OF_y'],df_reg1['My_d'],c=df_reg1['landing_rate'],cmap=cmap,norm=norm,zorder=1)\n",
    "\n",
    "\n",
    "\n",
    "ax.set_xlim(6,2)\n",
    "ax.set_ylim(-10,0)\n",
    "ax.set_zlim(0,10)\n",
    "\n",
    "\n",
    "ax.set_xlabel('RREV')\n",
    "ax.set_ylabel('OF_y')\n",
    "ax.set_zlabel('My_d')\n",
    "\n",
    "\n",
    "plt.show()\n",
    "\n",
    "## Regression Analysis\n",
    "\n",
    "import statsmodels.api as ssm       # for detail description of linear coefficients, intercepts, deviations, and many more\n",
    "X=ssm.add_constant(X)               # to add constant value in the model\n",
    "model= ssm.OLS(Y,X).fit()           # fitting the model\n",
    "predictions= model.summary()        # summary of the model\n",
    "predictions\n",
    "\n",
    "\n",
    "\n"
   ]
  },
  {
   "cell_type": "code",
   "execution_count": 76,
   "metadata": {},
   "outputs": [],
   "source": [
    "# def r_squared(y, y_hat): #Manual R^2 value\n",
    "#     y_bar = y.mean()\n",
    "#     ss_tot = ((y-y_bar)**2).sum()\n",
    "#     ss_res = ((y-y_hat)**2).sum()\n",
    "#     return 1 - (ss_res/ss_tot)\n",
    "\n",
    "# R2 = r_squared(df_reg['My_d'],My_reg)\n",
    "# print(f\"R^2: {R2:.3f}\")"
   ]
  },
  {
   "source": [
    "## Regression with x-based loss\n"
   ],
   "cell_type": "markdown",
   "metadata": {}
  },
  {
   "cell_type": "code",
   "execution_count": 77,
   "metadata": {},
   "outputs": [
    {
     "output_type": "stream",
     "name": "stdout",
     "text": [
      "Equation: RREV_reg = 3.84 + 0.11*My_d + -0.10*OF_y \n\n"
     ]
    },
    {
     "output_type": "display_data",
     "data": {
      "text/plain": "Canvas(toolbar=Toolbar(toolitems=[('Home', 'Reset original view', 'home', 'home'), ('Back', 'Back to previous …",
      "application/vnd.jupyter.widget-view+json": {
       "version_major": 2,
       "version_minor": 0,
       "model_id": "a239c7941ce44a09b064a59cdb73900a"
      }
     },
     "metadata": {}
    },
    {
     "output_type": "execute_result",
     "data": {
      "text/plain": [
       "<class 'statsmodels.iolib.summary.Summary'>\n",
       "\"\"\"\n",
       "                            OLS Regression Results                            \n",
       "==============================================================================\n",
       "Dep. Variable:         RREV_threshold   R-squared:                       0.564\n",
       "Model:                            OLS   Adj. R-squared:                  0.561\n",
       "Method:                 Least Squares   F-statistic:                     202.4\n",
       "Date:                Sun, 07 Feb 2021   Prob (F-statistic):           3.86e-57\n",
       "Time:                        08:43:44   Log-Likelihood:                 23.269\n",
       "No. Observations:                 316   AIC:                            -40.54\n",
       "Df Residuals:                     313   BIC:                            -29.27\n",
       "Df Model:                           2                                         \n",
       "Covariance Type:            nonrobust                                         \n",
       "==============================================================================\n",
       "                 coef    std err          t      P>|t|      [0.025      0.975]\n",
       "------------------------------------------------------------------------------\n",
       "const          3.8399      0.045     84.993      0.000       3.751       3.929\n",
       "My_d           0.1059      0.008     12.919      0.000       0.090       0.122\n",
       "OF_y          -0.1013      0.007    -13.627      0.000      -0.116      -0.087\n",
       "==============================================================================\n",
       "Omnibus:                        3.289   Durbin-Watson:                   1.888\n",
       "Prob(Omnibus):                  0.193   Jarque-Bera (JB):                3.067\n",
       "Skew:                           0.175   Prob(JB):                        0.216\n",
       "Kurtosis:                       3.332   Cond. No.                         22.0\n",
       "==============================================================================\n",
       "\n",
       "Notes:\n",
       "[1] Standard Errors assume that the covariance matrix of the errors is correctly specified.\n",
       "\"\"\""
      ],
      "text/html": "<table class=\"simpletable\">\n<caption>OLS Regression Results</caption>\n<tr>\n  <th>Dep. Variable:</th>     <td>RREV_threshold</td>  <th>  R-squared:         </th> <td>   0.564</td>\n</tr>\n<tr>\n  <th>Model:</th>                   <td>OLS</td>       <th>  Adj. R-squared:    </th> <td>   0.561</td>\n</tr>\n<tr>\n  <th>Method:</th>             <td>Least Squares</td>  <th>  F-statistic:       </th> <td>   202.4</td>\n</tr>\n<tr>\n  <th>Date:</th>             <td>Sun, 07 Feb 2021</td> <th>  Prob (F-statistic):</th> <td>3.86e-57</td>\n</tr>\n<tr>\n  <th>Time:</th>                 <td>08:43:44</td>     <th>  Log-Likelihood:    </th> <td>  23.269</td>\n</tr>\n<tr>\n  <th>No. Observations:</th>      <td>   316</td>      <th>  AIC:               </th> <td>  -40.54</td>\n</tr>\n<tr>\n  <th>Df Residuals:</th>          <td>   313</td>      <th>  BIC:               </th> <td>  -29.27</td>\n</tr>\n<tr>\n  <th>Df Model:</th>              <td>     2</td>      <th>                     </th>     <td> </td>   \n</tr>\n<tr>\n  <th>Covariance Type:</th>      <td>nonrobust</td>    <th>                     </th>     <td> </td>   \n</tr>\n</table>\n<table class=\"simpletable\">\n<tr>\n    <td></td>       <th>coef</th>     <th>std err</th>      <th>t</th>      <th>P>|t|</th>  <th>[0.025</th>    <th>0.975]</th>  \n</tr>\n<tr>\n  <th>const</th> <td>    3.8399</td> <td>    0.045</td> <td>   84.993</td> <td> 0.000</td> <td>    3.751</td> <td>    3.929</td>\n</tr>\n<tr>\n  <th>My_d</th>  <td>    0.1059</td> <td>    0.008</td> <td>   12.919</td> <td> 0.000</td> <td>    0.090</td> <td>    0.122</td>\n</tr>\n<tr>\n  <th>OF_y</th>  <td>   -0.1013</td> <td>    0.007</td> <td>  -13.627</td> <td> 0.000</td> <td>   -0.116</td> <td>   -0.087</td>\n</tr>\n</table>\n<table class=\"simpletable\">\n<tr>\n  <th>Omnibus:</th>       <td> 3.289</td> <th>  Durbin-Watson:     </th> <td>   1.888</td>\n</tr>\n<tr>\n  <th>Prob(Omnibus):</th> <td> 0.193</td> <th>  Jarque-Bera (JB):  </th> <td>   3.067</td>\n</tr>\n<tr>\n  <th>Skew:</th>          <td> 0.175</td> <th>  Prob(JB):          </th> <td>   0.216</td>\n</tr>\n<tr>\n  <th>Kurtosis:</th>      <td> 3.332</td> <th>  Cond. No.          </th> <td>    22.0</td>\n</tr>\n</table><br/><br/>Notes:<br/>[1] Standard Errors assume that the covariance matrix of the errors is correctly specified."
     },
     "metadata": {},
     "execution_count": 77
    }
   ],
   "source": [
    "## CLEAN DATAFRAME\n",
    "df_clean = df.query(f\"My_d<={7.7}\") # Remove extraneous moments higher than max\n",
    "df_clean = df_clean.query(f\"RREV_threshold>{3.5}\") # Remove outlier data\n",
    "df_reg1 = df_clean.query(f\"landing_rate>={0.6}\")\n",
    "\n",
    "\n",
    "X = df_reg1[['My_d','OF_y']]\n",
    "Y = df_reg1['RREV_threshold']\n",
    "\n",
    "reg = linear_model.LinearRegression(normalize=True)\n",
    "reg.fit(X,Y)\n",
    "intercept = reg.intercept_\n",
    "coeffs = reg.coef_\n",
    "\n",
    "print(f\"Equation: RREV_reg = {intercept:.2f} + {coeffs[0]:.2f}*My_d + {coeffs[1]:.2f}*OF_y \\n\")\n",
    "\n",
    "\n",
    "## PLOT DATA\n",
    "fig = plt.figure()\n",
    "ax = fig.add_subplot(111,projection=\"3d\")\n",
    "\n",
    "\n",
    "RREV_reg = intercept + coeffs[0]*df_reg1['My_d'] + coeffs[1]*df_reg1['OF_y']\n",
    "ax.plot_trisurf(RREV_reg,df_reg1['OF_y'],df_reg1['My_d'],label='Linear_Regression',color='blue',zorder=2)\n",
    "\n",
    "\n",
    "cmap = mpl.cm.rainbow\n",
    "norm = mpl.colors.Normalize(vmin=0,vmax=5)\n",
    "fig.colorbar(mpl.cm.ScalarMappable(norm=norm, cmap=cmap),label='Landing Rate')\n",
    "\n",
    "ax.scatter(df_reg1['RREV_threshold'],df_reg1['OF_y'],df_reg1['My_d'],c=df_reg1['vz_d'],cmap=cmap,norm=norm,zorder=1)\n",
    "\n",
    "\n",
    "\n",
    "ax.set_xlim(6,2)\n",
    "ax.set_ylim(-10,0)\n",
    "ax.set_zlim(0,10)\n",
    "\n",
    "\n",
    "ax.set_xlabel('RREV')\n",
    "ax.set_ylabel('OF_y')\n",
    "ax.set_zlabel('My_d')\n",
    "\n",
    "\n",
    "plt.show()\n",
    "\n",
    "## Regression Analysis\n",
    "\n",
    "import statsmodels.api as ssm       # for detail description of linear coefficients, intercepts, deviations, and many more\n",
    "X=ssm.add_constant(X)               # to add constant value in the model\n",
    "model= ssm.OLS(Y,X).fit()           # fitting the model\n",
    "predictions= model.summary()        # summary of the model\n",
    "predictions\n",
    "\n",
    "\n",
    "\n"
   ]
  },
  {
   "cell_type": "code",
   "execution_count": null,
   "metadata": {},
   "outputs": [],
   "source": []
  },
  {
   "cell_type": "code",
   "execution_count": 78,
   "metadata": {},
   "outputs": [
    {
     "output_type": "display_data",
     "data": {
      "text/plain": "Canvas(toolbar=Toolbar(toolitems=[('Home', 'Reset original view', 'home', 'home'), ('Back', 'Back to previous …",
      "application/vnd.jupyter.widget-view+json": {
       "version_major": 2,
       "version_minor": 0,
       "model_id": "7ab73a57d7b64b7a9664041dfd120f80"
      }
     },
     "metadata": {}
    }
   ],
   "source": [
    "## PLOT FULL DATA\n",
    "fig = plt.figure()\n",
    "ax = fig.add_subplot(111,projection=\"3d\")\n",
    "\n",
    "\n",
    "ax.plot_trisurf(RREV_reg,df_reg1['OF_y'],df_reg1['My_d'],label='Linear_Regression',color='blue',zorder=2)\n",
    "\n",
    "\n",
    "cmap = mpl.cm.rainbow\n",
    "norm = mpl.colors.Normalize(vmin=0,vmax=1)\n",
    "fig.colorbar(mpl.cm.ScalarMappable(norm=norm, cmap=cmap),label='Landing Rate')\n",
    "\n",
    "ax.scatter(df_clean['RREV_threshold'],df_clean['OF_y'],df_clean['My_d'],c=df_clean['landing_rate'],cmap=cmap,norm=norm,zorder=1)\n",
    "\n",
    "\n",
    "\n",
    "ax.set_xlim(6,2)\n",
    "ax.set_ylim(-10,0)\n",
    "ax.set_zlim(0,10)\n",
    "\n",
    "\n",
    "ax.set_xlabel('RREV')\n",
    "ax.set_ylabel('OF_y')\n",
    "ax.set_zlabel('My_d')\n",
    "\n",
    "\n",
    "plt.show()\n",
    "\n"
   ]
  },
  {
   "cell_type": "code",
   "execution_count": 79,
   "metadata": {},
   "outputs": [
    {
     "output_type": "display_data",
     "data": {
      "text/plain": "Canvas(toolbar=Toolbar(toolitems=[('Home', 'Reset original view', 'home', 'home'), ('Back', 'Back to previous …",
      "application/vnd.jupyter.widget-view+json": {
       "version_major": 2,
       "version_minor": 0,
       "model_id": "cc478a53e17242739b5adffaa3cae0e3"
      }
     },
     "metadata": {}
    },
    {
     "output_type": "stream",
     "name": "stdout",
     "text": [
      "R^2: 0.483\nR^2: 0.598\nR^2: 0.577\nR^2: 0.625\n"
     ]
    }
   ],
   "source": [
    "## CLEAN DATAFRAME\n",
    "df_clean = df.query(f\"My_d<={7.7}\") # Remove extraneous moments higher than max\n",
    "df_clean = df_clean.query(f\"RREV_threshold>{3.5}\") # Remove outlier data\n",
    "df_reg1 = df_clean.query(f\"landing_rate>={0.8}\")\n",
    "\n",
    "\n",
    "fig = plt.figure()\n",
    "ax = fig.add_subplot(111,projection=\"3d\")\n",
    "\n",
    "\n",
    "for ii in np.arange(1,0.2,-.2):\n",
    "    df_reg1 = df.query(f\"landing_rate<={ii} & landing_rate>{ii-.2} & RREV_threshold>{3.5}\")\n",
    "    \n",
    "    X = df_reg1[['My_d','OF_y']]\n",
    "    Y = df_reg1['RREV_threshold']\n",
    "\n",
    "    reg2 = linear_model.LinearRegression(normalize=True)\n",
    "    reg2.fit(X,Y)\n",
    "\n",
    "    intercept = reg2.intercept_\n",
    "    coeffs = reg2.coef_\n",
    "\n",
    "    # print(intercept)\n",
    "    # print(coeffs)\n",
    "\n",
    "    RREV_reg = intercept + coeffs[0]*df_reg1['My_d'] + coeffs[1]*df_reg1['OF_y']\n",
    "    ax.plot_trisurf(RREV_reg,df_reg1['OF_y'],df_reg1['My_d'],label='Linear_Regression')\n",
    "\n",
    "    R2 = r_squared(df_reg1['RREV_threshold'],RREV_reg)\n",
    "    print(f\"R^2: {R2:.3f}\")\n",
    "\n",
    "ax.set_xlim(6,3.5)\n",
    "ax.set_ylim(-10,0)\n",
    "ax.set_zlim(0,10)\n",
    "\n",
    "\n",
    "ax.set_xlabel('RREV')\n",
    "ax.set_ylabel('OF_y')\n",
    "ax.set_zlabel('My_d')\n",
    "\n",
    "\n",
    "plt.show()\n",
    "\n"
   ]
  },
  {
   "cell_type": "code",
   "execution_count": 79,
   "metadata": {},
   "outputs": [],
   "source": [
    "\n"
   ]
  },
  {
   "cell_type": "code",
   "execution_count": 80,
   "metadata": {},
   "outputs": [
    {
     "output_type": "stream",
     "name": "stdout",
     "text": [
      "Beta: [  9.72104614   0.95543735 -37.01514254]\nBeta Std Error: [1.00122426 0.16283671 4.25435866]\nBeta Covariance: [[ 22.9145019    2.73908881 -96.83460866]\n [  2.73908881   0.60611124 -10.52538444]\n [-96.83460866 -10.52538444 413.72893526]]\nResidual Variance: 0.04374740579426504\nInverse Condition #: 0.003438928922915538\nReason(s) for Halting:\n  Sum of squares convergence\n"
     ]
    },
    {
     "output_type": "display_data",
     "data": {
      "text/plain": "Canvas(toolbar=Toolbar(toolitems=[('Home', 'Reset original view', 'home', 'home'), ('Back', 'Back to previous …",
      "application/vnd.jupyter.widget-view+json": {
       "version_major": 2,
       "version_minor": 0,
       "model_id": "2b247464cc0847cea4f6206b85142b87"
      }
     },
     "metadata": {}
    }
   ],
   "source": [
    "import scipy.odr\n",
    "\n",
    "## CLEAN DATAFRAME\n",
    "df_clean = df.query(f\"My_d<={7.7}\") # Remove extraneous moments higher than max\n",
    "df_clean = df_clean.query(f\"RREV_threshold>{3.5}\") # Remove outlier data\n",
    "df_reg1 = df_clean.query(f\"landing_rate>={0.8}\")\n",
    "\n",
    "\n",
    "# X = df_reg1[['My_d','OF_y']]\n",
    "x1 = df_reg1['RREV_threshold'].to_numpy()\n",
    "x2 = df_reg1['OF_y'].to_numpy()\n",
    "X = np.row_stack( (x1, x2) )\n",
    "\n",
    "Y = df_reg1['My_d'].to_numpy()\n",
    "\n",
    "def linfit(beta,x):\n",
    "    return beta[0]*x[0] + beta[1]*x[1] + beta[2]\n",
    "\n",
    "linmod = scipy.odr.Model(linfit)\n",
    "data = scipy.odr.Data(X,Y)\n",
    "odrfit = scipy.odr.ODR(data,linmod,beta0 = [-0.1,0.1,4.0])\n",
    "odrres = odrfit.run()\n",
    "odrres.pprint()\n",
    "\n",
    "\n",
    "\n",
    "\n",
    "## PLOT DATA\n",
    "fig = plt.figure()\n",
    "ax = fig.add_subplot(111,projection=\"3d\")\n",
    "\n",
    "\n",
    "My_reg = odrres.beta[0]*df_reg1['RREV_threshold'] + odrres.beta[1]*df_reg1['OF_y'] + odrres.beta[2]\n",
    "ax.plot_trisurf(df_reg1['RREV_threshold'],df_reg1['OF_y'],My_reg,label='Linear_Regression',color='blue',zorder=2)\n",
    "\n",
    "\n",
    "cmap = mpl.cm.rainbow\n",
    "norm = mpl.colors.Normalize(vmin=0,vmax=1)\n",
    "fig.colorbar(mpl.cm.ScalarMappable(norm=norm, cmap=cmap),label='Landing Rate')\n",
    "\n",
    "ax.scatter(df_reg1['RREV_threshold'],df_reg1['OF_y'],df_reg1['My_d'],c=df_reg1['landing_rate'],cmap=cmap,norm=norm,zorder=1)\n",
    "\n",
    "\n",
    "\n",
    "ax.set_xlim(6,2)\n",
    "ax.set_ylim(-10,0)\n",
    "ax.set_zlim(0,10)\n",
    "\n",
    "\n",
    "ax.set_xlabel('RREV')\n",
    "ax.set_ylabel('OF_y')\n",
    "ax.set_zlabel('My_d')\n",
    "\n",
    "\n",
    "plt.show()\n"
   ]
  },
  {
   "cell_type": "code",
   "execution_count": null,
   "metadata": {},
   "outputs": [],
   "source": []
  },
  {
   "cell_type": "code",
   "execution_count": null,
   "metadata": {},
   "outputs": [],
   "source": []
  }
 ]
}