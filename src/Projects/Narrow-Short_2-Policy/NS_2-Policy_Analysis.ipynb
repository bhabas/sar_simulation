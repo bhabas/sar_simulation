{
 "metadata": {
  "language_info": {
   "codemirror_mode": {
    "name": "ipython",
    "version": 3
   },
   "file_extension": ".py",
   "mimetype": "text/x-python",
   "name": "python",
   "nbconvert_exporter": "python",
   "pygments_lexer": "ipython3",
   "version": "3.8.5-final"
  },
  "orig_nbformat": 2,
  "kernelspec": {
   "name": "python38564bit0282941c0ba945238a13db8c20574d9c",
   "display_name": "Python 3.8.5 64-bit",
   "language": "python"
  }
 },
 "nbformat": 4,
 "nbformat_minor": 2,
 "cells": [
  {
   "cell_type": "code",
   "execution_count": 1,
   "metadata": {},
   "outputs": [],
   "source": [
    "## IMPORT MODULES\n",
    "import pandas as pd\n",
    "import numpy as np"
   ]
  },
  {
   "cell_type": "code",
   "execution_count": 2,
   "metadata": {},
   "outputs": [],
   "source": [
    "## IMPORT PLOTTING MODULES\n",
    "import matplotlib.pyplot as plt\n",
    "from mpl_toolkits import mplot3d\n",
    "import matplotlib as mpl\n",
    "from matplotlib import cm\n",
    "%matplotlib widget"
   ]
  },
  {
   "cell_type": "code",
   "execution_count": 3,
   "metadata": {},
   "outputs": [],
   "source": [
    "## FULL DATAFRAME\n",
    "df_raw = pd.read_csv(\"NS_2-Policy_Summary.csv\")\n",
    "df_raw = df_raw.drop(df_raw[\n",
    "    (df_raw['landing_rate']<=0.1) & \n",
    "    (df_raw['vz_d']>=2.75)\n",
    "    ].index)\n",
    "\n",
    "df_raw = df_raw.drop(df_raw[\n",
    "    (df_raw['landing_rate']<=0.1) & \n",
    "    (df_raw['vx_d']>=1.0)\n",
    "    ].index)\n",
    "\n",
    "\n",
    "\n",
    "df_raw_avg = df_raw.groupby(['vz_d','vx_d']).agg([np.mean,np.std]).reset_index()\n",
    "\n",
    "df = df_raw\n",
    "df['My_d'] = df['My_d'].apply(lambda x: np.abs(x))\n",
    "df = df.drop(df[df['My_d']>=7.7].index)\n",
    "\n",
    "df = df.dropna()\n",
    "\n",
    "## AVERAGED DATAFRAME\n",
    "df_avg = df.groupby(['vz_d','vx_d']).agg([np.mean,np.std]).reset_index()"
   ]
  },
  {
   "cell_type": "code",
   "execution_count": 4,
   "metadata": {},
   "outputs": [
    {
     "output_type": "execute_result",
     "data": {
      "text/plain": [
       "     vz_d  vx_d  trial_num  landing_rate  RREV_threshold    G1  RREV_sig  \\\n",
       "4    1.75  0.00          4      0.166667            4.75  5.48      0.01   \n",
       "5    1.75  0.00          5      0.041667            4.71  5.40      0.00   \n",
       "6    1.75  0.25          0      0.125000            4.77  6.28      0.03   \n",
       "10   1.75  0.25          4      0.117647            5.05  2.93      0.00   \n",
       "11   1.75  0.25          5      0.066667            5.04  2.95      0.00   \n",
       "..    ...   ...        ...           ...             ...   ...       ...   \n",
       "687  4.00  2.75          0      1.000000            3.09  7.05      0.00   \n",
       "688  4.00  2.75          1      0.714286            5.30  6.64      0.01   \n",
       "689  4.00  2.75          2      0.916667            5.03  6.53      0.06   \n",
       "690  4.00  2.75          3      0.913043            3.99  2.13      0.00   \n",
       "691  4.00  2.75          4      0.833333            5.35  6.77      0.00   \n",
       "\n",
       "     G1_sig  RREV_trigger      OF_y      My_d  impact_eul  impact_tdelta  \\\n",
       "4      0.01      5.342250  0.000000  5.485500 -103.875433       0.193500   \n",
       "5      0.04      4.942000  0.000000  5.424000 -163.300834       0.226000   \n",
       "6      0.00      4.883000 -0.621000  6.281000 -160.017116       0.212000   \n",
       "10     0.00      5.681500 -0.722000  2.931000  -95.386142       0.235000   \n",
       "11     0.00      5.732000 -0.729000  2.950000  -95.356706       0.232000   \n",
       "..      ...           ...       ...       ...         ...            ...   \n",
       "687    2.74      3.306500 -2.166500  7.220500 -117.505141       0.414000   \n",
       "688    0.01      5.751733 -3.742467  6.643333 -130.760512       0.189467   \n",
       "689    0.25      5.593409 -3.649273  6.652909 -129.975835       0.193364   \n",
       "690    0.05      4.211286 -2.742381  2.133095 -137.563149       0.307619   \n",
       "691    0.00      5.739000 -3.747450  6.771000 -133.279109       0.180900   \n",
       "\n",
       "    alpha_mu alpha_sigma       mu_ini  sigma_ini  \n",
       "4    [0. 0.]     [0. 0.]    [3.4 4.9]  [1.5 1.5]  \n",
       "5    [0. 0.]     [0. 0.]  [6.06 3.16]  [1.5 1.5]  \n",
       "6    [0. 0.]     [0. 0.]  [3.33 5.84]  [1.5 1.5]  \n",
       "10   [0. 0.]     [0. 0.]  [2.08 2.12]  [1.5 1.5]  \n",
       "11   [0. 0.]     [0. 0.]  [3.78 2.44]  [1.5 1.5]  \n",
       "..       ...         ...          ...        ...  \n",
       "687  [0. 0.]     [0. 0.]  [2.1  5.48]  [1.5 1.5]  \n",
       "688  [0. 0.]     [0. 0.]  [4.27 5.64]  [1.5 1.5]  \n",
       "689  [0. 0.]     [0. 0.]  [1.58 6.99]  [1.5 1.5]  \n",
       "690  [0. 0.]     [0. 0.]  [4.75 2.4 ]  [1.5 1.5]  \n",
       "691  [0. 0.]     [0. 0.]  [1.55 6.12]  [1.5 1.5]  \n",
       "\n",
       "[500 rows x 17 columns]"
      ],
      "text/html": "<div>\n<style scoped>\n    .dataframe tbody tr th:only-of-type {\n        vertical-align: middle;\n    }\n\n    .dataframe tbody tr th {\n        vertical-align: top;\n    }\n\n    .dataframe thead th {\n        text-align: right;\n    }\n</style>\n<table border=\"1\" class=\"dataframe\">\n  <thead>\n    <tr style=\"text-align: right;\">\n      <th></th>\n      <th>vz_d</th>\n      <th>vx_d</th>\n      <th>trial_num</th>\n      <th>landing_rate</th>\n      <th>RREV_threshold</th>\n      <th>G1</th>\n      <th>RREV_sig</th>\n      <th>G1_sig</th>\n      <th>RREV_trigger</th>\n      <th>OF_y</th>\n      <th>My_d</th>\n      <th>impact_eul</th>\n      <th>impact_tdelta</th>\n      <th>alpha_mu</th>\n      <th>alpha_sigma</th>\n      <th>mu_ini</th>\n      <th>sigma_ini</th>\n    </tr>\n  </thead>\n  <tbody>\n    <tr>\n      <th>4</th>\n      <td>1.75</td>\n      <td>0.00</td>\n      <td>4</td>\n      <td>0.166667</td>\n      <td>4.75</td>\n      <td>5.48</td>\n      <td>0.01</td>\n      <td>0.01</td>\n      <td>5.342250</td>\n      <td>0.000000</td>\n      <td>5.485500</td>\n      <td>-103.875433</td>\n      <td>0.193500</td>\n      <td>[0. 0.]</td>\n      <td>[0. 0.]</td>\n      <td>[3.4 4.9]</td>\n      <td>[1.5 1.5]</td>\n    </tr>\n    <tr>\n      <th>5</th>\n      <td>1.75</td>\n      <td>0.00</td>\n      <td>5</td>\n      <td>0.041667</td>\n      <td>4.71</td>\n      <td>5.40</td>\n      <td>0.00</td>\n      <td>0.04</td>\n      <td>4.942000</td>\n      <td>0.000000</td>\n      <td>5.424000</td>\n      <td>-163.300834</td>\n      <td>0.226000</td>\n      <td>[0. 0.]</td>\n      <td>[0. 0.]</td>\n      <td>[6.06 3.16]</td>\n      <td>[1.5 1.5]</td>\n    </tr>\n    <tr>\n      <th>6</th>\n      <td>1.75</td>\n      <td>0.25</td>\n      <td>0</td>\n      <td>0.125000</td>\n      <td>4.77</td>\n      <td>6.28</td>\n      <td>0.03</td>\n      <td>0.00</td>\n      <td>4.883000</td>\n      <td>-0.621000</td>\n      <td>6.281000</td>\n      <td>-160.017116</td>\n      <td>0.212000</td>\n      <td>[0. 0.]</td>\n      <td>[0. 0.]</td>\n      <td>[3.33 5.84]</td>\n      <td>[1.5 1.5]</td>\n    </tr>\n    <tr>\n      <th>10</th>\n      <td>1.75</td>\n      <td>0.25</td>\n      <td>4</td>\n      <td>0.117647</td>\n      <td>5.05</td>\n      <td>2.93</td>\n      <td>0.00</td>\n      <td>0.00</td>\n      <td>5.681500</td>\n      <td>-0.722000</td>\n      <td>2.931000</td>\n      <td>-95.386142</td>\n      <td>0.235000</td>\n      <td>[0. 0.]</td>\n      <td>[0. 0.]</td>\n      <td>[2.08 2.12]</td>\n      <td>[1.5 1.5]</td>\n    </tr>\n    <tr>\n      <th>11</th>\n      <td>1.75</td>\n      <td>0.25</td>\n      <td>5</td>\n      <td>0.066667</td>\n      <td>5.04</td>\n      <td>2.95</td>\n      <td>0.00</td>\n      <td>0.00</td>\n      <td>5.732000</td>\n      <td>-0.729000</td>\n      <td>2.950000</td>\n      <td>-95.356706</td>\n      <td>0.232000</td>\n      <td>[0. 0.]</td>\n      <td>[0. 0.]</td>\n      <td>[3.78 2.44]</td>\n      <td>[1.5 1.5]</td>\n    </tr>\n    <tr>\n      <th>...</th>\n      <td>...</td>\n      <td>...</td>\n      <td>...</td>\n      <td>...</td>\n      <td>...</td>\n      <td>...</td>\n      <td>...</td>\n      <td>...</td>\n      <td>...</td>\n      <td>...</td>\n      <td>...</td>\n      <td>...</td>\n      <td>...</td>\n      <td>...</td>\n      <td>...</td>\n      <td>...</td>\n      <td>...</td>\n    </tr>\n    <tr>\n      <th>687</th>\n      <td>4.00</td>\n      <td>2.75</td>\n      <td>0</td>\n      <td>1.000000</td>\n      <td>3.09</td>\n      <td>7.05</td>\n      <td>0.00</td>\n      <td>2.74</td>\n      <td>3.306500</td>\n      <td>-2.166500</td>\n      <td>7.220500</td>\n      <td>-117.505141</td>\n      <td>0.414000</td>\n      <td>[0. 0.]</td>\n      <td>[0. 0.]</td>\n      <td>[2.1  5.48]</td>\n      <td>[1.5 1.5]</td>\n    </tr>\n    <tr>\n      <th>688</th>\n      <td>4.00</td>\n      <td>2.75</td>\n      <td>1</td>\n      <td>0.714286</td>\n      <td>5.30</td>\n      <td>6.64</td>\n      <td>0.01</td>\n      <td>0.01</td>\n      <td>5.751733</td>\n      <td>-3.742467</td>\n      <td>6.643333</td>\n      <td>-130.760512</td>\n      <td>0.189467</td>\n      <td>[0. 0.]</td>\n      <td>[0. 0.]</td>\n      <td>[4.27 5.64]</td>\n      <td>[1.5 1.5]</td>\n    </tr>\n    <tr>\n      <th>689</th>\n      <td>4.00</td>\n      <td>2.75</td>\n      <td>2</td>\n      <td>0.916667</td>\n      <td>5.03</td>\n      <td>6.53</td>\n      <td>0.06</td>\n      <td>0.25</td>\n      <td>5.593409</td>\n      <td>-3.649273</td>\n      <td>6.652909</td>\n      <td>-129.975835</td>\n      <td>0.193364</td>\n      <td>[0. 0.]</td>\n      <td>[0. 0.]</td>\n      <td>[1.58 6.99]</td>\n      <td>[1.5 1.5]</td>\n    </tr>\n    <tr>\n      <th>690</th>\n      <td>4.00</td>\n      <td>2.75</td>\n      <td>3</td>\n      <td>0.913043</td>\n      <td>3.99</td>\n      <td>2.13</td>\n      <td>0.00</td>\n      <td>0.05</td>\n      <td>4.211286</td>\n      <td>-2.742381</td>\n      <td>2.133095</td>\n      <td>-137.563149</td>\n      <td>0.307619</td>\n      <td>[0. 0.]</td>\n      <td>[0. 0.]</td>\n      <td>[4.75 2.4 ]</td>\n      <td>[1.5 1.5]</td>\n    </tr>\n    <tr>\n      <th>691</th>\n      <td>4.00</td>\n      <td>2.75</td>\n      <td>4</td>\n      <td>0.833333</td>\n      <td>5.35</td>\n      <td>6.77</td>\n      <td>0.00</td>\n      <td>0.00</td>\n      <td>5.739000</td>\n      <td>-3.747450</td>\n      <td>6.771000</td>\n      <td>-133.279109</td>\n      <td>0.180900</td>\n      <td>[0. 0.]</td>\n      <td>[0. 0.]</td>\n      <td>[1.55 6.12]</td>\n      <td>[1.5 1.5]</td>\n    </tr>\n  </tbody>\n</table>\n<p>500 rows × 17 columns</p>\n</div>"
     },
     "metadata": {},
     "execution_count": 4
    }
   ],
   "source": [
    "df"
   ]
  },
  {
   "cell_type": "code",
   "execution_count": 5,
   "metadata": {},
   "outputs": [
    {
     "output_type": "display_data",
     "data": {
      "text/plain": "Canvas(toolbar=Toolbar(toolitems=[('Home', 'Reset original view', 'home', 'home'), ('Back', 'Back to previous …",
      "application/vnd.jupyter.widget-view+json": {
       "version_major": 2,
       "version_minor": 0,
       "model_id": "512840954a3843828fb252e556ac5cef"
      }
     },
     "metadata": {}
    }
   ],
   "source": [
    "\n",
    "## LANDING RATE DATA\n",
    "fig = plt.figure()\n",
    "ax = fig.add_subplot(111,projection=\"3d\")\n",
    "ax.scatter(df_raw['vx_d'],df_raw['vz_d'],df_raw['landing_rate'])\n",
    "\n",
    "ax.set_xlabel('vx_d')\n",
    "ax.set_ylabel('vz_d')\n",
    "ax.set_zlabel('Landing Rate')\n",
    "ax.set_title('Landing Rate (Raw Data)')\n",
    "\n",
    "plt.show()"
   ]
  },
  {
   "cell_type": "code",
   "execution_count": 6,
   "metadata": {},
   "outputs": [
    {
     "output_type": "display_data",
     "data": {
      "text/plain": "Canvas(toolbar=Toolbar(toolitems=[('Home', 'Reset original view', 'home', 'home'), ('Back', 'Back to previous …",
      "application/vnd.jupyter.widget-view+json": {
       "version_major": 2,
       "version_minor": 0,
       "model_id": "da7811d90e944c2f8afad7ec9a5d2959"
      }
     },
     "metadata": {}
    }
   ],
   "source": [
    "\n",
    "## AVG LANDING RATE SURFACE\n",
    "fig = plt.figure()\n",
    "ax = fig.add_subplot(111,projection=\"3d\")\n",
    "cmap = mpl.cm.jet\n",
    "norm = mpl.colors.Normalize(vmin=0,vmax=1)\n",
    "pcm = ax.plot_trisurf(df_raw_avg['vx_d'],df_raw_avg['vz_d'],df_raw_avg['landing_rate','mean'],cmap = cmap)\n",
    "fig.colorbar(mpl.cm.ScalarMappable(norm=norm, cmap=cmap),label=\"Landing %\")\n",
    "df\n",
    "ax.set_zlim(0,1)\n",
    "\n",
    "ax.set_xlabel('vx_d')\n",
    "ax.set_ylabel('vz_d')\n",
    "ax.set_zlabel('Landing Rate')\n",
    "ax.set_title('Avg Landing Rate for Final 3 Episodes')\n",
    "\n",
    "\n",
    "plt.show()"
   ]
  },
  {
   "cell_type": "code",
   "execution_count": 7,
   "metadata": {},
   "outputs": [
    {
     "output_type": "display_data",
     "data": {
      "text/plain": "Canvas(toolbar=Toolbar(toolitems=[('Home', 'Reset original view', 'home', 'home'), ('Back', 'Back to previous …",
      "application/vnd.jupyter.widget-view+json": {
       "version_major": 2,
       "version_minor": 0,
       "model_id": "383e820d35154df299dea626c632ac93"
      }
     },
     "metadata": {}
    }
   ],
   "source": [
    "## RREV Threshold vs IC\n",
    "fig = plt.figure()\n",
    "ax = fig.add_subplot(111,projection=\"3d\")\n",
    "\n",
    "ax.scatter(df['vx_d'],df['vz_d'],df['RREV_threshold'])\n",
    "\n",
    "\n",
    "ax.set_xlim(0,2.75)\n",
    "ax.set_ylim(1.0,4.5)\n",
    "\n",
    "\n",
    "ax.set_xlabel('Vx_d')\n",
    "ax.set_ylabel('Vz_d')\n",
    "ax.set_zlabel('RREV_threshold')\n",
    "ax.set_title('RREV_thr vs IC - (Raw Data)')\n",
    "\n",
    "\n",
    "plt.show()"
   ]
  },
  {
   "cell_type": "code",
   "execution_count": 8,
   "metadata": {},
   "outputs": [
    {
     "output_type": "display_data",
     "data": {
      "text/plain": "Canvas(toolbar=Toolbar(toolitems=[('Home', 'Reset original view', 'home', 'home'), ('Back', 'Back to previous …",
      "application/vnd.jupyter.widget-view+json": {
       "version_major": 2,
       "version_minor": 0,
       "model_id": "0384c439b989430f849889fae9addccb"
      }
     },
     "metadata": {}
    }
   ],
   "source": [
    "\n",
    "## Avg RREV_thr vs IC\n",
    "fig = plt.figure()\n",
    "ax = fig.add_subplot(111,projection=\"3d\")\n",
    "\n",
    "cmap = mpl.cm.jet\n",
    "norm = mpl.colors.Normalize(vmin=4,vmax=5)\n",
    "pcm = ax.plot_trisurf(df_avg['vx_d'],df_avg['vz_d'],df_avg['RREV_threshold','mean'],cmap=cmap)\n",
    "fig.colorbar(mpl.cm.ScalarMappable(norm=norm, cmap=cmap),label=\"RREV_threshold\")\n",
    "\n",
    "ax.set_xlim(0,2.75)\n",
    "ax.set_ylim(1.0,4.5)\n",
    "ax.set_zlim(3,6)\n",
    "\n",
    "ax.set_xlabel('vx_d')\n",
    "ax.set_ylabel('vz_d')\n",
    "ax.set_zlabel('RREV_threshold')\n",
    "\n",
    "ax.set_title('Avg RREV_thr vs IC')\n",
    "plt.show()"
   ]
  },
  {
   "cell_type": "code",
   "execution_count": 9,
   "metadata": {},
   "outputs": [
    {
     "output_type": "display_data",
     "data": {
      "text/plain": "Canvas(toolbar=Toolbar(toolitems=[('Home', 'Reset original view', 'home', 'home'), ('Back', 'Back to previous …",
      "application/vnd.jupyter.widget-view+json": {
       "version_major": 2,
       "version_minor": 0,
       "model_id": "4368ea51a32240229fe45ef98dfc1023"
      }
     },
     "metadata": {}
    }
   ],
   "source": [
    "fig = plt.figure()\n",
    "ax = fig.add_subplot(111,projection=\"3d\")\n",
    "\n",
    "cmap = mpl.cm.jet\n",
    "norm = mpl.colors.Normalize(vmin=4,vmax=5)\n",
    "pcm = ax.scatter(df['vx_d'],df['vz_d'],df['impact_tdelta'])\n",
    "fig.colorbar(mpl.cm.ScalarMappable(norm=norm, cmap=cmap),label=\"RREV_threshold\")\n",
    "\n",
    "\n",
    "ax.set_xlabel('vx_d')\n",
    "ax.set_ylabel('vz_d')\n",
    "ax.set_zlabel('Delta_t [s]')\n",
    "\n",
    "ax.set_title('Time Rotating vs IC (Raw Data)')\n",
    "\n",
    "ax.set_zlim(0,0.5)\n",
    "\n",
    "\n",
    "\n",
    "\n",
    "plt.show()"
   ]
  },
  {
   "cell_type": "code",
   "execution_count": 10,
   "metadata": {},
   "outputs": [
    {
     "output_type": "display_data",
     "data": {
      "text/plain": "Canvas(toolbar=Toolbar(toolitems=[('Home', 'Reset original view', 'home', 'home'), ('Back', 'Back to previous …",
      "application/vnd.jupyter.widget-view+json": {
       "version_major": 2,
       "version_minor": 0,
       "model_id": "5e91dba7cc084f8fb4d35e3a4c2d540d"
      }
     },
     "metadata": {}
    }
   ],
   "source": [
    "fig = plt.figure()\n",
    "ax = fig.add_subplot(111,projection=\"3d\")\n",
    "\n",
    "\n",
    "cmap = mpl.cm.rainbow\n",
    "norm = mpl.colors.Normalize(vmin=0,vmax=4)\n",
    "\n",
    "pcm = ax.scatter(df['RREV_trigger'],df['landing_rate'],df['impact_tdelta'],c=df['vz_d'],cmap=cmap)\n",
    "fig.colorbar(mpl.cm.ScalarMappable(norm=norm, cmap=cmap),label='Vz_d')\n",
    "\n",
    "\n",
    "ax.set_xlabel('RREV_trigger')\n",
    "ax.set_ylabel('Landing_rate')\n",
    "ax.set_zlabel('Delta_t [s]')\n",
    "\n",
    "ax.set_title('Time Rotating vs RREV (Raw Data)')\n",
    "\n",
    "ax.set_zlim(0,0.5)\n",
    "\n",
    "\n",
    "\n",
    "\n",
    "plt.show()"
   ]
  },
  {
   "cell_type": "code",
   "execution_count": 11,
   "metadata": {},
   "outputs": [
    {
     "output_type": "display_data",
     "data": {
      "text/plain": "Canvas(toolbar=Toolbar(toolitems=[('Home', 'Reset original view', 'home', 'home'), ('Back', 'Back to previous …",
      "application/vnd.jupyter.widget-view+json": {
       "version_major": 2,
       "version_minor": 0,
       "model_id": "5dc8a7c512c94ebc884027ea5dbc49f9"
      }
     },
     "metadata": {}
    }
   ],
   "source": [
    "## AVG LANDING RATE PLOT\n",
    "fig = plt.figure()\n",
    "ax = fig.add_subplot(111,projection=\"3d\")\n",
    "\n",
    "cmap = mpl.cm.rainbow\n",
    "norm = mpl.colors.Normalize(vmin=0,vmax=4)\n",
    "\n",
    "pcm = ax.scatter(df['RREV_trigger'],df['vz_d'],df['landing_rate'],c=df['vz_d'],cmap=cmap)\n",
    "fig.colorbar(mpl.cm.ScalarMappable(norm=norm, cmap=cmap),label='Vz_d')\n",
    "\n",
    "\n",
    "\n",
    "ax.set_xlabel('RREV_trigger')\n",
    "ax.set_ylabel('vz_d')\n",
    "ax.set_zlabel('LR')\n",
    "\n",
    "\n",
    "plt.show()"
   ]
  },
  {
   "cell_type": "code",
   "execution_count": 12,
   "metadata": {},
   "outputs": [
    {
     "output_type": "display_data",
     "data": {
      "text/plain": "Canvas(toolbar=Toolbar(toolitems=[('Home', 'Reset original view', 'home', 'home'), ('Back', 'Back to previous …",
      "application/vnd.jupyter.widget-view+json": {
       "version_major": 2,
       "version_minor": 0,
       "model_id": "627b504795cd4872895e0f4b5c9779e0"
      }
     },
     "metadata": {}
    }
   ],
   "source": [
    "\n",
    "fig = plt.figure()\n",
    "ax = fig.add_subplot(111,projection=\"3d\")\n",
    "\n",
    "pcm = ax.scatter(df['vx_d'],df['vz_d'],df['My_d'])\n",
    "\n",
    "\n",
    "\n",
    "ax.set_xlabel('vx_d')\n",
    "ax.set_ylabel('vz_d')\n",
    "ax.set_zlabel('My_d [N*mm]')\n",
    "\n",
    "ax.set_title('My_d vs IC (Raw Data)')\n",
    "\n",
    "## I have more data for vz = (1.5,2.75) than vz = (3.00,4.0) so My_d differences are likely not a trend, just sparse data\n",
    "\n",
    "\n",
    "\n",
    "\n",
    "plt.show()"
   ]
  },
  {
   "cell_type": "code",
   "execution_count": 13,
   "metadata": {},
   "outputs": [
    {
     "output_type": "display_data",
     "data": {
      "text/plain": "Canvas(toolbar=Toolbar(toolitems=[('Home', 'Reset original view', 'home', 'home'), ('Back', 'Back to previous …",
      "application/vnd.jupyter.widget-view+json": {
       "version_major": 2,
       "version_minor": 0,
       "model_id": "786be574d0a64d7f9d8d6b18fa4d3596"
      }
     },
     "metadata": {}
    }
   ],
   "source": [
    "\n",
    "## AVG LANDING RATE PLOT\n",
    "fig = plt.figure()\n",
    "ax = fig.add_subplot(111,projection=\"3d\")\n",
    "\n",
    "cmap = mpl.cm.rainbow\n",
    "norm = mpl.colors.Normalize(vmin=0,vmax=1)\n",
    "pcm = ax.scatter(df['vx_d'],df['vz_d'],-df['impact_eul'],c=df['landing_rate'],cmap=cmap)\n",
    "fig.colorbar(mpl.cm.ScalarMappable(norm=norm, cmap=cmap),label='Landing %')\n",
    "\n",
    "ax.set_xlabel('vx_d')\n",
    "ax.set_ylabel('vz_d')\n",
    "ax.set_zlabel('Impact Angle')\n",
    "\n",
    "\n",
    "ax.set_zlim(-70,180)\n",
    "ax.set_zticks([0,60,120,180])\n",
    "\n",
    "## Failed landings in corner\n",
    "plt.show()"
   ]
  },
  {
   "cell_type": "code",
   "execution_count": 14,
   "metadata": {},
   "outputs": [
    {
     "output_type": "display_data",
     "data": {
      "text/plain": "Canvas(toolbar=Toolbar(toolitems=[('Home', 'Reset original view', 'home', 'home'), ('Back', 'Back to previous …",
      "application/vnd.jupyter.widget-view+json": {
       "version_major": 2,
       "version_minor": 0,
       "model_id": "f8c5bcab302345c0bea2bd99fee7887c"
      }
     },
     "metadata": {}
    }
   ],
   "source": [
    "## AVG LANDING RATE PLOT\n",
    "fig = plt.figure()\n",
    "ax = fig.add_subplot(111,projection=\"3d\")\n",
    "\n",
    "cmap = mpl.cm.jet\n",
    "norm = mpl.colors.Normalize(vmin=0,vmax=180)\n",
    "ax.plot_trisurf(df_avg['vx_d'],df_avg['vz_d'],-df_avg['impact_eul','mean'],cmap=cmap)\n",
    "\n",
    "\n",
    "ax.set_xlim(0,2.75)\n",
    "ax.set_ylim(1.0,4.0)\n",
    "ax.set_zlim(-70,180)\n",
    "ax.set_zticks([0,60,120,180])\n",
    "\n",
    "\n",
    "ax.set_xlabel('vx_d')\n",
    "ax.set_ylabel('vz_d')\n",
    "ax.set_zlabel('Impact Angle')\n",
    "\n",
    "ax.set_title('Avg Impact Angle vs IC')\n",
    "plt.show()"
   ]
  },
  {
   "cell_type": "code",
   "execution_count": 15,
   "metadata": {},
   "outputs": [
    {
     "output_type": "display_data",
     "data": {
      "text/plain": "Canvas(toolbar=Toolbar(toolitems=[('Home', 'Reset original view', 'home', 'home'), ('Back', 'Back to previous …",
      "application/vnd.jupyter.widget-view+json": {
       "version_major": 2,
       "version_minor": 0,
       "model_id": "1478fafbae6b41b18499b2f48365f594"
      }
     },
     "metadata": {}
    }
   ],
   "source": [
    "## AVG LANDING RATE PLOT\n",
    "fig = plt.figure()\n",
    "ax = fig.add_subplot(111)\n",
    "\n",
    "\n",
    "cmap = mpl.cm.Greys\n",
    "norm = mpl.colors.Normalize(vmin=0,vmax=1)\n",
    "\n",
    "ax.scatter(df['RREV_threshold'],df['My_d'],c=df['landing_rate'],cmap=cmap)\n",
    "fig.colorbar(mpl.cm.ScalarMappable(norm=norm, cmap=cmap),label='Landing %')\n",
    "\n",
    "ax.grid()\n",
    "ax.set_xlim(3,7)\n",
    "ax.set_ylim(0,10)\n",
    "ax.hlines(7.77,3,7)\n",
    "ax.text(3.05,8.0,'Motors Maxed Out')\n",
    "\n",
    "ax.set_xlabel('RREV_thr')\n",
    "ax.set_ylabel('My_d [N*mm]')\n",
    "ax.set_title('Policy: My_d vs RREV_thr')\n",
    "\n",
    "plt.show()"
   ]
  },
  {
   "cell_type": "code",
   "execution_count": 16,
   "metadata": {},
   "outputs": [
    {
     "output_type": "display_data",
     "data": {
      "text/plain": "Canvas(toolbar=Toolbar(toolitems=[('Home', 'Reset original view', 'home', 'home'), ('Back', 'Back to previous …",
      "application/vnd.jupyter.widget-view+json": {
       "version_major": 2,
       "version_minor": 0,
       "model_id": "5702df8eda7b44b1875b7e4deda14bc4"
      }
     },
     "metadata": {}
    }
   ],
   "source": [
    "## AVG LANDING RATE PLOT\n",
    "fig = plt.figure()\n",
    "ax = fig.add_subplot(111)\n",
    "\n",
    "\n",
    "cmap = mpl.cm.jet\n",
    "norm = mpl.colors.Normalize(vmin=0,vmax=3)\n",
    "\n",
    "ax.scatter(df['RREV_threshold'],df['My_d'],c=df['vz_d'],cmap=cmap)\n",
    "fig.colorbar(mpl.cm.ScalarMappable(norm=norm, cmap=cmap),label='Vz_d')\n",
    "\n",
    "ax.grid()\n",
    "ax.set_ylim(0,10)\n",
    "ax.set_xlim(3,7)\n",
    "\n",
    "ax.hlines(7.77,3,7)\n",
    "ax.text(3.05,-8.0,'Motors Maxed Out')\n",
    "\n",
    "ax.set_xlabel('RREV_thr')\n",
    "ax.set_ylabel('My_d [N*mm]')\n",
    "ax.set_title('Policy: My_d vs RREV_thr')\n",
    "## As Vz increases RREV_trigger decreases to preserve time to contact. It also finds a host of My_d that work and they vary because of the robustness of the legs and the fact that landing success isn't deterministic.\n",
    "plt.show()"
   ]
  },
  {
   "cell_type": "code",
   "execution_count": 17,
   "metadata": {},
   "outputs": [
    {
     "output_type": "display_data",
     "data": {
      "text/plain": "Canvas(toolbar=Toolbar(toolitems=[('Home', 'Reset original view', 'home', 'home'), ('Back', 'Back to previous …",
      "application/vnd.jupyter.widget-view+json": {
       "version_major": 2,
       "version_minor": 0,
       "model_id": "611c0c6b0e814b8ba2cad05504af1a99"
      }
     },
     "metadata": {}
    }
   ],
   "source": [
    "## AVG LANDING RATE PLOT\n",
    "fig = plt.figure()\n",
    "ax = fig.add_subplot(111,projection=\"3d\")\n",
    "\n",
    "cmap = mpl.cm.rainbow\n",
    "norm = mpl.colors.Normalize(vmin=0,vmax=1)\n",
    "\n",
    "pcm = ax.scatter(df['RREV_threshold'],df['vx_d'],df['My_d'],c=df['landing_rate'],cmap=cmap)\n",
    "fig.colorbar(mpl.cm.ScalarMappable(norm=norm, cmap=cmap),label='Landing %')\n",
    "\n",
    "ax.set_zlim(0,10)\n",
    "ax.set_xlim(3,7)\n",
    "\n",
    "ax.set_xlabel('RREV_trigger')\n",
    "ax.set_ylabel('vx_d')\n",
    "ax.set_zlabel('My_d')\n",
    "\n",
    "\n",
    "plt.show()"
   ]
  },
  {
   "cell_type": "code",
   "execution_count": 18,
   "metadata": {},
   "outputs": [
    {
     "output_type": "display_data",
     "data": {
      "text/plain": "Canvas(toolbar=Toolbar(toolitems=[('Home', 'Reset original view', 'home', 'home'), ('Back', 'Back to previous …",
      "application/vnd.jupyter.widget-view+json": {
       "version_major": 2,
       "version_minor": 0,
       "model_id": "7955efa5ef4e4acc97effb84bb16377a"
      }
     },
     "metadata": {}
    }
   ],
   "source": [
    "## AVG LANDING RATE PLOT\n",
    "fig = plt.figure()\n",
    "ax = fig.add_subplot(111,projection=\"3d\")\n",
    "\n",
    "cmap = mpl.cm.rainbow\n",
    "norm = mpl.colors.Normalize(vmin=0,vmax=1)\n",
    "\n",
    "pcm = ax.scatter(df['RREV_threshold'],df['landing_rate'],df['My_d'],c=df['landing_rate'],cmap=cmap)\n",
    "fig.colorbar(mpl.cm.ScalarMappable(norm=norm, cmap=cmap),label='Landing %')\n",
    "\n",
    "ax.set_zlim(0,10)\n",
    "ax.set_xlim(3,7)\n",
    "\n",
    "ax.set_xlabel('RREV_trigger')\n",
    "ax.set_ylabel('Landing_Rate')\n",
    "ax.set_zlabel('My_d')\n",
    "\n",
    "\n",
    "plt.show()"
   ]
  },
  {
   "cell_type": "code",
   "execution_count": 19,
   "metadata": {},
   "outputs": [
    {
     "output_type": "display_data",
     "data": {
      "text/plain": "Canvas(toolbar=Toolbar(toolitems=[('Home', 'Reset original view', 'home', 'home'), ('Back', 'Back to previous …",
      "application/vnd.jupyter.widget-view+json": {
       "version_major": 2,
       "version_minor": 0,
       "model_id": "c6cea17b0ab64b59928163cea25fd732"
      }
     },
     "metadata": {}
    }
   ],
   "source": [
    "## AVG LANDING RATE PLOT\n",
    "fig = plt.figure()\n",
    "ax = fig.add_subplot(111,projection=\"3d\")\n",
    "\n",
    "cmap = mpl.cm.rainbow\n",
    "norm = mpl.colors.Normalize(vmin=0,vmax=1)\n",
    "\n",
    "pcm = ax.scatter(df['RREV_trigger'],df['vz_d'],df['My_d'],c=df['landing_rate'],cmap=cmap)\n",
    "fig.colorbar(mpl.cm.ScalarMappable(norm=norm, cmap=cmap),label='Landing %')\n",
    "\n",
    "ax.set_zlim(0,10)\n",
    "ax.set_xlim(3,7)\n",
    "\n",
    "ax.set_xlabel('RREV_trigger')\n",
    "ax.set_ylabel('Vz_d')\n",
    "ax.set_zlabel('My_d')\n",
    "\n",
    "\n",
    "plt.show()"
   ]
  },
  {
   "cell_type": "code",
   "execution_count": 20,
   "metadata": {},
   "outputs": [
    {
     "output_type": "display_data",
     "data": {
      "text/plain": "Canvas(toolbar=Toolbar(toolitems=[('Home', 'Reset original view', 'home', 'home'), ('Back', 'Back to previous …",
      "application/vnd.jupyter.widget-view+json": {
       "version_major": 2,
       "version_minor": 0,
       "model_id": "e311c2d9132d49bcb5184a5c22bbda41"
      }
     },
     "metadata": {}
    }
   ],
   "source": [
    "fig = plt.figure()\n",
    "ax = fig.add_subplot(111,projection=\"3d\")\n",
    "\n",
    "cmap = mpl.cm.rainbow\n",
    "norm = mpl.colors.Normalize(vmin=0,vmax=1)\n",
    "\n",
    "pcm = ax.scatter(df['vx_d'],df['My_d'],df['RREV_threshold'],c=df['landing_rate'],cmap=cmap)\n",
    "fig.colorbar(mpl.cm.ScalarMappable(norm=norm, cmap=cmap),label='Landing %')\n",
    "\n",
    "# ax.set_xlim(3,7)\n",
    "# ax.set_ylim(0,-10)\n",
    "# ax.set_zlim(0,-10)\n",
    "\n",
    "ax.set_xlabel('Vz_d')\n",
    "ax.set_ylabel('OF_y_trigger')\n",
    "ax.set_zlabel('RREV_threshold')\n",
    "\n",
    "\n",
    "plt.show()"
   ]
  },
  {
   "cell_type": "code",
   "execution_count": 21,
   "metadata": {},
   "outputs": [
    {
     "output_type": "display_data",
     "data": {
      "text/plain": "Canvas(toolbar=Toolbar(toolitems=[('Home', 'Reset original view', 'home', 'home'), ('Back', 'Back to previous …",
      "application/vnd.jupyter.widget-view+json": {
       "version_major": 2,
       "version_minor": 0,
       "model_id": "4b8d8750a80a449eb398a85318ca1ad1"
      }
     },
     "metadata": {}
    }
   ],
   "source": [
    "fig = plt.figure()\n",
    "ax = fig.add_subplot(111,projection=\"3d\")\n",
    "\n",
    "cmap = mpl.cm.rainbow\n",
    "norm = mpl.colors.Normalize(vmin=0,vmax=1)\n",
    "\n",
    "pcm = ax.scatter(df['G1'],df['OF_y'],df['My_d'],c=df['landing_rate'],cmap=cmap)\n",
    "fig.colorbar(mpl.cm.ScalarMappable(norm=norm, cmap=cmap),label='Landing Rate')\n",
    "\n",
    "# ax.set_xlim(3,7)\n",
    "# ax.set_ylim(0,-10)\n",
    "ax.set_zlim(0,10)\n",
    "\n",
    "ax.set_xlabel('G1')\n",
    "ax.set_ylabel('OF_y')\n",
    "ax.set_zlabel('My_d')\n",
    "\n",
    "\n",
    "plt.show()"
   ]
  },
  {
   "cell_type": "code",
   "execution_count": 22,
   "metadata": {},
   "outputs": [
    {
     "output_type": "display_data",
     "data": {
      "text/plain": "Canvas(toolbar=Toolbar(toolitems=[('Home', 'Reset original view', 'home', 'home'), ('Back', 'Back to previous …",
      "application/vnd.jupyter.widget-view+json": {
       "version_major": 2,
       "version_minor": 0,
       "model_id": "f447c689d7aa41bdb1e8d25cf505d766"
      }
     },
     "metadata": {}
    }
   ],
   "source": [
    "fig = plt.figure()\n",
    "ax = fig.add_subplot(111,projection=\"3d\")\n",
    "\n",
    "cmap = mpl.cm.rainbow\n",
    "norm = mpl.colors.Normalize(vmin=0,vmax=1)\n",
    "\n",
    "pcm = ax.scatter(df['RREV_threshold'],df['OF_y'],df['My_d'],c=df['landing_rate'],cmap=cmap)\n",
    "fig.colorbar(mpl.cm.ScalarMappable(norm=norm, cmap=cmap),label='Landing Rate')\n",
    "\n",
    "ax.set_xlim(6,2)\n",
    "ax.set_ylim(-10,0)\n",
    "ax.set_zlim(0,10)\n",
    "\n",
    "ax.set_xlabel('RREV')\n",
    "ax.set_ylabel('OF_y')\n",
    "ax.set_zlabel('My_d')\n",
    "\n",
    "\n",
    "plt.show()"
   ]
  },
  {
   "cell_type": "code",
   "execution_count": 23,
   "metadata": {},
   "outputs": [
    {
     "output_type": "execute_result",
     "data": {
      "text/plain": [
       "     vz_d  vx_d  trial_num  landing_rate  RREV_threshold    G1  RREV_sig  \\\n",
       "244  2.50  1.50          3      0.500000            3.49  7.72      0.01   \n",
       "342  2.75  2.75          3      1.000000            3.43  6.90      0.00   \n",
       "377  3.00  1.25          2      0.857143            3.25  7.12      0.00   \n",
       "379  3.00  1.25          4      0.666667            3.34  6.77      0.01   \n",
       "545  3.50  2.25          3      1.000000            3.19  6.31      0.00   \n",
       "551  3.50  2.50          4      1.000000            2.99  6.67      0.00   \n",
       "581  3.75  0.75          4      0.750000            3.48  2.42      0.00   \n",
       "598  3.75  1.50          4      0.400000            2.92  6.97      0.00   \n",
       "624  3.75  2.75          3      0.500000            3.12  4.41      0.00   \n",
       "667  4.00  1.75          3      1.000000            3.46  1.03      0.00   \n",
       "687  4.00  2.75          0      1.000000            3.09  7.05      0.00   \n",
       "\n",
       "     G1_sig  RREV_trigger      OF_y      My_d  impact_eul  impact_tdelta  \\\n",
       "244    0.12      3.792000 -2.088000  7.633000 -103.596730       0.386000   \n",
       "342    0.01      3.731000 -3.456500  6.892500 -124.464691       0.402000   \n",
       "377    0.00      3.559000 -1.378500  7.118167  -70.107847       0.417333   \n",
       "379    0.01      3.509500 -1.359500  6.777000 -106.404475       0.425000   \n",
       "545    0.06      3.383000 -2.046167  6.338333 -129.493273       0.451000   \n",
       "551    0.17      3.294667 -2.205000  6.703333 -112.332037       0.454000   \n",
       "581    0.01      3.680333 -0.701000  2.411333 -151.747757       0.352000   \n",
       "598    0.00      3.199500 -1.216500  6.967500 -120.943575       0.449000   \n",
       "624    0.11      3.430000 -2.401000  4.510000  -95.106556       0.502000   \n",
       "667    0.00      3.885000 -1.617000  1.024875 -137.536250       0.409000   \n",
       "687    2.74      3.306500 -2.166500  7.220500 -117.505141       0.414000   \n",
       "\n",
       "    alpha_mu alpha_sigma       mu_ini  sigma_ini  \n",
       "244  [0. 0.]     [0. 0.]  [2.03 6.82]  [1.5 1.5]  \n",
       "342  [0. 0.]     [0. 0.]  [2.02 6.84]  [1.5 1.5]  \n",
       "377  [0. 0.]     [0. 0.]  [2.   4.96]  [1.5 1.5]  \n",
       "379  [0. 0.]     [0. 0.]  [2.48 4.87]  [1.5 1.5]  \n",
       "545  [0. 0.]     [0. 0.]  [1.36 5.  ]  [1.5 1.5]  \n",
       "551  [0. 0.]     [0. 0.]  [2.72 4.73]  [1.5 1.5]  \n",
       "581  [0. 0.]     [0. 0.]  [2.9  2.18]  [1.5 1.5]  \n",
       "598  [0. 0.]     [0. 0.]  [1.92 5.63]  [1.5 1.5]  \n",
       "624  [0. 0.]     [0. 0.]  [2.19 1.79]  [1.5 1.5]  \n",
       "667  [0. 0.]     [0. 0.]  [1.91 1.33]  [1.5 1.5]  \n",
       "687  [0. 0.]     [0. 0.]  [2.1  5.48]  [1.5 1.5]  "
      ],
      "text/html": "<div>\n<style scoped>\n    .dataframe tbody tr th:only-of-type {\n        vertical-align: middle;\n    }\n\n    .dataframe tbody tr th {\n        vertical-align: top;\n    }\n\n    .dataframe thead th {\n        text-align: right;\n    }\n</style>\n<table border=\"1\" class=\"dataframe\">\n  <thead>\n    <tr style=\"text-align: right;\">\n      <th></th>\n      <th>vz_d</th>\n      <th>vx_d</th>\n      <th>trial_num</th>\n      <th>landing_rate</th>\n      <th>RREV_threshold</th>\n      <th>G1</th>\n      <th>RREV_sig</th>\n      <th>G1_sig</th>\n      <th>RREV_trigger</th>\n      <th>OF_y</th>\n      <th>My_d</th>\n      <th>impact_eul</th>\n      <th>impact_tdelta</th>\n      <th>alpha_mu</th>\n      <th>alpha_sigma</th>\n      <th>mu_ini</th>\n      <th>sigma_ini</th>\n    </tr>\n  </thead>\n  <tbody>\n    <tr>\n      <th>244</th>\n      <td>2.50</td>\n      <td>1.50</td>\n      <td>3</td>\n      <td>0.500000</td>\n      <td>3.49</td>\n      <td>7.72</td>\n      <td>0.01</td>\n      <td>0.12</td>\n      <td>3.792000</td>\n      <td>-2.088000</td>\n      <td>7.633000</td>\n      <td>-103.596730</td>\n      <td>0.386000</td>\n      <td>[0. 0.]</td>\n      <td>[0. 0.]</td>\n      <td>[2.03 6.82]</td>\n      <td>[1.5 1.5]</td>\n    </tr>\n    <tr>\n      <th>342</th>\n      <td>2.75</td>\n      <td>2.75</td>\n      <td>3</td>\n      <td>1.000000</td>\n      <td>3.43</td>\n      <td>6.90</td>\n      <td>0.00</td>\n      <td>0.01</td>\n      <td>3.731000</td>\n      <td>-3.456500</td>\n      <td>6.892500</td>\n      <td>-124.464691</td>\n      <td>0.402000</td>\n      <td>[0. 0.]</td>\n      <td>[0. 0.]</td>\n      <td>[2.02 6.84]</td>\n      <td>[1.5 1.5]</td>\n    </tr>\n    <tr>\n      <th>377</th>\n      <td>3.00</td>\n      <td>1.25</td>\n      <td>2</td>\n      <td>0.857143</td>\n      <td>3.25</td>\n      <td>7.12</td>\n      <td>0.00</td>\n      <td>0.00</td>\n      <td>3.559000</td>\n      <td>-1.378500</td>\n      <td>7.118167</td>\n      <td>-70.107847</td>\n      <td>0.417333</td>\n      <td>[0. 0.]</td>\n      <td>[0. 0.]</td>\n      <td>[2.   4.96]</td>\n      <td>[1.5 1.5]</td>\n    </tr>\n    <tr>\n      <th>379</th>\n      <td>3.00</td>\n      <td>1.25</td>\n      <td>4</td>\n      <td>0.666667</td>\n      <td>3.34</td>\n      <td>6.77</td>\n      <td>0.01</td>\n      <td>0.01</td>\n      <td>3.509500</td>\n      <td>-1.359500</td>\n      <td>6.777000</td>\n      <td>-106.404475</td>\n      <td>0.425000</td>\n      <td>[0. 0.]</td>\n      <td>[0. 0.]</td>\n      <td>[2.48 4.87]</td>\n      <td>[1.5 1.5]</td>\n    </tr>\n    <tr>\n      <th>545</th>\n      <td>3.50</td>\n      <td>2.25</td>\n      <td>3</td>\n      <td>1.000000</td>\n      <td>3.19</td>\n      <td>6.31</td>\n      <td>0.00</td>\n      <td>0.06</td>\n      <td>3.383000</td>\n      <td>-2.046167</td>\n      <td>6.338333</td>\n      <td>-129.493273</td>\n      <td>0.451000</td>\n      <td>[0. 0.]</td>\n      <td>[0. 0.]</td>\n      <td>[1.36 5.  ]</td>\n      <td>[1.5 1.5]</td>\n    </tr>\n    <tr>\n      <th>551</th>\n      <td>3.50</td>\n      <td>2.50</td>\n      <td>4</td>\n      <td>1.000000</td>\n      <td>2.99</td>\n      <td>6.67</td>\n      <td>0.00</td>\n      <td>0.17</td>\n      <td>3.294667</td>\n      <td>-2.205000</td>\n      <td>6.703333</td>\n      <td>-112.332037</td>\n      <td>0.454000</td>\n      <td>[0. 0.]</td>\n      <td>[0. 0.]</td>\n      <td>[2.72 4.73]</td>\n      <td>[1.5 1.5]</td>\n    </tr>\n    <tr>\n      <th>581</th>\n      <td>3.75</td>\n      <td>0.75</td>\n      <td>4</td>\n      <td>0.750000</td>\n      <td>3.48</td>\n      <td>2.42</td>\n      <td>0.00</td>\n      <td>0.01</td>\n      <td>3.680333</td>\n      <td>-0.701000</td>\n      <td>2.411333</td>\n      <td>-151.747757</td>\n      <td>0.352000</td>\n      <td>[0. 0.]</td>\n      <td>[0. 0.]</td>\n      <td>[2.9  2.18]</td>\n      <td>[1.5 1.5]</td>\n    </tr>\n    <tr>\n      <th>598</th>\n      <td>3.75</td>\n      <td>1.50</td>\n      <td>4</td>\n      <td>0.400000</td>\n      <td>2.92</td>\n      <td>6.97</td>\n      <td>0.00</td>\n      <td>0.00</td>\n      <td>3.199500</td>\n      <td>-1.216500</td>\n      <td>6.967500</td>\n      <td>-120.943575</td>\n      <td>0.449000</td>\n      <td>[0. 0.]</td>\n      <td>[0. 0.]</td>\n      <td>[1.92 5.63]</td>\n      <td>[1.5 1.5]</td>\n    </tr>\n    <tr>\n      <th>624</th>\n      <td>3.75</td>\n      <td>2.75</td>\n      <td>3</td>\n      <td>0.500000</td>\n      <td>3.12</td>\n      <td>4.41</td>\n      <td>0.00</td>\n      <td>0.11</td>\n      <td>3.430000</td>\n      <td>-2.401000</td>\n      <td>4.510000</td>\n      <td>-95.106556</td>\n      <td>0.502000</td>\n      <td>[0. 0.]</td>\n      <td>[0. 0.]</td>\n      <td>[2.19 1.79]</td>\n      <td>[1.5 1.5]</td>\n    </tr>\n    <tr>\n      <th>667</th>\n      <td>4.00</td>\n      <td>1.75</td>\n      <td>3</td>\n      <td>1.000000</td>\n      <td>3.46</td>\n      <td>1.03</td>\n      <td>0.00</td>\n      <td>0.00</td>\n      <td>3.885000</td>\n      <td>-1.617000</td>\n      <td>1.024875</td>\n      <td>-137.536250</td>\n      <td>0.409000</td>\n      <td>[0. 0.]</td>\n      <td>[0. 0.]</td>\n      <td>[1.91 1.33]</td>\n      <td>[1.5 1.5]</td>\n    </tr>\n    <tr>\n      <th>687</th>\n      <td>4.00</td>\n      <td>2.75</td>\n      <td>0</td>\n      <td>1.000000</td>\n      <td>3.09</td>\n      <td>7.05</td>\n      <td>0.00</td>\n      <td>2.74</td>\n      <td>3.306500</td>\n      <td>-2.166500</td>\n      <td>7.220500</td>\n      <td>-117.505141</td>\n      <td>0.414000</td>\n      <td>[0. 0.]</td>\n      <td>[0. 0.]</td>\n      <td>[2.1  5.48]</td>\n      <td>[1.5 1.5]</td>\n    </tr>\n  </tbody>\n</table>\n</div>"
     },
     "metadata": {},
     "execution_count": 23
    }
   ],
   "source": [
    "df[df['RREV_threshold']<=3.5]"
   ]
  },
  {
   "cell_type": "code",
   "execution_count": 24,
   "metadata": {},
   "outputs": [
    {
     "output_type": "stream",
     "name": "stdout",
     "text": [
      "-12.186731606781834\n[3.84957529 0.25684764]\n"
     ]
    }
   ],
   "source": [
    "from sklearn import linear_model\n",
    "\n",
    "\n",
    "df_reg = df.query(f\"landing_rate>={0.8} & RREV_threshold>{3.5}\")\n",
    "\n",
    "\n",
    "X = df_reg[['RREV_threshold','OF_y']]\n",
    "Y = df_reg['My_d']\n",
    "\n",
    "reg = linear_model.LinearRegression(normalize=True)\n",
    "reg.fit(X,Y)\n",
    "intercept = reg.intercept_\n",
    "coeffs = reg.coef_\n",
    "\n",
    "print(intercept)\n",
    "print(coeffs)\n",
    "\n"
   ]
  },
  {
   "cell_type": "code",
   "execution_count": 25,
   "metadata": {},
   "outputs": [
    {
     "output_type": "display_data",
     "data": {
      "text/plain": "Canvas(toolbar=Toolbar(toolitems=[('Home', 'Reset original view', 'home', 'home'), ('Back', 'Back to previous …",
      "application/vnd.jupyter.widget-view+json": {
       "version_major": 2,
       "version_minor": 0,
       "model_id": "144b41e195f24d33a727b3e24082d66c"
      }
     },
     "metadata": {}
    }
   ],
   "source": [
    "fig = plt.figure()\n",
    "ax = fig.add_subplot(111,projection=\"3d\")\n",
    "\n",
    "\n",
    "My_reg = intercept + coeffs[0]*df_reg['RREV_threshold'] + coeffs[1]*df_reg['OF_y']\n",
    "ax.plot_trisurf(df_reg['RREV_threshold'],df_reg['OF_y'],My_reg,label='Linear_Regression',color='blue')\n",
    "\n",
    "\n",
    "cmap = mpl.cm.rainbow\n",
    "norm = mpl.colors.Normalize(vmin=0,vmax=1)\n",
    "fig.colorbar(mpl.cm.ScalarMappable(norm=norm, cmap=cmap),label='Landing Rate')\n",
    "\n",
    "ax.scatter(df_reg['RREV_threshold'],df_reg['OF_y'],df_reg['My_d'],c=df_reg['landing_rate'],cmap=cmap,norm=norm)\n",
    "\n",
    "\n",
    "\n",
    "ax.set_xlim(6,2)\n",
    "ax.set_ylim(-10,0)\n",
    "ax.set_zlim(0,10)\n",
    "\n",
    "\n",
    "ax.set_xlabel('RREV')\n",
    "ax.set_ylabel('OF_y')\n",
    "ax.set_zlabel('My_d')\n",
    "\n",
    "\n",
    "plt.show()"
   ]
  },
  {
   "cell_type": "code",
   "execution_count": 26,
   "metadata": {},
   "outputs": [
    {
     "output_type": "stream",
     "name": "stdout",
     "text": [
      "R^2: 0.463\n"
     ]
    }
   ],
   "source": [
    "def r_squared(y, y_hat):\n",
    "    y_bar = y.mean()\n",
    "    ss_tot = ((y-y_bar)**2).sum()\n",
    "    ss_res = ((y-y_hat)**2).sum()\n",
    "    return 1 - (ss_res/ss_tot)\n",
    "\n",
    "R2 = r_squared(df_reg['My_d'],My_reg)\n",
    "print(f\"R^2: {R2:.3f}\")"
   ]
  },
  {
   "cell_type": "code",
   "execution_count": 27,
   "metadata": {},
   "outputs": [
    {
     "output_type": "execute_result",
     "data": {
      "text/plain": [
       "<class 'statsmodels.iolib.summary.Summary'>\n",
       "\"\"\"\n",
       "                            OLS Regression Results                            \n",
       "==============================================================================\n",
       "Dep. Variable:                   My_d   R-squared:                       0.463\n",
       "Model:                            OLS   Adj. R-squared:                  0.456\n",
       "Method:                 Least Squares   F-statistic:                     68.08\n",
       "Date:                Fri, 05 Feb 2021   Prob (F-statistic):           4.75e-22\n",
       "Time:                        11:33:41   Log-Likelihood:                -248.04\n",
       "No. Observations:                 161   AIC:                             502.1\n",
       "Df Residuals:                     158   BIC:                             511.3\n",
       "Df Model:                           2                                         \n",
       "Covariance Type:            nonrobust                                         \n",
       "==================================================================================\n",
       "                     coef    std err          t      P>|t|      [0.025      0.975]\n",
       "----------------------------------------------------------------------------------\n",
       "const            -12.1867      1.472     -8.277      0.000     -15.095      -9.279\n",
       "RREV_threshold     3.8496      0.346     11.112      0.000       3.165       4.534\n",
       "OF_y               0.2568      0.087      2.955      0.004       0.085       0.428\n",
       "==============================================================================\n",
       "Omnibus:                        0.196   Durbin-Watson:                   1.862\n",
       "Prob(Omnibus):                  0.907   Jarque-Bera (JB):                0.331\n",
       "Skew:                           0.065   Prob(JB):                        0.847\n",
       "Kurtosis:                       2.819   Cond. No.                         102.\n",
       "==============================================================================\n",
       "\n",
       "Notes:\n",
       "[1] Standard Errors assume that the covariance matrix of the errors is correctly specified.\n",
       "\"\"\""
      ],
      "text/html": "<table class=\"simpletable\">\n<caption>OLS Regression Results</caption>\n<tr>\n  <th>Dep. Variable:</th>          <td>My_d</td>       <th>  R-squared:         </th> <td>   0.463</td>\n</tr>\n<tr>\n  <th>Model:</th>                   <td>OLS</td>       <th>  Adj. R-squared:    </th> <td>   0.456</td>\n</tr>\n<tr>\n  <th>Method:</th>             <td>Least Squares</td>  <th>  F-statistic:       </th> <td>   68.08</td>\n</tr>\n<tr>\n  <th>Date:</th>             <td>Fri, 05 Feb 2021</td> <th>  Prob (F-statistic):</th> <td>4.75e-22</td>\n</tr>\n<tr>\n  <th>Time:</th>                 <td>11:33:41</td>     <th>  Log-Likelihood:    </th> <td> -248.04</td>\n</tr>\n<tr>\n  <th>No. Observations:</th>      <td>   161</td>      <th>  AIC:               </th> <td>   502.1</td>\n</tr>\n<tr>\n  <th>Df Residuals:</th>          <td>   158</td>      <th>  BIC:               </th> <td>   511.3</td>\n</tr>\n<tr>\n  <th>Df Model:</th>              <td>     2</td>      <th>                     </th>     <td> </td>   \n</tr>\n<tr>\n  <th>Covariance Type:</th>      <td>nonrobust</td>    <th>                     </th>     <td> </td>   \n</tr>\n</table>\n<table class=\"simpletable\">\n<tr>\n         <td></td>           <th>coef</th>     <th>std err</th>      <th>t</th>      <th>P>|t|</th>  <th>[0.025</th>    <th>0.975]</th>  \n</tr>\n<tr>\n  <th>const</th>          <td>  -12.1867</td> <td>    1.472</td> <td>   -8.277</td> <td> 0.000</td> <td>  -15.095</td> <td>   -9.279</td>\n</tr>\n<tr>\n  <th>RREV_threshold</th> <td>    3.8496</td> <td>    0.346</td> <td>   11.112</td> <td> 0.000</td> <td>    3.165</td> <td>    4.534</td>\n</tr>\n<tr>\n  <th>OF_y</th>           <td>    0.2568</td> <td>    0.087</td> <td>    2.955</td> <td> 0.004</td> <td>    0.085</td> <td>    0.428</td>\n</tr>\n</table>\n<table class=\"simpletable\">\n<tr>\n  <th>Omnibus:</th>       <td> 0.196</td> <th>  Durbin-Watson:     </th> <td>   1.862</td>\n</tr>\n<tr>\n  <th>Prob(Omnibus):</th> <td> 0.907</td> <th>  Jarque-Bera (JB):  </th> <td>   0.331</td>\n</tr>\n<tr>\n  <th>Skew:</th>          <td> 0.065</td> <th>  Prob(JB):          </th> <td>   0.847</td>\n</tr>\n<tr>\n  <th>Kurtosis:</th>      <td> 2.819</td> <th>  Cond. No.          </th> <td>    102.</td>\n</tr>\n</table><br/><br/>Notes:<br/>[1] Standard Errors assume that the covariance matrix of the errors is correctly specified."
     },
     "metadata": {},
     "execution_count": 27
    }
   ],
   "source": [
    "import statsmodels.api as ssm #for detail description of linear coefficients, intercepts, deviations, and many more\n",
    "X=ssm.add_constant(X)        #to add constant value in the model\n",
    "model= ssm.OLS(Y,X).fit()         #fitting the model\n",
    "predictions= model.summary()      #summary of the model\n",
    "predictions\n"
   ]
  },
  {
   "cell_type": "code",
   "execution_count": null,
   "metadata": {},
   "outputs": [],
   "source": []
  }
 ]
}