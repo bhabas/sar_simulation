{
 "metadata": {
  "language_info": {
   "codemirror_mode": {
    "name": "ipython",
    "version": 3
   },
   "file_extension": ".py",
   "mimetype": "text/x-python",
   "name": "python",
   "nbconvert_exporter": "python",
   "pygments_lexer": "ipython3",
   "version": "3.8.5-final"
  },
  "orig_nbformat": 2,
  "kernelspec": {
   "name": "python38564bit0282941c0ba945238a13db8c20574d9c",
   "display_name": "Python 3.8.5 64-bit",
   "language": "python"
  }
 },
 "nbformat": 4,
 "nbformat_minor": 2,
 "cells": [
  {
   "source": [
    "# Module Imports"
   ],
   "cell_type": "markdown",
   "metadata": {}
  },
  {
   "cell_type": "code",
   "execution_count": 1,
   "metadata": {},
   "outputs": [],
   "source": [
    "## IMPORT MODULES\n",
    "import pandas as pd\n",
    "import numpy as np\n",
    "from sklearn import linear_model\n"
   ]
  },
  {
   "cell_type": "code",
   "execution_count": 2,
   "metadata": {},
   "outputs": [],
   "source": [
    "## IMPORT PLOTTING MODULES\n",
    "import matplotlib.pyplot as plt\n",
    "from mpl_toolkits import mplot3d\n",
    "import matplotlib as mpl\n",
    "from matplotlib import cm\n",
    "%matplotlib widget"
   ]
  },
  {
   "source": [
    "# Dataframe"
   ],
   "cell_type": "markdown",
   "metadata": {}
  },
  {
   "cell_type": "code",
   "execution_count": 3,
   "metadata": {},
   "outputs": [],
   "source": [
    "## FULL DATAFRAME\n",
    "df_raw = pd.read_csv(\"XNS_2-Policy_Summary.csv\")\n",
    "\n",
    "## Drop extraneous data points\n",
    "df_raw = df_raw.drop(df_raw[\n",
    "    (df_raw['landing_rate']<=0.1) & \n",
    "    (df_raw['vz_d']>=2.75)\n",
    "    ].index)\n",
    "\n",
    "df_raw = df_raw.drop(df_raw[\n",
    "    (df_raw['landing_rate']<=0.1) & \n",
    "    (df_raw['vx_d']>=1.0)\n",
    "    ].index)\n",
    "\n",
    "df_raw_avg = df_raw.groupby(['vz_d','vx_d']).agg([np.mean,np.std]).reset_index()\n",
    "\n",
    "\n",
    "# df_temp = df.query(f\"landing_rate>={0.2}\")\n",
    "# df_temp_avg = df_raw.groupby(['vz_d','vx_d']).agg([np.mean,np.std]).reset_index()\n",
    "\n",
    "\n",
    "df = df_raw\n",
    "df['My_d'] = df['My_d'].apply(lambda x: np.abs(x)) # Convert My to magnitude\n",
    "# df['My_d'] = df['My_d'].apply(lambda x: 7.7 if x>7.7 else x) # Cap My_d to max moment\n",
    "df = df.drop(df[(df['vz_d']<= 2.25) & (df['vx_d']<= 0.75)].index) # Drop corner with no successful landings\n",
    "df = df.dropna()\n",
    "\n",
    "## AVERAGED DATAFRAME\n",
    "df_avg = df.groupby(['vz_d','vx_d']).agg([np.mean,np.std]).reset_index()"
   ]
  },
  {
   "cell_type": "code",
   "execution_count": 4,
   "metadata": {},
   "outputs": [
    {
     "output_type": "execute_result",
     "data": {
      "text/plain": [
       "     vz_d  vx_d  trial_num  landing_rate  RREV_threshold     G1  RREV_sig  \\\n",
       "35   2.25  1.00          0      0.619048            4.56  15.55      0.00   \n",
       "36   2.25  1.00          1      0.500000            4.79   7.18      0.00   \n",
       "37   2.25  1.00          2      0.526316            4.37   4.41      0.05   \n",
       "40   2.25  1.00          5      0.411765            4.32   5.67      0.02   \n",
       "44   2.25  1.25          3      0.545455            4.46   9.75      0.00   \n",
       "..    ...   ...        ...           ...             ...    ...       ...   \n",
       "572  4.00  2.50          3      1.000000            2.80  11.72      0.00   \n",
       "573  4.00  2.50          4      0.681818            4.59   5.72      0.00   \n",
       "574  4.00  2.50          5      0.631579            3.74   1.66      0.00   \n",
       "576  4.00  2.75          1      0.500000            4.86   6.88      0.00   \n",
       "577  4.00  2.75          2      0.650000            3.69   2.05      0.06   \n",
       "\n",
       "     G1_sig  RREV_trigger      OF_y       My_d  impact_eul  impact_tdelta  \\\n",
       "35     0.59      5.148077 -2.085769  15.500846 -130.195882       0.192154   \n",
       "36     0.05      5.118778 -2.072111   7.192000 -150.963279       0.198444   \n",
       "37     0.02      4.898600 -1.984100   4.417100 -157.195354       0.245600   \n",
       "40     0.00      4.966000 -2.012000   5.671429 -158.653029       0.213714   \n",
       "44     0.31      5.047667 -2.554667   9.581000 -128.006651       0.191333   \n",
       "..      ...           ...       ...        ...         ...            ...   \n",
       "572    0.86      3.045000 -1.811000  11.673000 -125.230059       0.240000   \n",
       "573    0.00      4.924200 -2.919933   5.718067  -51.719035       0.235867   \n",
       "574    0.00      4.022250 -2.386917   1.658917 -148.378890       0.354500   \n",
       "576    0.03      5.102667 -3.343000   6.878667 -166.136087       0.214000   \n",
       "577    0.08      4.045538 -2.642077   2.089769  -62.518912       0.337846   \n",
       "\n",
       "    alpha_mu alpha_sigma       mu_ini  sigma_ini  \n",
       "35   [0. 0.]     [0. 0.]  [3.04 6.46]  [1.5 1.5]  \n",
       "36   [0. 0.]     [0. 0.]  [2.6  6.34]  [1.5 1.5]  \n",
       "37   [0. 0.]     [0. 0.]  [1.15 4.76]  [1.5 1.5]  \n",
       "40   [0. 0.]     [0. 0.]  [5.24 5.53]  [1.5 1.5]  \n",
       "44   [0. 0.]     [0. 0.]  [5.81 4.28]  [1.5 1.5]  \n",
       "..       ...         ...          ...        ...  \n",
       "572  [0. 0.]     [0. 0.]  [1.98 5.83]  [1.5 1.5]  \n",
       "573  [0. 0.]     [0. 0.]  [5.93 5.89]  [1.5 1.5]  \n",
       "574  [0. 0.]     [0. 0.]  [4.44 1.78]  [1.5 1.5]  \n",
       "576  [0. 0.]     [0. 0.]  [2.54 4.52]  [1.5 1.5]  \n",
       "577  [0. 0.]     [0. 0.]  [1.61 1.26]  [1.5 1.5]  \n",
       "\n",
       "[314 rows x 17 columns]"
      ],
      "text/html": "<div>\n<style scoped>\n    .dataframe tbody tr th:only-of-type {\n        vertical-align: middle;\n    }\n\n    .dataframe tbody tr th {\n        vertical-align: top;\n    }\n\n    .dataframe thead th {\n        text-align: right;\n    }\n</style>\n<table border=\"1\" class=\"dataframe\">\n  <thead>\n    <tr style=\"text-align: right;\">\n      <th></th>\n      <th>vz_d</th>\n      <th>vx_d</th>\n      <th>trial_num</th>\n      <th>landing_rate</th>\n      <th>RREV_threshold</th>\n      <th>G1</th>\n      <th>RREV_sig</th>\n      <th>G1_sig</th>\n      <th>RREV_trigger</th>\n      <th>OF_y</th>\n      <th>My_d</th>\n      <th>impact_eul</th>\n      <th>impact_tdelta</th>\n      <th>alpha_mu</th>\n      <th>alpha_sigma</th>\n      <th>mu_ini</th>\n      <th>sigma_ini</th>\n    </tr>\n  </thead>\n  <tbody>\n    <tr>\n      <th>35</th>\n      <td>2.25</td>\n      <td>1.00</td>\n      <td>0</td>\n      <td>0.619048</td>\n      <td>4.56</td>\n      <td>15.55</td>\n      <td>0.00</td>\n      <td>0.59</td>\n      <td>5.148077</td>\n      <td>-2.085769</td>\n      <td>15.500846</td>\n      <td>-130.195882</td>\n      <td>0.192154</td>\n      <td>[0. 0.]</td>\n      <td>[0. 0.]</td>\n      <td>[3.04 6.46]</td>\n      <td>[1.5 1.5]</td>\n    </tr>\n    <tr>\n      <th>36</th>\n      <td>2.25</td>\n      <td>1.00</td>\n      <td>1</td>\n      <td>0.500000</td>\n      <td>4.79</td>\n      <td>7.18</td>\n      <td>0.00</td>\n      <td>0.05</td>\n      <td>5.118778</td>\n      <td>-2.072111</td>\n      <td>7.192000</td>\n      <td>-150.963279</td>\n      <td>0.198444</td>\n      <td>[0. 0.]</td>\n      <td>[0. 0.]</td>\n      <td>[2.6  6.34]</td>\n      <td>[1.5 1.5]</td>\n    </tr>\n    <tr>\n      <th>37</th>\n      <td>2.25</td>\n      <td>1.00</td>\n      <td>2</td>\n      <td>0.526316</td>\n      <td>4.37</td>\n      <td>4.41</td>\n      <td>0.05</td>\n      <td>0.02</td>\n      <td>4.898600</td>\n      <td>-1.984100</td>\n      <td>4.417100</td>\n      <td>-157.195354</td>\n      <td>0.245600</td>\n      <td>[0. 0.]</td>\n      <td>[0. 0.]</td>\n      <td>[1.15 4.76]</td>\n      <td>[1.5 1.5]</td>\n    </tr>\n    <tr>\n      <th>40</th>\n      <td>2.25</td>\n      <td>1.00</td>\n      <td>5</td>\n      <td>0.411765</td>\n      <td>4.32</td>\n      <td>5.67</td>\n      <td>0.02</td>\n      <td>0.00</td>\n      <td>4.966000</td>\n      <td>-2.012000</td>\n      <td>5.671429</td>\n      <td>-158.653029</td>\n      <td>0.213714</td>\n      <td>[0. 0.]</td>\n      <td>[0. 0.]</td>\n      <td>[5.24 5.53]</td>\n      <td>[1.5 1.5]</td>\n    </tr>\n    <tr>\n      <th>44</th>\n      <td>2.25</td>\n      <td>1.25</td>\n      <td>3</td>\n      <td>0.545455</td>\n      <td>4.46</td>\n      <td>9.75</td>\n      <td>0.00</td>\n      <td>0.31</td>\n      <td>5.047667</td>\n      <td>-2.554667</td>\n      <td>9.581000</td>\n      <td>-128.006651</td>\n      <td>0.191333</td>\n      <td>[0. 0.]</td>\n      <td>[0. 0.]</td>\n      <td>[5.81 4.28]</td>\n      <td>[1.5 1.5]</td>\n    </tr>\n    <tr>\n      <th>...</th>\n      <td>...</td>\n      <td>...</td>\n      <td>...</td>\n      <td>...</td>\n      <td>...</td>\n      <td>...</td>\n      <td>...</td>\n      <td>...</td>\n      <td>...</td>\n      <td>...</td>\n      <td>...</td>\n      <td>...</td>\n      <td>...</td>\n      <td>...</td>\n      <td>...</td>\n      <td>...</td>\n      <td>...</td>\n    </tr>\n    <tr>\n      <th>572</th>\n      <td>4.00</td>\n      <td>2.50</td>\n      <td>3</td>\n      <td>1.000000</td>\n      <td>2.80</td>\n      <td>11.72</td>\n      <td>0.00</td>\n      <td>0.86</td>\n      <td>3.045000</td>\n      <td>-1.811000</td>\n      <td>11.673000</td>\n      <td>-125.230059</td>\n      <td>0.240000</td>\n      <td>[0. 0.]</td>\n      <td>[0. 0.]</td>\n      <td>[1.98 5.83]</td>\n      <td>[1.5 1.5]</td>\n    </tr>\n    <tr>\n      <th>573</th>\n      <td>4.00</td>\n      <td>2.50</td>\n      <td>4</td>\n      <td>0.681818</td>\n      <td>4.59</td>\n      <td>5.72</td>\n      <td>0.00</td>\n      <td>0.00</td>\n      <td>4.924200</td>\n      <td>-2.919933</td>\n      <td>5.718067</td>\n      <td>-51.719035</td>\n      <td>0.235867</td>\n      <td>[0. 0.]</td>\n      <td>[0. 0.]</td>\n      <td>[5.93 5.89]</td>\n      <td>[1.5 1.5]</td>\n    </tr>\n    <tr>\n      <th>574</th>\n      <td>4.00</td>\n      <td>2.50</td>\n      <td>5</td>\n      <td>0.631579</td>\n      <td>3.74</td>\n      <td>1.66</td>\n      <td>0.00</td>\n      <td>0.00</td>\n      <td>4.022250</td>\n      <td>-2.386917</td>\n      <td>1.658917</td>\n      <td>-148.378890</td>\n      <td>0.354500</td>\n      <td>[0. 0.]</td>\n      <td>[0. 0.]</td>\n      <td>[4.44 1.78]</td>\n      <td>[1.5 1.5]</td>\n    </tr>\n    <tr>\n      <th>576</th>\n      <td>4.00</td>\n      <td>2.75</td>\n      <td>1</td>\n      <td>0.500000</td>\n      <td>4.86</td>\n      <td>6.88</td>\n      <td>0.00</td>\n      <td>0.03</td>\n      <td>5.102667</td>\n      <td>-3.343000</td>\n      <td>6.878667</td>\n      <td>-166.136087</td>\n      <td>0.214000</td>\n      <td>[0. 0.]</td>\n      <td>[0. 0.]</td>\n      <td>[2.54 4.52]</td>\n      <td>[1.5 1.5]</td>\n    </tr>\n    <tr>\n      <th>577</th>\n      <td>4.00</td>\n      <td>2.75</td>\n      <td>2</td>\n      <td>0.650000</td>\n      <td>3.69</td>\n      <td>2.05</td>\n      <td>0.06</td>\n      <td>0.08</td>\n      <td>4.045538</td>\n      <td>-2.642077</td>\n      <td>2.089769</td>\n      <td>-62.518912</td>\n      <td>0.337846</td>\n      <td>[0. 0.]</td>\n      <td>[0. 0.]</td>\n      <td>[1.61 1.26]</td>\n      <td>[1.5 1.5]</td>\n    </tr>\n  </tbody>\n</table>\n<p>314 rows × 17 columns</p>\n</div>"
     },
     "metadata": {},
     "execution_count": 4
    }
   ],
   "source": [
    "df"
   ]
  },
  {
   "source": [
    "# Landing Rate Data"
   ],
   "cell_type": "markdown",
   "metadata": {}
  },
  {
   "cell_type": "code",
   "execution_count": 5,
   "metadata": {},
   "outputs": [
    {
     "output_type": "display_data",
     "data": {
      "text/plain": "Canvas(toolbar=Toolbar(toolitems=[('Home', 'Reset original view', 'home', 'home'), ('Back', 'Back to previous …",
      "application/vnd.jupyter.widget-view+json": {
       "version_major": 2,
       "version_minor": 0,
       "model_id": "b27fc159a2854e66b8dce3b1a0b18fd6"
      }
     },
     "metadata": {}
    }
   ],
   "source": [
    "fig = plt.figure()\n",
    "ax = fig.add_subplot(111,projection=\"3d\")\n",
    "ax.scatter(df['vx_d'],df['vz_d'],df['landing_rate'])\n",
    "\n",
    "ax.set_zlim(0,1)\n",
    "\n",
    "ax.set_xlabel('vx_d')\n",
    "ax.set_ylabel('vz_d')\n",
    "ax.set_zlabel('Landing Rate')\n",
    "ax.set_title('Landing Rate (Raw Data)')\n",
    "\n",
    "plt.show()"
   ]
  },
  {
   "cell_type": "code",
   "execution_count": 6,
   "metadata": {},
   "outputs": [
    {
     "output_type": "display_data",
     "data": {
      "text/plain": "Canvas(toolbar=Toolbar(toolitems=[('Home', 'Reset original view', 'home', 'home'), ('Back', 'Back to previous …",
      "application/vnd.jupyter.widget-view+json": {
       "version_major": 2,
       "version_minor": 0,
       "model_id": "e69722bc76ec4063921274b0e63748b3"
      }
     },
     "metadata": {}
    }
   ],
   "source": [
    "## AVG LANDING RATE SURFACE\n",
    "fig = plt.figure()\n",
    "ax = fig.add_subplot(111,projection=\"3d\")\n",
    "cmap = mpl.cm.jet\n",
    "norm = mpl.colors.Normalize(vmin=0,vmax=1)\n",
    "pcm = ax.plot_trisurf(df_raw_avg['vx_d'],df_raw_avg['vz_d'],df_raw_avg['landing_rate','mean'],cmap = cmap)\n",
    "fig.colorbar(mpl.cm.ScalarMappable(norm=norm, cmap=cmap),label=\"Landing %\")\n",
    "df\n",
    "ax.set_zlim(0,1)\n",
    "\n",
    "ax.set_xlabel('vx_d')\n",
    "ax.set_ylabel('vz_d')\n",
    "ax.set_zlabel('Landing Rate')\n",
    "ax.set_title('Avg Landing Rate for Final 3 Episodes')\n",
    "\n",
    "\n",
    "plt.show()"
   ]
  },
  {
   "source": [
    "# RREV vs IC"
   ],
   "cell_type": "markdown",
   "metadata": {}
  },
  {
   "cell_type": "code",
   "execution_count": 7,
   "metadata": {},
   "outputs": [
    {
     "output_type": "display_data",
     "data": {
      "text/plain": "Canvas(toolbar=Toolbar(toolitems=[('Home', 'Reset original view', 'home', 'home'), ('Back', 'Back to previous …",
      "application/vnd.jupyter.widget-view+json": {
       "version_major": 2,
       "version_minor": 0,
       "model_id": "7173cdb030df4a4f9b5c92bb7384c55d"
      }
     },
     "metadata": {}
    }
   ],
   "source": [
    "## RREV Threshold vs IC\n",
    "fig = plt.figure()\n",
    "ax = fig.add_subplot(111,projection=\"3d\")\n",
    "\n",
    "ax.scatter(df['vx_d'],df['vz_d'],df['RREV_threshold'])\n",
    "\n",
    "\n",
    "ax.set_xlim(0,2.75)\n",
    "ax.set_ylim(1.0,4.5)\n",
    "\n",
    "\n",
    "ax.set_xlabel('Vx_d')\n",
    "ax.set_ylabel('Vz_d')\n",
    "ax.set_zlabel('RREV_threshold')\n",
    "ax.set_title('RREV_thr vs IC - (Raw Data)')\n",
    "\n",
    "\n",
    "plt.show()"
   ]
  },
  {
   "cell_type": "code",
   "execution_count": 8,
   "metadata": {},
   "outputs": [
    {
     "output_type": "display_data",
     "data": {
      "text/plain": "Canvas(toolbar=Toolbar(toolitems=[('Home', 'Reset original view', 'home', 'home'), ('Back', 'Back to previous …",
      "application/vnd.jupyter.widget-view+json": {
       "version_major": 2,
       "version_minor": 0,
       "model_id": "c9641b3704e1407298bcbed11106a332"
      }
     },
     "metadata": {}
    }
   ],
   "source": [
    "\n",
    "## Avg RREV_thr vs IC\n",
    "fig = plt.figure()\n",
    "ax = fig.add_subplot(111,projection=\"3d\")\n",
    "\n",
    "cmap = mpl.cm.jet\n",
    "norm = mpl.colors.Normalize(vmin=4,vmax=5)\n",
    "pcm = ax.plot_trisurf(df_avg['vx_d'],df_avg['vz_d'],df_avg['RREV_threshold','mean'],cmap=cmap)\n",
    "fig.colorbar(mpl.cm.ScalarMappable(norm=norm, cmap=cmap),label=\"RREV_threshold\")\n",
    "\n",
    "ax.set_xlim(0,2.75)\n",
    "ax.set_ylim(1.0,4.5)\n",
    "ax.set_zlim(3,6)\n",
    "\n",
    "ax.set_xlabel('vx_d')\n",
    "ax.set_ylabel('vz_d')\n",
    "ax.set_zlabel('RREV_threshold')\n",
    "\n",
    "ax.set_title('Avg RREV_thr vs IC')\n",
    "plt.show()"
   ]
  },
  {
   "source": [
    "# Rotation Time Data"
   ],
   "cell_type": "markdown",
   "metadata": {}
  },
  {
   "cell_type": "code",
   "execution_count": 9,
   "metadata": {},
   "outputs": [
    {
     "output_type": "display_data",
     "data": {
      "text/plain": "Canvas(toolbar=Toolbar(toolitems=[('Home', 'Reset original view', 'home', 'home'), ('Back', 'Back to previous …",
      "application/vnd.jupyter.widget-view+json": {
       "version_major": 2,
       "version_minor": 0,
       "model_id": "5caabe52fdda4b38825f72ec4668eb8b"
      }
     },
     "metadata": {}
    }
   ],
   "source": [
    "fig = plt.figure()\n",
    "ax = fig.add_subplot(111,projection=\"3d\")\n",
    "\n",
    "df_temp = df.query(f\"landing_rate>={0.1}\")\n",
    "\n",
    "cmap = mpl.cm.jet\n",
    "norm = mpl.colors.Normalize(vmin=4,vmax=5)\n",
    "pcm = ax.scatter(df_temp['vx_d'],df_temp['vz_d'],df_temp['impact_tdelta'])\n",
    "fig.colorbar(mpl.cm.ScalarMappable(norm=norm, cmap=cmap),label=\"RREV_threshold\")\n",
    "\n",
    "\n",
    "ax.set_xlabel('vx_d')\n",
    "ax.set_ylabel('vz_d')\n",
    "ax.set_zlabel('Delta_t [s]')\n",
    "\n",
    "ax.set_title('Time Rotating vs IC (Raw Data)')\n",
    "\n",
    "ax.set_zlim(0,0.5)\n",
    "\n",
    "\n",
    "\n",
    "\n",
    "plt.show()"
   ]
  },
  {
   "cell_type": "code",
   "execution_count": 10,
   "metadata": {},
   "outputs": [
    {
     "output_type": "display_data",
     "data": {
      "text/plain": "Canvas(toolbar=Toolbar(toolitems=[('Home', 'Reset original view', 'home', 'home'), ('Back', 'Back to previous …",
      "application/vnd.jupyter.widget-view+json": {
       "version_major": 2,
       "version_minor": 0,
       "model_id": "750f802e82e941ee8e0d74404fe42939"
      }
     },
     "metadata": {}
    }
   ],
   "source": [
    "fig = plt.figure()\n",
    "ax = fig.add_subplot(111,projection=\"3d\")\n",
    "\n",
    "df_temp = df.query(f\"landing_rate>={0.1}\")\n",
    "\n",
    "cmap = mpl.cm.rainbow\n",
    "norm = mpl.colors.Normalize(vmin=0,vmax=4)\n",
    "\n",
    "pcm = ax.scatter(df_temp['RREV_trigger'],df_temp['landing_rate'],df_temp['impact_tdelta'],c=df_temp['vz_d'],cmap=cmap)\n",
    "fig.colorbar(mpl.cm.ScalarMappable(norm=norm, cmap=cmap),label='Vz_d')\n",
    "\n",
    "\n",
    "ax.set_xlabel('RREV_trigger')\n",
    "ax.set_ylabel('Landing_rate')\n",
    "ax.set_zlabel('Delta_t [s]')\n",
    "\n",
    "ax.set_title('Time Rotating vs RREV (Raw Data)')\n",
    "\n",
    "ax.set_zlim(0,0.5)\n",
    "\n",
    "\n",
    "\n",
    "\n",
    "plt.show()"
   ]
  },
  {
   "source": [
    "# My_d vs IC Data"
   ],
   "cell_type": "markdown",
   "metadata": {}
  },
  {
   "cell_type": "code",
   "execution_count": 11,
   "metadata": {},
   "outputs": [
    {
     "output_type": "display_data",
     "data": {
      "text/plain": "Canvas(toolbar=Toolbar(toolitems=[('Home', 'Reset original view', 'home', 'home'), ('Back', 'Back to previous …",
      "application/vnd.jupyter.widget-view+json": {
       "version_major": 2,
       "version_minor": 0,
       "model_id": "af59900d86054551b00425d82029d1be"
      }
     },
     "metadata": {}
    }
   ],
   "source": [
    "## Define Dataframe\n",
    "\n",
    "df_temp = df.query(f\"landing_rate>={0.1}\")\n",
    "\n",
    "\n",
    "fig = plt.figure()\n",
    "ax = fig.add_subplot(111,projection=\"3d\")\n",
    "\n",
    "pcm = ax.scatter(df['vx_d'],df['vz_d'],df['My_d'])\n",
    "\n",
    "\n",
    "\n",
    "ax.set_xlabel('vx_d')\n",
    "ax.set_ylabel('vz_d')\n",
    "ax.set_zlabel('My_d [N*mm]')\n",
    "\n",
    "ax.set_title('My_d vs IC (Raw Data)')\n",
    "\n",
    "## I have more data for vz = (1.5,2.75) than vz = (3.00,4.0) so My_d differences are likely not a trend, just sparse data\n",
    "\n",
    "\n",
    "\n",
    "\n",
    "plt.show()"
   ]
  },
  {
   "source": [
    "# Impact Angle Data"
   ],
   "cell_type": "markdown",
   "metadata": {}
  },
  {
   "cell_type": "code",
   "execution_count": 12,
   "metadata": {},
   "outputs": [
    {
     "output_type": "display_data",
     "data": {
      "text/plain": "Canvas(toolbar=Toolbar(toolitems=[('Home', 'Reset original view', 'home', 'home'), ('Back', 'Back to previous …",
      "application/vnd.jupyter.widget-view+json": {
       "version_major": 2,
       "version_minor": 0,
       "model_id": "999998469ce245fbbca8c8c52a9d25bc"
      }
     },
     "metadata": {}
    }
   ],
   "source": [
    "df_temp = df.query(f\"impact_eul<={-60}\")\n",
    "# df_temp_avg = df_raw.groupby(['vz_d','vx_d']).agg([np.mean,np.std]).reset_index()\n",
    "\n",
    "\n",
    "\n",
    "## AVG LANDING RATE PLOT\n",
    "fig = plt.figure()\n",
    "ax = fig.add_subplot(111,projection=\"3d\")\n",
    "\n",
    "cmap = mpl.cm.rainbow\n",
    "norm = mpl.colors.Normalize(vmin=0,vmax=1)\n",
    "pcm = ax.scatter(df_temp['vx_d'],df_temp['vz_d'],-df_temp['impact_eul'],c=df_temp['landing_rate'],cmap=cmap)\n",
    "fig.colorbar(mpl.cm.ScalarMappable(norm=norm, cmap=cmap),label='Landing %')\n",
    "\n",
    "ax.set_xlabel('vx_d')\n",
    "ax.set_ylabel('vz_d')\n",
    "ax.set_zlabel('Impact Angle')\n",
    "\n",
    "\n",
    "ax.set_zlim(60,180)\n",
    "ax.set_zticks([60,90,120,150,180])\n",
    "\n",
    "## Failed landings in corner\n",
    "plt.show()"
   ]
  },
  {
   "cell_type": "code",
   "execution_count": 13,
   "metadata": {},
   "outputs": [
    {
     "output_type": "display_data",
     "data": {
      "text/plain": "Canvas(toolbar=Toolbar(toolitems=[('Home', 'Reset original view', 'home', 'home'), ('Back', 'Back to previous …",
      "application/vnd.jupyter.widget-view+json": {
       "version_major": 2,
       "version_minor": 0,
       "model_id": "9561896990a64f5fabb4430d000c0816"
      }
     },
     "metadata": {}
    }
   ],
   "source": [
    "## CLEAN DATAFRAME\n",
    "df_temp = df.query(f\"impact_eul<={-60}\")\n",
    "df_temp_avg = df_temp.groupby(['vz_d','vx_d']).agg([np.mean,np.std]).reset_index()\n",
    "\n",
    "\n",
    "## AVG LANDING RATE PLOT\n",
    "fig = plt.figure()\n",
    "ax = fig.add_subplot(111,projection=\"3d\")\n",
    "\n",
    "cmap = mpl.cm.jet\n",
    "norm = mpl.colors.Normalize(vmin=0,vmax=180)\n",
    "ax.plot_trisurf(df_temp_avg['vx_d'],df_temp_avg['vz_d'],-df_temp_avg['impact_eul','mean'],cmap=cmap)\n",
    "\n",
    "\n",
    "ax.set_xlim(0,2.75)\n",
    "ax.set_ylim(1.0,4.0)\n",
    "ax.set_zlim(60,180)\n",
    "ax.set_zticks([60,90,120,150,180])\n",
    "\n",
    "\n",
    "ax.set_xlabel('vx_d')\n",
    "ax.set_ylabel('vz_d')\n",
    "ax.set_zlabel('Impact Angle')\n",
    "\n",
    "ax.set_title('Avg Impact Angle vs IC')\n",
    "plt.show()"
   ]
  },
  {
   "source": [
    "# Moment vs RREV"
   ],
   "cell_type": "markdown",
   "metadata": {}
  },
  {
   "cell_type": "code",
   "execution_count": 14,
   "metadata": {},
   "outputs": [
    {
     "output_type": "display_data",
     "data": {
      "text/plain": "Canvas(toolbar=Toolbar(toolitems=[('Home', 'Reset original view', 'home', 'home'), ('Back', 'Back to previous …",
      "application/vnd.jupyter.widget-view+json": {
       "version_major": 2,
       "version_minor": 0,
       "model_id": "c865af123d414f9986e85cc0d63e4bcb"
      }
     },
     "metadata": {}
    }
   ],
   "source": [
    "## CLEAN DATAFRAME\n",
    "df_temp = df.query(f\"My_d<={7.7}\")\n",
    "df_temp_avg = df_temp.groupby(['vz_d','vx_d']).agg([np.mean,np.std]).reset_index()\n",
    "\n",
    "\n",
    "## AVG LANDING RATE PLOT\n",
    "fig = plt.figure()\n",
    "ax = fig.add_subplot(111)\n",
    "\n",
    "\n",
    "cmap = mpl.cm.Greys\n",
    "norm = mpl.colors.Normalize(vmin=0,vmax=1)\n",
    "\n",
    "ax.scatter(df_temp['RREV_threshold'],df_temp['My_d'],c=df_temp['landing_rate'],cmap=cmap)\n",
    "fig.colorbar(mpl.cm.ScalarMappable(norm=norm, cmap=cmap),label='Landing %')\n",
    "\n",
    "ax.grid()\n",
    "ax.set_xlim(2,7)\n",
    "ax.set_ylim(0,10)\n",
    "ax.hlines(7.77,2,7)\n",
    "ax.text(2.05,8.0,'Motors Maxed Out')\n",
    "\n",
    "ax.set_xlabel('RREV_thr')\n",
    "ax.set_ylabel('My_d [N*mm]')\n",
    "ax.set_title('Policy: My_d vs RREV_thr')\n",
    "\n",
    "plt.show()"
   ]
  },
  {
   "cell_type": "code",
   "execution_count": 15,
   "metadata": {},
   "outputs": [
    {
     "output_type": "display_data",
     "data": {
      "text/plain": "Canvas(toolbar=Toolbar(toolitems=[('Home', 'Reset original view', 'home', 'home'), ('Back', 'Back to previous …",
      "application/vnd.jupyter.widget-view+json": {
       "version_major": 2,
       "version_minor": 0,
       "model_id": "c2746d052b8a47f3bb039f1da734409e"
      }
     },
     "metadata": {}
    }
   ],
   "source": [
    "## CLEAN DATAFRAME\n",
    "df_temp = df.query(f\"My_d<={7.7}\")\n",
    "df_temp_avg = df_temp.groupby(['vz_d','vx_d']).agg([np.mean,np.std]).reset_index()\n",
    "\n",
    "## AVG LANDING RATE PLOT\n",
    "fig = plt.figure()\n",
    "ax = fig.add_subplot(111)\n",
    "\n",
    "\n",
    "cmap = mpl.cm.jet\n",
    "norm = mpl.colors.Normalize(vmin=0,vmax=3)\n",
    "\n",
    "ax.scatter(df_temp['RREV_threshold'],df_temp['My_d'],c=df_temp['vz_d'],cmap=cmap)\n",
    "fig.colorbar(mpl.cm.ScalarMappable(norm=norm, cmap=cmap),label='Vz_d')\n",
    "\n",
    "ax.grid()\n",
    "ax.set_xlim(2,7)\n",
    "ax.set_ylim(0,10)\n",
    "ax.hlines(7.77,2,7)\n",
    "ax.text(2.05,8.0,'Motors Maxed Out')\n",
    "\n",
    "ax.set_xlabel('RREV_thr')\n",
    "ax.set_ylabel('My_d [N*mm]')\n",
    "ax.set_title('Policy: My_d vs RREV_thr')\n",
    "## As Vz increases RREV_trigger decreases to preserve time to contact. It also finds a host of My_d that work and they vary because of the robustness of the legs and the fact that landing success isn't deterministic.\n",
    "plt.show()"
   ]
  },
  {
   "cell_type": "code",
   "execution_count": 16,
   "metadata": {},
   "outputs": [
    {
     "output_type": "display_data",
     "data": {
      "text/plain": "Canvas(toolbar=Toolbar(toolitems=[('Home', 'Reset original view', 'home', 'home'), ('Back', 'Back to previous …",
      "application/vnd.jupyter.widget-view+json": {
       "version_major": 2,
       "version_minor": 0,
       "model_id": "cb2aeed0edd84bb2827c66cc1d44452b"
      }
     },
     "metadata": {}
    }
   ],
   "source": [
    "## CLEAN DATAFRAME\n",
    "df_temp = df.query(f\"My_d<={7.7}\")\n",
    "df_temp_avg = df_temp.groupby(['vz_d','vx_d']).agg([np.mean,np.std]).reset_index()\n",
    "\n",
    "## AVG LANDING RATE PLOT\n",
    "fig = plt.figure()\n",
    "ax = fig.add_subplot(111,projection=\"3d\")\n",
    "\n",
    "cmap = mpl.cm.rainbow\n",
    "norm = mpl.colors.Normalize(vmin=0,vmax=1)\n",
    "\n",
    "ax.scatter(df_temp['RREV_threshold'],df_temp['vx_d'],df_temp['My_d'],c=df_temp['landing_rate'],cmap=cmap)\n",
    "fig.colorbar(mpl.cm.ScalarMappable(norm=norm, cmap=cmap),label='Landing %')\n",
    "\n",
    "ax.set_zlim(0,10)\n",
    "ax.set_xlim(2,7)\n",
    "\n",
    "ax.set_xlabel('RREV_trigger')\n",
    "ax.set_ylabel('vx_d')\n",
    "ax.set_zlabel('My_d')\n",
    "\n",
    "\n",
    "plt.show()"
   ]
  },
  {
   "source": [
    "# POLICY FITTING"
   ],
   "cell_type": "markdown",
   "metadata": {}
  },
  {
   "source": [
    "## RAW POLICY RELATION"
   ],
   "cell_type": "markdown",
   "metadata": {}
  },
  {
   "cell_type": "code",
   "execution_count": 19,
   "metadata": {},
   "outputs": [
    {
     "output_type": "display_data",
     "data": {
      "text/plain": "Canvas(toolbar=Toolbar(toolitems=[('Home', 'Reset original view', 'home', 'home'), ('Back', 'Back to previous …",
      "application/vnd.jupyter.widget-view+json": {
       "version_major": 2,
       "version_minor": 0,
       "model_id": "13e9596acc2446dfb04ce4c8c50a86e4"
      }
     },
     "metadata": {}
    }
   ],
   "source": [
    "## CLEAN DATAFRAME\n",
    "df_temp = df.query(f\"My_d<={7.7}\") # Remove extraneous moments higher than max\n",
    "\n",
    "## PLOT DATA\n",
    "fig = plt.figure()\n",
    "ax = fig.add_subplot(111,projection=\"3d\")\n",
    "\n",
    "cmap = mpl.cm.rainbow\n",
    "norm = mpl.colors.Normalize(vmin=0,vmax=1)\n",
    "\n",
    "ax.scatter(df_temp['RREV_threshold'],df_temp['OF_y'],df_temp['My_d'],c=df_temp['landing_rate'],cmap=cmap,norm=norm)\n",
    "fig.colorbar(mpl.cm.ScalarMappable(norm=norm, cmap=cmap),label='Landing Rate')\n",
    "\n",
    "ax.set_xlim(6,2)\n",
    "ax.set_ylim(-10,0)\n",
    "ax.set_zlim(0,10)\n",
    "\n",
    "ax.set_xlabel('RREV')\n",
    "ax.set_ylabel('OF_y')\n",
    "ax.set_zlabel('My_d')\n",
    "\n",
    "ax.set_title('Raw Policy Relation')\n",
    "\n",
    "\n",
    "plt.show()\n",
    "\n",
    "# Note: the planar look to the data"
   ]
  },
  {
   "cell_type": "code",
   "execution_count": 20,
   "metadata": {},
   "outputs": [
    {
     "output_type": "display_data",
     "data": {
      "text/plain": "Canvas(toolbar=Toolbar(toolitems=[('Home', 'Reset original view', 'home', 'home'), ('Back', 'Back to previous …",
      "application/vnd.jupyter.widget-view+json": {
       "version_major": 2,
       "version_minor": 0,
       "model_id": "1288f5926af54a3fb6270240ad04e34a"
      }
     },
     "metadata": {}
    }
   ],
   "source": [
    "## CLEAN DATAFRAME\n",
    "df_temp = df.query(f\"My_d<={7.7}\") # Remove extraneous moments higher than max\n",
    "df_temp = df_temp.query(f\"RREV_threshold>{3.5}\") # Remove outlier data\n",
    "df_temp = df_temp.query(f\"landing_rate>={0.8}\")\n",
    "\n",
    "## PLOT DATA\n",
    "fig = plt.figure()\n",
    "ax = fig.add_subplot(111,projection=\"3d\")\n",
    "\n",
    "cmap = mpl.cm.rainbow\n",
    "norm = mpl.colors.Normalize(vmin=0,vmax=1)\n",
    "\n",
    "ax.scatter(df_temp['RREV_threshold'],df_temp['OF_y'],df_temp['My_d'],c=df_temp['landing_rate'],cmap=cmap,norm=norm)\n",
    "fig.colorbar(mpl.cm.ScalarMappable(norm=norm, cmap=cmap),label='Landing Rate')\n",
    "\n",
    "ax.set_xlim(6,2)\n",
    "ax.set_ylim(-10,0)\n",
    "ax.set_zlim(0,10)\n",
    "\n",
    "ax.set_xlabel('RREV')\n",
    "ax.set_ylabel('OF_y')\n",
    "ax.set_zlabel('My_d')\n",
    "\n",
    "ax.set_title('Raw Policy Relation (LR > 80%)')\n",
    "\n",
    "\n",
    "plt.show()\n",
    "\n",
    "# Note: the planar look to the data"
   ]
  },
  {
   "cell_type": "code",
   "execution_count": 21,
   "metadata": {},
   "outputs": [
    {
     "output_type": "display_data",
     "data": {
      "text/plain": "Canvas(toolbar=Toolbar(toolitems=[('Home', 'Reset original view', 'home', 'home'), ('Back', 'Back to previous …",
      "application/vnd.jupyter.widget-view+json": {
       "version_major": 2,
       "version_minor": 0,
       "model_id": "7700dd26626b43aabd64862ae2d9bd4f"
      }
     },
     "metadata": {}
    }
   ],
   "source": [
    "## CLEAN DATAFRAME\n",
    "df_temp = df.query(f\"My_d<={7.7}\") # Remove extraneous moments higher than max\n",
    "df_temp = df_temp.query(f\"RREV_threshold>{3.5}\") # Remove outlier data\n",
    "df_temp = df_temp.query(f\"landing_rate>={0.5}\")\n",
    "\n",
    "## PLOT DATA\n",
    "fig = plt.figure()\n",
    "ax = fig.add_subplot(111,projection=\"3d\")\n",
    "\n",
    "cmap = mpl.cm.rainbow\n",
    "norm = mpl.colors.Normalize(vmin=0,vmax=1)\n",
    "\n",
    "ax.scatter(df_temp['RREV_threshold'],df_temp['OF_y'],df_temp['My_d'],c=df_temp['landing_rate'],cmap=cmap,norm=norm)\n",
    "fig.colorbar(mpl.cm.ScalarMappable(norm=norm, cmap=cmap),label='Landing Rate')\n",
    "\n",
    "ax.set_xlim(6,2)\n",
    "ax.set_ylim(-10,0)\n",
    "ax.set_zlim(0,10)\n",
    "\n",
    "ax.set_xlabel('RREV')\n",
    "ax.set_ylabel('OF_y')\n",
    "ax.set_zlabel('My_d')\n",
    "\n",
    "ax.set_title('Raw Policy Relation (LR > 50%)')\n",
    "\n",
    "\n",
    "plt.show()\n",
    "\n",
    "# Note: the planar look to the data"
   ]
  },
  {
   "source": [
    "# LINEAR MODEL FIT"
   ],
   "cell_type": "markdown",
   "metadata": {}
  },
  {
   "source": [
    "## Regression with y-based loss"
   ],
   "cell_type": "markdown",
   "metadata": {}
  },
  {
   "cell_type": "code",
   "execution_count": 22,
   "metadata": {},
   "outputs": [
    {
     "output_type": "stream",
     "name": "stdout",
     "text": [
      "Equation: My_d = -14.41 + 4.30*RREV + 0.03*OF_y \n\n"
     ]
    },
    {
     "output_type": "display_data",
     "data": {
      "text/plain": "Canvas(toolbar=Toolbar(toolitems=[('Home', 'Reset original view', 'home', 'home'), ('Back', 'Back to previous …",
      "application/vnd.jupyter.widget-view+json": {
       "version_major": 2,
       "version_minor": 0,
       "model_id": "a98ee7e260064cf9b5f4a3f054e5fd73"
      }
     },
     "metadata": {}
    },
    {
     "output_type": "execute_result",
     "data": {
      "text/plain": [
       "<class 'statsmodels.iolib.summary.Summary'>\n",
       "\"\"\"\n",
       "                            OLS Regression Results                            \n",
       "==============================================================================\n",
       "Dep. Variable:                   My_d   R-squared:                       0.646\n",
       "Model:                            OLS   Adj. R-squared:                  0.638\n",
       "Method:                 Least Squares   F-statistic:                     84.85\n",
       "Date:                Sat, 06 Feb 2021   Prob (F-statistic):           1.07e-21\n",
       "Time:                        19:22:37   Log-Likelihood:                -120.32\n",
       "No. Observations:                  96   AIC:                             246.6\n",
       "Df Residuals:                      93   BIC:                             254.3\n",
       "Df Model:                           2                                         \n",
       "Covariance Type:            nonrobust                                         \n",
       "==================================================================================\n",
       "                     coef    std err          t      P>|t|      [0.025      0.975]\n",
       "----------------------------------------------------------------------------------\n",
       "const            -14.4138      1.463     -9.850      0.000     -17.320     -11.508\n",
       "RREV_threshold     4.2972      0.336     12.775      0.000       3.629       4.965\n",
       "OF_y               0.0280      0.074      0.380      0.705      -0.118       0.174\n",
       "==============================================================================\n",
       "Omnibus:                        3.289   Durbin-Watson:                   2.222\n",
       "Prob(Omnibus):                  0.193   Jarque-Bera (JB):                3.433\n",
       "Skew:                           0.067   Prob(JB):                        0.180\n",
       "Kurtosis:                       3.917   Cond. No.                         90.5\n",
       "==============================================================================\n",
       "\n",
       "Notes:\n",
       "[1] Standard Errors assume that the covariance matrix of the errors is correctly specified.\n",
       "\"\"\""
      ],
      "text/html": "<table class=\"simpletable\">\n<caption>OLS Regression Results</caption>\n<tr>\n  <th>Dep. Variable:</th>          <td>My_d</td>       <th>  R-squared:         </th> <td>   0.646</td>\n</tr>\n<tr>\n  <th>Model:</th>                   <td>OLS</td>       <th>  Adj. R-squared:    </th> <td>   0.638</td>\n</tr>\n<tr>\n  <th>Method:</th>             <td>Least Squares</td>  <th>  F-statistic:       </th> <td>   84.85</td>\n</tr>\n<tr>\n  <th>Date:</th>             <td>Sat, 06 Feb 2021</td> <th>  Prob (F-statistic):</th> <td>1.07e-21</td>\n</tr>\n<tr>\n  <th>Time:</th>                 <td>19:22:37</td>     <th>  Log-Likelihood:    </th> <td> -120.32</td>\n</tr>\n<tr>\n  <th>No. Observations:</th>      <td>    96</td>      <th>  AIC:               </th> <td>   246.6</td>\n</tr>\n<tr>\n  <th>Df Residuals:</th>          <td>    93</td>      <th>  BIC:               </th> <td>   254.3</td>\n</tr>\n<tr>\n  <th>Df Model:</th>              <td>     2</td>      <th>                     </th>     <td> </td>   \n</tr>\n<tr>\n  <th>Covariance Type:</th>      <td>nonrobust</td>    <th>                     </th>     <td> </td>   \n</tr>\n</table>\n<table class=\"simpletable\">\n<tr>\n         <td></td>           <th>coef</th>     <th>std err</th>      <th>t</th>      <th>P>|t|</th>  <th>[0.025</th>    <th>0.975]</th>  \n</tr>\n<tr>\n  <th>const</th>          <td>  -14.4138</td> <td>    1.463</td> <td>   -9.850</td> <td> 0.000</td> <td>  -17.320</td> <td>  -11.508</td>\n</tr>\n<tr>\n  <th>RREV_threshold</th> <td>    4.2972</td> <td>    0.336</td> <td>   12.775</td> <td> 0.000</td> <td>    3.629</td> <td>    4.965</td>\n</tr>\n<tr>\n  <th>OF_y</th>           <td>    0.0280</td> <td>    0.074</td> <td>    0.380</td> <td> 0.705</td> <td>   -0.118</td> <td>    0.174</td>\n</tr>\n</table>\n<table class=\"simpletable\">\n<tr>\n  <th>Omnibus:</th>       <td> 3.289</td> <th>  Durbin-Watson:     </th> <td>   2.222</td>\n</tr>\n<tr>\n  <th>Prob(Omnibus):</th> <td> 0.193</td> <th>  Jarque-Bera (JB):  </th> <td>   3.433</td>\n</tr>\n<tr>\n  <th>Skew:</th>          <td> 0.067</td> <th>  Prob(JB):          </th> <td>   0.180</td>\n</tr>\n<tr>\n  <th>Kurtosis:</th>      <td> 3.917</td> <th>  Cond. No.          </th> <td>    90.5</td>\n</tr>\n</table><br/><br/>Notes:<br/>[1] Standard Errors assume that the covariance matrix of the errors is correctly specified."
     },
     "metadata": {},
     "execution_count": 22
    }
   ],
   "source": [
    "## CLEAN DATAFRAME\n",
    "df_clean = df.query(f\"My_d<={7.7}\") # Remove extraneous moments higher than max\n",
    "df_clean = df_clean.query(f\"RREV_threshold>{3.5}\") # Remove outlier data\n",
    "df_reg1 = df_clean.query(f\"landing_rate>={0.6}\")\n",
    "\n",
    "\n",
    "X = df_reg1[['RREV_threshold','OF_y']]\n",
    "Y = df_reg1['My_d']\n",
    "\n",
    "reg = linear_model.LinearRegression(normalize=True)\n",
    "reg.fit(X,Y)\n",
    "intercept = reg.intercept_\n",
    "coeffs = reg.coef_\n",
    "\n",
    "print(f\"Equation: My_d = {intercept:.2f} + {coeffs[0]:.2f}*RREV + {coeffs[1]:.2f}*OF_y \\n\")\n",
    "\n",
    "\n",
    "## PLOT DATA\n",
    "fig = plt.figure()\n",
    "ax = fig.add_subplot(111,projection=\"3d\")\n",
    "\n",
    "\n",
    "My_reg = intercept + coeffs[0]*df_reg1['RREV_threshold'] + coeffs[1]*df_reg1['OF_y']\n",
    "ax.plot_trisurf(df_reg1['RREV_threshold'],df_reg1['OF_y'],My_reg,label='Linear_Regression',color='blue',zorder=2)\n",
    "\n",
    "\n",
    "cmap = mpl.cm.rainbow\n",
    "norm = mpl.colors.Normalize(vmin=0,vmax=1)\n",
    "fig.colorbar(mpl.cm.ScalarMappable(norm=norm, cmap=cmap),label='Landing Rate')\n",
    "\n",
    "ax.scatter(df_reg1['RREV_threshold'],df_reg1['OF_y'],df_reg1['My_d'],c=df_reg1['landing_rate'],cmap=cmap,norm=norm,zorder=1)\n",
    "\n",
    "\n",
    "\n",
    "ax.set_xlim(6,2)\n",
    "ax.set_ylim(-10,0)\n",
    "ax.set_zlim(0,10)\n",
    "\n",
    "\n",
    "ax.set_xlabel('RREV')\n",
    "ax.set_ylabel('OF_y')\n",
    "ax.set_zlabel('My_d')\n",
    "\n",
    "\n",
    "plt.show()\n",
    "\n",
    "## Regression Analysis\n",
    "\n",
    "import statsmodels.api as ssm       # for detail description of linear coefficients, intercepts, deviations, and many more\n",
    "X=ssm.add_constant(X)               # to add constant value in the model\n",
    "model= ssm.OLS(Y,X).fit()           # fitting the model\n",
    "predictions= model.summary()        # summary of the model\n",
    "predictions\n",
    "\n",
    "\n",
    "\n"
   ]
  },
  {
   "cell_type": "code",
   "execution_count": 23,
   "metadata": {},
   "outputs": [],
   "source": [
    "# def r_squared(y, y_hat): #Manual R^2 value\n",
    "#     y_bar = y.mean()\n",
    "#     ss_tot = ((y-y_bar)**2).sum()\n",
    "#     ss_res = ((y-y_hat)**2).sum()\n",
    "#     return 1 - (ss_res/ss_tot)\n",
    "\n",
    "# R2 = r_squared(df_reg['My_d'],My_reg)\n",
    "# print(f\"R^2: {R2:.3f}\")"
   ]
  },
  {
   "source": [
    "## Regression with x-based loss\n"
   ],
   "cell_type": "markdown",
   "metadata": {}
  },
  {
   "cell_type": "code",
   "execution_count": 24,
   "metadata": {},
   "outputs": [
    {
     "output_type": "stream",
     "name": "stdout",
     "text": [
      "Equation: RREV_reg = 3.70 + 0.15*My_d + -0.02*OF_y \n\n"
     ]
    },
    {
     "output_type": "display_data",
     "data": {
      "text/plain": "Canvas(toolbar=Toolbar(toolitems=[('Home', 'Reset original view', 'home', 'home'), ('Back', 'Back to previous …",
      "application/vnd.jupyter.widget-view+json": {
       "version_major": 2,
       "version_minor": 0,
       "model_id": "a0bcaa9dec954522a657d398d010715f"
      }
     },
     "metadata": {}
    },
    {
     "output_type": "execute_result",
     "data": {
      "text/plain": [
       "<class 'statsmodels.iolib.summary.Summary'>\n",
       "\"\"\"\n",
       "                            OLS Regression Results                            \n",
       "==============================================================================\n",
       "Dep. Variable:         RREV_threshold   R-squared:                       0.655\n",
       "Model:                            OLS   Adj. R-squared:                  0.648\n",
       "Method:                 Least Squares   F-statistic:                     88.37\n",
       "Date:                Sat, 06 Feb 2021   Prob (F-statistic):           3.13e-22\n",
       "Time:                        19:22:38   Log-Likelihood:                 41.293\n",
       "No. Observations:                  96   AIC:                            -76.59\n",
       "Df Residuals:                      93   BIC:                            -68.89\n",
       "Df Model:                           2                                         \n",
       "Covariance Type:            nonrobust                                         \n",
       "==============================================================================\n",
       "                 coef    std err          t      P>|t|      [0.025      0.975]\n",
       "------------------------------------------------------------------------------\n",
       "const          3.6997      0.061     60.452      0.000       3.578       3.821\n",
       "My_d           0.1482      0.012     12.775      0.000       0.125       0.171\n",
       "OF_y          -0.0220      0.014     -1.626      0.107      -0.049       0.005\n",
       "==============================================================================\n",
       "Omnibus:                        2.225   Durbin-Watson:                   2.042\n",
       "Prob(Omnibus):                  0.329   Jarque-Bera (JB):                1.836\n",
       "Skew:                           0.053   Prob(JB):                        0.399\n",
       "Kurtosis:                       3.669   Cond. No.                         21.2\n",
       "==============================================================================\n",
       "\n",
       "Notes:\n",
       "[1] Standard Errors assume that the covariance matrix of the errors is correctly specified.\n",
       "\"\"\""
      ],
      "text/html": "<table class=\"simpletable\">\n<caption>OLS Regression Results</caption>\n<tr>\n  <th>Dep. Variable:</th>     <td>RREV_threshold</td>  <th>  R-squared:         </th> <td>   0.655</td>\n</tr>\n<tr>\n  <th>Model:</th>                   <td>OLS</td>       <th>  Adj. R-squared:    </th> <td>   0.648</td>\n</tr>\n<tr>\n  <th>Method:</th>             <td>Least Squares</td>  <th>  F-statistic:       </th> <td>   88.37</td>\n</tr>\n<tr>\n  <th>Date:</th>             <td>Sat, 06 Feb 2021</td> <th>  Prob (F-statistic):</th> <td>3.13e-22</td>\n</tr>\n<tr>\n  <th>Time:</th>                 <td>19:22:38</td>     <th>  Log-Likelihood:    </th> <td>  41.293</td>\n</tr>\n<tr>\n  <th>No. Observations:</th>      <td>    96</td>      <th>  AIC:               </th> <td>  -76.59</td>\n</tr>\n<tr>\n  <th>Df Residuals:</th>          <td>    93</td>      <th>  BIC:               </th> <td>  -68.89</td>\n</tr>\n<tr>\n  <th>Df Model:</th>              <td>     2</td>      <th>                     </th>     <td> </td>   \n</tr>\n<tr>\n  <th>Covariance Type:</th>      <td>nonrobust</td>    <th>                     </th>     <td> </td>   \n</tr>\n</table>\n<table class=\"simpletable\">\n<tr>\n    <td></td>       <th>coef</th>     <th>std err</th>      <th>t</th>      <th>P>|t|</th>  <th>[0.025</th>    <th>0.975]</th>  \n</tr>\n<tr>\n  <th>const</th> <td>    3.6997</td> <td>    0.061</td> <td>   60.452</td> <td> 0.000</td> <td>    3.578</td> <td>    3.821</td>\n</tr>\n<tr>\n  <th>My_d</th>  <td>    0.1482</td> <td>    0.012</td> <td>   12.775</td> <td> 0.000</td> <td>    0.125</td> <td>    0.171</td>\n</tr>\n<tr>\n  <th>OF_y</th>  <td>   -0.0220</td> <td>    0.014</td> <td>   -1.626</td> <td> 0.107</td> <td>   -0.049</td> <td>    0.005</td>\n</tr>\n</table>\n<table class=\"simpletable\">\n<tr>\n  <th>Omnibus:</th>       <td> 2.225</td> <th>  Durbin-Watson:     </th> <td>   2.042</td>\n</tr>\n<tr>\n  <th>Prob(Omnibus):</th> <td> 0.329</td> <th>  Jarque-Bera (JB):  </th> <td>   1.836</td>\n</tr>\n<tr>\n  <th>Skew:</th>          <td> 0.053</td> <th>  Prob(JB):          </th> <td>   0.399</td>\n</tr>\n<tr>\n  <th>Kurtosis:</th>      <td> 3.669</td> <th>  Cond. No.          </th> <td>    21.2</td>\n</tr>\n</table><br/><br/>Notes:<br/>[1] Standard Errors assume that the covariance matrix of the errors is correctly specified."
     },
     "metadata": {},
     "execution_count": 24
    }
   ],
   "source": [
    "## CLEAN DATAFRAME\n",
    "df_clean = df.query(f\"My_d<={7.7}\") # Remove extraneous moments higher than max\n",
    "df_clean = df_clean.query(f\"RREV_threshold>{3.5}\") # Remove outlier data\n",
    "df_reg1 = df_clean.query(f\"landing_rate>={0.6}\")\n",
    "\n",
    "\n",
    "X = df_reg1[['My_d','OF_y']]\n",
    "Y = df_reg1['RREV_threshold']\n",
    "\n",
    "reg = linear_model.LinearRegression(normalize=True)\n",
    "reg.fit(X,Y)\n",
    "intercept = reg.intercept_\n",
    "coeffs = reg.coef_\n",
    "\n",
    "print(f\"Equation: RREV_reg = {intercept:.2f} + {coeffs[0]:.2f}*My_d + {coeffs[1]:.2f}*OF_y \\n\")\n",
    "\n",
    "\n",
    "## PLOT DATA\n",
    "fig = plt.figure()\n",
    "ax = fig.add_subplot(111,projection=\"3d\")\n",
    "\n",
    "\n",
    "RREV_reg = intercept + coeffs[0]*df_reg1['My_d'] + coeffs[1]*df_reg1['OF_y']\n",
    "ax.plot_trisurf(RREV_reg,df_reg1['OF_y'],df_reg1['My_d'],label='Linear_Regression',color='blue',zorder=2)\n",
    "\n",
    "\n",
    "cmap = mpl.cm.rainbow\n",
    "norm = mpl.colors.Normalize(vmin=0,vmax=1)\n",
    "fig.colorbar(mpl.cm.ScalarMappable(norm=norm, cmap=cmap),label='Landing Rate')\n",
    "\n",
    "ax.scatter(df_reg1['RREV_threshold'],df_reg1['OF_y'],df_reg1['My_d'],c=df_reg1['landing_rate'],cmap=cmap,norm=norm,zorder=1)\n",
    "\n",
    "\n",
    "\n",
    "ax.set_xlim(6,2)\n",
    "ax.set_ylim(-10,0)\n",
    "ax.set_zlim(0,10)\n",
    "\n",
    "\n",
    "ax.set_xlabel('RREV')\n",
    "ax.set_ylabel('OF_y')\n",
    "ax.set_zlabel('My_d')\n",
    "\n",
    "\n",
    "plt.show()\n",
    "\n",
    "## Regression Analysis\n",
    "\n",
    "import statsmodels.api as ssm       # for detail description of linear coefficients, intercepts, deviations, and many more\n",
    "X=ssm.add_constant(X)               # to add constant value in the model\n",
    "model= ssm.OLS(Y,X).fit()           # fitting the model\n",
    "predictions= model.summary()        # summary of the model\n",
    "predictions\n",
    "\n",
    "\n",
    "\n"
   ]
  },
  {
   "cell_type": "code",
   "execution_count": null,
   "metadata": {},
   "outputs": [],
   "source": []
  },
  {
   "cell_type": "code",
   "execution_count": 25,
   "metadata": {},
   "outputs": [
    {
     "output_type": "display_data",
     "data": {
      "text/plain": "Canvas(toolbar=Toolbar(toolitems=[('Home', 'Reset original view', 'home', 'home'), ('Back', 'Back to previous …",
      "application/vnd.jupyter.widget-view+json": {
       "version_major": 2,
       "version_minor": 0,
       "model_id": "f07d89bdabc34206ba63f7944fef1b4d"
      }
     },
     "metadata": {}
    }
   ],
   "source": [
    "## PLOT FULL DATA\n",
    "fig = plt.figure()\n",
    "ax = fig.add_subplot(111,projection=\"3d\")\n",
    "\n",
    "\n",
    "ax.plot_trisurf(RREV_reg,df_reg1['OF_y'],df_reg1['My_d'],label='Linear_Regression',color='blue',zorder=2)\n",
    "\n",
    "\n",
    "cmap = mpl.cm.rainbow\n",
    "norm = mpl.colors.Normalize(vmin=0,vmax=1)\n",
    "fig.colorbar(mpl.cm.ScalarMappable(norm=norm, cmap=cmap),label='Landing Rate')\n",
    "\n",
    "ax.scatter(df_clean['RREV_threshold'],df_clean['OF_y'],df_clean['My_d'],c=df_clean['landing_rate'],cmap=cmap,norm=norm,zorder=1)\n",
    "\n",
    "\n",
    "\n",
    "ax.set_xlim(6,2)\n",
    "ax.set_ylim(-10,0)\n",
    "ax.set_zlim(0,10)\n",
    "\n",
    "\n",
    "ax.set_xlabel('RREV')\n",
    "ax.set_ylabel('OF_y')\n",
    "ax.set_zlabel('My_d')\n",
    "\n",
    "\n",
    "plt.show()\n",
    "\n"
   ]
  },
  {
   "cell_type": "code",
   "execution_count": 26,
   "metadata": {},
   "outputs": [
    {
     "output_type": "display_data",
     "data": {
      "text/plain": "Canvas(toolbar=Toolbar(toolitems=[('Home', 'Reset original view', 'home', 'home'), ('Back', 'Back to previous …",
      "application/vnd.jupyter.widget-view+json": {
       "version_major": 2,
       "version_minor": 0,
       "model_id": "41541e2e8cc34eba9ba6e2e4f9931a5a"
      }
     },
     "metadata": {}
    },
    {
     "output_type": "error",
     "ename": "NameError",
     "evalue": "name 'r_squared' is not defined",
     "traceback": [
      "\u001b[0;31m---------------------------------------------------------------------------\u001b[0m",
      "\u001b[0;31mNameError\u001b[0m                                 Traceback (most recent call last)",
      "\u001b[0;32m<ipython-input-26-d3e7e47c83da>\u001b[0m in \u001b[0;36m<module>\u001b[0;34m\u001b[0m\n\u001b[1;32m     27\u001b[0m     \u001b[0max\u001b[0m\u001b[0;34m.\u001b[0m\u001b[0mplot_trisurf\u001b[0m\u001b[0;34m(\u001b[0m\u001b[0mRREV_reg\u001b[0m\u001b[0;34m,\u001b[0m\u001b[0mdf_reg1\u001b[0m\u001b[0;34m[\u001b[0m\u001b[0;34m'OF_y'\u001b[0m\u001b[0;34m]\u001b[0m\u001b[0;34m,\u001b[0m\u001b[0mdf_reg1\u001b[0m\u001b[0;34m[\u001b[0m\u001b[0;34m'My_d'\u001b[0m\u001b[0;34m]\u001b[0m\u001b[0;34m,\u001b[0m\u001b[0mlabel\u001b[0m\u001b[0;34m=\u001b[0m\u001b[0;34m'Linear_Regression'\u001b[0m\u001b[0;34m)\u001b[0m\u001b[0;34m\u001b[0m\u001b[0;34m\u001b[0m\u001b[0m\n\u001b[1;32m     28\u001b[0m \u001b[0;34m\u001b[0m\u001b[0m\n\u001b[0;32m---> 29\u001b[0;31m     \u001b[0mR2\u001b[0m \u001b[0;34m=\u001b[0m \u001b[0mr_squared\u001b[0m\u001b[0;34m(\u001b[0m\u001b[0mdf_reg1\u001b[0m\u001b[0;34m[\u001b[0m\u001b[0;34m'RREV_threshold'\u001b[0m\u001b[0;34m]\u001b[0m\u001b[0;34m,\u001b[0m\u001b[0mRREV_reg\u001b[0m\u001b[0;34m)\u001b[0m\u001b[0;34m\u001b[0m\u001b[0;34m\u001b[0m\u001b[0m\n\u001b[0m\u001b[1;32m     30\u001b[0m     \u001b[0mprint\u001b[0m\u001b[0;34m(\u001b[0m\u001b[0;34mf\"R^2: {R2:.3f}\"\u001b[0m\u001b[0;34m)\u001b[0m\u001b[0;34m\u001b[0m\u001b[0;34m\u001b[0m\u001b[0m\n\u001b[1;32m     31\u001b[0m \u001b[0;34m\u001b[0m\u001b[0m\n",
      "\u001b[0;31mNameError\u001b[0m: name 'r_squared' is not defined"
     ]
    }
   ],
   "source": [
    "## CLEAN DATAFRAME\n",
    "df_clean = df.query(f\"My_d<={7.7}\") # Remove extraneous moments higher than max\n",
    "df_clean = df_clean.query(f\"RREV_threshold>{3.5}\") # Remove outlier data\n",
    "df_reg1 = df_clean.query(f\"landing_rate>={0.8}\")\n",
    "\n",
    "\n",
    "fig = plt.figure()\n",
    "ax = fig.add_subplot(111,projection=\"3d\")\n",
    "\n",
    "\n",
    "for ii in np.arange(1,0.2,-.2):\n",
    "    df_reg1 = df.query(f\"landing_rate<={ii} & landing_rate>{ii-.2} & RREV_threshold>{3.5}\")\n",
    "    \n",
    "    X = df_reg1[['My_d','OF_y']]\n",
    "    Y = df_reg1['RREV_threshold']\n",
    "\n",
    "    reg2 = linear_model.LinearRegression(normalize=True)\n",
    "    reg2.fit(X,Y)\n",
    "\n",
    "    intercept = reg2.intercept_\n",
    "    coeffs = reg2.coef_\n",
    "\n",
    "    # print(intercept)\n",
    "    # print(coeffs)\n",
    "\n",
    "    RREV_reg = intercept + coeffs[0]*df_reg1['My_d'] + coeffs[1]*df_reg1['OF_y']\n",
    "    ax.plot_trisurf(RREV_reg,df_reg1['OF_y'],df_reg1['My_d'],label='Linear_Regression')\n",
    "\n",
    "    R2 = r_squared(df_reg1['RREV_threshold'],RREV_reg)\n",
    "    print(f\"R^2: {R2:.3f}\")\n",
    "\n",
    "ax.set_xlim(6,3.5)\n",
    "ax.set_ylim(-10,0)\n",
    "ax.set_zlim(0,10)\n",
    "\n",
    "\n",
    "ax.set_xlabel('RREV')\n",
    "ax.set_ylabel('OF_y')\n",
    "ax.set_zlabel('My_d')\n",
    "\n",
    "\n",
    "plt.show()\n",
    "\n"
   ]
  },
  {
   "cell_type": "code",
   "execution_count": 46,
   "metadata": {},
   "outputs": [
    {
     "output_type": "execute_result",
     "data": {
      "text/plain": [
       "array([1. , 0.8, 0.6, 0.4])"
      ]
     },
     "metadata": {},
     "execution_count": 46
    }
   ],
   "source": [
    "\n"
   ]
  },
  {
   "cell_type": "code",
   "execution_count": null,
   "metadata": {},
   "outputs": [],
   "source": [
    "import scipy.odr\n",
    "\n",
    "## CLEAN DATAFRAME\n",
    "df_clean = df.query(f\"My_d<={7.7}\") # Remove extraneous moments higher than max\n",
    "df_clean = df_clean.query(f\"RREV_threshold>{3.5}\") # Remove outlier data\n",
    "df_reg1 = df_clean.query(f\"landing_rate>={0.8}\")\n",
    "\n",
    "\n",
    "# X = df_reg1[['My_d','OF_y']]\n",
    "x1 = df_reg1['RREV_threshold'].to_numpy()\n",
    "x2 = df_reg1['OF_y'].to_numpy()\n",
    "X = np.row_stack( (x1, x2) )\n",
    "\n",
    "Y = df_reg1['My_d'].to_numpy()\n",
    "\n",
    "def linfit(beta,x):\n",
    "    return beta[0]*x[0] + beta[1]*x[1] + beta[2]\n",
    "\n",
    "linmod = scipy.odr.Model(linfit)\n",
    "data = scipy.odr.Data(X,Y)\n",
    "odrfit = scipy.odr.ODR(data,linmod,beta0 = [-0.1,0.1,4.0])\n",
    "odrres = odrfit.run()\n",
    "odrres.pprint()\n",
    "\n",
    "\n",
    "\n",
    "\n",
    "## PLOT DATA\n",
    "fig = plt.figure()\n",
    "ax = fig.add_subplot(111,projection=\"3d\")\n",
    "\n",
    "\n",
    "My_reg = odrres.beta[0]*df_reg1['RREV_threshold'] + odrres.beta[1]*df_reg1['OF_y'] + odrres.beta[2]\n",
    "ax.plot_trisurf(df_reg1['RREV_threshold'],df_reg1['OF_y'],My_reg,label='Linear_Regression',color='blue',zorder=2)\n",
    "\n",
    "\n",
    "cmap = mpl.cm.rainbow\n",
    "norm = mpl.colors.Normalize(vmin=0,vmax=1)\n",
    "fig.colorbar(mpl.cm.ScalarMappable(norm=norm, cmap=cmap),label='Landing Rate')\n",
    "\n",
    "ax.scatter(df_reg1['RREV_threshold'],df_reg1['OF_y'],df_reg1['My_d'],c=df_reg1['landing_rate'],cmap=cmap,norm=norm,zorder=1)\n",
    "\n",
    "\n",
    "\n",
    "ax.set_xlim(6,2)\n",
    "ax.set_ylim(-10,0)\n",
    "ax.set_zlim(0,10)\n",
    "\n",
    "\n",
    "ax.set_xlabel('RREV')\n",
    "ax.set_ylabel('OF_y')\n",
    "ax.set_zlabel('My_d')\n",
    "\n",
    "\n",
    "plt.show()\n"
   ]
  },
  {
   "cell_type": "code",
   "execution_count": null,
   "metadata": {},
   "outputs": [],
   "source": []
  },
  {
   "cell_type": "code",
   "execution_count": null,
   "metadata": {},
   "outputs": [],
   "source": []
  }
 ]
}