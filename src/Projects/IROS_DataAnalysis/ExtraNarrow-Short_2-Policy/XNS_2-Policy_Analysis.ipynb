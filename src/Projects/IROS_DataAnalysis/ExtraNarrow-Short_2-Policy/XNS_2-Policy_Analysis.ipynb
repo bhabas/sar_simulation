{
 "metadata": {
  "language_info": {
   "codemirror_mode": {
    "name": "ipython",
    "version": 3
   },
   "file_extension": ".py",
   "mimetype": "text/x-python",
   "name": "python",
   "nbconvert_exporter": "python",
   "pygments_lexer": "ipython3",
   "version": "3.8.5-final"
  },
  "orig_nbformat": 2,
  "kernelspec": {
   "name": "python38564bit0282941c0ba945238a13db8c20574d9c",
   "display_name": "Python 3.8.5 64-bit",
   "language": "python"
  }
 },
 "nbformat": 4,
 "nbformat_minor": 2,
 "cells": [
  {
   "source": [
    "# Module Imports"
   ],
   "cell_type": "markdown",
   "metadata": {}
  },
  {
   "cell_type": "code",
   "execution_count": 27,
   "metadata": {},
   "outputs": [],
   "source": [
    "## IMPORT MODULES\n",
    "import pandas as pd\n",
    "import numpy as np\n",
    "from sklearn import linear_model\n"
   ]
  },
  {
   "cell_type": "code",
   "execution_count": 28,
   "metadata": {},
   "outputs": [],
   "source": [
    "## IMPORT PLOTTING MODULES\n",
    "import matplotlib.pyplot as plt\n",
    "from mpl_toolkits import mplot3d\n",
    "import matplotlib as mpl\n",
    "from matplotlib import cm\n",
    "%matplotlib widget"
   ]
  },
  {
   "source": [
    "# Dataframe"
   ],
   "cell_type": "markdown",
   "metadata": {}
  },
  {
   "cell_type": "code",
   "execution_count": 29,
   "metadata": {},
   "outputs": [],
   "source": [
    "## FULL DATAFRAME\n",
    "df_raw = pd.read_pcm = NS_2-Policy_Summary.csv\")\n",
    "\n",
    "## Drop extraneous data points\n",
    "df_raw = df_raw.drop(df_raw[\n",
    "    (df_raw['landing_rate']<=0.1) & \n",
    "    (df_raw['vz_d']>=2.75)\n",
    "    ].index)\n",
    "\n",
    "df_raw = df_raw.drop(df_raw[\n",
    "    (df_raw['landing_rate']<=0.1) & \n",
    "    (df_raw['vx_d']>=1.0)\n",
    "    ].index)\n",
    "\n",
    "df_raw_avg = df_raw.groupby(['vz_d','vx_d']).agg([np.mean,np.std]).reset_index()\n",
    "\n",
    "\n",
    "# df_temp = df.query(f\"landing_rate>={0.2}\")\n",
    "# df_temp_avg = df_raw.groupby(['vz_d','vx_d']).agg([np.mean,np.std]).reset_index()\n",
    "\n",
    "\n",
    "df = df_raw\n",
    "df['My_d'] = df['My_d'].apply(lambda x: np.abs(x)) # Convert My to magnitude\n",
    "# df['My_d'] = df['My_d'].apply(lambda x: 7.7 if x>7.7 else x) # Cap My_d to max moment\n",
    "df = df.drop(df[(df['vz_d']<= 2.25) & (df['vx_d']<= 0.75)].index) # Drop corner with no successful landings\n",
    "df = df.dropna()\n",
    "\n",
    "## AVERAGED DATAFRAME\n",
    "df_avg = df.groupby(['vz_d','vx_d']).agg([np.mean,np.std]).reset_index()"
   ]
  },
  {
   "cell_type": "code",
   "execution_count": 30,
   "metadata": {},
   "outputs": [
    {
     "output_type": "execute_result",
     "data": {
      "text/plain": [
       "     vz_d  vx_d  trial_num  landing_rate  RREV_threshold     G1  RREV_sig  \\\n",
       "29   1.50  1.00          5      0.555556            4.56   6.21      0.00   \n",
       "58   1.75  1.00          0      0.166667            4.67   4.94      0.04   \n",
       "61   1.75  1.00          3      0.470588            4.91   8.21      0.02   \n",
       "62   1.75  1.00          4      0.750000            4.69  10.97      0.02   \n",
       "63   1.75  1.00          5      0.523810            4.47   7.89      0.02   \n",
       "..    ...   ...        ...           ...             ...    ...       ...   \n",
       "738  4.00  2.50          3      1.000000            2.80  11.72      0.00   \n",
       "739  4.00  2.50          4      0.681818            4.59   5.72      0.00   \n",
       "740  4.00  2.50          5      0.631579            3.74   1.66      0.00   \n",
       "742  4.00  2.75          1      0.500000            4.86   6.88      0.00   \n",
       "743  4.00  2.75          2      0.650000            3.69   2.05      0.06   \n",
       "\n",
       "     G1_sig  RREV_trigger      OF_y       My_d  impact_eul  impact_tdelta  \\\n",
       "29     0.17      4.934700 -2.874500   6.246500 -155.635063       0.207800   \n",
       "58     0.08      5.110333 -2.597000   4.949000 -149.076994       0.229333   \n",
       "61     0.01      5.183750 -2.635250   8.202000 -150.840209       0.186750   \n",
       "62     1.73      5.028267 -2.556200  10.181267 -144.422214       0.185600   \n",
       "63     0.17      4.976636 -2.530091   7.862545 -150.676506       0.195455   \n",
       "..      ...           ...       ...        ...         ...            ...   \n",
       "738    0.86      3.045000 -1.811000  11.673000 -125.230059       0.240000   \n",
       "739    0.00      4.924200 -2.919933   5.718067  -51.719035       0.235867   \n",
       "740    0.00      4.022250 -2.386917   1.658917 -148.378890       0.354500   \n",
       "742    0.03      5.102667 -3.343000   6.878667 -166.136087       0.214000   \n",
       "743    0.08      4.045538 -2.642077   2.089769  -62.518912       0.337846   \n",
       "\n",
       "    alpha_mu alpha_sigma       mu_ini  sigma_ini  \n",
       "29   [0. 0.]     [0. 0.]  [4.3  4.85]  [1.5 1.5]  \n",
       "58   [0. 0.]     [0. 0.]  [4.77 6.08]  [1.5 1.5]  \n",
       "61   [0. 0.]     [0. 0.]  [2.7  3.85]  [1.5 1.5]  \n",
       "62   [0. 0.]     [0. 0.]  [5.07 1.08]  [1.5 1.5]  \n",
       "63   [0. 0.]     [0. 0.]  [6.04 6.92]  [1.5 1.5]  \n",
       "..       ...         ...          ...        ...  \n",
       "738  [0. 0.]     [0. 0.]  [1.98 5.83]  [1.5 1.5]  \n",
       "739  [0. 0.]     [0. 0.]  [5.93 5.89]  [1.5 1.5]  \n",
       "740  [0. 0.]     [0. 0.]  [4.44 1.78]  [1.5 1.5]  \n",
       "742  [0. 0.]     [0. 0.]  [2.54 4.52]  [1.5 1.5]  \n",
       "743  [0. 0.]     [0. 0.]  [1.61 1.26]  [1.5 1.5]  \n",
       "\n",
       "[367 rows x 17 columns]"
      ],
      "text/html": "<div>\n<style scoped>\n    .dataframe tbody tr th:only-of-type {\n        vertical-align: middle;\n    }\n\n    .dataframe tbody tr th {\n        vertical-align: top;\n    }\n\n    .dataframe thead th {\n        text-align: right;\n    }\n</style>\n<table border=\"1\" class=\"dataframe\">\n  <thead>\n    <tr style=\"text-align: right;\">\n      <th></th>\n      <th>vz_d</th>\n      <th>vx_d</th>\n      <th>trial_num</th>\n      <th>landing_rate</th>\n      <th>RREV_threshold</th>\n      <th>G1</th>\n      <th>RREV_sig</th>\n      <th>G1_sig</th>\n      <th>RREV_trigger</th>\n      <th>OF_y</th>\n      <th>My_d</th>\n      <th>impact_eul</th>\n      <th>impact_tdelta</th>\n      <th>alpha_mu</th>\n      <th>alpha_sigma</th>\n      <th>mu_ini</th>\n      <th>sigma_ini</th>\n    </tr>\n  </thead>\n  <tbody>\n    <tr>\n      <th>29</th>\n      <td>1.50</td>\n      <td>1.00</td>\n      <td>5</td>\n      <td>0.555556</td>\n      <td>4.56</td>\n      <td>6.21</td>\n      <td>0.00</td>\n      <td>0.17</td>\n      <td>4.934700</td>\n      <td>-2.874500</td>\n      <td>6.246500</td>\n      <td>-155.635063</td>\n      <td>0.207800</td>\n      <td>[0. 0.]</td>\n      <td>[0. 0.]</td>\n      <td>[4.3  4.85]</td>\n      <td>[1.5 1.5]</td>\n    </tr>\n    <tr>\n      <th>58</th>\n      <td>1.75</td>\n      <td>1.00</td>\n      <td>0</td>\n      <td>0.166667</td>\n      <td>4.67</td>\n      <td>4.94</td>\n      <td>0.04</td>\n      <td>0.08</td>\n      <td>5.110333</td>\n      <td>-2.597000</td>\n      <td>4.949000</td>\n      <td>-149.076994</td>\n      <td>0.229333</td>\n      <td>[0. 0.]</td>\n      <td>[0. 0.]</td>\n      <td>[4.77 6.08]</td>\n      <td>[1.5 1.5]</td>\n    </tr>\n    <tr>\n      <th>61</th>\n      <td>1.75</td>\n      <td>1.00</td>\n      <td>3</td>\n      <td>0.470588</td>\n      <td>4.91</td>\n      <td>8.21</td>\n      <td>0.02</td>\n      <td>0.01</td>\n      <td>5.183750</td>\n      <td>-2.635250</td>\n      <td>8.202000</td>\n      <td>-150.840209</td>\n      <td>0.186750</td>\n      <td>[0. 0.]</td>\n      <td>[0. 0.]</td>\n      <td>[2.7  3.85]</td>\n      <td>[1.5 1.5]</td>\n    </tr>\n    <tr>\n      <th>62</th>\n      <td>1.75</td>\n      <td>1.00</td>\n      <td>4</td>\n      <td>0.750000</td>\n      <td>4.69</td>\n      <td>10.97</td>\n      <td>0.02</td>\n      <td>1.73</td>\n      <td>5.028267</td>\n      <td>-2.556200</td>\n      <td>10.181267</td>\n      <td>-144.422214</td>\n      <td>0.185600</td>\n      <td>[0. 0.]</td>\n      <td>[0. 0.]</td>\n      <td>[5.07 1.08]</td>\n      <td>[1.5 1.5]</td>\n    </tr>\n    <tr>\n      <th>63</th>\n      <td>1.75</td>\n      <td>1.00</td>\n      <td>5</td>\n      <td>0.523810</td>\n      <td>4.47</td>\n      <td>7.89</td>\n      <td>0.02</td>\n      <td>0.17</td>\n      <td>4.976636</td>\n      <td>-2.530091</td>\n      <td>7.862545</td>\n      <td>-150.676506</td>\n      <td>0.195455</td>\n      <td>[0. 0.]</td>\n      <td>[0. 0.]</td>\n      <td>[6.04 6.92]</td>\n      <td>[1.5 1.5]</td>\n    </tr>\n    <tr>\n      <th>...</th>\n      <td>...</td>\n      <td>...</td>\n      <td>...</td>\n      <td>...</td>\n      <td>...</td>\n      <td>...</td>\n      <td>...</td>\n      <td>...</td>\n      <td>...</td>\n      <td>...</td>\n      <td>...</td>\n      <td>...</td>\n      <td>...</td>\n      <td>...</td>\n      <td>...</td>\n      <td>...</td>\n      <td>...</td>\n    </tr>\n    <tr>\n      <th>738</th>\n      <td>4.00</td>\n      <td>2.50</td>\n      <td>3</td>\n      <td>1.000000</td>\n      <td>2.80</td>\n      <td>11.72</td>\n      <td>0.00</td>\n      <td>0.86</td>\n      <td>3.045000</td>\n      <td>-1.811000</td>\n      <td>11.673000</td>\n      <td>-125.230059</td>\n      <td>0.240000</td>\n      <td>[0. 0.]</td>\n      <td>[0. 0.]</td>\n      <td>[1.98 5.83]</td>\n      <td>[1.5 1.5]</td>\n    </tr>\n    <tr>\n      <th>739</th>\n      <td>4.00</td>\n      <td>2.50</td>\n      <td>4</td>\n      <td>0.681818</td>\n      <td>4.59</td>\n      <td>5.72</td>\n      <td>0.00</td>\n      <td>0.00</td>\n      <td>4.924200</td>\n      <td>-2.919933</td>\n      <td>5.718067</td>\n      <td>-51.719035</td>\n      <td>0.235867</td>\n      <td>[0. 0.]</td>\n      <td>[0. 0.]</td>\n      <td>[5.93 5.89]</td>\n      <td>[1.5 1.5]</td>\n    </tr>\n    <tr>\n      <th>740</th>\n      <td>4.00</td>\n      <td>2.50</td>\n      <td>5</td>\n      <td>0.631579</td>\n      <td>3.74</td>\n      <td>1.66</td>\n      <td>0.00</td>\n      <td>0.00</td>\n      <td>4.022250</td>\n      <td>-2.386917</td>\n      <td>1.658917</td>\n      <td>-148.378890</td>\n      <td>0.354500</td>\n      <td>[0. 0.]</td>\n      <td>[0. 0.]</td>\n      <td>[4.44 1.78]</td>\n      <td>[1.5 1.5]</td>\n    </tr>\n    <tr>\n      <th>742</th>\n      <td>4.00</td>\n      <td>2.75</td>\n      <td>1</td>\n      <td>0.500000</td>\n      <td>4.86</td>\n      <td>6.88</td>\n      <td>0.00</td>\n      <td>0.03</td>\n      <td>5.102667</td>\n      <td>-3.343000</td>\n      <td>6.878667</td>\n      <td>-166.136087</td>\n      <td>0.214000</td>\n      <td>[0. 0.]</td>\n      <td>[0. 0.]</td>\n      <td>[2.54 4.52]</td>\n      <td>[1.5 1.5]</td>\n    </tr>\n    <tr>\n      <th>743</th>\n      <td>4.00</td>\n      <td>2.75</td>\n      <td>2</td>\n      <td>0.650000</td>\n      <td>3.69</td>\n      <td>2.05</td>\n      <td>0.06</td>\n      <td>0.08</td>\n      <td>4.045538</td>\n      <td>-2.642077</td>\n      <td>2.089769</td>\n      <td>-62.518912</td>\n      <td>0.337846</td>\n      <td>[0. 0.]</td>\n      <td>[0. 0.]</td>\n      <td>[1.61 1.26]</td>\n      <td>[1.5 1.5]</td>\n    </tr>\n  </tbody>\n</table>\n<p>367 rows × 17 columns</p>\n</div>"
     },
     "metadata": {},
     "execution_count": 30
    }
   ],
   "source": [
    "df"
   ]
  },
  {
   "source": [
    "# Landing Rate Data"
   ],
   "cell_type": "markdown",
   "metadata": {}
  },
  {
   "cell_type": "code",
   "execution_count": 31,
   "metadata": {},
   "outputs": [
    {
     "output_type": "display_data",
     "data": {
      "text/plain": "Canvas(toolbar=Toolbar(toolitems=[('Home', 'Reset original view', 'home', 'home'), ('Back', 'Back to previous …",
      "application/vnd.jupyter.widget-view+json": {
       "version_major": 2,
       "version_minor": 0,
       "model_id": "01a2b15439ec44fea479841d8c010ab2"
      }
     },
     "metadata": {}
    }
   ],
   "source": [
    "fig = plt.figure()\n",
    "ax = fig.add_subplot(111,projection=\"3d\")\n",
    "ax.scatter(df['vx_d'],df['vz_d'],df['landing_rate'])\n",
    "\n",
    "ax.set_zlim(0,1)\n",
    "\n",
    "ax.set_xlabel('vx_d')\n",
    "ax.set_ylabel('vz_d')\n",
    "ax.set_zlabel('Landing Rate')\n",
    "ax.set_title('Landing Rate (Raw Data)')\n",
    "\n",
    "plt.show()"
   ]
  },
  {
   "cell_type": "code",
   "execution_count": 53,
   "metadata": {},
   "outputs": [
    {
     "output_type": "display_data",
     "data": {
      "text/plain": "Canvas(toolbar=Toolbar(toolitems=[('Home', 'Reset original view', 'home', 'home'), ('Back', 'Back to previous …",
      "application/vnd.jupyter.widget-view+json": {
       "version_major": 2,
       "version_minor": 0,
       "model_id": "f092d5b937114fdb8bc7e349fd0e69a3"
      }
     },
     "metadata": {}
    }
   ],
   "source": [
    "## AVG LANDING RATE SURFACE\n",
    "fig = plt.figure()\n",
    "ax = fig.add_subplot(111,projection=\"3d\")\n",
    "cmap = mpl.cm.jet\n",
    "norm = mpl.colors.Normalize(vmin=0,vmax=1)\n",
    "pcm = ax.plot_trisurf(df_raw_avg['vx_d'],df_raw_avg['vz_d'],df_raw_avg['landing_rate','mean'],cmap = cmap)\n",
    "fig.colorbar(mpl.cm.ScalarMappable(norm=norm, cmap=cmap),label=\"Landing %\")\n",
    "df\n",
    "ax.set_zlim(0,1)\n",
    "\n",
    "ax.set_xlabel('vx_d')\n",
    "ax.set_ylabel('vz_d')\n",
    "ax.set_zlabel('Landing Rate')\n",
    "ax.set_title('Avg Landing Rate for Final 3 Episodes')\n",
    "\n",
    "\n",
    "plt.show()"
   ]
  },
  {
   "cell_type": "code",
   "execution_count": 60,
   "metadata": {},
   "outputs": [
    {
     "output_type": "display_data",
     "data": {
      "text/plain": "Canvas(toolbar=Toolbar(toolitems=[('Home', 'Reset original view', 'home', 'home'), ('Back', 'Back to previous …",
      "application/vnd.jupyter.widget-view+json": {
       "version_major": 2,
       "version_minor": 0,
       "model_id": "97c5c8eb1cd94284a854fd8e6dcb50be"
      }
     },
     "metadata": {}
    }
   ],
   "source": [
    "## AVG LANDING RATE SURFACE\n",
    "fig = plt.figure()\n",
    "ax = fig.add_subplot(111,projection=\"3d\")\n",
    "\n",
    "from scipy.interpolate import griddata\n",
    "\n",
    "\n",
    "X = df_raw_avg['vx_d']\n",
    "Y = df_raw_avg['vz_d']\n",
    "Z = df_raw_avg['landing_rate','mean']\n",
    "\n",
    "xi = np.linspace(X.min(),X.max(),(len(Z)//3))\n",
    "yi = np.linspace(Y.min(),Y.max(),(len(Z)//3))\n",
    "zi = griddata((X, Y), Z, (xi[None,:], yi[:,None]), method='linear')\n",
    "xig, yig = np.meshgrid(xi, yi)\n",
    "\n",
    "cmap = mpl.cm.jet\n",
    "norm = mpl.colors.Normalize(vmin=0,vmax=1)\n",
    "\n",
    "\n",
    "surf = ax.plot_surface(xig, yig, zi,cmap=cmap,norm=norm)\n",
    "# surf = ax.contour(xig, yig, zi,cmap=cmap,norm=norm)\n",
    "\n",
    "fig.colorbar(mpl.cm.ScalarMappable(norm=norm, cmap=cmap),label=\"Landing %\")\n",
    "ax.set_zlim(0,1)\n",
    "\n",
    "ax.set_xlabel('vx_d')\n",
    "ax.set_ylabel('vz_d')\n",
    "ax.set_zlabel('Landing Rate')\n",
    "ax.set_title('Avg Landing Rate for Final 3 Episodes')\n",
    "\n",
    "\n",
    "plt.show()"
   ]
  },
  {
   "source": [
    "# RREV vs IC"
   ],
   "cell_type": "markdown",
   "metadata": {}
  },
  {
   "cell_type": "code",
   "execution_count": 33,
   "metadata": {},
   "outputs": [
    {
     "output_type": "display_data",
     "data": {
      "text/plain": "Canvas(toolbar=Toolbar(toolitems=[('Home', 'Reset original view', 'home', 'home'), ('Back', 'Back to previous …",
      "application/vnd.jupyter.widget-view+json": {
       "version_major": 2,
       "version_minor": 0,
       "model_id": "f25effb0744340acb1940ca9ac545240"
      }
     },
     "metadata": {}
    }
   ],
   "source": [
    "## RREV Threshold vs IC\n",
    "fig = plt.figure()\n",
    "ax = fig.add_subplot(111,projection=\"3d\")\n",
    "\n",
    "ax.scatter(df['vx_d'],df['vz_d'],df['RREV_threshold'])\n",
    "\n",
    "\n",
    "ax.set_xlim(0,2.75)\n",
    "ax.set_ylim(1.0,4.5)\n",
    "\n",
    "\n",
    "ax.set_xlabel('Vx_d')\n",
    "ax.set_ylabel('Vz_d')\n",
    "ax.set_zlabel('RREV_threshold')\n",
    "ax.set_title('RREV_thr vs IC - (Raw Data)')\n",
    "\n",
    "\n",
    "plt.show()"
   ]
  },
  {
   "cell_type": "code",
   "execution_count": 59,
   "metadata": {},
   "outputs": [
    {
     "output_type": "display_data",
     "data": {
      "text/plain": "Canvas(toolbar=Toolbar(toolitems=[('Home', 'Reset original view', 'home', 'home'), ('Back', 'Back to previous …",
      "application/vnd.jupyter.widget-view+json": {
       "version_major": 2,
       "version_minor": 0,
       "model_id": "8784115b1eab47a68318af07465ac426"
      }
     },
     "metadata": {}
    }
   ],
   "source": [
    "\n",
    "## Avg RREV_thr vs IC\n",
    "fig = plt.figure()\n",
    "ax = fig.add_subplot(111,projection=\"3d\")\n",
    "\n",
    "cmap = mpl.cm.jet\n",
    "norm = mpl.colors.Normalize(vmin=4,vmax=5)\n",
    "pcm = ax.plot_trisurf(df_avg['vx_d'],df_avg['vz_d'],df_avg['RREV_threshold','mean'],cmap=cmap)\n",
    "fig.colorbar(mpl.cm.ScalarMappable(norm=norm, cmap=cmap),label=\"RREV_threshold\")\n",
    "\n",
    "ax.set_xlim(0,2.75)\n",
    "ax.set_ylim(1.0,4.5)\n",
    "ax.set_zlim(3,6)\n",
    "\n",
    "ax.set_xlabel('vx_d')\n",
    "ax.set_ylabel('vz_d')\n",
    "ax.set_zlabel('RREV_threshold')\n",
    "\n",
    "ax.set_title('Avg RREV_thr vs IC')\n",
    "plt.show()\n",
    "\n",
    "\n",
    "\n",
    "\n",
    "\n"
   ]
  },
  {
   "source": [
    "# Rotation Time Data"
   ],
   "cell_type": "markdown",
   "metadata": {}
  },
  {
   "cell_type": "code",
   "execution_count": 35,
   "metadata": {},
   "outputs": [
    {
     "output_type": "display_data",
     "data": {
      "text/plain": "Canvas(toolbar=Toolbar(toolitems=[('Home', 'Reset original view', 'home', 'home'), ('Back', 'Back to previous …",
      "application/vnd.jupyter.widget-view+json": {
       "version_major": 2,
       "version_minor": 0,
       "model_id": "98bfbcda8b744d10bb09f4a543a49297"
      }
     },
     "metadata": {}
    }
   ],
   "source": [
    "fig = plt.figure()\n",
    "ax = fig.add_subplot(111,projection=\"3d\")\n",
    "\n",
    "df_temp = df.query(f\"landing_rate>={0.1}\")\n",
    "\n",
    "cmap = mpl.cm.jet\n",
    "norm = mpl.colors.Normalize(vmin=4,vmax=5)\n",
    "pcm = ax.scatter(df_temp['vx_d'],df_temp['vz_d'],df_temp['impact_tdelta'])\n",
    "fig.colorbar(mpl.cm.ScalarMappable(norm=norm, cmap=cmap),label=\"RREV_threshold\")\n",
    "\n",
    "\n",
    "ax.set_xlabel('vx_d')\n",
    "ax.set_ylabel('vz_d')\n",
    "ax.set_zlabel('Delta_t [s]')\n",
    "\n",
    "ax.set_title('Time Rotating vs IC (Raw Data)')\n",
    "\n",
    "ax.set_zlim(0,0.5)\n",
    "\n",
    "\n",
    "\n",
    "\n",
    "plt.show()"
   ]
  },
  {
   "cell_type": "code",
   "execution_count": 36,
   "metadata": {},
   "outputs": [
    {
     "output_type": "display_data",
     "data": {
      "text/plain": "Canvas(toolbar=Toolbar(toolitems=[('Home', 'Reset original view', 'home', 'home'), ('Back', 'Back to previous …",
      "application/vnd.jupyter.widget-view+json": {
       "version_major": 2,
       "version_minor": 0,
       "model_id": "dd6306c09fba4ceba9cef71775c68487"
      }
     },
     "metadata": {}
    }
   ],
   "source": [
    "fig = plt.figure()\n",
    "ax = fig.add_subplot(111,projection=\"3d\")\n",
    "\n",
    "df_temp = df.query(f\"landing_rate>={0.1}\")\n",
    "\n",
    "cmap = mpl.cm.rainbow\n",
    "norm = mpl.colors.Normalize(vmin=0,vmax=4)\n",
    "\n",
    "pcm = ax.scatter(df_temp['RREV_trigger'],df_temp['landing_rate'],df_temp['impact_tdelta'],c=df_temp['vz_d'],cmap=cmap)\n",
    "fig.colorbar(mpl.cm.ScalarMappable(norm=norm, cmap=cmap),label='Vz_d')\n",
    "\n",
    "\n",
    "ax.set_xlabel('RREV_trigger')\n",
    "ax.set_ylabel('Landing_rate')\n",
    "ax.set_zlabel('Delta_t [s]')\n",
    "\n",
    "ax.set_title('Time Rotating vs RREV (Raw Data)')\n",
    "\n",
    "ax.set_zlim(0,0.5)\n",
    "\n",
    "\n",
    "\n",
    "\n",
    "plt.show()"
   ]
  },
  {
   "source": [
    "# My_d vs IC Data"
   ],
   "cell_type": "markdown",
   "metadata": {}
  },
  {
   "cell_type": "code",
   "execution_count": 37,
   "metadata": {},
   "outputs": [
    {
     "output_type": "display_data",
     "data": {
      "text/plain": "Canvas(toolbar=Toolbar(toolitems=[('Home', 'Reset original view', 'home', 'home'), ('Back', 'Back to previous …",
      "application/vnd.jupyter.widget-view+json": {
       "version_major": 2,
       "version_minor": 0,
       "model_id": "5bfd41190fef4af5b2d42f07c6f51863"
      }
     },
     "metadata": {}
    }
   ],
   "source": [
    "## Define Dataframe\n",
    "\n",
    "df_temp = df.query(f\"landing_rate>={0.1}\")\n",
    "\n",
    "\n",
    "fig = plt.figure()\n",
    "ax = fig.add_subplot(111,projection=\"3d\")\n",
    "\n",
    "pcm = ax.scatter(df['vx_d'],df['vz_d'],df['My_d'])\n",
    "\n",
    "\n",
    "\n",
    "ax.set_xlabel('vx_d')\n",
    "ax.set_ylabel('vz_d')\n",
    "ax.set_zlabel('My_d [N*mm]')\n",
    "\n",
    "ax.set_title('My_d vs IC (Raw Data)')\n",
    "\n",
    "## I have more data for vz = (1.5,2.75) than vz = (3.00,4.0) so My_d differences are likely not a trend, just sparse data\n",
    "\n",
    "\n",
    "\n",
    "\n",
    "plt.show()"
   ]
  },
  {
   "source": [
    "# Impact Angle Data"
   ],
   "cell_type": "markdown",
   "metadata": {}
  },
  {
   "cell_type": "code",
   "execution_count": 38,
   "metadata": {},
   "outputs": [
    {
     "output_type": "display_data",
     "data": {
      "text/plain": "Canvas(toolbar=Toolbar(toolitems=[('Home', 'Reset original view', 'home', 'home'), ('Back', 'Back to previous …",
      "application/vnd.jupyter.widget-view+json": {
       "version_major": 2,
       "version_minor": 0,
       "model_id": "2aeb8a728dd7443a90d862ee04fc8214"
      }
     },
     "metadata": {}
    }
   ],
   "source": [
    "df_temp = df.query(f\"impact_eul<={-60}\")\n",
    "# df_temp_avg = df_raw.groupby(['vz_d','vx_d']).agg([np.mean,np.std]).reset_index()\n",
    "\n",
    "\n",
    "\n",
    "## AVG LANDING RATE PLOT\n",
    "fig = plt.figure()\n",
    "ax = fig.add_subplot(111,projection=\"3d\")\n",
    "\n",
    "cmap = mpl.cm.rainbow\n",
    "norm = mpl.colors.Normalize(vmin=0,vmax=1)\n",
    "pcm = ax.scatter(df_temp['vx_d'],df_temp['vz_d'],-df_temp['impact_eul'],c=df_temp['landing_rate'],cmap=cmap)\n",
    "fig.colorbar(mpl.cm.ScalarMappable(norm=norm, cmap=cmap),label='Landing %')\n",
    "\n",
    "ax.set_xlabel('vx_d')\n",
    "ax.set_ylabel('vz_d')\n",
    "ax.set_zlabel('Impact Angle')\n",
    "\n",
    "\n",
    "ax.set_zlim(60,180)\n",
    "ax.set_zticks([60,90,120,150,180])\n",
    "\n",
    "## Failed landings in corner\n",
    "plt.show()"
   ]
  },
  {
   "cell_type": "code",
   "execution_count": 39,
   "metadata": {},
   "outputs": [
    {
     "output_type": "display_data",
     "data": {
      "text/plain": "Canvas(toolbar=Toolbar(toolitems=[('Home', 'Reset original view', 'home', 'home'), ('Back', 'Back to previous …",
      "application/vnd.jupyter.widget-view+json": {
       "version_major": 2,
       "version_minor": 0,
       "model_id": "361e9edb8437433a95d75264afe4f170"
      }
     },
     "metadata": {}
    }
   ],
   "source": [
    "## CLEAN DATAFRAME\n",
    "df_temp = df.query(f\"impact_eul<={-60}\")\n",
    "df_temp_avg = df_temp.groupby(['vz_d','vx_d']).agg([np.mean,np.std]).reset_index()\n",
    "\n",
    "\n",
    "## AVG LANDING RATE PLOT\n",
    "fig = plt.figure()\n",
    "ax = fig.add_subplot(111,projection=\"3d\")\n",
    "\n",
    "cmap = mpl.cm.jet\n",
    "norm = mpl.colors.Normalize(vmin=0,vmax=180)\n",
    "ax.plot_trisurf(df_temp_avg['vx_d'],df_temp_avg['vz_d'],-df_temp_avg['impact_eul','mean'],cmap=cmap)\n",
    "\n",
    "\n",
    "ax.set_xlim(0,2.75)\n",
    "ax.set_ylim(1.0,4.0)\n",
    "ax.set_zlim(60,180)\n",
    "ax.set_zticks([60,90,120,150,180])\n",
    "\n",
    "\n",
    "ax.set_xlabel('vx_d')\n",
    "ax.set_ylabel('vz_d')\n",
    "ax.set_zlabel('Impact Angle')\n",
    "\n",
    "ax.set_title('Avg Impact Angle vs IC')\n",
    "plt.show()"
   ]
  },
  {
   "source": [
    "# Moment vs RREV"
   ],
   "cell_type": "markdown",
   "metadata": {}
  },
  {
   "cell_type": "code",
   "execution_count": 40,
   "metadata": {},
   "outputs": [
    {
     "output_type": "display_data",
     "data": {
      "text/plain": "Canvas(toolbar=Toolbar(toolitems=[('Home', 'Reset original view', 'home', 'home'), ('Back', 'Back to previous …",
      "application/vnd.jupyter.widget-view+json": {
       "version_major": 2,
       "version_minor": 0,
       "model_id": "2d53d6c8d20441faaa7b716b1df34489"
      }
     },
     "metadata": {}
    }
   ],
   "source": [
    "## CLEAN DATAFRAME\n",
    "df_temp = df.query(f\"My_d<={7.7}\")\n",
    "df_temp_avg = df_temp.groupby(['vz_d','vx_d']).agg([np.mean,np.std]).reset_index()\n",
    "\n",
    "\n",
    "## AVG LANDING RATE PLOT\n",
    "fig = plt.figure()\n",
    "ax = fig.add_subplot(111)\n",
    "\n",
    "\n",
    "cmap = mpl.cm.Greys\n",
    "norm = mpl.colors.Normalize(vmin=0,vmax=1)\n",
    "\n",
    "ax.scatter(df_temp['RREV_threshold'],df_temp['My_d'],c=df_temp['landing_rate'],cmap=cmap)\n",
    "fig.colorbar(mpl.cm.ScalarMappable(norm=norm, cmap=cmap),label='Landing %')\n",
    "\n",
    "ax.grid()\n",
    "ax.set_xlim(2,7)\n",
    "ax.set_ylim(0,10)\n",
    "ax.hlines(7.77,2,7)\n",
    "ax.text(2.05,8.0,'Motors Maxed Out')\n",
    "\n",
    "ax.set_xlabel('RREV_thr')\n",
    "ax.set_ylabel('My_d [N*mm]')\n",
    "ax.set_title('Policy: My_d vs RREV_thr')\n",
    "\n",
    "plt.show()"
   ]
  },
  {
   "cell_type": "code",
   "execution_count": 64,
   "metadata": {},
   "outputs": [
    {
     "output_type": "display_data",
     "data": {
      "text/plain": "Canvas(toolbar=Toolbar(toolitems=[('Home', 'Reset original view', 'home', 'home'), ('Back', 'Back to previous …",
      "application/vnd.jupyter.widget-view+json": {
       "version_major": 2,
       "version_minor": 0,
       "model_id": "5edfabe22d29482681aa8719ae9650c7"
      }
     },
     "metadata": {}
    }
   ],
   "source": [
    "## CLEAN DATAFRAME\n",
    "df_temp = df.query(f\"My_d<={7.7}\")\n",
    "df_temp_avg = df_temp.groupby(['vz_d','vx_d']).agg([np.mean,np.std]).reset_index()\n",
    "\n",
    "## AVG LANDING RATE PLOT\n",
    "fig = plt.figure()\n",
    "ax = fig.add_subplot(111)\n",
    "\n",
    "\n",
    "cmap = mpl.cm.jet\n",
    "norm = mpl.colors.Normalize(vmin=0,vmax=3)\n",
    "\n",
    "ax.scatter(df_temp['RREV_threshold'],df_temp['My_d'],c=df_temp['vz_d'],cmap=cmap)\n",
    "fig.colorbar(mpl.cm.ScalarMappable(norm=norm, cmap=cmap),label='Vz_d')\n",
    "\n",
    "ax.grid()\n",
    "ax.set_xlim(2,7)\n",
    "ax.set_ylim(0,10)\n",
    "ax.hlines(7.77,2,7)\n",
    "ax.text(2.05,8.0,'Motors Maxed Out')\n",
    "\n",
    "ax.set_xlabel('RREV_thr')\n",
    "ax.set_ylabel('My_d [N*mm]')\n",
    "ax.set_title('Policy: My_d vs RREV_thr')\n",
    "## As Vz increases RREV_trigger decreases to preserve time to contact. It also finds a host of My_d that work and they vary because of the robustness of the legs and the fact that landing success isn't deterministic.\n",
    "plt.show()"
   ]
  },
  {
   "source": [
    "# POLICY FITTING"
   ],
   "cell_type": "markdown",
   "metadata": {}
  },
  {
   "source": [
    "## RAW POLICY RELATION"
   ],
   "cell_type": "markdown",
   "metadata": {}
  },
  {
   "cell_type": "code",
   "execution_count": 43,
   "metadata": {},
   "outputs": [
    {
     "output_type": "display_data",
     "data": {
      "text/plain": "Canvas(toolbar=Toolbar(toolitems=[('Home', 'Reset original view', 'home', 'home'), ('Back', 'Back to previous …",
      "application/vnd.jupyter.widget-view+json": {
       "version_major": 2,
       "version_minor": 0,
       "model_id": "27ae3cb573ca4e11ae0fd6db3a162aa1"
      }
     },
     "metadata": {}
    }
   ],
   "source": [
    "## CLEAN DATAFRAME\n",
    "df_temp = df.query(f\"My_d<={7.7}\") # Remove extraneous moments higher than max\n",
    "\n",
    "## PLOT DATA\n",
    "fig = plt.figure()\n",
    "ax = fig.add_subplot(111,projection=\"3d\")\n",
    "\n",
    "cmap = mpl.cm.rainbow\n",
    "norm = mpl.colors.Normalize(vmin=0,vmax=1)\n",
    "\n",
    "ax.scatter(df_temp['RREV_threshold'],df_temp['OF_y'],df_temp['My_d'],c=df_temp['landing_rate'],cmap=cmap,norm=norm)\n",
    "fig.colorbar(mpl.cm.ScalarMappable(norm=norm, cmap=cmap),label='Landing Rate')\n",
    "\n",
    "ax.set_xlim(6,2)\n",
    "ax.set_ylim(-10,0)\n",
    "ax.set_zlim(0,10)\n",
    "\n",
    "ax.set_xlabel('RREV')\n",
    "ax.set_ylabel('OF_y')\n",
    "ax.set_zlabel('My_d')\n",
    "\n",
    "ax.set_title('Raw Policy Relation')\n",
    "\n",
    "\n",
    "plt.show()\n",
    "\n",
    "# Note: the planar look to the data"
   ]
  },
  {
   "cell_type": "code",
   "execution_count": 44,
   "metadata": {},
   "outputs": [
    {
     "output_type": "display_data",
     "data": {
      "text/plain": "Canvas(toolbar=Toolbar(toolitems=[('Home', 'Reset original view', 'home', 'home'), ('Back', 'Back to previous …",
      "application/vnd.jupyter.widget-view+json": {
       "version_major": 2,
       "version_minor": 0,
       "model_id": "a791d7d986c4482390e010cf52024b05"
      }
     },
     "metadata": {}
    }
   ],
   "source": [
    "## CLEAN DATAFRAME\n",
    "df_temp = df.query(f\"My_d<={7.7}\") # Remove extraneous moments higher than max\n",
    "df_temp = df_temp.query(f\"RREV_threshold>{3.5}\") # Remove outlier data\n",
    "df_temp = df_temp.query(f\"landing_rate>={0.8}\")\n",
    "\n",
    "## PLOT DATA\n",
    "fig = plt.figure()\n",
    "ax = fig.add_subplot(111,projection=\"3d\")\n",
    "\n",
    "cmap = mpl.cm.rainbow\n",
    "norm = mpl.colors.Normalize(vmin=0,vmax=1)\n",
    "\n",
    "ax.scatter(df_temp['RREV_threshold'],df_temp['OF_y'],df_temp['My_d'],c=df_temp['landing_rate'],cmap=cmap,norm=norm)\n",
    "fig.colorbar(mpl.cm.ScalarMappable(norm=norm, cmap=cmap),label='Landing Rate')\n",
    "\n",
    "ax.set_xlim(6,2)\n",
    "ax.set_ylim(-10,0)\n",
    "ax.set_zlim(0,10)\n",
    "\n",
    "ax.set_xlabel('RREV')\n",
    "ax.set_ylabel('OF_y')\n",
    "ax.set_zlabel('My_d')\n",
    "\n",
    "ax.set_title('Raw Policy Relation (LR > 80%)')\n",
    "\n",
    "\n",
    "plt.show()\n",
    "\n",
    "# Note: the planar look to the data"
   ]
  },
  {
   "cell_type": "code",
   "execution_count": 45,
   "metadata": {},
   "outputs": [
    {
     "output_type": "display_data",
     "data": {
      "text/plain": "Canvas(toolbar=Toolbar(toolitems=[('Home', 'Reset original view', 'home', 'home'), ('Back', 'Back to previous …",
      "application/vnd.jupyter.widget-view+json": {
       "version_major": 2,
       "version_minor": 0,
       "model_id": "c203c8498b5740f89e3328585cd8fd76"
      }
     },
     "metadata": {}
    }
   ],
   "source": [
    "## CLEAN DATAFRAME\n",
    "df_temp = df.query(f\"My_d<={7.7}\") # Remove extraneous moments higher than max\n",
    "df_temp = df_temp.query(f\"RREV_threshold>{3.5}\") # Remove outlier data\n",
    "df_temp = df_temp.query(f\"landing_rate>={0.5}\")\n",
    "\n",
    "## PLOT DATA\n",
    "fig = plt.figure()\n",
    "ax = fig.add_subplot(111,projection=\"3d\")\n",
    "\n",
    "cmap = mpl.cm.rainbow\n",
    "norm = mpl.colors.Normalize(vmin=0,vmax=1)\n",
    "\n",
    "ax.scatter(df_temp['RREV_threshold'],df_temp['OF_y'],df_temp['My_d'],c=df_temp['landing_rate'],cmap=cmap,norm=norm)\n",
    "fig.colorbar(mpl.cm.ScalarMappable(norm=norm, cmap=cmap),label='Landing Rate')\n",
    "\n",
    "ax.set_xlim(6,2)\n",
    "ax.set_ylim(-10,0)\n",
    "ax.set_zlim(0,10)\n",
    "\n",
    "ax.set_xlabel('RREV')\n",
    "ax.set_ylabel('OF_y')\n",
    "ax.set_zlabel('My_d')\n",
    "\n",
    "ax.set_title('Raw Policy Relation (LR > 50%)')\n",
    "\n",
    "\n",
    "plt.show()\n",
    "\n",
    "# Note: the planar look to the data"
   ]
  },
  {
   "source": [
    "# LINEAR MODEL FIT"
   ],
   "cell_type": "markdown",
   "metadata": {}
  },
  {
   "source": [
    "## Regression with y-based loss"
   ],
   "cell_type": "markdown",
   "metadata": {}
  },
  {
   "cell_type": "code",
   "execution_count": 66,
   "metadata": {},
   "outputs": [
    {
     "output_type": "stream",
     "name": "stdout",
     "text": [
      "Equation: My_d = -14.97 + 4.36*RREV + -0.11*OF_y \n\n"
     ]
    },
    {
     "output_type": "display_data",
     "data": {
      "text/plain": "Canvas(toolbar=Toolbar(toolitems=[('Home', 'Reset original view', 'home', 'home'), ('Back', 'Back to previous …",
      "application/vnd.jupyter.widget-view+json": {
       "version_major": 2,
       "version_minor": 0,
       "model_id": "a28fa9320b594774aa2d202adca132f0"
      }
     },
     "metadata": {}
    },
    {
     "output_type": "execute_result",
     "data": {
      "text/plain": [
       "<class 'statsmodels.iolib.summary.Summary'>\n",
       "\"\"\"\n",
       "                            OLS Regression Results                            \n",
       "==============================================================================\n",
       "Dep. Variable:                   My_d   R-squared:                       0.626\n",
       "Model:                            OLS   Adj. R-squared:                  0.619\n",
       "Method:                 Least Squares   F-statistic:                     89.48\n",
       "Date:                Sun, 07 Feb 2021   Prob (F-statistic):           1.44e-23\n",
       "Time:                        13:06:06   Log-Likelihood:                -147.07\n",
       "No. Observations:                 110   AIC:                             300.1\n",
       "Df Residuals:                     107   BIC:                             308.2\n",
       "Df Model:                           2                                         \n",
       "Covariance Type:            nonrobust                                         \n",
       "==================================================================================\n",
       "                     coef    std err          t      P>|t|      [0.025      0.975]\n",
       "----------------------------------------------------------------------------------\n",
       "const            -14.9730      1.533     -9.769      0.000     -18.012     -11.934\n",
       "RREV_threshold     4.3642      0.352     12.405      0.000       3.667       5.062\n",
       "OF_y              -0.1065      0.066     -1.606      0.111      -0.238       0.025\n",
       "==============================================================================\n",
       "Omnibus:                        2.379   Durbin-Watson:                   2.018\n",
       "Prob(Omnibus):                  0.304   Jarque-Bera (JB):                1.879\n",
       "Skew:                           0.179   Prob(JB):                        0.391\n",
       "Kurtosis:                       3.530   Cond. No.                         96.3\n",
       "==============================================================================\n",
       "\n",
       "Notes:\n",
       "[1] Standard Errors assume that the covariance matrix of the errors is correctly specified.\n",
       "\"\"\""
      ],
      "text/html": "<table class=\"simpletable\">\n<caption>OLS Regression Results</caption>\n<tr>\n  <th>Dep. Variable:</th>          <td>My_d</td>       <th>  R-squared:         </th> <td>   0.626</td>\n</tr>\n<tr>\n  <th>Model:</th>                   <td>OLS</td>       <th>  Adj. R-squared:    </th> <td>   0.619</td>\n</tr>\n<tr>\n  <th>Method:</th>             <td>Least Squares</td>  <th>  F-statistic:       </th> <td>   89.48</td>\n</tr>\n<tr>\n  <th>Date:</th>             <td>Sun, 07 Feb 2021</td> <th>  Prob (F-statistic):</th> <td>1.44e-23</td>\n</tr>\n<tr>\n  <th>Time:</th>                 <td>13:06:06</td>     <th>  Log-Likelihood:    </th> <td> -147.07</td>\n</tr>\n<tr>\n  <th>No. Observations:</th>      <td>   110</td>      <th>  AIC:               </th> <td>   300.1</td>\n</tr>\n<tr>\n  <th>Df Residuals:</th>          <td>   107</td>      <th>  BIC:               </th> <td>   308.2</td>\n</tr>\n<tr>\n  <th>Df Model:</th>              <td>     2</td>      <th>                     </th>     <td> </td>   \n</tr>\n<tr>\n  <th>Covariance Type:</th>      <td>nonrobust</td>    <th>                     </th>     <td> </td>   \n</tr>\n</table>\n<table class=\"simpletable\">\n<tr>\n         <td></td>           <th>coef</th>     <th>std err</th>      <th>t</th>      <th>P>|t|</th>  <th>[0.025</th>    <th>0.975]</th>  \n</tr>\n<tr>\n  <th>const</th>          <td>  -14.9730</td> <td>    1.533</td> <td>   -9.769</td> <td> 0.000</td> <td>  -18.012</td> <td>  -11.934</td>\n</tr>\n<tr>\n  <th>RREV_threshold</th> <td>    4.3642</td> <td>    0.352</td> <td>   12.405</td> <td> 0.000</td> <td>    3.667</td> <td>    5.062</td>\n</tr>\n<tr>\n  <th>OF_y</th>           <td>   -0.1065</td> <td>    0.066</td> <td>   -1.606</td> <td> 0.111</td> <td>   -0.238</td> <td>    0.025</td>\n</tr>\n</table>\n<table class=\"simpletable\">\n<tr>\n  <th>Omnibus:</th>       <td> 2.379</td> <th>  Durbin-Watson:     </th> <td>   2.018</td>\n</tr>\n<tr>\n  <th>Prob(Omnibus):</th> <td> 0.304</td> <th>  Jarque-Bera (JB):  </th> <td>   1.879</td>\n</tr>\n<tr>\n  <th>Skew:</th>          <td> 0.179</td> <th>  Prob(JB):          </th> <td>   0.391</td>\n</tr>\n<tr>\n  <th>Kurtosis:</th>      <td> 3.530</td> <th>  Cond. No.          </th> <td>    96.3</td>\n</tr>\n</table><br/><br/>Notes:<br/>[1] Standard Errors assume that the covariance matrix of the errors is correctly specified."
     },
     "metadata": {},
     "execution_count": 66
    }
   ],
   "source": [
    "## CLEAN DATAFRAME\n",
    "df_clean = df.query(f\"My_d<={7.7}\") # Remove extraneous moments higher than max\n",
    "df_clean = df_clean.query(f\"RREV_threshold>{3.5}\") # Remove outlier data\n",
    "df_reg1 = df_clean.query(f\"landing_rate>={0.6}\")\n",
    "\n",
    "\n",
    "X = df_reg1[['RREV_threshold','OF_y']]\n",
    "Y = df_reg1['My_d']\n",
    "\n",
    "reg = linear_model.LinearRegression(normalize=True)\n",
    "reg.fit(X,Y)\n",
    "intercept = reg.intercept_\n",
    "coeffs = reg.coef_\n",
    "\n",
    "print(f\"Equation: My_d = {intercept:.2f} + {coeffs[0]:.2f}*RREV + {coeffs[1]:.2f}*OF_y \\n\")\n",
    "\n",
    "\n",
    "## PLOT DATA\n",
    "fig = plt.figure()\n",
    "ax = fig.add_subplot(111,projection=\"3d\")\n",
    "\n",
    "\n",
    "My_reg = intercept + coeffs[0]*df_reg1['RREV_threshold'] + coeffs[1]*df_reg1['OF_y']\n",
    "ax.plot_trisurf(df_reg1['RREV_threshold'],df_reg1['OF_y'],My_reg,label='Linear_Regression',color='blue',zorder=2)\n",
    "\n",
    "\n",
    "cmap = mpl.cm.rainbow\n",
    "norm = mpl.colors.Normalize(vmin=0,vmax=1)\n",
    "fig.colorbar(mpl.cm.ScalarMappable(norm=norm, cmap=cmap),label='Landing Rate')\n",
    "\n",
    "ax.scatter(df_reg1['RREV_threshold'],df_reg1['OF_y'],df_reg1['My_d'],c=df_reg1['landing_rate'],cmap=cmap,norm=norm,zorder=1)\n",
    "\n",
    "\n",
    "\n",
    "ax.set_xlim(6,2)\n",
    "ax.set_ylim(-10,0)\n",
    "ax.set_zlim(0,10)\n",
    "\n",
    "\n",
    "ax.set_xlabel('RREV')\n",
    "ax.set_ylabel('OF_y')\n",
    "ax.set_zlabel('My_d')\n",
    "\n",
    "\n",
    "plt.show()\n",
    "\n",
    "## Regression Analysis\n",
    "\n",
    "import statsmodels.api as ssm       # for detail description of linear coefficients, intercepts, deviations, and many more\n",
    "X=ssm.add_constant(X)               # to add constant value in the model\n",
    "model= ssm.OLS(Y,X).fit()           # fitting the model\n",
    "predictions= model.summary()        # summary of the model\n",
    "predictions\n",
    "\n",
    "\n",
    "\n"
   ]
  },
  {
   "cell_type": "code",
   "execution_count": 47,
   "metadata": {},
   "outputs": [],
   "source": [
    "# def r_squared(y, y_hat): #Manual R^2 value\n",
    "#     y_bar = y.mean()\n",
    "#     ss_tot = ((y-y_bar)**2).sum()\n",
    "#     ss_res = ((y-y_hat)**2).sum()\n",
    "#     return 1 - (ss_res/ss_tot)\n",
    "\n",
    "# R2 = r_squared(df_reg['My_d'],My_reg)\n",
    "# print(f\"R^2: {R2:.3f}\")"
   ]
  },
  {
   "source": [
    "## Regression with x-based loss\n"
   ],
   "cell_type": "markdown",
   "metadata": {}
  },
  {
   "cell_type": "code",
   "execution_count": 48,
   "metadata": {},
   "outputs": [
    {
     "output_type": "stream",
     "name": "stdout",
     "text": [
      "Equation: RREV_reg = 3.79 + 0.14*My_d + -0.01*OF_y \n\n"
     ]
    },
    {
     "output_type": "display_data",
     "data": {
      "text/plain": "Canvas(toolbar=Toolbar(toolitems=[('Home', 'Reset original view', 'home', 'home'), ('Back', 'Back to previous …",
      "application/vnd.jupyter.widget-view+json": {
       "version_major": 2,
       "version_minor": 0,
       "model_id": "ab25447a84d44dff934482f6d56b7fd0"
      }
     },
     "metadata": {}
    },
    {
     "output_type": "execute_result",
     "data": {
      "text/plain": [
       "<class 'statsmodels.iolib.summary.Summary'>\n",
       "\"\"\"\n",
       "                            OLS Regression Results                            \n",
       "==============================================================================\n",
       "Dep. Variable:         RREV_threshold   R-squared:                       0.618\n",
       "Model:                            OLS   Adj. R-squared:                  0.611\n",
       "Method:                 Least Squares   F-statistic:                     86.43\n",
       "Date:                Sun, 07 Feb 2021   Prob (F-statistic):           4.59e-23\n",
       "Time:                        08:39:01   Log-Likelihood:                 44.042\n",
       "No. Observations:                 110   AIC:                            -82.08\n",
       "Df Residuals:                     107   BIC:                            -73.98\n",
       "Df Model:                           2                                         \n",
       "Covariance Type:            nonrobust                                         \n",
       "==============================================================================\n",
       "                 coef    std err          t      P>|t|      [0.025      0.975]\n",
       "------------------------------------------------------------------------------\n",
       "const          3.7948      0.055     68.557      0.000       3.685       3.905\n",
       "My_d           0.1352      0.011     12.405      0.000       0.114       0.157\n",
       "OF_y          -0.0057      0.012     -0.486      0.628      -0.029       0.018\n",
       "==============================================================================\n",
       "Omnibus:                        1.549   Durbin-Watson:                   1.929\n",
       "Prob(Omnibus):                  0.461   Jarque-Bera (JB):                1.077\n",
       "Skew:                          -0.044   Prob(JB):                        0.583\n",
       "Kurtosis:                       3.477   Cond. No.                         21.1\n",
       "==============================================================================\n",
       "\n",
       "Notes:\n",
       "[1] Standard Errors assume that the covariance matrix of the errors is correctly specified.\n",
       "\"\"\""
      ],
      "text/html": "<table class=\"simpletable\">\n<caption>OLS Regression Results</caption>\n<tr>\n  <th>Dep. Variable:</th>     <td>RREV_threshold</td>  <th>  R-squared:         </th> <td>   0.618</td>\n</tr>\n<tr>\n  <th>Model:</th>                   <td>OLS</td>       <th>  Adj. R-squared:    </th> <td>   0.611</td>\n</tr>\n<tr>\n  <th>Method:</th>             <td>Least Squares</td>  <th>  F-statistic:       </th> <td>   86.43</td>\n</tr>\n<tr>\n  <th>Date:</th>             <td>Sun, 07 Feb 2021</td> <th>  Prob (F-statistic):</th> <td>4.59e-23</td>\n</tr>\n<tr>\n  <th>Time:</th>                 <td>08:39:01</td>     <th>  Log-Likelihood:    </th> <td>  44.042</td>\n</tr>\n<tr>\n  <th>No. Observations:</th>      <td>   110</td>      <th>  AIC:               </th> <td>  -82.08</td>\n</tr>\n<tr>\n  <th>Df Residuals:</th>          <td>   107</td>      <th>  BIC:               </th> <td>  -73.98</td>\n</tr>\n<tr>\n  <th>Df Model:</th>              <td>     2</td>      <th>                     </th>     <td> </td>   \n</tr>\n<tr>\n  <th>Covariance Type:</th>      <td>nonrobust</td>    <th>                     </th>     <td> </td>   \n</tr>\n</table>\n<table class=\"simpletable\">\n<tr>\n    <td></td>       <th>coef</th>     <th>std err</th>      <th>t</th>      <th>P>|t|</th>  <th>[0.025</th>    <th>0.975]</th>  \n</tr>\n<tr>\n  <th>const</th> <td>    3.7948</td> <td>    0.055</td> <td>   68.557</td> <td> 0.000</td> <td>    3.685</td> <td>    3.905</td>\n</tr>\n<tr>\n  <th>My_d</th>  <td>    0.1352</td> <td>    0.011</td> <td>   12.405</td> <td> 0.000</td> <td>    0.114</td> <td>    0.157</td>\n</tr>\n<tr>\n  <th>OF_y</th>  <td>   -0.0057</td> <td>    0.012</td> <td>   -0.486</td> <td> 0.628</td> <td>   -0.029</td> <td>    0.018</td>\n</tr>\n</table>\n<table class=\"simpletable\">\n<tr>\n  <th>Omnibus:</th>       <td> 1.549</td> <th>  Durbin-Watson:     </th> <td>   1.929</td>\n</tr>\n<tr>\n  <th>Prob(Omnibus):</th> <td> 0.461</td> <th>  Jarque-Bera (JB):  </th> <td>   1.077</td>\n</tr>\n<tr>\n  <th>Skew:</th>          <td>-0.044</td> <th>  Prob(JB):          </th> <td>   0.583</td>\n</tr>\n<tr>\n  <th>Kurtosis:</th>      <td> 3.477</td> <th>  Cond. No.          </th> <td>    21.1</td>\n</tr>\n</table><br/><br/>Notes:<br/>[1] Standard Errors assume that the covariance matrix of the errors is correctly specified."
     },
     "metadata": {},
     "execution_count": 48
    }
   ],
   "source": [
    "## CLEAN DATAFRAME\n",
    "df_clean = df.query(f\"My_d<={7.7}\") # Remove extraneous moments higher than max\n",
    "df_clean = df_clean.query(f\"RREV_threshold>{3.5}\") # Remove outlier data\n",
    "df_reg1 = df_clean.query(f\"landing_rate>={0.6}\")\n",
    "\n",
    "\n",
    "X = df_reg1[['My_d','OF_y']]\n",
    "Y = df_reg1['RREV_threshold']\n",
    "\n",
    "reg = linear_model.LinearRegression(normalize=True)\n",
    "reg.fit(X,Y)\n",
    "intercept = reg.intercept_\n",
    "coeffs = reg.coef_\n",
    "\n",
    "print(f\"Equation: RREV_reg = {intercept:.2f} + {coeffs[0]:.2f}*My_d + {coeffs[1]:.2f}*OF_y \\n\")\n",
    "\n",
    "\n",
    "## PLOT DATA\n",
    "fig = plt.figure()\n",
    "ax = fig.add_subplot(111,projection=\"3d\")\n",
    "\n",
    "\n",
    "RREV_reg = intercept + coeffs[0]*df_reg1['My_d'] + coeffs[1]*df_reg1['OF_y']\n",
    "ax.plot_trisurf(RREV_reg,df_reg1['OF_y'],df_reg1['My_d'],label='Linear_Regression',color='blue',zorder=2)\n",
    "\n",
    "\n",
    "cmap = mpl.cm.rainbow\n",
    "norm = mpl.colors.Normalize(vmin=0,vmax=1)\n",
    "fig.colorbar(mpl.cm.ScalarMappable(norm=norm, cmap=cmap),label='Landing Rate')\n",
    "\n",
    "ax.scatter(df_reg1['RREV_threshold'],df_reg1['OF_y'],df_reg1['My_d'],c=df_reg1['landing_rate'],cmap=cmap,norm=norm,zorder=1)\n",
    "\n",
    "\n",
    "\n",
    "ax.set_xlim(6,2)\n",
    "ax.set_ylim(-10,0)\n",
    "ax.set_zlim(0,10)\n",
    "\n",
    "\n",
    "ax.set_xlabel('RREV')\n",
    "ax.set_ylabel('OF_y')\n",
    "ax.set_zlabel('My_d')\n",
    "\n",
    "\n",
    "plt.show()\n",
    "\n",
    "## Regression Analysis\n",
    "\n",
    "import statsmodels.api as ssm       # for detail description of linear coefficients, intercepts, deviations, and many more\n",
    "X=ssm.add_constant(X)               # to add constant value in the model\n",
    "model= ssm.OLS(Y,X).fit()           # fitting the model\n",
    "predictions= model.summary()        # summary of the model\n",
    "predictions\n",
    "\n",
    "\n",
    "\n"
   ]
  },
  {
   "cell_type": "code",
   "execution_count": null,
   "metadata": {},
   "outputs": [],
   "source": []
  },
  {
   "cell_type": "code",
   "execution_count": 49,
   "metadata": {},
   "outputs": [
    {
     "output_type": "display_data",
     "data": {
      "text/plain": "Canvas(toolbar=Toolbar(toolitems=[('Home', 'Reset original view', 'home', 'home'), ('Back', 'Back to previous …",
      "application/vnd.jupyter.widget-view+json": {
       "version_major": 2,
       "version_minor": 0,
       "model_id": "6a1827b5f9254427ad30237994591cdf"
      }
     },
     "metadata": {}
    }
   ],
   "source": [
    "## PLOT FULL DATA\n",
    "fig = plt.figure()\n",
    "ax = fig.add_subplot(111,projection=\"3d\")\n",
    "\n",
    "\n",
    "ax.plot_trisurf(RREV_reg,df_reg1['OF_y'],df_reg1['My_d'],label='Linear_Regression',color='blue',zorder=2)\n",
    "\n",
    "\n",
    "cmap = mpl.cm.rainbow\n",
    "norm = mpl.colors.Normalize(vmin=0,vmax=1)\n",
    "fig.colorbar(mpl.cm.ScalarMappable(norm=norm, cmap=cmap),label='Landing Rate')\n",
    "\n",
    "ax.scatter(df_clean['RREV_threshold'],df_clean['OF_y'],df_clean['My_d'],c=df_clean['landing_rate'],cmap=cmap,norm=norm,zorder=1)\n",
    "\n",
    "\n",
    "\n",
    "ax.set_xlim(6,2)\n",
    "ax.set_ylim(-10,0)\n",
    "ax.set_zlim(0,10)\n",
    "\n",
    "\n",
    "ax.set_xlabel('RREV')\n",
    "ax.set_ylabel('OF_y')\n",
    "ax.set_zlabel('My_d')\n",
    "\n",
    "\n",
    "plt.show()\n",
    "\n"
   ]
  },
  {
   "cell_type": "code",
   "execution_count": 50,
   "metadata": {},
   "outputs": [
    {
     "output_type": "display_data",
     "data": {
      "text/plain": "Canvas(toolbar=Toolbar(toolitems=[('Home', 'Reset original view', 'home', 'home'), ('Back', 'Back to previous …",
      "application/vnd.jupyter.widget-view+json": {
       "version_major": 2,
       "version_minor": 0,
       "model_id": "5b694e1d0c0d4957ab715df519ba859c"
      }
     },
     "metadata": {}
    },
    {
     "output_type": "error",
     "ename": "NameError",
     "evalue": "name 'r_squared' is not defined",
     "traceback": [
      "\u001b[0;31m---------------------------------------------------------------------------\u001b[0m",
      "\u001b[0;31mNameError\u001b[0m                                 Traceback (most recent call last)",
      "\u001b[0;32m<ipython-input-50-d3e7e47c83da>\u001b[0m in \u001b[0;36m<module>\u001b[0;34m\u001b[0m\n\u001b[1;32m     27\u001b[0m     \u001b[0max\u001b[0m\u001b[0;34m.\u001b[0m\u001b[0mplot_trisurf\u001b[0m\u001b[0;34m(\u001b[0m\u001b[0mRREV_reg\u001b[0m\u001b[0;34m,\u001b[0m\u001b[0mdf_reg1\u001b[0m\u001b[0;34m[\u001b[0m\u001b[0;34m'OF_y'\u001b[0m\u001b[0;34m]\u001b[0m\u001b[0;34m,\u001b[0m\u001b[0mdf_reg1\u001b[0m\u001b[0;34m[\u001b[0m\u001b[0;34m'My_d'\u001b[0m\u001b[0;34m]\u001b[0m\u001b[0;34m,\u001b[0m\u001b[0mlabel\u001b[0m\u001b[0;34m=\u001b[0m\u001b[0;34m'Linear_Regression'\u001b[0m\u001b[0;34m)\u001b[0m\u001b[0;34m\u001b[0m\u001b[0;34m\u001b[0m\u001b[0m\n\u001b[1;32m     28\u001b[0m \u001b[0;34m\u001b[0m\u001b[0m\n\u001b[0;32m---> 29\u001b[0;31m     \u001b[0mR2\u001b[0m \u001b[0;34m=\u001b[0m \u001b[0mr_squared\u001b[0m\u001b[0;34m(\u001b[0m\u001b[0mdf_reg1\u001b[0m\u001b[0;34m[\u001b[0m\u001b[0;34m'RREV_threshold'\u001b[0m\u001b[0;34m]\u001b[0m\u001b[0;34m,\u001b[0m\u001b[0mRREV_reg\u001b[0m\u001b[0;34m)\u001b[0m\u001b[0;34m\u001b[0m\u001b[0;34m\u001b[0m\u001b[0m\n\u001b[0m\u001b[1;32m     30\u001b[0m     \u001b[0mprint\u001b[0m\u001b[0;34m(\u001b[0m\u001b[0;34mf\"R^2: {R2:.3f}\"\u001b[0m\u001b[0;34m)\u001b[0m\u001b[0;34m\u001b[0m\u001b[0;34m\u001b[0m\u001b[0m\n\u001b[1;32m     31\u001b[0m \u001b[0;34m\u001b[0m\u001b[0m\n",
      "\u001b[0;31mNameError\u001b[0m: name 'r_squared' is not defined"
     ]
    }
   ],
   "source": [
    "## CLEAN DATAFRAME\n",
    "df_clean = df.query(f\"My_d<={7.7}\") # Remove extraneous moments higher than max\n",
    "df_clean = df_clean.query(f\"RREV_threshold>{3.5}\") # Remove outlier data\n",
    "df_reg1 = df_clean.query(f\"landing_rate>={0.8}\")\n",
    "\n",
    "\n",
    "fig = plt.figure()\n",
    "ax = fig.add_subplot(111,projection=\"3d\")\n",
    "\n",
    "\n",
    "for ii in np.arange(1,0.2,-.2):\n",
    "    df_reg1 = df.query(f\"landing_rate<={ii} & landing_rate>{ii-.2} & RREV_threshold>{3.5}\")\n",
    "    \n",
    "    X = df_reg1[['My_d','OF_y']]\n",
    "    Y = df_reg1['RREV_threshold']\n",
    "\n",
    "    reg2 = linear_model.LinearRegression(normalize=True)\n",
    "    reg2.fit(X,Y)\n",
    "\n",
    "    intercept = reg2.intercept_\n",
    "    coeffs = reg2.coef_\n",
    "\n",
    "    # print(intercept)\n",
    "    # print(coeffs)\n",
    "\n",
    "    RREV_reg = intercept + coeffs[0]*df_reg1['My_d'] + coeffs[1]*df_reg1['OF_y']\n",
    "    ax.plot_trisurf(RREV_reg,df_reg1['OF_y'],df_reg1['My_d'],label='Linear_Regression')\n",
    "\n",
    "    R2 = r_squared(df_reg1['RREV_threshold'],RREV_reg)\n",
    "    print(f\"R^2: {R2:.3f}\")\n",
    "\n",
    "ax.set_xlim(6,3.5)\n",
    "ax.set_ylim(-10,0)\n",
    "ax.set_zlim(0,10)\n",
    "\n",
    "\n",
    "ax.set_xlabel('RREV')\n",
    "ax.set_ylabel('OF_y')\n",
    "ax.set_zlabel('My_d')\n",
    "\n",
    "\n",
    "plt.show()\n",
    "\n"
   ]
  },
  {
   "cell_type": "code",
   "execution_count": 46,
   "metadata": {},
   "outputs": [
    {
     "output_type": "execute_result",
     "data": {
      "text/plain": [
       "array([1. , 0.8, 0.6, 0.4])"
      ]
     },
     "metadata": {},
     "execution_count": 46
    }
   ],
   "source": [
    "\n"
   ]
  },
  {
   "cell_type": "code",
   "execution_count": null,
   "metadata": {},
   "outputs": [],
   "source": [
    "import scipy.odr\n",
    "\n",
    "## CLEAN DATAFRAME\n",
    "df_clean = df.query(f\"My_d<={7.7}\") # Remove extraneous moments higher than max\n",
    "df_clean = df_clean.query(f\"RREV_threshold>{3.5}\") # Remove outlier data\n",
    "df_reg1 = df_clean.query(f\"landing_rate>={0.8}\")\n",
    "\n",
    "\n",
    "# X = df_reg1[['My_d','OF_y']]\n",
    "x1 = df_reg1['RREV_threshold'].to_numpy()\n",
    "x2 = df_reg1['OF_y'].to_numpy()\n",
    "X = np.row_stack( (x1, x2) )\n",
    "\n",
    "Y = df_reg1['My_d'].to_numpy()\n",
    "\n",
    "def linfit(beta,x):\n",
    "    return beta[0]*x[0] + beta[1]*x[1] + beta[2]\n",
    "\n",
    "linmod = scipy.odr.Model(linfit)\n",
    "data = scipy.odr.Data(X,Y)\n",
    "odrfit = scipy.odr.ODR(data,linmod,beta0 = [-0.1,0.1,4.0])\n",
    "odrres = odrfit.run()\n",
    "odrres.pprint()\n",
    "\n",
    "\n",
    "\n",
    "\n",
    "## PLOT DATA\n",
    "fig = plt.figure()\n",
    "ax = fig.add_subplot(111,projection=\"3d\")\n",
    "\n",
    "\n",
    "My_reg = odrres.beta[0]*df_reg1['RREV_threshold'] + odrres.beta[1]*df_reg1['OF_y'] + odrres.beta[2]\n",
    "ax.plot_trisurf(df_reg1['RREV_threshold'],df_reg1['OF_y'],My_reg,label='Linear_Regression',color='blue',zorder=2)\n",
    "\n",
    "\n",
    "cmap = mpl.cm.rainbow\n",
    "norm = mpl.colors.Normalize(vmin=0,vmax=1)\n",
    "fig.colorbar(mpl.cm.ScalarMappable(norm=norm, cmap=cmap),label='Landing Rate')\n",
    "\n",
    "ax.scatter(df_reg1['RREV_threshold'],df_reg1['OF_y'],df_reg1['My_d'],c=df_reg1['landing_rate'],cmap=cmap,norm=norm,zorder=1)\n",
    "\n",
    "\n",
    "\n",
    "ax.set_xlim(6,2)\n",
    "ax.set_ylim(-10,0)\n",
    "ax.set_zlim(0,10)\n",
    "\n",
    "\n",
    "ax.set_xlabel('RREV')\n",
    "ax.set_ylabel('OF_y')\n",
    "ax.set_zlabel('My_d')\n",
    "\n",
    "\n",
    "plt.show()\n"
   ]
  },
  {
   "cell_type": "code",
   "execution_count": null,
   "metadata": {},
   "outputs": [],
   "source": []
  },
  {
   "cell_type": "code",
   "execution_count": null,
   "metadata": {},
   "outputs": [],
   "source": []
  }
 ]
}