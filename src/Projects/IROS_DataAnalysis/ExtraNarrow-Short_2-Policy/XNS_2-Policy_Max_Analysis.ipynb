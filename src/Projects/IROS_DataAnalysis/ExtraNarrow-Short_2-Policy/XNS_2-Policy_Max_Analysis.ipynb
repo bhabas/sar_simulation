{
 "cells": [
  {
   "cell_type": "markdown",
   "id": "faced-franklin",
   "metadata": {},
   "source": [
    "# Module Imports"
   ]
  },
  {
   "cell_type": "code",
   "execution_count": 1,
   "id": "searching-person",
   "metadata": {},
   "outputs": [],
   "source": [
    "## IMPORT MODULES\n",
    "import pandas as pd\n",
    "import numpy as np\n",
    "from sklearn import linear_model\n",
    "from scipy.interpolate import griddata\n"
   ]
  },
  {
   "cell_type": "code",
   "execution_count": 2,
   "id": "terminal-alignment",
   "metadata": {},
   "outputs": [],
   "source": [
    "## IMPORT PLOTTING MODULES\n",
    "import matplotlib.pyplot as plt\n",
    "from mpl_toolkits import mplot3d\n",
    "import matplotlib as mpl\n",
    "from matplotlib import cm\n",
    "%matplotlib widget"
   ]
  },
  {
   "cell_type": "code",
   "execution_count": 3,
   "id": "taken-indiana",
   "metadata": {},
   "outputs": [],
   "source": [
    "## IMPORT REGRESSSION MODULES\n",
    "from sys import platform,path\n",
    "import getpass\n",
    "username = getpass.getuser()\n",
    "if platform == 'darwin':\n",
    "    module_path = '/Users/'+username+'/catkin_ws/src/crazyflie_simulation/src/Projects/IROS_DataAnalysis'\n",
    "else:\n",
    "    module_path = '/home/'+username+'/catkin_ws/src/crazyflie_simulation/src/Projects/IROS_DataAnalysis'\n",
    "path.append(module_path)\n",
    "\n",
    "from DataVisualizer.LinReg import plot_3d_data,linreg,reg_3d,reg_2d,color_plot"
   ]
  },
  {
   "cell_type": "markdown",
   "id": "liberal-deputy",
   "metadata": {},
   "source": [
    "# DataFrame"
   ]
  },
  {
   "cell_type": "code",
   "execution_count": 4,
   "id": "preceding-bridges",
   "metadata": {},
   "outputs": [],
   "source": [
    "## FULL DATAFRAME\n",
    "df_raw = pd.read_csv(\"XNS_2-Policy_Summary.csv\")\n",
    "\n",
    "## DROP EXTRANEOUS DATAPOINTS\n",
    "df_raw = df_raw.drop(df_raw[(df_raw['landing_rate']<=0.15) & (df_raw['vz_d']>=0)].index)\n",
    "df_raw = df_raw.drop(df_raw[(df_raw['landing_rate']<=0.15) & (df_raw['vx_d']>=0.0)].index)\n",
    "\n",
    "\n",
    "## GROUP AND AVERAGE RAW DATA BY VEL IC\n",
    "df_raw_avg = df_raw.groupby(['vz_d','vx_d']).agg([np.mean,np.std]).reset_index()\n",
    "\n",
    "## CLEAN RAW DATA\n",
    "df = df_raw\n",
    "df['My_d'] = df['My_d'].apply(lambda x: np.abs(x)) # Convert My to magnitude\n",
    "# df['My_d'] = df['My_d'].apply(lambda x: 7.7 if x>7.7 else x) # Cap My_d to max moment\n",
    "# df = df.drop(df[(df['vz_d']<= 2.0) & (df['vx_d']<= 0.5)].index) # Drop corner with no successful landings\n",
    "df = df.dropna()\n",
    "\n",
    "## MAXIMUM DATAFRAME\n",
    "idx = df.groupby(['vz_d','vx_d'])['landing_rate'].transform(max) == df['landing_rate']\n",
    "df_max = df[idx].reset_index()\n",
    "\n",
    "## MY OUTLIER REMOVED DATAFRAME\n",
    "df_max = df_max.query(f\"My_d<={7.7}\")\n",
    "df_max = df_max.query(f\"RREV_threshold>{3.5}\") # Remove outlier data\n",
    "\n",
    "## AVERAGED DATAFRAME\n",
    "df_avg = df.groupby(['vz_d','vx_d']).agg([np.mean,np.std]).reset_index()"
   ]
  },
  {
   "cell_type": "markdown",
   "id": "integrated-inspector",
   "metadata": {},
   "source": [
    "# Landing Rate Data"
   ]
  },
  {
   "cell_type": "code",
   "execution_count": 5,
   "id": "grand-connectivity",
   "metadata": {},
   "outputs": [
    {
     "data": {
      "application/vnd.jupyter.widget-view+json": {
       "model_id": "ea2d79db7e1247d9887b7bb954d46a4f",
       "version_major": 2,
       "version_minor": 0
      },
      "text/plain": [
       "Canvas(toolbar=Toolbar(toolitems=[('Home', 'Reset original view', 'home', 'home'), ('Back', 'Back to previous …"
      ]
     },
     "metadata": {},
     "output_type": "display_data"
    }
   ],
   "source": [
    "## LANDING RATE DATA (MAX)\n",
    "fig = plt.figure()\n",
    "ax = fig.add_subplot(111,projection=\"3d\")\n",
    "\n",
    "x,y,z = 'vx_d', 'vz_d', 'landing_rate'\n",
    "# DEFINE VARIABLES\n",
    "X = df_max[x]\n",
    "Y = df_max[y]\n",
    "Z = df_max[z]\n",
    "\n",
    "\n",
    "# CREATE PLOTS AND COLOR BAR\n",
    "ax.scatter(X,Y,Z)\n",
    "\n",
    "\n",
    "# PLOT LIMITS AND INFO\n",
    "ax.set_zlim(0,1)\n",
    "ax.set_ylim(1.5,4)\n",
    "\n",
    "ax.set_xlabel('vx_d')\n",
    "ax.set_ylabel('vz_d')\n",
    "ax.set_zlabel('Landing Rate')\n",
    "ax.set_title('Landing Rate (Max Data)')\n",
    "\n",
    "plt.show()"
   ]
  },
  {
   "cell_type": "code",
   "execution_count": 6,
   "id": "incorrect-manhattan",
   "metadata": {},
   "outputs": [
    {
     "name": "stdout",
     "output_type": "stream",
     "text": [
      "------3D Regression Results------ \n",
      "\n",
      "r2 =  0.255\n",
      "Equation:  landing_rate  =  0.535078  +  0.070263 * vx_d  +  9e-05 * vz_d\n"
     ]
    }
   ],
   "source": [
    "## 3D REGRESSION ANALYSIS AND PLOTTING\n",
    "\n",
    "# Regression results\n",
    "xval, yval, zval, mv_reg, x_reg, y_reg = linreg(df_max,x,y,z)\n",
    "\n",
    "reg_3d(ax,xval,yval,mv_reg,x,y,z)"
   ]
  },
  {
   "cell_type": "code",
   "execution_count": 7,
   "id": "steady-canal",
   "metadata": {},
   "outputs": [
    {
     "name": "stdout",
     "output_type": "stream",
     "text": [
      "------2D Regression Results------ \n",
      "\n",
      "vx_d results:\n",
      "r2 =  0.255\n",
      "Equation:  landing_rate  =  0.535342  +  0.070259 * vx_d\n",
      "\n",
      "\n",
      "vz_d results:\n",
      "r2 =  0.0005\n",
      "Equation:  landing_rate  =  0.64415  +  -0.003678 * vz_d\n"
     ]
    },
    {
     "data": {
      "application/vnd.jupyter.widget-view+json": {
       "model_id": "403537dc41dc443c89424d08b844b098",
       "version_major": 2,
       "version_minor": 0
      },
      "text/plain": [
       "Canvas(toolbar=Toolbar(toolitems=[('Home', 'Reset original view', 'home', 'home'), ('Back', 'Back to previous …"
      ]
     },
     "metadata": {},
     "output_type": "display_data"
    }
   ],
   "source": [
    "# 2D REGRESSION PLOTs AND INFO\n",
    "reg_2d(xval,yval,zval,x_reg,y_reg,x,y,z)"
   ]
  },
  {
   "cell_type": "markdown",
   "id": "geographic-classic",
   "metadata": {},
   "source": [
    "# RREV vs IC"
   ]
  },
  {
   "cell_type": "code",
   "execution_count": 8,
   "id": "actual-cooperation",
   "metadata": {},
   "outputs": [
    {
     "data": {
      "application/vnd.jupyter.widget-view+json": {
       "model_id": "dd7a6afc363d40a98b4a052e4d9a6eb5",
       "version_major": 2,
       "version_minor": 0
      },
      "text/plain": [
       "Canvas(toolbar=Toolbar(toolitems=[('Home', 'Reset original view', 'home', 'home'), ('Back', 'Back to previous …"
      ]
     },
     "metadata": {},
     "output_type": "display_data"
    }
   ],
   "source": [
    "fig = plt.figure()\n",
    "ax = fig.add_subplot(111,projection=\"3d\")\n",
    "\n",
    "# DEFINE VARIABLES\n",
    "x,y,z = 'vx_d','vz_d','RREV_threshold'\n",
    "\n",
    "X = df_max[x]\n",
    "Y = df_max[y]\n",
    "Z = df_max[z]\n",
    "C = df_max[z]\n",
    "\n",
    "\n",
    "# CREATE PLOTS AND COLOR BAR\n",
    "cmap = mpl.cm.rainbow\n",
    "norm = mpl.colors.Normalize(vmin=3.5,vmax=5.5)\n",
    "ax.scatter(X,Y,Z,c=C,cmap=cmap,norm=norm,zorder=2)\n",
    "#ax.plot_trisurf(X,Y,ypred,alpha=0.75,label='Linear_Regression',zorder=1)\n",
    "fig.colorbar(mpl.cm.ScalarMappable(norm=norm, cmap=cmap),label=\"RREV_threshold\")\n",
    "\n",
    "\n",
    "\n",
    "# PLOT LIMITS AND INFO\n",
    "ax.set_xlim(0,2.75)\n",
    "ax.set_ylim(1.0,4.5)\n",
    "ax.set_zlim(3,6)\n",
    "\n",
    "\n",
    "ax.set_xlabel('Vx_d')\n",
    "ax.set_ylabel('Vz_d')\n",
    "ax.set_zlabel('RREV_threshold')\n",
    "ax.set_title('RREV_thr vs IC - (Max Data)')\n",
    "\n",
    "plt.show()"
   ]
  },
  {
   "cell_type": "code",
   "execution_count": 9,
   "id": "lovely-mandate",
   "metadata": {},
   "outputs": [
    {
     "name": "stdout",
     "output_type": "stream",
     "text": [
      "------3D Regression Results------ \n",
      "\n",
      "r2 =  0.1955\n",
      "Equation:  RREV_threshold  =  4.921829  +  -0.012651 * vx_d  +  -0.160502 * vz_d\n"
     ]
    }
   ],
   "source": [
    "## 3D REGRESSION ANALYSIS AND PLOTTING\n",
    "\n",
    "# Regression results\n",
    "xval, yval, zval, mv_reg, x_reg, y_reg = linreg(df_max,x,y,z)\n",
    "\n",
    "reg_3d(ax,xval,yval,mv_reg,x,y,z)"
   ]
  },
  {
   "cell_type": "code",
   "execution_count": 10,
   "id": "ceramic-simpson",
   "metadata": {},
   "outputs": [
    {
     "name": "stdout",
     "output_type": "stream",
     "text": [
      "------2D Regression Results------ \n",
      "\n",
      "vx_d results:\n",
      "r2 =  0.0004\n",
      "Equation:  RREV_threshold  =  4.4494  +  -0.006225 * vx_d\n",
      "\n",
      "\n",
      "vz_d results:\n",
      "r2 =  0.1938\n",
      "Equation:  RREV_threshold  =  4.90219  +  -0.159824 * vz_d\n"
     ]
    },
    {
     "data": {
      "application/vnd.jupyter.widget-view+json": {
       "model_id": "559bae15209440fba7683637e11623f2",
       "version_major": 2,
       "version_minor": 0
      },
      "text/plain": [
       "Canvas(toolbar=Toolbar(toolitems=[('Home', 'Reset original view', 'home', 'home'), ('Back', 'Back to previous …"
      ]
     },
     "metadata": {},
     "output_type": "display_data"
    }
   ],
   "source": [
    "# 2D REGRESSION PLOTs AND INFO\n",
    "reg_2d(xval,yval,zval,x_reg,y_reg,x,y,z)"
   ]
  },
  {
   "cell_type": "markdown",
   "id": "private-knight",
   "metadata": {},
   "source": [
    "# Rotation Time Data"
   ]
  },
  {
   "cell_type": "code",
   "execution_count": 11,
   "id": "civic-israel",
   "metadata": {},
   "outputs": [
    {
     "data": {
      "application/vnd.jupyter.widget-view+json": {
       "model_id": "03fed792024047bfb70c36733107b872",
       "version_major": 2,
       "version_minor": 0
      },
      "text/plain": [
       "Canvas(toolbar=Toolbar(toolitems=[('Home', 'Reset original view', 'home', 'home'), ('Back', 'Back to previous …"
      ]
     },
     "metadata": {},
     "output_type": "display_data"
    }
   ],
   "source": [
    "fig = plt.figure()\n",
    "ax = fig.add_subplot(111,projection=\"3d\")\n",
    "\n",
    "\n",
    "# DEFINE VARIABLES\n",
    "x,y,z = 'RREV_threshold','OF_y','impact_tdelta'\n",
    "X = df_max[x]\n",
    "Y = df_max[y]\n",
    "Z = df_max[z]\n",
    "C = df_max['landing_rate']\n",
    "\n",
    "\n",
    "# CREATE PLOTS AND COLOR BAR\n",
    "ax.scatter(X,Y,Z)\n",
    "\n",
    "cmap = mpl.cm.rainbow\n",
    "norm = mpl.colors.Normalize(vmin=0,vmax=1)\n",
    "ax.scatter(X,Y,Z,c=C,cmap=cmap,norm=norm)\n",
    "# # fig.colorbar(mpl.cm.ScalarMappable(norm=norm, cmap=cmap),label=\"Landing Rate\")\n",
    "\n",
    "\n",
    "\n",
    "# PLOT LIMITS AND INFO\n",
    "ax.set_xlabel('RREV')\n",
    "ax.set_ylabel('OF_y')\n",
    "ax.set_zlabel('Delta_t [s]')\n",
    "\n",
    "ax.set_title('Time Rotating vs IC (Max Data)')\n",
    "\n",
    "ax.set_zlim(0,0.5)\n",
    "\n",
    "\n",
    "\n",
    "\n",
    "plt.show()"
   ]
  },
  {
   "cell_type": "code",
   "execution_count": 12,
   "id": "pleased-korean",
   "metadata": {},
   "outputs": [
    {
     "name": "stdout",
     "output_type": "stream",
     "text": [
      "------3D Regression Results------ \n",
      "\n",
      "r2 =  0.4071\n",
      "Equation:  impact_tdelta  =  0.6717  +  -0.093664 * RREV_threshold  +  0.00439 * OF_y\n"
     ]
    }
   ],
   "source": [
    "## 3D REGRESSION ANALYSIS AND PLOTTING\n",
    "\n",
    "# Regression results\n",
    "xval, yval, zval, mv_reg, x_reg, y_reg = linreg(df_max,x,y,z)\n",
    "\n",
    "reg_3d(ax,xval,yval,mv_reg,x,y,z)"
   ]
  },
  {
   "cell_type": "code",
   "execution_count": 13,
   "id": "unusual-induction",
   "metadata": {},
   "outputs": [
    {
     "name": "stdout",
     "output_type": "stream",
     "text": [
      "------2D Regression Results------ \n",
      "\n",
      "RREV_threshold results:\n",
      "r2 =  0.3779\n",
      "Equation:  impact_tdelta  =  0.685184  +  -0.099054 * RREV_threshold\n",
      "\n",
      "\n",
      "OF_y results:\n",
      "r2 =  0.0817\n",
      "Equation:  impact_tdelta  =  0.262477  +  0.007208 * OF_y\n"
     ]
    },
    {
     "data": {
      "application/vnd.jupyter.widget-view+json": {
       "model_id": "9a8d3da59990466ab92c60e8a113516c",
       "version_major": 2,
       "version_minor": 0
      },
      "text/plain": [
       "Canvas(toolbar=Toolbar(toolitems=[('Home', 'Reset original view', 'home', 'home'), ('Back', 'Back to previous …"
      ]
     },
     "metadata": {},
     "output_type": "display_data"
    }
   ],
   "source": [
    "# 2D REGRESSION PLOTs AND INFO\n",
    "reg_2d(xval,yval,zval,x_reg,y_reg,x,y,z)"
   ]
  },
  {
   "cell_type": "markdown",
   "id": "joint-variable",
   "metadata": {},
   "source": [
    "# My_d vs IC Data"
   ]
  },
  {
   "cell_type": "code",
   "execution_count": 14,
   "id": "provincial-pocket",
   "metadata": {},
   "outputs": [
    {
     "data": {
      "application/vnd.jupyter.widget-view+json": {
       "model_id": "61e3d503f9124731a5f398bee096de92",
       "version_major": 2,
       "version_minor": 0
      },
      "text/plain": [
       "Canvas(toolbar=Toolbar(toolitems=[('Home', 'Reset original view', 'home', 'home'), ('Back', 'Back to previous …"
      ]
     },
     "metadata": {},
     "output_type": "display_data"
    }
   ],
   "source": [
    "## Define Dataframe\n",
    "\n",
    "#df_temp = df.query(f\"landing_rate>={0.1}\")\n",
    "\n",
    "\n",
    "fig = plt.figure()\n",
    "ax = fig.add_subplot(111,projection=\"3d\")\n",
    "\n",
    "\n",
    "x,y,z = 'vx_d','vz_d','My_d'\n",
    "X = df_max[x]\n",
    "Y = df_max[y]\n",
    "Z = df_max[z]\n",
    "pcm = ax.scatter(X,Y,Z)\n",
    "\n",
    "\n",
    "\n",
    "ax.set_xlabel('vx_d')\n",
    "ax.set_ylabel('vz_d')\n",
    "ax.set_zlabel('My_d [N*mm]')\n",
    "\n",
    "ax.set_title('My_d vs IC (Max Data)')\n",
    "\n",
    "\n",
    "\n",
    "plt.show()"
   ]
  },
  {
   "cell_type": "code",
   "execution_count": 15,
   "id": "naval-hampshire",
   "metadata": {},
   "outputs": [
    {
     "name": "stdout",
     "output_type": "stream",
     "text": [
      "------3D Regression Results------ \n",
      "\n",
      "r2 =  0.1231\n",
      "Equation:  My_d  =  7.082668  +  -0.104685 * vx_d  +  -0.709111 * vz_d\n"
     ]
    }
   ],
   "source": [
    "## 3D REGRESSION ANALYSIS AND PLOTTING\n",
    "\n",
    "# Regression results\n",
    "xval, yval, zval, mv_reg, x_reg, y_reg = linreg(df_max,x,y,z)\n",
    "\n",
    "reg_3d(ax,xval,yval,mv_reg,x,y,z)"
   ]
  },
  {
   "cell_type": "code",
   "execution_count": 16,
   "id": "logical-glasgow",
   "metadata": {},
   "outputs": [
    {
     "name": "stdout",
     "output_type": "stream",
     "text": [
      "------2D Regression Results------ \n",
      "\n",
      "vx_d results:\n",
      "r2 =  0.0019\n",
      "Equation:  My_d  =  4.995437  +  -0.076297 * vx_d\n",
      "\n",
      "\n",
      "vz_d results:\n",
      "r2 =  0.1195\n",
      "Equation:  My_d  =  6.92016  +  -0.703497 * vz_d\n"
     ]
    },
    {
     "data": {
      "application/vnd.jupyter.widget-view+json": {
       "model_id": "9b8bae61fc7a4d2c9ad8e5b6e41816a9",
       "version_major": 2,
       "version_minor": 0
      },
      "text/plain": [
       "Canvas(toolbar=Toolbar(toolitems=[('Home', 'Reset original view', 'home', 'home'), ('Back', 'Back to previous …"
      ]
     },
     "metadata": {},
     "output_type": "display_data"
    }
   ],
   "source": [
    "# 2D REGRESSION PLOTs AND INFO\n",
    "reg_2d(xval,yval,zval,x_reg,y_reg,x,y,z)"
   ]
  },
  {
   "cell_type": "markdown",
   "id": "first-palestine",
   "metadata": {},
   "source": [
    "# Impact Angle Data"
   ]
  },
  {
   "cell_type": "code",
   "execution_count": 17,
   "id": "executed-surrey",
   "metadata": {},
   "outputs": [
    {
     "data": {
      "application/vnd.jupyter.widget-view+json": {
       "model_id": "c2fa80dd68f443e98e71157386604d30",
       "version_major": 2,
       "version_minor": 0
      },
      "text/plain": [
       "Canvas(toolbar=Toolbar(toolitems=[('Home', 'Reset original view', 'home', 'home'), ('Back', 'Back to previous …"
      ]
     },
     "metadata": {},
     "output_type": "display_data"
    }
   ],
   "source": [
    "fig = plt.figure()\n",
    "ax = fig.add_subplot(111,projection=\"3d\")\n",
    "\n",
    "# CLEAN DATA\n",
    "df_temp = df_max.query(f\"impact_eul<={-60}\")  \n",
    "#df_temp = df_max\n",
    "\n",
    "# DEFINE VARIABLES\n",
    "x,y,z = 'vx_d','vz_d','impact_eul'\n",
    "X = df_temp[x]\n",
    "Y = df_temp[y]\n",
    "Z = -df_temp[z]\n",
    "C = df_temp['landing_rate']\n",
    "\n",
    "\n",
    "# CREATE PLOTS AND COLOR BAR\n",
    "cmap = mpl.cm.rainbow\n",
    "norm = mpl.colors.Normalize(vmin=0,vmax=1)\n",
    "ax.scatter(X,Y,Z,c=C,cmap=cmap,norm=norm)\n",
    "fig.colorbar(mpl.cm.ScalarMappable(norm=norm, cmap=cmap),label=\"Landing Rate\")\n",
    "\n",
    "\n",
    "\n",
    "# PLOT LIMITS AND INFO\n",
    "ax.set_xlabel('vx_d')\n",
    "ax.set_ylabel('vz_d')\n",
    "ax.set_zlabel('Impact Angle [deg]')\n",
    "\n",
    "ax.set_title('Impact Angle vs IC (Max Data)')\n",
    "\n",
    "ax.set_zlim(60,180)\n",
    "ax.set_zticks([60,90,120,150,180,210])\n",
    "\n",
    "\n",
    "\n",
    "plt.show()"
   ]
  },
  {
   "cell_type": "code",
   "execution_count": 18,
   "id": "monthly-technician",
   "metadata": {},
   "outputs": [
    {
     "name": "stdout",
     "output_type": "stream",
     "text": [
      "------3D Regression Results------ \n",
      "\n",
      "r2 =  0.2786\n",
      "Equation:  impact_eul  =  194.327418  +  -15.844336 * vx_d  +  -12.19214 * vz_d\n"
     ]
    }
   ],
   "source": [
    "## 3D REGRESSION ANALYSIS AND PLOTTING\n",
    "\n",
    "# Regression results\n",
    "xval, yval, zval, mv_reg, x_reg, y_reg = linreg(df_max,x,y,z)\n",
    "\n",
    "reg_3d(ax,xval,yval,mv_reg,x,y,z)"
   ]
  },
  {
   "cell_type": "code",
   "execution_count": 19,
   "id": "frozen-consultation",
   "metadata": {},
   "outputs": [
    {
     "name": "stdout",
     "output_type": "stream",
     "text": [
      "------2D Regression Results------ \n",
      "\n",
      "vx_d results:\n",
      "r2 =  0.1896\n",
      "Equation:  impact_eul  =  158.440499  +  -15.35624 * vx_d\n",
      "\n",
      "\n",
      "vz_d results:\n",
      "r2 =  0.0772\n",
      "Equation:  impact_eul  =  169.731476  +  -11.342449 * vz_d\n"
     ]
    },
    {
     "data": {
      "application/vnd.jupyter.widget-view+json": {
       "model_id": "341eab3e762d4f1683a21f3b1584de7c",
       "version_major": 2,
       "version_minor": 0
      },
      "text/plain": [
       "Canvas(toolbar=Toolbar(toolitems=[('Home', 'Reset original view', 'home', 'home'), ('Back', 'Back to previous …"
      ]
     },
     "metadata": {},
     "output_type": "display_data"
    }
   ],
   "source": [
    "# 2D REGRESSION PLOTs AND INFO\n",
    "reg_2d(xval,yval,zval,x_reg,y_reg,x,y,z)"
   ]
  },
  {
   "cell_type": "markdown",
   "id": "existing-skiing",
   "metadata": {},
   "source": [
    "# RAW POLICY RELATION"
   ]
  },
  {
   "cell_type": "code",
   "execution_count": 20,
   "id": "looking-filename",
   "metadata": {},
   "outputs": [
    {
     "data": {
      "application/vnd.jupyter.widget-view+json": {
       "model_id": "690cbd0544244dfeb10dfdb9b15394c6",
       "version_major": 2,
       "version_minor": 0
      },
      "text/plain": [
       "Canvas(toolbar=Toolbar(toolitems=[('Home', 'Reset original view', 'home', 'home'), ('Back', 'Back to previous …"
      ]
     },
     "metadata": {},
     "output_type": "display_data"
    }
   ],
   "source": [
    "fig = plt.figure()\n",
    "ax = fig.add_subplot(111,projection=\"3d\")\n",
    "\n",
    "\n",
    "# DEFINE VARIABLES\n",
    "x,y,z = 'RREV_threshold','OF_y','My_d'\n",
    "X = df_max[x]\n",
    "Y = df_max[y]\n",
    "Z = df_max[z]\n",
    "C = df_max['landing_rate']\n",
    "\n",
    "\n",
    "# CREATE PLOTS AND COLOR BAR\n",
    "cmap = mpl.cm.rainbow\n",
    "norm = mpl.colors.Normalize(vmin=0,vmax=1)\n",
    "ax.scatter(X,Y,Z,c=C,cmap=cmap,norm=norm)\n",
    "fig.colorbar(mpl.cm.ScalarMappable(norm=norm, cmap=cmap),label=\"Landing Rate\")\n",
    "\n",
    "\n",
    "\n",
    "# PLOT LIMITS AND INFO\n",
    "ax.set_xlim(6,2)\n",
    "ax.set_ylim(-10,0)\n",
    "ax.set_zlim(0,10)\n",
    "\n",
    "ax.set_xlabel('RREV')\n",
    "ax.set_ylabel('OF_y')\n",
    "ax.set_zlabel('My_d')\n",
    "\n",
    "ax.set_title('Raw Policy Relation')\n",
    "\n",
    "\n",
    "\n",
    "plt.show()"
   ]
  },
  {
   "cell_type": "code",
   "execution_count": 21,
   "id": "future-vulnerability",
   "metadata": {},
   "outputs": [
    {
     "name": "stdout",
     "output_type": "stream",
     "text": [
      "------3D Regression Results------ \n",
      "\n",
      "r2 =  0.3805\n",
      "Equation:  My_d  =  -10.182299  +  3.361097 * RREV_threshold  +  -0.061105 * OF_y\n"
     ]
    }
   ],
   "source": [
    "## 3D REGRESSION ANALYSIS AND PLOTTING\n",
    "\n",
    "# Regression results\n",
    "xval, yval, zval, mv_reg, x_reg, y_reg = linreg(df_max,x,y,z)\n",
    "\n",
    "reg_3d(ax,xval,yval,mv_reg,x,y,z)"
   ]
  },
  {
   "cell_type": "code",
   "execution_count": 22,
   "id": "packed-transfer",
   "metadata": {},
   "outputs": [
    {
     "name": "stdout",
     "output_type": "stream",
     "text": [
      "------2D Regression Results------ \n",
      "\n",
      "RREV_threshold results:\n",
      "r2 =  0.3758\n",
      "Equation:  My_d  =  -10.369968  +  3.43612 * RREV_threshold\n",
      "\n",
      "\n",
      "OF_y results:\n",
      "r2 =  0.0342\n",
      "Equation:  My_d  =  4.502563  +  -0.162223 * OF_y\n"
     ]
    },
    {
     "data": {
      "application/vnd.jupyter.widget-view+json": {
       "model_id": "3a0dac7977274df886644c7d0f87979b",
       "version_major": 2,
       "version_minor": 0
      },
      "text/plain": [
       "Canvas(toolbar=Toolbar(toolitems=[('Home', 'Reset original view', 'home', 'home'), ('Back', 'Back to previous …"
      ]
     },
     "metadata": {},
     "output_type": "display_data"
    }
   ],
   "source": [
    "# 2D REGRESSION PLOTs AND INFO\n",
    "reg_2d(xval,yval,zval,x_reg,y_reg,x,y,z)"
   ]
  },
  {
   "cell_type": "code",
   "execution_count": null,
   "id": "electric-certificate",
   "metadata": {},
   "outputs": [],
   "source": []
  }
 ],
 "metadata": {
  "kernelspec": {
   "display_name": "Python 3",
   "language": "python",
   "name": "python3"
  },
  "language_info": {
   "codemirror_mode": {
    "name": "ipython",
    "version": 3
   },
   "file_extension": ".py",
   "mimetype": "text/x-python",
   "name": "python",
   "nbconvert_exporter": "python",
   "pygments_lexer": "ipython3",
   "version": "3.9.1"
  }
 },
 "nbformat": 4,
 "nbformat_minor": 5
}
