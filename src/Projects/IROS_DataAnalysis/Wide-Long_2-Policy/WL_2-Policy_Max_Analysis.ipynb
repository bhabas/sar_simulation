{
 "cells": [
  {
   "cell_type": "markdown",
   "id": "faced-franklin",
   "metadata": {},
   "source": [
    "# Module Imports"
   ]
  },
  {
   "cell_type": "code",
   "execution_count": 1,
   "id": "searching-person",
   "metadata": {},
   "outputs": [],
   "source": [
    "## IMPORT MODULES\n",
    "import pandas as pd\n",
    "import numpy as np\n",
    "from sklearn import linear_model\n",
    "from scipy.interpolate import griddata\n"
   ]
  },
  {
   "cell_type": "code",
   "execution_count": 2,
   "id": "terminal-alignment",
   "metadata": {},
   "outputs": [],
   "source": [
    "## IMPORT PLOTTING MODULES\n",
    "import matplotlib.pyplot as plt\n",
    "from mpl_toolkits import mplot3d\n",
    "import matplotlib as mpl\n",
    "from matplotlib import cm\n",
    "%matplotlib widget"
   ]
  },
  {
   "cell_type": "code",
   "execution_count": 3,
   "id": "taken-indiana",
   "metadata": {},
   "outputs": [],
   "source": [
    "## IMPORT REGRESSSION MODULES\n",
    "from sys import platform,path\n",
    "import getpass\n",
    "username = getpass.getuser()\n",
    "if platform == 'darwin':\n",
    "    module_path = '/Users/'+username+'/catkin_ws/src/crazyflie_simulation/src/Projects/IROS_DataAnalysis'\n",
    "else:\n",
    "    module_path = '/home/'+username+'/catkin_ws/src/crazyflie_simulation/src/Projects/IROS_DataAnalysis'\n",
    "path.append(module_path)\n",
    "\n",
    "from DataVisualizer.LinReg import plot_3d_data,linreg,reg_3d,reg_2d,color_plot"
   ]
  },
  {
   "cell_type": "markdown",
   "id": "liberal-deputy",
   "metadata": {},
   "source": [
    "# DataFrame"
   ]
  },
  {
   "cell_type": "code",
   "execution_count": 4,
   "id": "preceding-bridges",
   "metadata": {},
   "outputs": [],
   "source": [
    "## FULL DATAFRAME\n",
    "df_raw = pd.read_csv(\"WL_2-Policy_Summary.csv\")\n",
    "\n",
    "## DROP EXTRANEOUS DATAPOINTS\n",
    "df_raw = df_raw.drop(df_raw[(df_raw['landing_rate']<=0.15) & (df_raw['vz_d']>=0)].index)\n",
    "df_raw = df_raw.drop(df_raw[(df_raw['landing_rate']<=0.15) & (df_raw['vx_d']>=0.0)].index)\n",
    "\n",
    "\n",
    "## GROUP AND AVERAGE RAW DATA BY VEL IC\n",
    "df_raw_avg = df_raw.groupby(['vz_d','vx_d']).agg([np.mean,np.std]).reset_index()\n",
    "\n",
    "## CLEAN RAW DATA\n",
    "df = df_raw\n",
    "df['My_d'] = df['My_d'].apply(lambda x: np.abs(x)) # Convert My to magnitude\n",
    "# df['My_d'] = df['My_d'].apply(lambda x: 7.7 if x>7.7 else x) # Cap My_d to max moment\n",
    "# df = df.drop(df[(df['vz_d']<= 2.0) & (df['vx_d']<= 0.5)].index) # Drop corner with no successful landings\n",
    "df = df.dropna()\n",
    "\n",
    "## MAXIMUM DATAFRAME\n",
    "idx = df.groupby(['vz_d','vx_d'])['landing_rate'].transform(max) == df['landing_rate']\n",
    "df_max = df[idx].reset_index()\n",
    "\n",
    "## MY OUTLIER REMOVED DATAFRAME\n",
    "df_max = df_max.query(f\"My_d<={7.7}\")\n",
    "df_max = df_max.query(f\"RREV_threshold>{3.5}\") # Remove outlier data\n",
    "df_max = df_max.query(f\"landing_rate>={0.6}\") # consider only top x landing rates\n",
    "\n",
    "## AVERAGED DATAFRAME\n",
    "df_avg = df.groupby(['vz_d','vx_d']).agg([np.mean,np.std]).reset_index()"
   ]
  },
  {
   "cell_type": "markdown",
   "id": "integrated-inspector",
   "metadata": {},
   "source": [
    "# Landing Rate Data"
   ]
  },
  {
   "cell_type": "code",
   "execution_count": 5,
   "id": "grand-connectivity",
   "metadata": {},
   "outputs": [
    {
     "data": {
      "application/vnd.jupyter.widget-view+json": {
       "model_id": "b205e1dd303149659b150865d6a0cf96",
       "version_major": 2,
       "version_minor": 0
      },
      "text/plain": [
       "Canvas(toolbar=Toolbar(toolitems=[('Home', 'Reset original view', 'home', 'home'), ('Back', 'Back to previous …"
      ]
     },
     "metadata": {},
     "output_type": "display_data"
    }
   ],
   "source": [
    "## LANDING RATE DATA (MAX)\n",
    "fig = plt.figure()\n",
    "ax = fig.add_subplot(111,projection=\"3d\")\n",
    "\n",
    "x,y,z = 'vx_d', 'vz_d', 'landing_rate'\n",
    "# DEFINE VARIABLES\n",
    "X = df_max[x]\n",
    "Y = df_max[y]\n",
    "Z = df_max[z]\n",
    "\n",
    "\n",
    "# CREATE PLOTS AND COLOR BAR\n",
    "ax.scatter(X,Y,Z)\n",
    "\n",
    "\n",
    "# PLOT LIMITS AND INFO\n",
    "ax.set_zlim(0,1)\n",
    "ax.set_ylim(1.5,4)\n",
    "\n",
    "ax.set_xlabel('vx_d')\n",
    "ax.set_ylabel('vz_d')\n",
    "ax.set_zlabel('Landing Rate')\n",
    "ax.set_title('Landing Rate (Max Data)')\n",
    "\n",
    "plt.show()"
   ]
  },
  {
   "cell_type": "code",
   "execution_count": 6,
   "id": "incorrect-manhattan",
   "metadata": {},
   "outputs": [
    {
     "name": "stdout",
     "output_type": "stream",
     "text": [
      "------3D Regression Results------ \n",
      "\n",
      "r2 =  0.4984\n",
      "Equation:  landing_rate  =  0.742  +  0.101 * vx_d  +  -0.011 * vz_d\n"
     ]
    }
   ],
   "source": [
    "## 3D REGRESSION ANALYSIS AND PLOTTING\n",
    "\n",
    "# Regression results\n",
    "xval, yval, zval, mv_reg, x_reg, y_reg = linreg(df_max,x,y,z)\n",
    "\n",
    "reg_3d(ax,xval,yval,mv_reg,x,y,z)"
   ]
  },
  {
   "cell_type": "code",
   "execution_count": 7,
   "id": "steady-canal",
   "metadata": {},
   "outputs": [
    {
     "name": "stdout",
     "output_type": "stream",
     "text": [
      "------2D Regression Results------ \n",
      "\n",
      "vx_d results:\n",
      "r2 =  0.4925\n",
      "Equation:  landing_rate  =  0.71  +  0.102 * vx_d\n",
      "\n",
      "\n",
      "vz_d results:\n",
      "r2 =  0.0184\n",
      "Equation:  landing_rate  =  0.93  +  -0.019 * vz_d\n"
     ]
    },
    {
     "data": {
      "application/vnd.jupyter.widget-view+json": {
       "model_id": "e50079bf56184295a49595330410c4ab",
       "version_major": 2,
       "version_minor": 0
      },
      "text/plain": [
       "Canvas(toolbar=Toolbar(toolitems=[('Home', 'Reset original view', 'home', 'home'), ('Back', 'Back to previous …"
      ]
     },
     "metadata": {},
     "output_type": "display_data"
    }
   ],
   "source": [
    "# 2D REGRESSION PLOTs AND INFO\n",
    "reg_2d(xval,yval,zval,x_reg,y_reg,x,y,z)"
   ]
  },
  {
   "cell_type": "markdown",
   "id": "geographic-classic",
   "metadata": {},
   "source": [
    "# RREV vs IC"
   ]
  },
  {
   "cell_type": "code",
   "execution_count": 8,
   "id": "actual-cooperation",
   "metadata": {},
   "outputs": [
    {
     "data": {
      "application/vnd.jupyter.widget-view+json": {
       "model_id": "ea5a5fe80caf401fade897855a456f53",
       "version_major": 2,
       "version_minor": 0
      },
      "text/plain": [
       "Canvas(toolbar=Toolbar(toolitems=[('Home', 'Reset original view', 'home', 'home'), ('Back', 'Back to previous …"
      ]
     },
     "metadata": {},
     "output_type": "display_data"
    }
   ],
   "source": [
    "fig = plt.figure()\n",
    "ax = fig.add_subplot(111,projection=\"3d\")\n",
    "\n",
    "# DEFINE VARIABLES\n",
    "x,y,z = 'vx_d','vz_d','RREV_threshold'\n",
    "\n",
    "X = df_max[x]\n",
    "Y = df_max[y]\n",
    "Z = df_max[z]\n",
    "C = df_max[z]\n",
    "\n",
    "\n",
    "# CREATE PLOTS AND COLOR BAR\n",
    "cmap = mpl.cm.rainbow\n",
    "norm = mpl.colors.Normalize(vmin=3.5,vmax=5.5)\n",
    "ax.scatter(X,Y,Z,c=C,cmap=cmap,norm=norm,zorder=2)\n",
    "#ax.plot_trisurf(X,Y,ypred,alpha=0.75,label='Linear_Regression',zorder=1)\n",
    "fig.colorbar(mpl.cm.ScalarMappable(norm=norm, cmap=cmap),label=\"RREV_threshold\")\n",
    "\n",
    "\n",
    "\n",
    "# PLOT LIMITS AND INFO\n",
    "ax.set_xlim(0,2.75)\n",
    "ax.set_ylim(1.0,4.5)\n",
    "ax.set_zlim(3,6)\n",
    "\n",
    "\n",
    "ax.set_xlabel('Vx_d')\n",
    "ax.set_ylabel('Vz_d')\n",
    "ax.set_zlabel('RREV_threshold')\n",
    "ax.set_title('RREV_thr vs IC - (Max Data)')\n",
    "\n",
    "plt.show()"
   ]
  },
  {
   "cell_type": "code",
   "execution_count": 9,
   "id": "lovely-mandate",
   "metadata": {},
   "outputs": [
    {
     "name": "stdout",
     "output_type": "stream",
     "text": [
      "------3D Regression Results------ \n",
      "\n",
      "r2 =  0.6027\n",
      "Equation:  RREV_threshold  =  5.209  +  0.133 * vx_d  +  -0.321 * vz_d\n"
     ]
    }
   ],
   "source": [
    "## 3D REGRESSION ANALYSIS AND PLOTTING\n",
    "\n",
    "# Regression results\n",
    "xval, yval, zval, mv_reg, x_reg, y_reg = linreg(df_max,x,y,z)\n",
    "\n",
    "reg_3d(ax,xval,yval,mv_reg,x,y,z)"
   ]
  },
  {
   "cell_type": "code",
   "execution_count": 10,
   "id": "ceramic-simpson",
   "metadata": {},
   "outputs": [
    {
     "name": "stdout",
     "output_type": "stream",
     "text": [
      "------2D Regression Results------ \n",
      "\n",
      "vx_d results:\n",
      "r2 =  0.1152\n",
      "Equation:  RREV_threshold  =  4.264  +  0.161 * vx_d\n",
      "\n",
      "\n",
      "vz_d results:\n",
      "r2 =  0.5245\n",
      "Equation:  RREV_threshold  =  5.456  +  -0.332 * vz_d\n"
     ]
    },
    {
     "data": {
      "application/vnd.jupyter.widget-view+json": {
       "model_id": "e7fa8fb89ac846d78610363930e2d484",
       "version_major": 2,
       "version_minor": 0
      },
      "text/plain": [
       "Canvas(toolbar=Toolbar(toolitems=[('Home', 'Reset original view', 'home', 'home'), ('Back', 'Back to previous …"
      ]
     },
     "metadata": {},
     "output_type": "display_data"
    }
   ],
   "source": [
    "# 2D REGRESSION PLOTs AND INFO\n",
    "reg_2d(xval,yval,zval,x_reg,y_reg,x,y,z)"
   ]
  },
  {
   "cell_type": "markdown",
   "id": "private-knight",
   "metadata": {},
   "source": [
    "# Rotation Time Data"
   ]
  },
  {
   "cell_type": "code",
   "execution_count": 11,
   "id": "civic-israel",
   "metadata": {},
   "outputs": [
    {
     "data": {
      "application/vnd.jupyter.widget-view+json": {
       "model_id": "6901fed018c9436b8681e0093787ffba",
       "version_major": 2,
       "version_minor": 0
      },
      "text/plain": [
       "Canvas(toolbar=Toolbar(toolitems=[('Home', 'Reset original view', 'home', 'home'), ('Back', 'Back to previous …"
      ]
     },
     "metadata": {},
     "output_type": "display_data"
    }
   ],
   "source": [
    "fig = plt.figure()\n",
    "ax = fig.add_subplot(111,projection=\"3d\")\n",
    "\n",
    "\n",
    "# DEFINE VARIABLES\n",
    "x,y,z = 'RREV_threshold','OF_y','impact_tdelta'\n",
    "X = df_max[x]\n",
    "Y = df_max[y]\n",
    "Z = df_max[z]\n",
    "C = df_max['landing_rate']\n",
    "\n",
    "\n",
    "# CREATE PLOTS AND COLOR BAR\n",
    "ax.scatter(X,Y,Z)\n",
    "\n",
    "cmap = mpl.cm.rainbow\n",
    "norm = mpl.colors.Normalize(vmin=0,vmax=1)\n",
    "ax.scatter(X,Y,Z,c=C,cmap=cmap,norm=norm)\n",
    "# # fig.colorbar(mpl.cm.ScalarMappable(norm=norm, cmap=cmap),label=\"Landing Rate\")\n",
    "\n",
    "\n",
    "\n",
    "# PLOT LIMITS AND INFO\n",
    "ax.set_xlabel('RREV')\n",
    "ax.set_ylabel('OF_y')\n",
    "ax.set_zlabel('Delta_t [s]')\n",
    "\n",
    "ax.set_title('Time Rotating vs IC (Max Data)')\n",
    "\n",
    "ax.set_zlim(0,0.5)\n",
    "\n",
    "\n",
    "\n",
    "\n",
    "plt.show()"
   ]
  },
  {
   "cell_type": "code",
   "execution_count": 12,
   "id": "pleased-korean",
   "metadata": {},
   "outputs": [
    {
     "name": "stdout",
     "output_type": "stream",
     "text": [
      "------3D Regression Results------ \n",
      "\n",
      "r2 =  0.5688\n",
      "Equation:  impact_tdelta  =  0.572  +  -0.073 * RREV_threshold  +  0.002 * OF_y\n"
     ]
    }
   ],
   "source": [
    "## 3D REGRESSION ANALYSIS AND PLOTTING\n",
    "\n",
    "# Regression results\n",
    "xval, yval, zval, mv_reg, x_reg, y_reg = linreg(df_max,x,y,z)\n",
    "\n",
    "reg_3d(ax,xval,yval,mv_reg,x,y,z)"
   ]
  },
  {
   "cell_type": "code",
   "execution_count": 13,
   "id": "unusual-induction",
   "metadata": {},
   "outputs": [
    {
     "name": "stdout",
     "output_type": "stream",
     "text": [
      "------2D Regression Results------ \n",
      "\n",
      "RREV_threshold results:\n",
      "r2 =  0.5619\n",
      "Equation:  impact_tdelta  =  0.601  +  -0.081 * RREV_threshold\n",
      "\n",
      "\n",
      "OF_y results:\n",
      "r2 =  0.3105\n",
      "Equation:  impact_tdelta  =  0.27  +  0.012 * OF_y\n"
     ]
    },
    {
     "data": {
      "application/vnd.jupyter.widget-view+json": {
       "model_id": "17d16a0d50a346a0a1935fd455f769f7",
       "version_major": 2,
       "version_minor": 0
      },
      "text/plain": [
       "Canvas(toolbar=Toolbar(toolitems=[('Home', 'Reset original view', 'home', 'home'), ('Back', 'Back to previous …"
      ]
     },
     "metadata": {},
     "output_type": "display_data"
    }
   ],
   "source": [
    "# 2D REGRESSION PLOTs AND INFO\n",
    "reg_2d(xval,yval,zval,x_reg,y_reg,x,y,z)"
   ]
  },
  {
   "cell_type": "markdown",
   "id": "joint-variable",
   "metadata": {},
   "source": [
    "# My_d vs IC Data"
   ]
  },
  {
   "cell_type": "code",
   "execution_count": 14,
   "id": "provincial-pocket",
   "metadata": {},
   "outputs": [
    {
     "data": {
      "application/vnd.jupyter.widget-view+json": {
       "model_id": "6e9e5d55fb4d479780fb02c1db6e59dd",
       "version_major": 2,
       "version_minor": 0
      },
      "text/plain": [
       "Canvas(toolbar=Toolbar(toolitems=[('Home', 'Reset original view', 'home', 'home'), ('Back', 'Back to previous …"
      ]
     },
     "metadata": {},
     "output_type": "display_data"
    }
   ],
   "source": [
    "## Define Dataframe\n",
    "\n",
    "#df_temp = df.query(f\"landing_rate>={0.1}\")\n",
    "\n",
    "\n",
    "fig = plt.figure()\n",
    "ax = fig.add_subplot(111,projection=\"3d\")\n",
    "\n",
    "\n",
    "x,y,z = 'vx_d','vz_d','My_d'\n",
    "X = df_max[x]\n",
    "Y = df_max[y]\n",
    "Z = df_max[z]\n",
    "pcm = ax.scatter(X,Y,Z)\n",
    "\n",
    "\n",
    "\n",
    "ax.set_xlabel('vx_d')\n",
    "ax.set_ylabel('vz_d')\n",
    "ax.set_zlabel('My_d [N*mm]')\n",
    "\n",
    "ax.set_title('My_d vs IC (Max Data)')\n",
    "\n",
    "\n",
    "\n",
    "plt.show()"
   ]
  },
  {
   "cell_type": "code",
   "execution_count": 15,
   "id": "naval-hampshire",
   "metadata": {},
   "outputs": [
    {
     "name": "stdout",
     "output_type": "stream",
     "text": [
      "------3D Regression Results------ \n",
      "\n",
      "r2 =  0.0159\n",
      "Equation:  My_d  =  3.24  +  0.17 * vx_d  +  0.208 * vz_d\n"
     ]
    }
   ],
   "source": [
    "## 3D REGRESSION ANALYSIS AND PLOTTING\n",
    "\n",
    "# Regression results\n",
    "xval, yval, zval, mv_reg, x_reg, y_reg = linreg(df_max,x,y,z)\n",
    "\n",
    "reg_3d(ax,xval,yval,mv_reg,x,y,z)"
   ]
  },
  {
   "cell_type": "code",
   "execution_count": 16,
   "id": "logical-glasgow",
   "metadata": {},
   "outputs": [
    {
     "name": "stdout",
     "output_type": "stream",
     "text": [
      "------2D Regression Results------ \n",
      "\n",
      "vx_d results:\n",
      "r2 =  0.0053\n",
      "Equation:  My_d  =  3.854  +  0.151 * vx_d\n",
      "\n",
      "\n",
      "vz_d results:\n",
      "r2 =  0.0093\n",
      "Equation:  My_d  =  3.555  +  0.195 * vz_d\n"
     ]
    },
    {
     "data": {
      "application/vnd.jupyter.widget-view+json": {
       "model_id": "52bb118bbd9f4ea8963746aab22a7044",
       "version_major": 2,
       "version_minor": 0
      },
      "text/plain": [
       "Canvas(toolbar=Toolbar(toolitems=[('Home', 'Reset original view', 'home', 'home'), ('Back', 'Back to previous …"
      ]
     },
     "metadata": {},
     "output_type": "display_data"
    }
   ],
   "source": [
    "# 2D REGRESSION PLOTs AND INFO\n",
    "reg_2d(xval,yval,zval,x_reg,y_reg,x,y,z)"
   ]
  },
  {
   "cell_type": "markdown",
   "id": "first-palestine",
   "metadata": {},
   "source": [
    "# Impact Angle Data"
   ]
  },
  {
   "cell_type": "code",
   "execution_count": 17,
   "id": "executed-surrey",
   "metadata": {},
   "outputs": [
    {
     "data": {
      "application/vnd.jupyter.widget-view+json": {
       "model_id": "d1f4c115c8784e09a757a53be1fc8ebe",
       "version_major": 2,
       "version_minor": 0
      },
      "text/plain": [
       "Canvas(toolbar=Toolbar(toolitems=[('Home', 'Reset original view', 'home', 'home'), ('Back', 'Back to previous …"
      ]
     },
     "metadata": {},
     "output_type": "display_data"
    }
   ],
   "source": [
    "fig = plt.figure()\n",
    "ax = fig.add_subplot(111,projection=\"3d\")\n",
    "\n",
    "# CLEAN DATA\n",
    "df_temp = df_max.query(f\"impact_eul<={-60}\")  \n",
    "#df_temp = df_max\n",
    "\n",
    "# DEFINE VARIABLES\n",
    "x,y,z = 'vx_d','vz_d','impact_eul'\n",
    "X = df_temp[x]\n",
    "Y = df_temp[y]\n",
    "Z = -df_temp[z]\n",
    "C = df_temp['landing_rate']\n",
    "\n",
    "\n",
    "# CREATE PLOTS AND COLOR BAR\n",
    "cmap = mpl.cm.rainbow\n",
    "norm = mpl.colors.Normalize(vmin=0,vmax=1)\n",
    "ax.scatter(X,Y,Z,c=C,cmap=cmap,norm=norm)\n",
    "fig.colorbar(mpl.cm.ScalarMappable(norm=norm, cmap=cmap),label=\"Landing Rate\")\n",
    "\n",
    "\n",
    "\n",
    "# PLOT LIMITS AND INFO\n",
    "ax.set_xlabel('vx_d')\n",
    "ax.set_ylabel('vz_d')\n",
    "ax.set_zlabel('Impact Angle [deg]')\n",
    "\n",
    "ax.set_title('Impact Angle vs IC (Max Data)')\n",
    "\n",
    "ax.set_zlim(60,180)\n",
    "ax.set_zticks([60,90,120,150,180,210])\n",
    "\n",
    "\n",
    "\n",
    "plt.show()"
   ]
  },
  {
   "cell_type": "code",
   "execution_count": 18,
   "id": "monthly-technician",
   "metadata": {},
   "outputs": [
    {
     "name": "stdout",
     "output_type": "stream",
     "text": [
      "------3D Regression Results------ \n",
      "\n",
      "r2 =  0.4485\n",
      "Equation:  impact_eul  =  52.554  +  4.01 * vx_d  +  19.576 * vz_d\n"
     ]
    }
   ],
   "source": [
    "## 3D REGRESSION ANALYSIS AND PLOTTING\n",
    "\n",
    "# Regression results\n",
    "xval, yval, zval, mv_reg, x_reg, y_reg = linreg(df_max,x,y,z)\n",
    "\n",
    "reg_3d(ax,xval,yval,mv_reg,x,y,z)"
   ]
  },
  {
   "cell_type": "code",
   "execution_count": 19,
   "id": "frozen-consultation",
   "metadata": {},
   "outputs": [
    {
     "name": "stdout",
     "output_type": "stream",
     "text": [
      "------2D Regression Results------ \n",
      "\n",
      "vx_d results:\n",
      "r2 =  0.0058\n",
      "Equation:  impact_eul  =  110.156  +  2.311 * vx_d\n",
      "\n",
      "\n",
      "vz_d results:\n",
      "r2 =  0.4311\n",
      "Equation:  impact_eul  =  60.0  +  19.25 * vz_d\n"
     ]
    },
    {
     "data": {
      "application/vnd.jupyter.widget-view+json": {
       "model_id": "571da7281d4942e38ddcd7fde8881117",
       "version_major": 2,
       "version_minor": 0
      },
      "text/plain": [
       "Canvas(toolbar=Toolbar(toolitems=[('Home', 'Reset original view', 'home', 'home'), ('Back', 'Back to previous …"
      ]
     },
     "metadata": {},
     "output_type": "display_data"
    }
   ],
   "source": [
    "# 2D REGRESSION PLOTs AND INFO\n",
    "reg_2d(xval,yval,zval,x_reg,y_reg,x,y,z)"
   ]
  },
  {
   "cell_type": "markdown",
   "id": "existing-skiing",
   "metadata": {},
   "source": [
    "# MAX POLICY RELATION"
   ]
  },
  {
   "cell_type": "code",
   "execution_count": 20,
   "id": "looking-filename",
   "metadata": {},
   "outputs": [
    {
     "data": {
      "application/vnd.jupyter.widget-view+json": {
       "model_id": "0bb5070d3b794806892b8131bfbeb6b0",
       "version_major": 2,
       "version_minor": 0
      },
      "text/plain": [
       "Canvas(toolbar=Toolbar(toolitems=[('Home', 'Reset original view', 'home', 'home'), ('Back', 'Back to previous …"
      ]
     },
     "metadata": {},
     "output_type": "display_data"
    }
   ],
   "source": [
    "fig = plt.figure()\n",
    "ax = fig.add_subplot(111,projection=\"3d\")\n",
    "\n",
    "\n",
    "# DEFINE VARIABLES\n",
    "x,y,z = 'RREV_threshold','OF_y','My_d'\n",
    "X = df_max[x]\n",
    "Y = df_max[y]\n",
    "Z = df_max[z]\n",
    "C = df_max['landing_rate']\n",
    "\n",
    "\n",
    "# CREATE PLOTS AND COLOR BAR\n",
    "cmap = mpl.cm.rainbow\n",
    "norm = mpl.colors.Normalize(vmin=0,vmax=1)\n",
    "ax.scatter(X,Y,Z,c=C,cmap=cmap,norm=norm)\n",
    "fig.colorbar(mpl.cm.ScalarMappable(norm=norm, cmap=cmap),label=\"Landing Rate\")\n",
    "\n",
    "\n",
    "\n",
    "# PLOT LIMITS AND INFO\n",
    "ax.set_xlim(6,2)\n",
    "ax.set_ylim(-10,0)\n",
    "ax.set_zlim(0,10)\n",
    "\n",
    "ax.set_xlabel('RREV')\n",
    "ax.set_ylabel('OF_y')\n",
    "ax.set_zlabel('My_d')\n",
    "\n",
    "ax.set_title('Max Policy Relation')\n",
    "\n",
    "\n",
    "\n",
    "plt.show()"
   ]
  },
  {
   "cell_type": "code",
   "execution_count": 21,
   "id": "future-vulnerability",
   "metadata": {},
   "outputs": [
    {
     "name": "stdout",
     "output_type": "stream",
     "text": [
      "------3D Regression Results------ \n",
      "\n",
      "r2 =  0.0419\n",
      "Equation:  My_d  =  0.211  +  0.849 * RREV_threshold  +  -0.016 * OF_y\n"
     ]
    }
   ],
   "source": [
    "## 3D REGRESSION ANALYSIS AND PLOTTING\n",
    "\n",
    "# Regression results\n",
    "xval, yval, zval, mv_reg, x_reg, y_reg = linreg(df_max,x,y,z)\n",
    "\n",
    "reg_3d(ax,xval,yval,mv_reg,x,y,z)"
   ]
  },
  {
   "cell_type": "code",
   "execution_count": 22,
   "id": "packed-transfer",
   "metadata": {},
   "outputs": [
    {
     "name": "stdout",
     "output_type": "stream",
     "text": [
      "------2D Regression Results------ \n",
      "\n",
      "RREV_threshold results:\n",
      "r2 =  0.0418\n",
      "Equation:  My_d  =  0.028  +  0.9 * RREV_threshold\n",
      "\n",
      "\n",
      "OF_y results:\n",
      "r2 =  0.021\n",
      "Equation:  My_d  =  3.715  +  -0.129 * OF_y\n"
     ]
    },
    {
     "data": {
      "application/vnd.jupyter.widget-view+json": {
       "model_id": "4033a579f8a7435e82aabd65fee4607b",
       "version_major": 2,
       "version_minor": 0
      },
      "text/plain": [
       "Canvas(toolbar=Toolbar(toolitems=[('Home', 'Reset original view', 'home', 'home'), ('Back', 'Back to previous …"
      ]
     },
     "metadata": {},
     "output_type": "display_data"
    }
   ],
   "source": [
    "# 2D REGRESSION PLOTs AND INFO\n",
    "reg_2d(xval,yval,zval,x_reg,y_reg,x,y,z)"
   ]
  },
  {
   "cell_type": "code",
   "execution_count": 23,
   "id": "abroad-novelty",
   "metadata": {},
   "outputs": [
    {
     "data": {
      "application/vnd.jupyter.widget-view+json": {
       "model_id": "0e14bdedb9a04fd782d3441b8edef5e3",
       "version_major": 2,
       "version_minor": 0
      },
      "text/plain": [
       "Canvas(toolbar=Toolbar(toolitems=[('Home', 'Reset original view', 'home', 'home'), ('Back', 'Back to previous …"
      ]
     },
     "metadata": {},
     "output_type": "display_data"
    }
   ],
   "source": [
    "fig = plt.figure()\n",
    "ax = fig.add_subplot(111,projection=\"3d\")\n",
    "\n",
    "\n",
    "# DEFINE VARIABLES\n",
    "x,y,z = 'RREV_threshold','OF_y','My_d'\n",
    "X = df_max[x]\n",
    "Y = df_max[y]\n",
    "Z = df_max[z]\n",
    "C = df_max['landing_rate']\n",
    "\n",
    "\n",
    "# CREATE PLOTS AND COLOR BAR\n",
    "cmap = mpl.cm.rainbow\n",
    "norm = mpl.colors.Normalize(vmin=0,vmax=1)\n",
    "ax.scatter(X,Y,Z,c=C,cmap=cmap,norm=norm)\n",
    "fig.colorbar(mpl.cm.ScalarMappable(norm=norm, cmap=cmap),label=\"Landing Rate\")\n",
    "\n",
    "\n",
    "\n",
    "# PLOT LIMITS AND INFO\n",
    "ax.set_xlim(6,2)\n",
    "ax.set_ylim(-10,0)\n",
    "ax.set_zlim(0,10)\n",
    "\n",
    "ax.set_xlabel('RREV')\n",
    "ax.set_ylabel('OF_y')\n",
    "ax.set_zlabel('My_d')\n",
    "\n",
    "ax.set_title('Max Policy Relation')\n",
    "\n",
    "\n",
    "\n",
    "plt.show()"
   ]
  },
  {
   "cell_type": "code",
   "execution_count": 24,
   "id": "electric-certificate",
   "metadata": {},
   "outputs": [
    {
     "name": "stdout",
     "output_type": "stream",
     "text": [
      "My_d =  -157.999 + 39.272*RREV + 5.237*OF_y\n",
      "R2 = 0.9263\n"
     ]
    }
   ],
   "source": [
    "from scipy.odr import Model, Data, ODR\n",
    "def f(B,x):\n",
    "    return B[0]*x[0,:] + B[1]*x[1,:] + B[2]\n",
    "\n",
    "length = len(xval)\n",
    "xvalr,yvalr = xval.reshape(1,length),yval.reshape(1,length)\n",
    "xy = np.concatenate((xvalr,yvalr),axis = 0)\n",
    "linear = Model(f)\n",
    "mydata = Data(xy,zval)\n",
    "myodr = ODR(mydata,linear,beta0=[2,2,1])\n",
    "myoutput = myodr.run()\n",
    "#myoutput.pprint()\n",
    "\n",
    "a = myoutput.beta[0]\n",
    "b = myoutput.beta[1]\n",
    "c = myoutput.beta[2]\n",
    "zplot = a*xval + b*yval + c\n",
    "\n",
    "\n",
    "ax.plot_trisurf(xval,yval,zplot)\n",
    "\n",
    "r2 = 1- myoutput.res_var\n",
    "print(\"My_d =  {c:.3f} + {a:.3f}*RREV + {b:.3f}*OF_y\".format(a=a,b=b,c=c))\n",
    "print(\"R2 = {r:.4f}\".format(r=r2))"
   ]
  }
 ],
 "metadata": {
  "kernelspec": {
   "display_name": "Python 3",
   "language": "python",
   "name": "python3"
  },
  "language_info": {
   "codemirror_mode": {
    "name": "ipython",
    "version": 3
   },
   "file_extension": ".py",
   "mimetype": "text/x-python",
   "name": "python",
   "nbconvert_exporter": "python",
   "pygments_lexer": "ipython3",
   "version": "3.9.1"
  }
 },
 "nbformat": 4,
 "nbformat_minor": 5
}
