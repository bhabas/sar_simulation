{
 "metadata": {
  "language_info": {
   "codemirror_mode": {
    "name": "ipython",
    "version": 3
   },
   "file_extension": ".py",
   "mimetype": "text/x-python",
   "name": "python",
   "nbconvert_exporter": "python",
   "pygments_lexer": "ipython3",
   "version": "3.8.5-final"
  },
  "orig_nbformat": 2,
  "kernelspec": {
   "name": "python38564bit0282941c0ba945238a13db8c20574d9c",
   "display_name": "Python 3.8.5 64-bit",
   "language": "python"
  }
 },
 "nbformat": 4,
 "nbformat_minor": 2,
 "cells": [
  {
   "source": [
    "# Module Imports"
   ],
   "cell_type": "markdown",
   "metadata": {}
  },
  {
   "cell_type": "code",
   "execution_count": 1,
   "metadata": {},
   "outputs": [],
   "source": [
    "## IMPORT MODULES\n",
    "import pandas as pd\n",
    "import numpy as np\n",
    "from sklearn import linear_model\n"
   ]
  },
  {
   "cell_type": "code",
   "execution_count": 2,
   "metadata": {},
   "outputs": [],
   "source": [
    "## IMPORT PLOTTING MODULES\n",
    "import matplotlib.pyplot as plt\n",
    "from mpl_toolkits import mplot3d\n",
    "import matplotlib as mpl\n",
    "from matplotlib import cm\n",
    "%matplotlib widget"
   ]
  },
  {
   "source": [
    "# Dataframe"
   ],
   "cell_type": "markdown",
   "metadata": {}
  },
  {
   "cell_type": "code",
   "execution_count": 3,
   "metadata": {},
   "outputs": [],
   "source": [
    "## FULL DATAFRAME\n",
    "df_raw = pd.read_csv(\"WL_2-Policy_Summary.csv\")\n",
    "\n",
    "## Drop extraneous data points\n",
    "df_raw = df_raw.drop(df_raw[\n",
    "    (df_raw['landing_rate']<=0.1) & \n",
    "    (df_raw['vz_d']>=2.75)\n",
    "    ].index)\n",
    "\n",
    "df_raw = df_raw.drop(df_raw[\n",
    "    (df_raw['landing_rate']<=0.1) & \n",
    "    (df_raw['vx_d']>=1.0)\n",
    "    ].index)\n",
    "\n",
    "df_raw_avg = df_raw.groupby(['vz_d','vx_d']).agg([np.mean,np.std]).reset_index()\n",
    "\n",
    "\n",
    "# df_temp = df.query(f\"landing_rate>={0.2}\")\n",
    "# df_temp_avg = df_raw.groupby(['vz_d','vx_d']).agg([np.mean,np.std]).reset_index()\n",
    "\n",
    "\n",
    "df = df_raw\n",
    "df['My_d'] = df['My_d'].apply(lambda x: np.abs(x)) # Convert My to magnitude\n",
    "# df['My_d'] = df['My_d'].apply(lambda x: 7.7 if x>7.7 else x) # Cap My_d to max moment\n",
    "# df = df.drop(df[(df['vz_d']<= 2.25) & (df['vx_d']<= 0.75)].index) # Drop corner with no successful landings\n",
    "df = df.dropna()\n",
    "\n",
    "## AVERAGED DATAFRAME\n",
    "df_avg = df.groupby(['vz_d','vx_d']).agg([np.mean,np.std]).reset_index()"
   ]
  },
  {
   "cell_type": "code",
   "execution_count": 4,
   "metadata": {},
   "outputs": [
    {
     "output_type": "execute_result",
     "data": {
      "text/plain": [
       "     vz_d  vx_d  trial_num  landing_rate  RREV_threshold    G1  RREV_sig  \\\n",
       "0     1.5  0.00          0      0.272727            4.59  4.95      0.00   \n",
       "1     1.5  0.00          1      0.250000            5.15  5.66      0.01   \n",
       "3     1.5  0.00          3      0.291667            4.46  7.38      0.01   \n",
       "4     1.5  0.00          4      0.416667            4.74  5.31      0.01   \n",
       "5     1.5  0.00          5      0.600000            4.79  3.22      0.00   \n",
       "..    ...   ...        ...           ...             ...   ...       ...   \n",
       "765   4.0  2.75          1      0.916667            4.78  4.77      0.02   \n",
       "766   4.0  2.75          2      1.000000            4.62  4.14      0.04   \n",
       "767   4.0  2.75          3      0.833333            4.72  4.47      0.02   \n",
       "768   4.0  2.75          4      0.916667            4.24  2.22      0.01   \n",
       "769   4.0  2.75          5      0.958333            4.08  2.07      0.00   \n",
       "\n",
       "     G1_sig  RREV_trigger      OF_y      My_d  impact_eul  impact_tdelta  \\\n",
       "0      0.05      5.021833  0.000000  4.937833  -97.088206       0.199667   \n",
       "1      0.00      5.418167  0.000000  5.661000  -91.943326       0.173333   \n",
       "3      0.59      4.897286  0.000000  7.344286 -118.566499       0.168571   \n",
       "4      0.01      5.268700 -0.000100  5.315900  -95.375665       0.182400   \n",
       "5      0.87      5.411333 -0.000083  3.454833  -86.938026       0.207500   \n",
       "..      ...           ...       ...       ...         ...            ...   \n",
       "765    0.00      5.082955 -3.318864  4.774864 -118.326346       0.208636   \n",
       "766    0.00      4.938167 -3.220208  4.139125 -126.525807       0.226250   \n",
       "767    0.02      5.045650 -3.288900  4.473750 -118.412714       0.220300   \n",
       "768    0.04      4.537500 -2.959773  2.249909  -99.818951       0.263455   \n",
       "769    0.00      4.407783 -2.871522  2.066304 -109.931564       0.283130   \n",
       "\n",
       "    alpha_mu alpha_sigma       mu_ini  sigma_ini  \n",
       "0    [0. 0.]     [0. 0.]  [2.81 3.88]  [1.5 1.5]  \n",
       "1    [0. 0.]     [0. 0.]  [1.22 4.45]  [1.5 1.5]  \n",
       "3    [0. 0.]     [0. 0.]  [5.54 6.08]  [1.5 1.5]  \n",
       "4    [0. 0.]     [0. 0.]  [1.76 6.35]  [1.5 1.5]  \n",
       "5    [0. 0.]     [0. 0.]  [6.31 6.04]  [1.5 1.5]  \n",
       "..       ...         ...          ...        ...  \n",
       "765  [0. 0.]     [0. 0.]  [5.19 2.78]  [1.5 1.5]  \n",
       "766  [0. 0.]     [0. 0.]  [6.01 4.09]  [1.5 1.5]  \n",
       "767  [0. 0.]     [0. 0.]  [4.16 4.52]  [1.5 1.5]  \n",
       "768  [0. 0.]     [0. 0.]  [6.47 2.14]  [1.5 1.5]  \n",
       "769  [0. 0.]     [0. 0.]  [7.   3.05]  [1.5 1.5]  \n",
       "\n",
       "[697 rows x 17 columns]"
      ],
      "text/html": "<div>\n<style scoped>\n    .dataframe tbody tr th:only-of-type {\n        vertical-align: middle;\n    }\n\n    .dataframe tbody tr th {\n        vertical-align: top;\n    }\n\n    .dataframe thead th {\n        text-align: right;\n    }\n</style>\n<table border=\"1\" class=\"dataframe\">\n  <thead>\n    <tr style=\"text-align: right;\">\n      <th></th>\n      <th>vz_d</th>\n      <th>vx_d</th>\n      <th>trial_num</th>\n      <th>landing_rate</th>\n      <th>RREV_threshold</th>\n      <th>G1</th>\n      <th>RREV_sig</th>\n      <th>G1_sig</th>\n      <th>RREV_trigger</th>\n      <th>OF_y</th>\n      <th>My_d</th>\n      <th>impact_eul</th>\n      <th>impact_tdelta</th>\n      <th>alpha_mu</th>\n      <th>alpha_sigma</th>\n      <th>mu_ini</th>\n      <th>sigma_ini</th>\n    </tr>\n  </thead>\n  <tbody>\n    <tr>\n      <th>0</th>\n      <td>1.5</td>\n      <td>0.00</td>\n      <td>0</td>\n      <td>0.272727</td>\n      <td>4.59</td>\n      <td>4.95</td>\n      <td>0.00</td>\n      <td>0.05</td>\n      <td>5.021833</td>\n      <td>0.000000</td>\n      <td>4.937833</td>\n      <td>-97.088206</td>\n      <td>0.199667</td>\n      <td>[0. 0.]</td>\n      <td>[0. 0.]</td>\n      <td>[2.81 3.88]</td>\n      <td>[1.5 1.5]</td>\n    </tr>\n    <tr>\n      <th>1</th>\n      <td>1.5</td>\n      <td>0.00</td>\n      <td>1</td>\n      <td>0.250000</td>\n      <td>5.15</td>\n      <td>5.66</td>\n      <td>0.01</td>\n      <td>0.00</td>\n      <td>5.418167</td>\n      <td>0.000000</td>\n      <td>5.661000</td>\n      <td>-91.943326</td>\n      <td>0.173333</td>\n      <td>[0. 0.]</td>\n      <td>[0. 0.]</td>\n      <td>[1.22 4.45]</td>\n      <td>[1.5 1.5]</td>\n    </tr>\n    <tr>\n      <th>3</th>\n      <td>1.5</td>\n      <td>0.00</td>\n      <td>3</td>\n      <td>0.291667</td>\n      <td>4.46</td>\n      <td>7.38</td>\n      <td>0.01</td>\n      <td>0.59</td>\n      <td>4.897286</td>\n      <td>0.000000</td>\n      <td>7.344286</td>\n      <td>-118.566499</td>\n      <td>0.168571</td>\n      <td>[0. 0.]</td>\n      <td>[0. 0.]</td>\n      <td>[5.54 6.08]</td>\n      <td>[1.5 1.5]</td>\n    </tr>\n    <tr>\n      <th>4</th>\n      <td>1.5</td>\n      <td>0.00</td>\n      <td>4</td>\n      <td>0.416667</td>\n      <td>4.74</td>\n      <td>5.31</td>\n      <td>0.01</td>\n      <td>0.01</td>\n      <td>5.268700</td>\n      <td>-0.000100</td>\n      <td>5.315900</td>\n      <td>-95.375665</td>\n      <td>0.182400</td>\n      <td>[0. 0.]</td>\n      <td>[0. 0.]</td>\n      <td>[1.76 6.35]</td>\n      <td>[1.5 1.5]</td>\n    </tr>\n    <tr>\n      <th>5</th>\n      <td>1.5</td>\n      <td>0.00</td>\n      <td>5</td>\n      <td>0.600000</td>\n      <td>4.79</td>\n      <td>3.22</td>\n      <td>0.00</td>\n      <td>0.87</td>\n      <td>5.411333</td>\n      <td>-0.000083</td>\n      <td>3.454833</td>\n      <td>-86.938026</td>\n      <td>0.207500</td>\n      <td>[0. 0.]</td>\n      <td>[0. 0.]</td>\n      <td>[6.31 6.04]</td>\n      <td>[1.5 1.5]</td>\n    </tr>\n    <tr>\n      <th>...</th>\n      <td>...</td>\n      <td>...</td>\n      <td>...</td>\n      <td>...</td>\n      <td>...</td>\n      <td>...</td>\n      <td>...</td>\n      <td>...</td>\n      <td>...</td>\n      <td>...</td>\n      <td>...</td>\n      <td>...</td>\n      <td>...</td>\n      <td>...</td>\n      <td>...</td>\n      <td>...</td>\n      <td>...</td>\n    </tr>\n    <tr>\n      <th>765</th>\n      <td>4.0</td>\n      <td>2.75</td>\n      <td>1</td>\n      <td>0.916667</td>\n      <td>4.78</td>\n      <td>4.77</td>\n      <td>0.02</td>\n      <td>0.00</td>\n      <td>5.082955</td>\n      <td>-3.318864</td>\n      <td>4.774864</td>\n      <td>-118.326346</td>\n      <td>0.208636</td>\n      <td>[0. 0.]</td>\n      <td>[0. 0.]</td>\n      <td>[5.19 2.78]</td>\n      <td>[1.5 1.5]</td>\n    </tr>\n    <tr>\n      <th>766</th>\n      <td>4.0</td>\n      <td>2.75</td>\n      <td>2</td>\n      <td>1.000000</td>\n      <td>4.62</td>\n      <td>4.14</td>\n      <td>0.04</td>\n      <td>0.00</td>\n      <td>4.938167</td>\n      <td>-3.220208</td>\n      <td>4.139125</td>\n      <td>-126.525807</td>\n      <td>0.226250</td>\n      <td>[0. 0.]</td>\n      <td>[0. 0.]</td>\n      <td>[6.01 4.09]</td>\n      <td>[1.5 1.5]</td>\n    </tr>\n    <tr>\n      <th>767</th>\n      <td>4.0</td>\n      <td>2.75</td>\n      <td>3</td>\n      <td>0.833333</td>\n      <td>4.72</td>\n      <td>4.47</td>\n      <td>0.02</td>\n      <td>0.02</td>\n      <td>5.045650</td>\n      <td>-3.288900</td>\n      <td>4.473750</td>\n      <td>-118.412714</td>\n      <td>0.220300</td>\n      <td>[0. 0.]</td>\n      <td>[0. 0.]</td>\n      <td>[4.16 4.52]</td>\n      <td>[1.5 1.5]</td>\n    </tr>\n    <tr>\n      <th>768</th>\n      <td>4.0</td>\n      <td>2.75</td>\n      <td>4</td>\n      <td>0.916667</td>\n      <td>4.24</td>\n      <td>2.22</td>\n      <td>0.01</td>\n      <td>0.04</td>\n      <td>4.537500</td>\n      <td>-2.959773</td>\n      <td>2.249909</td>\n      <td>-99.818951</td>\n      <td>0.263455</td>\n      <td>[0. 0.]</td>\n      <td>[0. 0.]</td>\n      <td>[6.47 2.14]</td>\n      <td>[1.5 1.5]</td>\n    </tr>\n    <tr>\n      <th>769</th>\n      <td>4.0</td>\n      <td>2.75</td>\n      <td>5</td>\n      <td>0.958333</td>\n      <td>4.08</td>\n      <td>2.07</td>\n      <td>0.00</td>\n      <td>0.00</td>\n      <td>4.407783</td>\n      <td>-2.871522</td>\n      <td>2.066304</td>\n      <td>-109.931564</td>\n      <td>0.283130</td>\n      <td>[0. 0.]</td>\n      <td>[0. 0.]</td>\n      <td>[7.   3.05]</td>\n      <td>[1.5 1.5]</td>\n    </tr>\n  </tbody>\n</table>\n<p>697 rows × 17 columns</p>\n</div>"
     },
     "metadata": {},
     "execution_count": 4
    }
   ],
   "source": [
    "df"
   ]
  },
  {
   "source": [
    "# Landing Rate Data"
   ],
   "cell_type": "markdown",
   "metadata": {}
  },
  {
   "cell_type": "code",
   "execution_count": 5,
   "metadata": {},
   "outputs": [
    {
     "output_type": "display_data",
     "data": {
      "text/plain": "Canvas(toolbar=Toolbar(toolitems=[('Home', 'Reset original view', 'home', 'home'), ('Back', 'Back to previous …",
      "application/vnd.jupyter.widget-view+json": {
       "version_major": 2,
       "version_minor": 0,
       "model_id": "15eaaefb372f49cbbad5d61018984efc"
      }
     },
     "metadata": {}
    }
   ],
   "source": [
    "fig = plt.figure()\n",
    "ax = fig.add_subplot(111,projection=\"3d\")\n",
    "ax.scatter(df['vx_d'],df['vz_d'],df['landing_rate'])\n",
    "\n",
    "ax.set_zlim(0,1)\n",
    "\n",
    "ax.set_xlabel('vx_d')\n",
    "ax.set_ylabel('vz_d')\n",
    "ax.set_zlabel('Landing Rate')\n",
    "ax.set_title('Landing Rate (Raw Data)')\n",
    "\n",
    "plt.show()"
   ]
  },
  {
   "cell_type": "code",
   "execution_count": 6,
   "metadata": {},
   "outputs": [
    {
     "output_type": "display_data",
     "data": {
      "text/plain": "Canvas(toolbar=Toolbar(toolitems=[('Home', 'Reset original view', 'home', 'home'), ('Back', 'Back to previous …",
      "application/vnd.jupyter.widget-view+json": {
       "version_major": 2,
       "version_minor": 0,
       "model_id": "74dcabeaac734d0eafa9308bc6b6afba"
      }
     },
     "metadata": {}
    }
   ],
   "source": [
    "## AVG LANDING RATE SURFACE\n",
    "fig = plt.figure()\n",
    "ax = fig.add_subplot(111,projection=\"3d\")\n",
    "cmap = mpl.cm.jet\n",
    "norm = mpl.colors.Normalize(vmin=0,vmax=1)\n",
    "pcm = ax.plot_trisurf(df_raw_avg['vx_d'],df_raw_avg['vz_d'],df_raw_avg['landing_rate','mean'],cmap = cmap,norm=norm)\n",
    "fig.colorbar(mpl.cm.ScalarMappable(norm=norm, cmap=cmap),label=\"Landing %\")\n",
    "df\n",
    "ax.set_zlim(0,1)\n",
    "\n",
    "ax.set_xlabel('vx_d')\n",
    "ax.set_ylabel('vz_d')\n",
    "ax.set_zlabel('Landing Rate')\n",
    "ax.set_title('Avg Landing Rate for Final 3 Episodes')\n",
    "\n",
    "\n",
    "plt.show()"
   ]
  },
  {
   "cell_type": "code",
   "execution_count": 7,
   "metadata": {},
   "outputs": [
    {
     "output_type": "display_data",
     "data": {
      "text/plain": "Canvas(toolbar=Toolbar(toolitems=[('Home', 'Reset original view', 'home', 'home'), ('Back', 'Back to previous …",
      "application/vnd.jupyter.widget-view+json": {
       "version_major": 2,
       "version_minor": 0,
       "model_id": "0c2acae3b663434683b79ec7406f1730"
      }
     },
     "metadata": {}
    }
   ],
   "source": [
    "## AVG LANDING RATE SURFACE\n",
    "fig = plt.figure()\n",
    "ax = fig.add_subplot(111,projection=\"3d\")\n",
    "\n",
    "from scipy.interpolate import griddata\n",
    "\n",
    "\n",
    "X = df_raw_avg['vx_d']\n",
    "Y = df_raw_avg['vz_d']\n",
    "Z = df_raw_avg['landing_rate','mean']\n",
    "\n",
    "xi = np.linspace(X.min(),X.max(),(len(Z)//3))\n",
    "yi = np.linspace(Y.min(),Y.max(),(len(Z)//3))\n",
    "zi = griddata((X, Y), Z, (xi[None,:], yi[:,None]), method='linear')\n",
    "xig, yig = np.meshgrid(xi, yi)\n",
    "\n",
    "cmap = mpl.cm.jet\n",
    "norm = mpl.colors.Normalize(vmin=0,vmax=1)\n",
    "\n",
    "\n",
    "surf = ax.plot_surface(xig, yig, zi,cmap=cmap,norm=norm)\n",
    "# surf = ax.contour(xig, yig, zi,cmap=cmap,norm=norm)\n",
    "\n",
    "fig.colorbar(mpl.cm.ScalarMappable(norm=norm, cmap=cmap),label=\"Landing %\")\n",
    "ax.set_zlim(0,1)\n",
    "\n",
    "ax.set_xlabel('vx_d')\n",
    "ax.set_ylabel('vz_d')\n",
    "ax.set_zlabel('Landing Rate')\n",
    "ax.set_title('Avg Landing Rate for Final 3 Episodes')\n",
    "\n",
    "\n",
    "plt.show()"
   ]
  },
  {
   "source": [
    "# RREV vs IC"
   ],
   "cell_type": "markdown",
   "metadata": {}
  },
  {
   "cell_type": "code",
   "execution_count": 8,
   "metadata": {},
   "outputs": [
    {
     "output_type": "display_data",
     "data": {
      "text/plain": "Canvas(toolbar=Toolbar(toolitems=[('Home', 'Reset original view', 'home', 'home'), ('Back', 'Back to previous …",
      "application/vnd.jupyter.widget-view+json": {
       "version_major": 2,
       "version_minor": 0,
       "model_id": "71453c92c26c4c088edb5e01f3b8a528"
      }
     },
     "metadata": {}
    }
   ],
   "source": [
    "## RREV Threshold vs IC\n",
    "fig = plt.figure()\n",
    "ax = fig.add_subplot(111,projection=\"3d\")\n",
    "\n",
    "ax.scatter(df['vx_d'],df['vz_d'],df['RREV_threshold'])\n",
    "\n",
    "\n",
    "ax.set_xlim(0,2.75)\n",
    "ax.set_ylim(1.0,4.5)\n",
    "\n",
    "\n",
    "ax.set_xlabel('Vx_d')\n",
    "ax.set_ylabel('Vz_d')\n",
    "ax.set_zlabel('RREV_threshold')\n",
    "ax.set_title('RREV_thr vs IC - (Raw Data)')\n",
    "\n",
    "\n",
    "plt.show()"
   ]
  },
  {
   "cell_type": "code",
   "execution_count": 9,
   "metadata": {},
   "outputs": [
    {
     "output_type": "display_data",
     "data": {
      "text/plain": "Canvas(toolbar=Toolbar(toolitems=[('Home', 'Reset original view', 'home', 'home'), ('Back', 'Back to previous …",
      "application/vnd.jupyter.widget-view+json": {
       "version_major": 2,
       "version_minor": 0,
       "model_id": "b50c4494968140fc99cf692c00a14396"
      }
     },
     "metadata": {}
    }
   ],
   "source": [
    "\n",
    "## Avg RREV_thr vs IC\n",
    "fig = plt.figure()\n",
    "ax = fig.add_subplot(111,projection=\"3d\")\n",
    "\n",
    "cmap = mpl.cm.jet\n",
    "norm = mpl.colors.Normalize(vmin=4,vmax=5)\n",
    "pcm = ax.plot_trisurf(df_avg['vx_d'],df_avg['vz_d'],df_avg['RREV_threshold','mean'],cmap=cmap)\n",
    "fig.colorbar(mpl.cm.ScalarMappable(norm=norm, cmap=cmap),label=\"RREV_threshold\")\n",
    "\n",
    "ax.set_xlim(0,2.75)\n",
    "ax.set_ylim(1.0,4.5)\n",
    "ax.set_zlim(3,6)\n",
    "\n",
    "ax.set_xlabel('vx_d')\n",
    "ax.set_ylabel('vz_d')\n",
    "ax.set_zlabel('RREV_threshold')\n",
    "\n",
    "ax.set_title('Avg RREV_thr vs IC')\n",
    "plt.show()\n",
    "\n",
    "\n",
    "\n",
    "\n",
    "\n"
   ]
  },
  {
   "source": [
    "# Rotation Time Data"
   ],
   "cell_type": "markdown",
   "metadata": {}
  },
  {
   "cell_type": "code",
   "execution_count": 10,
   "metadata": {},
   "outputs": [
    {
     "output_type": "display_data",
     "data": {
      "text/plain": "Canvas(toolbar=Toolbar(toolitems=[('Home', 'Reset original view', 'home', 'home'), ('Back', 'Back to previous …",
      "application/vnd.jupyter.widget-view+json": {
       "version_major": 2,
       "version_minor": 0,
       "model_id": "b6c522b077d84ec8b39479d937a39ade"
      }
     },
     "metadata": {}
    }
   ],
   "source": [
    "fig = plt.figure()\n",
    "ax = fig.add_subplot(111,projection=\"3d\")\n",
    "\n",
    "df_temp = df.query(f\"landing_rate>={0.1}\")\n",
    "\n",
    "cmap = mpl.cm.jet\n",
    "norm = mpl.colors.Normalize(vmin=4,vmax=5)\n",
    "pcm = ax.scatter(df_temp['vx_d'],df_temp['vz_d'],df_temp['impact_tdelta'])\n",
    "fig.colorbar(mpl.cm.ScalarMappable(norm=norm, cmap=cmap),label=\"RREV_threshold\")\n",
    "\n",
    "\n",
    "ax.set_xlabel('vx_d')\n",
    "ax.set_ylabel('vz_d')\n",
    "ax.set_zlabel('Delta_t [s]')\n",
    "\n",
    "ax.set_title('Time Rotating vs IC (Raw Data)')\n",
    "\n",
    "ax.set_zlim(0,0.5)\n",
    "\n",
    "\n",
    "\n",
    "\n",
    "plt.show()"
   ]
  },
  {
   "cell_type": "code",
   "execution_count": 11,
   "metadata": {},
   "outputs": [
    {
     "output_type": "display_data",
     "data": {
      "text/plain": "Canvas(toolbar=Toolbar(toolitems=[('Home', 'Reset original view', 'home', 'home'), ('Back', 'Back to previous …",
      "application/vnd.jupyter.widget-view+json": {
       "version_major": 2,
       "version_minor": 0,
       "model_id": "e64cbd6d075e48e7a5baba438c31c29c"
      }
     },
     "metadata": {}
    }
   ],
   "source": [
    "fig = plt.figure()\n",
    "ax = fig.add_subplot(111,projection=\"3d\")\n",
    "\n",
    "df_temp = df.query(f\"landing_rate>={0.1}\")\n",
    "\n",
    "cmap = mpl.cm.rainbow\n",
    "norm = mpl.colors.Normalize(vmin=0,vmax=4)\n",
    "\n",
    "pcm = ax.scatter(df_temp['RREV_trigger'],df_temp['landing_rate'],df_temp['impact_tdelta'],c=df_temp['vz_d'],cmap=cmap)\n",
    "fig.colorbar(mpl.cm.ScalarMappable(norm=norm, cmap=cmap),label='Vz_d')\n",
    "\n",
    "\n",
    "ax.set_xlabel('RREV_trigger')\n",
    "ax.set_ylabel('Landing_rate')\n",
    "ax.set_zlabel('Delta_t [s]')\n",
    "\n",
    "ax.set_title('Time Rotating vs RREV (Raw Data)')\n",
    "\n",
    "ax.set_zlim(0,0.5)\n",
    "\n",
    "\n",
    "\n",
    "\n",
    "plt.show()"
   ]
  },
  {
   "source": [
    "# My_d vs IC Data"
   ],
   "cell_type": "markdown",
   "metadata": {}
  },
  {
   "cell_type": "code",
   "execution_count": 12,
   "metadata": {},
   "outputs": [
    {
     "output_type": "display_data",
     "data": {
      "text/plain": "Canvas(toolbar=Toolbar(toolitems=[('Home', 'Reset original view', 'home', 'home'), ('Back', 'Back to previous …",
      "application/vnd.jupyter.widget-view+json": {
       "version_major": 2,
       "version_minor": 0,
       "model_id": "fce7f9ea9ca64e1fbceb10736a204a6a"
      }
     },
     "metadata": {}
    }
   ],
   "source": [
    "## Define Dataframe\n",
    "\n",
    "df_temp = df.query(f\"landing_rate>={0.1}\")\n",
    "\n",
    "\n",
    "fig = plt.figure()\n",
    "ax = fig.add_subplot(111,projection=\"3d\")\n",
    "\n",
    "pcm = ax.scatter(df['vx_d'],df['vz_d'],df['My_d'])\n",
    "\n",
    "\n",
    "\n",
    "ax.set_xlabel('vx_d')\n",
    "ax.set_ylabel('vz_d')\n",
    "ax.set_zlabel('My_d [N*mm]')\n",
    "\n",
    "ax.set_title('My_d vs IC (Raw Data)')\n",
    "\n",
    "## I have more data for vz = (1.5,2.75) than vz = (3.00,4.0) so My_d differences are likely not a trend, just sparse data\n",
    "\n",
    "\n",
    "\n",
    "\n",
    "plt.show()"
   ]
  },
  {
   "source": [
    "# Impact Angle Data"
   ],
   "cell_type": "markdown",
   "metadata": {}
  },
  {
   "cell_type": "code",
   "execution_count": 13,
   "metadata": {},
   "outputs": [
    {
     "output_type": "display_data",
     "data": {
      "text/plain": "Canvas(toolbar=Toolbar(toolitems=[('Home', 'Reset original view', 'home', 'home'), ('Back', 'Back to previous …",
      "application/vnd.jupyter.widget-view+json": {
       "version_major": 2,
       "version_minor": 0,
       "model_id": "338bdcc6fd5c4c80a58bb013cf930c7b"
      }
     },
     "metadata": {}
    }
   ],
   "source": [
    "df_temp = df.query(f\"impact_eul<={-60}\")\n",
    "# df_temp_avg = df_raw.groupby(['vz_d','vx_d']).agg([np.mean,np.std]).reset_index()\n",
    "\n",
    "\n",
    "\n",
    "## AVG LANDING RATE PLOT\n",
    "fig = plt.figure()\n",
    "ax = fig.add_subplot(111,projection=\"3d\")\n",
    "\n",
    "cmap = mpl.cm.rainbow\n",
    "norm = mpl.colors.Normalize(vmin=0,vmax=1)\n",
    "pcm = ax.scatter(df_temp['vx_d'],df_temp['vz_d'],-df_temp['impact_eul'],c=df_temp['landing_rate'],cmap=cmap)\n",
    "fig.colorbar(mpl.cm.ScalarMappable(norm=norm, cmap=cmap),label='Landing %')\n",
    "\n",
    "ax.set_xlabel('vx_d')\n",
    "ax.set_ylabel('vz_d')\n",
    "ax.set_zlabel('Impact Angle')\n",
    "\n",
    "\n",
    "ax.set_zlim(60,180)\n",
    "ax.set_zticks([60,90,120,150,180])\n",
    "\n",
    "## Failed landings in corner\n",
    "plt.show()"
   ]
  },
  {
   "cell_type": "code",
   "execution_count": 14,
   "metadata": {},
   "outputs": [
    {
     "output_type": "display_data",
     "data": {
      "text/plain": "Canvas(toolbar=Toolbar(toolitems=[('Home', 'Reset original view', 'home', 'home'), ('Back', 'Back to previous …",
      "application/vnd.jupyter.widget-view+json": {
       "version_major": 2,
       "version_minor": 0,
       "model_id": "3591ca3d2b92413db3391652a3fdb75a"
      }
     },
     "metadata": {}
    }
   ],
   "source": [
    "## CLEAN DATAFRAME\n",
    "df_temp = df.query(f\"impact_eul<={-60}\")\n",
    "df_temp_avg = df_temp.groupby(['vz_d','vx_d']).agg([np.mean,np.std]).reset_index()\n",
    "\n",
    "\n",
    "## AVG LANDING RATE PLOT\n",
    "fig = plt.figure()\n",
    "ax = fig.add_subplot(111,projection=\"3d\")\n",
    "\n",
    "cmap = mpl.cm.jet\n",
    "norm = mpl.colors.Normalize(vmin=0,vmax=180)\n",
    "ax.plot_trisurf(df_temp_avg['vx_d'],df_temp_avg['vz_d'],-df_temp_avg['impact_eul','mean'],cmap=cmap)\n",
    "\n",
    "\n",
    "ax.set_xlim(0,2.75)\n",
    "ax.set_ylim(1.0,4.0)\n",
    "ax.set_zlim(60,180)\n",
    "ax.set_zticks([60,90,120,150,180])\n",
    "\n",
    "\n",
    "ax.set_xlabel('vx_d')\n",
    "ax.set_ylabel('vz_d')\n",
    "ax.set_zlabel('Impact Angle')\n",
    "\n",
    "ax.set_title('Avg Impact Angle vs IC')\n",
    "plt.show()"
   ]
  },
  {
   "source": [
    "# Moment vs RREV"
   ],
   "cell_type": "markdown",
   "metadata": {}
  },
  {
   "cell_type": "code",
   "execution_count": 15,
   "metadata": {},
   "outputs": [
    {
     "output_type": "display_data",
     "data": {
      "text/plain": "Canvas(toolbar=Toolbar(toolitems=[('Home', 'Reset original view', 'home', 'home'), ('Back', 'Back to previous …",
      "application/vnd.jupyter.widget-view+json": {
       "version_major": 2,
       "version_minor": 0,
       "model_id": "16d24ee4e8aa494ab871427157a80e92"
      }
     },
     "metadata": {}
    }
   ],
   "source": [
    "## CLEAN DATAFRAME\n",
    "df_temp = df.query(f\"My_d<={7.7}\")\n",
    "df_temp_avg = df_temp.groupby(['vz_d','vx_d']).agg([np.mean,np.std]).reset_index()\n",
    "\n",
    "\n",
    "## AVG LANDING RATE PLOT\n",
    "fig = plt.figure()\n",
    "ax = fig.add_subplot(111)\n",
    "\n",
    "\n",
    "cmap = mpl.cm.Greys\n",
    "norm = mpl.colors.Normalize(vmin=0,vmax=1)\n",
    "\n",
    "ax.scatter(df_temp['RREV_threshold'],df_temp['My_d'],c=df_temp['landing_rate'],cmap=cmap)\n",
    "fig.colorbar(mpl.cm.ScalarMappable(norm=norm, cmap=cmap),label='Landing %')\n",
    "\n",
    "ax.grid()\n",
    "ax.set_xlim(2,7)\n",
    "ax.set_ylim(0,10)\n",
    "ax.hlines(7.77,2,7)\n",
    "ax.text(2.05,8.0,'Motors Maxed Out')\n",
    "\n",
    "ax.set_xlabel('RREV_thr')\n",
    "ax.set_ylabel('My_d [N*mm]')\n",
    "ax.set_title('Policy: My_d vs RREV_thr')\n",
    "\n",
    "plt.show()"
   ]
  },
  {
   "cell_type": "code",
   "execution_count": 16,
   "metadata": {},
   "outputs": [
    {
     "output_type": "display_data",
     "data": {
      "text/plain": "Canvas(toolbar=Toolbar(toolitems=[('Home', 'Reset original view', 'home', 'home'), ('Back', 'Back to previous …",
      "application/vnd.jupyter.widget-view+json": {
       "version_major": 2,
       "version_minor": 0,
       "model_id": "fa453b03316447d69460dc994b10bfa6"
      }
     },
     "metadata": {}
    }
   ],
   "source": [
    "## CLEAN DATAFRAME\n",
    "df_temp = df.query(f\"My_d<={7.7}\")\n",
    "df_temp_avg = df_temp.groupby(['vz_d','vx_d']).agg([np.mean,np.std]).reset_index()\n",
    "\n",
    "## AVG LANDING RATE PLOT\n",
    "fig = plt.figure()\n",
    "ax = fig.add_subplot(111)\n",
    "\n",
    "\n",
    "cmap = mpl.cm.jet\n",
    "norm = mpl.colors.Normalize(vmin=0,vmax=3)\n",
    "\n",
    "ax.scatter(df_temp['RREV_threshold'],df_temp['My_d'],c=df_temp['vz_d'],cmap=cmap)\n",
    "fig.colorbar(mpl.cm.ScalarMappable(norm=norm, cmap=cmap),label='Vz_d')\n",
    "\n",
    "ax.grid()\n",
    "ax.set_xlim(2,7)\n",
    "ax.set_ylim(0,10)\n",
    "ax.hlines(7.77,2,7)\n",
    "ax.text(2.05,8.0,'Motors Maxed Out')\n",
    "\n",
    "ax.set_xlabel('RREV_thr')\n",
    "ax.set_ylabel('My_d [N*mm]')\n",
    "ax.set_title('Policy: My_d vs RREV_thr')\n",
    "## As Vz increases RREV_trigger decreases to preserve time to contact. It also finds a host of My_d that work and they vary because of the robustness of the legs and the fact that landing success isn't deterministic.\n",
    "plt.show()"
   ]
  },
  {
   "source": [
    "# POLICY FITTING"
   ],
   "cell_type": "markdown",
   "metadata": {}
  },
  {
   "source": [
    "## RAW POLICY RELATION"
   ],
   "cell_type": "markdown",
   "metadata": {}
  },
  {
   "cell_type": "code",
   "execution_count": 17,
   "metadata": {},
   "outputs": [
    {
     "output_type": "display_data",
     "data": {
      "text/plain": "Canvas(toolbar=Toolbar(toolitems=[('Home', 'Reset original view', 'home', 'home'), ('Back', 'Back to previous …",
      "application/vnd.jupyter.widget-view+json": {
       "version_major": 2,
       "version_minor": 0,
       "model_id": "47b80b4313bf4f94aaead531711e7c37"
      }
     },
     "metadata": {}
    }
   ],
   "source": [
    "## CLEAN DATAFRAME\n",
    "df_temp = df.query(f\"My_d<={7.7}\") # Remove extraneous moments higher than max\n",
    "\n",
    "## PLOT DATA\n",
    "fig = plt.figure()\n",
    "ax = fig.add_subplot(111,projection=\"3d\")\n",
    "\n",
    "cmap = mpl.cm.rainbow\n",
    "norm = mpl.colors.Normalize(vmin=0,vmax=1)\n",
    "\n",
    "ax.scatter(df_temp['RREV_threshold'],df_temp['OF_y'],df_temp['My_d'],c=df_temp['landing_rate'],cmap=cmap,norm=norm)\n",
    "fig.colorbar(mpl.cm.ScalarMappable(norm=norm, cmap=cmap),label='Landing Rate')\n",
    "\n",
    "ax.set_xlim(6,2)\n",
    "ax.set_ylim(-10,0)\n",
    "ax.set_zlim(0,10)\n",
    "\n",
    "ax.set_xlabel('RREV')\n",
    "ax.set_ylabel('OF_y')\n",
    "ax.set_zlabel('My_d')\n",
    "\n",
    "ax.set_title('Raw Policy Relation')\n",
    "\n",
    "\n",
    "plt.show()\n",
    "\n",
    "# Note: the planar look to the data"
   ]
  },
  {
   "cell_type": "code",
   "execution_count": 18,
   "metadata": {},
   "outputs": [
    {
     "output_type": "display_data",
     "data": {
      "text/plain": "Canvas(toolbar=Toolbar(toolitems=[('Home', 'Reset original view', 'home', 'home'), ('Back', 'Back to previous …",
      "application/vnd.jupyter.widget-view+json": {
       "version_major": 2,
       "version_minor": 0,
       "model_id": "4549bcf119314341ada054608f070d9d"
      }
     },
     "metadata": {}
    }
   ],
   "source": [
    "## CLEAN DATAFRAME\n",
    "df_temp = df.query(f\"My_d<={7.7}\") # Remove extraneous moments higher than max\n",
    "df_temp = df_temp.query(f\"RREV_threshold>{3.5}\") # Remove outlier data\n",
    "df_temp = df_temp.query(f\"landing_rate>={0.8}\")\n",
    "\n",
    "## PLOT DATA\n",
    "fig = plt.figure()\n",
    "ax = fig.add_subplot(111,projection=\"3d\")\n",
    "\n",
    "cmap = mpl.cm.rainbow\n",
    "norm = mpl.colors.Normalize(vmin=0,vmax=1)\n",
    "\n",
    "ax.scatter(df_temp['RREV_threshold'],df_temp['OF_y'],df_temp['My_d'],c=df_temp['landing_rate'],cmap=cmap,norm=norm)\n",
    "fig.colorbar(mpl.cm.ScalarMappable(norm=norm, cmap=cmap),label='Landing Rate')\n",
    "\n",
    "ax.set_xlim(6,2)\n",
    "ax.set_ylim(-10,0)\n",
    "ax.set_zlim(0,10)\n",
    "\n",
    "ax.set_xlabel('RREV')\n",
    "ax.set_ylabel('OF_y')\n",
    "ax.set_zlabel('My_d')\n",
    "\n",
    "ax.set_title('Raw Policy Relation (LR > 80%)')\n",
    "\n",
    "\n",
    "plt.show()\n",
    "\n",
    "# Note: the planar look to the data"
   ]
  },
  {
   "cell_type": "code",
   "execution_count": 19,
   "metadata": {},
   "outputs": [
    {
     "output_type": "display_data",
     "data": {
      "text/plain": "Canvas(toolbar=Toolbar(toolitems=[('Home', 'Reset original view', 'home', 'home'), ('Back', 'Back to previous …",
      "application/vnd.jupyter.widget-view+json": {
       "version_major": 2,
       "version_minor": 0,
       "model_id": "36e567a93dd34da1b0adf8e0d30ce9da"
      }
     },
     "metadata": {}
    }
   ],
   "source": [
    "## CLEAN DATAFRAME\n",
    "df_temp = df.query(f\"My_d<={7.7}\") # Remove extraneous moments higher than max\n",
    "df_temp = df_temp.query(f\"RREV_threshold>{3.5}\") # Remove outlier data\n",
    "df_temp = df_temp.query(f\"landing_rate>={0.5}\")\n",
    "\n",
    "## PLOT DATA\n",
    "fig = plt.figure()\n",
    "ax = fig.add_subplot(111,projection=\"3d\")\n",
    "\n",
    "cmap = mpl.cm.rainbow\n",
    "norm = mpl.colors.Normalize(vmin=0,vmax=1)\n",
    "\n",
    "ax.scatter(df_temp['RREV_threshold'],df_temp['OF_y'],df_temp['My_d'],c=df_temp['landing_rate'],cmap=cmap,norm=norm)\n",
    "fig.colorbar(mpl.cm.ScalarMappable(norm=norm, cmap=cmap),label='Landing Rate')\n",
    "\n",
    "ax.set_xlim(6,2)\n",
    "ax.set_ylim(-10,0)\n",
    "ax.set_zlim(0,10)\n",
    "\n",
    "ax.set_xlabel('RREV')\n",
    "ax.set_ylabel('OF_y')\n",
    "ax.set_zlabel('My_d')\n",
    "\n",
    "ax.set_title('Raw Policy Relation (LR > 50%)')\n",
    "\n",
    "\n",
    "plt.show()\n",
    "\n",
    "# Note: the planar look to the data"
   ]
  },
  {
   "source": [
    "# LINEAR MODEL FIT"
   ],
   "cell_type": "markdown",
   "metadata": {}
  },
  {
   "source": [
    "## Regression with y-based loss"
   ],
   "cell_type": "markdown",
   "metadata": {}
  },
  {
   "cell_type": "code",
   "execution_count": 20,
   "metadata": {},
   "outputs": [
    {
     "output_type": "stream",
     "name": "stdout",
     "text": [
      "Equation: My_d = -3.61 + 1.79*RREV + 0.11*OF_y \n\n"
     ]
    },
    {
     "output_type": "display_data",
     "data": {
      "text/plain": "Canvas(toolbar=Toolbar(toolitems=[('Home', 'Reset original view', 'home', 'home'), ('Back', 'Back to previous …",
      "application/vnd.jupyter.widget-view+json": {
       "version_major": 2,
       "version_minor": 0,
       "model_id": "2447755f5c4f4c97967a08776073028b"
      }
     },
     "metadata": {}
    },
    {
     "output_type": "execute_result",
     "data": {
      "text/plain": [
       "<class 'statsmodels.iolib.summary.Summary'>\n",
       "\"\"\"\n",
       "                            OLS Regression Results                            \n",
       "==============================================================================\n",
       "Dep. Variable:                   My_d   R-squared:                       0.134\n",
       "Model:                            OLS   Adj. R-squared:                  0.128\n",
       "Method:                 Least Squares   F-statistic:                     23.46\n",
       "Date:                Tue, 09 Feb 2021   Prob (F-statistic):           3.36e-10\n",
       "Time:                        19:51:17   Log-Likelihood:                -558.55\n",
       "No. Observations:                 307   AIC:                             1123.\n",
       "Df Residuals:                     304   BIC:                             1134.\n",
       "Df Model:                           2                                         \n",
       "Covariance Type:            nonrobust                                         \n",
       "==================================================================================\n",
       "                     coef    std err          t      P>|t|      [0.025      0.975]\n",
       "----------------------------------------------------------------------------------\n",
       "const             -3.6073      1.291     -2.795      0.006      -6.147      -1.067\n",
       "RREV_threshold     1.7898      0.312      5.745      0.000       1.177       2.403\n",
       "OF_y               0.1090      0.071      1.537      0.125      -0.031       0.249\n",
       "==============================================================================\n",
       "Omnibus:                       23.867   Durbin-Watson:                   1.490\n",
       "Prob(Omnibus):                  0.000   Jarque-Bera (JB):                8.915\n",
       "Skew:                           0.109   Prob(JB):                       0.0116\n",
       "Kurtosis:                       2.194   Cond. No.                         91.4\n",
       "==============================================================================\n",
       "\n",
       "Notes:\n",
       "[1] Standard Errors assume that the covariance matrix of the errors is correctly specified.\n",
       "\"\"\""
      ],
      "text/html": "<table class=\"simpletable\">\n<caption>OLS Regression Results</caption>\n<tr>\n  <th>Dep. Variable:</th>          <td>My_d</td>       <th>  R-squared:         </th> <td>   0.134</td>\n</tr>\n<tr>\n  <th>Model:</th>                   <td>OLS</td>       <th>  Adj. R-squared:    </th> <td>   0.128</td>\n</tr>\n<tr>\n  <th>Method:</th>             <td>Least Squares</td>  <th>  F-statistic:       </th> <td>   23.46</td>\n</tr>\n<tr>\n  <th>Date:</th>             <td>Tue, 09 Feb 2021</td> <th>  Prob (F-statistic):</th> <td>3.36e-10</td>\n</tr>\n<tr>\n  <th>Time:</th>                 <td>19:51:17</td>     <th>  Log-Likelihood:    </th> <td> -558.55</td>\n</tr>\n<tr>\n  <th>No. Observations:</th>      <td>   307</td>      <th>  AIC:               </th> <td>   1123.</td>\n</tr>\n<tr>\n  <th>Df Residuals:</th>          <td>   304</td>      <th>  BIC:               </th> <td>   1134.</td>\n</tr>\n<tr>\n  <th>Df Model:</th>              <td>     2</td>      <th>                     </th>     <td> </td>   \n</tr>\n<tr>\n  <th>Covariance Type:</th>      <td>nonrobust</td>    <th>                     </th>     <td> </td>   \n</tr>\n</table>\n<table class=\"simpletable\">\n<tr>\n         <td></td>           <th>coef</th>     <th>std err</th>      <th>t</th>      <th>P>|t|</th>  <th>[0.025</th>    <th>0.975]</th>  \n</tr>\n<tr>\n  <th>const</th>          <td>   -3.6073</td> <td>    1.291</td> <td>   -2.795</td> <td> 0.006</td> <td>   -6.147</td> <td>   -1.067</td>\n</tr>\n<tr>\n  <th>RREV_threshold</th> <td>    1.7898</td> <td>    0.312</td> <td>    5.745</td> <td> 0.000</td> <td>    1.177</td> <td>    2.403</td>\n</tr>\n<tr>\n  <th>OF_y</th>           <td>    0.1090</td> <td>    0.071</td> <td>    1.537</td> <td> 0.125</td> <td>   -0.031</td> <td>    0.249</td>\n</tr>\n</table>\n<table class=\"simpletable\">\n<tr>\n  <th>Omnibus:</th>       <td>23.867</td> <th>  Durbin-Watson:     </th> <td>   1.490</td>\n</tr>\n<tr>\n  <th>Prob(Omnibus):</th> <td> 0.000</td> <th>  Jarque-Bera (JB):  </th> <td>   8.915</td>\n</tr>\n<tr>\n  <th>Skew:</th>          <td> 0.109</td> <th>  Prob(JB):          </th> <td>  0.0116</td>\n</tr>\n<tr>\n  <th>Kurtosis:</th>      <td> 2.194</td> <th>  Cond. No.          </th> <td>    91.4</td>\n</tr>\n</table><br/><br/>Notes:<br/>[1] Standard Errors assume that the covariance matrix of the errors is correctly specified."
     },
     "metadata": {},
     "execution_count": 20
    }
   ],
   "source": [
    "## CLEAN DATAFRAME\n",
    "df_clean = df.query(f\"My_d<={7.7}\") # Remove extraneous moments higher than max\n",
    "df_clean = df_clean.query(f\"RREV_threshold>{3.5}\") # Remove outlier data\n",
    "df_reg1 = df_clean.query(f\"landing_rate>={0.6}\")\n",
    "\n",
    "\n",
    "X = df_reg1[['RREV_threshold','OF_y']]\n",
    "Y = df_reg1['My_d']\n",
    "\n",
    "reg = linear_model.LinearRegression(normalize=True)\n",
    "reg.fit(X,Y)\n",
    "intercept = reg.intercept_\n",
    "coeffs = reg.coef_\n",
    "\n",
    "print(f\"Equation: My_d = {intercept:.2f} + {coeffs[0]:.2f}*RREV + {coeffs[1]:.2f}*OF_y \\n\")\n",
    "\n",
    "\n",
    "## PLOT DATA\n",
    "fig = plt.figure()\n",
    "ax = fig.add_subplot(111,projection=\"3d\")\n",
    "\n",
    "\n",
    "My_reg = intercept + coeffs[0]*df_reg1['RREV_threshold'] + coeffs[1]*df_reg1['OF_y']\n",
    "ax.plot_trisurf(df_reg1['RREV_threshold'],df_reg1['OF_y'],My_reg,label='Linear_Regression',color='blue',zorder=2)\n",
    "\n",
    "\n",
    "cmap = mpl.cm.rainbow\n",
    "norm = mpl.colors.Normalize(vmin=0,vmax=1)\n",
    "fig.colorbar(mpl.cm.ScalarMappable(norm=norm, cmap=cmap),label='Landing Rate')\n",
    "\n",
    "ax.scatter(df_reg1['RREV_threshold'],df_reg1['OF_y'],df_reg1['My_d'],c=df_reg1['landing_rate'],cmap=cmap,norm=norm,zorder=1)\n",
    "\n",
    "\n",
    "\n",
    "ax.set_xlim(6,2)\n",
    "ax.set_ylim(-10,0)\n",
    "ax.set_zlim(0,10)\n",
    "\n",
    "\n",
    "ax.set_xlabel('RREV')\n",
    "ax.set_ylabel('OF_y')\n",
    "ax.set_zlabel('My_d')\n",
    "\n",
    "\n",
    "plt.show()\n",
    "\n",
    "## Regression Analysis\n",
    "\n",
    "import statsmodels.api as ssm       # for detail description of linear coefficients, intercepts, deviations, and many more\n",
    "X=ssm.add_constant(X)               # to add constant value in the model\n",
    "model= ssm.OLS(Y,X).fit()           # fitting the model\n",
    "predictions= model.summary()        # summary of the model\n",
    "predictions\n",
    "\n",
    "\n",
    "\n"
   ]
  },
  {
   "cell_type": "code",
   "execution_count": 21,
   "metadata": {},
   "outputs": [],
   "source": [
    "# def r_squared(y, y_hat): #Manual R^2 value\n",
    "#     y_bar = y.mean()\n",
    "#     ss_tot = ((y-y_bar)**2).sum()\n",
    "#     ss_res = ((y-y_hat)**2).sum()\n",
    "#     return 1 - (ss_res/ss_tot)\n",
    "\n",
    "# R2 = r_squared(df_reg['My_d'],My_reg)\n",
    "# print(f\"R^2: {R2:.3f}\")"
   ]
  },
  {
   "source": [
    "## Regression with x-based loss\n"
   ],
   "cell_type": "markdown",
   "metadata": {}
  },
  {
   "cell_type": "code",
   "execution_count": 22,
   "metadata": {},
   "outputs": [
    {
     "output_type": "stream",
     "name": "stdout",
     "text": [
      "Equation: RREV_reg = 3.90 + 0.05*My_d + -0.15*OF_y \n\n"
     ]
    },
    {
     "output_type": "display_data",
     "data": {
      "text/plain": "Canvas(toolbar=Toolbar(toolitems=[('Home', 'Reset original view', 'home', 'home'), ('Back', 'Back to previous …",
      "application/vnd.jupyter.widget-view+json": {
       "version_major": 2,
       "version_minor": 0,
       "model_id": "e8ae4fe5b93f42249fb5e71a28d569d6"
      }
     },
     "metadata": {}
    },
    {
     "output_type": "execute_result",
     "data": {
      "text/plain": [
       "<class 'statsmodels.iolib.summary.Summary'>\n",
       "\"\"\"\n",
       "                            OLS Regression Results                            \n",
       "==============================================================================\n",
       "Dep. Variable:         RREV_threshold   R-squared:                       0.564\n",
       "Model:                            OLS   Adj. R-squared:                  0.561\n",
       "Method:                 Least Squares   F-statistic:                     196.6\n",
       "Date:                Tue, 09 Feb 2021   Prob (F-statistic):           1.61e-55\n",
       "Time:                        19:51:19   Log-Likelihood:                -23.211\n",
       "No. Observations:                 307   AIC:                             52.42\n",
       "Df Residuals:                     304   BIC:                             63.60\n",
       "Df Model:                           2                                         \n",
       "Covariance Type:            nonrobust                                         \n",
       "==============================================================================\n",
       "                 coef    std err          t      P>|t|      [0.025      0.975]\n",
       "------------------------------------------------------------------------------\n",
       "const          3.8975      0.048     81.621      0.000       3.804       3.991\n",
       "My_d           0.0547      0.010      5.745      0.000       0.036       0.073\n",
       "OF_y          -0.1536      0.009    -17.455      0.000      -0.171      -0.136\n",
       "==============================================================================\n",
       "Omnibus:                        6.437   Durbin-Watson:                   1.269\n",
       "Prob(Omnibus):                  0.040   Jarque-Bera (JB):                9.898\n",
       "Skew:                          -0.008   Prob(JB):                      0.00709\n",
       "Kurtosis:                       3.879   Cond. No.                         18.8\n",
       "==============================================================================\n",
       "\n",
       "Notes:\n",
       "[1] Standard Errors assume that the covariance matrix of the errors is correctly specified.\n",
       "\"\"\""
      ],
      "text/html": "<table class=\"simpletable\">\n<caption>OLS Regression Results</caption>\n<tr>\n  <th>Dep. Variable:</th>     <td>RREV_threshold</td>  <th>  R-squared:         </th> <td>   0.564</td>\n</tr>\n<tr>\n  <th>Model:</th>                   <td>OLS</td>       <th>  Adj. R-squared:    </th> <td>   0.561</td>\n</tr>\n<tr>\n  <th>Method:</th>             <td>Least Squares</td>  <th>  F-statistic:       </th> <td>   196.6</td>\n</tr>\n<tr>\n  <th>Date:</th>             <td>Tue, 09 Feb 2021</td> <th>  Prob (F-statistic):</th> <td>1.61e-55</td>\n</tr>\n<tr>\n  <th>Time:</th>                 <td>19:51:19</td>     <th>  Log-Likelihood:    </th> <td> -23.211</td>\n</tr>\n<tr>\n  <th>No. Observations:</th>      <td>   307</td>      <th>  AIC:               </th> <td>   52.42</td>\n</tr>\n<tr>\n  <th>Df Residuals:</th>          <td>   304</td>      <th>  BIC:               </th> <td>   63.60</td>\n</tr>\n<tr>\n  <th>Df Model:</th>              <td>     2</td>      <th>                     </th>     <td> </td>   \n</tr>\n<tr>\n  <th>Covariance Type:</th>      <td>nonrobust</td>    <th>                     </th>     <td> </td>   \n</tr>\n</table>\n<table class=\"simpletable\">\n<tr>\n    <td></td>       <th>coef</th>     <th>std err</th>      <th>t</th>      <th>P>|t|</th>  <th>[0.025</th>    <th>0.975]</th>  \n</tr>\n<tr>\n  <th>const</th> <td>    3.8975</td> <td>    0.048</td> <td>   81.621</td> <td> 0.000</td> <td>    3.804</td> <td>    3.991</td>\n</tr>\n<tr>\n  <th>My_d</th>  <td>    0.0547</td> <td>    0.010</td> <td>    5.745</td> <td> 0.000</td> <td>    0.036</td> <td>    0.073</td>\n</tr>\n<tr>\n  <th>OF_y</th>  <td>   -0.1536</td> <td>    0.009</td> <td>  -17.455</td> <td> 0.000</td> <td>   -0.171</td> <td>   -0.136</td>\n</tr>\n</table>\n<table class=\"simpletable\">\n<tr>\n  <th>Omnibus:</th>       <td> 6.437</td> <th>  Durbin-Watson:     </th> <td>   1.269</td>\n</tr>\n<tr>\n  <th>Prob(Omnibus):</th> <td> 0.040</td> <th>  Jarque-Bera (JB):  </th> <td>   9.898</td>\n</tr>\n<tr>\n  <th>Skew:</th>          <td>-0.008</td> <th>  Prob(JB):          </th> <td> 0.00709</td>\n</tr>\n<tr>\n  <th>Kurtosis:</th>      <td> 3.879</td> <th>  Cond. No.          </th> <td>    18.8</td>\n</tr>\n</table><br/><br/>Notes:<br/>[1] Standard Errors assume that the covariance matrix of the errors is correctly specified."
     },
     "metadata": {},
     "execution_count": 22
    }
   ],
   "source": [
    "## CLEAN DATAFRAME\n",
    "df_clean = df.query(f\"My_d<={7.7}\") # Remove extraneous moments higher than max\n",
    "df_clean = df_clean.query(f\"RREV_threshold>{3.5}\") # Remove outlier data\n",
    "df_reg1 = df_clean.query(f\"landing_rate>={0.6}\")\n",
    "\n",
    "\n",
    "X = df_reg1[['My_d','OF_y']]\n",
    "Y = df_reg1['RREV_threshold']\n",
    "\n",
    "reg = linear_model.LinearRegression(normalize=True)\n",
    "reg.fit(X,Y)\n",
    "intercept = reg.intercept_\n",
    "coeffs = reg.coef_\n",
    "\n",
    "print(f\"Equation: RREV_reg = {intercept:.2f} + {coeffs[0]:.2f}*My_d + {coeffs[1]:.2f}*OF_y \\n\")\n",
    "\n",
    "\n",
    "## PLOT DATA\n",
    "fig = plt.figure()\n",
    "ax = fig.add_subplot(111,projection=\"3d\")\n",
    "\n",
    "\n",
    "RREV_reg = intercept + coeffs[0]*df_reg1['My_d'] + coeffs[1]*df_reg1['OF_y']\n",
    "ax.plot_trisurf(RREV_reg,df_reg1['OF_y'],df_reg1['My_d'],label='Linear_Regression',color='blue',zorder=2)\n",
    "\n",
    "\n",
    "cmap = mpl.cm.rainbow\n",
    "norm = mpl.colors.Normalize(vmin=0,vmax=1)\n",
    "fig.colorbar(mpl.cm.ScalarMappable(norm=norm, cmap=cmap),label='Landing Rate')\n",
    "\n",
    "ax.scatter(df_reg1['RREV_threshold'],df_reg1['OF_y'],df_reg1['My_d'],c=df_reg1['landing_rate'],cmap=cmap,norm=norm,zorder=1)\n",
    "\n",
    "\n",
    "\n",
    "ax.set_xlim(6,2)\n",
    "ax.set_ylim(-10,0)\n",
    "ax.set_zlim(0,10)\n",
    "\n",
    "\n",
    "ax.set_xlabel('RREV')\n",
    "ax.set_ylabel('OF_y')\n",
    "ax.set_zlabel('My_d')\n",
    "\n",
    "\n",
    "plt.show()\n",
    "\n",
    "## Regression Analysis\n",
    "\n",
    "import statsmodels.api as ssm       # for detail description of linear coefficients, intercepts, deviations, and many more\n",
    "X=ssm.add_constant(X)               # to add constant value in the model\n",
    "model= ssm.OLS(Y,X).fit()           # fitting the model\n",
    "predictions= model.summary()        # summary of the model\n",
    "predictions\n",
    "\n",
    "\n",
    "\n"
   ]
  },
  {
   "cell_type": "code",
   "execution_count": null,
   "metadata": {},
   "outputs": [],
   "source": []
  },
  {
   "cell_type": "code",
   "execution_count": 23,
   "metadata": {},
   "outputs": [
    {
     "output_type": "display_data",
     "data": {
      "text/plain": "Canvas(toolbar=Toolbar(toolitems=[('Home', 'Reset original view', 'home', 'home'), ('Back', 'Back to previous …",
      "application/vnd.jupyter.widget-view+json": {
       "version_major": 2,
       "version_minor": 0,
       "model_id": "e90b2356f84d49deab6ddccf9a47b62a"
      }
     },
     "metadata": {}
    }
   ],
   "source": [
    "## PLOT FULL DATA\n",
    "fig = plt.figure()\n",
    "ax = fig.add_subplot(111,projection=\"3d\")\n",
    "\n",
    "\n",
    "ax.plot_trisurf(RREV_reg,df_reg1['OF_y'],df_reg1['My_d'],label='Linear_Regression',color='blue',zorder=2)\n",
    "\n",
    "\n",
    "cmap = mpl.cm.rainbow\n",
    "norm = mpl.colors.Normalize(vmin=0,vmax=1)\n",
    "fig.colorbar(mpl.cm.ScalarMappable(norm=norm, cmap=cmap),label='Landing Rate')\n",
    "\n",
    "ax.scatter(df_clean['RREV_threshold'],df_clean['OF_y'],df_clean['My_d'],c=df_clean['landing_rate'],cmap=cmap,norm=norm,zorder=1)\n",
    "\n",
    "\n",
    "\n",
    "ax.set_xlim(6,2)\n",
    "ax.set_ylim(-10,0)\n",
    "ax.set_zlim(0,10)\n",
    "\n",
    "\n",
    "ax.set_xlabel('RREV')\n",
    "ax.set_ylabel('OF_y')\n",
    "ax.set_zlabel('My_d')\n",
    "\n",
    "\n",
    "plt.show()\n",
    "\n"
   ]
  },
  {
   "cell_type": "code",
   "execution_count": 24,
   "metadata": {},
   "outputs": [
    {
     "output_type": "display_data",
     "data": {
      "text/plain": "Canvas(toolbar=Toolbar(toolitems=[('Home', 'Reset original view', 'home', 'home'), ('Back', 'Back to previous …",
      "application/vnd.jupyter.widget-view+json": {
       "version_major": 2,
       "version_minor": 0,
       "model_id": "66e08478a3a14e19bd9d32a641e98846"
      }
     },
     "metadata": {}
    },
    {
     "output_type": "error",
     "ename": "NameError",
     "evalue": "name 'r_squared' is not defined",
     "traceback": [
      "\u001b[0;31m---------------------------------------------------------------------------\u001b[0m",
      "\u001b[0;31mNameError\u001b[0m                                 Traceback (most recent call last)",
      "\u001b[0;32m<ipython-input-24-d3e7e47c83da>\u001b[0m in \u001b[0;36m<module>\u001b[0;34m\u001b[0m\n\u001b[1;32m     27\u001b[0m     \u001b[0max\u001b[0m\u001b[0;34m.\u001b[0m\u001b[0mplot_trisurf\u001b[0m\u001b[0;34m(\u001b[0m\u001b[0mRREV_reg\u001b[0m\u001b[0;34m,\u001b[0m\u001b[0mdf_reg1\u001b[0m\u001b[0;34m[\u001b[0m\u001b[0;34m'OF_y'\u001b[0m\u001b[0;34m]\u001b[0m\u001b[0;34m,\u001b[0m\u001b[0mdf_reg1\u001b[0m\u001b[0;34m[\u001b[0m\u001b[0;34m'My_d'\u001b[0m\u001b[0;34m]\u001b[0m\u001b[0;34m,\u001b[0m\u001b[0mlabel\u001b[0m\u001b[0;34m=\u001b[0m\u001b[0;34m'Linear_Regression'\u001b[0m\u001b[0;34m)\u001b[0m\u001b[0;34m\u001b[0m\u001b[0;34m\u001b[0m\u001b[0m\n\u001b[1;32m     28\u001b[0m \u001b[0;34m\u001b[0m\u001b[0m\n\u001b[0;32m---> 29\u001b[0;31m     \u001b[0mR2\u001b[0m \u001b[0;34m=\u001b[0m \u001b[0mr_squared\u001b[0m\u001b[0;34m(\u001b[0m\u001b[0mdf_reg1\u001b[0m\u001b[0;34m[\u001b[0m\u001b[0;34m'RREV_threshold'\u001b[0m\u001b[0;34m]\u001b[0m\u001b[0;34m,\u001b[0m\u001b[0mRREV_reg\u001b[0m\u001b[0;34m)\u001b[0m\u001b[0;34m\u001b[0m\u001b[0;34m\u001b[0m\u001b[0m\n\u001b[0m\u001b[1;32m     30\u001b[0m     \u001b[0mprint\u001b[0m\u001b[0;34m(\u001b[0m\u001b[0;34mf\"R^2: {R2:.3f}\"\u001b[0m\u001b[0;34m)\u001b[0m\u001b[0;34m\u001b[0m\u001b[0;34m\u001b[0m\u001b[0m\n\u001b[1;32m     31\u001b[0m \u001b[0;34m\u001b[0m\u001b[0m\n",
      "\u001b[0;31mNameError\u001b[0m: name 'r_squared' is not defined"
     ]
    }
   ],
   "source": [
    "## CLEAN DATAFRAME\n",
    "df_clean = df.query(f\"My_d<={7.7}\") # Remove extraneous moments higher than max\n",
    "df_clean = df_clean.query(f\"RREV_threshold>{3.5}\") # Remove outlier data\n",
    "df_reg1 = df_clean.query(f\"landing_rate>={0.8}\")\n",
    "\n",
    "\n",
    "fig = plt.figure()\n",
    "ax = fig.add_subplot(111,projection=\"3d\")\n",
    "\n",
    "\n",
    "for ii in np.arange(1,0.2,-.2):\n",
    "    df_reg1 = df.query(f\"landing_rate<={ii} & landing_rate>{ii-.2} & RREV_threshold>{3.5}\")\n",
    "    \n",
    "    X = df_reg1[['My_d','OF_y']]\n",
    "    Y = df_reg1['RREV_threshold']\n",
    "\n",
    "    reg2 = linear_model.LinearRegression(normalize=True)\n",
    "    reg2.fit(X,Y)\n",
    "\n",
    "    intercept = reg2.intercept_\n",
    "    coeffs = reg2.coef_\n",
    "\n",
    "    # print(intercept)\n",
    "    # print(coeffs)\n",
    "\n",
    "    RREV_reg = intercept + coeffs[0]*df_reg1['My_d'] + coeffs[1]*df_reg1['OF_y']\n",
    "    ax.plot_trisurf(RREV_reg,df_reg1['OF_y'],df_reg1['My_d'],label='Linear_Regression')\n",
    "\n",
    "    R2 = r_squared(df_reg1['RREV_threshold'],RREV_reg)\n",
    "    print(f\"R^2: {R2:.3f}\")\n",
    "\n",
    "ax.set_xlim(6,3.5)\n",
    "ax.set_ylim(-10,0)\n",
    "ax.set_zlim(0,10)\n",
    "\n",
    "\n",
    "ax.set_xlabel('RREV')\n",
    "ax.set_ylabel('OF_y')\n",
    "ax.set_zlabel('My_d')\n",
    "\n",
    "\n",
    "plt.show()\n",
    "\n"
   ]
  },
  {
   "cell_type": "code",
   "execution_count": 46,
   "metadata": {},
   "outputs": [
    {
     "output_type": "execute_result",
     "data": {
      "text/plain": [
       "array([1. , 0.8, 0.6, 0.4])"
      ]
     },
     "metadata": {},
     "execution_count": 46
    }
   ],
   "source": [
    "\n"
   ]
  },
  {
   "cell_type": "code",
   "execution_count": null,
   "metadata": {},
   "outputs": [],
   "source": [
    "import scipy.odr\n",
    "\n",
    "## CLEAN DATAFRAME\n",
    "df_clean = df.query(f\"My_d<={7.7}\") # Remove extraneous moments higher than max\n",
    "df_clean = df_clean.query(f\"RREV_threshold>{3.5}\") # Remove outlier data\n",
    "df_reg1 = df_clean.query(f\"landing_rate>={0.8}\")\n",
    "\n",
    "\n",
    "# X = df_reg1[['My_d','OF_y']]\n",
    "x1 = df_reg1['RREV_threshold'].to_numpy()\n",
    "x2 = df_reg1['OF_y'].to_numpy()\n",
    "X = np.row_stack( (x1, x2) )\n",
    "\n",
    "Y = df_reg1['My_d'].to_numpy()\n",
    "\n",
    "def linfit(beta,x):\n",
    "    return beta[0]*x[0] + beta[1]*x[1] + beta[2]\n",
    "\n",
    "linmod = scipy.odr.Model(linfit)\n",
    "data = scipy.odr.Data(X,Y)\n",
    "odrfit = scipy.odr.ODR(data,linmod,beta0 = [-0.1,0.1,4.0])\n",
    "odrres = odrfit.run()\n",
    "odrres.pprint()\n",
    "\n",
    "\n",
    "\n",
    "\n",
    "## PLOT DATA\n",
    "fig = plt.figure()\n",
    "ax = fig.add_subplot(111,projection=\"3d\")\n",
    "\n",
    "\n",
    "My_reg = odrres.beta[0]*df_reg1['RREV_threshold'] + odrres.beta[1]*df_reg1['OF_y'] + odrres.beta[2]\n",
    "ax.plot_trisurf(df_reg1['RREV_threshold'],df_reg1['OF_y'],My_reg,label='Linear_Regression',color='blue',zorder=2)\n",
    "\n",
    "\n",
    "cmap = mpl.cm.rainbow\n",
    "norm = mpl.colors.Normalize(vmin=0,vmax=1)\n",
    "fig.colorbar(mpl.cm.ScalarMappable(norm=norm, cmap=cmap),label='Landing Rate')\n",
    "\n",
    "ax.scatter(df_reg1['RREV_threshold'],df_reg1['OF_y'],df_reg1['My_d'],c=df_reg1['landing_rate'],cmap=cmap,norm=norm,zorder=1)\n",
    "\n",
    "\n",
    "\n",
    "ax.set_xlim(6,2)\n",
    "ax.set_ylim(-10,0)\n",
    "ax.set_zlim(0,10)\n",
    "\n",
    "\n",
    "ax.set_xlabel('RREV')\n",
    "ax.set_ylabel('OF_y')\n",
    "ax.set_zlabel('My_d')\n",
    "\n",
    "\n",
    "plt.show()\n"
   ]
  },
  {
   "cell_type": "code",
   "execution_count": null,
   "metadata": {},
   "outputs": [],
   "source": []
  },
  {
   "cell_type": "code",
   "execution_count": null,
   "metadata": {},
   "outputs": [],
   "source": []
  }
 ]
}