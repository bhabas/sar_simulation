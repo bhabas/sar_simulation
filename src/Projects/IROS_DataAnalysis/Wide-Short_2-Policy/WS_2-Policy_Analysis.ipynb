{
 "metadata": {
  "language_info": {
   "codemirror_mode": {
    "name": "ipython",
    "version": 3
   },
   "file_extension": ".py",
   "mimetype": "text/x-python",
   "name": "python",
   "nbconvert_exporter": "python",
   "pygments_lexer": "ipython3",
   "version": "3.8.5-final"
  },
  "orig_nbformat": 2,
  "kernelspec": {
   "name": "python38564bit0282941c0ba945238a13db8c20574d9c",
   "display_name": "Python 3.8.5 64-bit",
   "language": "python"
  }
 },
 "nbformat": 4,
 "nbformat_minor": 2,
 "cells": [
  {
   "source": [
    "# Module Imports"
   ],
   "cell_type": "markdown",
   "metadata": {}
  },
  {
   "cell_type": "code",
   "execution_count": 29,
   "metadata": {},
   "outputs": [],
   "source": [
    "## IMPORT MODULES\n",
    "import pandas as pd\n",
    "import numpy as np\n",
    "from sklearn import linear_model\n",
    "from scipy.interpolate import griddata\n"
   ]
  },
  {
   "cell_type": "code",
   "execution_count": 30,
   "metadata": {},
   "outputs": [],
   "source": [
    "## IMPORT PLOTTING MODULES\n",
    "import matplotlib.pyplot as plt\n",
    "from mpl_toolkits import mplot3d\n",
    "import matplotlib as mpl\n",
    "from matplotlib import cm\n",
    "%matplotlib widget"
   ]
  },
  {
   "source": [
    "# Dataframe"
   ],
   "cell_type": "markdown",
   "metadata": {}
  },
  {
   "cell_type": "code",
   "execution_count": 31,
   "metadata": {},
   "outputs": [],
   "source": [
    "## FULL DATAFRAME\n",
    "df_raw = pd.read_csv(\"WS_2-Policy_Summary.csv\")\n",
    "\n",
    "## DROP EXTRANEOUS DATAPOINTS\n",
    "df_raw = df_raw.drop(df_raw[(df_raw['landing_rate']<=0.15) & (df_raw['vz_d']>=2.50)].index)\n",
    "df_raw = df_raw.drop(df_raw[(df_raw['landing_rate']<=0.15) & (df_raw['vx_d']>=1.25)].index)\n",
    "\n",
    "\n",
    "## GROUP AND AVERAGE RAW DATA BY VEL IC\n",
    "df_raw_avg = df_raw.groupby(['vz_d','vx_d']).agg([np.mean,np.std]).reset_index()\n",
    "\n",
    "\n",
    "\n",
    "\n",
    "## CLEAN RAW DATA\n",
    "df = df_raw\n",
    "df['My_d'] = df['My_d'].apply(lambda x: np.abs(x)) # Convert My to magnitude\n",
    "# df['My_d'] = df['My_d'].apply(lambda x: 7.7 if x>7.7 else x) # Cap My_d to max moment\n",
    "df = df.drop(df[(df['vz_d']<= 1.75) & (df['vx_d']<= )].index) # Drop corner with no successful landings\n",
    "df = df.dropna()\n",
    "\n",
    "## AVERAGED DATAFRAME\n",
    "df_avg = df.groupby(['vz_d','vx_d']).agg([np.mean,np.std]).reset_index()"
   ]
  },
  {
   "cell_type": "code",
   "execution_count": 32,
   "metadata": {},
   "outputs": [],
   "source": [
    "# TEMPLATE FOR LINEAR REGRESSION\n",
    "from sklearn.linear_model import LinearRegression\n",
    "\n",
    "def linreg(X ,Y):\n",
    "    # perform multivariate or univariate\n",
    "    # X = [var1 var2]\n",
    "    # y = var3\n",
    "    reg = LinearRegression(normalize=True)\n",
    "    reg.fit(X,Y)\n",
    "\n",
    "    intercept = reg.intercept_ \n",
    "    coef = reg.coef_\n",
    "    \n",
    "    R2 = reg.score(X,Y) # built in function for r^2\n",
    "    \n",
    "    ypred = reg.predict(X) # plot x vs. ypred for line or plane\n",
    "    \n",
    "    return ypred, intercept,coef,R2\n"
   ]
  },
  {
   "source": [
    "# Landing Rate Data"
   ],
   "cell_type": "markdown",
   "metadata": {}
  },
  {
   "cell_type": "code",
   "execution_count": 33,
   "metadata": {},
   "outputs": [
    {
     "output_type": "display_data",
     "data": {
      "text/plain": "Canvas(toolbar=Toolbar(toolitems=[('Home', 'Reset original view', 'home', 'home'), ('Back', 'Back to previous …",
      "application/vnd.jupyter.widget-view+json": {
       "version_major": 2,
       "version_minor": 0,
       "model_id": "b5ae9c3ee51746219c8da69e9bf525d2"
      }
     },
     "metadata": {}
    }
   ],
   "source": [
    "## LANDING RATE DATA (RAW)\n",
    "fig = plt.figure()\n",
    "ax = fig.add_subplot(111,projection=\"3d\")\n",
    "\n",
    "# DEFINE VARIABLES\n",
    "X = df_raw['vx_d']\n",
    "Y = df_raw['vz_d']\n",
    "Z = df_raw['landing_rate']\n",
    "\n",
    "\n",
    "# CREATE PLOTS AND COLOR BAR\n",
    "ax.scatter(df_raw['vx_d'],df_raw['vz_d'],df_raw['landing_rate'])\n",
    "\n",
    "\n",
    "# PLOT LIMITS AND INFO\n",
    "ax.set_zlim(0,1)\n",
    "\n",
    "ax.set_xlabel('vx_d')\n",
    "ax.set_ylabel('vz_d')\n",
    "ax.set_zlabel('Landing Rate')\n",
    "ax.set_title('Landing Rate (Raw Data)')\n",
    "\n",
    "plt.show()"
   ]
  },
  {
   "cell_type": "code",
   "execution_count": 34,
   "metadata": {},
   "outputs": [
    {
     "output_type": "display_data",
     "data": {
      "text/plain": "Canvas(toolbar=Toolbar(toolitems=[('Home', 'Reset original view', 'home', 'home'), ('Back', 'Back to previous …",
      "application/vnd.jupyter.widget-view+json": {
       "version_major": 2,
       "version_minor": 0,
       "model_id": "950307458068405cb229cb3b33fff13a"
      }
     },
     "metadata": {}
    }
   ],
   "source": [
    "## AVG LANDING RATE SURFACE\n",
    "fig = plt.figure()\n",
    "ax = fig.add_subplot(111,projection=\"3d\")\n",
    "\n",
    "# DEFINE VARIABLES\n",
    "X = df_raw_avg['vx_d']\n",
    "Y = df_raw_avg['vz_d']\n",
    "Z = df_raw_avg['landing_rate','mean']\n",
    "\n",
    "# DEFINE COLOR FORMATS AND LIMITS\n",
    "cmap = mpl.cm.jet\n",
    "norm = mpl.colors.Normalize(vmin=0,vmax=1)\n",
    "\n",
    "# CREATE PLOTS AND COLOR BAR\n",
    "ax.plot_trisurf(X,Y,Z,cmap = cmap,norm=norm,edgecolors='grey',linewidth=0.25)\n",
    "fig.colorbar(mpl.cm.ScalarMappable(norm=norm, cmap=cmap),label=\"Landing %\")\n",
    "\n",
    "\n",
    "# PLOT LIMITS AND INFO\n",
    "ax.set_zlim(0,1)\n",
    "\n",
    "ax.set_xlabel('vx_d')\n",
    "ax.set_ylabel('vz_d')\n",
    "ax.set_zlabel('Landing Rate')\n",
    "ax.set_title('Avg Landing Rate for Final 3 Episodes')\n",
    "\n",
    "\n",
    "plt.show()"
   ]
  },
  {
   "cell_type": "code",
   "execution_count": 35,
   "metadata": {},
   "outputs": [
    {
     "output_type": "display_data",
     "data": {
      "text/plain": "Canvas(toolbar=Toolbar(toolitems=[('Home', 'Reset original view', 'home', 'home'), ('Back', 'Back to previous …",
      "application/vnd.jupyter.widget-view+json": {
       "version_major": 2,
       "version_minor": 0,
       "model_id": "183188369bd14ecbbc39dee5847e5075"
      }
     },
     "metadata": {}
    }
   ],
   "source": [
    "## AVG LANDING RATE SMOOTHED SURFACE\n",
    "fig = plt.figure()\n",
    "ax = fig.add_subplot(111,projection=\"3d\")\n",
    "\n",
    "# DEFINE VARIABLES\n",
    "X = df_raw_avg['vx_d']\n",
    "Y = df_raw_avg['vz_d']\n",
    "Z = df_raw_avg['landing_rate','mean']\n",
    "\n",
    "# SOMETHING ABOUT DEFINING A GRID\n",
    "xi = np.linspace(X.min(),X.max(),(len(Z)//3))\n",
    "yi = np.linspace(Y.min(),Y.max(),(len(Z)//3))\n",
    "zi = griddata((X, Y), Z, (xi[None,:], yi[:,None]), method='linear')\n",
    "xig, yig = np.meshgrid(xi, yi)\n",
    "\n",
    "# DEFINE COLOR FORMAT AND LIMITS\n",
    "cmap = mpl.cm.jet\n",
    "norm = mpl.colors.Normalize(vmin=0,vmax=1)\n",
    "\n",
    "# CREATE PLOTS AND COLOR BAR\n",
    "surf = ax.plot_surface(xig, yig, zi,cmap=cmap,norm=norm,edgecolors='grey',linewidth=0.25)\n",
    "# surf = ax.plot_surface(xig, yig, zi,cmap=cmap,norm=norm)\n",
    "# surf = ax.contour(xig, yig, zi,cmap=cmap,norm=norm)\n",
    "\n",
    "fig.colorbar(mpl.cm.ScalarMappable(norm=norm, cmap=cmap),label=\"Landing %\")\n",
    "\n",
    "# PLOT LIMITS AND INFO\n",
    "ax.set_zlim(0,1)\n",
    "\n",
    "ax.set_xlabel('vx_d')\n",
    "ax.set_ylabel('vz_d')\n",
    "ax.set_zlabel('Landing Rate')\n",
    "ax.set_title('Avg Landing Rate for Final 3 Episodes')\n",
    "\n",
    "\n",
    "plt.show()"
   ]
  },
  {
   "source": [
    "# RREV vs IC"
   ],
   "cell_type": "markdown",
   "metadata": {}
  },
  {
   "cell_type": "code",
   "execution_count": 36,
   "metadata": {},
   "outputs": [
    {
     "output_type": "display_data",
     "data": {
      "text/plain": "Canvas(toolbar=Toolbar(toolitems=[('Home', 'Reset original view', 'home', 'home'), ('Back', 'Back to previous …",
      "application/vnd.jupyter.widget-view+json": {
       "version_major": 2,
       "version_minor": 0,
       "model_id": "a84f5e33a70c42bc9a229abdb2cc9bee"
      }
     },
     "metadata": {}
    },
    {
     "output_type": "stream",
     "name": "stdout",
     "text": [
      "Equation: RREV_reg = 5.48 + 0.11*vx_d + -0.38*vz_d \n\nR^2 = 0.623\n"
     ]
    }
   ],
   "source": [
    "fig = plt.figure()\n",
    "ax = fig.add_subplot(111,projection=\"3d\")\n",
    "\n",
    "# CLEAN DATA\n",
    "df_temp = df.query(f\"My_d<={7.7}\")\n",
    "df_temp = df_temp.query(f\"RREV_threshold>{3.5}\") # Remove outlier data\n",
    "\n",
    "\n",
    "\n",
    "# LINEAR REGRESSION\n",
    "X_reg = df_temp[['vx_d','vz_d']]\n",
    "Y_reg = df_temp['RREV_threshold']\n",
    "\n",
    "ypred, intercept,coef,R2 = linreg(X_reg,Y_reg)\n",
    "print(f\"Equation: RREV_reg = {intercept:.2f} + {coef[0]:.2f}*vx_d + {coef[1]:.2f}*vz_d \\n\")\n",
    "print(f\"R^2 = {R2:.3f}\")\n",
    "\n",
    "\n",
    "# DEFINE VARIABLES\n",
    "X = df_temp['vx_d']\n",
    "Y = df_temp['vz_d']\n",
    "Z = df_temp['RREV_threshold']\n",
    "C = df_temp['RREV_threshold']\n",
    "\n",
    "\n",
    "# CREATE PLOTS AND COLOR BAR\n",
    "cmap = mpl.cm.rainbow\n",
    "norm = mpl.colors.Normalize(vmin=3.5,vmax=5.5)\n",
    "ax.scatter(X,Y,Z,c=C,cmap=cmap,norm=norm,zorder=2)\n",
    "ax.plot_trisurf(X,Y,ypred,alpha=0.75,label='Linear_Regression',zorder=1)\n",
    "fig.colorbar(mpl.cm.ScalarMappable(norm=norm, cmap=cmap),label=\"RREV_threshold\")\n",
    "\n",
    "\n",
    "\n",
    "# PLOT LIMITS AND INFO\n",
    "ax.set_xlim(0,2.75)\n",
    "ax.set_ylim(1.0,4.5)\n",
    "ax.set_zlim(3,6)\n",
    "\n",
    "\n",
    "ax.set_xlabel('Vx_d')\n",
    "ax.set_ylabel('Vz_d')\n",
    "ax.set_zlabel('RREV_threshold')\n",
    "ax.set_title('RREV_thr vs IC - (Raw Data)')\n",
    "\n",
    "plt.show()"
   ]
  },
  {
   "cell_type": "code",
   "execution_count": 51,
   "metadata": {},
   "outputs": [
    {
     "output_type": "display_data",
     "data": {
      "text/plain": "Canvas(toolbar=Toolbar(toolitems=[('Home', 'Reset original view', 'home', 'home'), ('Back', 'Back to previous …",
      "application/vnd.jupyter.widget-view+json": {
       "version_major": 2,
       "version_minor": 0,
       "model_id": "17ff5db91a0c4a9eb86beaf0873ffabd"
      }
     },
     "metadata": {}
    }
   ],
   "source": [
    "fig = plt.figure()\n",
    "ax = fig.add_subplot(111,projection=\"3d\")\n",
    "\n",
    "# CLEAN DATA\n",
    "df_temp = df.query(f\"RREV_threshold>={3.5}\")\n",
    "df_temp_avg = df_raw.groupby(['vz_d','vx_d']).agg([np.mean,np.std]).reset_index()\n",
    "\n",
    "# DEFINE VARIABLES\n",
    "X = df_temp_avg['vx_d']\n",
    "Y = df_temp_avg['vz_d']\n",
    "Z = df_temp_avg['RREV_threshold','mean']\n",
    "\n",
    "# SOMETHING ABOUT DEFINING A GRID\n",
    "xi = np.linspace(X.min(),X.max(),(len(Z)//10))\n",
    "yi = np.linspace(Y.min(),Y.max(),(len(Z)//10))\n",
    "zi = griddata((X, Y), Z, (xi[None,:], yi[:,None]), method='linear')\n",
    "xig, yig = np.meshgrid(xi, yi)\n",
    "\n",
    "# DEFINE COLOR FORMAT AND LIMITS\n",
    "cmap = mpl.cm.jet\n",
    "norm = mpl.colors.Normalize(vmin=4,vmax=5)\n",
    "\n",
    "# CREATE PLOTS AND COLOR BAR\n",
    "surf = ax.plot_surface(xig, yig, zi,cmap=cmap,norm=norm,edgecolors='grey',linewidth=0.25)\n",
    "fig.colorbar(mpl.cm.ScalarMappable(norm=norm, cmap=cmap),label=\"RREV_threshold\")\n",
    "\n",
    "# PLOT LIMITS AND INFO\n",
    "ax.set_xlim(0,2.75)\n",
    "ax.set_ylim(1.0,4.5)\n",
    "ax.set_zlim(3,6)\n",
    "\n",
    "ax.set_xlabel('vx_d')\n",
    "ax.set_ylabel('vz_d')\n",
    "ax.set_zlabel('RREV_threshold')\n",
    "\n",
    "ax.set_title('Avg RREV_thr vs IC')\n",
    "plt.show()"
   ]
  },
  {
   "source": [
    "# Rotation Time Data"
   ],
   "cell_type": "markdown",
   "metadata": {}
  },
  {
   "cell_type": "code",
   "execution_count": 38,
   "metadata": {},
   "outputs": [
    {
     "output_type": "display_data",
     "data": {
      "text/plain": "Canvas(toolbar=Toolbar(toolitems=[('Home', 'Reset original view', 'home', 'home'), ('Back', 'Back to previous …",
      "application/vnd.jupyter.widget-view+json": {
       "version_major": 2,
       "version_minor": 0,
       "model_id": "45cf537071284b52b9043259b1686930"
      }
     },
     "metadata": {}
    }
   ],
   "source": [
    "fig = plt.figure()\n",
    "ax = fig.add_subplot(111,projection=\"3d\")\n",
    "\n",
    "# CLEAN DATA\n",
    "df_temp = df\n",
    "\n",
    "# DEFINE VARIABLES\n",
    "X = df_temp['RREV_threshold']\n",
    "Y = df_temp['OF_y']\n",
    "Z = df_temp['impact_tdelta']\n",
    "C = df_temp['landing_rate']\n",
    "\n",
    "\n",
    "# CREATE PLOTS AND COLOR BAR\n",
    "ax.scatter(X,Y,Z)\n",
    "\n",
    "cmap = mpl.cm.rainbow\n",
    "norm = mpl.colors.Normalize(vmin=0,vmax=1)\n",
    "ax.scatter(X,Y,Z,c=C,cmap=cmap,norm=norm)\n",
    "fig.colorbar(mpl.cm.ScalarMappable(norm=norm, cmap=cmap),label=\"Landing Rate\")\n",
    "\n",
    "\n",
    "\n",
    "# PLOT LIMITS AND INFO\n",
    "ax.set_xlabel('RREV')\n",
    "ax.set_ylabel('OF_y')\n",
    "ax.set_zlabel('Delta_t [s]')\n",
    "\n",
    "ax.set_title('Time Rotating vs IC (Raw Data)')\n",
    "\n",
    "ax.set_zlim(0,0.5)\n",
    "\n",
    "\n",
    "\n",
    "\n",
    "plt.show()"
   ]
  },
  {
   "source": [
    "# My_d vs IC Data"
   ],
   "cell_type": "markdown",
   "metadata": {}
  },
  {
   "cell_type": "code",
   "execution_count": 39,
   "metadata": {},
   "outputs": [
    {
     "output_type": "display_data",
     "data": {
      "text/plain": "Canvas(toolbar=Toolbar(toolitems=[('Home', 'Reset original view', 'home', 'home'), ('Back', 'Back to previous …",
      "application/vnd.jupyter.widget-view+json": {
       "version_major": 2,
       "version_minor": 0,
       "model_id": "73d72beeb187403793fa1c7258e76c9d"
      }
     },
     "metadata": {}
    }
   ],
   "source": [
    "## Define Dataframe\n",
    "\n",
    "df_temp = df.query(f\"landing_rate>={0.1}\")\n",
    "\n",
    "\n",
    "fig = plt.figure()\n",
    "ax = fig.add_subplot(111,projection=\"3d\")\n",
    "\n",
    "pcm = ax.scatter(df['vx_d'],df['vz_d'],df['My_d'])\n",
    "\n",
    "\n",
    "\n",
    "ax.set_xlabel('vx_d')\n",
    "ax.set_ylabel('vz_d')\n",
    "ax.set_zlabel('My_d [N*mm]')\n",
    "\n",
    "ax.set_title('My_d vs IC (Raw Data)')\n",
    "\n",
    "\n",
    "\n",
    "plt.show()"
   ]
  },
  {
   "source": [
    "# Impact Angle Data"
   ],
   "cell_type": "markdown",
   "metadata": {}
  },
  {
   "cell_type": "code",
   "execution_count": 40,
   "metadata": {},
   "outputs": [
    {
     "output_type": "display_data",
     "data": {
      "text/plain": "Canvas(toolbar=Toolbar(toolitems=[('Home', 'Reset original view', 'home', 'home'), ('Back', 'Back to previous …",
      "application/vnd.jupyter.widget-view+json": {
       "version_major": 2,
       "version_minor": 0,
       "model_id": "83af79e3af43491cb0631b51e46d0617"
      }
     },
     "metadata": {}
    }
   ],
   "source": [
    "fig = plt.figure()\n",
    "ax = fig.add_subplot(111,projection=\"3d\")\n",
    "\n",
    "# CLEAN DATA\n",
    "df_temp = df.query(f\"impact_eul<={-60}\")\n",
    "df_temp_avg = df_raw.groupby(['vz_d','vx_d']).agg([np.mean,np.std]).reset_index()\n",
    "\n",
    "# DEFINE VARIABLES\n",
    "X = df_temp['vx_d']\n",
    "Y = df_temp['vz_d']\n",
    "Z = -df_temp['impact_eul']\n",
    "C = df_temp['landing_rate']\n",
    "\n",
    "\n",
    "# CREATE PLOTS AND COLOR BAR\n",
    "cmap = mpl.cm.rainbow\n",
    "norm = mpl.colors.Normalize(vmin=0,vmax=1)\n",
    "ax.scatter(X,Y,Z,c=C,cmap=cmap,norm=norm)\n",
    "fig.colorbar(mpl.cm.ScalarMappable(norm=norm, cmap=cmap),label=\"Landing Rate\")\n",
    "\n",
    "\n",
    "\n",
    "# PLOT LIMITS AND INFO\n",
    "ax.set_xlabel('vx_d')\n",
    "ax.set_ylabel('vz_d')\n",
    "ax.set_zlabel('Impact Angle [deg]')\n",
    "\n",
    "ax.set_title('Impact Angle vs IC (Raw Data)')\n",
    "\n",
    "ax.set_zlim(60,180)\n",
    "ax.set_zticks([60,90,120,150,180,210])\n",
    "\n",
    "\n",
    "\n",
    "plt.show()"
   ]
  },
  {
   "cell_type": "code",
   "execution_count": 55,
   "metadata": {},
   "outputs": [
    {
     "output_type": "display_data",
     "data": {
      "text/plain": "Canvas(toolbar=Toolbar(toolitems=[('Home', 'Reset original view', 'home', 'home'), ('Back', 'Back to previous …",
      "application/vnd.jupyter.widget-view+json": {
       "version_major": 2,
       "version_minor": 0,
       "model_id": "12da25efed894418901146ad009abc7b"
      }
     },
     "metadata": {}
    }
   ],
   "source": [
    "fig = plt.figure()\n",
    "ax = fig.add_subplot(111,projection=\"3d\")\n",
    "\n",
    "# CLEAN DATA\n",
    "df_temp = df.query(f\"impact_eul<={-60}\")\n",
    "df_temp_avg = df_raw.groupby(['vz_d','vx_d']).agg([np.mean,np.std]).reset_index()\n",
    "\n",
    "# DEFINE VARIABLES\n",
    "X = df_temp_avg['vx_d']\n",
    "Y = df_temp_avg['vz_d']\n",
    "Z = -df_temp_avg['impact_eul','mean']\n",
    "\n",
    "# SOMETHING ABOUT DEFINING A GRID\n",
    "xi = np.linspace(X.min(),X.max(),(len(Z)//10))\n",
    "yi = np.linspace(Y.min(),Y.max(),(len(Z)//10))\n",
    "zi = griddata((X, Y), Z, (xi[None,:], yi[:,None]), method='linear')\n",
    "xig, yig = np.meshgrid(xi, yi)\n",
    "\n",
    "# DEFINE COLOR FORMAT AND LIMITS\n",
    "cmap = mpl.cm.jet\n",
    "norm = mpl.colors.Normalize(vmin=60,vmax=180)\n",
    "\n",
    "# CREATE PLOTS AND COLOR BAR\n",
    "surf = ax.plot_surface(xig, yig, zi,cmap=cmap,norm=norm,edgecolors='grey',linewidth=0.25)\n",
    "fig.colorbar(mpl.cm.ScalarMappable(norm=norm, cmap=cmap),label=\"Impact Angle [deg]\")\n",
    "\n",
    "# PLOT LIMITS AND INFO\n",
    "ax.set_xlabel('vx_d')\n",
    "ax.set_ylabel('vz_d')\n",
    "ax.set_zlabel('Impact Angle [deg]')\n",
    "\n",
    "ax.set_title('Avg Impact Angle vs IC')\n",
    "\n",
    "ax.set_zlim(60,180)\n",
    "ax.set_zticks([60,90,120,150,180,210])\n",
    "\n",
    "\n",
    "plt.show()"
   ]
  },
  {
   "source": [
    "# Moment vs RREV"
   ],
   "cell_type": "markdown",
   "metadata": {}
  },
  {
   "cell_type": "code",
   "execution_count": 42,
   "metadata": {},
   "outputs": [
    {
     "output_type": "display_data",
     "data": {
      "text/plain": "Canvas(toolbar=Toolbar(toolitems=[('Home', 'Reset original view', 'home', 'home'), ('Back', 'Back to previous …",
      "application/vnd.jupyter.widget-view+json": {
       "version_major": 2,
       "version_minor": 0,
       "model_id": "d0607bae4146467783558fe981948d69"
      }
     },
     "metadata": {}
    }
   ],
   "source": [
    "fig = plt.figure()\n",
    "ax = fig.add_subplot(111)\n",
    "\n",
    "# CLEAN DATA\n",
    "df_temp = df.query(f\"My_d<={7.7}\") \n",
    "\n",
    "# DEFINE VARIABLES\n",
    "X = df_temp['RREV_threshold']\n",
    "Y = df_temp['My_d']\n",
    "C = df_temp['landing_rate']\n",
    "\n",
    "\n",
    "# CREATE PLOTS AND COLOR BAR\n",
    "cmap = mpl.cm.Greys\n",
    "norm = mpl.colors.Normalize(vmin=0,vmax=1)\n",
    "ax.scatter(X,Y,c=C,cmap=cmap,norm=norm)\n",
    "fig.colorbar(mpl.cm.ScalarMappable(norm=norm, cmap=cmap),label=\"Landing Rate\")\n",
    "\n",
    "\n",
    "\n",
    "# PLOT LIMITS AND INFO\n",
    "ax.set_xlabel('RREV_threshold')\n",
    "ax.set_ylabel('My_d [N*mm]')\n",
    "ax.set_title('Policy: My_d vs RREV_thr')\n",
    "\n",
    "\n",
    "ax.grid()\n",
    "ax.set_xlim(2,7)\n",
    "ax.set_ylim(0,10)\n",
    "ax.hlines(7.77,2,7)\n",
    "ax.text(2.05,8.1,'Motors Maxed Out \\n[My_d = 7.7 N*mm]')\n",
    "\n",
    "\n",
    "\n",
    "\n",
    "plt.show()"
   ]
  },
  {
   "cell_type": "code",
   "execution_count": 43,
   "metadata": {},
   "outputs": [
    {
     "output_type": "display_data",
     "data": {
      "text/plain": "Canvas(toolbar=Toolbar(toolitems=[('Home', 'Reset original view', 'home', 'home'), ('Back', 'Back to previous …",
      "application/vnd.jupyter.widget-view+json": {
       "version_major": 2,
       "version_minor": 0,
       "model_id": "123bb92e362043dfb94c3dcc0cd611f1"
      }
     },
     "metadata": {}
    }
   ],
   "source": [
    "fig = plt.figure()\n",
    "ax = fig.add_subplot(111)\n",
    "\n",
    "# CLEAN DATA\n",
    "df_temp = df.query(f\"My_d<={7.7}\") \n",
    "\n",
    "# DEFINE VARIABLES\n",
    "X = df_temp['RREV_threshold']\n",
    "Y = df_temp['My_d']\n",
    "C = df_temp['vz_d']\n",
    "\n",
    "\n",
    "# CREATE PLOTS AND COLOR BAR\n",
    "cmap = mpl.cm.rainbow\n",
    "norm = mpl.colors.Normalize(vmin=1.5,vmax=4)\n",
    "ax.scatter(X,Y,c=C,cmap=cmap,norm=norm)\n",
    "fig.colorbar(mpl.cm.ScalarMappable(norm=norm, cmap=cmap),label=\"Vz_d\")\n",
    "\n",
    "\n",
    "\n",
    "# PLOT LIMITS AND INFO\n",
    "ax.set_xlabel('RREV_threshold')\n",
    "ax.set_ylabel('My_d [N*mm]')\n",
    "ax.set_title('Policy: My_d vs RREV_thr')\n",
    "\n",
    "\n",
    "\n",
    "\n",
    "ax.grid()\n",
    "ax.set_xlim(2,7)\n",
    "ax.set_ylim(0,10)\n",
    "ax.hlines(7.77,2,7)\n",
    "ax.text(2.05,8.1,'Motors Maxed Out \\n[My_d = 7.7 N*mm]')\n",
    "\n",
    "\n",
    "\n",
    "\n",
    "plt.show()"
   ]
  },
  {
   "source": [
    "# POLICY FITTING"
   ],
   "cell_type": "markdown",
   "metadata": {}
  },
  {
   "source": [
    "## RAW POLICY RELATION"
   ],
   "cell_type": "markdown",
   "metadata": {}
  },
  {
   "cell_type": "code",
   "execution_count": 44,
   "metadata": {},
   "outputs": [
    {
     "output_type": "display_data",
     "data": {
      "text/plain": "Canvas(toolbar=Toolbar(toolitems=[('Home', 'Reset original view', 'home', 'home'), ('Back', 'Back to previous …",
      "application/vnd.jupyter.widget-view+json": {
       "version_major": 2,
       "version_minor": 0,
       "model_id": "6d396064184b4bb8ac1a4edb7041124e"
      }
     },
     "metadata": {}
    }
   ],
   "source": [
    "fig = plt.figure()\n",
    "ax = fig.add_subplot(111,projection=\"3d\")\n",
    "\n",
    "# CLEAN DATA\n",
    "df_temp = df.query(f\"My_d<={7.7}\")\n",
    "df_temp = df_temp.query(f\"RREV_threshold>{3.5}\") # Remove outlier data\n",
    "\n",
    "\n",
    "# DEFINE VARIABLES\n",
    "X = df_temp['RREV_threshold']\n",
    "Y = df_temp['OF_y']\n",
    "Z = df_temp['My_d']\n",
    "C = df_temp['landing_rate']\n",
    "\n",
    "\n",
    "# CREATE PLOTS AND COLOR BAR\n",
    "cmap = mpl.cm.rainbow\n",
    "norm = mpl.colors.Normalize(vmin=0,vmax=1)\n",
    "ax.scatter(X,Y,Z,c=C,cmap=cmap,norm=norm)\n",
    "fig.colorbar(mpl.cm.ScalarMappable(norm=norm, cmap=cmap),label=\"Landing Rate\")\n",
    "\n",
    "\n",
    "\n",
    "# PLOT LIMITS AND INFO\n",
    "ax.set_xlim(6,2)\n",
    "ax.set_ylim(-10,0)\n",
    "ax.set_zlim(0,10)\n",
    "\n",
    "ax.set_xlabel('RREV')\n",
    "ax.set_ylabel('OF_y')\n",
    "ax.set_zlabel('My_d')\n",
    "\n",
    "ax.set_title('Raw Policy Relation')\n",
    "\n",
    "\n",
    "\n",
    "plt.show()"
   ]
  },
  {
   "cell_type": "code",
   "execution_count": 45,
   "metadata": {},
   "outputs": [
    {
     "output_type": "display_data",
     "data": {
      "text/plain": "Canvas(toolbar=Toolbar(toolitems=[('Home', 'Reset original view', 'home', 'home'), ('Back', 'Back to previous …",
      "application/vnd.jupyter.widget-view+json": {
       "version_major": 2,
       "version_minor": 0,
       "model_id": "a212e43e11b24e03b76e17fc05d3412d"
      }
     },
     "metadata": {}
    }
   ],
   "source": [
    "fig = plt.figure()\n",
    "ax = fig.add_subplot(111,projection=\"3d\")\n",
    "\n",
    "# CLEAN DATA\n",
    "df_temp = df.query(f\"My_d<={7.7}\")\n",
    "df_temp = df_temp.query(f\"RREV_threshold>{3.5}\") # Remove outlier data\n",
    "df_temp = df_temp.query(f\"landing_rate>={0.6}\")\n",
    "\n",
    "\n",
    "\n",
    "# DEFINE VARIABLES\n",
    "X = df_temp['RREV_threshold']\n",
    "Y = df_temp['OF_y']\n",
    "Z = df_temp['My_d']\n",
    "C = df_temp['landing_rate']\n",
    "\n",
    "\n",
    "# CREATE PLOTS AND COLOR BAR\n",
    "cmap = mpl.cm.rainbow\n",
    "norm = mpl.colors.Normalize(vmin=0,vmax=1)\n",
    "ax.scatter(X,Y,Z,c=C,cmap=cmap,norm=norm)\n",
    "fig.colorbar(mpl.cm.ScalarMappable(norm=norm, cmap=cmap),label=\"Landing Rate\")\n",
    "\n",
    "\n",
    "\n",
    "# PLOT LIMITS AND INFO\n",
    "ax.set_xlim(6,2)\n",
    "ax.set_ylim(-10,0)\n",
    "ax.set_zlim(0,10)\n",
    "\n",
    "ax.set_xlabel('RREV')\n",
    "ax.set_ylabel('OF_y')\n",
    "ax.set_zlabel('My_d')\n",
    "\n",
    "ax.set_title('Raw Policy Relation (LR >= 60%)')\n",
    "\n",
    "# Note: the planar look to the data\n",
    "\n",
    "plt.show()"
   ]
  },
  {
   "source": [
    "# LINEAR MODEL FIT"
   ],
   "cell_type": "markdown",
   "metadata": {}
  },
  {
   "source": [
    "## Regression with y-based loss"
   ],
   "cell_type": "markdown",
   "metadata": {}
  },
  {
   "cell_type": "code",
   "execution_count": 46,
   "metadata": {},
   "outputs": [
    {
     "output_type": "display_data",
     "data": {
      "text/plain": "Canvas(toolbar=Toolbar(toolitems=[('Home', 'Reset original view', 'home', 'home'), ('Back', 'Back to previous …",
      "application/vnd.jupyter.widget-view+json": {
       "version_major": 2,
       "version_minor": 0,
       "model_id": "3d053a62b7684b40ae60db295f5c4586"
      }
     },
     "metadata": {}
    },
    {
     "output_type": "stream",
     "name": "stdout",
     "text": [
      "Equation: My_d = -5.37 + 2.24*RREV + 0.32*OF_y \n\nR^2 = 0.124\n"
     ]
    }
   ],
   "source": [
    "fig = plt.figure()\n",
    "ax = fig.add_subplot(111,projection=\"3d\")\n",
    "\n",
    "# CLEAN DATA\n",
    "df_temp = df.query(f\"My_d<={7.7}\")\n",
    "df_temp = df_temp.query(f\"RREV_threshold>{3.5}\") # Remove outlier data\n",
    "df_reg = df_temp.query(f\"landing_rate>={0.6}\")\n",
    "df_temp = df_temp.query(f\"landing_rate>={0.6}\")\n",
    "\n",
    "\n",
    "\n",
    "# LINEAR REGRESSION\n",
    "X_reg = df_reg[['RREV_threshold','OF_y']]\n",
    "Y_reg = df_reg['My_d']\n",
    "\n",
    "ypred, intercept,coef,R2 = linreg(X_reg,Y_reg)\n",
    "print(f\"Equation: My_d = {intercept:.2f} + {coef[0]:.2f}*RREV + {coef[1]:.2f}*OF_y \\n\")\n",
    "print(f\"R^2 = {R2:.3f}\")\n",
    "\n",
    "\n",
    "# DEFINE VARIABLES\n",
    "X = df_temp['RREV_threshold']\n",
    "Y = df_temp['OF_y']\n",
    "Z = df_temp['My_d']\n",
    "C = df_temp['landing_rate']\n",
    "\n",
    "\n",
    "# CREATE PLOTS AND COLOR BAR\n",
    "cmap = mpl.cm.rainbow\n",
    "norm = mpl.colors.Normalize(vmin=0,vmax=1)\n",
    "ax.scatter(X,Y,Z,c=C,cmap=cmap,norm=norm,zorder=2)\n",
    "ax.plot_trisurf(X,Y,ypred,alpha=0.75,label='Linear_Regression',zorder=1)\n",
    "fig.colorbar(mpl.cm.ScalarMappable(norm=norm, cmap=cmap),label=\"Landing Rate\")\n",
    "\n",
    "\n",
    "# PLOT LIMITS AND INFO\n",
    "ax.set_xlim(6,2)\n",
    "ax.set_ylim(-10,0)\n",
    "ax.set_zlim(0,10)\n",
    "\n",
    "ax.set_xlabel('RREV')\n",
    "ax.set_ylabel('OF_y')\n",
    "ax.set_zlabel('My_d')\n",
    "\n",
    "ax.set_title('Raw Policy Relation \\n(Regression: LR >= 60%)')\n",
    "\n",
    "# Note: the planar look to the data\n",
    "\n",
    "plt.show()"
   ]
  },
  {
   "cell_type": "code",
   "execution_count": 47,
   "metadata": {},
   "outputs": [
    {
     "output_type": "display_data",
     "data": {
      "text/plain": "Canvas(toolbar=Toolbar(toolitems=[('Home', 'Reset original view', 'home', 'home'), ('Back', 'Back to previous …",
      "application/vnd.jupyter.widget-view+json": {
       "version_major": 2,
       "version_minor": 0,
       "model_id": "3f0a9fa747a240b0ad7db61a9c3d0f7f"
      }
     },
     "metadata": {}
    },
    {
     "output_type": "stream",
     "name": "stdout",
     "text": [
      "Equation: My_d = -5.37 + 2.24*RREV + 0.32*OF_y \n\nR^2 = 0.124\n"
     ]
    }
   ],
   "source": [
    "fig = plt.figure()\n",
    "ax = fig.add_subplot(111,projection=\"3d\")\n",
    "\n",
    "# CLEAN DATA\n",
    "df_temp = df.query(f\"My_d<={7.7}\")\n",
    "df_temp = df_temp.query(f\"RREV_threshold>{3.5}\") # Remove outlier data\n",
    "df_reg = df_temp.query(f\"landing_rate>={0.6}\")\n",
    "df_temp = df_temp.query(f\"landing_rate>={0.0}\")\n",
    "\n",
    "\n",
    "\n",
    "# LINEAR REGRESSION\n",
    "X_reg = df_reg[['RREV_threshold','OF_y']]\n",
    "Y_reg = df_reg['My_d']\n",
    "\n",
    "ypred, intercept,coef,R2 = linreg(X_reg,Y_reg)\n",
    "print(f\"Equation: My_d = {intercept:.2f} + {coef[0]:.2f}*RREV + {coef[1]:.2f}*OF_y \\n\")\n",
    "print(f\"R^2 = {R2:.3f}\")\n",
    "\n",
    "\n",
    "# DEFINE VARIABLES\n",
    "X = df_temp['RREV_threshold']\n",
    "Y = df_temp['OF_y']\n",
    "Z = df_temp['My_d']\n",
    "C = df_temp['landing_rate']\n",
    "\n",
    "\n",
    "# CREATE PLOTS AND COLOR BAR\n",
    "cmap = mpl.cm.rainbow\n",
    "norm = mpl.colors.Normalize(vmin=0,vmax=1)\n",
    "ax.scatter(X,Y,Z,c=C,cmap=cmap,norm=norm,zorder=2)\n",
    "ax.plot_trisurf(X_reg['RREV_threshold'],X_reg['OF_y'],ypred,alpha=0.75,label='Linear_Regression',zorder=1)\n",
    "fig.colorbar(mpl.cm.ScalarMappable(norm=norm, cmap=cmap),label=\"Landing Rate\")\n",
    "\n",
    "\n",
    "# PLOT LIMITS AND INFO\n",
    "ax.set_xlim(6,2)\n",
    "ax.set_ylim(-10,0)\n",
    "ax.set_zlim(0,10)\n",
    "\n",
    "ax.set_xlabel('RREV')\n",
    "ax.set_ylabel('OF_y')\n",
    "ax.set_zlabel('My_d')\n",
    "\n",
    "ax.set_title('Raw Policy Relation \\n(Regression: LR >= 60%)')\n",
    "\n",
    "# Note: the planar look to the data\n",
    "\n",
    "plt.show()"
   ]
  },
  {
   "source": [
    "## Regression with x-based loss\n"
   ],
   "cell_type": "markdown",
   "metadata": {}
  },
  {
   "cell_type": "code",
   "execution_count": 48,
   "metadata": {},
   "outputs": [
    {
     "output_type": "display_data",
     "data": {
      "text/plain": "Canvas(toolbar=Toolbar(toolitems=[('Home', 'Reset original view', 'home', 'home'), ('Back', 'Back to previous …",
      "application/vnd.jupyter.widget-view+json": {
       "version_major": 2,
       "version_minor": 0,
       "model_id": "4069da89a32b48dc8ff44ce26c5165b1"
      }
     },
     "metadata": {}
    },
    {
     "output_type": "stream",
     "name": "stdout",
     "text": [
      "Equation: RREV_threshold = 3.81 + 0.05*My_d + -0.16*OF_y \n\nR^2 = 0.618\n"
     ]
    }
   ],
   "source": [
    "fig = plt.figure()\n",
    "ax = fig.add_subplot(111,projection=\"3d\")\n",
    "\n",
    "# CLEAN DATA\n",
    "df_temp = df.query(f\"My_d<={7.7}\")\n",
    "df_temp = df_temp.query(f\"RREV_threshold>{3.5}\") # Remove outlier data\n",
    "df_reg = df_temp.query(f\"landing_rate>={0.6}\")\n",
    "df_temp = df_temp.query(f\"landing_rate>={0.6}\")\n",
    "\n",
    "\n",
    "\n",
    "# LINEAR REGRESSION\n",
    "X_reg = df_reg[['My_d','OF_y']]\n",
    "Y_reg = df_reg['RREV_threshold']\n",
    "\n",
    "ypred, intercept,coef,R2 = linreg(X_reg,Y_reg)\n",
    "print(f\"Equation: RREV_threshold = {intercept:.2f} + {coef[0]:.2f}*My_d + {coef[1]:.2f}*OF_y \\n\")\n",
    "print(f\"R^2 = {R2:.3f}\")\n",
    "\n",
    "\n",
    "# DEFINE VARIABLES\n",
    "X = df_temp['RREV_threshold']\n",
    "Y = df_temp['OF_y']\n",
    "Z = df_temp['My_d']\n",
    "C = df_temp['landing_rate']\n",
    "\n",
    "\n",
    "# CREATE PLOTS AND COLOR BAR\n",
    "cmap = mpl.cm.rainbow\n",
    "norm = mpl.colors.Normalize(vmin=0,vmax=1)\n",
    "ax.scatter(X,Y,Z,c=C,cmap=cmap,norm=norm,zorder=2)\n",
    "ax.plot_trisurf(ypred,X_reg['OF_y'],X_reg['My_d'],alpha=0.75,label='Linear_Regression',zorder=1)\n",
    "fig.colorbar(mpl.cm.ScalarMappable(norm=norm, cmap=cmap),label=\"Landing Rate\")\n",
    "\n",
    "\n",
    "# PLOT LIMITS AND INFO\n",
    "ax.set_xlim(6,2)\n",
    "ax.set_ylim(-10,0)\n",
    "ax.set_zlim(0,10)\n",
    "\n",
    "ax.set_xlabel('RREV')\n",
    "ax.set_ylabel('OF_y')\n",
    "ax.set_zlabel('My_d')\n",
    "\n",
    "ax.set_title('Raw Policy Relation \\n(Regression: LR >= 60%)')\n",
    "\n",
    "# Note: the planar look to the data\n",
    "\n",
    "plt.show()"
   ]
  },
  {
   "cell_type": "code",
   "execution_count": null,
   "metadata": {},
   "outputs": [],
   "source": []
  }
 ]
}